{
  "nbformat": 4,
  "nbformat_minor": 0,
  "metadata": {
    "accelerator": "GPU",
    "colab": {
      "name": "AlphaFold2_batch.ipynb",
      "provenance": [],
      "machine_shape": "hm",
      "gpuType": "L4",
      "include_colab_link": true
    },
    "kernelspec": {
      "name": "python3",
      "display_name": "Python 3"
    },
    "language_info": {
      "name": "python"
    }
  },
  "cells": [
    {
      "cell_type": "markdown",
      "metadata": {
        "id": "view-in-github",
        "colab_type": "text"
      },
      "source": [
        "<a href=\"https://colab.research.google.com/github/DrDiscoDao/data/blob/main/batch/AlphaFold2_batch10000.ipynb\" target=\"_parent\"><img src=\"https://colab.research.google.com/assets/colab-badge.svg\" alt=\"Open In Colab\"/></a>"
      ]
    },
    {
      "cell_type": "markdown",
      "metadata": {
        "id": "G4yBrceuFbf3"
      },
      "source": [
        "#ColabFold v1.5.5: AlphaFold2 w/ MMseqs2 BATCH\n",
        "\n",
        "<img src=\"https://raw.githubusercontent.com/sokrypton/ColabFold/main/.github/ColabFold_Marv_Logo_Small.png\" height=\"256\" align=\"right\" style=\"height:256px\">\n",
        "\n",
        "Easy to use AlphaFold2 protein structure [(Jumper et al. 2021)](https://www.nature.com/articles/s41586-021-03819-2) and complex [(Evans et al. 2021)](https://www.biorxiv.org/content/10.1101/2021.10.04.463034v1) prediction using multiple sequence alignments generated through MMseqs2. For details, refer to our manuscript:\n",
        "\n",
        "[Mirdita M, Schütze K, Moriwaki Y, Heo L, Ovchinnikov S, Steinegger M. ColabFold: Making protein folding accessible to all.\n",
        "*Nature Methods*, 2022](https://www.nature.com/articles/s41592-022-01488-1)\n",
        "\n",
        "**Usage**\n",
        "\n",
        "`input_dir` directory with only fasta files or MSAs stored in Google Drive. MSAs need to be A3M formatted and have an `.a3m` extention. For MSAs MMseqs2 will not be called.\n",
        "\n",
        "`result_dir` results will be written to the result directory in Google Drive\n",
        "\n",
        "Old versions: [v1.4](https://colab.research.google.com/github/sokrypton/ColabFold/blob/v1.4.0/batch/AlphaFold2_batch.ipynb), [v1.5.1](https://colab.research.google.com/github/sokrypton/ColabFold/blob/v1.5.1/batch/AlphaFold2_batch.ipynb), [v1.5.2](https://colab.research.google.com/github/sokrypton/ColabFold/blob/v1.5.2/batch/AlphaFold2_batch.ipynb), [v1.5.3-patch](https://colab.research.google.com/github/sokrypton/ColabFold/blob/56c72044c7d51a311ca99b953a71e552fdc042e1/batch/AlphaFold2_batch.ipynb)\n",
        "\n",
        "<strong>For more details, see <a href=\"#Instructions\">bottom</a> of the notebook and checkout the [ColabFold GitHub](https://github.com/sokrypton/ColabFold). </strong>\n",
        "\n",
        "-----------\n",
        "\n",
        "### News\n",
        "- <b><font color='green'>2023/07/31: The ColabFold MSA server is back to normal. It was using older DB (UniRef30 2202/PDB70 220313) from 27th ~8:30 AM CEST to 31st ~11:10 AM CEST.</font></b>\n",
        "- <b><font color='green'>2023/06/12: New databases! UniRef30 updated to 2023_02 and PDB to 230517. We now use PDB100 instead of PDB70 (see notes in the [main](https://colabfold.com) notebook).</font></b>\n",
        "- <b><font color='green'>2023/06/12: We introduced a new default pairing strategy: Previously, for multimer predictions with more than 2 chains, we only pair if all sequences taxonomically match (\"complete\" pairing). The new default \"greedy\" strategy pairs any taxonomically matching subsets.</font></b>"
      ]
    },
    {
      "cell_type": "code",
      "metadata": {
        "id": "AwvIWN3HDyUJ",
        "cellView": "form",
        "outputId": "ea45f24f-bd84-41c1-c119-97d11b0b74c5",
        "colab": {
          "base_uri": "https://localhost:8080/"
        }
      },
      "source": [
        "#@title Mount google drive\n",
        "from google.colab import drive\n",
        "drive.mount('/content/drive')\n",
        "from sys import version_info\n",
        "python_version = f\"{version_info.major}.{version_info.minor}\""
      ],
      "execution_count": 1,
      "outputs": [
        {
          "output_type": "stream",
          "name": "stdout",
          "text": [
            "Mounted at /content/drive\n"
          ]
        }
      ]
    },
    {
      "cell_type": "code",
      "metadata": {
        "id": "kOblAo-xetgx",
        "cellView": "form"
      },
      "source": [
        "#@title Input protein sequence, then hit `Runtime` -> `Run all`\n",
        "\n",
        "input_dir = '/content/drive/MyDrive/batch_sequences_10000.fasta' #@param {type:\"string\"}\n",
        "result_dir = '/content/drive/MyDrive/result_2000to10000' #@param {type:\"string\"}\n",
        "\n",
        "# number of models to use\n",
        "#@markdown ---\n",
        "#@markdown ### Advanced settings\n",
        "msa_mode = \"MMseqs2 (UniRef+Environmental)\" #@param [\"MMseqs2 (UniRef+Environmental)\", \"MMseqs2 (UniRef only)\",\"single_sequence\",\"custom\"]\n",
        "num_models = 5 #@param [1,2,3,4,5] {type:\"raw\"}\n",
        "num_recycles = 3 #@param [1,3,6,12,24,48] {type:\"raw\"}\n",
        "stop_at_score = 100 #@param {type:\"string\"}\n",
        "#@markdown - early stop computing models once score > threshold (avg. plddt for \"structures\" and ptmscore for \"complexes\")\n",
        "use_custom_msa = False\n",
        "num_relax = 0 #@param [0, 1, 5] {type:\"raw\"}\n",
        "use_amber = num_relax > 0\n",
        "relax_max_iterations = 200 #@param [0,200,2000] {type:\"raw\"}\n",
        "use_templates = False #@param {type:\"boolean\"}\n",
        "do_not_overwrite_results = True #@param {type:\"boolean\"}\n",
        "zip_results = False #@param {type:\"boolean\"}\n"
      ],
      "execution_count": 2,
      "outputs": []
    },
    {
      "cell_type": "code",
      "metadata": {
        "id": "iccGdbe_Pmt9",
        "cellView": "form",
        "outputId": "ef9895ea-a10f-4244-aca0-02803ac7f1c6",
        "colab": {
          "base_uri": "https://localhost:8080/"
        }
      },
      "source": [
        "#@title Install dependencies\n",
        "%%bash -s $use_amber $use_templates $python_version\n",
        "\n",
        "set -e\n",
        "\n",
        "USE_AMBER=$1\n",
        "USE_TEMPLATES=$2\n",
        "PYTHON_VERSION=$3\n",
        "\n",
        "if [ ! -f COLABFOLD_READY ]; then\n",
        "  # install dependencies\n",
        "  # We have to use \"--no-warn-conflicts\" because colab already has a lot preinstalled with requirements different to ours\n",
        "  pip install -q --no-warn-conflicts \"colabfold[alphafold-minus-jax] @ git+https://github.com/sokrypton/ColabFold\"\n",
        "  if [ -n \"${TPU_NAME}\" ]; then\n",
        "    pip install -q --no-warn-conflicts -U dm-haiku==0.0.10 jax==0.3.25\n",
        "  fi\n",
        "  ln -s /usr/local/lib/python3.*/dist-packages/colabfold colabfold\n",
        "  ln -s /usr/local/lib/python3.*/dist-packages/alphafold alphafold\n",
        "  touch COLABFOLD_READY\n",
        "fi\n",
        "\n",
        "# Download params (~1min)\n",
        "python -m colabfold.download\n",
        "\n",
        "# setup conda\n",
        "if [ ${USE_AMBER} == \"True\" ] || [ ${USE_TEMPLATES} == \"True\" ]; then\n",
        "  if [ ! -f CONDA_READY ]; then\n",
        "    wget -qnc https://repo.anaconda.com/miniconda/Miniconda3-latest-Linux-x86_64.sh\n",
        "    bash Miniconda3-latest-Linux-x86_64.sh -bfp /usr/local 2>&1 1>/dev/null\n",
        "    rm Miniconda3-latest-Linux-x86_64.sh\n",
        "    conda config --set auto_update_conda false\n",
        "    touch CONDA_READY\n",
        "  fi\n",
        "fi\n",
        "# setup template search\n",
        "if [ ${USE_TEMPLATES} == \"True\" ] && [ ! -f HH_READY ]; then\n",
        "  conda install -y -q -c conda-forge -c bioconda kalign2=2.04 hhsuite=3.3.0 python=\"${PYTHON_VERSION}\" 2>&1 1>/dev/null\n",
        "  touch HH_READY\n",
        "fi\n",
        "# setup openmm for amber refinement\n",
        "if [ ${USE_AMBER} == \"True\" ] && [ ! -f AMBER_READY ]; then\n",
        "  conda install -y -q -c conda-forge openmm=8.2.0 python=\"${PYTHON_VERSION}\" pdbfixer 2>&1 1>/dev/null\n",
        "  touch AMBER_READY\n",
        "fi"
      ],
      "execution_count": 3,
      "outputs": [
        {
          "output_type": "stream",
          "name": "stdout",
          "text": [
            "   ━━━━━━━━━━━━━━━━━━━━━━━━━━━━━━━━━━━━━━━━ 242.2/242.2 kB 20.2 MB/s eta 0:00:00\n",
            "   ━━━━━━━━━━━━━━━━━━━━━━━━━━━━━━━━━━━━━━━━ 3.3/3.3 MB 104.3 MB/s eta 0:00:00\n",
            "   ━━━━━━━━━━━━━━━━━━━━━━━━━━━━━━━━━━━━━━━━ 373.9/373.9 kB 30.8 MB/s eta 0:00:00\n",
            "   ━━━━━━━━━━━━━━━━━━━━━━━━━━━━━━━━━━━━━━━━ 251.8/251.8 MB 5.3 MB/s eta 0:00:00\n",
            "   ━━━━━━━━━━━━━━━━━━━━━━━━━━━━━━━━━━━━━━━━ 4.7/4.7 MB 104.8 MB/s eta 0:00:00\n",
            "   ━━━━━━━━━━━━━━━━━━━━━━━━━━━━━━━━━━━━━━━━ 5.5/5.5 MB 106.9 MB/s eta 0:00:00\n",
            "   ━━━━━━━━━━━━━━━━━━━━━━━━━━━━━━━━━━━━━━━━ 76.5/76.5 kB 6.7 MB/s eta 0:00:00\n"
          ]
        },
        {
          "output_type": "stream",
          "name": "stderr",
          "text": [
            "\rDownloading alphafold2_multimer_v3 weights to /root/.cache/colabfold:   0%|          | 0/4099624960 [00:00<?, ?it/s]\rDownloading alphafold2_multimer_v3 weights to /root/.cache/colabfold:   0%|          | 50.0k/3.82G [00:00<4:24:14, 259kB/s]\rDownloading alphafold2_multimer_v3 weights to /root/.cache/colabfold:   0%|          | 80.0k/3.82G [00:00<5:20:43, 213kB/s]\rDownloading alphafold2_multimer_v3 weights to /root/.cache/colabfold:   0%|          | 160k/3.82G [00:00<2:56:57, 386kB/s] \rDownloading alphafold2_multimer_v3 weights to /root/.cache/colabfold:   0%|          | 240k/3.82G [00:00<2:20:03, 488kB/s]\rDownloading alphafold2_multimer_v3 weights to /root/.cache/colabfold:   0%|          | 370k/3.82G [00:00<1:35:38, 714kB/s]\rDownloading alphafold2_multimer_v3 weights to /root/.cache/colabfold:   0%|          | 560k/3.82G [00:00<1:04:08, 1.07MB/s]\rDownloading alphafold2_multimer_v3 weights to /root/.cache/colabfold:   0%|          | 820k/3.82G [00:00<44:50, 1.52MB/s]  \rDownloading alphafold2_multimer_v3 weights to /root/.cache/colabfold:   0%|          | 1.22M/3.82G [00:01<28:59, 2.36MB/s]\rDownloading alphafold2_multimer_v3 weights to /root/.cache/colabfold:   0%|          | 1.85M/3.82G [00:01<19:07, 3.57MB/s]\rDownloading alphafold2_multimer_v3 weights to /root/.cache/colabfold:   0%|          | 2.86M/3.82G [00:01<12:05, 5.64MB/s]\rDownloading alphafold2_multimer_v3 weights to /root/.cache/colabfold:   0%|          | 4.38M/3.82G [00:01<07:53, 8.65MB/s]\rDownloading alphafold2_multimer_v3 weights to /root/.cache/colabfold:   0%|          | 6.83M/3.82G [00:01<04:58, 13.7MB/s]\rDownloading alphafold2_multimer_v3 weights to /root/.cache/colabfold:   0%|          | 8.93M/3.82G [00:01<04:12, 16.2MB/s]\rDownloading alphafold2_multimer_v3 weights to /root/.cache/colabfold:   0%|          | 11.5M/3.82G [00:01<03:29, 19.5MB/s]\rDownloading alphafold2_multimer_v3 weights to /root/.cache/colabfold:   0%|          | 13.8M/3.82G [00:01<03:19, 20.5MB/s]\rDownloading alphafold2_multimer_v3 weights to /root/.cache/colabfold:   0%|          | 16.2M/3.82G [00:01<03:12, 21.3MB/s]\rDownloading alphafold2_multimer_v3 weights to /root/.cache/colabfold:   0%|          | 18.9M/3.82G [00:01<02:55, 23.3MB/s]\rDownloading alphafold2_multimer_v3 weights to /root/.cache/colabfold:   1%|          | 21.1M/3.82G [00:02<02:57, 23.0MB/s]\rDownloading alphafold2_multimer_v3 weights to /root/.cache/colabfold:   1%|          | 23.5M/3.82G [00:02<02:57, 23.0MB/s]\rDownloading alphafold2_multimer_v3 weights to /root/.cache/colabfold:   1%|          | 26.2M/3.82G [00:02<02:47, 24.4MB/s]\rDownloading alphafold2_multimer_v3 weights to /root/.cache/colabfold:   1%|          | 28.5M/3.82G [00:02<02:49, 24.1MB/s]\rDownloading alphafold2_multimer_v3 weights to /root/.cache/colabfold:   1%|          | 30.8M/3.82G [00:02<02:53, 23.4MB/s]\rDownloading alphafold2_multimer_v3 weights to /root/.cache/colabfold:   1%|          | 33.5M/3.82G [00:02<02:44, 24.7MB/s]\rDownloading alphafold2_multimer_v3 weights to /root/.cache/colabfold:   1%|          | 35.9M/3.82G [00:02<02:46, 24.3MB/s]\rDownloading alphafold2_multimer_v3 weights to /root/.cache/colabfold:   1%|          | 38.2M/3.82G [00:02<02:51, 23.7MB/s]\rDownloading alphafold2_multimer_v3 weights to /root/.cache/colabfold:   1%|          | 40.9M/3.82G [00:02<02:42, 24.9MB/s]\rDownloading alphafold2_multimer_v3 weights to /root/.cache/colabfold:   1%|          | 43.3M/3.82G [00:02<02:45, 24.4MB/s]\rDownloading alphafold2_multimer_v3 weights to /root/.cache/colabfold:   1%|          | 45.6M/3.82G [00:03<02:49, 23.9MB/s]\rDownloading alphafold2_multimer_v3 weights to /root/.cache/colabfold:   1%|          | 48.3M/3.82G [00:03<02:50, 23.7MB/s]\rDownloading alphafold2_multimer_v3 weights to /root/.cache/colabfold:   1%|▏         | 51.0M/3.82G [00:03<02:41, 25.1MB/s]\rDownloading alphafold2_multimer_v3 weights to /root/.cache/colabfold:   1%|▏         | 53.4M/3.82G [00:03<02:47, 24.2MB/s]\rDownloading alphafold2_multimer_v3 weights to /root/.cache/colabfold:   1%|▏         | 55.7M/3.82G [00:03<02:48, 24.0MB/s]\rDownloading alphafold2_multimer_v3 weights to /root/.cache/colabfold:   1%|▏         | 58.4M/3.82G [00:03<02:44, 24.5MB/s]\rDownloading alphafold2_multimer_v3 weights to /root/.cache/colabfold:   2%|▏         | 60.8M/3.82G [00:03<02:46, 24.3MB/s]\rDownloading alphafold2_multimer_v3 weights to /root/.cache/colabfold:   2%|▏         | 63.1M/3.82G [00:03<02:47, 24.0MB/s]\rDownloading alphafold2_multimer_v3 weights to /root/.cache/colabfold:   2%|▏         | 65.7M/3.82G [00:03<02:44, 24.5MB/s]\rDownloading alphafold2_multimer_v3 weights to /root/.cache/colabfold:   2%|▏         | 68.0M/3.82G [00:04<02:45, 24.3MB/s]\rDownloading alphafold2_multimer_v3 weights to /root/.cache/colabfold:   2%|▏         | 70.4M/3.82G [00:04<02:47, 24.0MB/s]\rDownloading alphafold2_multimer_v3 weights to /root/.cache/colabfold:   2%|▏         | 73.0M/3.82G [00:04<02:43, 24.6MB/s]\rDownloading alphafold2_multimer_v3 weights to /root/.cache/colabfold:   2%|▏         | 75.3M/3.82G [00:04<02:45, 24.3MB/s]\rDownloading alphafold2_multimer_v3 weights to /root/.cache/colabfold:   2%|▏         | 77.7M/3.82G [00:04<02:48, 23.9MB/s]\rDownloading alphafold2_multimer_v3 weights to /root/.cache/colabfold:   2%|▏         | 80.3M/3.82G [00:04<02:43, 24.6MB/s]\rDownloading alphafold2_multimer_v3 weights to /root/.cache/colabfold:   2%|▏         | 82.6M/3.82G [00:04<02:45, 24.3MB/s]\rDownloading alphafold2_multimer_v3 weights to /root/.cache/colabfold:   2%|▏         | 85.0M/3.82G [00:04<02:47, 23.9MB/s]\rDownloading alphafold2_multimer_v3 weights to /root/.cache/colabfold:   2%|▏         | 87.6M/3.82G [00:04<02:42, 24.6MB/s]\rDownloading alphafold2_multimer_v3 weights to /root/.cache/colabfold:   2%|▏         | 89.9M/3.82G [00:05<02:44, 24.3MB/s]\rDownloading alphafold2_multimer_v3 weights to /root/.cache/colabfold:   2%|▏         | 92.3M/3.82G [00:05<02:47, 23.9MB/s]\rDownloading alphafold2_multimer_v3 weights to /root/.cache/colabfold:   2%|▏         | 94.9M/3.82G [00:05<02:42, 24.6MB/s]\rDownloading alphafold2_multimer_v3 weights to /root/.cache/colabfold:   2%|▏         | 97.2M/3.82G [00:05<02:44, 24.3MB/s]\rDownloading alphafold2_multimer_v3 weights to /root/.cache/colabfold:   3%|▎         | 99.6M/3.82G [00:05<02:54, 22.9MB/s]\rDownloading alphafold2_multimer_v3 weights to /root/.cache/colabfold:   3%|▎         | 102M/3.82G [00:05<03:14, 20.5MB/s] \rDownloading alphafold2_multimer_v3 weights to /root/.cache/colabfold:   3%|▎         | 104M/3.82G [00:05<03:15, 20.4MB/s]\rDownloading alphafold2_multimer_v3 weights to /root/.cache/colabfold:   3%|▎         | 108M/3.82G [00:05<03:03, 21.8MB/s]\rDownloading alphafold2_multimer_v3 weights to /root/.cache/colabfold:   3%|▎         | 112M/3.82G [00:06<02:56, 22.6MB/s]\rDownloading alphafold2_multimer_v3 weights to /root/.cache/colabfold:   3%|▎         | 115M/3.82G [00:06<02:52, 23.1MB/s]\rDownloading alphafold2_multimer_v3 weights to /root/.cache/colabfold:   3%|▎         | 119M/3.82G [00:06<02:49, 23.5MB/s]\rDownloading alphafold2_multimer_v3 weights to /root/.cache/colabfold:   3%|▎         | 121M/3.82G [00:06<03:15, 20.3MB/s]\rDownloading alphafold2_multimer_v3 weights to /root/.cache/colabfold:   3%|▎         | 123M/3.82G [00:06<03:37, 18.2MB/s]\rDownloading alphafold2_multimer_v3 weights to /root/.cache/colabfold:   3%|▎         | 125M/3.82G [00:06<03:56, 16.8MB/s]\rDownloading alphafold2_multimer_v3 weights to /root/.cache/colabfold:   3%|▎         | 129M/3.82G [00:06<03:26, 19.2MB/s]\rDownloading alphafold2_multimer_v3 weights to /root/.cache/colabfold:   3%|▎         | 133M/3.82G [00:07<03:10, 20.8MB/s]\rDownloading alphafold2_multimer_v3 weights to /root/.cache/colabfold:   3%|▎         | 136M/3.82G [00:07<03:01, 21.8MB/s]\rDownloading alphafold2_multimer_v3 weights to /root/.cache/colabfold:   4%|▎         | 140M/3.82G [00:07<02:55, 22.5MB/s]\rDownloading alphafold2_multimer_v3 weights to /root/.cache/colabfold:   4%|▎         | 144M/3.82G [00:07<02:51, 23.0MB/s]\rDownloading alphafold2_multimer_v3 weights to /root/.cache/colabfold:   4%|▍         | 147M/3.82G [00:07<02:48, 23.4MB/s]\rDownloading alphafold2_multimer_v3 weights to /root/.cache/colabfold:   4%|▍         | 151M/3.82G [00:07<02:46, 23.7MB/s]\rDownloading alphafold2_multimer_v3 weights to /root/.cache/colabfold:   4%|▍         | 154M/3.82G [00:08<02:45, 23.8MB/s]\rDownloading alphafold2_multimer_v3 weights to /root/.cache/colabfold:   4%|▍         | 158M/3.82G [00:08<02:44, 24.0MB/s]\rDownloading alphafold2_multimer_v3 weights to /root/.cache/colabfold:   4%|▍         | 162M/3.82G [00:08<02:43, 24.1MB/s]\rDownloading alphafold2_multimer_v3 weights to /root/.cache/colabfold:   4%|▍         | 165M/3.82G [00:08<02:42, 24.2MB/s]\rDownloading alphafold2_multimer_v3 weights to /root/.cache/colabfold:   4%|▍         | 169M/3.82G [00:08<02:42, 24.2MB/s]\rDownloading alphafold2_multimer_v3 weights to /root/.cache/colabfold:   4%|▍         | 173M/3.82G [00:08<02:41, 24.2MB/s]\rDownloading alphafold2_multimer_v3 weights to /root/.cache/colabfold:   5%|▍         | 176M/3.82G [00:09<02:41, 24.2MB/s]\rDownloading alphafold2_multimer_v3 weights to /root/.cache/colabfold:   5%|▍         | 180M/3.82G [00:09<02:41, 24.2MB/s]\rDownloading alphafold2_multimer_v3 weights to /root/.cache/colabfold:   5%|▍         | 184M/3.82G [00:09<02:41, 24.2MB/s]\rDownloading alphafold2_multimer_v3 weights to /root/.cache/colabfold:   5%|▍         | 187M/3.82G [00:09<02:41, 24.2MB/s]\rDownloading alphafold2_multimer_v3 weights to /root/.cache/colabfold:   5%|▍         | 191M/3.82G [00:09<02:40, 24.2MB/s]\rDownloading alphafold2_multimer_v3 weights to /root/.cache/colabfold:   5%|▍         | 195M/3.82G [00:09<02:40, 24.3MB/s]\rDownloading alphafold2_multimer_v3 weights to /root/.cache/colabfold:   5%|▌         | 198M/3.82G [00:09<02:40, 24.2MB/s]\rDownloading alphafold2_multimer_v3 weights to /root/.cache/colabfold:   5%|▌         | 202M/3.82G [00:10<02:40, 24.3MB/s]\rDownloading alphafold2_multimer_v3 weights to /root/.cache/colabfold:   5%|▌         | 206M/3.82G [00:10<02:40, 24.2MB/s]\rDownloading alphafold2_multimer_v3 weights to /root/.cache/colabfold:   5%|▌         | 209M/3.82G [00:10<02:40, 24.2MB/s]\rDownloading alphafold2_multimer_v3 weights to /root/.cache/colabfold:   5%|▌         | 213M/3.82G [00:10<02:40, 24.2MB/s]\rDownloading alphafold2_multimer_v3 weights to /root/.cache/colabfold:   6%|▌         | 216M/3.82G [00:10<02:40, 24.2MB/s]\rDownloading alphafold2_multimer_v3 weights to /root/.cache/colabfold:   6%|▌         | 220M/3.82G [00:10<02:39, 24.2MB/s]\rDownloading alphafold2_multimer_v3 weights to /root/.cache/colabfold:   6%|▌         | 224M/3.82G [00:11<02:46, 23.2MB/s]\rDownloading alphafold2_multimer_v3 weights to /root/.cache/colabfold:   6%|▌         | 227M/3.82G [00:11<02:49, 22.8MB/s]\rDownloading alphafold2_multimer_v3 weights to /root/.cache/colabfold:   6%|▌         | 231M/3.82G [00:11<02:46, 23.2MB/s]\rDownloading alphafold2_multimer_v3 weights to /root/.cache/colabfold:   6%|▌         | 234M/3.82G [00:11<02:43, 23.5MB/s]\rDownloading alphafold2_multimer_v3 weights to /root/.cache/colabfold:   6%|▌         | 238M/3.82G [00:11<02:42, 23.8MB/s]\rDownloading alphafold2_multimer_v3 weights to /root/.cache/colabfold:   6%|▌         | 242M/3.82G [00:11<02:41, 23.9MB/s]\rDownloading alphafold2_multimer_v3 weights to /root/.cache/colabfold:   6%|▋         | 245M/3.82G [00:12<02:40, 24.0MB/s]\rDownloading alphafold2_multimer_v3 weights to /root/.cache/colabfold:   6%|▋         | 249M/3.82G [00:12<02:39, 24.0MB/s]\rDownloading alphafold2_multimer_v3 weights to /root/.cache/colabfold:   6%|▋         | 253M/3.82G [00:12<02:38, 24.1MB/s]\rDownloading alphafold2_multimer_v3 weights to /root/.cache/colabfold:   7%|▋         | 256M/3.82G [00:12<02:38, 24.2MB/s]\rDownloading alphafold2_multimer_v3 weights to /root/.cache/colabfold:   7%|▋         | 260M/3.82G [00:12<02:38, 24.2MB/s]\rDownloading alphafold2_multimer_v3 weights to /root/.cache/colabfold:   7%|▋         | 263M/3.82G [00:12<02:37, 24.2MB/s]\rDownloading alphafold2_multimer_v3 weights to /root/.cache/colabfold:   7%|▋         | 267M/3.82G [00:13<02:37, 24.2MB/s]\rDownloading alphafold2_multimer_v3 weights to /root/.cache/colabfold:   7%|▋         | 271M/3.82G [00:13<02:37, 24.2MB/s]\rDownloading alphafold2_multimer_v3 weights to /root/.cache/colabfold:   7%|▋         | 274M/3.82G [00:13<02:37, 24.2MB/s]\rDownloading alphafold2_multimer_v3 weights to /root/.cache/colabfold:   7%|▋         | 278M/3.82G [00:13<02:37, 24.2MB/s]\rDownloading alphafold2_multimer_v3 weights to /root/.cache/colabfold:   7%|▋         | 282M/3.82G [00:13<02:37, 24.2MB/s]\rDownloading alphafold2_multimer_v3 weights to /root/.cache/colabfold:   7%|▋         | 285M/3.82G [00:13<02:36, 24.2MB/s]\rDownloading alphafold2_multimer_v3 weights to /root/.cache/colabfold:   7%|▋         | 289M/3.82G [00:13<02:36, 24.2MB/s]\rDownloading alphafold2_multimer_v3 weights to /root/.cache/colabfold:   7%|▋         | 293M/3.82G [00:14<02:36, 24.2MB/s]\rDownloading alphafold2_multimer_v3 weights to /root/.cache/colabfold:   8%|▊         | 296M/3.82G [00:14<02:36, 24.3MB/s]\rDownloading alphafold2_multimer_v3 weights to /root/.cache/colabfold:   8%|▊         | 300M/3.82G [00:14<02:36, 24.2MB/s]\rDownloading alphafold2_multimer_v3 weights to /root/.cache/colabfold:   8%|▊         | 304M/3.82G [00:14<02:35, 24.3MB/s]\rDownloading alphafold2_multimer_v3 weights to /root/.cache/colabfold:   8%|▊         | 307M/3.82G [00:14<02:35, 24.2MB/s]\rDownloading alphafold2_multimer_v3 weights to /root/.cache/colabfold:   8%|▊         | 311M/3.82G [00:14<02:35, 24.3MB/s]\rDownloading alphafold2_multimer_v3 weights to /root/.cache/colabfold:   8%|▊         | 314M/3.82G [00:15<02:35, 24.3MB/s]\rDownloading alphafold2_multimer_v3 weights to /root/.cache/colabfold:   8%|▊         | 318M/3.82G [00:15<02:35, 24.3MB/s]\rDownloading alphafold2_multimer_v3 weights to /root/.cache/colabfold:   8%|▊         | 322M/3.82G [00:15<02:35, 24.2MB/s]\rDownloading alphafold2_multimer_v3 weights to /root/.cache/colabfold:   8%|▊         | 325M/3.82G [00:15<02:35, 24.2MB/s]\rDownloading alphafold2_multimer_v3 weights to /root/.cache/colabfold:   8%|▊         | 329M/3.82G [00:15<02:34, 24.2MB/s]\rDownloading alphafold2_multimer_v3 weights to /root/.cache/colabfold:   9%|▊         | 333M/3.82G [00:15<02:34, 24.3MB/s]\rDownloading alphafold2_multimer_v3 weights to /root/.cache/colabfold:   9%|▊         | 336M/3.82G [00:16<02:34, 24.2MB/s]\rDownloading alphafold2_multimer_v3 weights to /root/.cache/colabfold:   9%|▊         | 340M/3.82G [00:16<02:42, 23.0MB/s]\rDownloading alphafold2_multimer_v3 weights to /root/.cache/colabfold:   9%|▉         | 342M/3.82G [00:16<03:02, 20.5MB/s]\rDownloading alphafold2_multimer_v3 weights to /root/.cache/colabfold:   9%|▉         | 344M/3.82G [00:16<03:23, 18.4MB/s]\rDownloading alphafold2_multimer_v3 weights to /root/.cache/colabfold:   9%|▉         | 348M/3.82G [00:16<03:07, 19.9MB/s]\rDownloading alphafold2_multimer_v3 weights to /root/.cache/colabfold:   9%|▉         | 351M/3.82G [00:16<02:56, 21.2MB/s]\rDownloading alphafold2_multimer_v3 weights to /root/.cache/colabfold:   9%|▉         | 355M/3.82G [00:16<02:48, 22.1MB/s]\rDownloading alphafold2_multimer_v3 weights to /root/.cache/colabfold:   9%|▉         | 359M/3.82G [00:17<02:43, 22.7MB/s]\rDownloading alphafold2_multimer_v3 weights to /root/.cache/colabfold:   9%|▉         | 362M/3.82G [00:17<02:40, 23.2MB/s]\rDownloading alphafold2_multimer_v3 weights to /root/.cache/colabfold:   9%|▉         | 366M/3.82G [00:17<02:38, 23.5MB/s]\rDownloading alphafold2_multimer_v3 weights to /root/.cache/colabfold:   9%|▉         | 369M/3.82G [00:17<02:36, 23.7MB/s]\rDownloading alphafold2_multimer_v3 weights to /root/.cache/colabfold:  10%|▉         | 373M/3.82G [00:17<02:35, 23.9MB/s]\rDownloading alphafold2_multimer_v3 weights to /root/.cache/colabfold:  10%|▉         | 377M/3.82G [00:17<02:34, 24.0MB/s]\rDownloading alphafold2_multimer_v3 weights to /root/.cache/colabfold:  10%|▉         | 380M/3.82G [00:18<02:33, 24.1MB/s]\rDownloading alphafold2_multimer_v3 weights to /root/.cache/colabfold:  10%|▉         | 384M/3.82G [00:18<02:33, 24.1MB/s]\rDownloading alphafold2_multimer_v3 weights to /root/.cache/colabfold:  10%|▉         | 388M/3.82G [00:18<02:32, 24.2MB/s]\rDownloading alphafold2_multimer_v3 weights to /root/.cache/colabfold:  10%|█         | 391M/3.82G [00:18<02:32, 24.2MB/s]\rDownloading alphafold2_multimer_v3 weights to /root/.cache/colabfold:  10%|█         | 395M/3.82G [00:18<02:32, 24.2MB/s]\rDownloading alphafold2_multimer_v3 weights to /root/.cache/colabfold:  10%|█         | 399M/3.82G [00:18<02:32, 24.2MB/s]\rDownloading alphafold2_multimer_v3 weights to /root/.cache/colabfold:  10%|█         | 402M/3.82G [00:19<02:31, 24.3MB/s]\rDownloading alphafold2_multimer_v3 weights to /root/.cache/colabfold:  10%|█         | 406M/3.82G [00:19<02:31, 24.2MB/s]\rDownloading alphafold2_multimer_v3 weights to /root/.cache/colabfold:  10%|█         | 409M/3.82G [00:19<02:31, 24.2MB/s]\rDownloading alphafold2_multimer_v3 weights to /root/.cache/colabfold:  11%|█         | 413M/3.82G [00:19<02:31, 24.2MB/s]\rDownloading alphafold2_multimer_v3 weights to /root/.cache/colabfold:  11%|█         | 417M/3.82G [00:19<02:30, 24.3MB/s]\rDownloading alphafold2_multimer_v3 weights to /root/.cache/colabfold:  11%|█         | 420M/3.82G [00:19<02:31, 24.2MB/s]\rDownloading alphafold2_multimer_v3 weights to /root/.cache/colabfold:  11%|█         | 424M/3.82G [00:19<02:30, 24.2MB/s]\rDownloading alphafold2_multimer_v3 weights to /root/.cache/colabfold:  11%|█         | 428M/3.82G [00:20<02:30, 24.2MB/s]\rDownloading alphafold2_multimer_v3 weights to /root/.cache/colabfold:  11%|█         | 431M/3.82G [00:20<02:30, 24.3MB/s]\rDownloading alphafold2_multimer_v3 weights to /root/.cache/colabfold:  11%|█         | 435M/3.82G [00:20<02:30, 24.2MB/s]\rDownloading alphafold2_multimer_v3 weights to /root/.cache/colabfold:  11%|█         | 439M/3.82G [00:20<02:30, 24.2MB/s]\rDownloading alphafold2_multimer_v3 weights to /root/.cache/colabfold:  11%|█▏        | 442M/3.82G [00:20<02:37, 23.1MB/s]\rDownloading alphafold2_multimer_v3 weights to /root/.cache/colabfold:  11%|█▏        | 445M/3.82G [00:20<02:40, 22.6MB/s]\rDownloading alphafold2_multimer_v3 weights to /root/.cache/colabfold:  11%|█▏        | 449M/3.82G [00:21<02:36, 23.1MB/s]\rDownloading alphafold2_multimer_v3 weights to /root/.cache/colabfold:  12%|█▏        | 453M/3.82G [00:21<02:34, 23.4MB/s]\rDownloading alphafold2_multimer_v3 weights to /root/.cache/colabfold:  12%|█▏        | 456M/3.82G [00:21<02:32, 23.7MB/s]\rDownloading alphafold2_multimer_v3 weights to /root/.cache/colabfold:  12%|█▏        | 460M/3.82G [00:21<02:31, 23.9MB/s]\rDownloading alphafold2_multimer_v3 weights to /root/.cache/colabfold:  12%|█▏        | 464M/3.82G [00:21<02:30, 24.0MB/s]\rDownloading alphafold2_multimer_v3 weights to /root/.cache/colabfold:  12%|█▏        | 467M/3.82G [00:21<02:30, 24.1MB/s]\rDownloading alphafold2_multimer_v3 weights to /root/.cache/colabfold:  12%|█▏        | 471M/3.82G [00:22<02:29, 24.1MB/s]\rDownloading alphafold2_multimer_v3 weights to /root/.cache/colabfold:  12%|█▏        | 475M/3.82G [00:22<02:29, 24.1MB/s]\rDownloading alphafold2_multimer_v3 weights to /root/.cache/colabfold:  12%|█▏        | 478M/3.82G [00:22<02:28, 24.2MB/s]\rDownloading alphafold2_multimer_v3 weights to /root/.cache/colabfold:  12%|█▏        | 482M/3.82G [00:22<02:28, 24.2MB/s]\rDownloading alphafold2_multimer_v3 weights to /root/.cache/colabfold:  12%|█▏        | 486M/3.82G [00:22<02:28, 24.2MB/s]\rDownloading alphafold2_multimer_v3 weights to /root/.cache/colabfold:  13%|█▎        | 489M/3.82G [00:22<02:27, 24.2MB/s]\rDownloading alphafold2_multimer_v3 weights to /root/.cache/colabfold:  13%|█▎        | 493M/3.82G [00:22<02:27, 24.3MB/s]\rDownloading alphafold2_multimer_v3 weights to /root/.cache/colabfold:  13%|█▎        | 497M/3.82G [00:23<02:27, 24.3MB/s]\rDownloading alphafold2_multimer_v3 weights to /root/.cache/colabfold:  13%|█▎        | 500M/3.82G [00:23<02:27, 24.3MB/s]\rDownloading alphafold2_multimer_v3 weights to /root/.cache/colabfold:  13%|█▎        | 504M/3.82G [00:23<02:27, 24.3MB/s]\rDownloading alphafold2_multimer_v3 weights to /root/.cache/colabfold:  13%|█▎        | 508M/3.82G [00:23<02:27, 24.2MB/s]\rDownloading alphafold2_multimer_v3 weights to /root/.cache/colabfold:  13%|█▎        | 511M/3.82G [00:23<02:26, 24.3MB/s]\rDownloading alphafold2_multimer_v3 weights to /root/.cache/colabfold:  13%|█▎        | 515M/3.82G [00:23<02:26, 24.3MB/s]\rDownloading alphafold2_multimer_v3 weights to /root/.cache/colabfold:  13%|█▎        | 519M/3.82G [00:24<02:26, 24.3MB/s]\rDownloading alphafold2_multimer_v3 weights to /root/.cache/colabfold:  13%|█▎        | 522M/3.82G [00:24<02:26, 24.3MB/s]\rDownloading alphafold2_multimer_v3 weights to /root/.cache/colabfold:  13%|█▎        | 526M/3.82G [00:24<02:26, 24.3MB/s]\rDownloading alphafold2_multimer_v3 weights to /root/.cache/colabfold:  14%|█▎        | 529M/3.82G [00:24<02:25, 24.3MB/s]\rDownloading alphafold2_multimer_v3 weights to /root/.cache/colabfold:  14%|█▎        | 533M/3.82G [00:24<02:25, 24.3MB/s]\rDownloading alphafold2_multimer_v3 weights to /root/.cache/colabfold:  14%|█▎        | 537M/3.82G [00:24<02:25, 24.3MB/s]\rDownloading alphafold2_multimer_v3 weights to /root/.cache/colabfold:  14%|█▍        | 540M/3.82G [00:25<02:25, 24.3MB/s]\rDownloading alphafold2_multimer_v3 weights to /root/.cache/colabfold:  14%|█▍        | 544M/3.82G [00:25<02:25, 24.3MB/s]\rDownloading alphafold2_multimer_v3 weights to /root/.cache/colabfold:  14%|█▍        | 548M/3.82G [00:25<02:25, 24.3MB/s]\rDownloading alphafold2_multimer_v3 weights to /root/.cache/colabfold:  14%|█▍        | 551M/3.82G [00:25<02:24, 24.3MB/s]\rDownloading alphafold2_multimer_v3 weights to /root/.cache/colabfold:  14%|█▍        | 555M/3.82G [00:25<02:24, 24.3MB/s]\rDownloading alphafold2_multimer_v3 weights to /root/.cache/colabfold:  14%|█▍        | 559M/3.82G [00:25<02:32, 23.0MB/s]\rDownloading alphafold2_multimer_v3 weights to /root/.cache/colabfold:  14%|█▍        | 561M/3.82G [00:26<02:51, 20.5MB/s]\rDownloading alphafold2_multimer_v3 weights to /root/.cache/colabfold:  14%|█▍        | 563M/3.82G [00:26<03:10, 18.4MB/s]\rDownloading alphafold2_multimer_v3 weights to /root/.cache/colabfold:  14%|█▍        | 566M/3.82G [00:26<02:55, 20.0MB/s]\rDownloading alphafold2_multimer_v3 weights to /root/.cache/colabfold:  15%|█▍        | 570M/3.82G [00:26<02:44, 21.3MB/s]\rDownloading alphafold2_multimer_v3 weights to /root/.cache/colabfold:  15%|█▍        | 574M/3.82G [00:26<02:37, 22.2MB/s]\rDownloading alphafold2_multimer_v3 weights to /root/.cache/colabfold:  15%|█▍        | 577M/3.82G [00:26<02:33, 22.8MB/s]\rDownloading alphafold2_multimer_v3 weights to /root/.cache/colabfold:  15%|█▍        | 581M/3.82G [00:26<02:30, 23.2MB/s]\rDownloading alphafold2_multimer_v3 weights to /root/.cache/colabfold:  15%|█▍        | 585M/3.82G [00:27<02:28, 23.5MB/s]\rDownloading alphafold2_multimer_v3 weights to /root/.cache/colabfold:  15%|█▌        | 588M/3.82G [00:27<02:26, 23.7MB/s]\rDownloading alphafold2_multimer_v3 weights to /root/.cache/colabfold:  15%|█▌        | 592M/3.82G [00:27<02:25, 23.9MB/s]\rDownloading alphafold2_multimer_v3 weights to /root/.cache/colabfold:  15%|█▌        | 596M/3.82G [00:27<02:24, 24.0MB/s]\rDownloading alphafold2_multimer_v3 weights to /root/.cache/colabfold:  15%|█▌        | 599M/3.82G [00:27<02:24, 24.1MB/s]\rDownloading alphafold2_multimer_v3 weights to /root/.cache/colabfold:  15%|█▌        | 603M/3.82G [00:27<02:23, 24.2MB/s]\rDownloading alphafold2_multimer_v3 weights to /root/.cache/colabfold:  16%|█▌        | 606M/3.82G [00:28<02:23, 24.2MB/s]\rDownloading alphafold2_multimer_v3 weights to /root/.cache/colabfold:  16%|█▌        | 610M/3.82G [00:28<02:22, 24.2MB/s]\rDownloading alphafold2_multimer_v3 weights to /root/.cache/colabfold:  16%|█▌        | 614M/3.82G [00:28<02:22, 24.2MB/s]\rDownloading alphafold2_multimer_v3 weights to /root/.cache/colabfold:  16%|█▌        | 617M/3.82G [00:28<02:22, 24.3MB/s]\rDownloading alphafold2_multimer_v3 weights to /root/.cache/colabfold:  16%|█▌        | 621M/3.82G [00:28<02:22, 24.2MB/s]\rDownloading alphafold2_multimer_v3 weights to /root/.cache/colabfold:  16%|█▌        | 625M/3.82G [00:28<02:22, 24.2MB/s]\rDownloading alphafold2_multimer_v3 weights to /root/.cache/colabfold:  16%|█▌        | 628M/3.82G [00:29<02:21, 24.2MB/s]\rDownloading alphafold2_multimer_v3 weights to /root/.cache/colabfold:  16%|█▌        | 632M/3.82G [00:29<02:21, 24.3MB/s]\rDownloading alphafold2_multimer_v3 weights to /root/.cache/colabfold:  16%|█▋        | 636M/3.82G [00:29<02:21, 24.2MB/s]\rDownloading alphafold2_multimer_v3 weights to /root/.cache/colabfold:  16%|█▋        | 639M/3.82G [00:29<02:21, 24.3MB/s]\rDownloading alphafold2_multimer_v3 weights to /root/.cache/colabfold:  16%|█▋        | 643M/3.82G [00:29<02:21, 24.2MB/s]\rDownloading alphafold2_multimer_v3 weights to /root/.cache/colabfold:  17%|█▋        | 647M/3.82G [00:29<02:20, 24.3MB/s]\rDownloading alphafold2_multimer_v3 weights to /root/.cache/colabfold:  17%|█▋        | 650M/3.82G [00:29<02:20, 24.3MB/s]\rDownloading alphafold2_multimer_v3 weights to /root/.cache/colabfold:  17%|█▋        | 654M/3.82G [00:30<02:20, 24.3MB/s]\rDownloading alphafold2_multimer_v3 weights to /root/.cache/colabfold:  17%|█▋        | 658M/3.82G [00:30<02:20, 24.2MB/s]\rDownloading alphafold2_multimer_v3 weights to /root/.cache/colabfold:  17%|█▋        | 661M/3.82G [00:30<02:20, 24.2MB/s]\rDownloading alphafold2_multimer_v3 weights to /root/.cache/colabfold:  17%|█▋        | 665M/3.82G [00:30<02:20, 24.2MB/s]\rDownloading alphafold2_multimer_v3 weights to /root/.cache/colabfold:  17%|█▋        | 668M/3.82G [00:30<02:19, 24.3MB/s]\rDownloading alphafold2_multimer_v3 weights to /root/.cache/colabfold:  17%|█▋        | 672M/3.82G [00:30<02:19, 24.3MB/s]\rDownloading alphafold2_multimer_v3 weights to /root/.cache/colabfold:  17%|█▋        | 676M/3.82G [00:31<02:19, 24.3MB/s]\rDownloading alphafold2_multimer_v3 weights to /root/.cache/colabfold:  17%|█▋        | 679M/3.82G [00:31<02:19, 24.3MB/s]\rDownloading alphafold2_multimer_v3 weights to /root/.cache/colabfold:  17%|█▋        | 683M/3.82G [00:31<02:19, 24.3MB/s]\rDownloading alphafold2_multimer_v3 weights to /root/.cache/colabfold:  18%|█▊        | 687M/3.82G [00:31<02:19, 24.3MB/s]\rDownloading alphafold2_multimer_v3 weights to /root/.cache/colabfold:  18%|█▊        | 690M/3.82G [00:31<02:19, 24.3MB/s]\rDownloading alphafold2_multimer_v3 weights to /root/.cache/colabfold:  18%|█▊        | 694M/3.82G [00:31<02:18, 24.3MB/s]\rDownloading alphafold2_multimer_v3 weights to /root/.cache/colabfold:  18%|█▊        | 698M/3.82G [00:31<02:18, 24.3MB/s]\rDownloading alphafold2_multimer_v3 weights to /root/.cache/colabfold:  18%|█▊        | 701M/3.82G [00:32<02:18, 24.3MB/s]\rDownloading alphafold2_multimer_v3 weights to /root/.cache/colabfold:  18%|█▊        | 705M/3.82G [00:32<02:18, 24.3MB/s]\rDownloading alphafold2_multimer_v3 weights to /root/.cache/colabfold:  18%|█▊        | 709M/3.82G [00:32<02:18, 24.3MB/s]\rDownloading alphafold2_multimer_v3 weights to /root/.cache/colabfold:  18%|█▊        | 712M/3.82G [00:32<02:24, 23.2MB/s]\rDownloading alphafold2_multimer_v3 weights to /root/.cache/colabfold:  18%|█▊        | 715M/3.82G [00:32<02:42, 20.7MB/s]\rDownloading alphafold2_multimer_v3 weights to /root/.cache/colabfold:  18%|█▊        | 717M/3.82G [00:32<03:00, 18.6MB/s]\rDownloading alphafold2_multimer_v3 weights to /root/.cache/colabfold:  18%|█▊        | 720M/3.82G [00:33<02:47, 20.0MB/s]\rDownloading alphafold2_multimer_v3 weights to /root/.cache/colabfold:  19%|█▊        | 724M/3.82G [00:33<02:37, 21.2MB/s]\rDownloading alphafold2_multimer_v3 weights to /root/.cache/colabfold:  19%|█▊        | 727M/3.82G [00:33<02:30, 22.1MB/s]\rDownloading alphafold2_multimer_v3 weights to /root/.cache/colabfold:  19%|█▊        | 731M/3.82G [00:33<02:26, 22.8MB/s]\rDownloading alphafold2_multimer_v3 weights to /root/.cache/colabfold:  19%|█▉        | 735M/3.82G [00:33<02:23, 23.2MB/s]\rDownloading alphafold2_multimer_v3 weights to /root/.cache/colabfold:  19%|█▉        | 738M/3.82G [00:33<02:21, 23.5MB/s]\rDownloading alphafold2_multimer_v3 weights to /root/.cache/colabfold:  19%|█▉        | 742M/3.82G [00:34<02:19, 23.8MB/s]\rDownloading alphafold2_multimer_v3 weights to /root/.cache/colabfold:  19%|█▉        | 745M/3.82G [00:34<02:18, 23.9MB/s]\rDownloading alphafold2_multimer_v3 weights to /root/.cache/colabfold:  19%|█▉        | 749M/3.82G [00:34<02:18, 24.0MB/s]\rDownloading alphafold2_multimer_v3 weights to /root/.cache/colabfold:  19%|█▉        | 753M/3.82G [00:34<02:17, 24.1MB/s]\rDownloading alphafold2_multimer_v3 weights to /root/.cache/colabfold:  19%|█▉        | 756M/3.82G [00:34<02:17, 24.1MB/s]\rDownloading alphafold2_multimer_v3 weights to /root/.cache/colabfold:  19%|█▉        | 760M/3.82G [00:34<02:16, 24.2MB/s]\rDownloading alphafold2_multimer_v3 weights to /root/.cache/colabfold:  20%|█▉        | 764M/3.82G [00:35<02:16, 24.2MB/s]\rDownloading alphafold2_multimer_v3 weights to /root/.cache/colabfold:  20%|█▉        | 767M/3.82G [00:35<02:15, 24.3MB/s]\rDownloading alphafold2_multimer_v3 weights to /root/.cache/colabfold:  20%|█▉        | 771M/3.82G [00:35<02:15, 24.3MB/s]\rDownloading alphafold2_multimer_v3 weights to /root/.cache/colabfold:  20%|█▉        | 775M/3.82G [00:35<02:21, 23.2MB/s]\rDownloading alphafold2_multimer_v3 weights to /root/.cache/colabfold:  20%|█▉        | 778M/3.82G [00:35<02:23, 22.8MB/s]\rDownloading alphafold2_multimer_v3 weights to /root/.cache/colabfold:  20%|█▉        | 782M/3.82G [00:35<02:20, 23.3MB/s]\rDownloading alphafold2_multimer_v3 weights to /root/.cache/colabfold:  20%|██        | 785M/3.82G [00:35<02:19, 23.5MB/s]\rDownloading alphafold2_multimer_v3 weights to /root/.cache/colabfold:  20%|██        | 789M/3.82G [00:36<02:17, 23.8MB/s]\rDownloading alphafold2_multimer_v3 weights to /root/.cache/colabfold:  20%|██        | 793M/3.82G [00:36<02:16, 23.9MB/s]\rDownloading alphafold2_multimer_v3 weights to /root/.cache/colabfold:  20%|██        | 796M/3.82G [00:36<02:15, 24.0MB/s]\rDownloading alphafold2_multimer_v3 weights to /root/.cache/colabfold:  20%|██        | 800M/3.82G [00:36<02:15, 24.1MB/s]\rDownloading alphafold2_multimer_v3 weights to /root/.cache/colabfold:  21%|██        | 803M/3.82G [00:36<02:14, 24.2MB/s]\rDownloading alphafold2_multimer_v3 weights to /root/.cache/colabfold:  21%|██        | 807M/3.82G [00:36<02:14, 24.2MB/s]\rDownloading alphafold2_multimer_v3 weights to /root/.cache/colabfold:  21%|██        | 811M/3.82G [00:37<02:14, 24.2MB/s]\rDownloading alphafold2_multimer_v3 weights to /root/.cache/colabfold:  21%|██        | 814M/3.82G [00:37<02:14, 24.2MB/s]\rDownloading alphafold2_multimer_v3 weights to /root/.cache/colabfold:  21%|██        | 818M/3.82G [00:37<02:13, 24.3MB/s]\rDownloading alphafold2_multimer_v3 weights to /root/.cache/colabfold:  21%|██        | 822M/3.82G [00:37<02:13, 24.3MB/s]\rDownloading alphafold2_multimer_v3 weights to /root/.cache/colabfold:  21%|██        | 825M/3.82G [00:37<02:13, 24.3MB/s]\rDownloading alphafold2_multimer_v3 weights to /root/.cache/colabfold:  21%|██        | 829M/3.82G [00:37<02:13, 24.3MB/s]\rDownloading alphafold2_multimer_v3 weights to /root/.cache/colabfold:  21%|██▏       | 833M/3.82G [00:38<02:12, 24.3MB/s]\rDownloading alphafold2_multimer_v3 weights to /root/.cache/colabfold:  21%|██▏       | 836M/3.82G [00:38<02:12, 24.3MB/s]\rDownloading alphafold2_multimer_v3 weights to /root/.cache/colabfold:  21%|██▏       | 840M/3.82G [00:38<02:12, 24.3MB/s]\rDownloading alphafold2_multimer_v3 weights to /root/.cache/colabfold:  22%|██▏       | 844M/3.82G [00:38<02:12, 24.3MB/s]\rDownloading alphafold2_multimer_v3 weights to /root/.cache/colabfold:  22%|██▏       | 847M/3.82G [00:38<02:12, 24.3MB/s]\rDownloading alphafold2_multimer_v3 weights to /root/.cache/colabfold:  22%|██▏       | 851M/3.82G [00:38<02:11, 24.3MB/s]\rDownloading alphafold2_multimer_v3 weights to /root/.cache/colabfold:  22%|██▏       | 855M/3.82G [00:38<02:11, 24.3MB/s]\rDownloading alphafold2_multimer_v3 weights to /root/.cache/colabfold:  22%|██▏       | 858M/3.82G [00:39<02:11, 24.3MB/s]\rDownloading alphafold2_multimer_v3 weights to /root/.cache/colabfold:  22%|██▏       | 862M/3.82G [00:39<02:11, 24.3MB/s]\rDownloading alphafold2_multimer_v3 weights to /root/.cache/colabfold:  22%|██▏       | 866M/3.82G [00:39<02:11, 24.3MB/s]\rDownloading alphafold2_multimer_v3 weights to /root/.cache/colabfold:  22%|██▏       | 869M/3.82G [00:39<02:11, 24.3MB/s]\rDownloading alphafold2_multimer_v3 weights to /root/.cache/colabfold:  22%|██▏       | 873M/3.82G [00:39<02:11, 24.2MB/s]\rDownloading alphafold2_multimer_v3 weights to /root/.cache/colabfold:  22%|██▏       | 876M/3.82G [00:39<02:11, 24.2MB/s]\rDownloading alphafold2_multimer_v3 weights to /root/.cache/colabfold:  23%|██▎       | 880M/3.82G [00:40<02:11, 24.2MB/s]\rDownloading alphafold2_multimer_v3 weights to /root/.cache/colabfold:  23%|██▎       | 884M/3.82G [00:40<02:10, 24.2MB/s]\rDownloading alphafold2_multimer_v3 weights to /root/.cache/colabfold:  23%|██▎       | 887M/3.82G [00:40<02:10, 24.3MB/s]\rDownloading alphafold2_multimer_v3 weights to /root/.cache/colabfold:  23%|██▎       | 891M/3.82G [00:40<02:10, 24.3MB/s]\rDownloading alphafold2_multimer_v3 weights to /root/.cache/colabfold:  23%|██▎       | 895M/3.82G [00:40<02:10, 24.2MB/s]\rDownloading alphafold2_multimer_v3 weights to /root/.cache/colabfold:  23%|██▎       | 898M/3.82G [00:40<02:10, 24.3MB/s]\rDownloading alphafold2_multimer_v3 weights to /root/.cache/colabfold:  23%|██▎       | 902M/3.82G [00:41<02:10, 24.2MB/s]\rDownloading alphafold2_multimer_v3 weights to /root/.cache/colabfold:  23%|██▎       | 906M/3.82G [00:41<02:10, 24.2MB/s]\rDownloading alphafold2_multimer_v3 weights to /root/.cache/colabfold:  23%|██▎       | 909M/3.82G [00:41<02:09, 24.2MB/s]\rDownloading alphafold2_multimer_v3 weights to /root/.cache/colabfold:  23%|██▎       | 913M/3.82G [00:41<02:09, 24.2MB/s]\rDownloading alphafold2_multimer_v3 weights to /root/.cache/colabfold:  23%|██▎       | 917M/3.82G [00:41<02:09, 24.2MB/s]\rDownloading alphafold2_multimer_v3 weights to /root/.cache/colabfold:  24%|██▎       | 920M/3.82G [00:41<02:09, 24.3MB/s]\rDownloading alphafold2_multimer_v3 weights to /root/.cache/colabfold:  24%|██▎       | 924M/3.82G [00:41<02:09, 24.2MB/s]\rDownloading alphafold2_multimer_v3 weights to /root/.cache/colabfold:  24%|██▎       | 928M/3.82G [00:42<02:08, 24.3MB/s]\rDownloading alphafold2_multimer_v3 weights to /root/.cache/colabfold:  24%|██▍       | 931M/3.82G [00:42<02:16, 22.9MB/s]\rDownloading alphafold2_multimer_v3 weights to /root/.cache/colabfold:  24%|██▍       | 933M/3.82G [00:42<02:32, 20.5MB/s]\rDownloading alphafold2_multimer_v3 weights to /root/.cache/colabfold:  24%|██▍       | 935M/3.82G [00:42<02:49, 18.4MB/s]\rDownloading alphafold2_multimer_v3 weights to /root/.cache/colabfold:  24%|██▍       | 939M/3.82G [00:42<02:37, 19.8MB/s]\rDownloading alphafold2_multimer_v3 weights to /root/.cache/colabfold:  24%|██▍       | 941M/3.82G [00:42<02:53, 18.0MB/s]\rDownloading alphafold2_multimer_v3 weights to /root/.cache/colabfold:  24%|██▍       | 944M/3.82G [00:43<02:43, 19.1MB/s]\rDownloading alphafold2_multimer_v3 weights to /root/.cache/colabfold:  24%|██▍       | 948M/3.82G [00:43<02:30, 20.6MB/s]\rDownloading alphafold2_multimer_v3 weights to /root/.cache/colabfold:  24%|██▍       | 951M/3.82G [00:43<02:22, 21.7MB/s]\rDownloading alphafold2_multimer_v3 weights to /root/.cache/colabfold:  24%|██▍       | 955M/3.82G [00:43<02:17, 22.5MB/s]\rDownloading alphafold2_multimer_v3 weights to /root/.cache/colabfold:  25%|██▍       | 959M/3.82G [00:43<02:14, 23.0MB/s]\rDownloading alphafold2_multimer_v3 weights to /root/.cache/colabfold:  25%|██▍       | 962M/3.82G [00:43<02:12, 23.4MB/s]\rDownloading alphafold2_multimer_v3 weights to /root/.cache/colabfold:  25%|██▍       | 966M/3.82G [00:44<02:10, 23.7MB/s]\rDownloading alphafold2_multimer_v3 weights to /root/.cache/colabfold:  25%|██▍       | 970M/3.82G [00:44<02:09, 23.8MB/s]\rDownloading alphafold2_multimer_v3 weights to /root/.cache/colabfold:  25%|██▍       | 973M/3.82G [00:44<02:08, 24.0MB/s]\rDownloading alphafold2_multimer_v3 weights to /root/.cache/colabfold:  25%|██▍       | 977M/3.82G [00:44<02:07, 24.1MB/s]\rDownloading alphafold2_multimer_v3 weights to /root/.cache/colabfold:  25%|██▌       | 981M/3.82G [00:44<02:07, 24.1MB/s]\rDownloading alphafold2_multimer_v3 weights to /root/.cache/colabfold:  25%|██▌       | 984M/3.82G [00:44<02:07, 24.2MB/s]\rDownloading alphafold2_multimer_v3 weights to /root/.cache/colabfold:  25%|██▌       | 988M/3.82G [00:44<02:06, 24.2MB/s]\rDownloading alphafold2_multimer_v3 weights to /root/.cache/colabfold:  25%|██▌       | 992M/3.82G [00:45<02:06, 24.2MB/s]\rDownloading alphafold2_multimer_v3 weights to /root/.cache/colabfold:  25%|██▌       | 995M/3.82G [00:45<02:06, 24.2MB/s]\rDownloading alphafold2_multimer_v3 weights to /root/.cache/colabfold:  26%|██▌       | 999M/3.82G [00:45<02:06, 24.2MB/s]\rDownloading alphafold2_multimer_v3 weights to /root/.cache/colabfold:  26%|██▌       | 0.98G/3.82G [00:45<02:05, 24.2MB/s]\rDownloading alphafold2_multimer_v3 weights to /root/.cache/colabfold:  26%|██▌       | 0.98G/3.82G [00:45<02:05, 24.3MB/s]\rDownloading alphafold2_multimer_v3 weights to /root/.cache/colabfold:  26%|██▌       | 0.99G/3.82G [00:45<02:05, 24.2MB/s]\rDownloading alphafold2_multimer_v3 weights to /root/.cache/colabfold:  26%|██▌       | 0.99G/3.82G [00:46<02:05, 24.3MB/s]\rDownloading alphafold2_multimer_v3 weights to /root/.cache/colabfold:  26%|██▌       | 0.99G/3.82G [00:46<02:05, 24.3MB/s]\rDownloading alphafold2_multimer_v3 weights to /root/.cache/colabfold:  26%|██▌       | 1.00G/3.82G [00:46<02:04, 24.3MB/s]\rDownloading alphafold2_multimer_v3 weights to /root/.cache/colabfold:  26%|██▌       | 1.00G/3.82G [00:46<02:04, 24.3MB/s]\rDownloading alphafold2_multimer_v3 weights to /root/.cache/colabfold:  26%|██▋       | 1.00G/3.82G [00:46<02:04, 24.2MB/s]\rDownloading alphafold2_multimer_v3 weights to /root/.cache/colabfold:  26%|██▋       | 1.01G/3.82G [00:46<02:04, 24.2MB/s]\rDownloading alphafold2_multimer_v3 weights to /root/.cache/colabfold:  26%|██▋       | 1.01G/3.82G [00:47<02:04, 24.2MB/s]\rDownloading alphafold2_multimer_v3 weights to /root/.cache/colabfold:  27%|██▋       | 1.01G/3.82G [00:47<02:04, 24.2MB/s]\rDownloading alphafold2_multimer_v3 weights to /root/.cache/colabfold:  27%|██▋       | 1.02G/3.82G [00:47<02:04, 24.2MB/s]\rDownloading alphafold2_multimer_v3 weights to /root/.cache/colabfold:  27%|██▋       | 1.02G/3.82G [00:47<02:04, 24.2MB/s]\rDownloading alphafold2_multimer_v3 weights to /root/.cache/colabfold:  27%|██▋       | 1.03G/3.82G [00:47<02:03, 24.2MB/s]\rDownloading alphafold2_multimer_v3 weights to /root/.cache/colabfold:  27%|██▋       | 1.03G/3.82G [00:47<02:03, 24.2MB/s]\rDownloading alphafold2_multimer_v3 weights to /root/.cache/colabfold:  27%|██▋       | 1.03G/3.82G [00:47<02:03, 24.2MB/s]\rDownloading alphafold2_multimer_v3 weights to /root/.cache/colabfold:  27%|██▋       | 1.04G/3.82G [00:48<02:03, 24.2MB/s]\rDownloading alphafold2_multimer_v3 weights to /root/.cache/colabfold:  27%|██▋       | 1.04G/3.82G [00:48<02:03, 24.2MB/s]\rDownloading alphafold2_multimer_v3 weights to /root/.cache/colabfold:  27%|██▋       | 1.04G/3.82G [00:48<02:03, 24.2MB/s]\rDownloading alphafold2_multimer_v3 weights to /root/.cache/colabfold:  27%|██▋       | 1.05G/3.82G [00:48<02:02, 24.2MB/s]\rDownloading alphafold2_multimer_v3 weights to /root/.cache/colabfold:  28%|██▊       | 1.05G/3.82G [00:48<02:08, 23.1MB/s]\rDownloading alphafold2_multimer_v3 weights to /root/.cache/colabfold:  28%|██▊       | 1.05G/3.82G [00:48<02:24, 20.6MB/s]\rDownloading alphafold2_multimer_v3 weights to /root/.cache/colabfold:  28%|██▊       | 1.05G/3.82G [00:49<02:40, 18.5MB/s]\rDownloading alphafold2_multimer_v3 weights to /root/.cache/colabfold:  28%|██▊       | 1.06G/3.82G [00:49<02:29, 19.9MB/s]\rDownloading alphafold2_multimer_v3 weights to /root/.cache/colabfold:  28%|██▊       | 1.06G/3.82G [00:49<02:19, 21.2MB/s]\rDownloading alphafold2_multimer_v3 weights to /root/.cache/colabfold:  28%|██▊       | 1.06G/3.82G [00:49<02:13, 22.1MB/s]\rDownloading alphafold2_multimer_v3 weights to /root/.cache/colabfold:  28%|██▊       | 1.07G/3.82G [00:49<02:09, 22.7MB/s]\rDownloading alphafold2_multimer_v3 weights to /root/.cache/colabfold:  28%|██▊       | 1.07G/3.82G [00:49<02:07, 23.2MB/s]\rDownloading alphafold2_multimer_v3 weights to /root/.cache/colabfold:  28%|██▊       | 1.08G/3.82G [00:50<02:05, 23.5MB/s]\rDownloading alphafold2_multimer_v3 weights to /root/.cache/colabfold:  28%|██▊       | 1.08G/3.82G [00:50<02:04, 23.7MB/s]\rDownloading alphafold2_multimer_v3 weights to /root/.cache/colabfold:  28%|██▊       | 1.08G/3.82G [00:50<02:03, 23.9MB/s]\rDownloading alphafold2_multimer_v3 weights to /root/.cache/colabfold:  28%|██▊       | 1.09G/3.82G [00:50<02:02, 23.9MB/s]\rDownloading alphafold2_multimer_v3 weights to /root/.cache/colabfold:  29%|██▊       | 1.09G/3.82G [00:50<02:02, 24.0MB/s]\rDownloading alphafold2_multimer_v3 weights to /root/.cache/colabfold:  29%|██▊       | 1.09G/3.82G [00:50<02:01, 24.1MB/s]\rDownloading alphafold2_multimer_v3 weights to /root/.cache/colabfold:  29%|██▊       | 1.10G/3.82G [00:51<02:01, 24.1MB/s]\rDownloading alphafold2_multimer_v3 weights to /root/.cache/colabfold:  29%|██▉       | 1.10G/3.82G [00:51<02:00, 24.1MB/s]\rDownloading alphafold2_multimer_v3 weights to /root/.cache/colabfold:  29%|██▉       | 1.10G/3.82G [00:51<02:00, 24.2MB/s]\rDownloading alphafold2_multimer_v3 weights to /root/.cache/colabfold:  29%|██▉       | 1.11G/3.82G [00:51<02:00, 24.2MB/s]\rDownloading alphafold2_multimer_v3 weights to /root/.cache/colabfold:  29%|██▉       | 1.11G/3.82G [00:51<02:00, 24.2MB/s]\rDownloading alphafold2_multimer_v3 weights to /root/.cache/colabfold:  29%|██▉       | 1.11G/3.82G [00:51<01:59, 24.2MB/s]\rDownloading alphafold2_multimer_v3 weights to /root/.cache/colabfold:  29%|██▉       | 1.12G/3.82G [00:51<01:59, 24.2MB/s]\rDownloading alphafold2_multimer_v3 weights to /root/.cache/colabfold:  29%|██▉       | 1.12G/3.82G [00:52<01:59, 24.2MB/s]\rDownloading alphafold2_multimer_v3 weights to /root/.cache/colabfold:  29%|██▉       | 1.13G/3.82G [00:52<01:59, 24.2MB/s]\rDownloading alphafold2_multimer_v3 weights to /root/.cache/colabfold:  30%|██▉       | 1.13G/3.82G [00:52<01:59, 24.2MB/s]\rDownloading alphafold2_multimer_v3 weights to /root/.cache/colabfold:  30%|██▉       | 1.13G/3.82G [00:52<01:58, 24.2MB/s]\rDownloading alphafold2_multimer_v3 weights to /root/.cache/colabfold:  30%|██▉       | 1.14G/3.82G [00:52<01:58, 24.2MB/s]\rDownloading alphafold2_multimer_v3 weights to /root/.cache/colabfold:  30%|██▉       | 1.14G/3.82G [00:52<01:58, 24.3MB/s]\rDownloading alphafold2_multimer_v3 weights to /root/.cache/colabfold:  30%|██▉       | 1.14G/3.82G [00:53<01:58, 24.2MB/s]\rDownloading alphafold2_multimer_v3 weights to /root/.cache/colabfold:  30%|███       | 1.15G/3.82G [00:53<01:58, 24.2MB/s]\rDownloading alphafold2_multimer_v3 weights to /root/.cache/colabfold:  30%|███       | 1.15G/3.82G [00:53<01:58, 24.3MB/s]\rDownloading alphafold2_multimer_v3 weights to /root/.cache/colabfold:  30%|███       | 1.15G/3.82G [00:53<01:57, 24.3MB/s]\rDownloading alphafold2_multimer_v3 weights to /root/.cache/colabfold:  30%|███       | 1.16G/3.82G [00:53<01:57, 24.2MB/s]\rDownloading alphafold2_multimer_v3 weights to /root/.cache/colabfold:  30%|███       | 1.16G/3.82G [00:53<01:57, 24.3MB/s]\rDownloading alphafold2_multimer_v3 weights to /root/.cache/colabfold:  30%|███       | 1.16G/3.82G [00:54<01:57, 24.2MB/s]\rDownloading alphafold2_multimer_v3 weights to /root/.cache/colabfold:  31%|███       | 1.17G/3.82G [00:54<01:57, 24.3MB/s]\rDownloading alphafold2_multimer_v3 weights to /root/.cache/colabfold:  31%|███       | 1.17G/3.82G [00:54<01:57, 24.3MB/s]\rDownloading alphafold2_multimer_v3 weights to /root/.cache/colabfold:  31%|███       | 1.17G/3.82G [00:54<01:56, 24.3MB/s]\rDownloading alphafold2_multimer_v3 weights to /root/.cache/colabfold:  31%|███       | 1.18G/3.82G [00:54<01:56, 24.2MB/s]\rDownloading alphafold2_multimer_v3 weights to /root/.cache/colabfold:  31%|███       | 1.18G/3.82G [00:54<01:56, 24.3MB/s]\rDownloading alphafold2_multimer_v3 weights to /root/.cache/colabfold:  31%|███       | 1.19G/3.82G [00:54<02:02, 23.1MB/s]\rDownloading alphafold2_multimer_v3 weights to /root/.cache/colabfold:  31%|███       | 1.19G/3.82G [00:55<02:04, 22.7MB/s]\rDownloading alphafold2_multimer_v3 weights to /root/.cache/colabfold:  31%|███       | 1.19G/3.82G [00:55<02:01, 23.1MB/s]\rDownloading alphafold2_multimer_v3 weights to /root/.cache/colabfold:  31%|███▏      | 1.20G/3.82G [00:55<02:00, 23.4MB/s]\rDownloading alphafold2_multimer_v3 weights to /root/.cache/colabfold:  31%|███▏      | 1.20G/3.82G [00:55<01:58, 23.6MB/s]\rDownloading alphafold2_multimer_v3 weights to /root/.cache/colabfold:  32%|███▏      | 1.20G/3.82G [00:55<01:57, 23.8MB/s]\rDownloading alphafold2_multimer_v3 weights to /root/.cache/colabfold:  32%|███▏      | 1.21G/3.82G [00:55<01:57, 23.9MB/s]\rDownloading alphafold2_multimer_v3 weights to /root/.cache/colabfold:  32%|███▏      | 1.21G/3.82G [00:56<02:01, 23.0MB/s]\rDownloading alphafold2_multimer_v3 weights to /root/.cache/colabfold:  32%|███▏      | 1.21G/3.82G [00:56<02:16, 20.5MB/s]\rDownloading alphafold2_multimer_v3 weights to /root/.cache/colabfold:  32%|███▏      | 1.21G/3.82G [00:56<02:31, 18.4MB/s]\rDownloading alphafold2_multimer_v3 weights to /root/.cache/colabfold:  32%|███▏      | 1.22G/3.82G [00:56<02:19, 20.0MB/s]\rDownloading alphafold2_multimer_v3 weights to /root/.cache/colabfold:  32%|███▏      | 1.22G/3.82G [00:56<02:11, 21.2MB/s]\rDownloading alphafold2_multimer_v3 weights to /root/.cache/colabfold:  32%|███▏      | 1.22G/3.82G [00:56<02:05, 22.1MB/s]\rDownloading alphafold2_multimer_v3 weights to /root/.cache/colabfold:  32%|███▏      | 1.23G/3.82G [00:57<02:02, 22.7MB/s]\rDownloading alphafold2_multimer_v3 weights to /root/.cache/colabfold:  32%|███▏      | 1.23G/3.82G [00:57<01:59, 23.2MB/s]\rDownloading alphafold2_multimer_v3 weights to /root/.cache/colabfold:  32%|███▏      | 1.24G/3.82G [00:57<01:58, 23.5MB/s]\rDownloading alphafold2_multimer_v3 weights to /root/.cache/colabfold:  32%|███▏      | 1.24G/3.82G [00:57<01:57, 23.6MB/s]\rDownloading alphafold2_multimer_v3 weights to /root/.cache/colabfold:  33%|███▎      | 1.24G/3.82G [00:57<01:56, 23.8MB/s]\rDownloading alphafold2_multimer_v3 weights to /root/.cache/colabfold:  33%|███▎      | 1.25G/3.82G [00:57<01:55, 23.9MB/s]\rDownloading alphafold2_multimer_v3 weights to /root/.cache/colabfold:  33%|███▎      | 1.25G/3.82G [00:57<01:54, 24.0MB/s]\rDownloading alphafold2_multimer_v3 weights to /root/.cache/colabfold:  33%|███▎      | 1.25G/3.82G [00:58<01:54, 24.1MB/s]\rDownloading alphafold2_multimer_v3 weights to /root/.cache/colabfold:  33%|███▎      | 1.26G/3.82G [00:58<01:53, 24.1MB/s]\rDownloading alphafold2_multimer_v3 weights to /root/.cache/colabfold:  33%|███▎      | 1.26G/3.82G [00:58<01:53, 24.2MB/s]\rDownloading alphafold2_multimer_v3 weights to /root/.cache/colabfold:  33%|███▎      | 1.26G/3.82G [00:58<01:53, 24.2MB/s]\rDownloading alphafold2_multimer_v3 weights to /root/.cache/colabfold:  33%|███▎      | 1.27G/3.82G [00:58<01:53, 24.2MB/s]\rDownloading alphafold2_multimer_v3 weights to /root/.cache/colabfold:  33%|███▎      | 1.27G/3.82G [00:58<01:52, 24.2MB/s]\rDownloading alphafold2_multimer_v3 weights to /root/.cache/colabfold:  33%|███▎      | 1.27G/3.82G [00:59<01:52, 24.2MB/s]\rDownloading alphafold2_multimer_v3 weights to /root/.cache/colabfold:  33%|███▎      | 1.28G/3.82G [00:59<01:52, 24.2MB/s]\rDownloading alphafold2_multimer_v3 weights to /root/.cache/colabfold:  34%|███▎      | 1.28G/3.82G [00:59<01:52, 24.2MB/s]\rDownloading alphafold2_multimer_v3 weights to /root/.cache/colabfold:  34%|███▎      | 1.29G/3.82G [00:59<01:52, 24.2MB/s]\rDownloading alphafold2_multimer_v3 weights to /root/.cache/colabfold:  34%|███▍      | 1.29G/3.82G [00:59<01:52, 24.2MB/s]\rDownloading alphafold2_multimer_v3 weights to /root/.cache/colabfold:  34%|███▍      | 1.29G/3.82G [00:59<01:51, 24.2MB/s]\rDownloading alphafold2_multimer_v3 weights to /root/.cache/colabfold:  34%|███▍      | 1.30G/3.82G [01:00<01:51, 24.2MB/s]\rDownloading alphafold2_multimer_v3 weights to /root/.cache/colabfold:  34%|███▍      | 1.30G/3.82G [01:00<01:51, 24.2MB/s]\rDownloading alphafold2_multimer_v3 weights to /root/.cache/colabfold:  34%|███▍      | 1.30G/3.82G [01:00<01:51, 24.2MB/s]\rDownloading alphafold2_multimer_v3 weights to /root/.cache/colabfold:  34%|███▍      | 1.31G/3.82G [01:00<01:51, 24.3MB/s]\rDownloading alphafold2_multimer_v3 weights to /root/.cache/colabfold:  34%|███▍      | 1.31G/3.82G [01:00<01:51, 24.3MB/s]\rDownloading alphafold2_multimer_v3 weights to /root/.cache/colabfold:  34%|███▍      | 1.31G/3.82G [01:00<01:50, 24.3MB/s]\rDownloading alphafold2_multimer_v3 weights to /root/.cache/colabfold:  35%|███▍      | 1.32G/3.82G [01:00<01:50, 24.3MB/s]\rDownloading alphafold2_multimer_v3 weights to /root/.cache/colabfold:  35%|███▍      | 1.32G/3.82G [01:01<01:50, 24.2MB/s]\rDownloading alphafold2_multimer_v3 weights to /root/.cache/colabfold:  35%|███▍      | 1.32G/3.82G [01:01<01:50, 24.2MB/s]\rDownloading alphafold2_multimer_v3 weights to /root/.cache/colabfold:  35%|███▍      | 1.33G/3.82G [01:01<01:50, 24.2MB/s]\rDownloading alphafold2_multimer_v3 weights to /root/.cache/colabfold:  35%|███▍      | 1.33G/3.82G [01:01<01:50, 24.3MB/s]\rDownloading alphafold2_multimer_v3 weights to /root/.cache/colabfold:  35%|███▍      | 1.34G/3.82G [01:01<01:50, 24.2MB/s]\rDownloading alphafold2_multimer_v3 weights to /root/.cache/colabfold:  35%|███▌      | 1.34G/3.82G [01:01<01:49, 24.2MB/s]\rDownloading alphafold2_multimer_v3 weights to /root/.cache/colabfold:  35%|███▌      | 1.34G/3.82G [01:02<01:49, 24.2MB/s]\rDownloading alphafold2_multimer_v3 weights to /root/.cache/colabfold:  35%|███▌      | 1.35G/3.82G [01:02<01:49, 24.2MB/s]\rDownloading alphafold2_multimer_v3 weights to /root/.cache/colabfold:  35%|███▌      | 1.35G/3.82G [01:02<01:49, 24.3MB/s]\rDownloading alphafold2_multimer_v3 weights to /root/.cache/colabfold:  35%|███▌      | 1.35G/3.82G [01:02<01:49, 24.3MB/s]\rDownloading alphafold2_multimer_v3 weights to /root/.cache/colabfold:  36%|███▌      | 1.36G/3.82G [01:02<01:49, 24.2MB/s]\rDownloading alphafold2_multimer_v3 weights to /root/.cache/colabfold:  36%|███▌      | 1.36G/3.82G [01:02<01:48, 24.2MB/s]\rDownloading alphafold2_multimer_v3 weights to /root/.cache/colabfold:  36%|███▌      | 1.36G/3.82G [01:03<01:48, 24.3MB/s]\rDownloading alphafold2_multimer_v3 weights to /root/.cache/colabfold:  36%|███▌      | 1.37G/3.82G [01:03<01:48, 24.3MB/s]\rDownloading alphafold2_multimer_v3 weights to /root/.cache/colabfold:  36%|███▌      | 1.37G/3.82G [01:03<01:48, 24.3MB/s]\rDownloading alphafold2_multimer_v3 weights to /root/.cache/colabfold:  36%|███▌      | 1.37G/3.82G [01:03<01:48, 24.2MB/s]\rDownloading alphafold2_multimer_v3 weights to /root/.cache/colabfold:  36%|███▌      | 1.38G/3.82G [01:03<01:47, 24.3MB/s]\rDownloading alphafold2_multimer_v3 weights to /root/.cache/colabfold:  36%|███▌      | 1.38G/3.82G [01:03<01:47, 24.3MB/s]\rDownloading alphafold2_multimer_v3 weights to /root/.cache/colabfold:  36%|███▋      | 1.38G/3.82G [01:03<01:47, 24.3MB/s]\rDownloading alphafold2_multimer_v3 weights to /root/.cache/colabfold:  36%|███▋      | 1.39G/3.82G [01:04<01:47, 24.3MB/s]\rDownloading alphafold2_multimer_v3 weights to /root/.cache/colabfold:  36%|███▋      | 1.39G/3.82G [01:04<01:47, 24.2MB/s]\rDownloading alphafold2_multimer_v3 weights to /root/.cache/colabfold:  37%|███▋      | 1.40G/3.82G [01:04<01:47, 24.3MB/s]\rDownloading alphafold2_multimer_v3 weights to /root/.cache/colabfold:  37%|███▋      | 1.40G/3.82G [01:04<01:47, 24.2MB/s]\rDownloading alphafold2_multimer_v3 weights to /root/.cache/colabfold:  37%|███▋      | 1.40G/3.82G [01:04<01:46, 24.3MB/s]\rDownloading alphafold2_multimer_v3 weights to /root/.cache/colabfold:  37%|███▋      | 1.41G/3.82G [01:04<01:46, 24.3MB/s]\rDownloading alphafold2_multimer_v3 weights to /root/.cache/colabfold:  37%|███▋      | 1.41G/3.82G [01:05<01:46, 24.3MB/s]\rDownloading alphafold2_multimer_v3 weights to /root/.cache/colabfold:  37%|███▋      | 1.41G/3.82G [01:05<01:46, 24.3MB/s]\rDownloading alphafold2_multimer_v3 weights to /root/.cache/colabfold:  37%|███▋      | 1.42G/3.82G [01:05<01:46, 24.3MB/s]\rDownloading alphafold2_multimer_v3 weights to /root/.cache/colabfold:  37%|███▋      | 1.42G/3.82G [01:05<01:46, 24.2MB/s]\rDownloading alphafold2_multimer_v3 weights to /root/.cache/colabfold:  37%|███▋      | 1.42G/3.82G [01:05<01:45, 24.3MB/s]\rDownloading alphafold2_multimer_v3 weights to /root/.cache/colabfold:  37%|███▋      | 1.43G/3.82G [01:05<01:45, 24.2MB/s]\rDownloading alphafold2_multimer_v3 weights to /root/.cache/colabfold:  37%|███▋      | 1.43G/3.82G [01:06<01:45, 24.2MB/s]\rDownloading alphafold2_multimer_v3 weights to /root/.cache/colabfold:  38%|███▊      | 1.43G/3.82G [01:06<01:45, 24.3MB/s]\rDownloading alphafold2_multimer_v3 weights to /root/.cache/colabfold:  38%|███▊      | 1.44G/3.82G [01:06<01:45, 24.3MB/s]\rDownloading alphafold2_multimer_v3 weights to /root/.cache/colabfold:  38%|███▊      | 1.44G/3.82G [01:06<01:45, 24.3MB/s]\rDownloading alphafold2_multimer_v3 weights to /root/.cache/colabfold:  38%|███▊      | 1.45G/3.82G [01:06<01:44, 24.3MB/s]\rDownloading alphafold2_multimer_v3 weights to /root/.cache/colabfold:  38%|███▊      | 1.45G/3.82G [01:06<01:44, 24.3MB/s]\rDownloading alphafold2_multimer_v3 weights to /root/.cache/colabfold:  38%|███▊      | 1.45G/3.82G [01:06<01:44, 24.2MB/s]\rDownloading alphafold2_multimer_v3 weights to /root/.cache/colabfold:  38%|███▊      | 1.46G/3.82G [01:07<01:47, 23.5MB/s]\rDownloading alphafold2_multimer_v3 weights to /root/.cache/colabfold:  38%|███▊      | 1.46G/3.82G [01:07<01:40, 25.1MB/s]\rDownloading alphafold2_multimer_v3 weights to /root/.cache/colabfold:  38%|███▊      | 1.46G/3.82G [01:07<01:49, 23.1MB/s]\rDownloading alphafold2_multimer_v3 weights to /root/.cache/colabfold:  38%|███▊      | 1.46G/3.82G [01:07<01:55, 21.9MB/s]\rDownloading alphafold2_multimer_v3 weights to /root/.cache/colabfold:  38%|███▊      | 1.47G/3.82G [01:07<01:43, 24.5MB/s]\rDownloading alphafold2_multimer_v3 weights to /root/.cache/colabfold:  38%|███▊      | 1.47G/3.82G [01:07<01:38, 25.6MB/s]\rDownloading alphafold2_multimer_v3 weights to /root/.cache/colabfold:  39%|███▊      | 1.47G/3.82G [01:07<01:46, 23.7MB/s]\rDownloading alphafold2_multimer_v3 weights to /root/.cache/colabfold:  39%|███▊      | 1.47G/3.82G [01:07<01:53, 22.3MB/s]\rDownloading alphafold2_multimer_v3 weights to /root/.cache/colabfold:  39%|███▊      | 1.48G/3.82G [01:08<01:41, 24.9MB/s]\rDownloading alphafold2_multimer_v3 weights to /root/.cache/colabfold:  39%|███▉      | 1.48G/3.82G [01:08<01:36, 25.9MB/s]\rDownloading alphafold2_multimer_v3 weights to /root/.cache/colabfold:  39%|███▉      | 1.48G/3.82G [01:08<01:46, 23.6MB/s]\rDownloading alphafold2_multimer_v3 weights to /root/.cache/colabfold:  39%|███▉      | 1.48G/3.82G [01:08<01:51, 22.4MB/s]\rDownloading alphafold2_multimer_v3 weights to /root/.cache/colabfold:  39%|███▉      | 1.49G/3.82G [01:08<01:40, 25.0MB/s]\rDownloading alphafold2_multimer_v3 weights to /root/.cache/colabfold:  39%|███▉      | 1.49G/3.82G [01:08<01:37, 25.7MB/s]\rDownloading alphafold2_multimer_v3 weights to /root/.cache/colabfold:  39%|███▉      | 1.49G/3.82G [01:08<01:44, 23.8MB/s]\rDownloading alphafold2_multimer_v3 weights to /root/.cache/colabfold:  39%|███▉      | 1.50G/3.82G [01:08<01:51, 22.4MB/s]\rDownloading alphafold2_multimer_v3 weights to /root/.cache/colabfold:  39%|███▉      | 1.50G/3.82G [01:09<01:39, 25.0MB/s]\rDownloading alphafold2_multimer_v3 weights to /root/.cache/colabfold:  39%|███▉      | 1.50G/3.82G [01:09<01:36, 25.9MB/s]\rDownloading alphafold2_multimer_v3 weights to /root/.cache/colabfold:  39%|███▉      | 1.50G/3.82G [01:09<01:52, 22.1MB/s]\rDownloading alphafold2_multimer_v3 weights to /root/.cache/colabfold:  39%|███▉      | 1.51G/3.82G [01:09<02:07, 19.5MB/s]\rDownloading alphafold2_multimer_v3 weights to /root/.cache/colabfold:  39%|███▉      | 1.51G/3.82G [01:09<02:11, 18.8MB/s]\rDownloading alphafold2_multimer_v3 weights to /root/.cache/colabfold:  40%|███▉      | 1.51G/3.82G [01:09<02:00, 20.6MB/s]\rDownloading alphafold2_multimer_v3 weights to /root/.cache/colabfold:  40%|███▉      | 1.52G/3.82G [01:09<01:53, 21.8MB/s]\rDownloading alphafold2_multimer_v3 weights to /root/.cache/colabfold:  40%|███▉      | 1.52G/3.82G [01:10<01:49, 22.5MB/s]\rDownloading alphafold2_multimer_v3 weights to /root/.cache/colabfold:  40%|███▉      | 1.52G/3.82G [01:10<01:46, 23.0MB/s]\rDownloading alphafold2_multimer_v3 weights to /root/.cache/colabfold:  40%|███▉      | 1.53G/3.82G [01:10<01:44, 23.4MB/s]\rDownloading alphafold2_multimer_v3 weights to /root/.cache/colabfold:  40%|████      | 1.53G/3.82G [01:10<01:43, 23.7MB/s]\rDownloading alphafold2_multimer_v3 weights to /root/.cache/colabfold:  40%|████      | 1.53G/3.82G [01:10<01:42, 23.9MB/s]\rDownloading alphafold2_multimer_v3 weights to /root/.cache/colabfold:  40%|████      | 1.54G/3.82G [01:10<01:42, 24.0MB/s]\rDownloading alphafold2_multimer_v3 weights to /root/.cache/colabfold:  40%|████      | 1.54G/3.82G [01:11<01:41, 24.0MB/s]\rDownloading alphafold2_multimer_v3 weights to /root/.cache/colabfold:  40%|████      | 1.54G/3.82G [01:11<01:41, 24.1MB/s]\rDownloading alphafold2_multimer_v3 weights to /root/.cache/colabfold:  41%|████      | 1.55G/3.82G [01:11<01:31, 26.6MB/s]\rDownloading alphafold2_multimer_v3 weights to /root/.cache/colabfold:  41%|████      | 1.55G/3.82G [01:11<01:38, 24.7MB/s]\rDownloading alphafold2_multimer_v3 weights to /root/.cache/colabfold:  41%|████      | 1.55G/3.82G [01:11<01:35, 25.6MB/s]\rDownloading alphafold2_multimer_v3 weights to /root/.cache/colabfold:  41%|████      | 1.55G/3.82G [01:11<01:44, 23.3MB/s]\rDownloading alphafold2_multimer_v3 weights to /root/.cache/colabfold:  41%|████      | 1.56G/3.82G [01:11<01:45, 23.1MB/s]\rDownloading alphafold2_multimer_v3 weights to /root/.cache/colabfold:  41%|████      | 1.56G/3.82G [01:11<01:31, 26.6MB/s]\rDownloading alphafold2_multimer_v3 weights to /root/.cache/colabfold:  41%|████      | 1.56G/3.82G [01:12<01:38, 24.5MB/s]\rDownloading alphafold2_multimer_v3 weights to /root/.cache/colabfold:  41%|████      | 1.57G/3.82G [01:12<01:36, 25.0MB/s]\rDownloading alphafold2_multimer_v3 weights to /root/.cache/colabfold:  41%|████      | 1.57G/3.82G [01:12<01:45, 23.0MB/s]\rDownloading alphafold2_multimer_v3 weights to /root/.cache/colabfold:  41%|████      | 1.57G/3.82G [01:12<01:45, 22.9MB/s]\rDownloading alphafold2_multimer_v3 weights to /root/.cache/colabfold:  41%|████▏     | 1.58G/3.82G [01:12<01:31, 26.4MB/s]\rDownloading alphafold2_multimer_v3 weights to /root/.cache/colabfold:  41%|████▏     | 1.58G/3.82G [01:12<01:38, 24.3MB/s]\rDownloading alphafold2_multimer_v3 weights to /root/.cache/colabfold:  41%|████▏     | 1.58G/3.82G [01:12<01:36, 24.8MB/s]\rDownloading alphafold2_multimer_v3 weights to /root/.cache/colabfold:  41%|████▏     | 1.58G/3.82G [01:12<01:45, 22.8MB/s]\rDownloading alphafold2_multimer_v3 weights to /root/.cache/colabfold:  42%|████▏     | 1.59G/3.82G [01:13<01:44, 22.9MB/s]\rDownloading alphafold2_multimer_v3 weights to /root/.cache/colabfold:  42%|████▏     | 1.59G/3.82G [01:13<01:30, 26.5MB/s]\rDownloading alphafold2_multimer_v3 weights to /root/.cache/colabfold:  42%|████▏     | 1.59G/3.82G [01:13<01:38, 24.3MB/s]\rDownloading alphafold2_multimer_v3 weights to /root/.cache/colabfold:  42%|████▏     | 1.59G/3.82G [01:13<01:36, 24.8MB/s]\rDownloading alphafold2_multimer_v3 weights to /root/.cache/colabfold:  42%|████▏     | 1.60G/3.82G [01:13<01:44, 22.8MB/s]\rDownloading alphafold2_multimer_v3 weights to /root/.cache/colabfold:  42%|████▏     | 1.60G/3.82G [01:13<01:44, 22.9MB/s]\rDownloading alphafold2_multimer_v3 weights to /root/.cache/colabfold:  42%|████▏     | 1.60G/3.82G [01:13<01:41, 23.4MB/s]\rDownloading alphafold2_multimer_v3 weights to /root/.cache/colabfold:  42%|████▏     | 1.61G/3.82G [01:14<01:53, 20.9MB/s]\rDownloading alphafold2_multimer_v3 weights to /root/.cache/colabfold:  42%|████▏     | 1.61G/3.82G [01:14<01:52, 21.1MB/s]\rDownloading alphafold2_multimer_v3 weights to /root/.cache/colabfold:  42%|████▏     | 1.61G/3.82G [01:14<01:47, 22.0MB/s]\rDownloading alphafold2_multimer_v3 weights to /root/.cache/colabfold:  42%|████▏     | 1.62G/3.82G [01:14<01:44, 22.7MB/s]\rDownloading alphafold2_multimer_v3 weights to /root/.cache/colabfold:  42%|████▏     | 1.62G/3.82G [01:14<01:41, 23.2MB/s]\rDownloading alphafold2_multimer_v3 weights to /root/.cache/colabfold:  43%|████▎     | 1.62G/3.82G [01:14<01:40, 23.5MB/s]\rDownloading alphafold2_multimer_v3 weights to /root/.cache/colabfold:  43%|████▎     | 1.63G/3.82G [01:15<01:39, 23.7MB/s]\rDownloading alphafold2_multimer_v3 weights to /root/.cache/colabfold:  43%|████▎     | 1.63G/3.82G [01:15<01:38, 23.9MB/s]\rDownloading alphafold2_multimer_v3 weights to /root/.cache/colabfold:  43%|████▎     | 1.64G/3.82G [01:15<01:37, 24.1MB/s]\rDownloading alphafold2_multimer_v3 weights to /root/.cache/colabfold:  43%|████▎     | 1.64G/3.82G [01:15<01:37, 24.1MB/s]\rDownloading alphafold2_multimer_v3 weights to /root/.cache/colabfold:  43%|████▎     | 1.64G/3.82G [01:15<01:36, 24.2MB/s]\rDownloading alphafold2_multimer_v3 weights to /root/.cache/colabfold:  43%|████▎     | 1.65G/3.82G [01:15<01:36, 24.2MB/s]\rDownloading alphafold2_multimer_v3 weights to /root/.cache/colabfold:  43%|████▎     | 1.65G/3.82G [01:15<01:36, 24.2MB/s]\rDownloading alphafold2_multimer_v3 weights to /root/.cache/colabfold:  43%|████▎     | 1.65G/3.82G [01:16<01:35, 24.2MB/s]\rDownloading alphafold2_multimer_v3 weights to /root/.cache/colabfold:  43%|████▎     | 1.66G/3.82G [01:16<01:35, 24.2MB/s]\rDownloading alphafold2_multimer_v3 weights to /root/.cache/colabfold:  43%|████▎     | 1.66G/3.82G [01:16<01:35, 24.2MB/s]\rDownloading alphafold2_multimer_v3 weights to /root/.cache/colabfold:  44%|████▎     | 1.66G/3.82G [01:16<01:35, 24.3MB/s]\rDownloading alphafold2_multimer_v3 weights to /root/.cache/colabfold:  44%|████▎     | 1.67G/3.82G [01:16<01:35, 24.2MB/s]\rDownloading alphafold2_multimer_v3 weights to /root/.cache/colabfold:  44%|████▍     | 1.67G/3.82G [01:16<01:35, 24.2MB/s]\rDownloading alphafold2_multimer_v3 weights to /root/.cache/colabfold:  44%|████▍     | 1.67G/3.82G [01:17<01:34, 24.2MB/s]\rDownloading alphafold2_multimer_v3 weights to /root/.cache/colabfold:  44%|████▍     | 1.68G/3.82G [01:17<01:34, 24.3MB/s]\rDownloading alphafold2_multimer_v3 weights to /root/.cache/colabfold:  44%|████▍     | 1.68G/3.82G [01:17<01:34, 24.3MB/s]\rDownloading alphafold2_multimer_v3 weights to /root/.cache/colabfold:  44%|████▍     | 1.69G/3.82G [01:17<01:34, 24.3MB/s]\rDownloading alphafold2_multimer_v3 weights to /root/.cache/colabfold:  44%|████▍     | 1.69G/3.82G [01:17<01:33, 24.4MB/s]\rDownloading alphafold2_multimer_v3 weights to /root/.cache/colabfold:  44%|████▍     | 1.69G/3.82G [01:17<01:33, 24.4MB/s]\rDownloading alphafold2_multimer_v3 weights to /root/.cache/colabfold:  44%|████▍     | 1.70G/3.82G [01:18<01:33, 24.4MB/s]\rDownloading alphafold2_multimer_v3 weights to /root/.cache/colabfold:  45%|████▍     | 1.70G/3.82G [01:18<01:33, 24.4MB/s]\rDownloading alphafold2_multimer_v3 weights to /root/.cache/colabfold:  45%|████▍     | 1.70G/3.82G [01:18<01:32, 24.4MB/s]\rDownloading alphafold2_multimer_v3 weights to /root/.cache/colabfold:  45%|████▍     | 1.71G/3.82G [01:18<01:32, 24.4MB/s]\rDownloading alphafold2_multimer_v3 weights to /root/.cache/colabfold:  45%|████▍     | 1.71G/3.82G [01:18<01:32, 24.4MB/s]\rDownloading alphafold2_multimer_v3 weights to /root/.cache/colabfold:  45%|████▍     | 1.71G/3.82G [01:18<01:32, 24.4MB/s]\rDownloading alphafold2_multimer_v3 weights to /root/.cache/colabfold:  45%|████▍     | 1.72G/3.82G [01:18<01:32, 24.4MB/s]\rDownloading alphafold2_multimer_v3 weights to /root/.cache/colabfold:  45%|████▌     | 1.72G/3.82G [01:19<01:32, 24.5MB/s]\rDownloading alphafold2_multimer_v3 weights to /root/.cache/colabfold:  45%|████▌     | 1.72G/3.82G [01:19<01:31, 24.5MB/s]\rDownloading alphafold2_multimer_v3 weights to /root/.cache/colabfold:  45%|████▌     | 1.73G/3.82G [01:19<01:31, 24.4MB/s]\rDownloading alphafold2_multimer_v3 weights to /root/.cache/colabfold:  45%|████▌     | 1.73G/3.82G [01:19<01:31, 24.5MB/s]\rDownloading alphafold2_multimer_v3 weights to /root/.cache/colabfold:  45%|████▌     | 1.74G/3.82G [01:19<01:31, 24.5MB/s]\rDownloading alphafold2_multimer_v3 weights to /root/.cache/colabfold:  46%|████▌     | 1.74G/3.82G [01:19<01:31, 24.5MB/s]\rDownloading alphafold2_multimer_v3 weights to /root/.cache/colabfold:  46%|████▌     | 1.74G/3.82G [01:20<01:31, 24.4MB/s]\rDownloading alphafold2_multimer_v3 weights to /root/.cache/colabfold:  46%|████▌     | 1.75G/3.82G [01:20<01:30, 24.5MB/s]\rDownloading alphafold2_multimer_v3 weights to /root/.cache/colabfold:  46%|████▌     | 1.75G/3.82G [01:20<01:30, 24.5MB/s]\rDownloading alphafold2_multimer_v3 weights to /root/.cache/colabfold:  46%|████▌     | 1.75G/3.82G [01:20<01:30, 24.5MB/s]\rDownloading alphafold2_multimer_v3 weights to /root/.cache/colabfold:  46%|████▌     | 1.76G/3.82G [01:20<01:30, 24.5MB/s]\rDownloading alphafold2_multimer_v3 weights to /root/.cache/colabfold:  46%|████▌     | 1.76G/3.82G [01:20<01:30, 24.5MB/s]\rDownloading alphafold2_multimer_v3 weights to /root/.cache/colabfold:  46%|████▌     | 1.76G/3.82G [01:20<01:30, 24.5MB/s]\rDownloading alphafold2_multimer_v3 weights to /root/.cache/colabfold:  46%|████▋     | 1.77G/3.82G [01:21<01:29, 24.5MB/s]\rDownloading alphafold2_multimer_v3 weights to /root/.cache/colabfold:  46%|████▋     | 1.77G/3.82G [01:21<01:29, 24.5MB/s]\rDownloading alphafold2_multimer_v3 weights to /root/.cache/colabfold:  46%|████▋     | 1.77G/3.82G [01:21<01:29, 24.5MB/s]\rDownloading alphafold2_multimer_v3 weights to /root/.cache/colabfold:  47%|████▋     | 1.78G/3.82G [01:21<01:29, 24.5MB/s]\rDownloading alphafold2_multimer_v3 weights to /root/.cache/colabfold:  47%|████▋     | 1.78G/3.82G [01:21<01:29, 24.5MB/s]\rDownloading alphafold2_multimer_v3 weights to /root/.cache/colabfold:  47%|████▋     | 1.79G/3.82G [01:21<01:29, 24.5MB/s]\rDownloading alphafold2_multimer_v3 weights to /root/.cache/colabfold:  47%|████▋     | 1.79G/3.82G [01:22<01:28, 24.5MB/s]\rDownloading alphafold2_multimer_v3 weights to /root/.cache/colabfold:  47%|████▋     | 1.79G/3.82G [01:22<01:29, 24.4MB/s]\rDownloading alphafold2_multimer_v3 weights to /root/.cache/colabfold:  47%|████▋     | 1.80G/3.82G [01:22<01:28, 24.5MB/s]\rDownloading alphafold2_multimer_v3 weights to /root/.cache/colabfold:  47%|████▋     | 1.80G/3.82G [01:22<01:28, 24.4MB/s]\rDownloading alphafold2_multimer_v3 weights to /root/.cache/colabfold:  47%|████▋     | 1.80G/3.82G [01:22<01:28, 24.5MB/s]\rDownloading alphafold2_multimer_v3 weights to /root/.cache/colabfold:  47%|████▋     | 1.81G/3.82G [01:22<01:28, 24.5MB/s]\rDownloading alphafold2_multimer_v3 weights to /root/.cache/colabfold:  47%|████▋     | 1.81G/3.82G [01:23<01:28, 24.5MB/s]\rDownloading alphafold2_multimer_v3 weights to /root/.cache/colabfold:  48%|████▊     | 1.81G/3.82G [01:23<01:27, 24.5MB/s]\rDownloading alphafold2_multimer_v3 weights to /root/.cache/colabfold:  48%|████▊     | 1.82G/3.82G [01:23<01:39, 21.6MB/s]\rDownloading alphafold2_multimer_v3 weights to /root/.cache/colabfold:  48%|████▊     | 1.82G/3.82G [01:23<01:51, 19.3MB/s]\rDownloading alphafold2_multimer_v3 weights to /root/.cache/colabfold:  48%|████▊     | 1.82G/3.82G [01:23<01:45, 20.3MB/s]\rDownloading alphafold2_multimer_v3 weights to /root/.cache/colabfold:  48%|████▊     | 1.82G/3.82G [01:23<01:39, 21.6MB/s]\rDownloading alphafold2_multimer_v3 weights to /root/.cache/colabfold:  48%|████▊     | 1.83G/3.82G [01:23<01:35, 22.5MB/s]\rDownloading alphafold2_multimer_v3 weights to /root/.cache/colabfold:  48%|████▊     | 1.83G/3.82G [01:24<01:32, 23.0MB/s]\rDownloading alphafold2_multimer_v3 weights to /root/.cache/colabfold:  48%|████▊     | 1.84G/3.82G [01:24<01:30, 23.5MB/s]\rDownloading alphafold2_multimer_v3 weights to /root/.cache/colabfold:  48%|████▊     | 1.84G/3.82G [01:24<01:29, 23.8MB/s]\rDownloading alphafold2_multimer_v3 weights to /root/.cache/colabfold:  48%|████▊     | 1.84G/3.82G [01:24<01:28, 24.0MB/s]\rDownloading alphafold2_multimer_v3 weights to /root/.cache/colabfold:  48%|████▊     | 1.85G/3.82G [01:24<01:27, 24.1MB/s]\rDownloading alphafold2_multimer_v3 weights to /root/.cache/colabfold:  48%|████▊     | 1.85G/3.82G [01:24<01:27, 24.2MB/s]\rDownloading alphafold2_multimer_v3 weights to /root/.cache/colabfold:  49%|████▊     | 1.85G/3.82G [01:25<01:26, 24.3MB/s]\rDownloading alphafold2_multimer_v3 weights to /root/.cache/colabfold:  49%|████▊     | 1.86G/3.82G [01:25<01:26, 24.3MB/s]\rDownloading alphafold2_multimer_v3 weights to /root/.cache/colabfold:  49%|████▊     | 1.86G/3.82G [01:25<01:26, 24.4MB/s]\rDownloading alphafold2_multimer_v3 weights to /root/.cache/colabfold:  49%|████▉     | 1.86G/3.82G [01:25<01:26, 24.4MB/s]\rDownloading alphafold2_multimer_v3 weights to /root/.cache/colabfold:  49%|████▉     | 1.87G/3.82G [01:25<01:25, 24.4MB/s]\rDownloading alphafold2_multimer_v3 weights to /root/.cache/colabfold:  49%|████▉     | 1.87G/3.82G [01:25<01:25, 24.4MB/s]\rDownloading alphafold2_multimer_v3 weights to /root/.cache/colabfold:  49%|████▉     | 1.87G/3.82G [01:25<01:25, 24.4MB/s]\rDownloading alphafold2_multimer_v3 weights to /root/.cache/colabfold:  49%|████▉     | 1.88G/3.82G [01:26<01:25, 24.4MB/s]\rDownloading alphafold2_multimer_v3 weights to /root/.cache/colabfold:  49%|████▉     | 1.88G/3.82G [01:26<01:25, 24.4MB/s]\rDownloading alphafold2_multimer_v3 weights to /root/.cache/colabfold:  49%|████▉     | 1.89G/3.82G [01:26<01:24, 24.4MB/s]\rDownloading alphafold2_multimer_v3 weights to /root/.cache/colabfold:  49%|████▉     | 1.89G/3.82G [01:26<01:24, 24.4MB/s]\rDownloading alphafold2_multimer_v3 weights to /root/.cache/colabfold:  50%|████▉     | 1.89G/3.82G [01:26<01:24, 24.4MB/s]\rDownloading alphafold2_multimer_v3 weights to /root/.cache/colabfold:  50%|████▉     | 1.90G/3.82G [01:26<01:24, 24.5MB/s]\rDownloading alphafold2_multimer_v3 weights to /root/.cache/colabfold:  50%|████▉     | 1.90G/3.82G [01:27<01:24, 24.5MB/s]\rDownloading alphafold2_multimer_v3 weights to /root/.cache/colabfold:  50%|████▉     | 1.90G/3.82G [01:27<01:24, 24.5MB/s]\rDownloading alphafold2_multimer_v3 weights to /root/.cache/colabfold:  50%|████▉     | 1.91G/3.82G [01:27<01:23, 24.4MB/s]\rDownloading alphafold2_multimer_v3 weights to /root/.cache/colabfold:  50%|█████     | 1.91G/3.82G [01:27<01:23, 24.5MB/s]\rDownloading alphafold2_multimer_v3 weights to /root/.cache/colabfold:  50%|█████     | 1.91G/3.82G [01:27<01:23, 24.5MB/s]\rDownloading alphafold2_multimer_v3 weights to /root/.cache/colabfold:  50%|█████     | 1.92G/3.82G [01:27<01:23, 24.4MB/s]\rDownloading alphafold2_multimer_v3 weights to /root/.cache/colabfold:  50%|█████     | 1.92G/3.82G [01:28<01:23, 24.5MB/s]\rDownloading alphafold2_multimer_v3 weights to /root/.cache/colabfold:  50%|█████     | 1.92G/3.82G [01:28<01:23, 24.5MB/s]\rDownloading alphafold2_multimer_v3 weights to /root/.cache/colabfold:  51%|█████     | 1.93G/3.82G [01:28<01:22, 24.5MB/s]\rDownloading alphafold2_multimer_v3 weights to /root/.cache/colabfold:  51%|█████     | 1.93G/3.82G [01:28<01:22, 24.4MB/s]\rDownloading alphafold2_multimer_v3 weights to /root/.cache/colabfold:  51%|█████     | 1.94G/3.82G [01:28<01:22, 24.5MB/s]\rDownloading alphafold2_multimer_v3 weights to /root/.cache/colabfold:  51%|█████     | 1.94G/3.82G [01:28<01:22, 24.4MB/s]\rDownloading alphafold2_multimer_v3 weights to /root/.cache/colabfold:  51%|█████     | 1.94G/3.82G [01:28<01:22, 24.5MB/s]\rDownloading alphafold2_multimer_v3 weights to /root/.cache/colabfold:  51%|█████     | 1.95G/3.82G [01:29<01:22, 24.4MB/s]\rDownloading alphafold2_multimer_v3 weights to /root/.cache/colabfold:  51%|█████     | 1.95G/3.82G [01:29<01:22, 24.5MB/s]\rDownloading alphafold2_multimer_v3 weights to /root/.cache/colabfold:  51%|█████     | 1.95G/3.82G [01:29<01:21, 24.5MB/s]\rDownloading alphafold2_multimer_v3 weights to /root/.cache/colabfold:  51%|█████     | 1.96G/3.82G [01:29<01:21, 24.5MB/s]\rDownloading alphafold2_multimer_v3 weights to /root/.cache/colabfold:  51%|█████▏    | 1.96G/3.82G [01:29<01:21, 24.5MB/s]\rDownloading alphafold2_multimer_v3 weights to /root/.cache/colabfold:  51%|█████▏    | 1.96G/3.82G [01:29<01:21, 24.5MB/s]\rDownloading alphafold2_multimer_v3 weights to /root/.cache/colabfold:  52%|█████▏    | 1.97G/3.82G [01:30<01:21, 24.5MB/s]\rDownloading alphafold2_multimer_v3 weights to /root/.cache/colabfold:  52%|█████▏    | 1.97G/3.82G [01:30<01:23, 23.9MB/s]\rDownloading alphafold2_multimer_v3 weights to /root/.cache/colabfold:  52%|█████▏    | 1.97G/3.82G [01:30<01:30, 22.0MB/s]\rDownloading alphafold2_multimer_v3 weights to /root/.cache/colabfold:  52%|█████▏    | 1.97G/3.82G [01:30<01:30, 22.0MB/s]\rDownloading alphafold2_multimer_v3 weights to /root/.cache/colabfold:  52%|█████▏    | 1.98G/3.82G [01:30<01:26, 22.7MB/s]\rDownloading alphafold2_multimer_v3 weights to /root/.cache/colabfold:  52%|█████▏    | 1.98G/3.82G [01:30<01:24, 23.3MB/s]\rDownloading alphafold2_multimer_v3 weights to /root/.cache/colabfold:  52%|█████▏    | 1.99G/3.82G [01:30<01:23, 23.7MB/s]\rDownloading alphafold2_multimer_v3 weights to /root/.cache/colabfold:  52%|█████▏    | 1.99G/3.82G [01:31<01:22, 23.9MB/s]\rDownloading alphafold2_multimer_v3 weights to /root/.cache/colabfold:  52%|█████▏    | 1.99G/3.82G [01:31<01:21, 24.1MB/s]\rDownloading alphafold2_multimer_v3 weights to /root/.cache/colabfold:  52%|█████▏    | 2.00G/3.82G [01:31<01:20, 24.2MB/s]\rDownloading alphafold2_multimer_v3 weights to /root/.cache/colabfold:  52%|█████▏    | 2.00G/3.82G [01:31<01:20, 24.3MB/s]\rDownloading alphafold2_multimer_v3 weights to /root/.cache/colabfold:  52%|█████▏    | 2.00G/3.82G [01:31<01:28, 22.1MB/s]\rDownloading alphafold2_multimer_v3 weights to /root/.cache/colabfold:  53%|█████▎    | 2.01G/3.82G [01:31<01:25, 22.8MB/s]\rDownloading alphafold2_multimer_v3 weights to /root/.cache/colabfold:  53%|█████▎    | 2.01G/3.82G [01:32<01:26, 22.4MB/s]\rDownloading alphafold2_multimer_v3 weights to /root/.cache/colabfold:  53%|█████▎    | 2.01G/3.82G [01:32<01:27, 22.3MB/s]\rDownloading alphafold2_multimer_v3 weights to /root/.cache/colabfold:  53%|█████▎    | 2.02G/3.82G [01:32<01:24, 22.9MB/s]\rDownloading alphafold2_multimer_v3 weights to /root/.cache/colabfold:  53%|█████▎    | 2.02G/3.82G [01:32<01:22, 23.3MB/s]\rDownloading alphafold2_multimer_v3 weights to /root/.cache/colabfold:  53%|█████▎    | 2.02G/3.82G [01:32<01:21, 23.7MB/s]\rDownloading alphafold2_multimer_v3 weights to /root/.cache/colabfold:  53%|█████▎    | 2.03G/3.82G [01:32<01:20, 23.9MB/s]\rDownloading alphafold2_multimer_v3 weights to /root/.cache/colabfold:  53%|█████▎    | 2.03G/3.82G [01:32<01:19, 24.0MB/s]\rDownloading alphafold2_multimer_v3 weights to /root/.cache/colabfold:  53%|█████▎    | 2.03G/3.82G [01:33<01:19, 24.2MB/s]\rDownloading alphafold2_multimer_v3 weights to /root/.cache/colabfold:  53%|█████▎    | 2.04G/3.82G [01:33<01:18, 24.3MB/s]\rDownloading alphafold2_multimer_v3 weights to /root/.cache/colabfold:  53%|█████▎    | 2.04G/3.82G [01:33<01:18, 24.3MB/s]\rDownloading alphafold2_multimer_v3 weights to /root/.cache/colabfold:  54%|█████▎    | 2.04G/3.82G [01:33<01:18, 24.3MB/s]\rDownloading alphafold2_multimer_v3 weights to /root/.cache/colabfold:  54%|█████▎    | 2.05G/3.82G [01:33<01:17, 24.4MB/s]\rDownloading alphafold2_multimer_v3 weights to /root/.cache/colabfold:  54%|█████▎    | 2.05G/3.82G [01:33<01:17, 24.4MB/s]\rDownloading alphafold2_multimer_v3 weights to /root/.cache/colabfold:  54%|█████▍    | 2.06G/3.82G [01:34<01:17, 24.4MB/s]\rDownloading alphafold2_multimer_v3 weights to /root/.cache/colabfold:  54%|█████▍    | 2.06G/3.82G [01:34<01:21, 23.1MB/s]\rDownloading alphafold2_multimer_v3 weights to /root/.cache/colabfold:  54%|█████▍    | 2.06G/3.82G [01:34<01:31, 20.7MB/s]\rDownloading alphafold2_multimer_v3 weights to /root/.cache/colabfold:  54%|█████▍    | 2.06G/3.82G [01:34<01:41, 18.6MB/s]\rDownloading alphafold2_multimer_v3 weights to /root/.cache/colabfold:  54%|█████▍    | 2.07G/3.82G [01:34<01:33, 20.1MB/s]\rDownloading alphafold2_multimer_v3 weights to /root/.cache/colabfold:  54%|█████▍    | 2.07G/3.82G [01:34<01:27, 21.4MB/s]\rDownloading alphafold2_multimer_v3 weights to /root/.cache/colabfold:  54%|█████▍    | 2.07G/3.82G [01:35<01:24, 22.3MB/s]\rDownloading alphafold2_multimer_v3 weights to /root/.cache/colabfold:  54%|█████▍    | 2.08G/3.82G [01:35<01:21, 23.0MB/s]\rDownloading alphafold2_multimer_v3 weights to /root/.cache/colabfold:  55%|█████▍    | 2.08G/3.82G [01:35<01:19, 23.4MB/s]\rDownloading alphafold2_multimer_v3 weights to /root/.cache/colabfold:  55%|█████▍    | 2.08G/3.82G [01:35<01:18, 23.7MB/s]\rDownloading alphafold2_multimer_v3 weights to /root/.cache/colabfold:  55%|█████▍    | 2.09G/3.82G [01:35<01:17, 24.0MB/s]\rDownloading alphafold2_multimer_v3 weights to /root/.cache/colabfold:  55%|█████▍    | 2.09G/3.82G [01:35<01:16, 24.1MB/s]\rDownloading alphafold2_multimer_v3 weights to /root/.cache/colabfold:  55%|█████▍    | 2.10G/3.82G [01:35<01:16, 24.2MB/s]\rDownloading alphafold2_multimer_v3 weights to /root/.cache/colabfold:  55%|█████▍    | 2.10G/3.82G [01:36<01:16, 24.2MB/s]\rDownloading alphafold2_multimer_v3 weights to /root/.cache/colabfold:  55%|█████▌    | 2.10G/3.82G [01:36<01:15, 24.3MB/s]\rDownloading alphafold2_multimer_v3 weights to /root/.cache/colabfold:  55%|█████▌    | 2.11G/3.82G [01:36<01:15, 24.4MB/s]\rDownloading alphafold2_multimer_v3 weights to /root/.cache/colabfold:  55%|█████▌    | 2.11G/3.82G [01:36<01:15, 24.4MB/s]\rDownloading alphafold2_multimer_v3 weights to /root/.cache/colabfold:  55%|█████▌    | 2.11G/3.82G [01:36<01:15, 24.4MB/s]\rDownloading alphafold2_multimer_v3 weights to /root/.cache/colabfold:  55%|█████▌    | 2.12G/3.82G [01:36<01:14, 24.4MB/s]\rDownloading alphafold2_multimer_v3 weights to /root/.cache/colabfold:  56%|█████▌    | 2.12G/3.82G [01:37<01:14, 24.4MB/s]\rDownloading alphafold2_multimer_v3 weights to /root/.cache/colabfold:  56%|█████▌    | 2.12G/3.82G [01:37<01:14, 24.4MB/s]\rDownloading alphafold2_multimer_v3 weights to /root/.cache/colabfold:  56%|█████▌    | 2.13G/3.82G [01:37<01:14, 24.4MB/s]\rDownloading alphafold2_multimer_v3 weights to /root/.cache/colabfold:  56%|█████▌    | 2.13G/3.82G [01:37<01:14, 24.4MB/s]\rDownloading alphafold2_multimer_v3 weights to /root/.cache/colabfold:  56%|█████▌    | 2.13G/3.82G [01:37<01:14, 24.4MB/s]\rDownloading alphafold2_multimer_v3 weights to /root/.cache/colabfold:  56%|█████▌    | 2.14G/3.82G [01:37<01:13, 24.4MB/s]\rDownloading alphafold2_multimer_v3 weights to /root/.cache/colabfold:  56%|█████▌    | 2.14G/3.82G [01:38<01:13, 24.5MB/s]\rDownloading alphafold2_multimer_v3 weights to /root/.cache/colabfold:  56%|█████▌    | 2.15G/3.82G [01:38<01:13, 24.4MB/s]\rDownloading alphafold2_multimer_v3 weights to /root/.cache/colabfold:  56%|█████▋    | 2.15G/3.82G [01:38<01:13, 24.4MB/s]\rDownloading alphafold2_multimer_v3 weights to /root/.cache/colabfold:  56%|█████▋    | 2.15G/3.82G [01:38<01:13, 24.4MB/s]\rDownloading alphafold2_multimer_v3 weights to /root/.cache/colabfold:  56%|█████▋    | 2.16G/3.82G [01:38<01:13, 24.4MB/s]\rDownloading alphafold2_multimer_v3 weights to /root/.cache/colabfold:  57%|█████▋    | 2.16G/3.82G [01:38<01:12, 24.4MB/s]\rDownloading alphafold2_multimer_v3 weights to /root/.cache/colabfold:  57%|█████▋    | 2.16G/3.82G [01:38<01:12, 24.4MB/s]\rDownloading alphafold2_multimer_v3 weights to /root/.cache/colabfold:  57%|█████▋    | 2.17G/3.82G [01:39<01:12, 24.4MB/s]\rDownloading alphafold2_multimer_v3 weights to /root/.cache/colabfold:  57%|█████▋    | 2.17G/3.82G [01:39<01:12, 24.4MB/s]\rDownloading alphafold2_multimer_v3 weights to /root/.cache/colabfold:  57%|█████▋    | 2.17G/3.82G [01:39<01:12, 24.4MB/s]\rDownloading alphafold2_multimer_v3 weights to /root/.cache/colabfold:  57%|█████▋    | 2.18G/3.82G [01:39<01:12, 24.4MB/s]\rDownloading alphafold2_multimer_v3 weights to /root/.cache/colabfold:  57%|█████▋    | 2.18G/3.82G [01:39<01:12, 24.4MB/s]\rDownloading alphafold2_multimer_v3 weights to /root/.cache/colabfold:  57%|█████▋    | 2.18G/3.82G [01:39<01:11, 24.4MB/s]\rDownloading alphafold2_multimer_v3 weights to /root/.cache/colabfold:  57%|█████▋    | 2.19G/3.82G [01:40<01:11, 24.4MB/s]\rDownloading alphafold2_multimer_v3 weights to /root/.cache/colabfold:  57%|█████▋    | 2.19G/3.82G [01:40<01:11, 24.4MB/s]\rDownloading alphafold2_multimer_v3 weights to /root/.cache/colabfold:  57%|█████▋    | 2.19G/3.82G [01:40<01:11, 24.4MB/s]\rDownloading alphafold2_multimer_v3 weights to /root/.cache/colabfold:  58%|█████▊    | 2.20G/3.82G [01:40<01:11, 24.4MB/s]\rDownloading alphafold2_multimer_v3 weights to /root/.cache/colabfold:  58%|█████▊    | 2.20G/3.82G [01:40<01:11, 24.4MB/s]\rDownloading alphafold2_multimer_v3 weights to /root/.cache/colabfold:  58%|█████▊    | 2.21G/3.82G [01:40<01:11, 24.3MB/s]\rDownloading alphafold2_multimer_v3 weights to /root/.cache/colabfold:  58%|█████▊    | 2.21G/3.82G [01:40<01:11, 24.3MB/s]\rDownloading alphafold2_multimer_v3 weights to /root/.cache/colabfold:  58%|█████▊    | 2.21G/3.82G [01:41<01:10, 24.3MB/s]\rDownloading alphafold2_multimer_v3 weights to /root/.cache/colabfold:  58%|█████▊    | 2.22G/3.82G [01:41<01:10, 24.4MB/s]\rDownloading alphafold2_multimer_v3 weights to /root/.cache/colabfold:  58%|█████▊    | 2.22G/3.82G [01:41<01:10, 24.4MB/s]\rDownloading alphafold2_multimer_v3 weights to /root/.cache/colabfold:  58%|█████▊    | 2.22G/3.82G [01:41<01:10, 24.4MB/s]\rDownloading alphafold2_multimer_v3 weights to /root/.cache/colabfold:  58%|█████▊    | 2.23G/3.82G [01:41<01:10, 24.4MB/s]\rDownloading alphafold2_multimer_v3 weights to /root/.cache/colabfold:  58%|█████▊    | 2.23G/3.82G [01:41<01:09, 24.4MB/s]\rDownloading alphafold2_multimer_v3 weights to /root/.cache/colabfold:  59%|█████▊    | 2.23G/3.82G [01:42<01:09, 24.4MB/s]\rDownloading alphafold2_multimer_v3 weights to /root/.cache/colabfold:  59%|█████▊    | 2.24G/3.82G [01:42<01:17, 22.0MB/s]\rDownloading alphafold2_multimer_v3 weights to /root/.cache/colabfold:  59%|█████▊    | 2.24G/3.82G [01:42<01:17, 21.9MB/s]\rDownloading alphafold2_multimer_v3 weights to /root/.cache/colabfold:  59%|█████▉    | 2.24G/3.82G [01:42<01:14, 22.7MB/s]\rDownloading alphafold2_multimer_v3 weights to /root/.cache/colabfold:  59%|█████▉    | 2.25G/3.82G [01:42<01:12, 23.2MB/s]\rDownloading alphafold2_multimer_v3 weights to /root/.cache/colabfold:  59%|█████▉    | 2.25G/3.82G [01:42<01:11, 23.6MB/s]\rDownloading alphafold2_multimer_v3 weights to /root/.cache/colabfold:  59%|█████▉    | 2.25G/3.82G [01:43<01:10, 23.8MB/s]\rDownloading alphafold2_multimer_v3 weights to /root/.cache/colabfold:  59%|█████▉    | 2.26G/3.82G [01:43<01:09, 24.0MB/s]\rDownloading alphafold2_multimer_v3 weights to /root/.cache/colabfold:  59%|█████▉    | 2.26G/3.82G [01:43<01:09, 24.1MB/s]\rDownloading alphafold2_multimer_v3 weights to /root/.cache/colabfold:  59%|█████▉    | 2.26G/3.82G [01:43<01:08, 24.3MB/s]\rDownloading alphafold2_multimer_v3 weights to /root/.cache/colabfold:  59%|█████▉    | 2.27G/3.82G [01:43<01:08, 24.3MB/s]\rDownloading alphafold2_multimer_v3 weights to /root/.cache/colabfold:  59%|█████▉    | 2.27G/3.82G [01:43<01:08, 24.3MB/s]\rDownloading alphafold2_multimer_v3 weights to /root/.cache/colabfold:  60%|█████▉    | 2.28G/3.82G [01:43<01:08, 24.4MB/s]\rDownloading alphafold2_multimer_v3 weights to /root/.cache/colabfold:  60%|█████▉    | 2.28G/3.82G [01:44<01:07, 24.4MB/s]\rDownloading alphafold2_multimer_v3 weights to /root/.cache/colabfold:  60%|█████▉    | 2.28G/3.82G [01:44<01:07, 24.4MB/s]\rDownloading alphafold2_multimer_v3 weights to /root/.cache/colabfold:  60%|█████▉    | 2.29G/3.82G [01:44<01:07, 24.4MB/s]\rDownloading alphafold2_multimer_v3 weights to /root/.cache/colabfold:  60%|█████▉    | 2.29G/3.82G [01:44<01:07, 24.4MB/s]\rDownloading alphafold2_multimer_v3 weights to /root/.cache/colabfold:  60%|██████    | 2.29G/3.82G [01:44<01:07, 24.4MB/s]\rDownloading alphafold2_multimer_v3 weights to /root/.cache/colabfold:  60%|██████    | 2.30G/3.82G [01:44<01:06, 24.4MB/s]\rDownloading alphafold2_multimer_v3 weights to /root/.cache/colabfold:  60%|██████    | 2.30G/3.82G [01:45<01:06, 24.4MB/s]\rDownloading alphafold2_multimer_v3 weights to /root/.cache/colabfold:  60%|██████    | 2.30G/3.82G [01:45<01:06, 24.4MB/s]\rDownloading alphafold2_multimer_v3 weights to /root/.cache/colabfold:  60%|██████    | 2.31G/3.82G [01:45<01:06, 24.4MB/s]\rDownloading alphafold2_multimer_v3 weights to /root/.cache/colabfold:  61%|██████    | 2.31G/3.82G [01:45<01:06, 24.4MB/s]\rDownloading alphafold2_multimer_v3 weights to /root/.cache/colabfold:  61%|██████    | 2.31G/3.82G [01:45<01:10, 23.0MB/s]\rDownloading alphafold2_multimer_v3 weights to /root/.cache/colabfold:  61%|██████    | 2.32G/3.82G [01:45<01:15, 21.3MB/s]\rDownloading alphafold2_multimer_v3 weights to /root/.cache/colabfold:  61%|██████    | 2.32G/3.82G [01:45<01:24, 19.2MB/s]\rDownloading alphafold2_multimer_v3 weights to /root/.cache/colabfold:  61%|██████    | 2.32G/3.82G [01:46<01:32, 17.5MB/s]\rDownloading alphafold2_multimer_v3 weights to /root/.cache/colabfold:  61%|██████    | 2.32G/3.82G [01:46<01:38, 16.3MB/s]\rDownloading alphafold2_multimer_v3 weights to /root/.cache/colabfold:  61%|██████    | 2.33G/3.82G [01:46<01:24, 19.0MB/s]\rDownloading alphafold2_multimer_v3 weights to /root/.cache/colabfold:  61%|██████    | 2.33G/3.82G [01:46<01:17, 20.7MB/s]\rDownloading alphafold2_multimer_v3 weights to /root/.cache/colabfold:  61%|██████    | 2.33G/3.82G [01:46<01:35, 16.8MB/s]\rDownloading alphafold2_multimer_v3 weights to /root/.cache/colabfold:  61%|██████    | 2.33G/3.82G [01:46<01:23, 19.1MB/s]\rDownloading alphafold2_multimer_v3 weights to /root/.cache/colabfold:  61%|██████    | 2.34G/3.82G [01:47<01:17, 20.6MB/s]\rDownloading alphafold2_multimer_v3 weights to /root/.cache/colabfold:  61%|██████▏   | 2.34G/3.82G [01:47<01:12, 21.8MB/s]\rDownloading alphafold2_multimer_v3 weights to /root/.cache/colabfold:  61%|██████▏   | 2.35G/3.82G [01:47<01:10, 22.6MB/s]\rDownloading alphafold2_multimer_v3 weights to /root/.cache/colabfold:  62%|██████▏   | 2.35G/3.82G [01:47<01:08, 23.1MB/s]\rDownloading alphafold2_multimer_v3 weights to /root/.cache/colabfold:  62%|██████▏   | 2.35G/3.82G [01:47<01:06, 23.5MB/s]\rDownloading alphafold2_multimer_v3 weights to /root/.cache/colabfold:  62%|██████▏   | 2.36G/3.82G [01:47<01:06, 23.8MB/s]\rDownloading alphafold2_multimer_v3 weights to /root/.cache/colabfold:  62%|██████▏   | 2.36G/3.82G [01:48<01:05, 23.9MB/s]\rDownloading alphafold2_multimer_v3 weights to /root/.cache/colabfold:  62%|██████▏   | 2.36G/3.82G [01:48<01:04, 24.1MB/s]\rDownloading alphafold2_multimer_v3 weights to /root/.cache/colabfold:  62%|██████▏   | 2.37G/3.82G [01:48<01:21, 19.2MB/s]\rDownloading alphafold2_multimer_v3 weights to /root/.cache/colabfold:  62%|██████▏   | 2.37G/3.82G [01:48<01:14, 20.9MB/s]\rDownloading alphafold2_multimer_v3 weights to /root/.cache/colabfold:  62%|██████▏   | 2.37G/3.82G [01:48<01:11, 21.8MB/s]\rDownloading alphafold2_multimer_v3 weights to /root/.cache/colabfold:  62%|██████▏   | 2.38G/3.82G [01:48<01:08, 22.6MB/s]\rDownloading alphafold2_multimer_v3 weights to /root/.cache/colabfold:  62%|██████▏   | 2.38G/3.82G [01:49<01:06, 23.1MB/s]\rDownloading alphafold2_multimer_v3 weights to /root/.cache/colabfold:  62%|██████▏   | 2.38G/3.82G [01:49<01:05, 23.5MB/s]\rDownloading alphafold2_multimer_v3 weights to /root/.cache/colabfold:  63%|██████▎   | 2.39G/3.82G [01:49<01:04, 23.8MB/s]\rDownloading alphafold2_multimer_v3 weights to /root/.cache/colabfold:  63%|██████▎   | 2.39G/3.82G [01:49<01:03, 24.0MB/s]\rDownloading alphafold2_multimer_v3 weights to /root/.cache/colabfold:  63%|██████▎   | 2.39G/3.82G [01:49<01:03, 24.1MB/s]\rDownloading alphafold2_multimer_v3 weights to /root/.cache/colabfold:  63%|██████▎   | 2.40G/3.82G [01:49<01:02, 24.3MB/s]\rDownloading alphafold2_multimer_v3 weights to /root/.cache/colabfold:  63%|██████▎   | 2.40G/3.82G [01:50<01:02, 24.3MB/s]\rDownloading alphafold2_multimer_v3 weights to /root/.cache/colabfold:  63%|██████▎   | 2.41G/3.82G [01:50<01:02, 24.4MB/s]\rDownloading alphafold2_multimer_v3 weights to /root/.cache/colabfold:  63%|██████▎   | 2.41G/3.82G [01:50<01:01, 24.4MB/s]\rDownloading alphafold2_multimer_v3 weights to /root/.cache/colabfold:  63%|██████▎   | 2.41G/3.82G [01:50<01:01, 24.4MB/s]\rDownloading alphafold2_multimer_v3 weights to /root/.cache/colabfold:  63%|██████▎   | 2.42G/3.82G [01:50<01:01, 24.4MB/s]\rDownloading alphafold2_multimer_v3 weights to /root/.cache/colabfold:  63%|██████▎   | 2.42G/3.82G [01:50<01:01, 24.5MB/s]\rDownloading alphafold2_multimer_v3 weights to /root/.cache/colabfold:  63%|██████▎   | 2.42G/3.82G [01:50<01:01, 24.4MB/s]\rDownloading alphafold2_multimer_v3 weights to /root/.cache/colabfold:  64%|██████▎   | 2.43G/3.82G [01:51<01:03, 23.7MB/s]\rDownloading alphafold2_multimer_v3 weights to /root/.cache/colabfold:  64%|██████▎   | 2.43G/3.82G [01:51<01:09, 21.5MB/s]\rDownloading alphafold2_multimer_v3 weights to /root/.cache/colabfold:  64%|██████▎   | 2.43G/3.82G [01:51<01:06, 22.4MB/s]\rDownloading alphafold2_multimer_v3 weights to /root/.cache/colabfold:  64%|██████▍   | 2.44G/3.82G [01:51<01:04, 23.0MB/s]\rDownloading alphafold2_multimer_v3 weights to /root/.cache/colabfold:  64%|██████▍   | 2.44G/3.82G [01:51<01:03, 23.4MB/s]\rDownloading alphafold2_multimer_v3 weights to /root/.cache/colabfold:  64%|██████▍   | 2.44G/3.82G [01:51<01:02, 23.7MB/s]\rDownloading alphafold2_multimer_v3 weights to /root/.cache/colabfold:  64%|██████▍   | 2.45G/3.82G [01:52<01:01, 23.9MB/s]\rDownloading alphafold2_multimer_v3 weights to /root/.cache/colabfold:  64%|██████▍   | 2.45G/3.82G [01:52<01:00, 24.1MB/s]\rDownloading alphafold2_multimer_v3 weights to /root/.cache/colabfold:  64%|██████▍   | 2.45G/3.82G [01:52<01:00, 24.2MB/s]\rDownloading alphafold2_multimer_v3 weights to /root/.cache/colabfold:  64%|██████▍   | 2.46G/3.82G [01:52<01:00, 24.3MB/s]\rDownloading alphafold2_multimer_v3 weights to /root/.cache/colabfold:  64%|██████▍   | 2.46G/3.82G [01:52<00:59, 24.3MB/s]\rDownloading alphafold2_multimer_v3 weights to /root/.cache/colabfold:  65%|██████▍   | 2.46G/3.82G [01:52<00:59, 24.4MB/s]\rDownloading alphafold2_multimer_v3 weights to /root/.cache/colabfold:  65%|██████▍   | 2.47G/3.82G [01:53<00:59, 24.4MB/s]\rDownloading alphafold2_multimer_v3 weights to /root/.cache/colabfold:  65%|██████▍   | 2.47G/3.82G [01:53<00:59, 24.4MB/s]\rDownloading alphafold2_multimer_v3 weights to /root/.cache/colabfold:  65%|██████▍   | 2.48G/3.82G [01:53<00:59, 24.4MB/s]\rDownloading alphafold2_multimer_v3 weights to /root/.cache/colabfold:  65%|██████▍   | 2.48G/3.82G [01:53<00:58, 24.4MB/s]\rDownloading alphafold2_multimer_v3 weights to /root/.cache/colabfold:  65%|██████▌   | 2.48G/3.82G [01:53<00:58, 24.4MB/s]\rDownloading alphafold2_multimer_v3 weights to /root/.cache/colabfold:  65%|██████▌   | 2.49G/3.82G [01:53<00:58, 24.5MB/s]\rDownloading alphafold2_multimer_v3 weights to /root/.cache/colabfold:  65%|██████▌   | 2.49G/3.82G [01:53<00:58, 24.5MB/s]\rDownloading alphafold2_multimer_v3 weights to /root/.cache/colabfold:  65%|██████▌   | 2.49G/3.82G [01:54<00:58, 24.4MB/s]\rDownloading alphafold2_multimer_v3 weights to /root/.cache/colabfold:  65%|██████▌   | 2.50G/3.82G [01:54<00:58, 24.4MB/s]\rDownloading alphafold2_multimer_v3 weights to /root/.cache/colabfold:  65%|██████▌   | 2.50G/3.82G [01:54<00:58, 24.4MB/s]\rDownloading alphafold2_multimer_v3 weights to /root/.cache/colabfold:  66%|██████▌   | 2.50G/3.82G [01:54<00:57, 24.4MB/s]\rDownloading alphafold2_multimer_v3 weights to /root/.cache/colabfold:  66%|██████▌   | 2.51G/3.82G [01:54<00:57, 24.4MB/s]\rDownloading alphafold2_multimer_v3 weights to /root/.cache/colabfold:  66%|██████▌   | 2.51G/3.82G [01:54<00:57, 24.4MB/s]\rDownloading alphafold2_multimer_v3 weights to /root/.cache/colabfold:  66%|██████▌   | 2.51G/3.82G [01:55<00:57, 24.5MB/s]\rDownloading alphafold2_multimer_v3 weights to /root/.cache/colabfold:  66%|██████▌   | 2.52G/3.82G [01:55<00:57, 24.5MB/s]\rDownloading alphafold2_multimer_v3 weights to /root/.cache/colabfold:  66%|██████▌   | 2.52G/3.82G [01:55<00:56, 24.4MB/s]\rDownloading alphafold2_multimer_v3 weights to /root/.cache/colabfold:  66%|██████▌   | 2.52G/3.82G [01:55<00:56, 24.4MB/s]\rDownloading alphafold2_multimer_v3 weights to /root/.cache/colabfold:  66%|██████▌   | 2.53G/3.82G [01:55<00:56, 24.7MB/s]\rDownloading alphafold2_multimer_v3 weights to /root/.cache/colabfold:  66%|██████▋   | 2.53G/3.82G [01:55<00:55, 24.7MB/s]\rDownloading alphafold2_multimer_v3 weights to /root/.cache/colabfold:  66%|██████▋   | 2.54G/3.82G [01:55<00:55, 24.7MB/s]\rDownloading alphafold2_multimer_v3 weights to /root/.cache/colabfold:  66%|██████▋   | 2.54G/3.82G [01:56<00:55, 24.6MB/s]\rDownloading alphafold2_multimer_v3 weights to /root/.cache/colabfold:  67%|██████▋   | 2.54G/3.82G [01:56<01:05, 21.0MB/s]\rDownloading alphafold2_multimer_v3 weights to /root/.cache/colabfold:  67%|██████▋   | 2.54G/3.82G [01:56<01:10, 19.5MB/s]\rDownloading alphafold2_multimer_v3 weights to /root/.cache/colabfold:  67%|██████▋   | 2.55G/3.82G [01:56<01:06, 20.6MB/s]\rDownloading alphafold2_multimer_v3 weights to /root/.cache/colabfold:  67%|██████▋   | 2.55G/3.82G [01:56<01:02, 21.7MB/s]\rDownloading alphafold2_multimer_v3 weights to /root/.cache/colabfold:  67%|██████▋   | 2.55G/3.82G [01:56<01:00, 22.5MB/s]\rDownloading alphafold2_multimer_v3 weights to /root/.cache/colabfold:  67%|██████▋   | 2.56G/3.82G [01:57<00:58, 23.1MB/s]\rDownloading alphafold2_multimer_v3 weights to /root/.cache/colabfold:  67%|██████▋   | 2.56G/3.82G [01:57<00:57, 23.5MB/s]\rDownloading alphafold2_multimer_v3 weights to /root/.cache/colabfold:  67%|██████▋   | 2.56G/3.82G [01:57<00:56, 23.8MB/s]\rDownloading alphafold2_multimer_v3 weights to /root/.cache/colabfold:  67%|██████▋   | 2.57G/3.82G [01:57<00:55, 24.0MB/s]\rDownloading alphafold2_multimer_v3 weights to /root/.cache/colabfold:  67%|██████▋   | 2.57G/3.82G [01:57<00:55, 24.1MB/s]\rDownloading alphafold2_multimer_v3 weights to /root/.cache/colabfold:  67%|██████▋   | 2.57G/3.82G [01:57<00:55, 24.2MB/s]\rDownloading alphafold2_multimer_v3 weights to /root/.cache/colabfold:  68%|██████▊   | 2.58G/3.82G [01:58<00:58, 22.8MB/s]\rDownloading alphafold2_multimer_v3 weights to /root/.cache/colabfold:  68%|██████▊   | 2.58G/3.82G [01:58<00:59, 22.4MB/s]\rDownloading alphafold2_multimer_v3 weights to /root/.cache/colabfold:  68%|██████▊   | 2.58G/3.82G [01:58<00:57, 23.0MB/s]\rDownloading alphafold2_multimer_v3 weights to /root/.cache/colabfold:  68%|██████▊   | 2.59G/3.82G [01:58<00:56, 23.4MB/s]\rDownloading alphafold2_multimer_v3 weights to /root/.cache/colabfold:  68%|██████▊   | 2.59G/3.82G [01:58<00:55, 23.7MB/s]\rDownloading alphafold2_multimer_v3 weights to /root/.cache/colabfold:  68%|██████▊   | 2.60G/3.82G [01:58<00:54, 23.9MB/s]\rDownloading alphafold2_multimer_v3 weights to /root/.cache/colabfold:  68%|██████▊   | 2.60G/3.82G [01:58<00:54, 24.1MB/s]\rDownloading alphafold2_multimer_v3 weights to /root/.cache/colabfold:  68%|██████▊   | 2.60G/3.82G [01:59<00:53, 24.3MB/s]\rDownloading alphafold2_multimer_v3 weights to /root/.cache/colabfold:  68%|██████▊   | 2.61G/3.82G [01:59<00:53, 24.3MB/s]\rDownloading alphafold2_multimer_v3 weights to /root/.cache/colabfold:  68%|██████▊   | 2.61G/3.82G [01:59<00:53, 24.3MB/s]\rDownloading alphafold2_multimer_v3 weights to /root/.cache/colabfold:  68%|██████▊   | 2.61G/3.82G [01:59<00:53, 24.3MB/s]\rDownloading alphafold2_multimer_v3 weights to /root/.cache/colabfold:  69%|██████▊   | 2.62G/3.82G [01:59<00:52, 24.4MB/s]\rDownloading alphafold2_multimer_v3 weights to /root/.cache/colabfold:  69%|██████▊   | 2.62G/3.82G [01:59<00:52, 24.4MB/s]\rDownloading alphafold2_multimer_v3 weights to /root/.cache/colabfold:  69%|██████▊   | 2.62G/3.82G [02:00<00:52, 24.4MB/s]\rDownloading alphafold2_multimer_v3 weights to /root/.cache/colabfold:  69%|██████▉   | 2.63G/3.82G [02:00<00:52, 24.4MB/s]\rDownloading alphafold2_multimer_v3 weights to /root/.cache/colabfold:  69%|██████▉   | 2.63G/3.82G [02:00<00:52, 24.5MB/s]\rDownloading alphafold2_multimer_v3 weights to /root/.cache/colabfold:  69%|██████▉   | 2.63G/3.82G [02:00<00:51, 24.5MB/s]\rDownloading alphafold2_multimer_v3 weights to /root/.cache/colabfold:  69%|██████▉   | 2.64G/3.82G [02:00<00:51, 24.4MB/s]\rDownloading alphafold2_multimer_v3 weights to /root/.cache/colabfold:  69%|██████▉   | 2.64G/3.82G [02:00<00:51, 24.4MB/s]\rDownloading alphafold2_multimer_v3 weights to /root/.cache/colabfold:  69%|██████▉   | 2.65G/3.82G [02:00<00:51, 24.4MB/s]\rDownloading alphafold2_multimer_v3 weights to /root/.cache/colabfold:  69%|██████▉   | 2.65G/3.82G [02:01<00:51, 24.4MB/s]\rDownloading alphafold2_multimer_v3 weights to /root/.cache/colabfold:  69%|██████▉   | 2.65G/3.82G [02:01<00:51, 24.4MB/s]\rDownloading alphafold2_multimer_v3 weights to /root/.cache/colabfold:  70%|██████▉   | 2.66G/3.82G [02:01<00:51, 24.5MB/s]\rDownloading alphafold2_multimer_v3 weights to /root/.cache/colabfold:  70%|██████▉   | 2.66G/3.82G [02:01<00:50, 24.4MB/s]\rDownloading alphafold2_multimer_v3 weights to /root/.cache/colabfold:  70%|██████▉   | 2.66G/3.82G [02:01<00:50, 24.5MB/s]\rDownloading alphafold2_multimer_v3 weights to /root/.cache/colabfold:  70%|██████▉   | 2.67G/3.82G [02:01<00:50, 24.5MB/s]\rDownloading alphafold2_multimer_v3 weights to /root/.cache/colabfold:  70%|██████▉   | 2.67G/3.82G [02:02<00:50, 24.5MB/s]\rDownloading alphafold2_multimer_v3 weights to /root/.cache/colabfold:  70%|███████   | 2.67G/3.82G [02:02<00:50, 24.5MB/s]\rDownloading alphafold2_multimer_v3 weights to /root/.cache/colabfold:  70%|███████   | 2.68G/3.82G [02:02<00:50, 24.5MB/s]\rDownloading alphafold2_multimer_v3 weights to /root/.cache/colabfold:  70%|███████   | 2.68G/3.82G [02:02<00:49, 24.4MB/s]\rDownloading alphafold2_multimer_v3 weights to /root/.cache/colabfold:  70%|███████   | 2.68G/3.82G [02:02<00:49, 24.5MB/s]\rDownloading alphafold2_multimer_v3 weights to /root/.cache/colabfold:  70%|███████   | 2.69G/3.82G [02:02<00:49, 24.5MB/s]\rDownloading alphafold2_multimer_v3 weights to /root/.cache/colabfold:  70%|███████   | 2.69G/3.82G [02:03<00:49, 24.5MB/s]\rDownloading alphafold2_multimer_v3 weights to /root/.cache/colabfold:  71%|███████   | 2.70G/3.82G [02:03<00:49, 24.5MB/s]\rDownloading alphafold2_multimer_v3 weights to /root/.cache/colabfold:  71%|███████   | 2.70G/3.82G [02:03<00:49, 24.4MB/s]\rDownloading alphafold2_multimer_v3 weights to /root/.cache/colabfold:  71%|███████   | 2.70G/3.82G [02:03<00:48, 24.5MB/s]\rDownloading alphafold2_multimer_v3 weights to /root/.cache/colabfold:  71%|███████   | 2.71G/3.82G [02:03<00:48, 24.4MB/s]\rDownloading alphafold2_multimer_v3 weights to /root/.cache/colabfold:  71%|███████   | 2.71G/3.82G [02:03<00:48, 24.4MB/s]\rDownloading alphafold2_multimer_v3 weights to /root/.cache/colabfold:  71%|███████   | 2.71G/3.82G [02:03<00:48, 24.4MB/s]\rDownloading alphafold2_multimer_v3 weights to /root/.cache/colabfold:  71%|███████   | 2.72G/3.82G [02:04<00:48, 24.5MB/s]\rDownloading alphafold2_multimer_v3 weights to /root/.cache/colabfold:  71%|███████   | 2.72G/3.82G [02:04<00:48, 24.5MB/s]\rDownloading alphafold2_multimer_v3 weights to /root/.cache/colabfold:  71%|███████▏  | 2.72G/3.82G [02:04<00:48, 24.5MB/s]\rDownloading alphafold2_multimer_v3 weights to /root/.cache/colabfold:  71%|███████▏  | 2.73G/3.82G [02:04<00:47, 24.4MB/s]\rDownloading alphafold2_multimer_v3 weights to /root/.cache/colabfold:  72%|███████▏  | 2.73G/3.82G [02:04<00:47, 24.5MB/s]\rDownloading alphafold2_multimer_v3 weights to /root/.cache/colabfold:  72%|███████▏  | 2.73G/3.82G [02:04<00:49, 23.7MB/s]\rDownloading alphafold2_multimer_v3 weights to /root/.cache/colabfold:  72%|███████▏  | 2.74G/3.82G [02:05<00:55, 21.0MB/s]\rDownloading alphafold2_multimer_v3 weights to /root/.cache/colabfold:  72%|███████▏  | 2.74G/3.82G [02:05<00:53, 21.7MB/s]\rDownloading alphafold2_multimer_v3 weights to /root/.cache/colabfold:  72%|███████▏  | 2.74G/3.82G [02:05<00:51, 22.5MB/s]\rDownloading alphafold2_multimer_v3 weights to /root/.cache/colabfold:  72%|███████▏  | 2.75G/3.82G [02:05<00:49, 23.1MB/s]\rDownloading alphafold2_multimer_v3 weights to /root/.cache/colabfold:  72%|███████▏  | 2.75G/3.82G [02:05<00:48, 23.5MB/s]\rDownloading alphafold2_multimer_v3 weights to /root/.cache/colabfold:  72%|███████▏  | 2.75G/3.82G [02:05<00:48, 23.8MB/s]\rDownloading alphafold2_multimer_v3 weights to /root/.cache/colabfold:  72%|███████▏  | 2.76G/3.82G [02:05<00:47, 24.0MB/s]\rDownloading alphafold2_multimer_v3 weights to /root/.cache/colabfold:  72%|███████▏  | 2.76G/3.82G [02:06<00:47, 24.1MB/s]\rDownloading alphafold2_multimer_v3 weights to /root/.cache/colabfold:  72%|███████▏  | 2.76G/3.82G [02:06<00:46, 24.2MB/s]\rDownloading alphafold2_multimer_v3 weights to /root/.cache/colabfold:  72%|███████▏  | 2.77G/3.82G [02:06<00:46, 24.2MB/s]\rDownloading alphafold2_multimer_v3 weights to /root/.cache/colabfold:  73%|███████▎  | 2.77G/3.82G [02:06<00:52, 21.6MB/s]\rDownloading alphafold2_multimer_v3 weights to /root/.cache/colabfold:  73%|███████▎  | 2.77G/3.82G [02:06<00:58, 19.3MB/s]\rDownloading alphafold2_multimer_v3 weights to /root/.cache/colabfold:  73%|███████▎  | 2.77G/3.82G [02:06<01:03, 17.6MB/s]\rDownloading alphafold2_multimer_v3 weights to /root/.cache/colabfold:  73%|███████▎  | 2.78G/3.82G [02:07<00:56, 19.6MB/s]\rDownloading alphafold2_multimer_v3 weights to /root/.cache/colabfold:  73%|███████▎  | 2.78G/3.82G [02:07<00:52, 21.1MB/s]\rDownloading alphafold2_multimer_v3 weights to /root/.cache/colabfold:  73%|███████▎  | 2.78G/3.82G [02:07<00:50, 22.1MB/s]\rDownloading alphafold2_multimer_v3 weights to /root/.cache/colabfold:  73%|███████▎  | 2.79G/3.82G [02:07<00:48, 22.8MB/s]\rDownloading alphafold2_multimer_v3 weights to /root/.cache/colabfold:  73%|███████▎  | 2.79G/3.82G [02:07<00:47, 23.3MB/s]\rDownloading alphafold2_multimer_v3 weights to /root/.cache/colabfold:  73%|███████▎  | 2.80G/3.82G [02:07<00:46, 23.6MB/s]\rDownloading alphafold2_multimer_v3 weights to /root/.cache/colabfold:  73%|███████▎  | 2.80G/3.82G [02:08<00:45, 23.9MB/s]\rDownloading alphafold2_multimer_v3 weights to /root/.cache/colabfold:  73%|███████▎  | 2.80G/3.82G [02:08<00:45, 24.0MB/s]\rDownloading alphafold2_multimer_v3 weights to /root/.cache/colabfold:  74%|███████▎  | 2.81G/3.82G [02:08<00:44, 24.2MB/s]\rDownloading alphafold2_multimer_v3 weights to /root/.cache/colabfold:  74%|███████▎  | 2.81G/3.82G [02:08<00:44, 24.3MB/s]\rDownloading alphafold2_multimer_v3 weights to /root/.cache/colabfold:  74%|███████▎  | 2.81G/3.82G [02:08<00:44, 24.3MB/s]\rDownloading alphafold2_multimer_v3 weights to /root/.cache/colabfold:  74%|███████▍  | 2.82G/3.82G [02:08<00:44, 24.3MB/s]\rDownloading alphafold2_multimer_v3 weights to /root/.cache/colabfold:  74%|███████▍  | 2.82G/3.82G [02:08<00:43, 24.3MB/s]\rDownloading alphafold2_multimer_v3 weights to /root/.cache/colabfold:  74%|███████▍  | 2.82G/3.82G [02:09<00:43, 24.3MB/s]\rDownloading alphafold2_multimer_v3 weights to /root/.cache/colabfold:  74%|███████▍  | 2.83G/3.82G [02:09<00:43, 24.4MB/s]\rDownloading alphafold2_multimer_v3 weights to /root/.cache/colabfold:  74%|███████▍  | 2.83G/3.82G [02:09<00:43, 24.3MB/s]\rDownloading alphafold2_multimer_v3 weights to /root/.cache/colabfold:  74%|███████▍  | 2.83G/3.82G [02:09<00:43, 24.3MB/s]\rDownloading alphafold2_multimer_v3 weights to /root/.cache/colabfold:  74%|███████▍  | 2.84G/3.82G [02:09<00:43, 24.4MB/s]\rDownloading alphafold2_multimer_v3 weights to /root/.cache/colabfold:  74%|███████▍  | 2.84G/3.82G [02:09<00:43, 24.4MB/s]\rDownloading alphafold2_multimer_v3 weights to /root/.cache/colabfold:  75%|███████▍  | 2.85G/3.82G [02:10<00:42, 24.4MB/s]\rDownloading alphafold2_multimer_v3 weights to /root/.cache/colabfold:  75%|███████▍  | 2.85G/3.82G [02:10<00:42, 24.4MB/s]\rDownloading alphafold2_multimer_v3 weights to /root/.cache/colabfold:  75%|███████▍  | 2.85G/3.82G [02:10<00:42, 24.4MB/s]\rDownloading alphafold2_multimer_v3 weights to /root/.cache/colabfold:  75%|███████▍  | 2.86G/3.82G [02:10<00:42, 24.4MB/s]\rDownloading alphafold2_multimer_v3 weights to /root/.cache/colabfold:  75%|███████▍  | 2.86G/3.82G [02:10<00:42, 24.4MB/s]\rDownloading alphafold2_multimer_v3 weights to /root/.cache/colabfold:  75%|███████▍  | 2.86G/3.82G [02:10<00:42, 24.4MB/s]\rDownloading alphafold2_multimer_v3 weights to /root/.cache/colabfold:  75%|███████▌  | 2.87G/3.82G [02:10<00:41, 24.4MB/s]\rDownloading alphafold2_multimer_v3 weights to /root/.cache/colabfold:  75%|███████▌  | 2.87G/3.82G [02:11<00:41, 24.4MB/s]\rDownloading alphafold2_multimer_v3 weights to /root/.cache/colabfold:  75%|███████▌  | 2.87G/3.82G [02:11<00:41, 24.4MB/s]\rDownloading alphafold2_multimer_v3 weights to /root/.cache/colabfold:  75%|███████▌  | 2.88G/3.82G [02:11<00:41, 24.4MB/s]\rDownloading alphafold2_multimer_v3 weights to /root/.cache/colabfold:  75%|███████▌  | 2.88G/3.82G [02:11<00:41, 24.4MB/s]\rDownloading alphafold2_multimer_v3 weights to /root/.cache/colabfold:  76%|███████▌  | 2.88G/3.82G [02:11<00:43, 23.2MB/s]\rDownloading alphafold2_multimer_v3 weights to /root/.cache/colabfold:  76%|███████▌  | 2.89G/3.82G [02:11<00:43, 22.8MB/s]\rDownloading alphafold2_multimer_v3 weights to /root/.cache/colabfold:  76%|███████▌  | 2.89G/3.82G [02:12<00:42, 23.2MB/s]\rDownloading alphafold2_multimer_v3 weights to /root/.cache/colabfold:  76%|███████▌  | 2.89G/3.82G [02:12<00:44, 22.4MB/s]\rDownloading alphafold2_multimer_v3 weights to /root/.cache/colabfold:  76%|███████▌  | 2.90G/3.82G [02:12<00:42, 23.4MB/s]\rDownloading alphafold2_multimer_v3 weights to /root/.cache/colabfold:  76%|███████▌  | 2.90G/3.82G [02:12<00:41, 23.7MB/s]\rDownloading alphafold2_multimer_v3 weights to /root/.cache/colabfold:  76%|███████▌  | 2.90G/3.82G [02:12<00:41, 23.9MB/s]\rDownloading alphafold2_multimer_v3 weights to /root/.cache/colabfold:  76%|███████▌  | 2.91G/3.82G [02:12<00:40, 24.1MB/s]\rDownloading alphafold2_multimer_v3 weights to /root/.cache/colabfold:  76%|███████▋  | 2.91G/3.82G [02:13<00:40, 24.2MB/s]\rDownloading alphafold2_multimer_v3 weights to /root/.cache/colabfold:  76%|███████▋  | 2.92G/3.82G [02:13<00:39, 24.3MB/s]\rDownloading alphafold2_multimer_v3 weights to /root/.cache/colabfold:  76%|███████▋  | 2.92G/3.82G [02:13<00:39, 24.4MB/s]\rDownloading alphafold2_multimer_v3 weights to /root/.cache/colabfold:  77%|███████▋  | 2.92G/3.82G [02:13<00:39, 24.4MB/s]\rDownloading alphafold2_multimer_v3 weights to /root/.cache/colabfold:  77%|███████▋  | 2.93G/3.82G [02:13<00:39, 24.4MB/s]\rDownloading alphafold2_multimer_v3 weights to /root/.cache/colabfold:  77%|███████▋  | 2.93G/3.82G [02:13<00:39, 24.4MB/s]\rDownloading alphafold2_multimer_v3 weights to /root/.cache/colabfold:  77%|███████▋  | 2.93G/3.82G [02:13<00:38, 24.4MB/s]\rDownloading alphafold2_multimer_v3 weights to /root/.cache/colabfold:  77%|███████▋  | 2.94G/3.82G [02:14<00:38, 24.4MB/s]\rDownloading alphafold2_multimer_v3 weights to /root/.cache/colabfold:  77%|███████▋  | 2.94G/3.82G [02:14<00:38, 24.4MB/s]\rDownloading alphafold2_multimer_v3 weights to /root/.cache/colabfold:  77%|███████▋  | 2.94G/3.82G [02:14<00:38, 24.4MB/s]\rDownloading alphafold2_multimer_v3 weights to /root/.cache/colabfold:  77%|███████▋  | 2.95G/3.82G [02:14<00:38, 24.5MB/s]\rDownloading alphafold2_multimer_v3 weights to /root/.cache/colabfold:  77%|███████▋  | 2.95G/3.82G [02:14<00:38, 24.5MB/s]\rDownloading alphafold2_multimer_v3 weights to /root/.cache/colabfold:  77%|███████▋  | 2.95G/3.82G [02:14<00:38, 24.4MB/s]\rDownloading alphafold2_multimer_v3 weights to /root/.cache/colabfold:  77%|███████▋  | 2.96G/3.82G [02:15<00:37, 24.4MB/s]\rDownloading alphafold2_multimer_v3 weights to /root/.cache/colabfold:  78%|███████▊  | 2.96G/3.82G [02:15<00:37, 24.5MB/s]\rDownloading alphafold2_multimer_v3 weights to /root/.cache/colabfold:  78%|███████▊  | 2.97G/3.82G [02:15<00:37, 24.5MB/s]\rDownloading alphafold2_multimer_v3 weights to /root/.cache/colabfold:  78%|███████▊  | 2.97G/3.82G [02:15<00:37, 24.5MB/s]\rDownloading alphafold2_multimer_v3 weights to /root/.cache/colabfold:  78%|███████▊  | 2.97G/3.82G [02:15<00:37, 24.5MB/s]\rDownloading alphafold2_multimer_v3 weights to /root/.cache/colabfold:  78%|███████▊  | 2.98G/3.82G [02:15<00:36, 24.4MB/s]\rDownloading alphafold2_multimer_v3 weights to /root/.cache/colabfold:  78%|███████▊  | 2.98G/3.82G [02:16<00:36, 24.5MB/s]\rDownloading alphafold2_multimer_v3 weights to /root/.cache/colabfold:  78%|███████▊  | 2.98G/3.82G [02:16<00:36, 24.5MB/s]\rDownloading alphafold2_multimer_v3 weights to /root/.cache/colabfold:  78%|███████▊  | 2.99G/3.82G [02:16<00:36, 24.5MB/s]\rDownloading alphafold2_multimer_v3 weights to /root/.cache/colabfold:  78%|███████▊  | 2.99G/3.82G [02:16<00:36, 24.4MB/s]\rDownloading alphafold2_multimer_v3 weights to /root/.cache/colabfold:  78%|███████▊  | 2.99G/3.82G [02:16<00:36, 24.5MB/s]\rDownloading alphafold2_multimer_v3 weights to /root/.cache/colabfold:  79%|███████▊  | 3.00G/3.82G [02:16<00:35, 24.5MB/s]\rDownloading alphafold2_multimer_v3 weights to /root/.cache/colabfold:  79%|███████▊  | 3.00G/3.82G [02:16<00:35, 24.5MB/s]\rDownloading alphafold2_multimer_v3 weights to /root/.cache/colabfold:  79%|███████▊  | 3.00G/3.82G [02:17<00:35, 24.5MB/s]\rDownloading alphafold2_multimer_v3 weights to /root/.cache/colabfold:  79%|███████▉  | 3.01G/3.82G [02:17<00:35, 24.4MB/s]\rDownloading alphafold2_multimer_v3 weights to /root/.cache/colabfold:  79%|███████▉  | 3.01G/3.82G [02:17<00:35, 24.4MB/s]\rDownloading alphafold2_multimer_v3 weights to /root/.cache/colabfold:  79%|███████▉  | 3.02G/3.82G [02:17<00:35, 24.4MB/s]\rDownloading alphafold2_multimer_v3 weights to /root/.cache/colabfold:  79%|███████▉  | 3.02G/3.82G [02:17<00:35, 24.5MB/s]\rDownloading alphafold2_multimer_v3 weights to /root/.cache/colabfold:  79%|███████▉  | 3.02G/3.82G [02:17<00:34, 24.5MB/s]\rDownloading alphafold2_multimer_v3 weights to /root/.cache/colabfold:  79%|███████▉  | 3.03G/3.82G [02:18<00:34, 24.4MB/s]\rDownloading alphafold2_multimer_v3 weights to /root/.cache/colabfold:  79%|███████▉  | 3.03G/3.82G [02:18<00:34, 24.5MB/s]\rDownloading alphafold2_multimer_v3 weights to /root/.cache/colabfold:  79%|███████▉  | 3.03G/3.82G [02:18<00:34, 24.4MB/s]\rDownloading alphafold2_multimer_v3 weights to /root/.cache/colabfold:  80%|███████▉  | 3.04G/3.82G [02:18<00:34, 24.4MB/s]\rDownloading alphafold2_multimer_v3 weights to /root/.cache/colabfold:  80%|███████▉  | 3.04G/3.82G [02:18<00:34, 24.5MB/s]\rDownloading alphafold2_multimer_v3 weights to /root/.cache/colabfold:  80%|███████▉  | 3.04G/3.82G [02:18<00:34, 24.4MB/s]\rDownloading alphafold2_multimer_v3 weights to /root/.cache/colabfold:  80%|███████▉  | 3.05G/3.82G [02:18<00:33, 24.5MB/s]\rDownloading alphafold2_multimer_v3 weights to /root/.cache/colabfold:  80%|███████▉  | 3.05G/3.82G [02:19<00:30, 26.8MB/s]\rDownloading alphafold2_multimer_v3 weights to /root/.cache/colabfold:  80%|███████▉  | 3.05G/3.82G [02:19<00:31, 25.9MB/s]\rDownloading alphafold2_multimer_v3 weights to /root/.cache/colabfold:  80%|████████  | 3.06G/3.82G [02:19<00:32, 25.0MB/s]\rDownloading alphafold2_multimer_v3 weights to /root/.cache/colabfold:  80%|████████  | 3.06G/3.82G [02:19<00:35, 23.1MB/s]\rDownloading alphafold2_multimer_v3 weights to /root/.cache/colabfold:  80%|████████  | 3.06G/3.82G [02:19<00:41, 19.7MB/s]\rDownloading alphafold2_multimer_v3 weights to /root/.cache/colabfold:  80%|████████  | 3.06G/3.82G [02:19<00:44, 18.4MB/s]\rDownloading alphafold2_multimer_v3 weights to /root/.cache/colabfold:  80%|████████  | 3.06G/3.82G [02:19<00:41, 19.5MB/s]\rDownloading alphafold2_multimer_v3 weights to /root/.cache/colabfold:  80%|████████  | 3.07G/3.82G [02:20<00:38, 21.1MB/s]\rDownloading alphafold2_multimer_v3 weights to /root/.cache/colabfold:  80%|████████  | 3.07G/3.82G [02:20<00:36, 22.2MB/s]\rDownloading alphafold2_multimer_v3 weights to /root/.cache/colabfold:  81%|████████  | 3.08G/3.82G [02:20<00:34, 22.9MB/s]\rDownloading alphafold2_multimer_v3 weights to /root/.cache/colabfold:  81%|████████  | 3.08G/3.82G [02:20<00:33, 23.4MB/s]\rDownloading alphafold2_multimer_v3 weights to /root/.cache/colabfold:  81%|████████  | 3.08G/3.82G [02:20<00:33, 23.7MB/s]\rDownloading alphafold2_multimer_v3 weights to /root/.cache/colabfold:  81%|████████  | 3.09G/3.82G [02:20<00:32, 23.9MB/s]\rDownloading alphafold2_multimer_v3 weights to /root/.cache/colabfold:  81%|████████  | 3.09G/3.82G [02:20<00:32, 24.1MB/s]\rDownloading alphafold2_multimer_v3 weights to /root/.cache/colabfold:  81%|████████  | 3.09G/3.82G [02:21<00:32, 24.2MB/s]\rDownloading alphafold2_multimer_v3 weights to /root/.cache/colabfold:  81%|████████  | 3.10G/3.82G [02:21<00:31, 24.3MB/s]\rDownloading alphafold2_multimer_v3 weights to /root/.cache/colabfold:  81%|████████  | 3.10G/3.82G [02:21<00:31, 24.3MB/s]\rDownloading alphafold2_multimer_v3 weights to /root/.cache/colabfold:  81%|████████▏ | 3.10G/3.82G [02:21<00:31, 24.4MB/s]\rDownloading alphafold2_multimer_v3 weights to /root/.cache/colabfold:  81%|████████▏ | 3.11G/3.82G [02:21<00:31, 24.4MB/s]\rDownloading alphafold2_multimer_v3 weights to /root/.cache/colabfold:  81%|████████▏ | 3.11G/3.82G [02:21<00:32, 23.4MB/s]\rDownloading alphafold2_multimer_v3 weights to /root/.cache/colabfold:  82%|████████▏ | 3.11G/3.82G [02:22<00:36, 20.9MB/s]\rDownloading alphafold2_multimer_v3 weights to /root/.cache/colabfold:  82%|████████▏ | 3.12G/3.82G [02:22<00:40, 18.8MB/s]\rDownloading alphafold2_multimer_v3 weights to /root/.cache/colabfold:  82%|████████▏ | 3.12G/3.82G [02:22<00:37, 20.1MB/s]\rDownloading alphafold2_multimer_v3 weights to /root/.cache/colabfold:  82%|████████▏ | 3.12G/3.82G [02:22<00:34, 21.4MB/s]\rDownloading alphafold2_multimer_v3 weights to /root/.cache/colabfold:  82%|████████▏ | 3.13G/3.82G [02:22<00:33, 22.3MB/s]\rDownloading alphafold2_multimer_v3 weights to /root/.cache/colabfold:  82%|████████▏ | 3.13G/3.82G [02:22<00:32, 22.9MB/s]\rDownloading alphafold2_multimer_v3 weights to /root/.cache/colabfold:  82%|████████▏ | 3.13G/3.82G [02:23<00:31, 23.4MB/s]\rDownloading alphafold2_multimer_v3 weights to /root/.cache/colabfold:  82%|████████▏ | 3.14G/3.82G [02:23<00:30, 23.7MB/s]\rDownloading alphafold2_multimer_v3 weights to /root/.cache/colabfold:  82%|████████▏ | 3.14G/3.82G [02:23<00:30, 24.0MB/s]\rDownloading alphafold2_multimer_v3 weights to /root/.cache/colabfold:  82%|████████▏ | 3.14G/3.82G [02:23<00:30, 24.1MB/s]\rDownloading alphafold2_multimer_v3 weights to /root/.cache/colabfold:  82%|████████▏ | 3.15G/3.82G [02:23<00:29, 24.2MB/s]\rDownloading alphafold2_multimer_v3 weights to /root/.cache/colabfold:  83%|████████▎ | 3.15G/3.82G [02:23<00:29, 24.3MB/s]\rDownloading alphafold2_multimer_v3 weights to /root/.cache/colabfold:  83%|████████▎ | 3.15G/3.82G [02:23<00:26, 26.6MB/s]\rDownloading alphafold2_multimer_v3 weights to /root/.cache/colabfold:  83%|████████▎ | 3.16G/3.82G [02:24<00:30, 23.5MB/s]\rDownloading alphafold2_multimer_v3 weights to /root/.cache/colabfold:  83%|████████▎ | 3.16G/3.82G [02:24<00:31, 22.6MB/s]\rDownloading alphafold2_multimer_v3 weights to /root/.cache/colabfold:  83%|████████▎ | 3.16G/3.82G [02:24<00:27, 25.8MB/s]\rDownloading alphafold2_multimer_v3 weights to /root/.cache/colabfold:  83%|████████▎ | 3.16G/3.82G [02:24<00:28, 24.6MB/s]\rDownloading alphafold2_multimer_v3 weights to /root/.cache/colabfold:  83%|████████▎ | 3.17G/3.82G [02:24<00:30, 22.6MB/s]\rDownloading alphafold2_multimer_v3 weights to /root/.cache/colabfold:  83%|████████▎ | 3.17G/3.82G [02:24<00:30, 22.9MB/s]\rDownloading alphafold2_multimer_v3 weights to /root/.cache/colabfold:  83%|████████▎ | 3.17G/3.82G [02:24<00:37, 18.5MB/s]\rDownloading alphafold2_multimer_v3 weights to /root/.cache/colabfold:  83%|████████▎ | 3.18G/3.82G [02:25<00:34, 20.1MB/s]\rDownloading alphafold2_multimer_v3 weights to /root/.cache/colabfold:  83%|████████▎ | 3.18G/3.82G [02:25<00:38, 18.1MB/s]\rDownloading alphafold2_multimer_v3 weights to /root/.cache/colabfold:  83%|████████▎ | 3.18G/3.82G [02:25<00:34, 20.0MB/s]\rDownloading alphafold2_multimer_v3 weights to /root/.cache/colabfold:  83%|████████▎ | 3.18G/3.82G [02:25<00:31, 21.4MB/s]\rDownloading alphafold2_multimer_v3 weights to /root/.cache/colabfold:  83%|████████▎ | 3.19G/3.82G [02:25<00:30, 22.3MB/s]\rDownloading alphafold2_multimer_v3 weights to /root/.cache/colabfold:  84%|████████▎ | 3.19G/3.82G [02:25<00:29, 23.0MB/s]\rDownloading alphafold2_multimer_v3 weights to /root/.cache/colabfold:  84%|████████▎ | 3.19G/3.82G [02:25<00:28, 23.5MB/s]\rDownloading alphafold2_multimer_v3 weights to /root/.cache/colabfold:  84%|████████▍ | 3.20G/3.82G [02:26<00:27, 23.8MB/s]\rDownloading alphafold2_multimer_v3 weights to /root/.cache/colabfold:  84%|████████▍ | 3.20G/3.82G [02:26<00:27, 24.0MB/s]\rDownloading alphafold2_multimer_v3 weights to /root/.cache/colabfold:  84%|████████▍ | 3.21G/3.82G [02:26<00:27, 24.1MB/s]\rDownloading alphafold2_multimer_v3 weights to /root/.cache/colabfold:  84%|████████▍ | 3.21G/3.82G [02:26<00:27, 24.2MB/s]\rDownloading alphafold2_multimer_v3 weights to /root/.cache/colabfold:  84%|████████▍ | 3.21G/3.82G [02:26<00:26, 24.3MB/s]\rDownloading alphafold2_multimer_v3 weights to /root/.cache/colabfold:  84%|████████▍ | 3.22G/3.82G [02:26<00:26, 24.3MB/s]\rDownloading alphafold2_multimer_v3 weights to /root/.cache/colabfold:  84%|████████▍ | 3.22G/3.82G [02:27<00:26, 24.4MB/s]\rDownloading alphafold2_multimer_v3 weights to /root/.cache/colabfold:  84%|████████▍ | 3.22G/3.82G [02:27<00:26, 24.4MB/s]\rDownloading alphafold2_multimer_v3 weights to /root/.cache/colabfold:  85%|████████▍ | 3.23G/3.82G [02:27<00:26, 24.4MB/s]\rDownloading alphafold2_multimer_v3 weights to /root/.cache/colabfold:  85%|████████▍ | 3.23G/3.82G [02:27<00:25, 24.4MB/s]\rDownloading alphafold2_multimer_v3 weights to /root/.cache/colabfold:  85%|████████▍ | 3.23G/3.82G [02:27<00:25, 24.4MB/s]\rDownloading alphafold2_multimer_v3 weights to /root/.cache/colabfold:  85%|████████▍ | 3.24G/3.82G [02:27<00:25, 24.4MB/s]\rDownloading alphafold2_multimer_v3 weights to /root/.cache/colabfold:  85%|████████▍ | 3.24G/3.82G [02:28<00:25, 24.4MB/s]\rDownloading alphafold2_multimer_v3 weights to /root/.cache/colabfold:  85%|████████▍ | 3.24G/3.82G [02:28<00:25, 24.4MB/s]\rDownloading alphafold2_multimer_v3 weights to /root/.cache/colabfold:  85%|████████▌ | 3.25G/3.82G [02:28<00:25, 24.4MB/s]\rDownloading alphafold2_multimer_v3 weights to /root/.cache/colabfold:  85%|████████▌ | 3.25G/3.82G [02:28<00:24, 24.5MB/s]\rDownloading alphafold2_multimer_v3 weights to /root/.cache/colabfold:  85%|████████▌ | 3.26G/3.82G [02:28<00:24, 24.5MB/s]\rDownloading alphafold2_multimer_v3 weights to /root/.cache/colabfold:  85%|████████▌ | 3.26G/3.82G [02:28<00:24, 24.5MB/s]\rDownloading alphafold2_multimer_v3 weights to /root/.cache/colabfold:  85%|████████▌ | 3.26G/3.82G [02:28<00:24, 24.5MB/s]\rDownloading alphafold2_multimer_v3 weights to /root/.cache/colabfold:  86%|████████▌ | 3.27G/3.82G [02:29<00:24, 24.5MB/s]\rDownloading alphafold2_multimer_v3 weights to /root/.cache/colabfold:  86%|████████▌ | 3.27G/3.82G [02:29<00:24, 23.9MB/s]\rDownloading alphafold2_multimer_v3 weights to /root/.cache/colabfold:  86%|████████▌ | 3.27G/3.82G [02:29<00:24, 24.1MB/s]\rDownloading alphafold2_multimer_v3 weights to /root/.cache/colabfold:  86%|████████▌ | 3.28G/3.82G [02:29<00:24, 24.2MB/s]\rDownloading alphafold2_multimer_v3 weights to /root/.cache/colabfold:  86%|████████▌ | 3.28G/3.82G [02:29<00:23, 24.3MB/s]\rDownloading alphafold2_multimer_v3 weights to /root/.cache/colabfold:  86%|████████▌ | 3.28G/3.82G [02:29<00:23, 24.4MB/s]\rDownloading alphafold2_multimer_v3 weights to /root/.cache/colabfold:  86%|████████▌ | 3.29G/3.82G [02:30<00:23, 24.4MB/s]\rDownloading alphafold2_multimer_v3 weights to /root/.cache/colabfold:  86%|████████▌ | 3.29G/3.82G [02:30<00:24, 23.6MB/s]\rDownloading alphafold2_multimer_v3 weights to /root/.cache/colabfold:  86%|████████▌ | 3.29G/3.82G [02:30<00:26, 21.7MB/s]\rDownloading alphafold2_multimer_v3 weights to /root/.cache/colabfold:  86%|████████▋ | 3.29G/3.82G [02:30<00:25, 21.8MB/s]\rDownloading alphafold2_multimer_v3 weights to /root/.cache/colabfold:  86%|████████▋ | 3.30G/3.82G [02:30<00:24, 22.6MB/s]\rDownloading alphafold2_multimer_v3 weights to /root/.cache/colabfold:  86%|████████▋ | 3.30G/3.82G [02:30<00:23, 23.2MB/s]\rDownloading alphafold2_multimer_v3 weights to /root/.cache/colabfold:  87%|████████▋ | 3.31G/3.82G [02:30<00:23, 23.6MB/s]\rDownloading alphafold2_multimer_v3 weights to /root/.cache/colabfold:  87%|████████▋ | 3.31G/3.82G [02:31<00:22, 23.8MB/s]\rDownloading alphafold2_multimer_v3 weights to /root/.cache/colabfold:  87%|████████▋ | 3.31G/3.82G [02:31<00:22, 24.0MB/s]\rDownloading alphafold2_multimer_v3 weights to /root/.cache/colabfold:  87%|████████▋ | 3.32G/3.82G [02:31<00:22, 24.1MB/s]\rDownloading alphafold2_multimer_v3 weights to /root/.cache/colabfold:  87%|████████▋ | 3.32G/3.82G [02:31<00:22, 24.3MB/s]\rDownloading alphafold2_multimer_v3 weights to /root/.cache/colabfold:  87%|████████▋ | 3.32G/3.82G [02:31<00:21, 24.3MB/s]\rDownloading alphafold2_multimer_v3 weights to /root/.cache/colabfold:  87%|████████▋ | 3.33G/3.82G [02:31<00:21, 24.4MB/s]\rDownloading alphafold2_multimer_v3 weights to /root/.cache/colabfold:  87%|████████▋ | 3.33G/3.82G [02:32<00:21, 24.4MB/s]\rDownloading alphafold2_multimer_v3 weights to /root/.cache/colabfold:  87%|████████▋ | 3.33G/3.82G [02:32<00:21, 24.5MB/s]\rDownloading alphafold2_multimer_v3 weights to /root/.cache/colabfold:  87%|████████▋ | 3.34G/3.82G [02:32<00:21, 24.5MB/s]\rDownloading alphafold2_multimer_v3 weights to /root/.cache/colabfold:  87%|████████▋ | 3.34G/3.82G [02:32<00:25, 20.2MB/s]\rDownloading alphafold2_multimer_v3 weights to /root/.cache/colabfold:  88%|████████▊ | 3.34G/3.82G [02:32<00:26, 19.3MB/s]\rDownloading alphafold2_multimer_v3 weights to /root/.cache/colabfold:  88%|████████▊ | 3.35G/3.82G [02:32<00:24, 20.8MB/s]\rDownloading alphafold2_multimer_v3 weights to /root/.cache/colabfold:  88%|████████▊ | 3.35G/3.82G [02:32<00:23, 21.9MB/s]\rDownloading alphafold2_multimer_v3 weights to /root/.cache/colabfold:  88%|████████▊ | 3.35G/3.82G [02:33<00:22, 22.7MB/s]\rDownloading alphafold2_multimer_v3 weights to /root/.cache/colabfold:  88%|████████▊ | 3.36G/3.82G [02:33<00:21, 23.2MB/s]\rDownloading alphafold2_multimer_v3 weights to /root/.cache/colabfold:  88%|████████▊ | 3.36G/3.82G [02:33<00:20, 23.5MB/s]\rDownloading alphafold2_multimer_v3 weights to /root/.cache/colabfold:  88%|████████▊ | 3.36G/3.82G [02:33<00:20, 23.8MB/s]\rDownloading alphafold2_multimer_v3 weights to /root/.cache/colabfold:  88%|████████▊ | 3.37G/3.82G [02:33<00:20, 24.0MB/s]\rDownloading alphafold2_multimer_v3 weights to /root/.cache/colabfold:  88%|████████▊ | 3.37G/3.82G [02:33<00:19, 24.1MB/s]\rDownloading alphafold2_multimer_v3 weights to /root/.cache/colabfold:  88%|████████▊ | 3.37G/3.82G [02:34<00:19, 24.2MB/s]\rDownloading alphafold2_multimer_v3 weights to /root/.cache/colabfold:  88%|████████▊ | 3.38G/3.82G [02:34<00:19, 24.3MB/s]\rDownloading alphafold2_multimer_v3 weights to /root/.cache/colabfold:  89%|████████▊ | 3.38G/3.82G [02:34<00:19, 24.4MB/s]\rDownloading alphafold2_multimer_v3 weights to /root/.cache/colabfold:  89%|████████▊ | 3.38G/3.82G [02:34<00:19, 24.4MB/s]\rDownloading alphafold2_multimer_v3 weights to /root/.cache/colabfold:  89%|████████▊ | 3.39G/3.82G [02:34<00:20, 22.8MB/s]\rDownloading alphafold2_multimer_v3 weights to /root/.cache/colabfold:  89%|████████▉ | 3.39G/3.82G [02:34<00:20, 22.5MB/s]\rDownloading alphafold2_multimer_v3 weights to /root/.cache/colabfold:  89%|████████▉ | 3.39G/3.82G [02:35<00:19, 23.1MB/s]\rDownloading alphafold2_multimer_v3 weights to /root/.cache/colabfold:  89%|████████▉ | 3.40G/3.82G [02:35<00:21, 20.6MB/s]\rDownloading alphafold2_multimer_v3 weights to /root/.cache/colabfold:  89%|████████▉ | 3.40G/3.82G [02:35<00:24, 18.6MB/s]\rDownloading alphafold2_multimer_v3 weights to /root/.cache/colabfold:  89%|████████▉ | 3.40G/3.82G [02:35<00:26, 17.2MB/s]\rDownloading alphafold2_multimer_v3 weights to /root/.cache/colabfold:  89%|████████▉ | 3.40G/3.82G [02:35<00:22, 19.4MB/s]\rDownloading alphafold2_multimer_v3 weights to /root/.cache/colabfold:  89%|████████▉ | 3.41G/3.82G [02:35<00:21, 20.9MB/s]\rDownloading alphafold2_multimer_v3 weights to /root/.cache/colabfold:  89%|████████▉ | 3.41G/3.82G [02:35<00:19, 22.0MB/s]\rDownloading alphafold2_multimer_v3 weights to /root/.cache/colabfold:  89%|████████▉ | 3.42G/3.82G [02:36<00:19, 22.7MB/s]\rDownloading alphafold2_multimer_v3 weights to /root/.cache/colabfold:  90%|████████▉ | 3.42G/3.82G [02:36<00:18, 23.2MB/s]\rDownloading alphafold2_multimer_v3 weights to /root/.cache/colabfold:  90%|████████▉ | 3.42G/3.82G [02:36<00:18, 23.6MB/s]\rDownloading alphafold2_multimer_v3 weights to /root/.cache/colabfold:  90%|████████▉ | 3.43G/3.82G [02:36<00:17, 23.9MB/s]\rDownloading alphafold2_multimer_v3 weights to /root/.cache/colabfold:  90%|████████▉ | 3.43G/3.82G [02:36<00:17, 24.0MB/s]\rDownloading alphafold2_multimer_v3 weights to /root/.cache/colabfold:  90%|████████▉ | 3.43G/3.82G [02:36<00:17, 24.2MB/s]\rDownloading alphafold2_multimer_v3 weights to /root/.cache/colabfold:  90%|█████████ | 3.44G/3.82G [02:36<00:15, 27.0MB/s]\rDownloading alphafold2_multimer_v3 weights to /root/.cache/colabfold:  90%|█████████ | 3.44G/3.82G [02:37<00:16, 24.9MB/s]\rDownloading alphafold2_multimer_v3 weights to /root/.cache/colabfold:  90%|█████████ | 3.44G/3.82G [02:37<00:17, 23.2MB/s]\rDownloading alphafold2_multimer_v3 weights to /root/.cache/colabfold:  90%|█████████ | 3.44G/3.82G [02:37<00:16, 25.0MB/s]\rDownloading alphafold2_multimer_v3 weights to /root/.cache/colabfold:  90%|█████████ | 3.45G/3.82G [02:37<00:16, 23.5MB/s]\rDownloading alphafold2_multimer_v3 weights to /root/.cache/colabfold:  90%|█████████ | 3.45G/3.82G [02:37<00:16, 23.8MB/s]\rDownloading alphafold2_multimer_v3 weights to /root/.cache/colabfold:  90%|█████████ | 3.45G/3.82G [02:37<00:16, 24.0MB/s]\rDownloading alphafold2_multimer_v3 weights to /root/.cache/colabfold:  91%|█████████ | 3.46G/3.82G [02:37<00:16, 24.2MB/s]\rDownloading alphafold2_multimer_v3 weights to /root/.cache/colabfold:  91%|█████████ | 3.46G/3.82G [02:38<00:14, 27.2MB/s]\rDownloading alphafold2_multimer_v3 weights to /root/.cache/colabfold:  91%|█████████ | 3.46G/3.82G [02:38<00:15, 25.0MB/s]\rDownloading alphafold2_multimer_v3 weights to /root/.cache/colabfold:  91%|█████████ | 3.47G/3.82G [02:38<00:16, 23.2MB/s]\rDownloading alphafold2_multimer_v3 weights to /root/.cache/colabfold:  91%|█████████ | 3.47G/3.82G [02:38<00:14, 25.0MB/s]\rDownloading alphafold2_multimer_v3 weights to /root/.cache/colabfold:  91%|█████████ | 3.47G/3.82G [02:38<00:15, 23.5MB/s]\rDownloading alphafold2_multimer_v3 weights to /root/.cache/colabfold:  91%|█████████ | 3.48G/3.82G [02:38<00:14, 24.9MB/s]\rDownloading alphafold2_multimer_v3 weights to /root/.cache/colabfold:  91%|█████████ | 3.48G/3.82G [02:38<00:16, 22.6MB/s]\rDownloading alphafold2_multimer_v3 weights to /root/.cache/colabfold:  91%|█████████ | 3.48G/3.82G [02:38<00:15, 23.8MB/s]\rDownloading alphafold2_multimer_v3 weights to /root/.cache/colabfold:  91%|█████████ | 3.48G/3.82G [02:39<00:16, 21.9MB/s]\rDownloading alphafold2_multimer_v3 weights to /root/.cache/colabfold:  91%|█████████▏| 3.49G/3.82G [02:39<00:15, 22.5MB/s]\rDownloading alphafold2_multimer_v3 weights to /root/.cache/colabfold:  91%|█████████▏| 3.49G/3.82G [02:39<00:15, 23.0MB/s]\rDownloading alphafold2_multimer_v3 weights to /root/.cache/colabfold:  91%|█████████▏| 3.49G/3.82G [02:39<00:14, 23.5MB/s]\rDownloading alphafold2_multimer_v3 weights to /root/.cache/colabfold:  92%|█████████▏| 3.50G/3.82G [02:39<00:14, 23.8MB/s]\rDownloading alphafold2_multimer_v3 weights to /root/.cache/colabfold:  92%|█████████▏| 3.50G/3.82G [02:39<00:14, 24.0MB/s]\rDownloading alphafold2_multimer_v3 weights to /root/.cache/colabfold:  92%|█████████▏| 3.50G/3.82G [02:40<00:13, 24.2MB/s]\rDownloading alphafold2_multimer_v3 weights to /root/.cache/colabfold:  92%|█████████▏| 3.51G/3.82G [02:40<00:12, 26.2MB/s]\rDownloading alphafold2_multimer_v3 weights to /root/.cache/colabfold:  92%|█████████▏| 3.51G/3.82G [02:40<00:13, 25.0MB/s]\rDownloading alphafold2_multimer_v3 weights to /root/.cache/colabfold:  92%|█████████▏| 3.51G/3.82G [02:40<00:13, 24.9MB/s]\rDownloading alphafold2_multimer_v3 weights to /root/.cache/colabfold:  92%|█████████▏| 3.51G/3.82G [02:40<00:13, 23.3MB/s]\rDownloading alphafold2_multimer_v3 weights to /root/.cache/colabfold:  92%|█████████▏| 3.52G/3.82G [02:40<00:12, 26.2MB/s]\rDownloading alphafold2_multimer_v3 weights to /root/.cache/colabfold:  92%|█████████▏| 3.52G/3.82G [02:40<00:12, 24.9MB/s]\rDownloading alphafold2_multimer_v3 weights to /root/.cache/colabfold:  92%|█████████▏| 3.52G/3.82G [02:40<00:12, 24.8MB/s]\rDownloading alphafold2_multimer_v3 weights to /root/.cache/colabfold:  92%|█████████▏| 3.53G/3.82G [02:40<00:13, 22.9MB/s]\rDownloading alphafold2_multimer_v3 weights to /root/.cache/colabfold:  92%|█████████▏| 3.53G/3.82G [02:41<00:11, 26.0MB/s]\rDownloading alphafold2_multimer_v3 weights to /root/.cache/colabfold:  92%|█████████▏| 3.53G/3.82G [02:41<00:12, 24.6MB/s]\rDownloading alphafold2_multimer_v3 weights to /root/.cache/colabfold:  93%|█████████▎| 3.53G/3.82G [02:41<00:12, 24.7MB/s]\rDownloading alphafold2_multimer_v3 weights to /root/.cache/colabfold:  93%|█████████▎| 3.54G/3.82G [02:41<00:13, 22.9MB/s]\rDownloading alphafold2_multimer_v3 weights to /root/.cache/colabfold:  93%|█████████▎| 3.54G/3.82G [02:41<00:11, 25.8MB/s]\rDownloading alphafold2_multimer_v3 weights to /root/.cache/colabfold:  93%|█████████▎| 3.54G/3.82G [02:41<00:12, 24.5MB/s]\rDownloading alphafold2_multimer_v3 weights to /root/.cache/colabfold:  93%|█████████▎| 3.54G/3.82G [02:41<00:11, 24.6MB/s]\rDownloading alphafold2_multimer_v3 weights to /root/.cache/colabfold:  93%|█████████▎| 3.55G/3.82G [02:41<00:12, 22.9MB/s]\rDownloading alphafold2_multimer_v3 weights to /root/.cache/colabfold:  93%|█████████▎| 3.55G/3.82G [02:42<00:11, 24.7MB/s]\rDownloading alphafold2_multimer_v3 weights to /root/.cache/colabfold:  93%|█████████▎| 3.55G/3.82G [02:42<00:11, 24.0MB/s]\rDownloading alphafold2_multimer_v3 weights to /root/.cache/colabfold:  93%|█████████▎| 3.55G/3.82G [02:42<00:11, 23.9MB/s]\rDownloading alphafold2_multimer_v3 weights to /root/.cache/colabfold:  93%|█████████▎| 3.56G/3.82G [02:42<00:10, 25.8MB/s]\rDownloading alphafold2_multimer_v3 weights to /root/.cache/colabfold:  93%|█████████▎| 3.56G/3.82G [02:42<00:11, 24.7MB/s]\rDownloading alphafold2_multimer_v3 weights to /root/.cache/colabfold:  93%|█████████▎| 3.56G/3.82G [02:42<00:12, 21.3MB/s]\rDownloading alphafold2_multimer_v3 weights to /root/.cache/colabfold:  93%|█████████▎| 3.56G/3.82G [02:42<00:13, 19.9MB/s]\rDownloading alphafold2_multimer_v3 weights to /root/.cache/colabfold:  93%|█████████▎| 3.57G/3.82G [02:42<00:12, 21.4MB/s]\rDownloading alphafold2_multimer_v3 weights to /root/.cache/colabfold:  94%|█████████▎| 3.57G/3.82G [02:43<00:11, 22.3MB/s]\rDownloading alphafold2_multimer_v3 weights to /root/.cache/colabfold:  94%|█████████▎| 3.57G/3.82G [02:43<00:11, 23.0MB/s]\rDownloading alphafold2_multimer_v3 weights to /root/.cache/colabfold:  94%|█████████▎| 3.58G/3.82G [02:43<00:10, 23.5MB/s]\rDownloading alphafold2_multimer_v3 weights to /root/.cache/colabfold:  94%|█████████▍| 3.58G/3.82G [02:43<00:10, 23.7MB/s]\rDownloading alphafold2_multimer_v3 weights to /root/.cache/colabfold:  94%|█████████▍| 3.59G/3.82G [02:43<00:10, 24.0MB/s]\rDownloading alphafold2_multimer_v3 weights to /root/.cache/colabfold:  94%|█████████▍| 3.59G/3.82G [02:43<00:10, 24.1MB/s]\rDownloading alphafold2_multimer_v3 weights to /root/.cache/colabfold:  94%|█████████▍| 3.59G/3.82G [02:44<00:10, 24.2MB/s]\rDownloading alphafold2_multimer_v3 weights to /root/.cache/colabfold:  94%|█████████▍| 3.60G/3.82G [02:44<00:09, 24.3MB/s]\rDownloading alphafold2_multimer_v3 weights to /root/.cache/colabfold:  94%|█████████▍| 3.60G/3.82G [02:44<00:09, 24.3MB/s]\rDownloading alphafold2_multimer_v3 weights to /root/.cache/colabfold:  94%|█████████▍| 3.60G/3.82G [02:44<00:09, 24.4MB/s]\rDownloading alphafold2_multimer_v3 weights to /root/.cache/colabfold:  94%|█████████▍| 3.61G/3.82G [02:44<00:09, 24.3MB/s]\rDownloading alphafold2_multimer_v3 weights to /root/.cache/colabfold:  95%|█████████▍| 3.61G/3.82G [02:44<00:09, 24.4MB/s]\rDownloading alphafold2_multimer_v3 weights to /root/.cache/colabfold:  95%|█████████▍| 3.61G/3.82G [02:44<00:08, 24.4MB/s]\rDownloading alphafold2_multimer_v3 weights to /root/.cache/colabfold:  95%|█████████▍| 3.62G/3.82G [02:45<00:08, 24.4MB/s]\rDownloading alphafold2_multimer_v3 weights to /root/.cache/colabfold:  95%|█████████▍| 3.62G/3.82G [02:45<00:08, 24.4MB/s]\rDownloading alphafold2_multimer_v3 weights to /root/.cache/colabfold:  95%|█████████▍| 3.62G/3.82G [02:45<00:08, 24.4MB/s]\rDownloading alphafold2_multimer_v3 weights to /root/.cache/colabfold:  95%|█████████▌| 3.63G/3.82G [02:45<00:08, 24.4MB/s]\rDownloading alphafold2_multimer_v3 weights to /root/.cache/colabfold:  95%|█████████▌| 3.63G/3.82G [02:45<00:08, 24.4MB/s]\rDownloading alphafold2_multimer_v3 weights to /root/.cache/colabfold:  95%|█████████▌| 3.63G/3.82G [02:45<00:08, 24.4MB/s]\rDownloading alphafold2_multimer_v3 weights to /root/.cache/colabfold:  95%|█████████▌| 3.64G/3.82G [02:46<00:07, 24.4MB/s]\rDownloading alphafold2_multimer_v3 weights to /root/.cache/colabfold:  95%|█████████▌| 3.64G/3.82G [02:46<00:07, 24.5MB/s]\rDownloading alphafold2_multimer_v3 weights to /root/.cache/colabfold:  95%|█████████▌| 3.65G/3.82G [02:46<00:07, 24.4MB/s]\rDownloading alphafold2_multimer_v3 weights to /root/.cache/colabfold:  96%|█████████▌| 3.65G/3.82G [02:46<00:06, 26.8MB/s]\rDownloading alphafold2_multimer_v3 weights to /root/.cache/colabfold:  96%|█████████▌| 3.65G/3.82G [02:46<00:07, 24.6MB/s]\rDownloading alphafold2_multimer_v3 weights to /root/.cache/colabfold:  96%|█████████▌| 3.65G/3.82G [02:46<00:07, 23.4MB/s]\rDownloading alphafold2_multimer_v3 weights to /root/.cache/colabfold:  96%|█████████▌| 3.66G/3.82G [02:46<00:06, 26.0MB/s]\rDownloading alphafold2_multimer_v3 weights to /root/.cache/colabfold:  96%|█████████▌| 3.66G/3.82G [02:46<00:07, 23.9MB/s]\rDownloading alphafold2_multimer_v3 weights to /root/.cache/colabfold:  96%|█████████▌| 3.66G/3.82G [02:47<00:06, 26.5MB/s]\rDownloading alphafold2_multimer_v3 weights to /root/.cache/colabfold:  96%|█████████▌| 3.67G/3.82G [02:47<00:06, 24.2MB/s]\rDownloading alphafold2_multimer_v3 weights to /root/.cache/colabfold:  96%|█████████▌| 3.67G/3.82G [02:47<00:07, 22.9MB/s]\rDownloading alphafold2_multimer_v3 weights to /root/.cache/colabfold:  96%|█████████▌| 3.67G/3.82G [02:47<00:06, 25.7MB/s]\rDownloading alphafold2_multimer_v3 weights to /root/.cache/colabfold:  96%|█████████▌| 3.67G/3.82G [02:47<00:06, 23.6MB/s]\rDownloading alphafold2_multimer_v3 weights to /root/.cache/colabfold:  96%|█████████▋| 3.68G/3.82G [02:47<00:08, 17.8MB/s]\rDownloading alphafold2_multimer_v3 weights to /root/.cache/colabfold:  96%|█████████▋| 3.68G/3.82G [02:48<00:07, 19.6MB/s]\rDownloading alphafold2_multimer_v3 weights to /root/.cache/colabfold:  96%|█████████▋| 3.68G/3.82G [02:48<00:06, 23.4MB/s]\rDownloading alphafold2_multimer_v3 weights to /root/.cache/colabfold:  97%|█████████▋| 3.69G/3.82G [02:48<00:06, 22.0MB/s]\rDownloading alphafold2_multimer_v3 weights to /root/.cache/colabfold:  97%|█████████▋| 3.69G/3.82G [02:48<00:06, 21.5MB/s]\rDownloading alphafold2_multimer_v3 weights to /root/.cache/colabfold:  97%|█████████▋| 3.69G/3.82G [02:48<00:05, 24.3MB/s]\rDownloading alphafold2_multimer_v3 weights to /root/.cache/colabfold:  97%|█████████▋| 3.69G/3.82G [02:48<00:05, 22.6MB/s]\rDownloading alphafold2_multimer_v3 weights to /root/.cache/colabfold:  97%|█████████▋| 3.70G/3.82G [02:48<00:04, 26.1MB/s]\rDownloading alphafold2_multimer_v3 weights to /root/.cache/colabfold:  97%|█████████▋| 3.70G/3.82G [02:48<00:05, 23.9MB/s]\rDownloading alphafold2_multimer_v3 weights to /root/.cache/colabfold:  97%|█████████▋| 3.70G/3.82G [02:49<00:05, 22.6MB/s]\rDownloading alphafold2_multimer_v3 weights to /root/.cache/colabfold:  97%|█████████▋| 3.71G/3.82G [02:49<00:05, 22.6MB/s]\rDownloading alphafold2_multimer_v3 weights to /root/.cache/colabfold:  97%|█████████▋| 3.71G/3.82G [02:49<00:04, 23.8MB/s]\rDownloading alphafold2_multimer_v3 weights to /root/.cache/colabfold:  97%|█████████▋| 3.71G/3.82G [02:49<00:04, 27.2MB/s]\rDownloading alphafold2_multimer_v3 weights to /root/.cache/colabfold:  97%|█████████▋| 3.71G/3.82G [02:49<00:04, 24.7MB/s]\rDownloading alphafold2_multimer_v3 weights to /root/.cache/colabfold:  97%|█████████▋| 3.72G/3.82G [02:49<00:04, 23.6MB/s]\rDownloading alphafold2_multimer_v3 weights to /root/.cache/colabfold:  97%|█████████▋| 3.72G/3.82G [02:49<00:04, 23.5MB/s]\rDownloading alphafold2_multimer_v3 weights to /root/.cache/colabfold:  97%|█████████▋| 3.72G/3.82G [02:49<00:03, 26.9MB/s]\rDownloading alphafold2_multimer_v3 weights to /root/.cache/colabfold:  98%|█████████▊| 3.73G/3.82G [02:49<00:04, 24.3MB/s]\rDownloading alphafold2_multimer_v3 weights to /root/.cache/colabfold:  98%|█████████▊| 3.73G/3.82G [02:50<00:04, 23.3MB/s]\rDownloading alphafold2_multimer_v3 weights to /root/.cache/colabfold:  98%|█████████▊| 3.73G/3.82G [02:50<00:04, 23.3MB/s]\rDownloading alphafold2_multimer_v3 weights to /root/.cache/colabfold:  98%|█████████▊| 3.73G/3.82G [02:50<00:05, 16.1MB/s]\rDownloading alphafold2_multimer_v3 weights to /root/.cache/colabfold:  98%|█████████▊| 3.74G/3.82G [02:50<00:04, 18.5MB/s]\rDownloading alphafold2_multimer_v3 weights to /root/.cache/colabfold:  98%|█████████▊| 3.74G/3.82G [02:50<00:04, 20.1MB/s]\rDownloading alphafold2_multimer_v3 weights to /root/.cache/colabfold:  98%|█████████▊| 3.74G/3.82G [02:50<00:03, 21.4MB/s]\rDownloading alphafold2_multimer_v3 weights to /root/.cache/colabfold:  98%|█████████▊| 3.75G/3.82G [02:51<00:03, 19.9MB/s]\rDownloading alphafold2_multimer_v3 weights to /root/.cache/colabfold:  98%|█████████▊| 3.75G/3.82G [02:51<00:03, 21.6MB/s]\rDownloading alphafold2_multimer_v3 weights to /root/.cache/colabfold:  98%|█████████▊| 3.75G/3.82G [02:51<00:03, 19.0MB/s]\rDownloading alphafold2_multimer_v3 weights to /root/.cache/colabfold:  98%|█████████▊| 3.76G/3.82G [02:51<00:03, 20.4MB/s]\rDownloading alphafold2_multimer_v3 weights to /root/.cache/colabfold:  98%|█████████▊| 3.76G/3.82G [02:51<00:02, 21.6MB/s]\rDownloading alphafold2_multimer_v3 weights to /root/.cache/colabfold:  99%|█████████▊| 3.76G/3.82G [02:51<00:02, 22.4MB/s]\rDownloading alphafold2_multimer_v3 weights to /root/.cache/colabfold:  99%|█████████▊| 3.77G/3.82G [02:52<00:02, 23.0MB/s]\rDownloading alphafold2_multimer_v3 weights to /root/.cache/colabfold:  99%|█████████▊| 3.77G/3.82G [02:52<00:02, 23.4MB/s]\rDownloading alphafold2_multimer_v3 weights to /root/.cache/colabfold:  99%|█████████▉| 3.77G/3.82G [02:52<00:02, 23.7MB/s]\rDownloading alphafold2_multimer_v3 weights to /root/.cache/colabfold:  99%|█████████▉| 3.78G/3.82G [02:52<00:01, 23.9MB/s]\rDownloading alphafold2_multimer_v3 weights to /root/.cache/colabfold:  99%|█████████▉| 3.78G/3.82G [02:52<00:01, 24.1MB/s]\rDownloading alphafold2_multimer_v3 weights to /root/.cache/colabfold:  99%|█████████▉| 3.78G/3.82G [02:52<00:01, 24.2MB/s]\rDownloading alphafold2_multimer_v3 weights to /root/.cache/colabfold:  99%|█████████▉| 3.79G/3.82G [02:53<00:01, 24.3MB/s]\rDownloading alphafold2_multimer_v3 weights to /root/.cache/colabfold:  99%|█████████▉| 3.79G/3.82G [02:53<00:01, 24.4MB/s]\rDownloading alphafold2_multimer_v3 weights to /root/.cache/colabfold:  99%|█████████▉| 3.80G/3.82G [02:53<00:01, 24.4MB/s]\rDownloading alphafold2_multimer_v3 weights to /root/.cache/colabfold:  99%|█████████▉| 3.80G/3.82G [02:53<00:00, 24.4MB/s]\rDownloading alphafold2_multimer_v3 weights to /root/.cache/colabfold: 100%|█████████▉| 3.80G/3.82G [02:53<00:00, 24.4MB/s]\rDownloading alphafold2_multimer_v3 weights to /root/.cache/colabfold: 100%|█████████▉| 3.81G/3.82G [02:53<00:00, 24.4MB/s]\rDownloading alphafold2_multimer_v3 weights to /root/.cache/colabfold: 100%|█████████▉| 3.81G/3.82G [02:53<00:00, 27.2MB/s]\rDownloading alphafold2_multimer_v3 weights to /root/.cache/colabfold: 100%|█████████▉| 3.81G/3.82G [02:54<00:00, 25.3MB/s]\rDownloading alphafold2_multimer_v3 weights to /root/.cache/colabfold: 100%|█████████▉| 3.81G/3.82G [02:54<00:00, 24.2MB/s]\rDownloading alphafold2_multimer_v3 weights to /root/.cache/colabfold: 100%|█████████▉| 3.82G/3.82G [02:54<00:00, 23.6MB/s]\rDownloading alphafold2_multimer_v3 weights to /root/.cache/colabfold: 100%|██████████| 3.82G/3.82G [02:54<00:00, 23.5MB/s]\n",
            "\rDownloading AlphaFold2-ptm weights to /root/.cache/colabfold:   0%|          | 0/3722752000 [00:00<?, ?it/s]\rDownloading AlphaFold2-ptm weights to /root/.cache/colabfold:   0%|          | 50.0k/3.47G [00:00<3:57:04, 262kB/s]\rDownloading AlphaFold2-ptm weights to /root/.cache/colabfold:   0%|          | 80.0k/3.47G [00:00<4:49:47, 214kB/s]\rDownloading AlphaFold2-ptm weights to /root/.cache/colabfold:   0%|          | 160k/3.47G [00:00<2:51:20, 362kB/s] \rDownloading AlphaFold2-ptm weights to /root/.cache/colabfold:   0%|          | 240k/3.47G [00:00<2:07:11, 488kB/s]\rDownloading AlphaFold2-ptm weights to /root/.cache/colabfold:   0%|          | 370k/3.47G [00:00<1:25:37, 725kB/s]\rDownloading AlphaFold2-ptm weights to /root/.cache/colabfold:   0%|          | 560k/3.47G [00:00<59:03, 1.05MB/s] \rDownloading AlphaFold2-ptm weights to /root/.cache/colabfold:   0%|          | 850k/3.47G [00:00<38:51, 1.60MB/s]\rDownloading AlphaFold2-ptm weights to /root/.cache/colabfold:   0%|          | 1.27M/3.47G [00:01<25:09, 2.47MB/s]\rDownloading AlphaFold2-ptm weights to /root/.cache/colabfold:   0%|          | 1.92M/3.47G [00:01<16:32, 3.75MB/s]\rDownloading AlphaFold2-ptm weights to /root/.cache/colabfold:   0%|          | 3.02M/3.47G [00:01<10:18, 6.01MB/s]\rDownloading AlphaFold2-ptm weights to /root/.cache/colabfold:   0%|          | 4.63M/3.47G [00:01<06:42, 9.23MB/s]\rDownloading AlphaFold2-ptm weights to /root/.cache/colabfold:   0%|          | 7.23M/3.47G [00:01<04:15, 14.6MB/s]\rDownloading AlphaFold2-ptm weights to /root/.cache/colabfold:   0%|          | 9.32M/3.47G [00:01<03:42, 16.7MB/s]\rDownloading AlphaFold2-ptm weights to /root/.cache/colabfold:   0%|          | 11.7M/3.47G [00:01<03:12, 19.2MB/s]\rDownloading AlphaFold2-ptm weights to /root/.cache/colabfold:   0%|          | 14.3M/3.47G [00:01<02:51, 21.6MB/s]\rDownloading AlphaFold2-ptm weights to /root/.cache/colabfold:   0%|          | 16.6M/3.47G [00:01<02:50, 21.7MB/s]\rDownloading AlphaFold2-ptm weights to /root/.cache/colabfold:   1%|          | 19.1M/3.47G [00:01<02:42, 22.8MB/s]\rDownloading AlphaFold2-ptm weights to /root/.cache/colabfold:   1%|          | 21.6M/3.47G [00:02<02:33, 24.0MB/s]\rDownloading AlphaFold2-ptm weights to /root/.cache/colabfold:   1%|          | 23.9M/3.47G [00:02<02:37, 23.4MB/s]\rDownloading AlphaFold2-ptm weights to /root/.cache/colabfold:   1%|          | 26.4M/3.47G [00:02<02:34, 23.9MB/s]\rDownloading AlphaFold2-ptm weights to /root/.cache/colabfold:   1%|          | 28.8M/3.47G [00:02<02:32, 24.2MB/s]\rDownloading AlphaFold2-ptm weights to /root/.cache/colabfold:   1%|          | 31.2M/3.47G [00:02<02:33, 24.1MB/s]\rDownloading AlphaFold2-ptm weights to /root/.cache/colabfold:   1%|          | 33.7M/3.47G [00:02<02:30, 24.4MB/s]\rDownloading AlphaFold2-ptm weights to /root/.cache/colabfold:   1%|          | 36.1M/3.47G [00:02<02:29, 24.6MB/s]\rDownloading AlphaFold2-ptm weights to /root/.cache/colabfold:   1%|          | 38.5M/3.47G [00:02<02:31, 24.3MB/s]\rDownloading AlphaFold2-ptm weights to /root/.cache/colabfold:   1%|          | 41.0M/3.47G [00:02<02:29, 24.6MB/s]\rDownloading AlphaFold2-ptm weights to /root/.cache/colabfold:   1%|          | 43.4M/3.47G [00:02<02:28, 24.7MB/s]\rDownloading AlphaFold2-ptm weights to /root/.cache/colabfold:   1%|▏         | 45.8M/3.47G [00:03<02:30, 24.4MB/s]\rDownloading AlphaFold2-ptm weights to /root/.cache/colabfold:   1%|▏         | 48.3M/3.47G [00:03<02:29, 24.6MB/s]\rDownloading AlphaFold2-ptm weights to /root/.cache/colabfold:   1%|▏         | 50.7M/3.47G [00:03<02:27, 24.8MB/s]\rDownloading AlphaFold2-ptm weights to /root/.cache/colabfold:   1%|▏         | 53.1M/3.47G [00:03<02:30, 24.4MB/s]\rDownloading AlphaFold2-ptm weights to /root/.cache/colabfold:   2%|▏         | 55.5M/3.47G [00:03<02:28, 24.6MB/s]\rDownloading AlphaFold2-ptm weights to /root/.cache/colabfold:   2%|▏         | 58.0M/3.47G [00:03<02:27, 24.8MB/s]\rDownloading AlphaFold2-ptm weights to /root/.cache/colabfold:   2%|▏         | 60.4M/3.47G [00:03<02:27, 24.8MB/s]\rDownloading AlphaFold2-ptm weights to /root/.cache/colabfold:   2%|▏         | 62.9M/3.47G [00:03<02:32, 24.0MB/s]\rDownloading AlphaFold2-ptm weights to /root/.cache/colabfold:   2%|▏         | 65.7M/3.47G [00:03<02:22, 25.6MB/s]\rDownloading AlphaFold2-ptm weights to /root/.cache/colabfold:   2%|▏         | 68.2M/3.47G [00:04<02:28, 24.6MB/s]\rDownloading AlphaFold2-ptm weights to /root/.cache/colabfold:   2%|▏         | 70.6M/3.47G [00:04<02:29, 24.3MB/s]\rDownloading AlphaFold2-ptm weights to /root/.cache/colabfold:   2%|▏         | 73.4M/3.47G [00:04<02:26, 24.9MB/s]\rDownloading AlphaFold2-ptm weights to /root/.cache/colabfold:   2%|▏         | 75.8M/3.47G [00:04<02:27, 24.7MB/s]\rDownloading AlphaFold2-ptm weights to /root/.cache/colabfold:   2%|▏         | 78.3M/3.47G [00:04<02:32, 23.8MB/s]\rDownloading AlphaFold2-ptm weights to /root/.cache/colabfold:   2%|▏         | 81.1M/3.47G [00:04<02:32, 23.9MB/s]\rDownloading AlphaFold2-ptm weights to /root/.cache/colabfold:   2%|▏         | 83.9M/3.47G [00:04<02:23, 25.4MB/s]\rDownloading AlphaFold2-ptm weights to /root/.cache/colabfold:   2%|▏         | 86.4M/3.47G [00:04<02:29, 24.3MB/s]\rDownloading AlphaFold2-ptm weights to /root/.cache/colabfold:   2%|▏         | 88.7M/3.47G [00:04<02:29, 24.3MB/s]\rDownloading AlphaFold2-ptm weights to /root/.cache/colabfold:   3%|▎         | 91.3M/3.47G [00:05<02:23, 25.2MB/s]\rDownloading AlphaFold2-ptm weights to /root/.cache/colabfold:   3%|▎         | 93.8M/3.47G [00:05<02:29, 24.2MB/s]\rDownloading AlphaFold2-ptm weights to /root/.cache/colabfold:   3%|▎         | 96.1M/3.47G [00:05<02:32, 23.7MB/s]\rDownloading AlphaFold2-ptm weights to /root/.cache/colabfold:   3%|▎         | 98.9M/3.47G [00:05<02:27, 24.6MB/s]\rDownloading AlphaFold2-ptm weights to /root/.cache/colabfold:   3%|▎         | 101M/3.47G [00:05<02:28, 24.3MB/s] \rDownloading AlphaFold2-ptm weights to /root/.cache/colabfold:   3%|▎         | 104M/3.47G [00:05<02:33, 23.6MB/s]\rDownloading AlphaFold2-ptm weights to /root/.cache/colabfold:   3%|▎         | 106M/3.47G [00:05<02:26, 24.6MB/s]\rDownloading AlphaFold2-ptm weights to /root/.cache/colabfold:   3%|▎         | 109M/3.47G [00:05<02:27, 24.5MB/s]\rDownloading AlphaFold2-ptm weights to /root/.cache/colabfold:   3%|▎         | 111M/3.47G [00:05<02:32, 23.7MB/s]\rDownloading AlphaFold2-ptm weights to /root/.cache/colabfold:   3%|▎         | 114M/3.47G [00:05<02:23, 25.1MB/s]\rDownloading AlphaFold2-ptm weights to /root/.cache/colabfold:   3%|▎         | 116M/3.47G [00:06<02:24, 24.9MB/s]\rDownloading AlphaFold2-ptm weights to /root/.cache/colabfold:   3%|▎         | 119M/3.47G [00:06<02:30, 24.0MB/s]\rDownloading AlphaFold2-ptm weights to /root/.cache/colabfold:   3%|▎         | 121M/3.47G [00:06<02:34, 23.3MB/s]\rDownloading AlphaFold2-ptm weights to /root/.cache/colabfold:   3%|▎         | 124M/3.47G [00:06<02:59, 20.0MB/s]\rDownloading AlphaFold2-ptm weights to /root/.cache/colabfold:   4%|▎         | 126M/3.47G [00:06<03:21, 17.8MB/s]\rDownloading AlphaFold2-ptm weights to /root/.cache/colabfold:   4%|▎         | 129M/3.47G [00:06<02:59, 19.9MB/s]\rDownloading AlphaFold2-ptm weights to /root/.cache/colabfold:   4%|▎         | 133M/3.47G [00:06<02:48, 21.3MB/s]\rDownloading AlphaFold2-ptm weights to /root/.cache/colabfold:   4%|▍         | 137M/3.47G [00:07<02:41, 22.2MB/s]\rDownloading AlphaFold2-ptm weights to /root/.cache/colabfold:   4%|▍         | 140M/3.47G [00:07<02:36, 22.9MB/s]\rDownloading AlphaFold2-ptm weights to /root/.cache/colabfold:   4%|▍         | 144M/3.47G [00:07<02:33, 23.3MB/s]\rDownloading AlphaFold2-ptm weights to /root/.cache/colabfold:   4%|▍         | 148M/3.47G [00:07<02:30, 23.6MB/s]\rDownloading AlphaFold2-ptm weights to /root/.cache/colabfold:   4%|▍         | 151M/3.47G [00:07<02:29, 23.9MB/s]\rDownloading AlphaFold2-ptm weights to /root/.cache/colabfold:   4%|▍         | 155M/3.47G [00:07<02:28, 24.0MB/s]\rDownloading AlphaFold2-ptm weights to /root/.cache/colabfold:   4%|▍         | 159M/3.47G [00:08<02:27, 24.1MB/s]\rDownloading AlphaFold2-ptm weights to /root/.cache/colabfold:   5%|▍         | 162M/3.47G [00:08<02:27, 24.2MB/s]\rDownloading AlphaFold2-ptm weights to /root/.cache/colabfold:   5%|▍         | 166M/3.47G [00:08<02:26, 24.3MB/s]\rDownloading AlphaFold2-ptm weights to /root/.cache/colabfold:   5%|▍         | 169M/3.47G [00:08<02:26, 24.2MB/s]\rDownloading AlphaFold2-ptm weights to /root/.cache/colabfold:   5%|▍         | 173M/3.47G [00:08<02:25, 24.3MB/s]\rDownloading AlphaFold2-ptm weights to /root/.cache/colabfold:   5%|▍         | 177M/3.47G [00:08<02:40, 22.0MB/s]\rDownloading AlphaFold2-ptm weights to /root/.cache/colabfold:   5%|▌         | 180M/3.47G [00:09<02:41, 21.9MB/s]\rDownloading AlphaFold2-ptm weights to /root/.cache/colabfold:   5%|▌         | 184M/3.47G [00:09<02:36, 22.6MB/s]\rDownloading AlphaFold2-ptm weights to /root/.cache/colabfold:   5%|▌         | 187M/3.47G [00:09<02:32, 23.1MB/s]\rDownloading AlphaFold2-ptm weights to /root/.cache/colabfold:   5%|▌         | 191M/3.47G [00:09<02:30, 23.5MB/s]\rDownloading AlphaFold2-ptm weights to /root/.cache/colabfold:   5%|▌         | 195M/3.47G [00:09<02:28, 23.7MB/s]\rDownloading AlphaFold2-ptm weights to /root/.cache/colabfold:   6%|▌         | 198M/3.47G [00:09<02:26, 23.9MB/s]\rDownloading AlphaFold2-ptm weights to /root/.cache/colabfold:   6%|▌         | 202M/3.47G [00:10<02:26, 24.0MB/s]\rDownloading AlphaFold2-ptm weights to /root/.cache/colabfold:   6%|▌         | 206M/3.47G [00:10<02:25, 24.1MB/s]\rDownloading AlphaFold2-ptm weights to /root/.cache/colabfold:   6%|▌         | 209M/3.47G [00:10<02:25, 24.1MB/s]\rDownloading AlphaFold2-ptm weights to /root/.cache/colabfold:   6%|▌         | 213M/3.47G [00:10<02:24, 24.1MB/s]\rDownloading AlphaFold2-ptm weights to /root/.cache/colabfold:   6%|▌         | 217M/3.47G [00:10<02:24, 24.2MB/s]\rDownloading AlphaFold2-ptm weights to /root/.cache/colabfold:   6%|▌         | 220M/3.47G [00:10<02:24, 24.2MB/s]\rDownloading AlphaFold2-ptm weights to /root/.cache/colabfold:   6%|▋         | 224M/3.47G [00:10<02:24, 24.2MB/s]\rDownloading AlphaFold2-ptm weights to /root/.cache/colabfold:   6%|▋         | 227M/3.47G [00:11<02:23, 24.2MB/s]\rDownloading AlphaFold2-ptm weights to /root/.cache/colabfold:   7%|▋         | 231M/3.47G [00:11<02:23, 24.2MB/s]\rDownloading AlphaFold2-ptm weights to /root/.cache/colabfold:   7%|▋         | 235M/3.47G [00:11<02:23, 24.3MB/s]\rDownloading AlphaFold2-ptm weights to /root/.cache/colabfold:   7%|▋         | 238M/3.47G [00:11<02:23, 24.3MB/s]\rDownloading AlphaFold2-ptm weights to /root/.cache/colabfold:   7%|▋         | 242M/3.47G [00:11<02:22, 24.3MB/s]\rDownloading AlphaFold2-ptm weights to /root/.cache/colabfold:   7%|▋         | 246M/3.47G [00:11<02:22, 24.3MB/s]\rDownloading AlphaFold2-ptm weights to /root/.cache/colabfold:   7%|▋         | 249M/3.47G [00:12<02:22, 24.3MB/s]\rDownloading AlphaFold2-ptm weights to /root/.cache/colabfold:   7%|▋         | 253M/3.47G [00:12<02:22, 24.3MB/s]\rDownloading AlphaFold2-ptm weights to /root/.cache/colabfold:   7%|▋         | 257M/3.47G [00:12<02:22, 24.3MB/s]\rDownloading AlphaFold2-ptm weights to /root/.cache/colabfold:   7%|▋         | 260M/3.47G [00:12<02:21, 24.4MB/s]\rDownloading AlphaFold2-ptm weights to /root/.cache/colabfold:   7%|▋         | 264M/3.47G [00:12<02:20, 24.4MB/s]\rDownloading AlphaFold2-ptm weights to /root/.cache/colabfold:   8%|▊         | 268M/3.47G [00:12<02:20, 24.5MB/s]\rDownloading AlphaFold2-ptm weights to /root/.cache/colabfold:   8%|▊         | 271M/3.47G [00:12<02:19, 24.6MB/s]\rDownloading AlphaFold2-ptm weights to /root/.cache/colabfold:   8%|▊         | 275M/3.47G [00:13<02:19, 24.6MB/s]\rDownloading AlphaFold2-ptm weights to /root/.cache/colabfold:   8%|▊         | 278M/3.47G [00:13<02:19, 24.6MB/s]\rDownloading AlphaFold2-ptm weights to /root/.cache/colabfold:   8%|▊         | 282M/3.47G [00:13<02:19, 24.6MB/s]\rDownloading AlphaFold2-ptm weights to /root/.cache/colabfold:   8%|▊         | 286M/3.47G [00:13<02:18, 24.6MB/s]\rDownloading AlphaFold2-ptm weights to /root/.cache/colabfold:   8%|▊         | 289M/3.47G [00:13<02:18, 24.6MB/s]\rDownloading AlphaFold2-ptm weights to /root/.cache/colabfold:   8%|▊         | 293M/3.47G [00:13<02:18, 24.6MB/s]\rDownloading AlphaFold2-ptm weights to /root/.cache/colabfold:   8%|▊         | 297M/3.47G [00:14<02:18, 24.6MB/s]\rDownloading AlphaFold2-ptm weights to /root/.cache/colabfold:   8%|▊         | 300M/3.47G [00:14<02:18, 24.6MB/s]\rDownloading AlphaFold2-ptm weights to /root/.cache/colabfold:   9%|▊         | 304M/3.47G [00:14<02:18, 24.6MB/s]\rDownloading AlphaFold2-ptm weights to /root/.cache/colabfold:   9%|▊         | 308M/3.47G [00:14<02:17, 24.7MB/s]\rDownloading AlphaFold2-ptm weights to /root/.cache/colabfold:   9%|▉         | 311M/3.47G [00:14<02:18, 24.6MB/s]\rDownloading AlphaFold2-ptm weights to /root/.cache/colabfold:   9%|▉         | 315M/3.47G [00:14<02:17, 24.6MB/s]\rDownloading AlphaFold2-ptm weights to /root/.cache/colabfold:   9%|▉         | 319M/3.47G [00:15<02:17, 24.6MB/s]\rDownloading AlphaFold2-ptm weights to /root/.cache/colabfold:   9%|▉         | 322M/3.47G [00:15<02:17, 24.6MB/s]\rDownloading AlphaFold2-ptm weights to /root/.cache/colabfold:   9%|▉         | 326M/3.47G [00:15<02:17, 24.6MB/s]\rDownloading AlphaFold2-ptm weights to /root/.cache/colabfold:   9%|▉         | 330M/3.47G [00:15<02:17, 24.6MB/s]\rDownloading AlphaFold2-ptm weights to /root/.cache/colabfold:   9%|▉         | 333M/3.47G [00:15<02:16, 24.7MB/s]\rDownloading AlphaFold2-ptm weights to /root/.cache/colabfold:   9%|▉         | 337M/3.47G [00:15<02:16, 24.6MB/s]\rDownloading AlphaFold2-ptm weights to /root/.cache/colabfold:  10%|▉         | 340M/3.47G [00:15<02:16, 24.7MB/s]\rDownloading AlphaFold2-ptm weights to /root/.cache/colabfold:  10%|▉         | 344M/3.47G [00:16<02:16, 24.7MB/s]\rDownloading AlphaFold2-ptm weights to /root/.cache/colabfold:  10%|▉         | 348M/3.47G [00:16<02:15, 24.7MB/s]\rDownloading AlphaFold2-ptm weights to /root/.cache/colabfold:  10%|▉         | 351M/3.47G [00:16<02:15, 24.7MB/s]\rDownloading AlphaFold2-ptm weights to /root/.cache/colabfold:  10%|█         | 355M/3.47G [00:16<02:15, 24.7MB/s]\rDownloading AlphaFold2-ptm weights to /root/.cache/colabfold:  10%|█         | 357M/3.47G [00:16<02:24, 23.2MB/s]\rDownloading AlphaFold2-ptm weights to /root/.cache/colabfold:  10%|█         | 361M/3.47G [00:16<02:10, 25.7MB/s]\rDownloading AlphaFold2-ptm weights to /root/.cache/colabfold:  10%|█         | 363M/3.47G [00:16<02:11, 25.4MB/s]\rDownloading AlphaFold2-ptm weights to /root/.cache/colabfold:  10%|█         | 366M/3.47G [00:17<02:25, 23.0MB/s]\rDownloading AlphaFold2-ptm weights to /root/.cache/colabfold:  10%|█         | 369M/3.47G [00:17<02:15, 24.6MB/s]\rDownloading AlphaFold2-ptm weights to /root/.cache/colabfold:  10%|█         | 372M/3.47G [00:17<02:07, 26.1MB/s]\rDownloading AlphaFold2-ptm weights to /root/.cache/colabfold:  11%|█         | 374M/3.47G [00:17<02:11, 25.4MB/s]\rDownloading AlphaFold2-ptm weights to /root/.cache/colabfold:  11%|█         | 377M/3.47G [00:17<02:23, 23.1MB/s]\rDownloading AlphaFold2-ptm weights to /root/.cache/colabfold:  11%|█         | 380M/3.47G [00:17<02:16, 24.4MB/s]\rDownloading AlphaFold2-ptm weights to /root/.cache/colabfold:  11%|█         | 383M/3.47G [00:17<02:07, 26.0MB/s]\rDownloading AlphaFold2-ptm weights to /root/.cache/colabfold:  11%|█         | 385M/3.47G [00:17<02:11, 25.2MB/s]\rDownloading AlphaFold2-ptm weights to /root/.cache/colabfold:  11%|█         | 388M/3.47G [00:17<02:25, 22.8MB/s]\rDownloading AlphaFold2-ptm weights to /root/.cache/colabfold:  11%|█         | 391M/3.47G [00:18<02:15, 24.4MB/s]\rDownloading AlphaFold2-ptm weights to /root/.cache/colabfold:  11%|█         | 394M/3.47G [00:18<02:07, 25.9MB/s]\rDownloading AlphaFold2-ptm weights to /root/.cache/colabfold:  11%|█         | 396M/3.47G [00:18<02:11, 25.1MB/s]\rDownloading AlphaFold2-ptm weights to /root/.cache/colabfold:  11%|█         | 399M/3.47G [00:18<02:25, 22.8MB/s]\rDownloading AlphaFold2-ptm weights to /root/.cache/colabfold:  11%|█▏        | 402M/3.47G [00:18<02:14, 24.5MB/s]\rDownloading AlphaFold2-ptm weights to /root/.cache/colabfold:  11%|█▏        | 405M/3.47G [00:18<02:07, 26.0MB/s]\rDownloading AlphaFold2-ptm weights to /root/.cache/colabfold:  11%|█▏        | 407M/3.47G [00:18<02:11, 25.0MB/s]\rDownloading AlphaFold2-ptm weights to /root/.cache/colabfold:  12%|█▏        | 410M/3.47G [00:18<02:24, 22.8MB/s]\rDownloading AlphaFold2-ptm weights to /root/.cache/colabfold:  12%|█▏        | 413M/3.47G [00:19<02:13, 24.6MB/s]\rDownloading AlphaFold2-ptm weights to /root/.cache/colabfold:  12%|█▏        | 415M/3.47G [00:19<02:14, 24.5MB/s]\rDownloading AlphaFold2-ptm weights to /root/.cache/colabfold:  12%|█▏        | 417M/3.47G [00:19<02:14, 24.4MB/s]\rDownloading AlphaFold2-ptm weights to /root/.cache/colabfold:  12%|█▏        | 420M/3.47G [00:19<02:12, 24.7MB/s]\rDownloading AlphaFold2-ptm weights to /root/.cache/colabfold:  12%|█▏        | 422M/3.47G [00:19<02:26, 22.4MB/s]\rDownloading AlphaFold2-ptm weights to /root/.cache/colabfold:  12%|█▏        | 425M/3.47G [00:19<02:17, 23.8MB/s]\rDownloading AlphaFold2-ptm weights to /root/.cache/colabfold:  12%|█▏        | 428M/3.47G [00:19<02:17, 23.8MB/s]\rDownloading AlphaFold2-ptm weights to /root/.cache/colabfold:  12%|█▏        | 430M/3.47G [00:19<02:31, 21.6MB/s]\rDownloading AlphaFold2-ptm weights to /root/.cache/colabfold:  12%|█▏        | 432M/3.47G [00:19<02:42, 20.1MB/s]\rDownloading AlphaFold2-ptm weights to /root/.cache/colabfold:  12%|█▏        | 434M/3.47G [00:20<02:55, 18.7MB/s]\rDownloading AlphaFold2-ptm weights to /root/.cache/colabfold:  12%|█▏        | 437M/3.47G [00:20<02:39, 20.4MB/s]\rDownloading AlphaFold2-ptm weights to /root/.cache/colabfold:  12%|█▏        | 441M/3.47G [00:20<02:29, 21.8MB/s]\rDownloading AlphaFold2-ptm weights to /root/.cache/colabfold:  13%|█▎        | 445M/3.47G [00:20<02:23, 22.7MB/s]\rDownloading AlphaFold2-ptm weights to /root/.cache/colabfold:  13%|█▎        | 448M/3.47G [00:20<02:35, 20.9MB/s]\rDownloading AlphaFold2-ptm weights to /root/.cache/colabfold:  13%|█▎        | 450M/3.47G [00:20<02:53, 18.8MB/s]\rDownloading AlphaFold2-ptm weights to /root/.cache/colabfold:  13%|█▎        | 452M/3.47G [00:21<03:08, 17.3MB/s]\rDownloading AlphaFold2-ptm weights to /root/.cache/colabfold:  13%|█▎        | 456M/3.47G [00:21<02:46, 19.4MB/s]\rDownloading AlphaFold2-ptm weights to /root/.cache/colabfold:  13%|█▎        | 460M/3.47G [00:21<02:34, 20.9MB/s]\rDownloading AlphaFold2-ptm weights to /root/.cache/colabfold:  13%|█▎        | 463M/3.47G [00:21<02:27, 22.0MB/s]\rDownloading AlphaFold2-ptm weights to /root/.cache/colabfold:  13%|█▎        | 467M/3.47G [00:21<02:28, 21.7MB/s]\rDownloading AlphaFold2-ptm weights to /root/.cache/colabfold:  13%|█▎        | 470M/3.47G [00:21<02:28, 21.8MB/s]\rDownloading AlphaFold2-ptm weights to /root/.cache/colabfold:  13%|█▎        | 474M/3.47G [00:22<02:22, 22.6MB/s]\rDownloading AlphaFold2-ptm weights to /root/.cache/colabfold:  13%|█▎        | 478M/3.47G [00:22<02:18, 23.2MB/s]\rDownloading AlphaFold2-ptm weights to /root/.cache/colabfold:  14%|█▎        | 481M/3.47G [00:22<02:16, 23.7MB/s]\rDownloading AlphaFold2-ptm weights to /root/.cache/colabfold:  14%|█▎        | 485M/3.47G [00:22<02:14, 24.0MB/s]\rDownloading AlphaFold2-ptm weights to /root/.cache/colabfold:  14%|█▍        | 488M/3.47G [00:22<02:13, 24.1MB/s]\rDownloading AlphaFold2-ptm weights to /root/.cache/colabfold:  14%|█▍        | 492M/3.47G [00:22<02:11, 24.3MB/s]\rDownloading AlphaFold2-ptm weights to /root/.cache/colabfold:  14%|█▍        | 496M/3.47G [00:22<02:11, 24.4MB/s]\rDownloading AlphaFold2-ptm weights to /root/.cache/colabfold:  14%|█▍        | 499M/3.47G [00:23<02:10, 24.5MB/s]\rDownloading AlphaFold2-ptm weights to /root/.cache/colabfold:  14%|█▍        | 503M/3.47G [00:23<02:10, 24.5MB/s]\rDownloading AlphaFold2-ptm weights to /root/.cache/colabfold:  14%|█▍        | 507M/3.47G [00:23<02:09, 24.6MB/s]\rDownloading AlphaFold2-ptm weights to /root/.cache/colabfold:  14%|█▍        | 510M/3.47G [00:23<02:09, 24.6MB/s]\rDownloading AlphaFold2-ptm weights to /root/.cache/colabfold:  14%|█▍        | 514M/3.47G [00:23<02:09, 24.6MB/s]\rDownloading AlphaFold2-ptm weights to /root/.cache/colabfold:  15%|█▍        | 518M/3.47G [00:23<02:09, 24.6MB/s]\rDownloading AlphaFold2-ptm weights to /root/.cache/colabfold:  15%|█▍        | 521M/3.47G [00:24<02:09, 24.6MB/s]\rDownloading AlphaFold2-ptm weights to /root/.cache/colabfold:  15%|█▍        | 525M/3.47G [00:24<02:09, 24.6MB/s]\rDownloading AlphaFold2-ptm weights to /root/.cache/colabfold:  15%|█▍        | 529M/3.47G [00:24<02:08, 24.6MB/s]\rDownloading AlphaFold2-ptm weights to /root/.cache/colabfold:  15%|█▍        | 532M/3.47G [00:24<02:08, 24.6MB/s]\rDownloading AlphaFold2-ptm weights to /root/.cache/colabfold:  15%|█▌        | 536M/3.47G [00:24<02:08, 24.6MB/s]\rDownloading AlphaFold2-ptm weights to /root/.cache/colabfold:  15%|█▌        | 540M/3.47G [00:24<02:08, 24.6MB/s]\rDownloading AlphaFold2-ptm weights to /root/.cache/colabfold:  15%|█▌        | 543M/3.47G [00:24<02:07, 24.6MB/s]\rDownloading AlphaFold2-ptm weights to /root/.cache/colabfold:  15%|█▌        | 547M/3.47G [00:25<02:07, 24.6MB/s]\rDownloading AlphaFold2-ptm weights to /root/.cache/colabfold:  16%|█▌        | 551M/3.47G [00:25<02:07, 24.6MB/s]\rDownloading AlphaFold2-ptm weights to /root/.cache/colabfold:  16%|█▌        | 554M/3.47G [00:25<02:07, 24.6MB/s]\rDownloading AlphaFold2-ptm weights to /root/.cache/colabfold:  16%|█▌        | 558M/3.47G [00:25<02:07, 24.6MB/s]\rDownloading AlphaFold2-ptm weights to /root/.cache/colabfold:  16%|█▌        | 561M/3.47G [00:25<02:07, 24.6MB/s]\rDownloading AlphaFold2-ptm weights to /root/.cache/colabfold:  16%|█▌        | 565M/3.47G [00:25<02:07, 24.6MB/s]\rDownloading AlphaFold2-ptm weights to /root/.cache/colabfold:  16%|█▌        | 569M/3.47G [00:26<02:06, 24.7MB/s]\rDownloading AlphaFold2-ptm weights to /root/.cache/colabfold:  16%|█▌        | 572M/3.47G [00:26<02:06, 24.6MB/s]\rDownloading AlphaFold2-ptm weights to /root/.cache/colabfold:  16%|█▌        | 576M/3.47G [00:26<02:06, 24.6MB/s]\rDownloading AlphaFold2-ptm weights to /root/.cache/colabfold:  16%|█▋        | 580M/3.47G [00:26<02:06, 24.6MB/s]\rDownloading AlphaFold2-ptm weights to /root/.cache/colabfold:  16%|█▋        | 583M/3.47G [00:26<02:06, 24.6MB/s]\rDownloading AlphaFold2-ptm weights to /root/.cache/colabfold:  17%|█▋        | 587M/3.47G [00:26<02:06, 24.6MB/s]\rDownloading AlphaFold2-ptm weights to /root/.cache/colabfold:  17%|█▋        | 591M/3.47G [00:27<02:05, 24.6MB/s]\rDownloading AlphaFold2-ptm weights to /root/.cache/colabfold:  17%|█▋        | 594M/3.47G [00:27<02:05, 24.6MB/s]\rDownloading AlphaFold2-ptm weights to /root/.cache/colabfold:  17%|█▋        | 598M/3.47G [00:27<02:05, 24.7MB/s]\rDownloading AlphaFold2-ptm weights to /root/.cache/colabfold:  17%|█▋        | 602M/3.47G [00:27<02:05, 24.7MB/s]\rDownloading AlphaFold2-ptm weights to /root/.cache/colabfold:  17%|█▋        | 605M/3.47G [00:27<02:05, 24.7MB/s]\rDownloading AlphaFold2-ptm weights to /root/.cache/colabfold:  17%|█▋        | 608M/3.47G [00:27<02:21, 21.8MB/s]\rDownloading AlphaFold2-ptm weights to /root/.cache/colabfold:  17%|█▋        | 610M/3.47G [00:27<02:38, 19.5MB/s]\rDownloading AlphaFold2-ptm weights to /root/.cache/colabfold:  17%|█▋        | 613M/3.47G [00:28<02:30, 20.4MB/s]\rDownloading AlphaFold2-ptm weights to /root/.cache/colabfold:  17%|█▋        | 617M/3.47G [00:28<02:21, 21.7MB/s]\rDownloading AlphaFold2-ptm weights to /root/.cache/colabfold:  17%|█▋        | 620M/3.47G [00:28<02:16, 22.5MB/s]\rDownloading AlphaFold2-ptm weights to /root/.cache/colabfold:  18%|█▊        | 622M/3.47G [00:28<02:33, 20.0MB/s]\rDownloading AlphaFold2-ptm weights to /root/.cache/colabfold:  18%|█▊        | 626M/3.47G [00:28<02:17, 22.4MB/s]\rDownloading AlphaFold2-ptm weights to /root/.cache/colabfold:  18%|█▊        | 629M/3.47G [00:28<02:08, 23.9MB/s]\rDownloading AlphaFold2-ptm weights to /root/.cache/colabfold:  18%|█▊        | 632M/3.47G [00:28<02:16, 22.5MB/s]\rDownloading AlphaFold2-ptm weights to /root/.cache/colabfold:  18%|█▊        | 634M/3.47G [00:29<02:24, 21.2MB/s]\rDownloading AlphaFold2-ptm weights to /root/.cache/colabfold:  18%|█▊        | 637M/3.47G [00:29<02:14, 22.7MB/s]\rDownloading AlphaFold2-ptm weights to /root/.cache/colabfold:  18%|█▊        | 640M/3.47G [00:29<01:57, 26.0MB/s]\rDownloading AlphaFold2-ptm weights to /root/.cache/colabfold:  18%|█▊        | 643M/3.47G [00:29<02:09, 23.6MB/s]\rDownloading AlphaFold2-ptm weights to /root/.cache/colabfold:  18%|█▊        | 645M/3.47G [00:29<02:17, 22.1MB/s]\rDownloading AlphaFold2-ptm weights to /root/.cache/colabfold:  18%|█▊        | 648M/3.47G [00:29<02:09, 23.5MB/s]\rDownloading AlphaFold2-ptm weights to /root/.cache/colabfold:  18%|█▊        | 650M/3.47G [00:29<02:06, 24.1MB/s]\rDownloading AlphaFold2-ptm weights to /root/.cache/colabfold:  18%|█▊        | 653M/3.47G [00:29<02:10, 23.2MB/s]\rDownloading AlphaFold2-ptm weights to /root/.cache/colabfold:  18%|█▊        | 655M/3.47G [00:29<02:05, 24.1MB/s]\rDownloading AlphaFold2-ptm weights to /root/.cache/colabfold:  19%|█▊        | 658M/3.47G [00:30<02:02, 24.8MB/s]\rDownloading AlphaFold2-ptm weights to /root/.cache/colabfold:  19%|█▊        | 660M/3.47G [00:30<02:13, 22.8MB/s]\rDownloading AlphaFold2-ptm weights to /root/.cache/colabfold:  19%|█▊        | 663M/3.47G [00:30<02:07, 23.7MB/s]\rDownloading AlphaFold2-ptm weights to /root/.cache/colabfold:  19%|█▉        | 666M/3.47G [00:30<02:09, 23.3MB/s]\rDownloading AlphaFold2-ptm weights to /root/.cache/colabfold:  19%|█▉        | 669M/3.47G [00:30<01:53, 26.6MB/s]\rDownloading AlphaFold2-ptm weights to /root/.cache/colabfold:  19%|█▉        | 672M/3.47G [00:30<02:04, 24.3MB/s]\rDownloading AlphaFold2-ptm weights to /root/.cache/colabfold:  19%|█▉        | 674M/3.47G [00:30<02:03, 24.3MB/s]\rDownloading AlphaFold2-ptm weights to /root/.cache/colabfold:  19%|█▉        | 677M/3.47G [00:30<02:09, 23.2MB/s]\rDownloading AlphaFold2-ptm weights to /root/.cache/colabfold:  19%|█▉        | 680M/3.47G [00:31<01:56, 25.8MB/s]\rDownloading AlphaFold2-ptm weights to /root/.cache/colabfold:  19%|█▉        | 682M/3.47G [00:31<02:10, 23.1MB/s]\rDownloading AlphaFold2-ptm weights to /root/.cache/colabfold:  19%|█▉        | 685M/3.47G [00:31<02:06, 23.8MB/s]\rDownloading AlphaFold2-ptm weights to /root/.cache/colabfold:  19%|█▉        | 688M/3.47G [00:31<02:06, 23.8MB/s]\rDownloading AlphaFold2-ptm weights to /root/.cache/colabfold:  19%|█▉        | 690M/3.47G [00:31<02:02, 24.6MB/s]\rDownloading AlphaFold2-ptm weights to /root/.cache/colabfold:  20%|█▉        | 693M/3.47G [00:31<02:03, 24.3MB/s]\rDownloading AlphaFold2-ptm weights to /root/.cache/colabfold:  20%|█▉        | 695M/3.47G [00:31<02:04, 24.0MB/s]\rDownloading AlphaFold2-ptm weights to /root/.cache/colabfold:  20%|█▉        | 697M/3.47G [00:31<02:02, 24.5MB/s]\rDownloading AlphaFold2-ptm weights to /root/.cache/colabfold:  20%|█▉        | 700M/3.47G [00:31<02:02, 24.4MB/s]\rDownloading AlphaFold2-ptm weights to /root/.cache/colabfold:  20%|█▉        | 702M/3.47G [00:32<02:03, 24.2MB/s]\rDownloading AlphaFold2-ptm weights to /root/.cache/colabfold:  20%|█▉        | 705M/3.47G [00:32<02:01, 24.6MB/s]\rDownloading AlphaFold2-ptm weights to /root/.cache/colabfold:  20%|█▉        | 707M/3.47G [00:32<02:02, 24.4MB/s]\rDownloading AlphaFold2-ptm weights to /root/.cache/colabfold:  20%|█▉        | 709M/3.47G [00:32<02:02, 24.2MB/s]\rDownloading AlphaFold2-ptm weights to /root/.cache/colabfold:  20%|██        | 712M/3.47G [00:32<02:04, 23.9MB/s]\rDownloading AlphaFold2-ptm weights to /root/.cache/colabfold:  20%|██        | 714M/3.47G [00:32<02:08, 23.2MB/s]\rDownloading AlphaFold2-ptm weights to /root/.cache/colabfold:  20%|██        | 716M/3.47G [00:32<02:19, 21.3MB/s]\rDownloading AlphaFold2-ptm weights to /root/.cache/colabfold:  20%|██        | 720M/3.47G [00:32<02:15, 21.9MB/s]\rDownloading AlphaFold2-ptm weights to /root/.cache/colabfold:  20%|██        | 722M/3.47G [00:32<02:04, 23.8MB/s]\rDownloading AlphaFold2-ptm weights to /root/.cache/colabfold:  20%|██        | 725M/3.47G [00:33<02:23, 20.6MB/s]\rDownloading AlphaFold2-ptm weights to /root/.cache/colabfold:  20%|██        | 727M/3.47G [00:33<02:41, 18.3MB/s]\rDownloading AlphaFold2-ptm weights to /root/.cache/colabfold:  21%|██        | 729M/3.47G [00:33<02:32, 19.4MB/s]\rDownloading AlphaFold2-ptm weights to /root/.cache/colabfold:  21%|██        | 733M/3.47G [00:33<02:13, 22.1MB/s]\rDownloading AlphaFold2-ptm weights to /root/.cache/colabfold:  21%|██        | 736M/3.47G [00:33<01:58, 24.9MB/s]\rDownloading AlphaFold2-ptm weights to /root/.cache/colabfold:  21%|██        | 738M/3.47G [00:33<02:09, 22.8MB/s]\rDownloading AlphaFold2-ptm weights to /root/.cache/colabfold:  21%|██        | 741M/3.47G [00:33<02:12, 22.2MB/s]\rDownloading AlphaFold2-ptm weights to /root/.cache/colabfold:  21%|██        | 744M/3.47G [00:33<02:03, 23.8MB/s]\rDownloading AlphaFold2-ptm weights to /root/.cache/colabfold:  21%|██        | 747M/3.47G [00:34<01:52, 26.2MB/s]\rDownloading AlphaFold2-ptm weights to /root/.cache/colabfold:  21%|██        | 749M/3.47G [00:34<02:03, 23.8MB/s]\rDownloading AlphaFold2-ptm weights to /root/.cache/colabfold:  21%|██        | 752M/3.47G [00:34<02:07, 23.0MB/s]\rDownloading AlphaFold2-ptm weights to /root/.cache/colabfold:  21%|██▏       | 754M/3.47G [00:34<02:01, 24.2MB/s]\rDownloading AlphaFold2-ptm weights to /root/.cache/colabfold:  21%|██▏       | 758M/3.47G [00:34<01:50, 26.5MB/s]\rDownloading AlphaFold2-ptm weights to /root/.cache/colabfold:  21%|██▏       | 760M/3.47G [00:34<02:01, 24.0MB/s]\rDownloading AlphaFold2-ptm weights to /root/.cache/colabfold:  21%|██▏       | 763M/3.47G [00:34<02:12, 22.0MB/s]\rDownloading AlphaFold2-ptm weights to /root/.cache/colabfold:  22%|██▏       | 766M/3.47G [00:34<02:05, 23.3MB/s]\rDownloading AlphaFold2-ptm weights to /root/.cache/colabfold:  22%|██▏       | 769M/3.47G [00:35<01:56, 25.0MB/s]\rDownloading AlphaFold2-ptm weights to /root/.cache/colabfold:  22%|██▏       | 772M/3.47G [00:35<01:47, 27.1MB/s]\rDownloading AlphaFold2-ptm weights to /root/.cache/colabfold:  22%|██▏       | 775M/3.47G [00:35<02:00, 24.2MB/s]\rDownloading AlphaFold2-ptm weights to /root/.cache/colabfold:  22%|██▏       | 777M/3.47G [00:35<02:09, 22.5MB/s]\rDownloading AlphaFold2-ptm weights to /root/.cache/colabfold:  22%|██▏       | 780M/3.47G [00:35<02:03, 23.6MB/s]\rDownloading AlphaFold2-ptm weights to /root/.cache/colabfold:  22%|██▏       | 784M/3.47G [00:35<01:55, 25.1MB/s]\rDownloading AlphaFold2-ptm weights to /root/.cache/colabfold:  22%|██▏       | 786M/3.47G [00:35<01:55, 25.1MB/s]\rDownloading AlphaFold2-ptm weights to /root/.cache/colabfold:  22%|██▏       | 788M/3.47G [00:35<02:06, 22.8MB/s]\rDownloading AlphaFold2-ptm weights to /root/.cache/colabfold:  22%|██▏       | 791M/3.47G [00:36<02:00, 23.9MB/s]\rDownloading AlphaFold2-ptm weights to /root/.cache/colabfold:  22%|██▏       | 795M/3.47G [00:36<01:53, 25.4MB/s]\rDownloading AlphaFold2-ptm weights to /root/.cache/colabfold:  22%|██▏       | 797M/3.47G [00:36<01:53, 25.4MB/s]\rDownloading AlphaFold2-ptm weights to /root/.cache/colabfold:  23%|██▎       | 799M/3.47G [00:36<02:05, 23.0MB/s]\rDownloading AlphaFold2-ptm weights to /root/.cache/colabfold:  23%|██▎       | 802M/3.47G [00:36<01:59, 24.0MB/s]\rDownloading AlphaFold2-ptm weights to /root/.cache/colabfold:  23%|██▎       | 805M/3.47G [00:36<01:52, 25.5MB/s]\rDownloading AlphaFold2-ptm weights to /root/.cache/colabfold:  23%|██▎       | 808M/3.47G [00:36<01:53, 25.4MB/s]\rDownloading AlphaFold2-ptm weights to /root/.cache/colabfold:  23%|██▎       | 810M/3.47G [00:36<02:04, 23.0MB/s]\rDownloading AlphaFold2-ptm weights to /root/.cache/colabfold:  23%|██▎       | 813M/3.47G [00:36<01:59, 24.0MB/s]\rDownloading AlphaFold2-ptm weights to /root/.cache/colabfold:  23%|██▎       | 816M/3.47G [00:37<01:52, 25.5MB/s]\rDownloading AlphaFold2-ptm weights to /root/.cache/colabfold:  23%|██▎       | 819M/3.47G [00:37<01:52, 25.5MB/s]\rDownloading AlphaFold2-ptm weights to /root/.cache/colabfold:  23%|██▎       | 821M/3.47G [00:37<02:04, 23.0MB/s]\rDownloading AlphaFold2-ptm weights to /root/.cache/colabfold:  23%|██▎       | 824M/3.47G [00:37<01:59, 24.0MB/s]\rDownloading AlphaFold2-ptm weights to /root/.cache/colabfold:  23%|██▎       | 827M/3.47G [00:37<01:51, 25.6MB/s]\rDownloading AlphaFold2-ptm weights to /root/.cache/colabfold:  23%|██▎       | 830M/3.47G [00:37<01:52, 25.5MB/s]\rDownloading AlphaFold2-ptm weights to /root/.cache/colabfold:  23%|██▎       | 832M/3.47G [00:37<02:03, 23.1MB/s]\rDownloading AlphaFold2-ptm weights to /root/.cache/colabfold:  24%|██▎       | 835M/3.47G [00:37<01:58, 24.0MB/s]\rDownloading AlphaFold2-ptm weights to /root/.cache/colabfold:  24%|██▎       | 838M/3.47G [00:38<01:51, 25.6MB/s]\rDownloading AlphaFold2-ptm weights to /root/.cache/colabfold:  24%|██▎       | 841M/3.47G [00:38<01:51, 25.4MB/s]\rDownloading AlphaFold2-ptm weights to /root/.cache/colabfold:  24%|██▎       | 843M/3.47G [00:38<02:02, 23.1MB/s]\rDownloading AlphaFold2-ptm weights to /root/.cache/colabfold:  24%|██▍       | 846M/3.47G [00:38<02:01, 23.4MB/s]\rDownloading AlphaFold2-ptm weights to /root/.cache/colabfold:  24%|██▍       | 849M/3.47G [00:38<01:50, 25.7MB/s]\rDownloading AlphaFold2-ptm weights to /root/.cache/colabfold:  24%|██▍       | 852M/3.47G [00:38<01:50, 25.6MB/s]\rDownloading AlphaFold2-ptm weights to /root/.cache/colabfold:  24%|██▍       | 854M/3.47G [00:38<02:01, 23.2MB/s]\rDownloading AlphaFold2-ptm weights to /root/.cache/colabfold:  24%|██▍       | 857M/3.47G [00:38<02:00, 23.5MB/s]\rDownloading AlphaFold2-ptm weights to /root/.cache/colabfold:  24%|██▍       | 860M/3.47G [00:38<01:49, 25.8MB/s]\rDownloading AlphaFold2-ptm weights to /root/.cache/colabfold:  24%|██▍       | 863M/3.47G [00:39<01:49, 25.7MB/s]\rDownloading AlphaFold2-ptm weights to /root/.cache/colabfold:  24%|██▍       | 865M/3.47G [00:39<02:00, 23.3MB/s]\rDownloading AlphaFold2-ptm weights to /root/.cache/colabfold:  24%|██▍       | 868M/3.47G [00:39<02:00, 23.4MB/s]\rDownloading AlphaFold2-ptm weights to /root/.cache/colabfold:  25%|██▍       | 871M/3.47G [00:39<01:49, 25.8MB/s]\rDownloading AlphaFold2-ptm weights to /root/.cache/colabfold:  25%|██▍       | 874M/3.47G [00:39<01:49, 25.6MB/s]\rDownloading AlphaFold2-ptm weights to /root/.cache/colabfold:  25%|██▍       | 876M/3.47G [00:39<02:00, 23.3MB/s]\rDownloading AlphaFold2-ptm weights to /root/.cache/colabfold:  25%|██▍       | 879M/3.47G [00:39<01:59, 23.4MB/s]\rDownloading AlphaFold2-ptm weights to /root/.cache/colabfold:  25%|██▍       | 882M/3.47G [00:39<01:48, 25.8MB/s]\rDownloading AlphaFold2-ptm weights to /root/.cache/colabfold:  25%|██▍       | 884M/3.47G [00:39<01:49, 25.6MB/s]\rDownloading AlphaFold2-ptm weights to /root/.cache/colabfold:  25%|██▍       | 887M/3.47G [00:40<01:59, 23.3MB/s]\rDownloading AlphaFold2-ptm weights to /root/.cache/colabfold:  25%|██▌       | 890M/3.47G [00:40<01:59, 23.3MB/s]\rDownloading AlphaFold2-ptm weights to /root/.cache/colabfold:  25%|██▌       | 893M/3.47G [00:40<01:48, 25.8MB/s]\rDownloading AlphaFold2-ptm weights to /root/.cache/colabfold:  25%|██▌       | 895M/3.47G [00:40<01:54, 24.3MB/s]\rDownloading AlphaFold2-ptm weights to /root/.cache/colabfold:  25%|██▌       | 898M/3.47G [00:40<02:09, 21.5MB/s]\rDownloading AlphaFold2-ptm weights to /root/.cache/colabfold:  25%|██▌       | 900M/3.47G [00:40<02:17, 20.2MB/s]\rDownloading AlphaFold2-ptm weights to /root/.cache/colabfold:  25%|██▌       | 904M/3.47G [00:40<01:55, 24.1MB/s]\rDownloading AlphaFold2-ptm weights to /root/.cache/colabfold:  26%|██▌       | 906M/3.47G [00:41<02:16, 20.3MB/s]\rDownloading AlphaFold2-ptm weights to /root/.cache/colabfold:  26%|██▌       | 909M/3.47G [00:41<01:59, 23.2MB/s]\rDownloading AlphaFold2-ptm weights to /root/.cache/colabfold:  26%|██▌       | 913M/3.47G [00:41<01:48, 25.5MB/s]\rDownloading AlphaFold2-ptm weights to /root/.cache/colabfold:  26%|██▌       | 915M/3.47G [00:41<01:57, 23.5MB/s]\rDownloading AlphaFold2-ptm weights to /root/.cache/colabfold:  26%|██▌       | 918M/3.47G [00:41<02:02, 22.6MB/s]\rDownloading AlphaFold2-ptm weights to /root/.cache/colabfold:  26%|██▌       | 920M/3.47G [00:41<01:54, 24.1MB/s]\rDownloading AlphaFold2-ptm weights to /root/.cache/colabfold:  26%|██▌       | 923M/3.47G [00:41<01:45, 26.2MB/s]\rDownloading AlphaFold2-ptm weights to /root/.cache/colabfold:  26%|██▌       | 926M/3.47G [00:41<01:56, 23.7MB/s]\rDownloading AlphaFold2-ptm weights to /root/.cache/colabfold:  26%|██▌       | 928M/3.47G [00:41<02:00, 22.8MB/s]\rDownloading AlphaFold2-ptm weights to /root/.cache/colabfold:  26%|██▌       | 931M/3.47G [00:42<01:53, 24.3MB/s]\rDownloading AlphaFold2-ptm weights to /root/.cache/colabfold:  26%|██▋       | 934M/3.47G [00:42<01:45, 26.0MB/s]\rDownloading AlphaFold2-ptm weights to /root/.cache/colabfold:  26%|██▋       | 937M/3.47G [00:42<01:57, 23.4MB/s]\rDownloading AlphaFold2-ptm weights to /root/.cache/colabfold:  26%|██▋       | 939M/3.47G [00:42<02:01, 22.5MB/s]\rDownloading AlphaFold2-ptm weights to /root/.cache/colabfold:  27%|██▋       | 941M/3.47G [00:42<02:20, 19.5MB/s]\rDownloading AlphaFold2-ptm weights to /root/.cache/colabfold:  27%|██▋       | 943M/3.47G [00:42<02:24, 19.0MB/s]\rDownloading AlphaFold2-ptm weights to /root/.cache/colabfold:  27%|██▋       | 946M/3.47G [00:42<02:14, 20.3MB/s]\rDownloading AlphaFold2-ptm weights to /root/.cache/colabfold:  27%|██▋       | 949M/3.47G [00:42<02:04, 21.9MB/s]\rDownloading AlphaFold2-ptm weights to /root/.cache/colabfold:  27%|██▋       | 952M/3.47G [00:43<01:57, 23.2MB/s]\rDownloading AlphaFold2-ptm weights to /root/.cache/colabfold:  27%|██▋       | 954M/3.47G [00:43<02:08, 21.2MB/s]\rDownloading AlphaFold2-ptm weights to /root/.cache/colabfold:  27%|██▋       | 956M/3.47G [00:43<02:20, 19.3MB/s]\rDownloading AlphaFold2-ptm weights to /root/.cache/colabfold:  27%|██▋       | 958M/3.47G [00:43<02:31, 17.9MB/s]\rDownloading AlphaFold2-ptm weights to /root/.cache/colabfold:  27%|██▋       | 960M/3.47G [00:43<02:39, 17.1MB/s]\rDownloading AlphaFold2-ptm weights to /root/.cache/colabfold:  27%|██▋       | 962M/3.47G [00:43<02:43, 16.6MB/s]\rDownloading AlphaFold2-ptm weights to /root/.cache/colabfold:  27%|██▋       | 965M/3.47G [00:43<02:21, 19.1MB/s]\rDownloading AlphaFold2-ptm weights to /root/.cache/colabfold:  27%|██▋       | 969M/3.47G [00:44<02:09, 20.8MB/s]\rDownloading AlphaFold2-ptm weights to /root/.cache/colabfold:  27%|██▋       | 971M/3.47G [00:44<02:11, 20.6MB/s]\rDownloading AlphaFold2-ptm weights to /root/.cache/colabfold:  27%|██▋       | 973M/3.47G [00:44<02:06, 21.3MB/s]\rDownloading AlphaFold2-ptm weights to /root/.cache/colabfold:  27%|██▋       | 976M/3.47G [00:44<01:57, 23.0MB/s]\rDownloading AlphaFold2-ptm weights to /root/.cache/colabfold:  28%|██▊       | 978M/3.47G [00:44<02:17, 19.6MB/s]\rDownloading AlphaFold2-ptm weights to /root/.cache/colabfold:  28%|██▊       | 982M/3.47G [00:44<02:03, 21.8MB/s]\rDownloading AlphaFold2-ptm weights to /root/.cache/colabfold:  28%|██▊       | 985M/3.47G [00:44<01:53, 23.6MB/s]\rDownloading AlphaFold2-ptm weights to /root/.cache/colabfold:  28%|██▊       | 987M/3.47G [00:44<02:00, 22.3MB/s]\rDownloading AlphaFold2-ptm weights to /root/.cache/colabfold:  28%|██▊       | 989M/3.47G [00:45<02:01, 22.2MB/s]\rDownloading AlphaFold2-ptm weights to /root/.cache/colabfold:  28%|██▊       | 992M/3.47G [00:45<01:56, 23.1MB/s]\rDownloading AlphaFold2-ptm weights to /root/.cache/colabfold:  28%|██▊       | 994M/3.47G [00:45<02:18, 19.3MB/s]\rDownloading AlphaFold2-ptm weights to /root/.cache/colabfold:  28%|██▊       | 997M/3.47G [00:45<02:01, 22.1MB/s]\rDownloading AlphaFold2-ptm weights to /root/.cache/colabfold:  28%|██▊       | 0.98G/3.47G [00:45<01:53, 23.6MB/s]\rDownloading AlphaFold2-ptm weights to /root/.cache/colabfold:  28%|██▊       | 0.98G/3.47G [00:45<02:07, 21.0MB/s]\rDownloading AlphaFold2-ptm weights to /root/.cache/colabfold:  28%|██▊       | 0.98G/3.47G [00:45<01:58, 22.5MB/s]\rDownloading AlphaFold2-ptm weights to /root/.cache/colabfold:  28%|██▊       | 0.98G/3.47G [00:45<01:59, 22.3MB/s]\rDownloading AlphaFold2-ptm weights to /root/.cache/colabfold:  28%|██▊       | 0.99G/3.47G [00:46<02:06, 21.1MB/s]\rDownloading AlphaFold2-ptm weights to /root/.cache/colabfold:  28%|██▊       | 0.99G/3.47G [00:46<02:16, 19.5MB/s]\rDownloading AlphaFold2-ptm weights to /root/.cache/colabfold:  29%|██▊       | 0.99G/3.47G [00:46<02:21, 18.8MB/s]\rDownloading AlphaFold2-ptm weights to /root/.cache/colabfold:  29%|██▊       | 0.99G/3.47G [00:46<01:55, 23.1MB/s]\rDownloading AlphaFold2-ptm weights to /root/.cache/colabfold:  29%|██▊       | 1.00G/3.47G [00:46<02:12, 20.0MB/s]\rDownloading AlphaFold2-ptm weights to /root/.cache/colabfold:  29%|██▉       | 1.00G/3.47G [00:46<02:15, 19.5MB/s]\rDownloading AlphaFold2-ptm weights to /root/.cache/colabfold:  29%|██▉       | 1.00G/3.47G [00:46<01:58, 22.4MB/s]\rDownloading AlphaFold2-ptm weights to /root/.cache/colabfold:  29%|██▉       | 1.00G/3.47G [00:46<01:48, 24.4MB/s]\rDownloading AlphaFold2-ptm weights to /root/.cache/colabfold:  29%|██▉       | 1.01G/3.47G [00:47<02:07, 20.7MB/s]\rDownloading AlphaFold2-ptm weights to /root/.cache/colabfold:  29%|██▉       | 1.01G/3.47G [00:47<01:59, 22.2MB/s]\rDownloading AlphaFold2-ptm weights to /root/.cache/colabfold:  29%|██▉       | 1.01G/3.47G [00:47<01:53, 23.3MB/s]\rDownloading AlphaFold2-ptm weights to /root/.cache/colabfold:  29%|██▉       | 1.02G/3.47G [00:47<01:43, 25.3MB/s]\rDownloading AlphaFold2-ptm weights to /root/.cache/colabfold:  29%|██▉       | 1.02G/3.47G [00:47<01:50, 23.7MB/s]\rDownloading AlphaFold2-ptm weights to /root/.cache/colabfold:  29%|██▉       | 1.02G/3.47G [00:47<01:50, 23.8MB/s]\rDownloading AlphaFold2-ptm weights to /root/.cache/colabfold:  29%|██▉       | 1.02G/3.47G [00:47<01:50, 23.7MB/s]\rDownloading AlphaFold2-ptm weights to /root/.cache/colabfold:  30%|██▉       | 1.03G/3.47G [00:47<01:41, 25.8MB/s]\rDownloading AlphaFold2-ptm weights to /root/.cache/colabfold:  30%|██▉       | 1.03G/3.47G [00:48<01:49, 24.0MB/s]\rDownloading AlphaFold2-ptm weights to /root/.cache/colabfold:  30%|██▉       | 1.03G/3.47G [00:48<01:49, 24.0MB/s]\rDownloading AlphaFold2-ptm weights to /root/.cache/colabfold:  30%|██▉       | 1.03G/3.47G [00:48<01:49, 23.9MB/s]\rDownloading AlphaFold2-ptm weights to /root/.cache/colabfold:  30%|██▉       | 1.04G/3.47G [00:48<01:40, 25.9MB/s]\rDownloading AlphaFold2-ptm weights to /root/.cache/colabfold:  30%|██▉       | 1.04G/3.47G [00:48<01:48, 24.1MB/s]\rDownloading AlphaFold2-ptm weights to /root/.cache/colabfold:  30%|███       | 1.04G/3.47G [00:48<01:48, 24.0MB/s]\rDownloading AlphaFold2-ptm weights to /root/.cache/colabfold:  30%|███       | 1.04G/3.47G [00:48<01:49, 23.8MB/s]\rDownloading AlphaFold2-ptm weights to /root/.cache/colabfold:  30%|███       | 1.05G/3.47G [00:48<01:40, 25.9MB/s]\rDownloading AlphaFold2-ptm weights to /root/.cache/colabfold:  30%|███       | 1.05G/3.47G [00:48<01:47, 24.1MB/s]\rDownloading AlphaFold2-ptm weights to /root/.cache/colabfold:  30%|███       | 1.05G/3.47G [00:49<01:48, 24.0MB/s]\rDownloading AlphaFold2-ptm weights to /root/.cache/colabfold:  30%|███       | 1.05G/3.47G [00:49<01:48, 23.9MB/s]\rDownloading AlphaFold2-ptm weights to /root/.cache/colabfold:  31%|███       | 1.06G/3.47G [00:49<01:40, 25.9MB/s]\rDownloading AlphaFold2-ptm weights to /root/.cache/colabfold:  31%|███       | 1.06G/3.47G [00:49<01:47, 24.1MB/s]\rDownloading AlphaFold2-ptm weights to /root/.cache/colabfold:  31%|███       | 1.06G/3.47G [00:49<01:47, 24.0MB/s]\rDownloading AlphaFold2-ptm weights to /root/.cache/colabfold:  31%|███       | 1.07G/3.47G [00:49<01:47, 23.9MB/s]\rDownloading AlphaFold2-ptm weights to /root/.cache/colabfold:  31%|███       | 1.07G/3.47G [00:49<01:40, 25.7MB/s]\rDownloading AlphaFold2-ptm weights to /root/.cache/colabfold:  31%|███       | 1.07G/3.47G [00:49<01:48, 23.6MB/s]\rDownloading AlphaFold2-ptm weights to /root/.cache/colabfold:  31%|███       | 1.07G/3.47G [00:49<01:49, 23.6MB/s]\rDownloading AlphaFold2-ptm weights to /root/.cache/colabfold:  31%|███       | 1.08G/3.47G [00:50<01:46, 24.2MB/s]\rDownloading AlphaFold2-ptm weights to /root/.cache/colabfold:  31%|███       | 1.08G/3.47G [00:50<01:38, 26.1MB/s]\rDownloading AlphaFold2-ptm weights to /root/.cache/colabfold:  31%|███       | 1.08G/3.47G [00:50<01:46, 24.0MB/s]\rDownloading AlphaFold2-ptm weights to /root/.cache/colabfold:  31%|███▏      | 1.08G/3.47G [00:50<01:47, 23.9MB/s]\rDownloading AlphaFold2-ptm weights to /root/.cache/colabfold:  31%|███▏      | 1.09G/3.47G [00:50<01:45, 24.2MB/s]\rDownloading AlphaFold2-ptm weights to /root/.cache/colabfold:  31%|███▏      | 1.09G/3.47G [00:50<01:38, 26.0MB/s]\rDownloading AlphaFold2-ptm weights to /root/.cache/colabfold:  31%|███▏      | 1.09G/3.47G [00:50<01:46, 23.9MB/s]\rDownloading AlphaFold2-ptm weights to /root/.cache/colabfold:  32%|███▏      | 1.09G/3.47G [00:50<01:46, 23.8MB/s]\rDownloading AlphaFold2-ptm weights to /root/.cache/colabfold:  32%|███▏      | 1.10G/3.47G [00:51<01:45, 24.2MB/s]\rDownloading AlphaFold2-ptm weights to /root/.cache/colabfold:  32%|███▏      | 1.10G/3.47G [00:51<01:37, 26.0MB/s]\rDownloading AlphaFold2-ptm weights to /root/.cache/colabfold:  32%|███▏      | 1.10G/3.47G [00:51<01:46, 23.9MB/s]\rDownloading AlphaFold2-ptm weights to /root/.cache/colabfold:  32%|███▏      | 1.11G/3.47G [00:51<01:46, 23.9MB/s]\rDownloading AlphaFold2-ptm weights to /root/.cache/colabfold:  32%|███▏      | 1.11G/3.47G [00:51<01:44, 24.2MB/s]\rDownloading AlphaFold2-ptm weights to /root/.cache/colabfold:  32%|███▏      | 1.11G/3.47G [00:51<01:37, 25.9MB/s]\rDownloading AlphaFold2-ptm weights to /root/.cache/colabfold:  32%|███▏      | 1.11G/3.47G [00:51<01:46, 23.8MB/s]\rDownloading AlphaFold2-ptm weights to /root/.cache/colabfold:  32%|███▏      | 1.12G/3.47G [00:51<01:46, 23.8MB/s]\rDownloading AlphaFold2-ptm weights to /root/.cache/colabfold:  32%|███▏      | 1.12G/3.47G [00:51<01:43, 24.3MB/s]\rDownloading AlphaFold2-ptm weights to /root/.cache/colabfold:  32%|███▏      | 1.12G/3.47G [00:52<01:37, 25.9MB/s]\rDownloading AlphaFold2-ptm weights to /root/.cache/colabfold:  32%|███▏      | 1.12G/3.47G [00:52<01:45, 23.8MB/s]\rDownloading AlphaFold2-ptm weights to /root/.cache/colabfold:  32%|███▏      | 1.13G/3.47G [00:52<01:45, 23.8MB/s]\rDownloading AlphaFold2-ptm weights to /root/.cache/colabfold:  33%|███▎      | 1.13G/3.47G [00:52<01:43, 24.3MB/s]\rDownloading AlphaFold2-ptm weights to /root/.cache/colabfold:  33%|███▎      | 1.13G/3.47G [00:52<01:36, 25.9MB/s]\rDownloading AlphaFold2-ptm weights to /root/.cache/colabfold:  33%|███▎      | 1.13G/3.47G [00:52<01:45, 23.8MB/s]\rDownloading AlphaFold2-ptm weights to /root/.cache/colabfold:  33%|███▎      | 1.14G/3.47G [00:52<01:45, 23.8MB/s]\rDownloading AlphaFold2-ptm weights to /root/.cache/colabfold:  33%|███▎      | 1.14G/3.47G [00:52<01:42, 24.4MB/s]\rDownloading AlphaFold2-ptm weights to /root/.cache/colabfold:  33%|███▎      | 1.14G/3.47G [00:53<01:36, 25.9MB/s]\rDownloading AlphaFold2-ptm weights to /root/.cache/colabfold:  33%|███▎      | 1.15G/3.47G [00:53<01:44, 23.8MB/s]\rDownloading AlphaFold2-ptm weights to /root/.cache/colabfold:  33%|███▎      | 1.15G/3.47G [00:53<01:44, 23.8MB/s]\rDownloading AlphaFold2-ptm weights to /root/.cache/colabfold:  33%|███▎      | 1.15G/3.47G [00:53<01:41, 24.4MB/s]\rDownloading AlphaFold2-ptm weights to /root/.cache/colabfold:  33%|███▎      | 1.15G/3.47G [00:53<01:36, 25.8MB/s]\rDownloading AlphaFold2-ptm weights to /root/.cache/colabfold:  33%|███▎      | 1.16G/3.47G [00:53<01:44, 23.8MB/s]\rDownloading AlphaFold2-ptm weights to /root/.cache/colabfold:  33%|███▎      | 1.16G/3.47G [00:53<01:43, 23.9MB/s]\rDownloading AlphaFold2-ptm weights to /root/.cache/colabfold:  33%|███▎      | 1.16G/3.47G [00:53<01:41, 24.4MB/s]\rDownloading AlphaFold2-ptm weights to /root/.cache/colabfold:  34%|███▎      | 1.16G/3.47G [00:53<01:35, 25.8MB/s]\rDownloading AlphaFold2-ptm weights to /root/.cache/colabfold:  34%|███▎      | 1.17G/3.47G [00:54<01:44, 23.7MB/s]\rDownloading AlphaFold2-ptm weights to /root/.cache/colabfold:  34%|███▎      | 1.17G/3.47G [00:54<01:43, 23.9MB/s]\rDownloading AlphaFold2-ptm weights to /root/.cache/colabfold:  34%|███▍      | 1.17G/3.47G [00:54<01:40, 24.5MB/s]\rDownloading AlphaFold2-ptm weights to /root/.cache/colabfold:  34%|███▍      | 1.17G/3.47G [00:54<01:35, 25.8MB/s]\rDownloading AlphaFold2-ptm weights to /root/.cache/colabfold:  34%|███▍      | 1.18G/3.47G [00:54<01:46, 23.0MB/s]\rDownloading AlphaFold2-ptm weights to /root/.cache/colabfold:  34%|███▍      | 1.18G/3.47G [00:54<01:59, 20.5MB/s]\rDownloading AlphaFold2-ptm weights to /root/.cache/colabfold:  34%|███▍      | 1.18G/3.47G [00:54<01:57, 20.9MB/s]\rDownloading AlphaFold2-ptm weights to /root/.cache/colabfold:  34%|███▍      | 1.19G/3.47G [00:54<01:50, 22.2MB/s]\rDownloading AlphaFold2-ptm weights to /root/.cache/colabfold:  34%|███▍      | 1.19G/3.47G [00:55<01:46, 23.0MB/s]\rDownloading AlphaFold2-ptm weights to /root/.cache/colabfold:  34%|███▍      | 1.19G/3.47G [00:55<01:44, 23.5MB/s]\rDownloading AlphaFold2-ptm weights to /root/.cache/colabfold:  34%|███▍      | 1.20G/3.47G [00:55<01:42, 23.8MB/s]\rDownloading AlphaFold2-ptm weights to /root/.cache/colabfold:  35%|███▍      | 1.20G/3.47G [00:55<01:41, 24.0MB/s]\rDownloading AlphaFold2-ptm weights to /root/.cache/colabfold:  35%|███▍      | 1.20G/3.47G [00:55<01:40, 24.1MB/s]\rDownloading AlphaFold2-ptm weights to /root/.cache/colabfold:  35%|███▍      | 1.21G/3.47G [00:55<01:40, 24.3MB/s]\rDownloading AlphaFold2-ptm weights to /root/.cache/colabfold:  35%|███▍      | 1.21G/3.47G [00:56<01:39, 24.3MB/s]\rDownloading AlphaFold2-ptm weights to /root/.cache/colabfold:  35%|███▌      | 1.21G/3.47G [00:56<01:39, 24.4MB/s]\rDownloading AlphaFold2-ptm weights to /root/.cache/colabfold:  35%|███▌      | 1.22G/3.47G [00:56<01:38, 24.4MB/s]\rDownloading AlphaFold2-ptm weights to /root/.cache/colabfold:  35%|███▌      | 1.22G/3.47G [00:56<01:38, 24.5MB/s]\rDownloading AlphaFold2-ptm weights to /root/.cache/colabfold:  35%|███▌      | 1.22G/3.47G [00:56<01:38, 24.5MB/s]\rDownloading AlphaFold2-ptm weights to /root/.cache/colabfold:  35%|███▌      | 1.23G/3.47G [00:56<01:38, 24.5MB/s]\rDownloading AlphaFold2-ptm weights to /root/.cache/colabfold:  36%|███▌      | 1.23G/3.47G [00:57<01:37, 24.5MB/s]\rDownloading AlphaFold2-ptm weights to /root/.cache/colabfold:  36%|███▌      | 1.23G/3.47G [00:57<01:37, 24.5MB/s]\rDownloading AlphaFold2-ptm weights to /root/.cache/colabfold:  36%|███▌      | 1.24G/3.47G [00:57<01:37, 24.5MB/s]\rDownloading AlphaFold2-ptm weights to /root/.cache/colabfold:  36%|███▌      | 1.24G/3.47G [00:57<01:37, 24.5MB/s]\rDownloading AlphaFold2-ptm weights to /root/.cache/colabfold:  36%|███▌      | 1.25G/3.47G [00:57<01:37, 24.5MB/s]\rDownloading AlphaFold2-ptm weights to /root/.cache/colabfold:  36%|███▌      | 1.25G/3.47G [00:57<01:38, 24.1MB/s]\rDownloading AlphaFold2-ptm weights to /root/.cache/colabfold:  36%|███▌      | 1.25G/3.47G [00:57<01:50, 21.6MB/s]\rDownloading AlphaFold2-ptm weights to /root/.cache/colabfold:  36%|███▌      | 1.25G/3.47G [00:57<01:38, 24.0MB/s]\rDownloading AlphaFold2-ptm weights to /root/.cache/colabfold:  36%|███▌      | 1.26G/3.47G [00:58<01:32, 25.8MB/s]\rDownloading AlphaFold2-ptm weights to /root/.cache/colabfold:  36%|███▋      | 1.26G/3.47G [00:58<01:36, 24.6MB/s]\rDownloading AlphaFold2-ptm weights to /root/.cache/colabfold:  36%|███▋      | 1.26G/3.47G [00:58<01:45, 22.4MB/s]\rDownloading AlphaFold2-ptm weights to /root/.cache/colabfold:  36%|███▋      | 1.26G/3.47G [00:58<01:34, 24.9MB/s]\rDownloading AlphaFold2-ptm weights to /root/.cache/colabfold:  37%|███▋      | 1.27G/3.47G [00:58<01:31, 25.9MB/s]\rDownloading AlphaFold2-ptm weights to /root/.cache/colabfold:  37%|███▋      | 1.27G/3.47G [00:58<01:36, 24.4MB/s]\rDownloading AlphaFold2-ptm weights to /root/.cache/colabfold:  37%|███▋      | 1.27G/3.47G [00:58<01:44, 22.5MB/s]\rDownloading AlphaFold2-ptm weights to /root/.cache/colabfold:  37%|███▋      | 1.27G/3.47G [00:58<01:36, 24.4MB/s]\rDownloading AlphaFold2-ptm weights to /root/.cache/colabfold:  37%|███▋      | 1.28G/3.47G [00:59<01:29, 26.2MB/s]\rDownloading AlphaFold2-ptm weights to /root/.cache/colabfold:  37%|███▋      | 1.28G/3.47G [00:59<01:35, 24.6MB/s]\rDownloading AlphaFold2-ptm weights to /root/.cache/colabfold:  37%|███▋      | 1.28G/3.47G [00:59<01:43, 22.6MB/s]\rDownloading AlphaFold2-ptm weights to /root/.cache/colabfold:  37%|███▋      | 1.29G/3.47G [00:59<01:34, 24.8MB/s]\rDownloading AlphaFold2-ptm weights to /root/.cache/colabfold:  37%|███▋      | 1.29G/3.47G [00:59<01:29, 26.1MB/s]\rDownloading AlphaFold2-ptm weights to /root/.cache/colabfold:  37%|███▋      | 1.29G/3.47G [00:59<01:35, 24.5MB/s]\rDownloading AlphaFold2-ptm weights to /root/.cache/colabfold:  37%|███▋      | 1.29G/3.47G [00:59<01:43, 22.6MB/s]\rDownloading AlphaFold2-ptm weights to /root/.cache/colabfold:  37%|███▋      | 1.30G/3.47G [00:59<01:34, 24.8MB/s]\rDownloading AlphaFold2-ptm weights to /root/.cache/colabfold:  37%|███▋      | 1.30G/3.47G [00:59<01:28, 26.2MB/s]\rDownloading AlphaFold2-ptm weights to /root/.cache/colabfold:  38%|███▊      | 1.30G/3.47G [01:00<01:34, 24.5MB/s]\rDownloading AlphaFold2-ptm weights to /root/.cache/colabfold:  38%|███▊      | 1.30G/3.47G [01:00<01:42, 22.6MB/s]\rDownloading AlphaFold2-ptm weights to /root/.cache/colabfold:  38%|███▊      | 1.31G/3.47G [01:00<01:33, 24.9MB/s]\rDownloading AlphaFold2-ptm weights to /root/.cache/colabfold:  38%|███▊      | 1.31G/3.47G [01:00<01:28, 26.1MB/s]\rDownloading AlphaFold2-ptm weights to /root/.cache/colabfold:  38%|███▊      | 1.31G/3.47G [01:00<01:34, 24.5MB/s]\rDownloading AlphaFold2-ptm weights to /root/.cache/colabfold:  38%|███▊      | 1.31G/3.47G [01:00<01:42, 22.5MB/s]\rDownloading AlphaFold2-ptm weights to /root/.cache/colabfold:  38%|███▊      | 1.32G/3.47G [01:00<01:32, 24.9MB/s]\rDownloading AlphaFold2-ptm weights to /root/.cache/colabfold:  38%|███▊      | 1.32G/3.47G [01:00<01:28, 26.2MB/s]\rDownloading AlphaFold2-ptm weights to /root/.cache/colabfold:  38%|███▊      | 1.32G/3.47G [01:01<01:34, 24.3MB/s]\rDownloading AlphaFold2-ptm weights to /root/.cache/colabfold:  38%|███▊      | 1.33G/3.47G [01:01<01:42, 22.5MB/s]\rDownloading AlphaFold2-ptm weights to /root/.cache/colabfold:  38%|███▊      | 1.33G/3.47G [01:01<01:31, 25.0MB/s]\rDownloading AlphaFold2-ptm weights to /root/.cache/colabfold:  38%|███▊      | 1.33G/3.47G [01:01<01:27, 26.2MB/s]\rDownloading AlphaFold2-ptm weights to /root/.cache/colabfold:  38%|███▊      | 1.33G/3.47G [01:01<01:35, 24.0MB/s]\rDownloading AlphaFold2-ptm weights to /root/.cache/colabfold:  39%|███▊      | 1.34G/3.47G [01:01<01:41, 22.6MB/s]\rDownloading AlphaFold2-ptm weights to /root/.cache/colabfold:  39%|███▊      | 1.34G/3.47G [01:01<01:31, 24.9MB/s]\rDownloading AlphaFold2-ptm weights to /root/.cache/colabfold:  39%|███▊      | 1.34G/3.47G [01:01<01:26, 26.4MB/s]\rDownloading AlphaFold2-ptm weights to /root/.cache/colabfold:  39%|███▉      | 1.34G/3.47G [01:01<01:35, 23.9MB/s]\rDownloading AlphaFold2-ptm weights to /root/.cache/colabfold:  39%|███▉      | 1.35G/3.47G [01:02<01:40, 22.6MB/s]\rDownloading AlphaFold2-ptm weights to /root/.cache/colabfold:  39%|███▉      | 1.35G/3.47G [01:02<01:33, 24.4MB/s]\rDownloading AlphaFold2-ptm weights to /root/.cache/colabfold:  39%|███▉      | 1.35G/3.47G [01:02<01:25, 26.6MB/s]\rDownloading AlphaFold2-ptm weights to /root/.cache/colabfold:  39%|███▉      | 1.35G/3.47G [01:02<01:34, 24.1MB/s]\rDownloading AlphaFold2-ptm weights to /root/.cache/colabfold:  39%|███▉      | 1.36G/3.47G [01:02<01:39, 22.8MB/s]\rDownloading AlphaFold2-ptm weights to /root/.cache/colabfold:  39%|███▉      | 1.36G/3.47G [01:02<01:32, 24.5MB/s]\rDownloading AlphaFold2-ptm weights to /root/.cache/colabfold:  39%|███▉      | 1.36G/3.47G [01:02<01:25, 26.5MB/s]\rDownloading AlphaFold2-ptm weights to /root/.cache/colabfold:  39%|███▉      | 1.37G/3.47G [01:02<01:34, 24.0MB/s]\rDownloading AlphaFold2-ptm weights to /root/.cache/colabfold:  39%|███▉      | 1.37G/3.47G [01:03<01:39, 22.7MB/s]\rDownloading AlphaFold2-ptm weights to /root/.cache/colabfold:  40%|███▉      | 1.37G/3.47G [01:03<01:31, 24.6MB/s]\rDownloading AlphaFold2-ptm weights to /root/.cache/colabfold:  40%|███▉      | 1.37G/3.47G [01:03<01:24, 26.5MB/s]\rDownloading AlphaFold2-ptm weights to /root/.cache/colabfold:  40%|███▉      | 1.38G/3.47G [01:03<01:33, 24.1MB/s]\rDownloading AlphaFold2-ptm weights to /root/.cache/colabfold:  40%|███▉      | 1.38G/3.47G [01:03<01:39, 22.6MB/s]\rDownloading AlphaFold2-ptm weights to /root/.cache/colabfold:  40%|███▉      | 1.38G/3.47G [01:03<01:30, 24.8MB/s]\rDownloading AlphaFold2-ptm weights to /root/.cache/colabfold:  40%|███▉      | 1.38G/3.47G [01:03<01:24, 26.5MB/s]\rDownloading AlphaFold2-ptm weights to /root/.cache/colabfold:  40%|███▉      | 1.39G/3.47G [01:03<01:45, 21.2MB/s]\rDownloading AlphaFold2-ptm weights to /root/.cache/colabfold:  40%|████      | 1.39G/3.47G [01:04<01:29, 24.8MB/s]\rDownloading AlphaFold2-ptm weights to /root/.cache/colabfold:  40%|████      | 1.39G/3.47G [01:04<01:34, 23.6MB/s]\rDownloading AlphaFold2-ptm weights to /root/.cache/colabfold:  40%|████      | 1.40G/3.47G [01:04<01:27, 25.5MB/s]\rDownloading AlphaFold2-ptm weights to /root/.cache/colabfold:  40%|████      | 1.40G/3.47G [01:04<01:22, 27.0MB/s]\rDownloading AlphaFold2-ptm weights to /root/.cache/colabfold:  40%|████      | 1.40G/3.47G [01:04<01:30, 24.5MB/s]\rDownloading AlphaFold2-ptm weights to /root/.cache/colabfold:  40%|████      | 1.40G/3.47G [01:04<01:35, 23.1MB/s]\rDownloading AlphaFold2-ptm weights to /root/.cache/colabfold:  41%|████      | 1.41G/3.47G [01:04<01:27, 25.3MB/s]\rDownloading AlphaFold2-ptm weights to /root/.cache/colabfold:  41%|████      | 1.41G/3.47G [01:04<02:06, 17.4MB/s]\rDownloading AlphaFold2-ptm weights to /root/.cache/colabfold:  41%|████      | 1.41G/3.47G [01:05<01:46, 20.7MB/s]\rDownloading AlphaFold2-ptm weights to /root/.cache/colabfold:  41%|████      | 1.41G/3.47G [01:05<01:37, 22.5MB/s]\rDownloading AlphaFold2-ptm weights to /root/.cache/colabfold:  41%|████      | 1.42G/3.47G [01:05<01:48, 20.3MB/s]\rDownloading AlphaFold2-ptm weights to /root/.cache/colabfold:  41%|████      | 1.42G/3.47G [01:05<01:54, 19.2MB/s]\rDownloading AlphaFold2-ptm weights to /root/.cache/colabfold:  41%|████      | 1.42G/3.47G [01:05<01:46, 20.6MB/s]\rDownloading AlphaFold2-ptm weights to /root/.cache/colabfold:  41%|████      | 1.43G/3.47G [01:05<01:40, 21.8MB/s]\rDownloading AlphaFold2-ptm weights to /root/.cache/colabfold:  41%|████      | 1.43G/3.47G [01:05<01:36, 22.7MB/s]\rDownloading AlphaFold2-ptm weights to /root/.cache/colabfold:  41%|████▏     | 1.43G/3.47G [01:06<01:34, 23.2MB/s]\rDownloading AlphaFold2-ptm weights to /root/.cache/colabfold:  41%|████▏     | 1.44G/3.47G [01:06<01:32, 23.6MB/s]\rDownloading AlphaFold2-ptm weights to /root/.cache/colabfold:  42%|████▏     | 1.44G/3.47G [01:06<01:31, 23.9MB/s]\rDownloading AlphaFold2-ptm weights to /root/.cache/colabfold:  42%|████▏     | 1.44G/3.47G [01:06<01:30, 24.1MB/s]\rDownloading AlphaFold2-ptm weights to /root/.cache/colabfold:  42%|████▏     | 1.45G/3.47G [01:06<01:29, 24.2MB/s]\rDownloading AlphaFold2-ptm weights to /root/.cache/colabfold:  42%|████▏     | 1.45G/3.47G [01:06<01:29, 24.2MB/s]\rDownloading AlphaFold2-ptm weights to /root/.cache/colabfold:  42%|████▏     | 1.45G/3.47G [01:07<01:28, 24.3MB/s]\rDownloading AlphaFold2-ptm weights to /root/.cache/colabfold:  42%|████▏     | 1.46G/3.47G [01:07<01:28, 24.3MB/s]\rDownloading AlphaFold2-ptm weights to /root/.cache/colabfold:  42%|████▏     | 1.46G/3.47G [01:07<01:28, 24.3MB/s]\rDownloading AlphaFold2-ptm weights to /root/.cache/colabfold:  42%|████▏     | 1.47G/3.47G [01:07<01:28, 24.4MB/s]\rDownloading AlphaFold2-ptm weights to /root/.cache/colabfold:  42%|████▏     | 1.47G/3.47G [01:07<01:28, 24.4MB/s]\rDownloading AlphaFold2-ptm weights to /root/.cache/colabfold:  42%|████▏     | 1.47G/3.47G [01:07<01:27, 24.4MB/s]\rDownloading AlphaFold2-ptm weights to /root/.cache/colabfold:  43%|████▎     | 1.48G/3.47G [01:07<01:27, 24.4MB/s]\rDownloading AlphaFold2-ptm weights to /root/.cache/colabfold:  43%|████▎     | 1.48G/3.47G [01:08<01:27, 24.4MB/s]\rDownloading AlphaFold2-ptm weights to /root/.cache/colabfold:  43%|████▎     | 1.48G/3.47G [01:08<01:27, 24.4MB/s]\rDownloading AlphaFold2-ptm weights to /root/.cache/colabfold:  43%|████▎     | 1.49G/3.47G [01:08<01:27, 24.4MB/s]\rDownloading AlphaFold2-ptm weights to /root/.cache/colabfold:  43%|████▎     | 1.49G/3.47G [01:08<01:26, 24.4MB/s]\rDownloading AlphaFold2-ptm weights to /root/.cache/colabfold:  43%|████▎     | 1.49G/3.47G [01:08<01:26, 24.5MB/s]\rDownloading AlphaFold2-ptm weights to /root/.cache/colabfold:  43%|████▎     | 1.50G/3.47G [01:08<01:26, 24.4MB/s]\rDownloading AlphaFold2-ptm weights to /root/.cache/colabfold:  43%|████▎     | 1.50G/3.47G [01:09<01:26, 24.4MB/s]\rDownloading AlphaFold2-ptm weights to /root/.cache/colabfold:  43%|████▎     | 1.50G/3.47G [01:09<01:26, 24.4MB/s]\rDownloading AlphaFold2-ptm weights to /root/.cache/colabfold:  43%|████▎     | 1.51G/3.47G [01:09<01:26, 24.5MB/s]\rDownloading AlphaFold2-ptm weights to /root/.cache/colabfold:  44%|████▎     | 1.51G/3.47G [01:09<01:26, 24.4MB/s]\rDownloading AlphaFold2-ptm weights to /root/.cache/colabfold:  44%|████▎     | 1.52G/3.47G [01:09<01:25, 24.4MB/s]\rDownloading AlphaFold2-ptm weights to /root/.cache/colabfold:  44%|████▍     | 1.52G/3.47G [01:09<01:25, 24.5MB/s]\rDownloading AlphaFold2-ptm weights to /root/.cache/colabfold:  44%|████▍     | 1.52G/3.47G [01:10<01:25, 24.5MB/s]\rDownloading AlphaFold2-ptm weights to /root/.cache/colabfold:  44%|████▍     | 1.53G/3.47G [01:10<01:25, 24.5MB/s]\rDownloading AlphaFold2-ptm weights to /root/.cache/colabfold:  44%|████▍     | 1.53G/3.47G [01:10<01:25, 24.5MB/s]\rDownloading AlphaFold2-ptm weights to /root/.cache/colabfold:  44%|████▍     | 1.53G/3.47G [01:10<01:24, 24.5MB/s]\rDownloading AlphaFold2-ptm weights to /root/.cache/colabfold:  44%|████▍     | 1.54G/3.47G [01:10<01:24, 24.5MB/s]\rDownloading AlphaFold2-ptm weights to /root/.cache/colabfold:  44%|████▍     | 1.54G/3.47G [01:10<01:24, 24.5MB/s]\rDownloading AlphaFold2-ptm weights to /root/.cache/colabfold:  45%|████▍     | 1.54G/3.47G [01:10<01:24, 24.5MB/s]\rDownloading AlphaFold2-ptm weights to /root/.cache/colabfold:  45%|████▍     | 1.55G/3.47G [01:11<01:24, 24.5MB/s]\rDownloading AlphaFold2-ptm weights to /root/.cache/colabfold:  45%|████▍     | 1.55G/3.47G [01:11<01:24, 24.5MB/s]\rDownloading AlphaFold2-ptm weights to /root/.cache/colabfold:  45%|████▍     | 1.55G/3.47G [01:11<01:23, 24.5MB/s]\rDownloading AlphaFold2-ptm weights to /root/.cache/colabfold:  45%|████▍     | 1.56G/3.47G [01:11<01:15, 27.2MB/s]\rDownloading AlphaFold2-ptm weights to /root/.cache/colabfold:  45%|████▌     | 1.56G/3.47G [01:11<01:21, 25.0MB/s]\rDownloading AlphaFold2-ptm weights to /root/.cache/colabfold:  45%|████▌     | 1.56G/3.47G [01:11<01:21, 25.1MB/s]\rDownloading AlphaFold2-ptm weights to /root/.cache/colabfold:  45%|████▌     | 1.57G/3.47G [01:11<01:26, 23.7MB/s]\rDownloading AlphaFold2-ptm weights to /root/.cache/colabfold:  45%|████▌     | 1.57G/3.47G [01:12<01:26, 23.5MB/s]\rDownloading AlphaFold2-ptm weights to /root/.cache/colabfold:  45%|████▌     | 1.57G/3.47G [01:12<01:15, 26.8MB/s]\rDownloading AlphaFold2-ptm weights to /root/.cache/colabfold:  45%|████▌     | 1.57G/3.47G [01:12<01:23, 24.5MB/s]\rDownloading AlphaFold2-ptm weights to /root/.cache/colabfold:  45%|████▌     | 1.58G/3.47G [01:12<01:22, 24.6MB/s]\rDownloading AlphaFold2-ptm weights to /root/.cache/colabfold:  46%|████▌     | 1.58G/3.47G [01:12<01:27, 23.2MB/s]\rDownloading AlphaFold2-ptm weights to /root/.cache/colabfold:  46%|████▌     | 1.58G/3.47G [01:12<01:16, 26.6MB/s]\rDownloading AlphaFold2-ptm weights to /root/.cache/colabfold:  46%|████▌     | 1.59G/3.47G [01:12<01:23, 24.2MB/s]\rDownloading AlphaFold2-ptm weights to /root/.cache/colabfold:  46%|████▌     | 1.59G/3.47G [01:12<01:22, 24.3MB/s]\rDownloading AlphaFold2-ptm weights to /root/.cache/colabfold:  46%|████▌     | 1.59G/3.47G [01:13<01:32, 21.8MB/s]\rDownloading AlphaFold2-ptm weights to /root/.cache/colabfold:  46%|████▌     | 1.59G/3.47G [01:13<01:41, 19.8MB/s]\rDownloading AlphaFold2-ptm weights to /root/.cache/colabfold:  46%|████▌     | 1.59G/3.47G [01:13<01:39, 20.3MB/s]\rDownloading AlphaFold2-ptm weights to /root/.cache/colabfold:  46%|████▌     | 1.60G/3.47G [01:13<01:32, 21.7MB/s]\rDownloading AlphaFold2-ptm weights to /root/.cache/colabfold:  46%|████▌     | 1.60G/3.47G [01:13<01:28, 22.5MB/s]\rDownloading AlphaFold2-ptm weights to /root/.cache/colabfold:  46%|████▋     | 1.61G/3.47G [01:13<01:26, 23.2MB/s]\rDownloading AlphaFold2-ptm weights to /root/.cache/colabfold:  46%|████▋     | 1.61G/3.47G [01:13<01:24, 23.6MB/s]\rDownloading AlphaFold2-ptm weights to /root/.cache/colabfold:  47%|████▋     | 1.61G/3.47G [01:14<01:23, 23.9MB/s]\rDownloading AlphaFold2-ptm weights to /root/.cache/colabfold:  47%|████▋     | 1.62G/3.47G [01:14<01:22, 24.0MB/s]\rDownloading AlphaFold2-ptm weights to /root/.cache/colabfold:  47%|████▋     | 1.62G/3.47G [01:14<01:22, 24.0MB/s]\rDownloading AlphaFold2-ptm weights to /root/.cache/colabfold:  47%|████▋     | 1.62G/3.47G [01:14<01:21, 24.2MB/s]\rDownloading AlphaFold2-ptm weights to /root/.cache/colabfold:  47%|████▋     | 1.63G/3.47G [01:14<01:21, 24.3MB/s]\rDownloading AlphaFold2-ptm weights to /root/.cache/colabfold:  47%|████▋     | 1.63G/3.47G [01:14<01:21, 24.3MB/s]\rDownloading AlphaFold2-ptm weights to /root/.cache/colabfold:  47%|████▋     | 1.63G/3.47G [01:15<01:20, 24.4MB/s]\rDownloading AlphaFold2-ptm weights to /root/.cache/colabfold:  47%|████▋     | 1.64G/3.47G [01:15<01:20, 24.4MB/s]\rDownloading AlphaFold2-ptm weights to /root/.cache/colabfold:  47%|████▋     | 1.64G/3.47G [01:15<01:20, 24.5MB/s]\rDownloading AlphaFold2-ptm weights to /root/.cache/colabfold:  47%|████▋     | 1.64G/3.47G [01:15<01:19, 24.5MB/s]\rDownloading AlphaFold2-ptm weights to /root/.cache/colabfold:  48%|████▊     | 1.65G/3.47G [01:15<01:19, 24.5MB/s]\rDownloading AlphaFold2-ptm weights to /root/.cache/colabfold:  48%|████▊     | 1.65G/3.47G [01:15<01:19, 24.5MB/s]\rDownloading AlphaFold2-ptm weights to /root/.cache/colabfold:  48%|████▊     | 1.66G/3.47G [01:15<01:19, 24.5MB/s]\rDownloading AlphaFold2-ptm weights to /root/.cache/colabfold:  48%|████▊     | 1.66G/3.47G [01:16<01:19, 24.5MB/s]\rDownloading AlphaFold2-ptm weights to /root/.cache/colabfold:  48%|████▊     | 1.66G/3.47G [01:16<01:19, 24.5MB/s]\rDownloading AlphaFold2-ptm weights to /root/.cache/colabfold:  48%|████▊     | 1.67G/3.47G [01:16<01:18, 24.5MB/s]\rDownloading AlphaFold2-ptm weights to /root/.cache/colabfold:  48%|████▊     | 1.67G/3.47G [01:16<01:19, 24.4MB/s]\rDownloading AlphaFold2-ptm weights to /root/.cache/colabfold:  48%|████▊     | 1.67G/3.47G [01:16<01:19, 24.2MB/s]\rDownloading AlphaFold2-ptm weights to /root/.cache/colabfold:  48%|████▊     | 1.68G/3.47G [01:16<01:18, 24.3MB/s]\rDownloading AlphaFold2-ptm weights to /root/.cache/colabfold:  48%|████▊     | 1.68G/3.47G [01:17<01:18, 24.4MB/s]\rDownloading AlphaFold2-ptm weights to /root/.cache/colabfold:  49%|████▊     | 1.68G/3.47G [01:17<01:18, 24.4MB/s]\rDownloading AlphaFold2-ptm weights to /root/.cache/colabfold:  49%|████▊     | 1.69G/3.47G [01:17<01:18, 24.4MB/s]\rDownloading AlphaFold2-ptm weights to /root/.cache/colabfold:  49%|████▉     | 1.69G/3.47G [01:17<01:17, 24.4MB/s]\rDownloading AlphaFold2-ptm weights to /root/.cache/colabfold:  49%|████▉     | 1.69G/3.47G [01:17<01:17, 24.5MB/s]\rDownloading AlphaFold2-ptm weights to /root/.cache/colabfold:  49%|████▉     | 1.70G/3.47G [01:17<01:27, 21.6MB/s]\rDownloading AlphaFold2-ptm weights to /root/.cache/colabfold:  49%|████▉     | 1.70G/3.47G [01:17<01:37, 19.4MB/s]\rDownloading AlphaFold2-ptm weights to /root/.cache/colabfold:  49%|████▉     | 1.70G/3.47G [01:18<01:32, 20.4MB/s]\rDownloading AlphaFold2-ptm weights to /root/.cache/colabfold:  49%|████▉     | 1.71G/3.47G [01:18<01:27, 21.6MB/s]\rDownloading AlphaFold2-ptm weights to /root/.cache/colabfold:  49%|████▉     | 1.71G/3.47G [01:18<01:23, 22.5MB/s]\rDownloading AlphaFold2-ptm weights to /root/.cache/colabfold:  49%|████▉     | 1.71G/3.47G [01:18<01:21, 23.1MB/s]\rDownloading AlphaFold2-ptm weights to /root/.cache/colabfold:  50%|████▉     | 1.72G/3.47G [01:18<01:20, 23.5MB/s]\rDownloading AlphaFold2-ptm weights to /root/.cache/colabfold:  50%|████▉     | 1.72G/3.47G [01:18<01:18, 23.8MB/s]\rDownloading AlphaFold2-ptm weights to /root/.cache/colabfold:  50%|████▉     | 1.72G/3.47G [01:19<01:18, 24.0MB/s]\rDownloading AlphaFold2-ptm weights to /root/.cache/colabfold:  50%|████▉     | 1.73G/3.47G [01:19<01:17, 24.1MB/s]\rDownloading AlphaFold2-ptm weights to /root/.cache/colabfold:  50%|████▉     | 1.73G/3.47G [01:19<01:16, 24.2MB/s]\rDownloading AlphaFold2-ptm weights to /root/.cache/colabfold:  50%|█████     | 1.73G/3.47G [01:19<01:16, 24.3MB/s]\rDownloading AlphaFold2-ptm weights to /root/.cache/colabfold:  50%|█████     | 1.74G/3.47G [01:19<01:16, 24.3MB/s]\rDownloading AlphaFold2-ptm weights to /root/.cache/colabfold:  50%|█████     | 1.74G/3.47G [01:19<01:15, 24.4MB/s]\rDownloading AlphaFold2-ptm weights to /root/.cache/colabfold:  50%|█████     | 1.74G/3.47G [01:20<01:15, 24.4MB/s]\rDownloading AlphaFold2-ptm weights to /root/.cache/colabfold:  50%|█████     | 1.75G/3.47G [01:20<01:17, 23.7MB/s]\rDownloading AlphaFold2-ptm weights to /root/.cache/colabfold:  50%|█████     | 1.75G/3.47G [01:20<01:25, 21.6MB/s]\rDownloading AlphaFold2-ptm weights to /root/.cache/colabfold:  51%|█████     | 1.75G/3.47G [01:20<01:21, 22.5MB/s]\rDownloading AlphaFold2-ptm weights to /root/.cache/colabfold:  51%|█████     | 1.76G/3.47G [01:20<01:19, 23.1MB/s]\rDownloading AlphaFold2-ptm weights to /root/.cache/colabfold:  51%|█████     | 1.76G/3.47G [01:20<01:17, 23.6MB/s]\rDownloading AlphaFold2-ptm weights to /root/.cache/colabfold:  51%|█████     | 1.76G/3.47G [01:20<01:16, 23.9MB/s]\rDownloading AlphaFold2-ptm weights to /root/.cache/colabfold:  51%|█████     | 1.77G/3.47G [01:21<01:15, 24.2MB/s]\rDownloading AlphaFold2-ptm weights to /root/.cache/colabfold:  51%|█████     | 1.77G/3.47G [01:21<01:15, 24.3MB/s]\rDownloading AlphaFold2-ptm weights to /root/.cache/colabfold:  51%|█████     | 1.78G/3.47G [01:21<01:14, 24.4MB/s]\rDownloading AlphaFold2-ptm weights to /root/.cache/colabfold:  51%|█████▏    | 1.78G/3.47G [01:21<01:14, 24.4MB/s]\rDownloading AlphaFold2-ptm weights to /root/.cache/colabfold:  51%|█████▏    | 1.78G/3.47G [01:21<01:13, 24.5MB/s]\rDownloading AlphaFold2-ptm weights to /root/.cache/colabfold:  52%|█████▏    | 1.79G/3.47G [01:21<01:13, 24.6MB/s]\rDownloading AlphaFold2-ptm weights to /root/.cache/colabfold:  52%|█████▏    | 1.79G/3.47G [01:22<01:13, 24.6MB/s]\rDownloading AlphaFold2-ptm weights to /root/.cache/colabfold:  52%|█████▏    | 1.79G/3.47G [01:22<01:12, 24.6MB/s]\rDownloading AlphaFold2-ptm weights to /root/.cache/colabfold:  52%|█████▏    | 1.80G/3.47G [01:22<01:12, 24.6MB/s]\rDownloading AlphaFold2-ptm weights to /root/.cache/colabfold:  52%|█████▏    | 1.80G/3.47G [01:22<01:12, 24.6MB/s]\rDownloading AlphaFold2-ptm weights to /root/.cache/colabfold:  52%|█████▏    | 1.80G/3.47G [01:22<01:12, 24.6MB/s]\rDownloading AlphaFold2-ptm weights to /root/.cache/colabfold:  52%|█████▏    | 1.81G/3.47G [01:22<01:12, 24.6MB/s]\rDownloading AlphaFold2-ptm weights to /root/.cache/colabfold:  52%|█████▏    | 1.81G/3.47G [01:22<01:12, 24.6MB/s]\rDownloading AlphaFold2-ptm weights to /root/.cache/colabfold:  52%|█████▏    | 1.81G/3.47G [01:23<01:12, 24.6MB/s]\rDownloading AlphaFold2-ptm weights to /root/.cache/colabfold:  52%|█████▏    | 1.82G/3.47G [01:23<01:11, 24.6MB/s]\rDownloading AlphaFold2-ptm weights to /root/.cache/colabfold:  53%|█████▎    | 1.82G/3.47G [01:23<01:11, 24.6MB/s]\rDownloading AlphaFold2-ptm weights to /root/.cache/colabfold:  53%|█████▎    | 1.83G/3.47G [01:23<01:11, 24.6MB/s]\rDownloading AlphaFold2-ptm weights to /root/.cache/colabfold:  53%|█████▎    | 1.83G/3.47G [01:23<01:11, 24.6MB/s]\rDownloading AlphaFold2-ptm weights to /root/.cache/colabfold:  53%|█████▎    | 1.83G/3.47G [01:23<01:11, 24.6MB/s]\rDownloading AlphaFold2-ptm weights to /root/.cache/colabfold:  53%|█████▎    | 1.84G/3.47G [01:24<01:11, 24.6MB/s]\rDownloading AlphaFold2-ptm weights to /root/.cache/colabfold:  53%|█████▎    | 1.84G/3.47G [01:24<01:11, 24.6MB/s]\rDownloading AlphaFold2-ptm weights to /root/.cache/colabfold:  53%|█████▎    | 1.84G/3.47G [01:24<01:10, 24.6MB/s]\rDownloading AlphaFold2-ptm weights to /root/.cache/colabfold:  53%|█████▎    | 1.85G/3.47G [01:24<01:10, 24.6MB/s]\rDownloading AlphaFold2-ptm weights to /root/.cache/colabfold:  53%|█████▎    | 1.85G/3.47G [01:24<01:10, 24.6MB/s]\rDownloading AlphaFold2-ptm weights to /root/.cache/colabfold:  53%|█████▎    | 1.85G/3.47G [01:24<01:10, 24.6MB/s]\rDownloading AlphaFold2-ptm weights to /root/.cache/colabfold:  54%|█████▎    | 1.86G/3.47G [01:24<01:10, 24.6MB/s]\rDownloading AlphaFold2-ptm weights to /root/.cache/colabfold:  54%|█████▎    | 1.86G/3.47G [01:25<01:10, 24.6MB/s]\rDownloading AlphaFold2-ptm weights to /root/.cache/colabfold:  54%|█████▍    | 1.86G/3.47G [01:25<01:09, 24.6MB/s]\rDownloading AlphaFold2-ptm weights to /root/.cache/colabfold:  54%|█████▍    | 1.87G/3.47G [01:25<01:09, 24.6MB/s]\rDownloading AlphaFold2-ptm weights to /root/.cache/colabfold:  54%|█████▍    | 1.87G/3.47G [01:25<01:09, 24.7MB/s]\rDownloading AlphaFold2-ptm weights to /root/.cache/colabfold:  54%|█████▍    | 1.88G/3.47G [01:25<01:09, 24.7MB/s]\rDownloading AlphaFold2-ptm weights to /root/.cache/colabfold:  54%|█████▍    | 1.88G/3.47G [01:25<01:09, 24.7MB/s]\rDownloading AlphaFold2-ptm weights to /root/.cache/colabfold:  54%|█████▍    | 1.88G/3.47G [01:26<01:08, 24.7MB/s]\rDownloading AlphaFold2-ptm weights to /root/.cache/colabfold:  54%|█████▍    | 1.89G/3.47G [01:26<01:08, 24.7MB/s]\rDownloading AlphaFold2-ptm weights to /root/.cache/colabfold:  54%|█████▍    | 1.89G/3.47G [01:26<01:08, 24.7MB/s]\rDownloading AlphaFold2-ptm weights to /root/.cache/colabfold:  55%|█████▍    | 1.89G/3.47G [01:26<01:08, 24.7MB/s]\rDownloading AlphaFold2-ptm weights to /root/.cache/colabfold:  55%|█████▍    | 1.90G/3.47G [01:26<01:08, 24.7MB/s]\rDownloading AlphaFold2-ptm weights to /root/.cache/colabfold:  55%|█████▍    | 1.90G/3.47G [01:26<01:08, 24.6MB/s]\rDownloading AlphaFold2-ptm weights to /root/.cache/colabfold:  55%|█████▍    | 1.90G/3.47G [01:27<01:08, 24.6MB/s]\rDownloading AlphaFold2-ptm weights to /root/.cache/colabfold:  55%|█████▌    | 1.91G/3.47G [01:27<01:07, 24.7MB/s]\rDownloading AlphaFold2-ptm weights to /root/.cache/colabfold:  55%|█████▌    | 1.91G/3.47G [01:27<01:07, 24.7MB/s]\rDownloading AlphaFold2-ptm weights to /root/.cache/colabfold:  55%|█████▌    | 1.91G/3.47G [01:27<01:07, 24.7MB/s]\rDownloading AlphaFold2-ptm weights to /root/.cache/colabfold:  55%|█████▌    | 1.92G/3.47G [01:27<01:07, 24.7MB/s]\rDownloading AlphaFold2-ptm weights to /root/.cache/colabfold:  55%|█████▌    | 1.92G/3.47G [01:27<01:07, 24.7MB/s]\rDownloading AlphaFold2-ptm weights to /root/.cache/colabfold:  56%|█████▌    | 1.93G/3.47G [01:27<01:07, 24.6MB/s]\rDownloading AlphaFold2-ptm weights to /root/.cache/colabfold:  56%|█████▌    | 1.93G/3.47G [01:28<01:01, 26.8MB/s]\rDownloading AlphaFold2-ptm weights to /root/.cache/colabfold:  56%|█████▌    | 1.93G/3.47G [01:28<01:06, 25.0MB/s]\rDownloading AlphaFold2-ptm weights to /root/.cache/colabfold:  56%|█████▌    | 1.93G/3.47G [01:28<01:04, 25.6MB/s]\rDownloading AlphaFold2-ptm weights to /root/.cache/colabfold:  56%|█████▌    | 1.94G/3.47G [01:28<01:07, 24.3MB/s]\rDownloading AlphaFold2-ptm weights to /root/.cache/colabfold:  56%|█████▌    | 1.94G/3.47G [01:28<01:09, 23.7MB/s]\rDownloading AlphaFold2-ptm weights to /root/.cache/colabfold:  56%|█████▌    | 1.94G/3.47G [01:28<01:02, 26.2MB/s]\rDownloading AlphaFold2-ptm weights to /root/.cache/colabfold:  56%|█████▌    | 1.94G/3.47G [01:28<01:07, 24.2MB/s]\rDownloading AlphaFold2-ptm weights to /root/.cache/colabfold:  56%|█████▌    | 1.95G/3.47G [01:28<01:04, 25.4MB/s]\rDownloading AlphaFold2-ptm weights to /root/.cache/colabfold:  56%|█████▋    | 1.95G/3.47G [01:29<01:07, 24.2MB/s]\rDownloading AlphaFold2-ptm weights to /root/.cache/colabfold:  56%|█████▋    | 1.95G/3.47G [01:29<01:08, 23.6MB/s]\rDownloading AlphaFold2-ptm weights to /root/.cache/colabfold:  56%|█████▋    | 1.96G/3.47G [01:29<01:02, 26.1MB/s]\rDownloading AlphaFold2-ptm weights to /root/.cache/colabfold:  57%|█████▋    | 1.96G/3.47G [01:29<01:07, 24.2MB/s]\rDownloading AlphaFold2-ptm weights to /root/.cache/colabfold:  57%|█████▋    | 1.96G/3.47G [01:29<01:03, 25.4MB/s]\rDownloading AlphaFold2-ptm weights to /root/.cache/colabfold:  57%|█████▋    | 1.96G/3.47G [01:29<01:06, 24.1MB/s]\rDownloading AlphaFold2-ptm weights to /root/.cache/colabfold:  57%|█████▋    | 1.97G/3.47G [01:29<01:08, 23.5MB/s]\rDownloading AlphaFold2-ptm weights to /root/.cache/colabfold:  57%|█████▋    | 1.97G/3.47G [01:29<01:01, 26.1MB/s]\rDownloading AlphaFold2-ptm weights to /root/.cache/colabfold:  57%|█████▋    | 1.97G/3.47G [01:30<01:06, 24.2MB/s]\rDownloading AlphaFold2-ptm weights to /root/.cache/colabfold:  57%|█████▋    | 1.98G/3.47G [01:30<01:03, 25.3MB/s]\rDownloading AlphaFold2-ptm weights to /root/.cache/colabfold:  57%|█████▋    | 1.98G/3.47G [01:30<01:09, 22.9MB/s]\rDownloading AlphaFold2-ptm weights to /root/.cache/colabfold:  57%|█████▋    | 1.98G/3.47G [01:30<01:19, 20.1MB/s]\rDownloading AlphaFold2-ptm weights to /root/.cache/colabfold:  57%|█████▋    | 1.98G/3.47G [01:30<01:28, 18.0MB/s]\rDownloading AlphaFold2-ptm weights to /root/.cache/colabfold:  57%|█████▋    | 1.98G/3.47G [01:30<01:38, 16.2MB/s]\rDownloading AlphaFold2-ptm weights to /root/.cache/colabfold:  57%|█████▋    | 1.99G/3.47G [01:30<01:30, 17.5MB/s]\rDownloading AlphaFold2-ptm weights to /root/.cache/colabfold:  57%|█████▋    | 1.99G/3.47G [01:31<01:20, 19.8MB/s]\rDownloading AlphaFold2-ptm weights to /root/.cache/colabfold:  58%|█████▊    | 1.99G/3.47G [01:31<01:14, 21.3MB/s]\rDownloading AlphaFold2-ptm weights to /root/.cache/colabfold:  58%|█████▊    | 2.00G/3.47G [01:31<01:10, 22.3MB/s]\rDownloading AlphaFold2-ptm weights to /root/.cache/colabfold:  58%|█████▊    | 2.00G/3.47G [01:31<01:08, 23.1MB/s]\rDownloading AlphaFold2-ptm weights to /root/.cache/colabfold:  58%|█████▊    | 2.01G/3.47G [01:31<01:06, 23.5MB/s]\rDownloading AlphaFold2-ptm weights to /root/.cache/colabfold:  58%|█████▊    | 2.01G/3.47G [01:31<01:05, 23.8MB/s]\rDownloading AlphaFold2-ptm weights to /root/.cache/colabfold:  58%|█████▊    | 2.01G/3.47G [01:31<01:04, 24.1MB/s]\rDownloading AlphaFold2-ptm weights to /root/.cache/colabfold:  58%|█████▊    | 2.02G/3.47G [01:32<01:04, 24.3MB/s]\rDownloading AlphaFold2-ptm weights to /root/.cache/colabfold:  58%|█████▊    | 2.02G/3.47G [01:32<01:03, 24.4MB/s]\rDownloading AlphaFold2-ptm weights to /root/.cache/colabfold:  58%|█████▊    | 2.02G/3.47G [01:32<01:03, 24.5MB/s]\rDownloading AlphaFold2-ptm weights to /root/.cache/colabfold:  58%|█████▊    | 2.03G/3.47G [01:32<01:03, 24.5MB/s]\rDownloading AlphaFold2-ptm weights to /root/.cache/colabfold:  59%|█████▊    | 2.03G/3.47G [01:32<01:02, 24.6MB/s]\rDownloading AlphaFold2-ptm weights to /root/.cache/colabfold:  59%|█████▊    | 2.03G/3.47G [01:32<01:02, 24.6MB/s]\rDownloading AlphaFold2-ptm weights to /root/.cache/colabfold:  59%|█████▉    | 2.04G/3.47G [01:33<01:02, 24.6MB/s]\rDownloading AlphaFold2-ptm weights to /root/.cache/colabfold:  59%|█████▉    | 2.04G/3.47G [01:33<01:02, 24.6MB/s]\rDownloading AlphaFold2-ptm weights to /root/.cache/colabfold:  59%|█████▉    | 2.04G/3.47G [01:33<01:02, 24.6MB/s]\rDownloading AlphaFold2-ptm weights to /root/.cache/colabfold:  59%|█████▉    | 2.05G/3.47G [01:33<01:01, 24.6MB/s]\rDownloading AlphaFold2-ptm weights to /root/.cache/colabfold:  59%|█████▉    | 2.05G/3.47G [01:33<01:01, 24.6MB/s]\rDownloading AlphaFold2-ptm weights to /root/.cache/colabfold:  59%|█████▉    | 2.06G/3.47G [01:33<01:01, 24.6MB/s]\rDownloading AlphaFold2-ptm weights to /root/.cache/colabfold:  59%|█████▉    | 2.06G/3.47G [01:34<01:01, 24.6MB/s]\rDownloading AlphaFold2-ptm weights to /root/.cache/colabfold:  59%|█████▉    | 2.06G/3.47G [01:34<01:01, 24.7MB/s]\rDownloading AlphaFold2-ptm weights to /root/.cache/colabfold:  60%|█████▉    | 2.07G/3.47G [01:34<01:01, 24.6MB/s]\rDownloading AlphaFold2-ptm weights to /root/.cache/colabfold:  60%|█████▉    | 2.07G/3.47G [01:34<01:00, 24.7MB/s]\rDownloading AlphaFold2-ptm weights to /root/.cache/colabfold:  60%|█████▉    | 2.07G/3.47G [01:34<01:00, 24.6MB/s]\rDownloading AlphaFold2-ptm weights to /root/.cache/colabfold:  60%|█████▉    | 2.08G/3.47G [01:34<01:00, 24.7MB/s]\rDownloading AlphaFold2-ptm weights to /root/.cache/colabfold:  60%|█████▉    | 2.08G/3.47G [01:34<00:57, 26.1MB/s]\rDownloading AlphaFold2-ptm weights to /root/.cache/colabfold:  60%|██████    | 2.08G/3.47G [01:34<00:50, 29.1MB/s]\rDownloading AlphaFold2-ptm weights to /root/.cache/colabfold:  60%|██████    | 2.09G/3.47G [01:35<00:55, 26.5MB/s]\rDownloading AlphaFold2-ptm weights to /root/.cache/colabfold:  60%|██████    | 2.09G/3.47G [01:35<01:00, 24.6MB/s]\rDownloading AlphaFold2-ptm weights to /root/.cache/colabfold:  60%|██████    | 2.09G/3.47G [01:35<01:04, 23.0MB/s]\rDownloading AlphaFold2-ptm weights to /root/.cache/colabfold:  60%|██████    | 2.09G/3.47G [01:35<01:04, 22.9MB/s]\rDownloading AlphaFold2-ptm weights to /root/.cache/colabfold:  61%|██████    | 2.10G/3.47G [01:35<01:02, 23.5MB/s]\rDownloading AlphaFold2-ptm weights to /root/.cache/colabfold:  61%|██████    | 2.10G/3.47G [01:35<01:01, 23.8MB/s]\rDownloading AlphaFold2-ptm weights to /root/.cache/colabfold:  61%|██████    | 2.11G/3.47G [01:36<01:00, 24.1MB/s]\rDownloading AlphaFold2-ptm weights to /root/.cache/colabfold:  61%|██████    | 2.11G/3.47G [01:36<01:00, 24.2MB/s]\rDownloading AlphaFold2-ptm weights to /root/.cache/colabfold:  61%|██████    | 2.11G/3.47G [01:36<00:59, 24.4MB/s]\rDownloading AlphaFold2-ptm weights to /root/.cache/colabfold:  61%|██████    | 2.12G/3.47G [01:36<00:59, 24.4MB/s]\rDownloading AlphaFold2-ptm weights to /root/.cache/colabfold:  61%|██████    | 2.12G/3.47G [01:36<00:59, 24.5MB/s]\rDownloading AlphaFold2-ptm weights to /root/.cache/colabfold:  61%|██████    | 2.12G/3.47G [01:36<00:58, 24.6MB/s]\rDownloading AlphaFold2-ptm weights to /root/.cache/colabfold:  61%|██████▏   | 2.13G/3.47G [01:36<00:58, 24.6MB/s]\rDownloading AlphaFold2-ptm weights to /root/.cache/colabfold:  61%|██████▏   | 2.13G/3.47G [01:37<00:58, 24.6MB/s]\rDownloading AlphaFold2-ptm weights to /root/.cache/colabfold:  62%|██████▏   | 2.13G/3.47G [01:37<00:58, 24.6MB/s]\rDownloading AlphaFold2-ptm weights to /root/.cache/colabfold:  62%|██████▏   | 2.14G/3.47G [01:37<00:58, 24.6MB/s]\rDownloading AlphaFold2-ptm weights to /root/.cache/colabfold:  62%|██████▏   | 2.14G/3.47G [01:37<00:57, 24.7MB/s]\rDownloading AlphaFold2-ptm weights to /root/.cache/colabfold:  62%|██████▏   | 2.14G/3.47G [01:37<00:57, 24.6MB/s]\rDownloading AlphaFold2-ptm weights to /root/.cache/colabfold:  62%|██████▏   | 2.15G/3.47G [01:37<00:57, 24.7MB/s]\rDownloading AlphaFold2-ptm weights to /root/.cache/colabfold:  62%|██████▏   | 2.15G/3.47G [01:38<00:57, 24.7MB/s]\rDownloading AlphaFold2-ptm weights to /root/.cache/colabfold:  62%|██████▏   | 2.15G/3.47G [01:38<00:57, 24.7MB/s]\rDownloading AlphaFold2-ptm weights to /root/.cache/colabfold:  62%|██████▏   | 2.16G/3.47G [01:38<00:56, 24.7MB/s]\rDownloading AlphaFold2-ptm weights to /root/.cache/colabfold:  62%|██████▏   | 2.16G/3.47G [01:38<00:56, 24.7MB/s]\rDownloading AlphaFold2-ptm weights to /root/.cache/colabfold:  62%|██████▏   | 2.17G/3.47G [01:38<00:56, 24.6MB/s]\rDownloading AlphaFold2-ptm weights to /root/.cache/colabfold:  63%|██████▎   | 2.17G/3.47G [01:38<00:56, 24.7MB/s]\rDownloading AlphaFold2-ptm weights to /root/.cache/colabfold:  63%|██████▎   | 2.17G/3.47G [01:38<00:56, 24.7MB/s]\rDownloading AlphaFold2-ptm weights to /root/.cache/colabfold:  63%|██████▎   | 2.18G/3.47G [01:39<00:56, 24.7MB/s]\rDownloading AlphaFold2-ptm weights to /root/.cache/colabfold:  63%|██████▎   | 2.18G/3.47G [01:39<01:03, 21.8MB/s]\rDownloading AlphaFold2-ptm weights to /root/.cache/colabfold:  63%|██████▎   | 2.18G/3.47G [01:39<01:10, 19.5MB/s]\rDownloading AlphaFold2-ptm weights to /root/.cache/colabfold:  63%|██████▎   | 2.18G/3.47G [01:39<01:18, 17.6MB/s]\rDownloading AlphaFold2-ptm weights to /root/.cache/colabfold:  63%|██████▎   | 2.19G/3.47G [01:39<01:08, 20.0MB/s]\rDownloading AlphaFold2-ptm weights to /root/.cache/colabfold:  63%|██████▎   | 2.19G/3.47G [01:39<01:04, 21.4MB/s]\rDownloading AlphaFold2-ptm weights to /root/.cache/colabfold:  63%|██████▎   | 2.19G/3.47G [01:40<01:01, 22.4MB/s]\rDownloading AlphaFold2-ptm weights to /root/.cache/colabfold:  63%|██████▎   | 2.20G/3.47G [01:40<01:08, 20.0MB/s]\rDownloading AlphaFold2-ptm weights to /root/.cache/colabfold:  63%|██████▎   | 2.20G/3.47G [01:40<01:06, 20.4MB/s]\rDownloading AlphaFold2-ptm weights to /root/.cache/colabfold:  64%|██████▎   | 2.20G/3.47G [01:40<01:02, 21.7MB/s]\rDownloading AlphaFold2-ptm weights to /root/.cache/colabfold:  64%|██████▎   | 2.21G/3.47G [01:40<01:00, 22.6MB/s]\rDownloading AlphaFold2-ptm weights to /root/.cache/colabfold:  64%|██████▎   | 2.21G/3.47G [01:40<00:58, 23.2MB/s]\rDownloading AlphaFold2-ptm weights to /root/.cache/colabfold:  64%|██████▍   | 2.21G/3.47G [01:40<00:57, 23.6MB/s]\rDownloading AlphaFold2-ptm weights to /root/.cache/colabfold:  64%|██████▍   | 2.22G/3.47G [01:41<00:56, 23.9MB/s]\rDownloading AlphaFold2-ptm weights to /root/.cache/colabfold:  64%|██████▍   | 2.22G/3.47G [01:41<00:55, 24.1MB/s]\rDownloading AlphaFold2-ptm weights to /root/.cache/colabfold:  64%|██████▍   | 2.22G/3.47G [01:41<00:54, 24.3MB/s]\rDownloading AlphaFold2-ptm weights to /root/.cache/colabfold:  64%|██████▍   | 2.23G/3.47G [01:41<00:54, 24.4MB/s]\rDownloading AlphaFold2-ptm weights to /root/.cache/colabfold:  64%|██████▍   | 2.23G/3.47G [01:41<00:54, 24.5MB/s]\rDownloading AlphaFold2-ptm weights to /root/.cache/colabfold:  64%|██████▍   | 2.23G/3.47G [01:41<00:53, 24.6MB/s]\rDownloading AlphaFold2-ptm weights to /root/.cache/colabfold:  65%|██████▍   | 2.24G/3.47G [01:42<00:53, 24.6MB/s]\rDownloading AlphaFold2-ptm weights to /root/.cache/colabfold:  65%|██████▍   | 2.24G/3.47G [01:42<00:53, 24.6MB/s]\rDownloading AlphaFold2-ptm weights to /root/.cache/colabfold:  65%|██████▍   | 2.24G/3.47G [01:42<00:53, 24.6MB/s]\rDownloading AlphaFold2-ptm weights to /root/.cache/colabfold:  65%|██████▍   | 2.25G/3.47G [01:42<00:53, 24.6MB/s]\rDownloading AlphaFold2-ptm weights to /root/.cache/colabfold:  65%|██████▍   | 2.25G/3.47G [01:42<00:52, 24.6MB/s]\rDownloading AlphaFold2-ptm weights to /root/.cache/colabfold:  65%|██████▌   | 2.26G/3.47G [01:42<00:52, 24.7MB/s]\rDownloading AlphaFold2-ptm weights to /root/.cache/colabfold:  65%|██████▌   | 2.26G/3.47G [01:43<00:52, 24.6MB/s]\rDownloading AlphaFold2-ptm weights to /root/.cache/colabfold:  65%|██████▌   | 2.26G/3.47G [01:43<00:52, 24.6MB/s]\rDownloading AlphaFold2-ptm weights to /root/.cache/colabfold:  65%|██████▌   | 2.27G/3.47G [01:43<00:52, 24.6MB/s]\rDownloading AlphaFold2-ptm weights to /root/.cache/colabfold:  65%|██████▌   | 2.27G/3.47G [01:43<00:52, 24.7MB/s]\rDownloading AlphaFold2-ptm weights to /root/.cache/colabfold:  66%|██████▌   | 2.27G/3.47G [01:43<00:51, 24.7MB/s]\rDownloading AlphaFold2-ptm weights to /root/.cache/colabfold:  66%|██████▌   | 2.28G/3.47G [01:43<00:51, 24.7MB/s]\rDownloading AlphaFold2-ptm weights to /root/.cache/colabfold:  66%|██████▌   | 2.28G/3.47G [01:43<00:51, 24.7MB/s]\rDownloading AlphaFold2-ptm weights to /root/.cache/colabfold:  66%|██████▌   | 2.28G/3.47G [01:44<00:51, 24.6MB/s]\rDownloading AlphaFold2-ptm weights to /root/.cache/colabfold:  66%|██████▌   | 2.29G/3.47G [01:44<00:51, 24.7MB/s]\rDownloading AlphaFold2-ptm weights to /root/.cache/colabfold:  66%|██████▌   | 2.29G/3.47G [01:44<00:51, 24.6MB/s]\rDownloading AlphaFold2-ptm weights to /root/.cache/colabfold:  66%|██████▌   | 2.29G/3.47G [01:44<00:51, 24.6MB/s]\rDownloading AlphaFold2-ptm weights to /root/.cache/colabfold:  66%|██████▋   | 2.30G/3.47G [01:44<00:50, 24.6MB/s]\rDownloading AlphaFold2-ptm weights to /root/.cache/colabfold:  66%|██████▋   | 2.30G/3.47G [01:44<00:50, 24.6MB/s]\rDownloading AlphaFold2-ptm weights to /root/.cache/colabfold:  66%|██████▋   | 2.30G/3.47G [01:45<00:56, 22.0MB/s]\rDownloading AlphaFold2-ptm weights to /root/.cache/colabfold:  67%|██████▋   | 2.31G/3.47G [01:45<01:03, 19.8MB/s]\rDownloading AlphaFold2-ptm weights to /root/.cache/colabfold:  67%|██████▋   | 2.31G/3.47G [01:45<01:09, 17.9MB/s]\rDownloading AlphaFold2-ptm weights to /root/.cache/colabfold:  67%|██████▋   | 2.31G/3.47G [01:45<01:02, 19.9MB/s]\rDownloading AlphaFold2-ptm weights to /root/.cache/colabfold:  67%|██████▋   | 2.32G/3.47G [01:45<00:58, 21.2MB/s]\rDownloading AlphaFold2-ptm weights to /root/.cache/colabfold:  67%|██████▋   | 2.32G/3.47G [01:45<00:55, 22.3MB/s]\rDownloading AlphaFold2-ptm weights to /root/.cache/colabfold:  67%|██████▋   | 2.32G/3.47G [01:45<00:53, 23.0MB/s]\rDownloading AlphaFold2-ptm weights to /root/.cache/colabfold:  67%|██████▋   | 2.33G/3.47G [01:46<00:52, 23.5MB/s]\rDownloading AlphaFold2-ptm weights to /root/.cache/colabfold:  67%|██████▋   | 2.33G/3.47G [01:46<00:51, 23.8MB/s]\rDownloading AlphaFold2-ptm weights to /root/.cache/colabfold:  67%|██████▋   | 2.33G/3.47G [01:46<00:50, 24.1MB/s]\rDownloading AlphaFold2-ptm weights to /root/.cache/colabfold:  67%|██████▋   | 2.34G/3.47G [01:46<00:50, 24.2MB/s]\rDownloading AlphaFold2-ptm weights to /root/.cache/colabfold:  68%|██████▊   | 2.34G/3.47G [01:46<00:49, 24.3MB/s]\rDownloading AlphaFold2-ptm weights to /root/.cache/colabfold:  68%|██████▊   | 2.34G/3.47G [01:46<00:51, 23.3MB/s]\rDownloading AlphaFold2-ptm weights to /root/.cache/colabfold:  68%|██████▊   | 2.35G/3.47G [01:46<00:49, 24.5MB/s]\rDownloading AlphaFold2-ptm weights to /root/.cache/colabfold:  68%|██████▊   | 2.35G/3.47G [01:47<00:46, 26.1MB/s]\rDownloading AlphaFold2-ptm weights to /root/.cache/colabfold:  68%|██████▊   | 2.35G/3.47G [01:47<00:48, 24.6MB/s]\rDownloading AlphaFold2-ptm weights to /root/.cache/colabfold:  68%|██████▊   | 2.35G/3.47G [01:47<00:51, 23.3MB/s]\rDownloading AlphaFold2-ptm weights to /root/.cache/colabfold:  68%|██████▊   | 2.36G/3.47G [01:47<00:48, 24.4MB/s]\rDownloading AlphaFold2-ptm weights to /root/.cache/colabfold:  68%|██████▊   | 2.36G/3.47G [01:47<00:50, 23.4MB/s]\rDownloading AlphaFold2-ptm weights to /root/.cache/colabfold:  68%|██████▊   | 2.36G/3.47G [01:47<00:44, 26.8MB/s]\rDownloading AlphaFold2-ptm weights to /root/.cache/colabfold:  68%|██████▊   | 2.37G/3.47G [01:47<00:46, 25.3MB/s]\rDownloading AlphaFold2-ptm weights to /root/.cache/colabfold:  68%|██████▊   | 2.37G/3.47G [01:47<00:50, 23.2MB/s]\rDownloading AlphaFold2-ptm weights to /root/.cache/colabfold:  68%|██████▊   | 2.37G/3.47G [01:48<00:49, 23.8MB/s]\rDownloading AlphaFold2-ptm weights to /root/.cache/colabfold:  68%|██████▊   | 2.37G/3.47G [01:48<00:43, 27.2MB/s]\rDownloading AlphaFold2-ptm weights to /root/.cache/colabfold:  69%|██████▊   | 2.38G/3.47G [01:48<00:47, 24.6MB/s]\rDownloading AlphaFold2-ptm weights to /root/.cache/colabfold:  69%|██████▊   | 2.38G/3.47G [01:48<00:49, 23.5MB/s]\rDownloading AlphaFold2-ptm weights to /root/.cache/colabfold:  69%|██████▊   | 2.38G/3.47G [01:48<00:49, 23.6MB/s]\rDownloading AlphaFold2-ptm weights to /root/.cache/colabfold:  69%|██████▉   | 2.38G/3.47G [01:48<00:42, 27.2MB/s]\rDownloading AlphaFold2-ptm weights to /root/.cache/colabfold:  69%|██████▉   | 2.39G/3.47G [01:48<00:47, 24.6MB/s]\rDownloading AlphaFold2-ptm weights to /root/.cache/colabfold:  69%|██████▉   | 2.39G/3.47G [01:48<00:49, 23.4MB/s]\rDownloading AlphaFold2-ptm weights to /root/.cache/colabfold:  69%|██████▉   | 2.39G/3.47G [01:49<00:56, 20.5MB/s]\rDownloading AlphaFold2-ptm weights to /root/.cache/colabfold:  69%|██████▉   | 2.39G/3.47G [01:49<00:55, 20.9MB/s]\rDownloading AlphaFold2-ptm weights to /root/.cache/colabfold:  69%|██████▉   | 2.40G/3.47G [01:49<00:51, 22.1MB/s]\rDownloading AlphaFold2-ptm weights to /root/.cache/colabfold:  69%|██████▉   | 2.40G/3.47G [01:49<00:49, 22.9MB/s]\rDownloading AlphaFold2-ptm weights to /root/.cache/colabfold:  69%|██████▉   | 2.41G/3.47G [01:49<00:48, 23.4MB/s]\rDownloading AlphaFold2-ptm weights to /root/.cache/colabfold:  69%|██████▉   | 2.41G/3.47G [01:49<00:47, 23.7MB/s]\rDownloading AlphaFold2-ptm weights to /root/.cache/colabfold:  70%|██████▉   | 2.41G/3.47G [01:49<00:47, 24.0MB/s]\rDownloading AlphaFold2-ptm weights to /root/.cache/colabfold:  70%|██████▉   | 2.42G/3.47G [01:50<00:46, 24.2MB/s]\rDownloading AlphaFold2-ptm weights to /root/.cache/colabfold:  70%|██████▉   | 2.42G/3.47G [01:50<00:46, 24.3MB/s]\rDownloading AlphaFold2-ptm weights to /root/.cache/colabfold:  70%|██████▉   | 2.42G/3.47G [01:50<00:45, 24.4MB/s]\rDownloading AlphaFold2-ptm weights to /root/.cache/colabfold:  70%|██████▉   | 2.43G/3.47G [01:50<00:45, 24.4MB/s]\rDownloading AlphaFold2-ptm weights to /root/.cache/colabfold:  70%|███████   | 2.43G/3.47G [01:50<00:45, 24.5MB/s]\rDownloading AlphaFold2-ptm weights to /root/.cache/colabfold:  70%|███████   | 2.43G/3.47G [01:50<00:45, 24.5MB/s]\rDownloading AlphaFold2-ptm weights to /root/.cache/colabfold:  70%|███████   | 2.44G/3.47G [01:51<00:45, 24.5MB/s]\rDownloading AlphaFold2-ptm weights to /root/.cache/colabfold:  70%|███████   | 2.44G/3.47G [01:51<00:44, 24.5MB/s]\rDownloading AlphaFold2-ptm weights to /root/.cache/colabfold:  71%|███████   | 2.44G/3.47G [01:51<00:44, 24.6MB/s]\rDownloading AlphaFold2-ptm weights to /root/.cache/colabfold:  71%|███████   | 2.45G/3.47G [01:51<00:44, 24.6MB/s]\rDownloading AlphaFold2-ptm weights to /root/.cache/colabfold:  71%|███████   | 2.45G/3.47G [01:51<00:44, 24.6MB/s]\rDownloading AlphaFold2-ptm weights to /root/.cache/colabfold:  71%|███████   | 2.46G/3.47G [01:51<00:44, 24.6MB/s]\rDownloading AlphaFold2-ptm weights to /root/.cache/colabfold:  71%|███████   | 2.46G/3.47G [01:52<00:44, 24.6MB/s]\rDownloading AlphaFold2-ptm weights to /root/.cache/colabfold:  71%|███████   | 2.46G/3.47G [01:52<00:43, 24.6MB/s]\rDownloading AlphaFold2-ptm weights to /root/.cache/colabfold:  71%|███████   | 2.47G/3.47G [01:52<00:43, 24.6MB/s]\rDownloading AlphaFold2-ptm weights to /root/.cache/colabfold:  71%|███████   | 2.47G/3.47G [01:52<00:43, 24.6MB/s]\rDownloading AlphaFold2-ptm weights to /root/.cache/colabfold:  71%|███████▏  | 2.47G/3.47G [01:52<00:43, 24.6MB/s]\rDownloading AlphaFold2-ptm weights to /root/.cache/colabfold:  71%|███████▏  | 2.48G/3.47G [01:52<00:43, 24.6MB/s]\rDownloading AlphaFold2-ptm weights to /root/.cache/colabfold:  72%|███████▏  | 2.48G/3.47G [01:52<00:42, 24.7MB/s]\rDownloading AlphaFold2-ptm weights to /root/.cache/colabfold:  72%|███████▏  | 2.48G/3.47G [01:53<00:42, 24.6MB/s]\rDownloading AlphaFold2-ptm weights to /root/.cache/colabfold:  72%|███████▏  | 2.49G/3.47G [01:53<00:42, 24.6MB/s]\rDownloading AlphaFold2-ptm weights to /root/.cache/colabfold:  72%|███████▏  | 2.49G/3.47G [01:53<00:42, 24.6MB/s]\rDownloading AlphaFold2-ptm weights to /root/.cache/colabfold:  72%|███████▏  | 2.49G/3.47G [01:53<00:42, 24.6MB/s]\rDownloading AlphaFold2-ptm weights to /root/.cache/colabfold:  72%|███████▏  | 2.50G/3.47G [01:53<00:42, 24.6MB/s]\rDownloading AlphaFold2-ptm weights to /root/.cache/colabfold:  72%|███████▏  | 2.50G/3.47G [01:53<00:42, 24.6MB/s]\rDownloading AlphaFold2-ptm weights to /root/.cache/colabfold:  72%|███████▏  | 2.51G/3.47G [01:54<00:41, 24.6MB/s]\rDownloading AlphaFold2-ptm weights to /root/.cache/colabfold:  72%|███████▏  | 2.51G/3.47G [01:54<00:41, 24.7MB/s]\rDownloading AlphaFold2-ptm weights to /root/.cache/colabfold:  72%|███████▏  | 2.51G/3.47G [01:54<00:41, 24.6MB/s]\rDownloading AlphaFold2-ptm weights to /root/.cache/colabfold:  73%|███████▎  | 2.52G/3.47G [01:54<00:41, 24.6MB/s]\rDownloading AlphaFold2-ptm weights to /root/.cache/colabfold:  73%|███████▎  | 2.52G/3.47G [01:54<00:41, 24.6MB/s]\rDownloading AlphaFold2-ptm weights to /root/.cache/colabfold:  73%|███████▎  | 2.52G/3.47G [01:54<00:41, 24.6MB/s]\rDownloading AlphaFold2-ptm weights to /root/.cache/colabfold:  73%|███████▎  | 2.53G/3.47G [01:54<00:41, 24.6MB/s]\rDownloading AlphaFold2-ptm weights to /root/.cache/colabfold:  73%|███████▎  | 2.53G/3.47G [01:55<00:40, 24.6MB/s]\rDownloading AlphaFold2-ptm weights to /root/.cache/colabfold:  73%|███████▎  | 2.53G/3.47G [01:55<00:40, 24.6MB/s]\rDownloading AlphaFold2-ptm weights to /root/.cache/colabfold:  73%|███████▎  | 2.54G/3.47G [01:55<00:40, 24.6MB/s]\rDownloading AlphaFold2-ptm weights to /root/.cache/colabfold:  73%|███████▎  | 2.54G/3.47G [01:55<00:40, 24.6MB/s]\rDownloading AlphaFold2-ptm weights to /root/.cache/colabfold:  73%|███████▎  | 2.54G/3.47G [01:55<00:40, 24.6MB/s]\rDownloading AlphaFold2-ptm weights to /root/.cache/colabfold:  73%|███████▎  | 2.55G/3.47G [01:55<00:40, 24.6MB/s]\rDownloading AlphaFold2-ptm weights to /root/.cache/colabfold:  74%|███████▎  | 2.55G/3.47G [01:56<00:43, 22.7MB/s]\rDownloading AlphaFold2-ptm weights to /root/.cache/colabfold:  74%|███████▎  | 2.55G/3.47G [01:56<00:43, 22.5MB/s]\rDownloading AlphaFold2-ptm weights to /root/.cache/colabfold:  74%|███████▍  | 2.56G/3.47G [01:56<00:42, 23.1MB/s]\rDownloading AlphaFold2-ptm weights to /root/.cache/colabfold:  74%|███████▍  | 2.56G/3.47G [01:56<00:41, 23.6MB/s]\rDownloading AlphaFold2-ptm weights to /root/.cache/colabfold:  74%|███████▍  | 2.56G/3.47G [01:56<00:40, 23.9MB/s]\rDownloading AlphaFold2-ptm weights to /root/.cache/colabfold:  74%|███████▍  | 2.57G/3.47G [01:56<00:40, 24.1MB/s]\rDownloading AlphaFold2-ptm weights to /root/.cache/colabfold:  74%|███████▍  | 2.57G/3.47G [01:56<00:39, 24.2MB/s]\rDownloading AlphaFold2-ptm weights to /root/.cache/colabfold:  74%|███████▍  | 2.58G/3.47G [01:57<00:39, 24.4MB/s]\rDownloading AlphaFold2-ptm weights to /root/.cache/colabfold:  74%|███████▍  | 2.58G/3.47G [01:57<00:39, 24.4MB/s]\rDownloading AlphaFold2-ptm weights to /root/.cache/colabfold:  74%|███████▍  | 2.58G/3.47G [01:57<00:38, 24.5MB/s]\rDownloading AlphaFold2-ptm weights to /root/.cache/colabfold:  75%|███████▍  | 2.59G/3.47G [01:57<00:38, 24.5MB/s]\rDownloading AlphaFold2-ptm weights to /root/.cache/colabfold:  75%|███████▍  | 2.59G/3.47G [01:57<00:38, 24.5MB/s]\rDownloading AlphaFold2-ptm weights to /root/.cache/colabfold:  75%|███████▍  | 2.59G/3.47G [01:57<00:38, 24.6MB/s]\rDownloading AlphaFold2-ptm weights to /root/.cache/colabfold:  75%|███████▍  | 2.60G/3.47G [01:58<00:38, 24.6MB/s]\rDownloading AlphaFold2-ptm weights to /root/.cache/colabfold:  75%|███████▍  | 2.60G/3.47G [01:58<00:37, 24.6MB/s]\rDownloading AlphaFold2-ptm weights to /root/.cache/colabfold:  75%|███████▌  | 2.60G/3.47G [01:58<00:42, 21.8MB/s]\rDownloading AlphaFold2-ptm weights to /root/.cache/colabfold:  75%|███████▌  | 2.60G/3.47G [01:58<00:47, 19.5MB/s]\rDownloading AlphaFold2-ptm weights to /root/.cache/colabfold:  75%|███████▌  | 2.61G/3.47G [01:58<00:45, 20.4MB/s]\rDownloading AlphaFold2-ptm weights to /root/.cache/colabfold:  75%|███████▌  | 2.61G/3.47G [01:58<00:42, 21.7MB/s]\rDownloading AlphaFold2-ptm weights to /root/.cache/colabfold:  75%|███████▌  | 2.61G/3.47G [01:59<00:40, 22.6MB/s]\rDownloading AlphaFold2-ptm weights to /root/.cache/colabfold:  76%|███████▌  | 2.62G/3.47G [01:59<00:39, 23.2MB/s]\rDownloading AlphaFold2-ptm weights to /root/.cache/colabfold:  76%|███████▌  | 2.62G/3.47G [01:59<00:38, 23.7MB/s]\rDownloading AlphaFold2-ptm weights to /root/.cache/colabfold:  76%|███████▌  | 2.63G/3.47G [01:59<00:37, 23.9MB/s]\rDownloading AlphaFold2-ptm weights to /root/.cache/colabfold:  76%|███████▌  | 2.63G/3.47G [01:59<00:37, 24.2MB/s]\rDownloading AlphaFold2-ptm weights to /root/.cache/colabfold:  76%|███████▌  | 2.63G/3.47G [01:59<00:36, 24.3MB/s]\rDownloading AlphaFold2-ptm weights to /root/.cache/colabfold:  76%|███████▌  | 2.64G/3.47G [01:59<00:36, 24.4MB/s]\rDownloading AlphaFold2-ptm weights to /root/.cache/colabfold:  76%|███████▌  | 2.64G/3.47G [02:00<00:36, 24.5MB/s]\rDownloading AlphaFold2-ptm weights to /root/.cache/colabfold:  76%|███████▌  | 2.64G/3.47G [02:00<00:36, 24.5MB/s]\rDownloading AlphaFold2-ptm weights to /root/.cache/colabfold:  76%|███████▋  | 2.65G/3.47G [02:00<00:35, 24.5MB/s]\rDownloading AlphaFold2-ptm weights to /root/.cache/colabfold:  76%|███████▋  | 2.65G/3.47G [02:00<00:35, 24.6MB/s]\rDownloading AlphaFold2-ptm weights to /root/.cache/colabfold:  77%|███████▋  | 2.65G/3.47G [02:00<00:35, 24.6MB/s]\rDownloading AlphaFold2-ptm weights to /root/.cache/colabfold:  77%|███████▋  | 2.66G/3.47G [02:00<00:35, 24.7MB/s]\rDownloading AlphaFold2-ptm weights to /root/.cache/colabfold:  77%|███████▋  | 2.66G/3.47G [02:01<00:35, 24.6MB/s]\rDownloading AlphaFold2-ptm weights to /root/.cache/colabfold:  77%|███████▋  | 2.66G/3.47G [02:01<00:34, 24.7MB/s]\rDownloading AlphaFold2-ptm weights to /root/.cache/colabfold:  77%|███████▋  | 2.67G/3.47G [02:01<00:34, 24.6MB/s]\rDownloading AlphaFold2-ptm weights to /root/.cache/colabfold:  77%|███████▋  | 2.67G/3.47G [02:01<00:34, 24.7MB/s]\rDownloading AlphaFold2-ptm weights to /root/.cache/colabfold:  77%|███████▋  | 2.68G/3.47G [02:01<00:34, 24.7MB/s]\rDownloading AlphaFold2-ptm weights to /root/.cache/colabfold:  77%|███████▋  | 2.68G/3.47G [02:01<00:34, 24.7MB/s]\rDownloading AlphaFold2-ptm weights to /root/.cache/colabfold:  77%|███████▋  | 2.68G/3.47G [02:01<00:34, 24.7MB/s]\rDownloading AlphaFold2-ptm weights to /root/.cache/colabfold:  77%|███████▋  | 2.69G/3.47G [02:02<00:33, 24.7MB/s]\rDownloading AlphaFold2-ptm weights to /root/.cache/colabfold:  78%|███████▊  | 2.69G/3.47G [02:02<00:33, 24.7MB/s]\rDownloading AlphaFold2-ptm weights to /root/.cache/colabfold:  78%|███████▊  | 2.69G/3.47G [02:02<00:33, 24.7MB/s]\rDownloading AlphaFold2-ptm weights to /root/.cache/colabfold:  78%|███████▊  | 2.70G/3.47G [02:02<00:33, 24.7MB/s]\rDownloading AlphaFold2-ptm weights to /root/.cache/colabfold:  78%|███████▊  | 2.70G/3.47G [02:02<00:33, 24.7MB/s]\rDownloading AlphaFold2-ptm weights to /root/.cache/colabfold:  78%|███████▊  | 2.70G/3.47G [02:02<00:33, 24.6MB/s]\rDownloading AlphaFold2-ptm weights to /root/.cache/colabfold:  78%|███████▊  | 2.71G/3.47G [02:03<00:33, 24.7MB/s]\rDownloading AlphaFold2-ptm weights to /root/.cache/colabfold:  78%|███████▊  | 2.71G/3.47G [02:03<00:32, 24.7MB/s]\rDownloading AlphaFold2-ptm weights to /root/.cache/colabfold:  78%|███████▊  | 2.71G/3.47G [02:03<00:32, 24.7MB/s]\rDownloading AlphaFold2-ptm weights to /root/.cache/colabfold:  78%|███████▊  | 2.72G/3.47G [02:03<00:32, 24.7MB/s]\rDownloading AlphaFold2-ptm weights to /root/.cache/colabfold:  79%|███████▊  | 2.72G/3.47G [02:03<00:32, 24.7MB/s]\rDownloading AlphaFold2-ptm weights to /root/.cache/colabfold:  79%|███████▊  | 2.73G/3.47G [02:03<00:32, 24.7MB/s]\rDownloading AlphaFold2-ptm weights to /root/.cache/colabfold:  79%|███████▊  | 2.73G/3.47G [02:03<00:32, 24.7MB/s]\rDownloading AlphaFold2-ptm weights to /root/.cache/colabfold:  79%|███████▉  | 2.73G/3.47G [02:04<00:31, 24.7MB/s]\rDownloading AlphaFold2-ptm weights to /root/.cache/colabfold:  79%|███████▉  | 2.74G/3.47G [02:04<00:31, 24.7MB/s]\rDownloading AlphaFold2-ptm weights to /root/.cache/colabfold:  79%|███████▉  | 2.74G/3.47G [02:04<00:31, 24.7MB/s]\rDownloading AlphaFold2-ptm weights to /root/.cache/colabfold:  79%|███████▉  | 2.74G/3.47G [02:04<00:31, 24.7MB/s]\rDownloading AlphaFold2-ptm weights to /root/.cache/colabfold:  79%|███████▉  | 2.75G/3.47G [02:04<00:31, 24.7MB/s]\rDownloading AlphaFold2-ptm weights to /root/.cache/colabfold:  79%|███████▉  | 2.75G/3.47G [02:04<00:31, 24.7MB/s]\rDownloading AlphaFold2-ptm weights to /root/.cache/colabfold:  79%|███████▉  | 2.75G/3.47G [02:05<00:31, 24.7MB/s]\rDownloading AlphaFold2-ptm weights to /root/.cache/colabfold:  80%|███████▉  | 2.76G/3.47G [02:05<00:30, 24.7MB/s]\rDownloading AlphaFold2-ptm weights to /root/.cache/colabfold:  80%|███████▉  | 2.76G/3.47G [02:05<00:30, 24.7MB/s]\rDownloading AlphaFold2-ptm weights to /root/.cache/colabfold:  80%|███████▉  | 2.76G/3.47G [02:05<00:30, 24.7MB/s]\rDownloading AlphaFold2-ptm weights to /root/.cache/colabfold:  80%|███████▉  | 2.77G/3.47G [02:05<00:30, 24.7MB/s]\rDownloading AlphaFold2-ptm weights to /root/.cache/colabfold:  80%|███████▉  | 2.77G/3.47G [02:05<00:30, 24.6MB/s]\rDownloading AlphaFold2-ptm weights to /root/.cache/colabfold:  80%|████████  | 2.77G/3.47G [02:05<00:30, 24.5MB/s]\rDownloading AlphaFold2-ptm weights to /root/.cache/colabfold:  80%|████████  | 2.78G/3.47G [02:06<00:27, 26.8MB/s]\rDownloading AlphaFold2-ptm weights to /root/.cache/colabfold:  80%|████████  | 2.78G/3.47G [02:06<00:29, 24.7MB/s]\rDownloading AlphaFold2-ptm weights to /root/.cache/colabfold:  80%|████████  | 2.78G/3.47G [02:06<00:30, 24.0MB/s]\rDownloading AlphaFold2-ptm weights to /root/.cache/colabfold:  80%|████████  | 2.79G/3.47G [02:06<00:30, 24.2MB/s]\rDownloading AlphaFold2-ptm weights to /root/.cache/colabfold:  80%|████████  | 2.79G/3.47G [02:06<00:29, 24.4MB/s]\rDownloading AlphaFold2-ptm weights to /root/.cache/colabfold:  81%|████████  | 2.79G/3.47G [02:06<00:29, 24.5MB/s]\rDownloading AlphaFold2-ptm weights to /root/.cache/colabfold:  81%|████████  | 2.80G/3.47G [02:06<00:29, 24.5MB/s]\rDownloading AlphaFold2-ptm weights to /root/.cache/colabfold:  81%|████████  | 2.80G/3.47G [02:07<00:29, 24.6MB/s]\rDownloading AlphaFold2-ptm weights to /root/.cache/colabfold:  81%|████████  | 2.80G/3.47G [02:07<00:28, 24.6MB/s]\rDownloading AlphaFold2-ptm weights to /root/.cache/colabfold:  81%|████████  | 2.81G/3.47G [02:07<00:28, 24.6MB/s]\rDownloading AlphaFold2-ptm weights to /root/.cache/colabfold:  81%|████████  | 2.81G/3.47G [02:07<00:28, 24.6MB/s]\rDownloading AlphaFold2-ptm weights to /root/.cache/colabfold:  81%|████████  | 2.81G/3.47G [02:07<00:28, 24.6MB/s]\rDownloading AlphaFold2-ptm weights to /root/.cache/colabfold:  81%|████████▏ | 2.82G/3.47G [02:07<00:28, 24.6MB/s]\rDownloading AlphaFold2-ptm weights to /root/.cache/colabfold:  81%|████████▏ | 2.82G/3.47G [02:08<00:28, 24.6MB/s]\rDownloading AlphaFold2-ptm weights to /root/.cache/colabfold:  81%|████████▏ | 2.83G/3.47G [02:08<00:27, 24.6MB/s]\rDownloading AlphaFold2-ptm weights to /root/.cache/colabfold:  82%|████████▏ | 2.83G/3.47G [02:08<00:30, 22.8MB/s]\rDownloading AlphaFold2-ptm weights to /root/.cache/colabfold:  82%|████████▏ | 2.83G/3.47G [02:08<00:30, 22.6MB/s]\rDownloading AlphaFold2-ptm weights to /root/.cache/colabfold:  82%|████████▏ | 2.84G/3.47G [02:08<00:29, 23.2MB/s]\rDownloading AlphaFold2-ptm weights to /root/.cache/colabfold:  82%|████████▏ | 2.84G/3.47G [02:08<00:28, 23.6MB/s]\rDownloading AlphaFold2-ptm weights to /root/.cache/colabfold:  82%|████████▏ | 2.84G/3.47G [02:08<00:27, 23.9MB/s]\rDownloading AlphaFold2-ptm weights to /root/.cache/colabfold:  82%|████████▏ | 2.85G/3.47G [02:09<00:27, 24.1MB/s]\rDownloading AlphaFold2-ptm weights to /root/.cache/colabfold:  82%|████████▏ | 2.85G/3.47G [02:09<00:27, 24.3MB/s]\rDownloading AlphaFold2-ptm weights to /root/.cache/colabfold:  82%|████████▏ | 2.85G/3.47G [02:09<00:26, 24.4MB/s]\rDownloading AlphaFold2-ptm weights to /root/.cache/colabfold:  82%|████████▏ | 2.86G/3.47G [02:09<00:26, 24.5MB/s]\rDownloading AlphaFold2-ptm weights to /root/.cache/colabfold:  83%|████████▎ | 2.86G/3.47G [02:09<00:26, 24.5MB/s]\rDownloading AlphaFold2-ptm weights to /root/.cache/colabfold:  83%|████████▎ | 2.86G/3.47G [02:09<00:26, 24.6MB/s]\rDownloading AlphaFold2-ptm weights to /root/.cache/colabfold:  83%|████████▎ | 2.87G/3.47G [02:10<00:26, 24.6MB/s]\rDownloading AlphaFold2-ptm weights to /root/.cache/colabfold:  83%|████████▎ | 2.87G/3.47G [02:10<00:26, 24.6MB/s]\rDownloading AlphaFold2-ptm weights to /root/.cache/colabfold:  83%|████████▎ | 2.87G/3.47G [02:10<00:25, 24.6MB/s]\rDownloading AlphaFold2-ptm weights to /root/.cache/colabfold:  83%|████████▎ | 2.88G/3.47G [02:10<00:25, 24.6MB/s]\rDownloading AlphaFold2-ptm weights to /root/.cache/colabfold:  83%|████████▎ | 2.88G/3.47G [02:10<00:25, 24.6MB/s]\rDownloading AlphaFold2-ptm weights to /root/.cache/colabfold:  83%|████████▎ | 2.89G/3.47G [02:10<00:25, 24.6MB/s]\rDownloading AlphaFold2-ptm weights to /root/.cache/colabfold:  83%|████████▎ | 2.89G/3.47G [02:11<00:25, 24.7MB/s]\rDownloading AlphaFold2-ptm weights to /root/.cache/colabfold:  83%|████████▎ | 2.89G/3.47G [02:11<00:25, 24.6MB/s]\rDownloading AlphaFold2-ptm weights to /root/.cache/colabfold:  84%|████████▎ | 2.90G/3.47G [02:11<00:24, 24.6MB/s]\rDownloading AlphaFold2-ptm weights to /root/.cache/colabfold:  84%|████████▎ | 2.90G/3.47G [02:11<00:24, 24.6MB/s]\rDownloading AlphaFold2-ptm weights to /root/.cache/colabfold:  84%|████████▎ | 2.90G/3.47G [02:11<00:24, 24.6MB/s]\rDownloading AlphaFold2-ptm weights to /root/.cache/colabfold:  84%|████████▍ | 2.91G/3.47G [02:11<00:24, 24.6MB/s]\rDownloading AlphaFold2-ptm weights to /root/.cache/colabfold:  84%|████████▍ | 2.91G/3.47G [02:11<00:24, 24.7MB/s]\rDownloading AlphaFold2-ptm weights to /root/.cache/colabfold:  84%|████████▍ | 2.91G/3.47G [02:12<00:24, 24.6MB/s]\rDownloading AlphaFold2-ptm weights to /root/.cache/colabfold:  84%|████████▍ | 2.92G/3.47G [02:12<00:23, 24.6MB/s]\rDownloading AlphaFold2-ptm weights to /root/.cache/colabfold:  84%|████████▍ | 2.92G/3.47G [02:12<00:23, 24.6MB/s]\rDownloading AlphaFold2-ptm weights to /root/.cache/colabfold:  84%|████████▍ | 2.92G/3.47G [02:12<00:23, 24.6MB/s]\rDownloading AlphaFold2-ptm weights to /root/.cache/colabfold:  84%|████████▍ | 2.93G/3.47G [02:12<00:23, 24.6MB/s]\rDownloading AlphaFold2-ptm weights to /root/.cache/colabfold:  85%|████████▍ | 2.93G/3.47G [02:12<00:23, 24.6MB/s]\rDownloading AlphaFold2-ptm weights to /root/.cache/colabfold:  85%|████████▍ | 2.94G/3.47G [02:13<00:25, 22.7MB/s]\rDownloading AlphaFold2-ptm weights to /root/.cache/colabfold:  85%|████████▍ | 2.94G/3.47G [02:13<00:27, 20.4MB/s]\rDownloading AlphaFold2-ptm weights to /root/.cache/colabfold:  85%|████████▍ | 2.94G/3.47G [02:13<00:30, 18.4MB/s]\rDownloading AlphaFold2-ptm weights to /root/.cache/colabfold:  85%|████████▍ | 2.94G/3.47G [02:13<00:27, 20.3MB/s]\rDownloading AlphaFold2-ptm weights to /root/.cache/colabfold:  85%|████████▍ | 2.95G/3.47G [02:13<00:25, 21.6MB/s]\rDownloading AlphaFold2-ptm weights to /root/.cache/colabfold:  85%|████████▌ | 2.95G/3.47G [02:13<00:24, 22.5MB/s]\rDownloading AlphaFold2-ptm weights to /root/.cache/colabfold:  85%|████████▌ | 2.95G/3.47G [02:13<00:23, 23.1MB/s]\rDownloading AlphaFold2-ptm weights to /root/.cache/colabfold:  85%|████████▌ | 2.96G/3.47G [02:14<00:23, 23.5MB/s]\rDownloading AlphaFold2-ptm weights to /root/.cache/colabfold:  85%|████████▌ | 2.96G/3.47G [02:14<00:22, 23.9MB/s]\rDownloading AlphaFold2-ptm weights to /root/.cache/colabfold:  85%|████████▌ | 2.96G/3.47G [02:14<00:22, 24.1MB/s]\rDownloading AlphaFold2-ptm weights to /root/.cache/colabfold:  86%|████████▌ | 2.97G/3.47G [02:14<00:22, 24.3MB/s]\rDownloading AlphaFold2-ptm weights to /root/.cache/colabfold:  86%|████████▌ | 2.97G/3.47G [02:14<00:22, 23.5MB/s]\rDownloading AlphaFold2-ptm weights to /root/.cache/colabfold:  86%|████████▌ | 2.97G/3.47G [02:14<00:24, 21.4MB/s]\rDownloading AlphaFold2-ptm weights to /root/.cache/colabfold:  86%|████████▌ | 2.98G/3.47G [02:15<00:23, 22.4MB/s]\rDownloading AlphaFold2-ptm weights to /root/.cache/colabfold:  86%|████████▌ | 2.98G/3.47G [02:15<00:22, 23.1MB/s]\rDownloading AlphaFold2-ptm weights to /root/.cache/colabfold:  86%|████████▌ | 2.98G/3.47G [02:15<00:22, 23.6MB/s]\rDownloading AlphaFold2-ptm weights to /root/.cache/colabfold:  86%|████████▌ | 2.99G/3.47G [02:15<00:21, 23.9MB/s]\rDownloading AlphaFold2-ptm weights to /root/.cache/colabfold:  86%|████████▋ | 2.99G/3.47G [02:15<00:21, 24.1MB/s]\rDownloading AlphaFold2-ptm weights to /root/.cache/colabfold:  86%|████████▋ | 2.99G/3.47G [02:15<00:20, 24.3MB/s]\rDownloading AlphaFold2-ptm weights to /root/.cache/colabfold:  86%|████████▋ | 3.00G/3.47G [02:16<00:20, 24.4MB/s]\rDownloading AlphaFold2-ptm weights to /root/.cache/colabfold:  87%|████████▋ | 3.00G/3.47G [02:16<00:20, 24.5MB/s]\rDownloading AlphaFold2-ptm weights to /root/.cache/colabfold:  87%|████████▋ | 3.01G/3.47G [02:16<00:20, 24.5MB/s]\rDownloading AlphaFold2-ptm weights to /root/.cache/colabfold:  87%|████████▋ | 3.01G/3.47G [02:16<00:20, 24.5MB/s]\rDownloading AlphaFold2-ptm weights to /root/.cache/colabfold:  87%|████████▋ | 3.01G/3.47G [02:16<00:19, 24.6MB/s]\rDownloading AlphaFold2-ptm weights to /root/.cache/colabfold:  87%|████████▋ | 3.02G/3.47G [02:16<00:19, 24.6MB/s]\rDownloading AlphaFold2-ptm weights to /root/.cache/colabfold:  87%|████████▋ | 3.02G/3.47G [02:16<00:19, 24.6MB/s]\rDownloading AlphaFold2-ptm weights to /root/.cache/colabfold:  87%|████████▋ | 3.02G/3.47G [02:17<00:18, 26.1MB/s]\rDownloading AlphaFold2-ptm weights to /root/.cache/colabfold:  87%|████████▋ | 3.03G/3.47G [02:17<00:17, 27.6MB/s]\rDownloading AlphaFold2-ptm weights to /root/.cache/colabfold:  87%|████████▋ | 3.03G/3.47G [02:17<00:18, 25.8MB/s]\rDownloading AlphaFold2-ptm weights to /root/.cache/colabfold:  87%|████████▋ | 3.03G/3.47G [02:17<00:19, 23.6MB/s]\rDownloading AlphaFold2-ptm weights to /root/.cache/colabfold:  87%|████████▋ | 3.03G/3.47G [02:17<00:20, 23.1MB/s]\rDownloading AlphaFold2-ptm weights to /root/.cache/colabfold:  88%|████████▊ | 3.04G/3.47G [02:17<00:18, 25.6MB/s]\rDownloading AlphaFold2-ptm weights to /root/.cache/colabfold:  88%|████████▊ | 3.04G/3.47G [02:17<00:17, 26.1MB/s]\rDownloading AlphaFold2-ptm weights to /root/.cache/colabfold:  88%|████████▊ | 3.04G/3.47G [02:17<00:18, 24.2MB/s]\rDownloading AlphaFold2-ptm weights to /root/.cache/colabfold:  88%|████████▊ | 3.04G/3.47G [02:18<00:19, 22.9MB/s]\rDownloading AlphaFold2-ptm weights to /root/.cache/colabfold:  88%|████████▊ | 3.05G/3.47G [02:18<00:17, 25.6MB/s]\rDownloading AlphaFold2-ptm weights to /root/.cache/colabfold:  88%|████████▊ | 3.05G/3.47G [02:18<00:17, 26.1MB/s]\rDownloading AlphaFold2-ptm weights to /root/.cache/colabfold:  88%|████████▊ | 3.05G/3.47G [02:18<00:18, 24.2MB/s]\rDownloading AlphaFold2-ptm weights to /root/.cache/colabfold:  88%|████████▊ | 3.05G/3.47G [02:18<00:19, 22.9MB/s]\rDownloading AlphaFold2-ptm weights to /root/.cache/colabfold:  88%|████████▊ | 3.06G/3.47G [02:18<00:17, 25.6MB/s]\rDownloading AlphaFold2-ptm weights to /root/.cache/colabfold:  88%|████████▊ | 3.06G/3.47G [02:18<00:16, 26.3MB/s]\rDownloading AlphaFold2-ptm weights to /root/.cache/colabfold:  88%|████████▊ | 3.06G/3.47G [02:18<00:17, 24.2MB/s]\rDownloading AlphaFold2-ptm weights to /root/.cache/colabfold:  88%|████████▊ | 3.07G/3.47G [02:18<00:18, 22.8MB/s]\rDownloading AlphaFold2-ptm weights to /root/.cache/colabfold:  89%|████████▊ | 3.07G/3.47G [02:19<00:16, 25.6MB/s]\rDownloading AlphaFold2-ptm weights to /root/.cache/colabfold:  89%|████████▊ | 3.07G/3.47G [02:19<00:16, 26.2MB/s]\rDownloading AlphaFold2-ptm weights to /root/.cache/colabfold:  89%|████████▊ | 3.07G/3.47G [02:19<00:17, 24.2MB/s]\rDownloading AlphaFold2-ptm weights to /root/.cache/colabfold:  89%|████████▊ | 3.08G/3.47G [02:19<00:18, 22.8MB/s]\rDownloading AlphaFold2-ptm weights to /root/.cache/colabfold:  89%|████████▉ | 3.08G/3.47G [02:19<00:16, 25.7MB/s]\rDownloading AlphaFold2-ptm weights to /root/.cache/colabfold:  89%|████████▉ | 3.08G/3.47G [02:19<00:15, 26.3MB/s]\rDownloading AlphaFold2-ptm weights to /root/.cache/colabfold:  89%|████████▉ | 3.08G/3.47G [02:19<00:16, 24.3MB/s]\rDownloading AlphaFold2-ptm weights to /root/.cache/colabfold:  89%|████████▉ | 3.09G/3.47G [02:19<00:17, 22.8MB/s]\rDownloading AlphaFold2-ptm weights to /root/.cache/colabfold:  89%|████████▉ | 3.09G/3.47G [02:19<00:15, 25.6MB/s]\rDownloading AlphaFold2-ptm weights to /root/.cache/colabfold:  89%|████████▉ | 3.09G/3.47G [02:20<00:15, 26.3MB/s]\rDownloading AlphaFold2-ptm weights to /root/.cache/colabfold:  89%|████████▉ | 3.10G/3.47G [02:20<00:16, 24.2MB/s]\rDownloading AlphaFold2-ptm weights to /root/.cache/colabfold:  89%|████████▉ | 3.10G/3.47G [02:20<00:17, 22.8MB/s]\rDownloading AlphaFold2-ptm weights to /root/.cache/colabfold:  89%|████████▉ | 3.10G/3.47G [02:20<00:15, 25.7MB/s]\rDownloading AlphaFold2-ptm weights to /root/.cache/colabfold:  90%|████████▉ | 3.10G/3.47G [02:20<00:14, 26.3MB/s]\rDownloading AlphaFold2-ptm weights to /root/.cache/colabfold:  90%|████████▉ | 3.11G/3.47G [02:20<00:16, 24.2MB/s]\rDownloading AlphaFold2-ptm weights to /root/.cache/colabfold:  90%|████████▉ | 3.11G/3.47G [02:20<00:16, 22.8MB/s]\rDownloading AlphaFold2-ptm weights to /root/.cache/colabfold:  90%|████████▉ | 3.11G/3.47G [02:20<00:14, 25.6MB/s]\rDownloading AlphaFold2-ptm weights to /root/.cache/colabfold:  90%|████████▉ | 3.11G/3.47G [02:21<00:14, 26.2MB/s]\rDownloading AlphaFold2-ptm weights to /root/.cache/colabfold:  90%|████████▉ | 3.12G/3.47G [02:21<00:15, 24.1MB/s]\rDownloading AlphaFold2-ptm weights to /root/.cache/colabfold:  90%|████████▉ | 3.12G/3.47G [02:21<00:16, 22.8MB/s]\rDownloading AlphaFold2-ptm weights to /root/.cache/colabfold:  90%|█████████ | 3.12G/3.47G [02:21<00:14, 25.6MB/s]\rDownloading AlphaFold2-ptm weights to /root/.cache/colabfold:  90%|█████████ | 3.12G/3.47G [02:21<00:13, 26.3MB/s]\rDownloading AlphaFold2-ptm weights to /root/.cache/colabfold:  90%|█████████ | 3.13G/3.47G [02:21<00:15, 24.1MB/s]\rDownloading AlphaFold2-ptm weights to /root/.cache/colabfold:  90%|█████████ | 3.13G/3.47G [02:21<00:15, 22.7MB/s]\rDownloading AlphaFold2-ptm weights to /root/.cache/colabfold:  90%|█████████ | 3.13G/3.47G [02:21<00:14, 25.6MB/s]\rDownloading AlphaFold2-ptm weights to /root/.cache/colabfold:  90%|█████████ | 3.14G/3.47G [02:21<00:13, 26.5MB/s]\rDownloading AlphaFold2-ptm weights to /root/.cache/colabfold:  91%|█████████ | 3.14G/3.47G [02:22<00:14, 24.3MB/s]\rDownloading AlphaFold2-ptm weights to /root/.cache/colabfold:  91%|█████████ | 3.14G/3.47G [02:22<00:15, 22.8MB/s]\rDownloading AlphaFold2-ptm weights to /root/.cache/colabfold:  91%|█████████ | 3.14G/3.47G [02:22<00:13, 25.5MB/s]\rDownloading AlphaFold2-ptm weights to /root/.cache/colabfold:  91%|█████████ | 3.15G/3.47G [02:22<00:13, 26.4MB/s]\rDownloading AlphaFold2-ptm weights to /root/.cache/colabfold:  91%|█████████ | 3.15G/3.47G [02:22<00:14, 24.2MB/s]\rDownloading AlphaFold2-ptm weights to /root/.cache/colabfold:  91%|█████████ | 3.15G/3.47G [02:22<00:14, 22.7MB/s]\rDownloading AlphaFold2-ptm weights to /root/.cache/colabfold:  91%|█████████ | 3.15G/3.47G [02:22<00:13, 25.5MB/s]\rDownloading AlphaFold2-ptm weights to /root/.cache/colabfold:  91%|█████████ | 3.16G/3.47G [02:22<00:12, 26.4MB/s]\rDownloading AlphaFold2-ptm weights to /root/.cache/colabfold:  91%|█████████ | 3.16G/3.47G [02:23<00:13, 24.2MB/s]\rDownloading AlphaFold2-ptm weights to /root/.cache/colabfold:  91%|█████████ | 3.16G/3.47G [02:23<00:14, 22.7MB/s]\rDownloading AlphaFold2-ptm weights to /root/.cache/colabfold:  91%|█████████▏| 3.16G/3.47G [02:23<00:12, 25.5MB/s]\rDownloading AlphaFold2-ptm weights to /root/.cache/colabfold:  91%|█████████▏| 3.17G/3.47G [02:23<00:12, 26.4MB/s]\rDownloading AlphaFold2-ptm weights to /root/.cache/colabfold:  91%|█████████▏| 3.17G/3.47G [02:23<00:13, 24.2MB/s]\rDownloading AlphaFold2-ptm weights to /root/.cache/colabfold:  91%|█████████▏| 3.17G/3.47G [02:23<00:13, 22.7MB/s]\rDownloading AlphaFold2-ptm weights to /root/.cache/colabfold:  92%|█████████▏| 3.18G/3.47G [02:23<00:12, 25.5MB/s]\rDownloading AlphaFold2-ptm weights to /root/.cache/colabfold:  92%|█████████▏| 3.18G/3.47G [02:23<00:11, 26.5MB/s]\rDownloading AlphaFold2-ptm weights to /root/.cache/colabfold:  92%|█████████▏| 3.18G/3.47G [02:23<00:13, 23.0MB/s]\rDownloading AlphaFold2-ptm weights to /root/.cache/colabfold:  92%|█████████▏| 3.18G/3.47G [02:24<00:14, 20.9MB/s]\rDownloading AlphaFold2-ptm weights to /root/.cache/colabfold:  92%|█████████▏| 3.19G/3.47G [02:24<00:14, 21.0MB/s]\rDownloading AlphaFold2-ptm weights to /root/.cache/colabfold:  92%|█████████▏| 3.19G/3.47G [02:24<00:13, 22.2MB/s]\rDownloading AlphaFold2-ptm weights to /root/.cache/colabfold:  92%|█████████▏| 3.19G/3.47G [02:24<00:12, 23.0MB/s]\rDownloading AlphaFold2-ptm weights to /root/.cache/colabfold:  92%|█████████▏| 3.20G/3.47G [02:24<00:12, 23.5MB/s]\rDownloading AlphaFold2-ptm weights to /root/.cache/colabfold:  92%|█████████▏| 3.20G/3.47G [02:24<00:12, 23.9MB/s]\rDownloading AlphaFold2-ptm weights to /root/.cache/colabfold:  92%|█████████▏| 3.20G/3.47G [02:25<00:11, 24.1MB/s]\rDownloading AlphaFold2-ptm weights to /root/.cache/colabfold:  93%|█████████▎| 3.21G/3.47G [02:25<00:11, 24.3MB/s]\rDownloading AlphaFold2-ptm weights to /root/.cache/colabfold:  93%|█████████▎| 3.21G/3.47G [02:25<00:11, 24.4MB/s]\rDownloading AlphaFold2-ptm weights to /root/.cache/colabfold:  93%|█████████▎| 3.21G/3.47G [02:25<00:11, 24.5MB/s]\rDownloading AlphaFold2-ptm weights to /root/.cache/colabfold:  93%|█████████▎| 3.22G/3.47G [02:25<00:10, 24.5MB/s]\rDownloading AlphaFold2-ptm weights to /root/.cache/colabfold:  93%|█████████▎| 3.22G/3.47G [02:25<00:10, 24.5MB/s]\rDownloading AlphaFold2-ptm weights to /root/.cache/colabfold:  93%|█████████▎| 3.22G/3.47G [02:25<00:10, 24.6MB/s]\rDownloading AlphaFold2-ptm weights to /root/.cache/colabfold:  93%|█████████▎| 3.23G/3.47G [02:26<00:10, 24.6MB/s]\rDownloading AlphaFold2-ptm weights to /root/.cache/colabfold:  93%|█████████▎| 3.23G/3.47G [02:26<00:10, 24.6MB/s]\rDownloading AlphaFold2-ptm weights to /root/.cache/colabfold:  93%|█████████▎| 3.24G/3.47G [02:26<00:10, 24.6MB/s]\rDownloading AlphaFold2-ptm weights to /root/.cache/colabfold:  93%|█████████▎| 3.24G/3.47G [02:26<00:09, 24.6MB/s]\rDownloading AlphaFold2-ptm weights to /root/.cache/colabfold:  94%|█████████▎| 3.24G/3.47G [02:26<00:09, 24.7MB/s]\rDownloading AlphaFold2-ptm weights to /root/.cache/colabfold:  94%|█████████▎| 3.25G/3.47G [02:26<00:09, 24.6MB/s]\rDownloading AlphaFold2-ptm weights to /root/.cache/colabfold:  94%|█████████▎| 3.25G/3.47G [02:27<00:09, 24.7MB/s]\rDownloading AlphaFold2-ptm weights to /root/.cache/colabfold:  94%|█████████▍| 3.25G/3.47G [02:27<00:09, 24.6MB/s]\rDownloading AlphaFold2-ptm weights to /root/.cache/colabfold:  94%|█████████▍| 3.26G/3.47G [02:27<00:09, 24.6MB/s]\rDownloading AlphaFold2-ptm weights to /root/.cache/colabfold:  94%|█████████▍| 3.26G/3.47G [02:27<00:10, 22.2MB/s]\rDownloading AlphaFold2-ptm weights to /root/.cache/colabfold:  94%|█████████▍| 3.26G/3.47G [02:27<00:11, 20.0MB/s]\rDownloading AlphaFold2-ptm weights to /root/.cache/colabfold:  94%|█████████▍| 3.26G/3.47G [02:27<00:12, 18.0MB/s]\rDownloading AlphaFold2-ptm weights to /root/.cache/colabfold:  94%|█████████▍| 3.27G/3.47G [02:27<00:10, 20.0MB/s]\rDownloading AlphaFold2-ptm weights to /root/.cache/colabfold:  94%|█████████▍| 3.27G/3.47G [02:28<00:09, 21.4MB/s]\rDownloading AlphaFold2-ptm weights to /root/.cache/colabfold:  94%|█████████▍| 3.27G/3.47G [02:28<00:09, 22.4MB/s]\rDownloading AlphaFold2-ptm weights to /root/.cache/colabfold:  95%|█████████▍| 3.28G/3.47G [02:28<00:08, 23.0MB/s]\rDownloading AlphaFold2-ptm weights to /root/.cache/colabfold:  95%|█████████▍| 3.28G/3.47G [02:28<00:10, 18.5MB/s]\rDownloading AlphaFold2-ptm weights to /root/.cache/colabfold:  95%|█████████▍| 3.28G/3.47G [02:28<00:09, 20.7MB/s]\rDownloading AlphaFold2-ptm weights to /root/.cache/colabfold:  95%|█████████▍| 3.29G/3.47G [02:28<00:08, 21.8MB/s]\rDownloading AlphaFold2-ptm weights to /root/.cache/colabfold:  95%|█████████▍| 3.29G/3.47G [02:29<00:08, 22.6MB/s]\rDownloading AlphaFold2-ptm weights to /root/.cache/colabfold:  95%|█████████▌| 3.30G/3.47G [02:29<00:07, 23.2MB/s]\rDownloading AlphaFold2-ptm weights to /root/.cache/colabfold:  95%|█████████▌| 3.30G/3.47G [02:29<00:07, 23.6MB/s]\rDownloading AlphaFold2-ptm weights to /root/.cache/colabfold:  95%|█████████▌| 3.30G/3.47G [02:29<00:07, 23.9MB/s]\rDownloading AlphaFold2-ptm weights to /root/.cache/colabfold:  95%|█████████▌| 3.31G/3.47G [02:29<00:07, 24.1MB/s]\rDownloading AlphaFold2-ptm weights to /root/.cache/colabfold:  95%|█████████▌| 3.31G/3.47G [02:29<00:06, 24.3MB/s]\rDownloading AlphaFold2-ptm weights to /root/.cache/colabfold:  96%|█████████▌| 3.31G/3.47G [02:30<00:06, 24.4MB/s]\rDownloading AlphaFold2-ptm weights to /root/.cache/colabfold:  96%|█████████▌| 3.32G/3.47G [02:30<00:06, 24.4MB/s]\rDownloading AlphaFold2-ptm weights to /root/.cache/colabfold:  96%|█████████▌| 3.32G/3.47G [02:30<00:06, 23.4MB/s]\rDownloading AlphaFold2-ptm weights to /root/.cache/colabfold:  96%|█████████▌| 3.32G/3.47G [02:30<00:06, 23.0MB/s]\rDownloading AlphaFold2-ptm weights to /root/.cache/colabfold:  96%|█████████▌| 3.33G/3.47G [02:30<00:06, 23.5MB/s]\rDownloading AlphaFold2-ptm weights to /root/.cache/colabfold:  96%|█████████▌| 3.33G/3.47G [02:30<00:06, 23.8MB/s]\rDownloading AlphaFold2-ptm weights to /root/.cache/colabfold:  96%|█████████▌| 3.33G/3.47G [02:31<00:05, 24.1MB/s]\rDownloading AlphaFold2-ptm weights to /root/.cache/colabfold:  96%|█████████▋| 3.34G/3.47G [02:31<00:05, 24.3MB/s]\rDownloading AlphaFold2-ptm weights to /root/.cache/colabfold:  96%|█████████▋| 3.34G/3.47G [02:31<00:05, 24.4MB/s]\rDownloading AlphaFold2-ptm weights to /root/.cache/colabfold:  96%|█████████▋| 3.34G/3.47G [02:31<00:05, 24.5MB/s]\rDownloading AlphaFold2-ptm weights to /root/.cache/colabfold:  97%|█████████▋| 3.35G/3.47G [02:31<00:05, 24.5MB/s]\rDownloading AlphaFold2-ptm weights to /root/.cache/colabfold:  97%|█████████▋| 3.35G/3.47G [02:31<00:05, 24.6MB/s]\rDownloading AlphaFold2-ptm weights to /root/.cache/colabfold:  97%|█████████▋| 3.36G/3.47G [02:31<00:04, 24.6MB/s]\rDownloading AlphaFold2-ptm weights to /root/.cache/colabfold:  97%|█████████▋| 3.36G/3.47G [02:32<00:04, 24.6MB/s]\rDownloading AlphaFold2-ptm weights to /root/.cache/colabfold:  97%|█████████▋| 3.36G/3.47G [02:32<00:04, 24.6MB/s]\rDownloading AlphaFold2-ptm weights to /root/.cache/colabfold:  97%|█████████▋| 3.37G/3.47G [02:32<00:04, 24.6MB/s]\rDownloading AlphaFold2-ptm weights to /root/.cache/colabfold:  97%|█████████▋| 3.37G/3.47G [02:32<00:04, 24.6MB/s]\rDownloading AlphaFold2-ptm weights to /root/.cache/colabfold:  97%|█████████▋| 3.37G/3.47G [02:32<00:04, 24.6MB/s]\rDownloading AlphaFold2-ptm weights to /root/.cache/colabfold:  97%|█████████▋| 3.38G/3.47G [02:32<00:03, 24.6MB/s]\rDownloading AlphaFold2-ptm weights to /root/.cache/colabfold:  97%|█████████▋| 3.38G/3.47G [02:33<00:03, 24.7MB/s]\rDownloading AlphaFold2-ptm weights to /root/.cache/colabfold:  98%|█████████▊| 3.38G/3.47G [02:33<00:03, 24.6MB/s]\rDownloading AlphaFold2-ptm weights to /root/.cache/colabfold:  98%|█████████▊| 3.39G/3.47G [02:33<00:03, 24.6MB/s]\rDownloading AlphaFold2-ptm weights to /root/.cache/colabfold:  98%|█████████▊| 3.39G/3.47G [02:33<00:03, 24.6MB/s]\rDownloading AlphaFold2-ptm weights to /root/.cache/colabfold:  98%|█████████▊| 3.39G/3.47G [02:33<00:03, 24.6MB/s]\rDownloading AlphaFold2-ptm weights to /root/.cache/colabfold:  98%|█████████▊| 3.40G/3.47G [02:33<00:03, 24.7MB/s]\rDownloading AlphaFold2-ptm weights to /root/.cache/colabfold:  98%|█████████▊| 3.40G/3.47G [02:33<00:02, 24.6MB/s]\rDownloading AlphaFold2-ptm weights to /root/.cache/colabfold:  98%|█████████▊| 3.40G/3.47G [02:34<00:02, 24.6MB/s]\rDownloading AlphaFold2-ptm weights to /root/.cache/colabfold:  98%|█████████▊| 3.41G/3.47G [02:34<00:02, 24.6MB/s]\rDownloading AlphaFold2-ptm weights to /root/.cache/colabfold:  98%|█████████▊| 3.41G/3.47G [02:34<00:02, 24.6MB/s]\rDownloading AlphaFold2-ptm weights to /root/.cache/colabfold:  99%|█████████▊| 3.42G/3.47G [02:34<00:02, 24.7MB/s]\rDownloading AlphaFold2-ptm weights to /root/.cache/colabfold:  99%|█████████▊| 3.42G/3.47G [02:34<00:02, 24.7MB/s]\rDownloading AlphaFold2-ptm weights to /root/.cache/colabfold:  99%|█████████▊| 3.42G/3.47G [02:34<00:01, 24.6MB/s]\rDownloading AlphaFold2-ptm weights to /root/.cache/colabfold:  99%|█████████▉| 3.43G/3.47G [02:35<00:01, 24.6MB/s]\rDownloading AlphaFold2-ptm weights to /root/.cache/colabfold:  99%|█████████▉| 3.43G/3.47G [02:35<00:01, 21.8MB/s]\rDownloading AlphaFold2-ptm weights to /root/.cache/colabfold:  99%|█████████▉| 3.43G/3.47G [02:35<00:01, 19.6MB/s]\rDownloading AlphaFold2-ptm weights to /root/.cache/colabfold:  99%|█████████▉| 3.43G/3.47G [02:35<00:01, 20.9MB/s]\rDownloading AlphaFold2-ptm weights to /root/.cache/colabfold:  99%|█████████▉| 3.44G/3.47G [02:35<00:01, 22.0MB/s]\rDownloading AlphaFold2-ptm weights to /root/.cache/colabfold:  99%|█████████▉| 3.44G/3.47G [02:35<00:01, 22.8MB/s]\rDownloading AlphaFold2-ptm weights to /root/.cache/colabfold:  99%|█████████▉| 3.44G/3.47G [02:36<00:01, 23.3MB/s]\rDownloading AlphaFold2-ptm weights to /root/.cache/colabfold:  99%|█████████▉| 3.45G/3.47G [02:36<00:00, 23.7MB/s]\rDownloading AlphaFold2-ptm weights to /root/.cache/colabfold: 100%|█████████▉| 3.45G/3.47G [02:36<00:00, 24.0MB/s]\rDownloading AlphaFold2-ptm weights to /root/.cache/colabfold: 100%|█████████▉| 3.46G/3.47G [02:36<00:00, 24.2MB/s]\rDownloading AlphaFold2-ptm weights to /root/.cache/colabfold: 100%|█████████▉| 3.46G/3.47G [02:36<00:00, 24.4MB/s]\rDownloading AlphaFold2-ptm weights to /root/.cache/colabfold: 100%|█████████▉| 3.46G/3.47G [02:36<00:00, 24.5MB/s]\rDownloading AlphaFold2-ptm weights to /root/.cache/colabfold: 100%|█████████▉| 3.47G/3.47G [02:36<00:00, 24.5MB/s]\rDownloading AlphaFold2-ptm weights to /root/.cache/colabfold: 100%|██████████| 3.47G/3.47G [02:37<00:00, 23.7MB/s]\n"
          ]
        }
      ]
    },
    {
      "cell_type": "code",
      "metadata": {
        "id": "hUYApPElB30u",
        "cellView": "form",
        "outputId": "0143471e-3509-40b9-c597-3dc645845f62",
        "colab": {
          "base_uri": "https://localhost:8080/"
        }
      },
      "source": [
        "#@title Run Prediction\n",
        "\n",
        "import sys\n",
        "\n",
        "from colabfold.batch import get_queries, run\n",
        "from colabfold.download import default_data_dir\n",
        "from colabfold.utils import setup_logging\n",
        "from pathlib import Path\n",
        "\n",
        "# For some reason we need that to get pdbfixer to import\n",
        "if use_amber and f\"/usr/local/lib/python{python_version}/site-packages/\" not in sys.path:\n",
        "    sys.path.insert(0, f\"/usr/local/lib/python{python_version}/site-packages/\")\n",
        "\n",
        "setup_logging(Path(result_dir).joinpath(\"log.txt\"))\n",
        "\n",
        "queries, is_complex = get_queries(input_dir)\n",
        "run(\n",
        "    queries=queries,\n",
        "    result_dir=result_dir,\n",
        "    use_templates=use_templates,\n",
        "    num_relax=num_relax,\n",
        "    relax_max_iterations=relax_max_iterations,\n",
        "    msa_mode=msa_mode,\n",
        "    model_type=\"auto\",\n",
        "    num_models=num_models,\n",
        "    num_recycles=num_recycles,\n",
        "    model_order=[1, 2, 3, 4, 5],\n",
        "    is_complex=is_complex,\n",
        "    data_dir=default_data_dir,\n",
        "    keep_existing_results=do_not_overwrite_results,\n",
        "    rank_by=\"auto\",\n",
        "    pair_mode=\"unpaired+paired\",\n",
        "    stop_at_score=stop_at_score,\n",
        "    zip_results=zip_results,\n",
        "    user_agent=\"colabfold/google-colab-batch\",\n",
        ")"
      ],
      "execution_count": null,
      "outputs": [
        {
          "output_type": "stream",
          "name": "stdout",
          "text": [
            "2025-04-10 18:05:05,606 Running on GPU\n",
            "2025-04-10 18:05:07,852 Found 5 citations for tools or databases\n",
            "2025-04-10 18:05:07,853 Skipping sequence_2001 (already done)\n",
            "2025-04-10 18:05:07,853 Skipping sequence_2002 (already done)\n",
            "2025-04-10 18:05:07,854 Skipping sequence_2003 (already done)\n",
            "2025-04-10 18:05:07,854 Skipping sequence_2004 (already done)\n",
            "2025-04-10 18:05:07,854 Skipping sequence_2005 (already done)\n",
            "2025-04-10 18:05:07,855 Skipping sequence_2006 (already done)\n",
            "2025-04-10 18:05:07,855 Skipping sequence_2007 (already done)\n",
            "2025-04-10 18:05:07,855 Skipping sequence_2008 (already done)\n",
            "2025-04-10 18:05:07,856 Skipping sequence_2009 (already done)\n",
            "2025-04-10 18:05:07,856 Skipping sequence_2010 (already done)\n",
            "2025-04-10 18:05:07,856 Skipping sequence_2011 (already done)\n",
            "2025-04-10 18:05:07,857 Skipping sequence_2012 (already done)\n",
            "2025-04-10 18:05:07,857 Skipping sequence_2013 (already done)\n",
            "2025-04-10 18:05:07,857 Skipping sequence_2014 (already done)\n",
            "2025-04-10 18:05:07,858 Skipping sequence_2015 (already done)\n",
            "2025-04-10 18:05:07,858 Skipping sequence_2016 (already done)\n",
            "2025-04-10 18:05:07,858 Skipping sequence_2017 (already done)\n",
            "2025-04-10 18:05:07,858 Skipping sequence_2018 (already done)\n",
            "2025-04-10 18:05:07,859 Skipping sequence_2019 (already done)\n",
            "2025-04-10 18:05:07,859 Skipping sequence_2020 (already done)\n",
            "2025-04-10 18:05:07,859 Skipping sequence_2021 (already done)\n",
            "2025-04-10 18:05:07,860 Skipping sequence_2022 (already done)\n",
            "2025-04-10 18:05:07,860 Skipping sequence_2023 (already done)\n",
            "2025-04-10 18:05:07,860 Skipping sequence_2024 (already done)\n",
            "2025-04-10 18:05:07,861 Skipping sequence_2025 (already done)\n",
            "2025-04-10 18:05:07,861 Skipping sequence_2026 (already done)\n",
            "2025-04-10 18:05:07,861 Skipping sequence_2027 (already done)\n",
            "2025-04-10 18:05:07,862 Skipping sequence_2028 (already done)\n",
            "2025-04-10 18:05:07,862 Skipping sequence_2029 (already done)\n",
            "2025-04-10 18:05:07,862 Skipping sequence_2030 (already done)\n",
            "2025-04-10 18:05:07,862 Skipping sequence_2031 (already done)\n",
            "2025-04-10 18:05:07,863 Skipping sequence_2032 (already done)\n",
            "2025-04-10 18:05:07,863 Skipping sequence_2033 (already done)\n",
            "2025-04-10 18:05:07,863 Skipping sequence_2034 (already done)\n",
            "2025-04-10 18:05:07,864 Skipping sequence_2035 (already done)\n",
            "2025-04-10 18:05:07,864 Skipping sequence_2036 (already done)\n",
            "2025-04-10 18:05:07,864 Skipping sequence_2037 (already done)\n",
            "2025-04-10 18:05:07,865 Skipping sequence_2038 (already done)\n",
            "2025-04-10 18:05:07,865 Skipping sequence_2039 (already done)\n",
            "2025-04-10 18:05:07,865 Skipping sequence_2040 (already done)\n",
            "2025-04-10 18:05:07,865 Skipping sequence_2041 (already done)\n",
            "2025-04-10 18:05:07,866 Skipping sequence_2042 (already done)\n",
            "2025-04-10 18:05:07,866 Skipping sequence_2043 (already done)\n",
            "2025-04-10 18:05:07,866 Skipping sequence_2044 (already done)\n",
            "2025-04-10 18:05:07,867 Skipping sequence_2045 (already done)\n",
            "2025-04-10 18:05:07,867 Skipping sequence_2046 (already done)\n",
            "2025-04-10 18:05:07,867 Skipping sequence_2047 (already done)\n",
            "2025-04-10 18:05:07,868 Skipping sequence_2048 (already done)\n",
            "2025-04-10 18:05:07,868 Skipping sequence_2049 (already done)\n",
            "2025-04-10 18:05:07,868 Skipping sequence_2050 (already done)\n",
            "2025-04-10 18:05:07,868 Skipping sequence_2051 (already done)\n",
            "2025-04-10 18:05:07,869 Skipping sequence_2052 (already done)\n",
            "2025-04-10 18:05:07,869 Skipping sequence_2053 (already done)\n",
            "2025-04-10 18:05:07,869 Skipping sequence_2054 (already done)\n",
            "2025-04-10 18:05:07,870 Skipping sequence_2055 (already done)\n",
            "2025-04-10 18:05:07,870 Skipping sequence_2056 (already done)\n",
            "2025-04-10 18:05:07,870 Skipping sequence_2057 (already done)\n",
            "2025-04-10 18:05:07,870 Skipping sequence_2058 (already done)\n",
            "2025-04-10 18:05:07,871 Skipping sequence_2059 (already done)\n",
            "2025-04-10 18:05:07,871 Skipping sequence_2060 (already done)\n",
            "2025-04-10 18:05:07,871 Skipping sequence_2061 (already done)\n",
            "2025-04-10 18:05:07,872 Skipping sequence_2062 (already done)\n",
            "2025-04-10 18:05:07,872 Skipping sequence_2063 (already done)\n",
            "2025-04-10 18:05:07,872 Skipping sequence_2064 (already done)\n",
            "2025-04-10 18:05:07,873 Skipping sequence_2065 (already done)\n",
            "2025-04-10 18:05:07,873 Skipping sequence_2066 (already done)\n",
            "2025-04-10 18:05:07,873 Skipping sequence_2067 (already done)\n",
            "2025-04-10 18:05:07,873 Skipping sequence_2068 (already done)\n",
            "2025-04-10 18:05:07,874 Skipping sequence_2069 (already done)\n",
            "2025-04-10 18:05:07,874 Skipping sequence_2070 (already done)\n",
            "2025-04-10 18:05:07,874 Skipping sequence_2071 (already done)\n",
            "2025-04-10 18:05:07,875 Skipping sequence_2072 (already done)\n",
            "2025-04-10 18:05:07,875 Skipping sequence_2073 (already done)\n",
            "2025-04-10 18:05:07,875 Skipping sequence_2074 (already done)\n",
            "2025-04-10 18:05:07,876 Skipping sequence_2075 (already done)\n",
            "2025-04-10 18:05:07,876 Skipping sequence_2076 (already done)\n",
            "2025-04-10 18:05:07,876 Skipping sequence_2077 (already done)\n",
            "2025-04-10 18:05:07,876 Skipping sequence_2078 (already done)\n",
            "2025-04-10 18:05:07,877 Skipping sequence_2079 (already done)\n",
            "2025-04-10 18:05:07,877 Skipping sequence_2080 (already done)\n",
            "2025-04-10 18:05:07,877 Skipping sequence_2081 (already done)\n",
            "2025-04-10 18:05:07,878 Skipping sequence_2082 (already done)\n",
            "2025-04-10 18:05:07,878 Skipping sequence_2083 (already done)\n",
            "2025-04-10 18:05:07,878 Skipping sequence_2084 (already done)\n",
            "2025-04-10 18:05:07,878 Skipping sequence_2085 (already done)\n",
            "2025-04-10 18:05:07,879 Skipping sequence_2086 (already done)\n",
            "2025-04-10 18:05:07,879 Skipping sequence_2087 (already done)\n",
            "2025-04-10 18:05:07,879 Skipping sequence_2088 (already done)\n",
            "2025-04-10 18:05:07,880 Skipping sequence_2089 (already done)\n",
            "2025-04-10 18:05:07,880 Skipping sequence_2090 (already done)\n",
            "2025-04-10 18:05:07,880 Skipping sequence_2091 (already done)\n",
            "2025-04-10 18:05:07,881 Skipping sequence_2092 (already done)\n",
            "2025-04-10 18:05:07,881 Skipping sequence_2093 (already done)\n",
            "2025-04-10 18:05:07,881 Skipping sequence_2094 (already done)\n",
            "2025-04-10 18:05:07,882 Skipping sequence_2095 (already done)\n",
            "2025-04-10 18:05:07,882 Skipping sequence_2096 (already done)\n",
            "2025-04-10 18:05:07,882 Skipping sequence_2097 (already done)\n",
            "2025-04-10 18:05:07,883 Skipping sequence_2098 (already done)\n",
            "2025-04-10 18:05:07,883 Skipping sequence_2099 (already done)\n",
            "2025-04-10 18:05:07,883 Skipping sequence_2100 (already done)\n",
            "2025-04-10 18:05:07,884 Skipping sequence_2101 (already done)\n",
            "2025-04-10 18:05:07,884 Skipping sequence_2102 (already done)\n",
            "2025-04-10 18:05:07,884 Skipping sequence_2103 (already done)\n",
            "2025-04-10 18:05:07,884 Skipping sequence_2104 (already done)\n",
            "2025-04-10 18:05:07,885 Skipping sequence_2105 (already done)\n",
            "2025-04-10 18:05:07,885 Skipping sequence_2106 (already done)\n",
            "2025-04-10 18:05:07,885 Skipping sequence_2107 (already done)\n",
            "2025-04-10 18:05:07,886 Skipping sequence_2108 (already done)\n",
            "2025-04-10 18:05:07,886 Skipping sequence_2109 (already done)\n",
            "2025-04-10 18:05:07,886 Skipping sequence_2110 (already done)\n",
            "2025-04-10 18:05:07,886 Skipping sequence_2111 (already done)\n",
            "2025-04-10 18:05:07,887 Skipping sequence_2112 (already done)\n",
            "2025-04-10 18:05:07,887 Skipping sequence_2113 (already done)\n",
            "2025-04-10 18:05:07,887 Skipping sequence_2114 (already done)\n",
            "2025-04-10 18:05:07,888 Skipping sequence_2115 (already done)\n",
            "2025-04-10 18:05:07,888 Skipping sequence_2116 (already done)\n",
            "2025-04-10 18:05:07,888 Skipping sequence_2117 (already done)\n",
            "2025-04-10 18:05:07,889 Skipping sequence_2118 (already done)\n",
            "2025-04-10 18:05:07,889 Skipping sequence_2119 (already done)\n",
            "2025-04-10 18:05:07,889 Skipping sequence_2120 (already done)\n",
            "2025-04-10 18:05:07,890 Skipping sequence_2121 (already done)\n",
            "2025-04-10 18:05:07,890 Skipping sequence_2122 (already done)\n",
            "2025-04-10 18:05:07,890 Skipping sequence_2123 (already done)\n",
            "2025-04-10 18:05:07,891 Skipping sequence_2124 (already done)\n",
            "2025-04-10 18:05:07,891 Skipping sequence_2125 (already done)\n",
            "2025-04-10 18:05:07,891 Skipping sequence_2126 (already done)\n",
            "2025-04-10 18:05:07,891 Skipping sequence_2127 (already done)\n",
            "2025-04-10 18:05:07,892 Skipping sequence_2128 (already done)\n",
            "2025-04-10 18:05:07,892 Skipping sequence_2129 (already done)\n",
            "2025-04-10 18:05:07,892 Skipping sequence_2130 (already done)\n",
            "2025-04-10 18:05:07,893 Skipping sequence_2131 (already done)\n",
            "2025-04-10 18:05:07,893 Skipping sequence_2132 (already done)\n",
            "2025-04-10 18:05:07,893 Skipping sequence_2133 (already done)\n",
            "2025-04-10 18:05:07,894 Skipping sequence_2134 (already done)\n",
            "2025-04-10 18:05:07,894 Skipping sequence_2135 (already done)\n",
            "2025-04-10 18:05:07,894 Skipping sequence_2136 (already done)\n",
            "2025-04-10 18:05:07,894 Skipping sequence_2137 (already done)\n",
            "2025-04-10 18:05:07,895 Skipping sequence_2138 (already done)\n",
            "2025-04-10 18:05:07,895 Skipping sequence_2139 (already done)\n",
            "2025-04-10 18:05:07,895 Skipping sequence_2140 (already done)\n",
            "2025-04-10 18:05:07,896 Skipping sequence_2141 (already done)\n",
            "2025-04-10 18:05:07,896 Skipping sequence_2142 (already done)\n",
            "2025-04-10 18:05:07,896 Skipping sequence_2143 (already done)\n",
            "2025-04-10 18:05:07,896 Skipping sequence_2144 (already done)\n",
            "2025-04-10 18:05:07,897 Skipping sequence_2145 (already done)\n",
            "2025-04-10 18:05:07,897 Skipping sequence_2146 (already done)\n",
            "2025-04-10 18:05:07,897 Skipping sequence_2147 (already done)\n",
            "2025-04-10 18:05:07,898 Skipping sequence_2148 (already done)\n",
            "2025-04-10 18:05:07,898 Skipping sequence_2149 (already done)\n",
            "2025-04-10 18:05:07,898 Skipping sequence_2150 (already done)\n",
            "2025-04-10 18:05:07,899 Skipping sequence_2151 (already done)\n",
            "2025-04-10 18:05:07,899 Skipping sequence_2152 (already done)\n",
            "2025-04-10 18:05:07,899 Skipping sequence_2153 (already done)\n",
            "2025-04-10 18:05:07,900 Skipping sequence_2154 (already done)\n",
            "2025-04-10 18:05:07,900 Skipping sequence_2155 (already done)\n",
            "2025-04-10 18:05:07,900 Skipping sequence_2156 (already done)\n",
            "2025-04-10 18:05:07,900 Skipping sequence_2157 (already done)\n",
            "2025-04-10 18:05:07,901 Skipping sequence_2158 (already done)\n",
            "2025-04-10 18:05:07,901 Skipping sequence_2159 (already done)\n",
            "2025-04-10 18:05:07,901 Skipping sequence_2160 (already done)\n",
            "2025-04-10 18:05:07,902 Skipping sequence_2161 (already done)\n",
            "2025-04-10 18:05:07,902 Skipping sequence_2162 (already done)\n",
            "2025-04-10 18:05:07,902 Skipping sequence_2163 (already done)\n",
            "2025-04-10 18:05:07,903 Skipping sequence_2164 (already done)\n",
            "2025-04-10 18:05:07,903 Skipping sequence_2165 (already done)\n",
            "2025-04-10 18:05:07,903 Skipping sequence_2166 (already done)\n",
            "2025-04-10 18:05:07,904 Skipping sequence_2167 (already done)\n",
            "2025-04-10 18:05:07,904 Skipping sequence_2168 (already done)\n",
            "2025-04-10 18:05:07,904 Skipping sequence_2169 (already done)\n",
            "2025-04-10 18:05:07,905 Skipping sequence_2170 (already done)\n",
            "2025-04-10 18:05:07,905 Skipping sequence_2171 (already done)\n",
            "2025-04-10 18:05:07,905 Skipping sequence_2172 (already done)\n",
            "2025-04-10 18:05:07,906 Skipping sequence_2173 (already done)\n",
            "2025-04-10 18:05:07,906 Skipping sequence_2174 (already done)\n",
            "2025-04-10 18:05:07,906 Skipping sequence_2175 (already done)\n",
            "2025-04-10 18:05:07,907 Skipping sequence_2176 (already done)\n",
            "2025-04-10 18:05:07,907 Skipping sequence_2177 (already done)\n",
            "2025-04-10 18:05:07,907 Skipping sequence_2178 (already done)\n",
            "2025-04-10 18:05:07,908 Skipping sequence_2179 (already done)\n",
            "2025-04-10 18:05:07,908 Skipping sequence_2180 (already done)\n",
            "2025-04-10 18:05:07,908 Skipping sequence_2181 (already done)\n",
            "2025-04-10 18:05:07,909 Skipping sequence_2182 (already done)\n",
            "2025-04-10 18:05:07,909 Skipping sequence_2183 (already done)\n",
            "2025-04-10 18:05:07,909 Skipping sequence_2184 (already done)\n",
            "2025-04-10 18:05:07,909 Skipping sequence_2185 (already done)\n",
            "2025-04-10 18:05:07,910 Skipping sequence_2186 (already done)\n",
            "2025-04-10 18:05:07,910 Skipping sequence_2187 (already done)\n",
            "2025-04-10 18:05:07,911 Skipping sequence_2188 (already done)\n",
            "2025-04-10 18:05:07,911 Skipping sequence_2189 (already done)\n",
            "2025-04-10 18:05:07,911 Skipping sequence_2190 (already done)\n",
            "2025-04-10 18:05:07,912 Skipping sequence_2191 (already done)\n",
            "2025-04-10 18:05:07,912 Skipping sequence_2192 (already done)\n",
            "2025-04-10 18:05:07,912 Skipping sequence_2193 (already done)\n",
            "2025-04-10 18:05:07,913 Skipping sequence_2194 (already done)\n",
            "2025-04-10 18:05:07,913 Skipping sequence_2195 (already done)\n",
            "2025-04-10 18:05:07,913 Skipping sequence_2196 (already done)\n",
            "2025-04-10 18:05:07,914 Skipping sequence_2197 (already done)\n",
            "2025-04-10 18:05:07,914 Skipping sequence_2198 (already done)\n",
            "2025-04-10 18:05:07,914 Skipping sequence_2199 (already done)\n",
            "2025-04-10 18:05:07,915 Skipping sequence_2200 (already done)\n",
            "2025-04-10 18:05:07,915 Skipping sequence_2201 (already done)\n",
            "2025-04-10 18:05:07,915 Skipping sequence_2202 (already done)\n",
            "2025-04-10 18:05:07,916 Skipping sequence_2203 (already done)\n",
            "2025-04-10 18:05:07,916 Skipping sequence_2204 (already done)\n",
            "2025-04-10 18:05:07,916 Skipping sequence_2205 (already done)\n",
            "2025-04-10 18:05:07,917 Skipping sequence_2206 (already done)\n",
            "2025-04-10 18:05:07,917 Skipping sequence_2207 (already done)\n",
            "2025-04-10 18:05:07,918 Skipping sequence_2208 (already done)\n",
            "2025-04-10 18:05:07,918 Skipping sequence_2209 (already done)\n",
            "2025-04-10 18:05:07,919 Skipping sequence_2210 (already done)\n",
            "2025-04-10 18:05:07,919 Skipping sequence_2211 (already done)\n",
            "2025-04-10 18:05:07,919 Skipping sequence_2212 (already done)\n",
            "2025-04-10 18:05:07,920 Skipping sequence_2213 (already done)\n",
            "2025-04-10 18:05:07,920 Skipping sequence_2214 (already done)\n",
            "2025-04-10 18:05:07,921 Skipping sequence_2215 (already done)\n",
            "2025-04-10 18:05:07,921 Skipping sequence_2216 (already done)\n",
            "2025-04-10 18:05:07,921 Skipping sequence_2217 (already done)\n",
            "2025-04-10 18:05:07,922 Skipping sequence_2218 (already done)\n",
            "2025-04-10 18:05:07,922 Skipping sequence_2219 (already done)\n",
            "2025-04-10 18:05:07,922 Skipping sequence_2220 (already done)\n",
            "2025-04-10 18:05:07,923 Skipping sequence_2221 (already done)\n",
            "2025-04-10 18:05:07,923 Skipping sequence_2222 (already done)\n",
            "2025-04-10 18:05:07,924 Skipping sequence_2223 (already done)\n",
            "2025-04-10 18:05:07,924 Skipping sequence_2224 (already done)\n",
            "2025-04-10 18:05:07,924 Skipping sequence_2225 (already done)\n",
            "2025-04-10 18:05:07,925 Skipping sequence_2226 (already done)\n",
            "2025-04-10 18:05:07,925 Skipping sequence_2227 (already done)\n",
            "2025-04-10 18:05:07,926 Skipping sequence_2228 (already done)\n",
            "2025-04-10 18:05:07,926 Skipping sequence_2229 (already done)\n",
            "2025-04-10 18:05:07,926 Skipping sequence_2230 (already done)\n",
            "2025-04-10 18:05:07,927 Skipping sequence_2231 (already done)\n",
            "2025-04-10 18:05:07,927 Skipping sequence_2232 (already done)\n",
            "2025-04-10 18:05:07,928 Skipping sequence_2233 (already done)\n",
            "2025-04-10 18:05:07,929 Skipping sequence_2234 (already done)\n",
            "2025-04-10 18:05:07,929 Skipping sequence_2235 (already done)\n",
            "2025-04-10 18:05:07,929 Skipping sequence_2236 (already done)\n",
            "2025-04-10 18:05:07,930 Skipping sequence_2237 (already done)\n",
            "2025-04-10 18:05:07,930 Skipping sequence_2238 (already done)\n",
            "2025-04-10 18:05:07,931 Skipping sequence_2239 (already done)\n",
            "2025-04-10 18:05:07,931 Skipping sequence_2240 (already done)\n",
            "2025-04-10 18:05:07,932 Skipping sequence_2241 (already done)\n",
            "2025-04-10 18:05:07,932 Skipping sequence_2242 (already done)\n",
            "2025-04-10 18:05:07,933 Skipping sequence_2243 (already done)\n",
            "2025-04-10 18:05:07,933 Skipping sequence_2244 (already done)\n",
            "2025-04-10 18:05:07,934 Skipping sequence_2245 (already done)\n",
            "2025-04-10 18:05:07,934 Skipping sequence_2246 (already done)\n",
            "2025-04-10 18:05:07,935 Skipping sequence_2247 (already done)\n",
            "2025-04-10 18:05:07,935 Skipping sequence_2248 (already done)\n",
            "2025-04-10 18:05:07,936 Skipping sequence_2249 (already done)\n",
            "2025-04-10 18:05:07,936 Skipping sequence_2250 (already done)\n",
            "2025-04-10 18:05:07,936 Skipping sequence_2251 (already done)\n",
            "2025-04-10 18:05:07,937 Skipping sequence_2252 (already done)\n",
            "2025-04-10 18:05:07,937 Skipping sequence_2253 (already done)\n",
            "2025-04-10 18:05:07,938 Skipping sequence_2254 (already done)\n",
            "2025-04-10 18:05:07,938 Skipping sequence_2255 (already done)\n",
            "2025-04-10 18:05:07,939 Skipping sequence_2256 (already done)\n",
            "2025-04-10 18:05:07,939 Skipping sequence_2257 (already done)\n",
            "2025-04-10 18:05:07,940 Skipping sequence_2258 (already done)\n",
            "2025-04-10 18:05:07,940 Skipping sequence_2259 (already done)\n",
            "2025-04-10 18:05:07,941 Skipping sequence_2260 (already done)\n",
            "2025-04-10 18:05:07,941 Skipping sequence_2261 (already done)\n",
            "2025-04-10 18:05:07,941 Skipping sequence_2262 (already done)\n",
            "2025-04-10 18:05:07,942 Skipping sequence_2263 (already done)\n",
            "2025-04-10 18:05:07,942 Skipping sequence_2264 (already done)\n",
            "2025-04-10 18:05:07,943 Skipping sequence_2265 (already done)\n",
            "2025-04-10 18:05:07,943 Skipping sequence_2266 (already done)\n",
            "2025-04-10 18:05:07,944 Skipping sequence_2267 (already done)\n",
            "2025-04-10 18:05:07,944 Skipping sequence_2268 (already done)\n",
            "2025-04-10 18:05:07,944 Skipping sequence_2269 (already done)\n",
            "2025-04-10 18:05:07,945 Skipping sequence_2270 (already done)\n",
            "2025-04-10 18:05:07,945 Skipping sequence_2271 (already done)\n",
            "2025-04-10 18:05:07,945 Skipping sequence_2272 (already done)\n",
            "2025-04-10 18:05:07,946 Skipping sequence_2273 (already done)\n",
            "2025-04-10 18:05:07,946 Skipping sequence_2274 (already done)\n",
            "2025-04-10 18:05:07,946 Skipping sequence_2275 (already done)\n",
            "2025-04-10 18:05:07,947 Skipping sequence_2276 (already done)\n",
            "2025-04-10 18:05:07,947 Skipping sequence_2277 (already done)\n",
            "2025-04-10 18:05:07,947 Skipping sequence_2278 (already done)\n",
            "2025-04-10 18:05:07,948 Skipping sequence_2279 (already done)\n",
            "2025-04-10 18:05:07,948 Skipping sequence_2280 (already done)\n",
            "2025-04-10 18:05:07,948 Skipping sequence_2281 (already done)\n",
            "2025-04-10 18:05:07,949 Skipping sequence_2282 (already done)\n",
            "2025-04-10 18:05:07,949 Skipping sequence_2283 (already done)\n",
            "2025-04-10 18:05:07,949 Skipping sequence_2284 (already done)\n",
            "2025-04-10 18:05:07,950 Skipping sequence_2285 (already done)\n",
            "2025-04-10 18:05:07,950 Skipping sequence_2286 (already done)\n",
            "2025-04-10 18:05:07,950 Skipping sequence_2287 (already done)\n",
            "2025-04-10 18:05:07,951 Skipping sequence_2288 (already done)\n",
            "2025-04-10 18:05:07,951 Skipping sequence_2289 (already done)\n",
            "2025-04-10 18:05:07,951 Skipping sequence_2290 (already done)\n",
            "2025-04-10 18:05:07,952 Skipping sequence_2291 (already done)\n",
            "2025-04-10 18:05:07,952 Skipping sequence_2292 (already done)\n",
            "2025-04-10 18:05:07,952 Skipping sequence_2293 (already done)\n",
            "2025-04-10 18:05:07,953 Skipping sequence_2294 (already done)\n",
            "2025-04-10 18:05:07,953 Skipping sequence_2295 (already done)\n",
            "2025-04-10 18:05:07,954 Skipping sequence_2296 (already done)\n",
            "2025-04-10 18:05:07,954 Skipping sequence_2297 (already done)\n",
            "2025-04-10 18:05:07,955 Skipping sequence_2298 (already done)\n",
            "2025-04-10 18:05:07,955 Skipping sequence_2299 (already done)\n",
            "2025-04-10 18:05:07,955 Skipping sequence_2300 (already done)\n",
            "2025-04-10 18:05:07,956 Skipping sequence_2301 (already done)\n",
            "2025-04-10 18:05:07,956 Skipping sequence_2302 (already done)\n",
            "2025-04-10 18:05:07,956 Skipping sequence_2303 (already done)\n",
            "2025-04-10 18:05:07,957 Skipping sequence_2304 (already done)\n",
            "2025-04-10 18:05:07,957 Skipping sequence_2305 (already done)\n",
            "2025-04-10 18:05:07,957 Skipping sequence_2306 (already done)\n",
            "2025-04-10 18:05:07,958 Skipping sequence_2307 (already done)\n",
            "2025-04-10 18:05:07,958 Skipping sequence_2308 (already done)\n",
            "2025-04-10 18:05:07,958 Skipping sequence_2309 (already done)\n",
            "2025-04-10 18:05:07,959 Skipping sequence_2310 (already done)\n",
            "2025-04-10 18:05:07,959 Skipping sequence_2311 (already done)\n",
            "2025-04-10 18:05:07,960 Skipping sequence_2312 (already done)\n",
            "2025-04-10 18:05:07,960 Skipping sequence_2313 (already done)\n",
            "2025-04-10 18:05:07,960 Skipping sequence_2314 (already done)\n",
            "2025-04-10 18:05:07,961 Skipping sequence_2315 (already done)\n",
            "2025-04-10 18:05:07,961 Skipping sequence_2316 (already done)\n",
            "2025-04-10 18:05:07,961 Skipping sequence_2317 (already done)\n",
            "2025-04-10 18:05:07,962 Skipping sequence_2318 (already done)\n",
            "2025-04-10 18:05:07,962 Skipping sequence_2319 (already done)\n",
            "2025-04-10 18:05:07,963 Skipping sequence_2320 (already done)\n",
            "2025-04-10 18:05:07,963 Skipping sequence_2321 (already done)\n",
            "2025-04-10 18:05:07,963 Skipping sequence_2322 (already done)\n",
            "2025-04-10 18:05:07,964 Skipping sequence_2323 (already done)\n",
            "2025-04-10 18:05:07,964 Skipping sequence_2324 (already done)\n",
            "2025-04-10 18:05:07,965 Skipping sequence_2325 (already done)\n",
            "2025-04-10 18:05:07,965 Skipping sequence_2326 (already done)\n",
            "2025-04-10 18:05:07,965 Skipping sequence_2327 (already done)\n",
            "2025-04-10 18:05:07,966 Skipping sequence_2328 (already done)\n",
            "2025-04-10 18:05:07,969 Skipping sequence_2329 (already done)\n",
            "2025-04-10 18:05:07,969 Skipping sequence_2330 (already done)\n",
            "2025-04-10 18:05:07,970 Skipping sequence_2331 (already done)\n",
            "2025-04-10 18:05:07,970 Skipping sequence_2332 (already done)\n",
            "2025-04-10 18:05:07,970 Skipping sequence_2333 (already done)\n",
            "2025-04-10 18:05:07,971 Skipping sequence_2334 (already done)\n",
            "2025-04-10 18:05:07,971 Skipping sequence_2335 (already done)\n",
            "2025-04-10 18:05:07,971 Skipping sequence_2336 (already done)\n",
            "2025-04-10 18:05:07,972 Skipping sequence_2337 (already done)\n",
            "2025-04-10 18:05:07,972 Skipping sequence_2338 (already done)\n",
            "2025-04-10 18:05:07,972 Skipping sequence_2339 (already done)\n",
            "2025-04-10 18:05:07,973 Skipping sequence_2340 (already done)\n",
            "2025-04-10 18:05:07,973 Skipping sequence_2341 (already done)\n",
            "2025-04-10 18:05:07,973 Skipping sequence_2342 (already done)\n",
            "2025-04-10 18:05:07,974 Skipping sequence_2343 (already done)\n",
            "2025-04-10 18:05:07,974 Skipping sequence_2344 (already done)\n",
            "2025-04-10 18:05:07,975 Skipping sequence_2345 (already done)\n",
            "2025-04-10 18:05:07,975 Skipping sequence_2346 (already done)\n",
            "2025-04-10 18:05:07,975 Skipping sequence_2347 (already done)\n",
            "2025-04-10 18:05:07,976 Skipping sequence_2348 (already done)\n",
            "2025-04-10 18:05:07,976 Skipping sequence_2349 (already done)\n",
            "2025-04-10 18:05:07,977 Skipping sequence_2350 (already done)\n",
            "2025-04-10 18:05:07,977 Skipping sequence_2351 (already done)\n",
            "2025-04-10 18:05:07,977 Skipping sequence_2352 (already done)\n",
            "2025-04-10 18:05:07,978 Skipping sequence_2353 (already done)\n",
            "2025-04-10 18:05:07,978 Skipping sequence_2354 (already done)\n",
            "2025-04-10 18:05:07,978 Skipping sequence_2355 (already done)\n",
            "2025-04-10 18:05:07,979 Skipping sequence_2356 (already done)\n",
            "2025-04-10 18:05:07,979 Skipping sequence_2357 (already done)\n",
            "2025-04-10 18:05:07,979 Skipping sequence_2358 (already done)\n",
            "2025-04-10 18:05:07,980 Skipping sequence_2359 (already done)\n",
            "2025-04-10 18:05:07,980 Skipping sequence_2360 (already done)\n",
            "2025-04-10 18:05:07,981 Skipping sequence_2361 (already done)\n",
            "2025-04-10 18:05:07,981 Skipping sequence_2362 (already done)\n",
            "2025-04-10 18:05:07,981 Skipping sequence_2363 (already done)\n",
            "2025-04-10 18:05:07,982 Skipping sequence_2364 (already done)\n",
            "2025-04-10 18:05:07,982 Skipping sequence_2365 (already done)\n",
            "2025-04-10 18:05:07,982 Skipping sequence_2366 (already done)\n",
            "2025-04-10 18:05:07,982 Skipping sequence_2367 (already done)\n",
            "2025-04-10 18:05:07,983 Skipping sequence_2368 (already done)\n",
            "2025-04-10 18:05:07,983 Skipping sequence_2369 (already done)\n",
            "2025-04-10 18:05:07,983 Skipping sequence_2370 (already done)\n",
            "2025-04-10 18:05:07,984 Skipping sequence_2371 (already done)\n",
            "2025-04-10 18:05:07,984 Skipping sequence_2372 (already done)\n",
            "2025-04-10 18:05:07,984 Skipping sequence_2373 (already done)\n",
            "2025-04-10 18:05:07,985 Skipping sequence_2374 (already done)\n",
            "2025-04-10 18:05:07,985 Skipping sequence_2375 (already done)\n",
            "2025-04-10 18:05:07,985 Skipping sequence_2376 (already done)\n",
            "2025-04-10 18:05:07,986 Skipping sequence_2377 (already done)\n",
            "2025-04-10 18:05:07,986 Skipping sequence_2378 (already done)\n",
            "2025-04-10 18:05:07,986 Skipping sequence_2379 (already done)\n",
            "2025-04-10 18:05:07,986 Skipping sequence_2380 (already done)\n",
            "2025-04-10 18:05:07,987 Skipping sequence_2381 (already done)\n",
            "2025-04-10 18:05:07,987 Skipping sequence_2382 (already done)\n",
            "2025-04-10 18:05:07,988 Skipping sequence_2383 (already done)\n",
            "2025-04-10 18:05:07,988 Skipping sequence_2384 (already done)\n",
            "2025-04-10 18:05:07,989 Skipping sequence_2385 (already done)\n",
            "2025-04-10 18:05:07,989 Skipping sequence_2386 (already done)\n",
            "2025-04-10 18:05:07,989 Skipping sequence_2387 (already done)\n",
            "2025-04-10 18:05:07,990 Skipping sequence_2388 (already done)\n",
            "2025-04-10 18:05:07,990 Skipping sequence_2389 (already done)\n",
            "2025-04-10 18:05:07,991 Skipping sequence_2390 (already done)\n",
            "2025-04-10 18:05:07,991 Skipping sequence_2391 (already done)\n",
            "2025-04-10 18:05:07,991 Skipping sequence_2392 (already done)\n",
            "2025-04-10 18:05:07,992 Skipping sequence_2393 (already done)\n",
            "2025-04-10 18:05:07,992 Skipping sequence_2394 (already done)\n",
            "2025-04-10 18:05:07,992 Skipping sequence_2395 (already done)\n",
            "2025-04-10 18:05:07,993 Skipping sequence_2396 (already done)\n",
            "2025-04-10 18:05:07,993 Skipping sequence_2397 (already done)\n",
            "2025-04-10 18:05:07,993 Skipping sequence_2398 (already done)\n",
            "2025-04-10 18:05:07,994 Skipping sequence_2399 (already done)\n",
            "2025-04-10 18:05:07,994 Skipping sequence_2400 (already done)\n",
            "2025-04-10 18:05:07,994 Skipping sequence_2401 (already done)\n",
            "2025-04-10 18:05:07,995 Skipping sequence_2402 (already done)\n",
            "2025-04-10 18:05:07,995 Skipping sequence_2403 (already done)\n",
            "2025-04-10 18:05:07,995 Skipping sequence_2404 (already done)\n",
            "2025-04-10 18:05:07,996 Skipping sequence_2405 (already done)\n",
            "2025-04-10 18:05:07,996 Skipping sequence_2406 (already done)\n",
            "2025-04-10 18:05:07,997 Skipping sequence_2407 (already done)\n",
            "2025-04-10 18:05:07,997 Skipping sequence_2408 (already done)\n",
            "2025-04-10 18:05:07,997 Skipping sequence_2409 (already done)\n",
            "2025-04-10 18:05:07,997 Skipping sequence_2410 (already done)\n",
            "2025-04-10 18:05:07,998 Skipping sequence_2411 (already done)\n",
            "2025-04-10 18:05:07,998 Skipping sequence_2412 (already done)\n",
            "2025-04-10 18:05:07,998 Skipping sequence_2413 (already done)\n",
            "2025-04-10 18:05:07,999 Skipping sequence_2414 (already done)\n",
            "2025-04-10 18:05:07,999 Skipping sequence_2415 (already done)\n",
            "2025-04-10 18:05:07,999 Skipping sequence_2416 (already done)\n",
            "2025-04-10 18:05:08,000 Skipping sequence_2417 (already done)\n",
            "2025-04-10 18:05:08,000 Skipping sequence_2418 (already done)\n",
            "2025-04-10 18:05:08,000 Skipping sequence_2419 (already done)\n",
            "2025-04-10 18:05:08,001 Skipping sequence_2420 (already done)\n",
            "2025-04-10 18:05:08,001 Skipping sequence_2421 (already done)\n",
            "2025-04-10 18:05:08,001 Skipping sequence_2422 (already done)\n",
            "2025-04-10 18:05:08,002 Skipping sequence_2423 (already done)\n",
            "2025-04-10 18:05:08,002 Skipping sequence_2424 (already done)\n",
            "2025-04-10 18:05:08,002 Skipping sequence_2425 (already done)\n",
            "2025-04-10 18:05:08,003 Skipping sequence_2426 (already done)\n",
            "2025-04-10 18:05:08,003 Skipping sequence_2427 (already done)\n",
            "2025-04-10 18:05:08,003 Skipping sequence_2428 (already done)\n",
            "2025-04-10 18:05:08,003 Skipping sequence_2429 (already done)\n",
            "2025-04-10 18:05:08,004 Skipping sequence_2430 (already done)\n",
            "2025-04-10 18:05:08,004 Skipping sequence_2431 (already done)\n",
            "2025-04-10 18:05:08,004 Skipping sequence_2432 (already done)\n",
            "2025-04-10 18:05:08,005 Skipping sequence_2433 (already done)\n",
            "2025-04-10 18:05:08,005 Skipping sequence_2434 (already done)\n",
            "2025-04-10 18:05:08,005 Skipping sequence_2435 (already done)\n",
            "2025-04-10 18:05:08,005 Query 436/8000: sequence_2436 (length 20)\n",
            "2025-04-10 18:06:06,075 alphafold2_ptm_model_1_seed_000 recycle=0 pLDDT=70.8 pTM=0.0665\n",
            "2025-04-10 18:06:06,614 alphafold2_ptm_model_1_seed_000 recycle=1 pLDDT=69.4 pTM=0.0667 tol=0.0991\n",
            "2025-04-10 18:06:07,154 alphafold2_ptm_model_1_seed_000 recycle=2 pLDDT=71 pTM=0.0669 tol=0.178\n",
            "2025-04-10 18:06:07,693 alphafold2_ptm_model_1_seed_000 recycle=3 pLDDT=67.6 pTM=0.063 tol=0.278\n",
            "2025-04-10 18:06:07,694 alphafold2_ptm_model_1_seed_000 took 44.9s (3 recycles)\n",
            "2025-04-10 18:06:08,248 alphafold2_ptm_model_2_seed_000 recycle=0 pLDDT=52.7 pTM=0.0455\n",
            "2025-04-10 18:06:08,787 alphafold2_ptm_model_2_seed_000 recycle=1 pLDDT=51.8 pTM=0.045 tol=1.25\n",
            "2025-04-10 18:06:09,326 alphafold2_ptm_model_2_seed_000 recycle=2 pLDDT=54.2 pTM=0.0448 tol=1.06\n",
            "2025-04-10 18:06:09,865 alphafold2_ptm_model_2_seed_000 recycle=3 pLDDT=53 pTM=0.0438 tol=1.18\n",
            "2025-04-10 18:06:09,866 alphafold2_ptm_model_2_seed_000 took 2.2s (3 recycles)\n",
            "2025-04-10 18:06:10,416 alphafold2_ptm_model_3_seed_000 recycle=0 pLDDT=57.5 pTM=0.053\n",
            "2025-04-10 18:06:10,956 alphafold2_ptm_model_3_seed_000 recycle=1 pLDDT=64.6 pTM=0.0588 tol=0.725\n",
            "2025-04-10 18:06:11,497 alphafold2_ptm_model_3_seed_000 recycle=2 pLDDT=64.4 pTM=0.0568 tol=0.219\n",
            "2025-04-10 18:06:12,036 alphafold2_ptm_model_3_seed_000 recycle=3 pLDDT=64.4 pTM=0.0565 tol=0.174\n",
            "2025-04-10 18:06:12,037 alphafold2_ptm_model_3_seed_000 took 2.2s (3 recycles)\n",
            "2025-04-10 18:06:12,592 alphafold2_ptm_model_4_seed_000 recycle=0 pLDDT=60.5 pTM=0.0607\n",
            "2025-04-10 18:06:13,131 alphafold2_ptm_model_4_seed_000 recycle=1 pLDDT=60.8 pTM=0.0567 tol=0.914\n",
            "2025-04-10 18:06:13,670 alphafold2_ptm_model_4_seed_000 recycle=2 pLDDT=63 pTM=0.0554 tol=0.227\n",
            "2025-04-10 18:06:14,210 alphafold2_ptm_model_4_seed_000 recycle=3 pLDDT=61.1 pTM=0.0538 tol=0.18\n",
            "2025-04-10 18:06:14,211 alphafold2_ptm_model_4_seed_000 took 2.2s (3 recycles)\n",
            "2025-04-10 18:06:14,761 alphafold2_ptm_model_5_seed_000 recycle=0 pLDDT=81.3 pTM=0.086\n",
            "2025-04-10 18:06:15,301 alphafold2_ptm_model_5_seed_000 recycle=1 pLDDT=69.4 pTM=0.0703 tol=2.66\n",
            "2025-04-10 18:06:15,841 alphafold2_ptm_model_5_seed_000 recycle=2 pLDDT=61.8 pTM=0.0579 tol=0.46\n",
            "2025-04-10 18:06:16,381 alphafold2_ptm_model_5_seed_000 recycle=3 pLDDT=57.2 pTM=0.0516 tol=1.13\n",
            "2025-04-10 18:06:16,381 alphafold2_ptm_model_5_seed_000 took 2.2s (3 recycles)\n",
            "2025-04-10 18:06:16,391 reranking models by 'plddt' metric\n",
            "2025-04-10 18:06:16,392 rank_001_alphafold2_ptm_model_1_seed_000 pLDDT=67.6 pTM=0.063\n",
            "2025-04-10 18:06:16,397 rank_002_alphafold2_ptm_model_3_seed_000 pLDDT=64.4 pTM=0.0565\n",
            "2025-04-10 18:06:16,403 rank_003_alphafold2_ptm_model_4_seed_000 pLDDT=61.1 pTM=0.0538\n",
            "2025-04-10 18:06:16,408 rank_004_alphafold2_ptm_model_5_seed_000 pLDDT=57.2 pTM=0.0516\n",
            "2025-04-10 18:06:16,413 rank_005_alphafold2_ptm_model_2_seed_000 pLDDT=53 pTM=0.0438\n",
            "2025-04-10 18:06:19,299 Query 437/8000: sequence_2437 (length 20)\n"
          ]
        },
        {
          "output_type": "stream",
          "name": "stderr",
          "text": [
            "PENDING:   0%|          | 0/150 [elapsed: 00:00 remaining: ?]"
          ]
        },
        {
          "output_type": "stream",
          "name": "stdout",
          "text": [
            "2025-04-10 18:06:19,999 Sleeping for 8s. Reason: PENDING\n"
          ]
        },
        {
          "output_type": "stream",
          "name": "stderr",
          "text": [
            "COMPLETE: 100%|██████████| 150/150 [elapsed: 00:10 remaining: 00:00]\n"
          ]
        },
        {
          "output_type": "stream",
          "name": "stdout",
          "text": [
            "2025-04-10 18:06:31,646 alphafold2_ptm_model_1_seed_000 recycle=0 pLDDT=82.8 pTM=0.0793\n",
            "2025-04-10 18:06:32,186 alphafold2_ptm_model_1_seed_000 recycle=1 pLDDT=84 pTM=0.0831 tol=0.447\n",
            "2025-04-10 18:06:32,726 alphafold2_ptm_model_1_seed_000 recycle=2 pLDDT=83.6 pTM=0.0821 tol=0.13\n",
            "2025-04-10 18:06:33,266 alphafold2_ptm_model_1_seed_000 recycle=3 pLDDT=83.4 pTM=0.0821 tol=0.0797\n",
            "2025-04-10 18:06:33,267 alphafold2_ptm_model_1_seed_000 took 2.2s (3 recycles)\n",
            "2025-04-10 18:06:33,836 alphafold2_ptm_model_2_seed_000 recycle=0 pLDDT=80.5 pTM=0.0744\n",
            "2025-04-10 18:06:34,377 alphafold2_ptm_model_2_seed_000 recycle=1 pLDDT=82.9 pTM=0.0815 tol=0.58\n",
            "2025-04-10 18:06:34,917 alphafold2_ptm_model_2_seed_000 recycle=2 pLDDT=82.1 pTM=0.08 tol=0.107\n",
            "2025-04-10 18:06:35,458 alphafold2_ptm_model_2_seed_000 recycle=3 pLDDT=84.1 pTM=0.0823 tol=0.12\n",
            "2025-04-10 18:06:35,458 alphafold2_ptm_model_2_seed_000 took 2.2s (3 recycles)\n",
            "2025-04-10 18:06:36,007 alphafold2_ptm_model_3_seed_000 recycle=0 pLDDT=88.2 pTM=0.0822\n",
            "2025-04-10 18:06:36,548 alphafold2_ptm_model_3_seed_000 recycle=1 pLDDT=84.8 pTM=0.0793 tol=0.292\n",
            "2025-04-10 18:06:37,087 alphafold2_ptm_model_3_seed_000 recycle=2 pLDDT=84.6 pTM=0.0793 tol=0.0645\n",
            "2025-04-10 18:06:37,628 alphafold2_ptm_model_3_seed_000 recycle=3 pLDDT=85.2 pTM=0.081 tol=0.103\n",
            "2025-04-10 18:06:37,629 alphafold2_ptm_model_3_seed_000 took 2.2s (3 recycles)\n",
            "2025-04-10 18:06:38,178 alphafold2_ptm_model_4_seed_000 recycle=0 pLDDT=87.7 pTM=0.0787\n",
            "2025-04-10 18:06:38,718 alphafold2_ptm_model_4_seed_000 recycle=1 pLDDT=86.4 pTM=0.0812 tol=0.279\n",
            "2025-04-10 18:06:39,258 alphafold2_ptm_model_4_seed_000 recycle=2 pLDDT=86.2 pTM=0.0807 tol=0.213\n",
            "2025-04-10 18:06:39,798 alphafold2_ptm_model_4_seed_000 recycle=3 pLDDT=86.5 pTM=0.0813 tol=0.0671\n",
            "2025-04-10 18:06:39,799 alphafold2_ptm_model_4_seed_000 took 2.2s (3 recycles)\n",
            "2025-04-10 18:06:40,348 alphafold2_ptm_model_5_seed_000 recycle=0 pLDDT=88.7 pTM=0.0891\n",
            "2025-04-10 18:06:40,888 alphafold2_ptm_model_5_seed_000 recycle=1 pLDDT=87.2 pTM=0.0848 tol=0.238\n",
            "2025-04-10 18:06:41,429 alphafold2_ptm_model_5_seed_000 recycle=2 pLDDT=86.7 pTM=0.0859 tol=0.0861\n",
            "2025-04-10 18:06:41,969 alphafold2_ptm_model_5_seed_000 recycle=3 pLDDT=86.9 pTM=0.0862 tol=0.0765\n",
            "2025-04-10 18:06:41,970 alphafold2_ptm_model_5_seed_000 took 2.2s (3 recycles)\n",
            "2025-04-10 18:06:41,982 reranking models by 'plddt' metric\n",
            "2025-04-10 18:06:41,982 rank_001_alphafold2_ptm_model_5_seed_000 pLDDT=86.9 pTM=0.0862\n",
            "2025-04-10 18:06:41,985 rank_002_alphafold2_ptm_model_4_seed_000 pLDDT=86.5 pTM=0.0813\n",
            "2025-04-10 18:06:41,987 rank_003_alphafold2_ptm_model_3_seed_000 pLDDT=85.2 pTM=0.081\n",
            "2025-04-10 18:06:41,990 rank_004_alphafold2_ptm_model_2_seed_000 pLDDT=84.1 pTM=0.0823\n",
            "2025-04-10 18:06:41,992 rank_005_alphafold2_ptm_model_1_seed_000 pLDDT=83.4 pTM=0.0821\n",
            "2025-04-10 18:06:43,013 Query 438/8000: sequence_2438 (length 20)\n"
          ]
        },
        {
          "output_type": "stream",
          "name": "stderr",
          "text": [
            "PENDING:   0%|          | 0/150 [elapsed: 00:00 remaining: ?]"
          ]
        },
        {
          "output_type": "stream",
          "name": "stdout",
          "text": [
            "2025-04-10 18:06:43,701 Sleeping for 6s. Reason: PENDING\n"
          ]
        },
        {
          "output_type": "stream",
          "name": "stderr",
          "text": [
            "RUNNING:   4%|▍         | 6/150 [elapsed: 00:07 remaining: 02:56]"
          ]
        },
        {
          "output_type": "stream",
          "name": "stdout",
          "text": [
            "2025-04-10 18:06:50,381 Sleeping for 10s. Reason: RUNNING\n"
          ]
        },
        {
          "output_type": "stream",
          "name": "stderr",
          "text": [
            "COMPLETE: 100%|██████████| 150/150 [elapsed: 00:18 remaining: 00:00]\n"
          ]
        },
        {
          "output_type": "stream",
          "name": "stdout",
          "text": [
            "2025-04-10 18:07:04,337 alphafold2_ptm_model_1_seed_000 recycle=0 pLDDT=77.7 pTM=0.0936\n",
            "2025-04-10 18:07:04,877 alphafold2_ptm_model_1_seed_000 recycle=1 pLDDT=74.9 pTM=0.0893 tol=0.67\n",
            "2025-04-10 18:07:05,417 alphafold2_ptm_model_1_seed_000 recycle=2 pLDDT=77.2 pTM=0.0906 tol=0.384\n",
            "2025-04-10 18:07:05,958 alphafold2_ptm_model_1_seed_000 recycle=3 pLDDT=77.4 pTM=0.0908 tol=0.233\n",
            "2025-04-10 18:07:05,958 alphafold2_ptm_model_1_seed_000 took 2.2s (3 recycles)\n",
            "2025-04-10 18:07:06,511 alphafold2_ptm_model_2_seed_000 recycle=0 pLDDT=80 pTM=0.1\n",
            "2025-04-10 18:07:07,050 alphafold2_ptm_model_2_seed_000 recycle=1 pLDDT=74.6 pTM=0.0939 tol=0.151\n",
            "2025-04-10 18:07:07,591 alphafold2_ptm_model_2_seed_000 recycle=2 pLDDT=75.3 pTM=0.0925 tol=0.23\n",
            "2025-04-10 18:07:08,130 alphafold2_ptm_model_2_seed_000 recycle=3 pLDDT=75.4 pTM=0.094 tol=0.134\n",
            "2025-04-10 18:07:08,130 alphafold2_ptm_model_2_seed_000 took 2.2s (3 recycles)\n",
            "2025-04-10 18:07:08,680 alphafold2_ptm_model_3_seed_000 recycle=0 pLDDT=80.3 pTM=0.0938\n",
            "2025-04-10 18:07:09,220 alphafold2_ptm_model_3_seed_000 recycle=1 pLDDT=80.2 pTM=0.0928 tol=0.277\n",
            "2025-04-10 18:07:09,760 alphafold2_ptm_model_3_seed_000 recycle=2 pLDDT=80.5 pTM=0.0932 tol=0.232\n",
            "2025-04-10 18:07:10,300 alphafold2_ptm_model_3_seed_000 recycle=3 pLDDT=80.2 pTM=0.0931 tol=0.124\n",
            "2025-04-10 18:07:10,301 alphafold2_ptm_model_3_seed_000 took 2.2s (3 recycles)\n",
            "2025-04-10 18:07:10,851 alphafold2_ptm_model_4_seed_000 recycle=0 pLDDT=83.2 pTM=0.0992\n",
            "2025-04-10 18:07:11,392 alphafold2_ptm_model_4_seed_000 recycle=1 pLDDT=82.8 pTM=0.0993 tol=0.186\n",
            "2025-04-10 18:07:11,932 alphafold2_ptm_model_4_seed_000 recycle=2 pLDDT=81.9 pTM=0.0978 tol=0.135\n",
            "2025-04-10 18:07:12,472 alphafold2_ptm_model_4_seed_000 recycle=3 pLDDT=82.1 pTM=0.0981 tol=0.237\n",
            "2025-04-10 18:07:12,473 alphafold2_ptm_model_4_seed_000 took 2.2s (3 recycles)\n",
            "2025-04-10 18:07:13,025 alphafold2_ptm_model_5_seed_000 recycle=0 pLDDT=82.6 pTM=0.103\n",
            "2025-04-10 18:07:13,565 alphafold2_ptm_model_5_seed_000 recycle=1 pLDDT=79.6 pTM=0.0999 tol=0.296\n",
            "2025-04-10 18:07:14,105 alphafold2_ptm_model_5_seed_000 recycle=2 pLDDT=80 pTM=0.1 tol=0.0988\n",
            "2025-04-10 18:07:14,645 alphafold2_ptm_model_5_seed_000 recycle=3 pLDDT=77.1 pTM=0.0999 tol=0.504\n",
            "2025-04-10 18:07:14,646 alphafold2_ptm_model_5_seed_000 took 2.2s (3 recycles)\n",
            "2025-04-10 18:07:14,655 reranking models by 'plddt' metric\n",
            "2025-04-10 18:07:14,656 rank_001_alphafold2_ptm_model_4_seed_000 pLDDT=82.1 pTM=0.0981\n",
            "2025-04-10 18:07:14,658 rank_002_alphafold2_ptm_model_3_seed_000 pLDDT=80.2 pTM=0.0931\n",
            "2025-04-10 18:07:14,661 rank_003_alphafold2_ptm_model_1_seed_000 pLDDT=77.4 pTM=0.0908\n",
            "2025-04-10 18:07:14,663 rank_004_alphafold2_ptm_model_5_seed_000 pLDDT=77.1 pTM=0.0999\n",
            "2025-04-10 18:07:14,665 rank_005_alphafold2_ptm_model_2_seed_000 pLDDT=75.4 pTM=0.094\n",
            "2025-04-10 18:07:15,675 Query 439/8000: sequence_2439 (length 20)\n"
          ]
        },
        {
          "output_type": "stream",
          "name": "stderr",
          "text": [
            "PENDING:   0%|          | 0/150 [elapsed: 00:00 remaining: ?]"
          ]
        },
        {
          "output_type": "stream",
          "name": "stdout",
          "text": [
            "2025-04-10 18:07:16,379 Sleeping for 6s. Reason: PENDING\n"
          ]
        },
        {
          "output_type": "stream",
          "name": "stderr",
          "text": [
            "RUNNING:   4%|▍         | 6/150 [elapsed: 00:07 remaining: 02:57]"
          ]
        },
        {
          "output_type": "stream",
          "name": "stdout",
          "text": [
            "2025-04-10 18:07:23,062 Sleeping for 10s. Reason: RUNNING\n"
          ]
        },
        {
          "output_type": "stream",
          "name": "stderr",
          "text": [
            "COMPLETE: 100%|██████████| 150/150 [elapsed: 00:18 remaining: 00:00]\n"
          ]
        },
        {
          "output_type": "stream",
          "name": "stdout",
          "text": [
            "2025-04-10 18:07:36,694 alphafold2_ptm_model_1_seed_000 recycle=0 pLDDT=83.4 pTM=0.0933\n",
            "2025-04-10 18:07:37,234 alphafold2_ptm_model_1_seed_000 recycle=1 pLDDT=79.1 pTM=0.0886 tol=0.119\n",
            "2025-04-10 18:07:37,774 alphafold2_ptm_model_1_seed_000 recycle=2 pLDDT=80.8 pTM=0.0912 tol=0.145\n",
            "2025-04-10 18:07:38,313 alphafold2_ptm_model_1_seed_000 recycle=3 pLDDT=79.5 pTM=0.0878 tol=0.122\n",
            "2025-04-10 18:07:38,314 alphafold2_ptm_model_1_seed_000 took 2.2s (3 recycles)\n",
            "2025-04-10 18:07:38,877 alphafold2_ptm_model_2_seed_000 recycle=0 pLDDT=85.6 pTM=0.0966\n",
            "2025-04-10 18:07:39,417 alphafold2_ptm_model_2_seed_000 recycle=1 pLDDT=78.2 pTM=0.0892 tol=0.131\n",
            "2025-04-10 18:07:39,956 alphafold2_ptm_model_2_seed_000 recycle=2 pLDDT=80.4 pTM=0.0925 tol=0.107\n",
            "2025-04-10 18:07:40,495 alphafold2_ptm_model_2_seed_000 recycle=3 pLDDT=78 pTM=0.0893 tol=0.107\n",
            "2025-04-10 18:07:40,496 alphafold2_ptm_model_2_seed_000 took 2.2s (3 recycles)\n",
            "2025-04-10 18:07:41,045 alphafold2_ptm_model_3_seed_000 recycle=0 pLDDT=80.4 pTM=0.0822\n",
            "2025-04-10 18:07:41,585 alphafold2_ptm_model_3_seed_000 recycle=1 pLDDT=80.2 pTM=0.0871 tol=0.142\n",
            "2025-04-10 18:07:42,125 alphafold2_ptm_model_3_seed_000 recycle=2 pLDDT=79.5 pTM=0.0876 tol=0.148\n",
            "2025-04-10 18:07:42,665 alphafold2_ptm_model_3_seed_000 recycle=3 pLDDT=78.3 pTM=0.0869 tol=0.108\n",
            "2025-04-10 18:07:42,665 alphafold2_ptm_model_3_seed_000 took 2.2s (3 recycles)\n",
            "2025-04-10 18:07:43,215 alphafold2_ptm_model_4_seed_000 recycle=0 pLDDT=89.6 pTM=0.101\n",
            "2025-04-10 18:07:43,755 alphafold2_ptm_model_4_seed_000 recycle=1 pLDDT=86.3 pTM=0.097 tol=0.128\n",
            "2025-04-10 18:07:44,295 alphafold2_ptm_model_4_seed_000 recycle=2 pLDDT=87.3 pTM=0.0989 tol=0.0801\n",
            "2025-04-10 18:07:44,834 alphafold2_ptm_model_4_seed_000 recycle=3 pLDDT=86.1 pTM=0.0976 tol=0.109\n",
            "2025-04-10 18:07:44,835 alphafold2_ptm_model_4_seed_000 took 2.2s (3 recycles)\n",
            "2025-04-10 18:07:45,383 alphafold2_ptm_model_5_seed_000 recycle=0 pLDDT=84.5 pTM=0.0939\n",
            "2025-04-10 18:07:45,923 alphafold2_ptm_model_5_seed_000 recycle=1 pLDDT=81.6 pTM=0.0938 tol=0.134\n",
            "2025-04-10 18:07:46,465 alphafold2_ptm_model_5_seed_000 recycle=2 pLDDT=83.2 pTM=0.0958 tol=0.157\n",
            "2025-04-10 18:07:47,006 alphafold2_ptm_model_5_seed_000 recycle=3 pLDDT=82.4 pTM=0.0952 tol=0.0843\n",
            "2025-04-10 18:07:47,007 alphafold2_ptm_model_5_seed_000 took 2.2s (3 recycles)\n",
            "2025-04-10 18:07:47,016 reranking models by 'plddt' metric\n",
            "2025-04-10 18:07:47,016 rank_001_alphafold2_ptm_model_4_seed_000 pLDDT=86.1 pTM=0.0976\n",
            "2025-04-10 18:07:47,019 rank_002_alphafold2_ptm_model_5_seed_000 pLDDT=82.4 pTM=0.0952\n",
            "2025-04-10 18:07:47,021 rank_003_alphafold2_ptm_model_1_seed_000 pLDDT=79.5 pTM=0.0878\n",
            "2025-04-10 18:07:47,024 rank_004_alphafold2_ptm_model_3_seed_000 pLDDT=78.3 pTM=0.0869\n",
            "2025-04-10 18:07:47,026 rank_005_alphafold2_ptm_model_2_seed_000 pLDDT=78 pTM=0.0893\n",
            "2025-04-10 18:07:48,032 Query 440/8000: sequence_2440 (length 20)\n"
          ]
        },
        {
          "output_type": "stream",
          "name": "stderr",
          "text": [
            "PENDING:   0%|          | 0/150 [elapsed: 00:00 remaining: ?]"
          ]
        },
        {
          "output_type": "stream",
          "name": "stdout",
          "text": [
            "2025-04-10 18:07:48,727 Sleeping for 6s. Reason: PENDING\n"
          ]
        },
        {
          "output_type": "stream",
          "name": "stderr",
          "text": [
            "RUNNING:   4%|▍         | 6/150 [elapsed: 00:07 remaining: 02:56]"
          ]
        },
        {
          "output_type": "stream",
          "name": "stdout",
          "text": [
            "2025-04-10 18:07:55,403 Sleeping for 10s. Reason: RUNNING\n"
          ]
        },
        {
          "output_type": "stream",
          "name": "stderr",
          "text": [
            "COMPLETE: 100%|██████████| 150/150 [elapsed: 00:18 remaining: 00:00]\n"
          ]
        },
        {
          "output_type": "stream",
          "name": "stdout",
          "text": [
            "2025-04-10 18:08:09,026 alphafold2_ptm_model_1_seed_000 recycle=0 pLDDT=86.2 pTM=0.0979\n",
            "2025-04-10 18:08:09,566 alphafold2_ptm_model_1_seed_000 recycle=1 pLDDT=88.3 pTM=0.104 tol=0.313\n",
            "2025-04-10 18:08:10,106 alphafold2_ptm_model_1_seed_000 recycle=2 pLDDT=89 pTM=0.106 tol=0.0615\n",
            "2025-04-10 18:08:10,646 alphafold2_ptm_model_1_seed_000 recycle=3 pLDDT=88.9 pTM=0.105 tol=0.0925\n",
            "2025-04-10 18:08:10,646 alphafold2_ptm_model_1_seed_000 took 2.2s (3 recycles)\n",
            "2025-04-10 18:08:11,213 alphafold2_ptm_model_2_seed_000 recycle=0 pLDDT=87 pTM=0.107\n",
            "2025-04-10 18:08:11,754 alphafold2_ptm_model_2_seed_000 recycle=1 pLDDT=89 pTM=0.113 tol=0.29\n",
            "2025-04-10 18:08:12,293 alphafold2_ptm_model_2_seed_000 recycle=2 pLDDT=89.8 pTM=0.114 tol=0.0601\n",
            "2025-04-10 18:08:12,833 alphafold2_ptm_model_2_seed_000 recycle=3 pLDDT=89.4 pTM=0.114 tol=0.0786\n",
            "2025-04-10 18:08:12,834 alphafold2_ptm_model_2_seed_000 took 2.2s (3 recycles)\n",
            "2025-04-10 18:08:13,383 alphafold2_ptm_model_3_seed_000 recycle=0 pLDDT=88.1 pTM=0.105\n",
            "2025-04-10 18:08:13,923 alphafold2_ptm_model_3_seed_000 recycle=1 pLDDT=89.2 pTM=0.11 tol=0.378\n",
            "2025-04-10 18:08:14,463 alphafold2_ptm_model_3_seed_000 recycle=2 pLDDT=91 pTM=0.114 tol=0.23\n",
            "2025-04-10 18:08:15,003 alphafold2_ptm_model_3_seed_000 recycle=3 pLDDT=90.9 pTM=0.112 tol=0.155\n",
            "2025-04-10 18:08:15,003 alphafold2_ptm_model_3_seed_000 took 2.2s (3 recycles)\n",
            "2025-04-10 18:08:15,555 alphafold2_ptm_model_4_seed_000 recycle=0 pLDDT=90.4 pTM=0.105\n",
            "2025-04-10 18:08:16,095 alphafold2_ptm_model_4_seed_000 recycle=1 pLDDT=91.1 pTM=0.11 tol=0.2\n",
            "2025-04-10 18:08:16,635 alphafold2_ptm_model_4_seed_000 recycle=2 pLDDT=91.7 pTM=0.112 tol=0.0771\n",
            "2025-04-10 18:08:17,175 alphafold2_ptm_model_4_seed_000 recycle=3 pLDDT=92.4 pTM=0.113 tol=0.0799\n",
            "2025-04-10 18:08:17,175 alphafold2_ptm_model_4_seed_000 took 2.2s (3 recycles)\n",
            "2025-04-10 18:08:17,724 alphafold2_ptm_model_5_seed_000 recycle=0 pLDDT=93.2 pTM=0.116\n",
            "2025-04-10 18:08:18,265 alphafold2_ptm_model_5_seed_000 recycle=1 pLDDT=91.8 pTM=0.119 tol=0.166\n",
            "2025-04-10 18:08:18,805 alphafold2_ptm_model_5_seed_000 recycle=2 pLDDT=92.1 pTM=0.119 tol=0.123\n",
            "2025-04-10 18:08:19,345 alphafold2_ptm_model_5_seed_000 recycle=3 pLDDT=91.2 pTM=0.118 tol=0.104\n",
            "2025-04-10 18:08:19,345 alphafold2_ptm_model_5_seed_000 took 2.2s (3 recycles)\n",
            "2025-04-10 18:08:19,355 reranking models by 'plddt' metric\n",
            "2025-04-10 18:08:19,355 rank_001_alphafold2_ptm_model_4_seed_000 pLDDT=92.4 pTM=0.113\n",
            "2025-04-10 18:08:19,358 rank_002_alphafold2_ptm_model_5_seed_000 pLDDT=91.2 pTM=0.118\n",
            "2025-04-10 18:08:19,360 rank_003_alphafold2_ptm_model_3_seed_000 pLDDT=90.9 pTM=0.112\n",
            "2025-04-10 18:08:19,362 rank_004_alphafold2_ptm_model_2_seed_000 pLDDT=89.4 pTM=0.114\n",
            "2025-04-10 18:08:19,365 rank_005_alphafold2_ptm_model_1_seed_000 pLDDT=88.9 pTM=0.105\n",
            "2025-04-10 18:08:20,342 Query 441/8000: sequence_2441 (length 20)\n"
          ]
        },
        {
          "output_type": "stream",
          "name": "stderr",
          "text": [
            "PENDING:   0%|          | 0/150 [elapsed: 00:00 remaining: ?]"
          ]
        },
        {
          "output_type": "stream",
          "name": "stdout",
          "text": [
            "2025-04-10 18:08:21,053 Sleeping for 10s. Reason: PENDING\n"
          ]
        },
        {
          "output_type": "stream",
          "name": "stderr",
          "text": [
            "PENDING:   0%|          | 0/150 [elapsed: 00:11 remaining: ?]"
          ]
        },
        {
          "output_type": "stream",
          "name": "stdout",
          "text": [
            "2025-04-10 18:08:31,740 Sleeping for 10s. Reason: PENDING\n"
          ]
        },
        {
          "output_type": "stream",
          "name": "stderr",
          "text": [
            "PENDING:   0%|          | 0/150 [elapsed: 00:22 remaining: ?]"
          ]
        },
        {
          "output_type": "stream",
          "name": "stdout",
          "text": [
            "2025-04-10 18:08:42,432 Sleeping for 9s. Reason: PENDING\n"
          ]
        },
        {
          "output_type": "stream",
          "name": "stderr",
          "text": [
            "PENDING:   0%|          | 0/150 [elapsed: 00:31 remaining: ?]"
          ]
        },
        {
          "output_type": "stream",
          "name": "stdout",
          "text": [
            "2025-04-10 18:08:52,124 Sleeping for 8s. Reason: PENDING\n"
          ]
        },
        {
          "output_type": "stream",
          "name": "stderr",
          "text": [
            "PENDING:   0%|          | 0/150 [elapsed: 00:40 remaining: ?]"
          ]
        },
        {
          "output_type": "stream",
          "name": "stdout",
          "text": [
            "2025-04-10 18:09:00,798 Sleeping for 9s. Reason: PENDING\n"
          ]
        },
        {
          "output_type": "stream",
          "name": "stderr",
          "text": [
            "PENDING:   0%|          | 0/150 [elapsed: 00:50 remaining: ?]"
          ]
        },
        {
          "output_type": "stream",
          "name": "stdout",
          "text": [
            "2025-04-10 18:09:10,484 Sleeping for 9s. Reason: PENDING\n"
          ]
        },
        {
          "output_type": "stream",
          "name": "stderr",
          "text": [
            "PENDING:   0%|          | 0/150 [elapsed: 00:59 remaining: ?]"
          ]
        },
        {
          "output_type": "stream",
          "name": "stdout",
          "text": [
            "2025-04-10 18:09:20,175 Sleeping for 10s. Reason: PENDING\n"
          ]
        },
        {
          "output_type": "stream",
          "name": "stderr",
          "text": [
            "PENDING:   0%|          | 0/150 [elapsed: 01:10 remaining: ?]"
          ]
        },
        {
          "output_type": "stream",
          "name": "stdout",
          "text": [
            "2025-04-10 18:09:30,859 Sleeping for 7s. Reason: PENDING\n"
          ]
        },
        {
          "output_type": "stream",
          "name": "stderr",
          "text": [
            "PENDING:   0%|          | 0/150 [elapsed: 01:18 remaining: ?]"
          ]
        },
        {
          "output_type": "stream",
          "name": "stdout",
          "text": [
            "2025-04-10 18:09:38,548 Sleeping for 5s. Reason: PENDING\n"
          ]
        },
        {
          "output_type": "stream",
          "name": "stderr",
          "text": [
            "PENDING:   0%|          | 0/150 [elapsed: 01:23 remaining: ?]"
          ]
        },
        {
          "output_type": "stream",
          "name": "stdout",
          "text": [
            "2025-04-10 18:09:44,221 Sleeping for 9s. Reason: PENDING\n"
          ]
        },
        {
          "output_type": "stream",
          "name": "stderr",
          "text": [
            "PENDING:   0%|          | 0/150 [elapsed: 01:33 remaining: ?]"
          ]
        },
        {
          "output_type": "stream",
          "name": "stdout",
          "text": [
            "2025-04-10 18:09:53,904 Sleeping for 5s. Reason: PENDING\n"
          ]
        },
        {
          "output_type": "stream",
          "name": "stderr",
          "text": [
            "PENDING:   0%|          | 0/150 [elapsed: 01:39 remaining: ?]"
          ]
        },
        {
          "output_type": "stream",
          "name": "stdout",
          "text": [
            "2025-04-10 18:09:59,587 Sleeping for 6s. Reason: PENDING\n"
          ]
        },
        {
          "output_type": "stream",
          "name": "stderr",
          "text": [
            "PENDING:   0%|          | 0/150 [elapsed: 01:45 remaining: ?]"
          ]
        },
        {
          "output_type": "stream",
          "name": "stdout",
          "text": [
            "2025-04-10 18:10:06,269 Sleeping for 5s. Reason: PENDING\n"
          ]
        },
        {
          "output_type": "stream",
          "name": "stderr",
          "text": [
            "PENDING:   0%|          | 0/150 [elapsed: 01:51 remaining: ?]"
          ]
        },
        {
          "output_type": "stream",
          "name": "stdout",
          "text": [
            "2025-04-10 18:10:11,942 Sleeping for 9s. Reason: PENDING\n"
          ]
        },
        {
          "output_type": "stream",
          "name": "stderr",
          "text": [
            "RUNNING:   6%|▌         | 9/150 [elapsed: 02:01 remaining: 31:40]"
          ]
        },
        {
          "output_type": "stream",
          "name": "stdout",
          "text": [
            "2025-04-10 18:10:21,625 Sleeping for 6s. Reason: RUNNING\n"
          ]
        },
        {
          "output_type": "stream",
          "name": "stderr",
          "text": [
            "COMPLETE: 100%|██████████| 150/150 [elapsed: 02:08 remaining: 00:00]\n"
          ]
        },
        {
          "output_type": "stream",
          "name": "stdout",
          "text": [
            "2025-04-10 18:10:31,243 alphafold2_ptm_model_1_seed_000 recycle=0 pLDDT=82.3 pTM=0.0861\n",
            "2025-04-10 18:10:31,782 alphafold2_ptm_model_1_seed_000 recycle=1 pLDDT=82.8 pTM=0.0927 tol=0.191\n",
            "2025-04-10 18:10:32,322 alphafold2_ptm_model_1_seed_000 recycle=2 pLDDT=82.8 pTM=0.0937 tol=0.114\n",
            "2025-04-10 18:10:32,862 alphafold2_ptm_model_1_seed_000 recycle=3 pLDDT=82.4 pTM=0.0924 tol=0.131\n",
            "2025-04-10 18:10:32,863 alphafold2_ptm_model_1_seed_000 took 2.2s (3 recycles)\n",
            "2025-04-10 18:10:33,427 alphafold2_ptm_model_2_seed_000 recycle=0 pLDDT=84.2 pTM=0.0985\n",
            "2025-04-10 18:10:33,967 alphafold2_ptm_model_2_seed_000 recycle=1 pLDDT=83.7 pTM=0.102 tol=0.206\n",
            "2025-04-10 18:10:34,507 alphafold2_ptm_model_2_seed_000 recycle=2 pLDDT=83.7 pTM=0.101 tol=0.0536\n",
            "2025-04-10 18:10:35,047 alphafold2_ptm_model_2_seed_000 recycle=3 pLDDT=83.3 pTM=0.1 tol=0.0708\n",
            "2025-04-10 18:10:35,048 alphafold2_ptm_model_2_seed_000 took 2.2s (3 recycles)\n",
            "2025-04-10 18:10:35,597 alphafold2_ptm_model_3_seed_000 recycle=0 pLDDT=84.9 pTM=0.0942\n",
            "2025-04-10 18:10:36,138 alphafold2_ptm_model_3_seed_000 recycle=1 pLDDT=85.5 pTM=0.0988 tol=0.177\n",
            "2025-04-10 18:10:36,678 alphafold2_ptm_model_3_seed_000 recycle=2 pLDDT=86.5 pTM=0.098 tol=0.171\n",
            "2025-04-10 18:10:37,218 alphafold2_ptm_model_3_seed_000 recycle=3 pLDDT=85.7 pTM=0.0959 tol=0.175\n",
            "2025-04-10 18:10:37,218 alphafold2_ptm_model_3_seed_000 took 2.2s (3 recycles)\n",
            "2025-04-10 18:10:37,768 alphafold2_ptm_model_4_seed_000 recycle=0 pLDDT=85.6 pTM=0.0991\n",
            "2025-04-10 18:10:38,308 alphafold2_ptm_model_4_seed_000 recycle=1 pLDDT=86.9 pTM=0.104 tol=0.077\n",
            "2025-04-10 18:10:38,847 alphafold2_ptm_model_4_seed_000 recycle=2 pLDDT=87.5 pTM=0.104 tol=0.0606\n",
            "2025-04-10 18:10:39,388 alphafold2_ptm_model_4_seed_000 recycle=3 pLDDT=87.2 pTM=0.104 tol=0.0699\n",
            "2025-04-10 18:10:39,389 alphafold2_ptm_model_4_seed_000 took 2.2s (3 recycles)\n",
            "2025-04-10 18:10:39,939 alphafold2_ptm_model_5_seed_000 recycle=0 pLDDT=87.8 pTM=0.105\n",
            "2025-04-10 18:10:40,479 alphafold2_ptm_model_5_seed_000 recycle=1 pLDDT=87.4 pTM=0.107 tol=0.129\n",
            "2025-04-10 18:10:41,019 alphafold2_ptm_model_5_seed_000 recycle=2 pLDDT=87.8 pTM=0.109 tol=0.0831\n",
            "2025-04-10 18:10:41,559 alphafold2_ptm_model_5_seed_000 recycle=3 pLDDT=87.3 pTM=0.108 tol=0.0652\n",
            "2025-04-10 18:10:41,559 alphafold2_ptm_model_5_seed_000 took 2.2s (3 recycles)\n",
            "2025-04-10 18:10:41,568 reranking models by 'plddt' metric\n",
            "2025-04-10 18:10:41,568 rank_001_alphafold2_ptm_model_5_seed_000 pLDDT=87.3 pTM=0.108\n",
            "2025-04-10 18:10:41,571 rank_002_alphafold2_ptm_model_4_seed_000 pLDDT=87.2 pTM=0.104\n",
            "2025-04-10 18:10:41,573 rank_003_alphafold2_ptm_model_3_seed_000 pLDDT=85.7 pTM=0.0959\n",
            "2025-04-10 18:10:41,576 rank_004_alphafold2_ptm_model_2_seed_000 pLDDT=83.3 pTM=0.1\n",
            "2025-04-10 18:10:41,578 rank_005_alphafold2_ptm_model_1_seed_000 pLDDT=82.4 pTM=0.0924\n",
            "2025-04-10 18:10:42,577 Query 442/8000: sequence_2442 (length 20)\n"
          ]
        },
        {
          "output_type": "stream",
          "name": "stderr",
          "text": [
            "PENDING:   0%|          | 0/150 [elapsed: 00:00 remaining: ?]"
          ]
        },
        {
          "output_type": "stream",
          "name": "stdout",
          "text": [
            "2025-04-10 18:10:43,260 Sleeping for 6s. Reason: PENDING\n"
          ]
        },
        {
          "output_type": "stream",
          "name": "stderr",
          "text": [
            "RUNNING:   4%|▍         | 6/150 [elapsed: 00:07 remaining: 02:56]"
          ]
        },
        {
          "output_type": "stream",
          "name": "stdout",
          "text": [
            "2025-04-10 18:10:49,939 Sleeping for 8s. Reason: RUNNING\n"
          ]
        },
        {
          "output_type": "stream",
          "name": "stderr",
          "text": [
            "COMPLETE: 100%|██████████| 150/150 [elapsed: 00:16 remaining: 00:00]\n"
          ]
        },
        {
          "output_type": "stream",
          "name": "stdout",
          "text": [
            "2025-04-10 18:11:01,976 alphafold2_ptm_model_1_seed_000 recycle=0 pLDDT=57.4 pTM=0.0477\n",
            "2025-04-10 18:11:02,516 alphafold2_ptm_model_1_seed_000 recycle=1 pLDDT=59.4 pTM=0.0534 tol=2.89\n",
            "2025-04-10 18:11:03,055 alphafold2_ptm_model_1_seed_000 recycle=2 pLDDT=58.5 pTM=0.0537 tol=0.569\n",
            "2025-04-10 18:11:03,595 alphafold2_ptm_model_1_seed_000 recycle=3 pLDDT=60.1 pTM=0.0539 tol=0.399\n",
            "2025-04-10 18:11:03,596 alphafold2_ptm_model_1_seed_000 took 2.2s (3 recycles)\n",
            "2025-04-10 18:11:04,145 alphafold2_ptm_model_2_seed_000 recycle=0 pLDDT=56.3 pTM=0.0505\n",
            "2025-04-10 18:11:04,685 alphafold2_ptm_model_2_seed_000 recycle=1 pLDDT=60.2 pTM=0.0592 tol=1.48\n",
            "2025-04-10 18:11:05,225 alphafold2_ptm_model_2_seed_000 recycle=2 pLDDT=59.9 pTM=0.0584 tol=0.139\n",
            "2025-04-10 18:11:05,765 alphafold2_ptm_model_2_seed_000 recycle=3 pLDDT=61.9 pTM=0.0589 tol=0.193\n",
            "2025-04-10 18:11:05,766 alphafold2_ptm_model_2_seed_000 took 2.2s (3 recycles)\n",
            "2025-04-10 18:11:06,331 alphafold2_ptm_model_3_seed_000 recycle=0 pLDDT=58.2 pTM=0.0446\n",
            "2025-04-10 18:11:06,871 alphafold2_ptm_model_3_seed_000 recycle=1 pLDDT=62.2 pTM=0.0507 tol=2.67\n",
            "2025-04-10 18:11:07,410 alphafold2_ptm_model_3_seed_000 recycle=2 pLDDT=64.8 pTM=0.0551 tol=0.614\n",
            "2025-04-10 18:11:07,949 alphafold2_ptm_model_3_seed_000 recycle=3 pLDDT=68.1 pTM=0.0574 tol=0.237\n",
            "2025-04-10 18:11:07,950 alphafold2_ptm_model_3_seed_000 took 2.2s (3 recycles)\n",
            "2025-04-10 18:11:08,499 alphafold2_ptm_model_4_seed_000 recycle=0 pLDDT=65.2 pTM=0.0531\n",
            "2025-04-10 18:11:09,039 alphafold2_ptm_model_4_seed_000 recycle=1 pLDDT=70.6 pTM=0.066 tol=1.05\n",
            "2025-04-10 18:11:09,579 alphafold2_ptm_model_4_seed_000 recycle=2 pLDDT=68.8 pTM=0.0635 tol=0.0802\n",
            "2025-04-10 18:11:10,120 alphafold2_ptm_model_4_seed_000 recycle=3 pLDDT=68.5 pTM=0.0619 tol=0.156\n",
            "2025-04-10 18:11:10,120 alphafold2_ptm_model_4_seed_000 took 2.2s (3 recycles)\n",
            "2025-04-10 18:11:10,670 alphafold2_ptm_model_5_seed_000 recycle=0 pLDDT=58.2 pTM=0.0545\n",
            "2025-04-10 18:11:11,209 alphafold2_ptm_model_5_seed_000 recycle=1 pLDDT=66.2 pTM=0.0654 tol=1.14\n",
            "2025-04-10 18:11:11,749 alphafold2_ptm_model_5_seed_000 recycle=2 pLDDT=65.8 pTM=0.0652 tol=0.533\n",
            "2025-04-10 18:11:12,289 alphafold2_ptm_model_5_seed_000 recycle=3 pLDDT=69.1 pTM=0.0659 tol=0.341\n",
            "2025-04-10 18:11:12,290 alphafold2_ptm_model_5_seed_000 took 2.2s (3 recycles)\n",
            "2025-04-10 18:11:12,301 reranking models by 'plddt' metric\n",
            "2025-04-10 18:11:12,301 rank_001_alphafold2_ptm_model_5_seed_000 pLDDT=69.1 pTM=0.0659\n",
            "2025-04-10 18:11:12,303 rank_002_alphafold2_ptm_model_4_seed_000 pLDDT=68.5 pTM=0.0619\n",
            "2025-04-10 18:11:12,306 rank_003_alphafold2_ptm_model_3_seed_000 pLDDT=68.1 pTM=0.0574\n",
            "2025-04-10 18:11:12,308 rank_004_alphafold2_ptm_model_2_seed_000 pLDDT=61.9 pTM=0.0589\n",
            "2025-04-10 18:11:12,311 rank_005_alphafold2_ptm_model_1_seed_000 pLDDT=60.1 pTM=0.0539\n",
            "2025-04-10 18:11:13,303 Query 443/8000: sequence_2443 (length 20)\n"
          ]
        },
        {
          "output_type": "stream",
          "name": "stderr",
          "text": [
            "PENDING:   0%|          | 0/150 [elapsed: 00:00 remaining: ?]"
          ]
        },
        {
          "output_type": "stream",
          "name": "stdout",
          "text": [
            "2025-04-10 18:11:13,995 Sleeping for 7s. Reason: PENDING\n"
          ]
        },
        {
          "output_type": "stream",
          "name": "stderr",
          "text": [
            "RUNNING:   5%|▍         | 7/150 [elapsed: 00:08 remaining: 02:51]"
          ]
        },
        {
          "output_type": "stream",
          "name": "stdout",
          "text": [
            "2025-04-10 18:11:21,686 Sleeping for 5s. Reason: RUNNING\n"
          ]
        },
        {
          "output_type": "stream",
          "name": "stderr",
          "text": [
            "COMPLETE: 100%|██████████| 150/150 [elapsed: 00:14 remaining: 00:00]\n"
          ]
        },
        {
          "output_type": "stream",
          "name": "stdout",
          "text": [
            "2025-04-10 18:11:30,347 alphafold2_ptm_model_1_seed_000 recycle=0 pLDDT=84.1 pTM=0.104\n",
            "2025-04-10 18:11:30,888 alphafold2_ptm_model_1_seed_000 recycle=1 pLDDT=84.9 pTM=0.107 tol=0.125\n",
            "2025-04-10 18:11:31,428 alphafold2_ptm_model_1_seed_000 recycle=2 pLDDT=84.6 pTM=0.107 tol=0.08\n",
            "2025-04-10 18:11:31,968 alphafold2_ptm_model_1_seed_000 recycle=3 pLDDT=84.8 pTM=0.108 tol=0.0913\n",
            "2025-04-10 18:11:31,969 alphafold2_ptm_model_1_seed_000 took 2.2s (3 recycles)\n",
            "2025-04-10 18:11:32,519 alphafold2_ptm_model_2_seed_000 recycle=0 pLDDT=86.3 pTM=0.11\n",
            "2025-04-10 18:11:33,059 alphafold2_ptm_model_2_seed_000 recycle=1 pLDDT=85.8 pTM=0.111 tol=0.0825\n",
            "2025-04-10 18:11:33,599 alphafold2_ptm_model_2_seed_000 recycle=2 pLDDT=84.2 pTM=0.11 tol=0.0685\n",
            "2025-04-10 18:11:34,139 alphafold2_ptm_model_2_seed_000 recycle=3 pLDDT=83.6 pTM=0.109 tol=0.033\n",
            "2025-04-10 18:11:34,140 alphafold2_ptm_model_2_seed_000 took 2.2s (3 recycles)\n",
            "2025-04-10 18:11:34,702 alphafold2_ptm_model_3_seed_000 recycle=0 pLDDT=87.9 pTM=0.112\n",
            "2025-04-10 18:11:35,242 alphafold2_ptm_model_3_seed_000 recycle=1 pLDDT=88.5 pTM=0.112 tol=0.14\n",
            "2025-04-10 18:11:35,783 alphafold2_ptm_model_3_seed_000 recycle=2 pLDDT=87.9 pTM=0.113 tol=0.137\n",
            "2025-04-10 18:11:36,323 alphafold2_ptm_model_3_seed_000 recycle=3 pLDDT=88.1 pTM=0.111 tol=0.0378\n",
            "2025-04-10 18:11:36,323 alphafold2_ptm_model_3_seed_000 took 2.2s (3 recycles)\n",
            "2025-04-10 18:11:36,874 alphafold2_ptm_model_4_seed_000 recycle=0 pLDDT=85.8 pTM=0.104\n",
            "2025-04-10 18:11:37,414 alphafold2_ptm_model_4_seed_000 recycle=1 pLDDT=86.1 pTM=0.106 tol=0.158\n",
            "2025-04-10 18:11:37,954 alphafold2_ptm_model_4_seed_000 recycle=2 pLDDT=85.9 pTM=0.106 tol=0.0541\n",
            "2025-04-10 18:11:38,494 alphafold2_ptm_model_4_seed_000 recycle=3 pLDDT=86.1 pTM=0.106 tol=0.0444\n",
            "2025-04-10 18:11:38,495 alphafold2_ptm_model_4_seed_000 took 2.2s (3 recycles)\n",
            "2025-04-10 18:11:39,045 alphafold2_ptm_model_5_seed_000 recycle=0 pLDDT=90.9 pTM=0.114\n",
            "2025-04-10 18:11:39,585 alphafold2_ptm_model_5_seed_000 recycle=1 pLDDT=89.4 pTM=0.112 tol=0.0818\n",
            "2025-04-10 18:11:40,125 alphafold2_ptm_model_5_seed_000 recycle=2 pLDDT=88.8 pTM=0.112 tol=0.0482\n",
            "2025-04-10 18:11:40,665 alphafold2_ptm_model_5_seed_000 recycle=3 pLDDT=89.1 pTM=0.112 tol=0.0435\n",
            "2025-04-10 18:11:40,666 alphafold2_ptm_model_5_seed_000 took 2.2s (3 recycles)\n",
            "2025-04-10 18:11:40,675 reranking models by 'plddt' metric\n",
            "2025-04-10 18:11:40,675 rank_001_alphafold2_ptm_model_5_seed_000 pLDDT=89.1 pTM=0.112\n",
            "2025-04-10 18:11:40,678 rank_002_alphafold2_ptm_model_3_seed_000 pLDDT=88.1 pTM=0.111\n",
            "2025-04-10 18:11:40,681 rank_003_alphafold2_ptm_model_4_seed_000 pLDDT=86.1 pTM=0.106\n",
            "2025-04-10 18:11:40,683 rank_004_alphafold2_ptm_model_1_seed_000 pLDDT=84.8 pTM=0.108\n",
            "2025-04-10 18:11:40,686 rank_005_alphafold2_ptm_model_2_seed_000 pLDDT=83.6 pTM=0.109\n",
            "2025-04-10 18:11:41,685 Query 444/8000: sequence_2444 (length 20)\n"
          ]
        },
        {
          "output_type": "stream",
          "name": "stderr",
          "text": [
            "PENDING:   0%|          | 0/150 [elapsed: 00:00 remaining: ?]"
          ]
        },
        {
          "output_type": "stream",
          "name": "stdout",
          "text": [
            "2025-04-10 18:11:42,411 Sleeping for 9s. Reason: PENDING\n"
          ]
        },
        {
          "output_type": "stream",
          "name": "stderr",
          "text": [
            "RUNNING:   6%|▌         | 9/150 [elapsed: 00:10 remaining: 02:43]"
          ]
        },
        {
          "output_type": "stream",
          "name": "stdout",
          "text": [
            "2025-04-10 18:11:52,100 Sleeping for 7s. Reason: RUNNING\n"
          ]
        },
        {
          "output_type": "stream",
          "name": "stderr",
          "text": [
            "COMPLETE: 100%|██████████| 150/150 [elapsed: 00:18 remaining: 00:00]\n"
          ]
        },
        {
          "output_type": "stream",
          "name": "stdout",
          "text": [
            "2025-04-10 18:12:02,716 alphafold2_ptm_model_1_seed_000 recycle=0 pLDDT=71.5 pTM=0.075\n",
            "2025-04-10 18:12:03,256 alphafold2_ptm_model_1_seed_000 recycle=1 pLDDT=72.8 pTM=0.0815 tol=0.163\n",
            "2025-04-10 18:12:03,796 alphafold2_ptm_model_1_seed_000 recycle=2 pLDDT=72.4 pTM=0.0811 tol=0.114\n",
            "2025-04-10 18:12:04,337 alphafold2_ptm_model_1_seed_000 recycle=3 pLDDT=71.2 pTM=0.079 tol=0.303\n",
            "2025-04-10 18:12:04,338 alphafold2_ptm_model_1_seed_000 took 2.2s (3 recycles)\n",
            "2025-04-10 18:12:04,887 alphafold2_ptm_model_2_seed_000 recycle=0 pLDDT=71.9 pTM=0.0823\n",
            "2025-04-10 18:12:05,427 alphafold2_ptm_model_2_seed_000 recycle=1 pLDDT=71.8 pTM=0.086 tol=0.426\n",
            "2025-04-10 18:12:05,967 alphafold2_ptm_model_2_seed_000 recycle=2 pLDDT=70.9 pTM=0.0848 tol=0.146\n",
            "2025-04-10 18:12:06,506 alphafold2_ptm_model_2_seed_000 recycle=3 pLDDT=69.5 pTM=0.0835 tol=0.185\n",
            "2025-04-10 18:12:06,506 alphafold2_ptm_model_2_seed_000 took 2.2s (3 recycles)\n",
            "2025-04-10 18:12:07,067 alphafold2_ptm_model_3_seed_000 recycle=0 pLDDT=71.6 pTM=0.0737\n",
            "2025-04-10 18:12:07,606 alphafold2_ptm_model_3_seed_000 recycle=1 pLDDT=73.6 pTM=0.0781 tol=0.235\n",
            "2025-04-10 18:12:08,146 alphafold2_ptm_model_3_seed_000 recycle=2 pLDDT=73.2 pTM=0.0799 tol=0.266\n",
            "2025-04-10 18:12:08,686 alphafold2_ptm_model_3_seed_000 recycle=3 pLDDT=72.1 pTM=0.0772 tol=0.32\n",
            "2025-04-10 18:12:08,686 alphafold2_ptm_model_3_seed_000 took 2.2s (3 recycles)\n",
            "2025-04-10 18:12:09,237 alphafold2_ptm_model_4_seed_000 recycle=0 pLDDT=74 pTM=0.0782\n",
            "2025-04-10 18:12:09,778 alphafold2_ptm_model_4_seed_000 recycle=1 pLDDT=76.6 pTM=0.0857 tol=0.169\n",
            "2025-04-10 18:12:10,318 alphafold2_ptm_model_4_seed_000 recycle=2 pLDDT=76.4 pTM=0.0865 tol=0.141\n",
            "2025-04-10 18:12:10,859 alphafold2_ptm_model_4_seed_000 recycle=3 pLDDT=75 pTM=0.0837 tol=0.19\n",
            "2025-04-10 18:12:10,860 alphafold2_ptm_model_4_seed_000 took 2.2s (3 recycles)\n",
            "2025-04-10 18:12:11,410 alphafold2_ptm_model_5_seed_000 recycle=0 pLDDT=72.8 pTM=0.0797\n",
            "2025-04-10 18:12:11,952 alphafold2_ptm_model_5_seed_000 recycle=1 pLDDT=73.5 pTM=0.082 tol=0.167\n",
            "2025-04-10 18:12:12,492 alphafold2_ptm_model_5_seed_000 recycle=2 pLDDT=72.1 pTM=0.0791 tol=0.351\n",
            "2025-04-10 18:12:13,032 alphafold2_ptm_model_5_seed_000 recycle=3 pLDDT=69.6 pTM=0.0753 tol=0.324\n",
            "2025-04-10 18:12:13,033 alphafold2_ptm_model_5_seed_000 took 2.2s (3 recycles)\n",
            "2025-04-10 18:12:13,042 reranking models by 'plddt' metric\n",
            "2025-04-10 18:12:13,043 rank_001_alphafold2_ptm_model_4_seed_000 pLDDT=75 pTM=0.0837\n",
            "2025-04-10 18:12:13,045 rank_002_alphafold2_ptm_model_3_seed_000 pLDDT=72.1 pTM=0.0772\n",
            "2025-04-10 18:12:13,048 rank_003_alphafold2_ptm_model_1_seed_000 pLDDT=71.2 pTM=0.079\n",
            "2025-04-10 18:12:13,050 rank_004_alphafold2_ptm_model_5_seed_000 pLDDT=69.6 pTM=0.0753\n",
            "2025-04-10 18:12:13,053 rank_005_alphafold2_ptm_model_2_seed_000 pLDDT=69.5 pTM=0.0835\n",
            "2025-04-10 18:12:14,034 Query 445/8000: sequence_2445 (length 20)\n"
          ]
        },
        {
          "output_type": "stream",
          "name": "stderr",
          "text": [
            "PENDING:   0%|          | 0/150 [elapsed: 00:00 remaining: ?]"
          ]
        },
        {
          "output_type": "stream",
          "name": "stdout",
          "text": [
            "2025-04-10 18:12:14,753 Sleeping for 10s. Reason: PENDING\n"
          ]
        },
        {
          "output_type": "stream",
          "name": "stderr",
          "text": [
            "RUNNING:   7%|▋         | 10/150 [elapsed: 00:11 remaining: 02:39]"
          ]
        },
        {
          "output_type": "stream",
          "name": "stdout",
          "text": [
            "2025-04-10 18:12:25,444 Sleeping for 10s. Reason: RUNNING\n"
          ]
        },
        {
          "output_type": "stream",
          "name": "stderr",
          "text": [
            "COMPLETE: 100%|██████████| 150/150 [elapsed: 00:22 remaining: 00:00]\n"
          ]
        },
        {
          "output_type": "stream",
          "name": "stdout",
          "text": [
            "2025-04-10 18:12:39,076 alphafold2_ptm_model_1_seed_000 recycle=0 pLDDT=60.9 pTM=0.0503\n",
            "2025-04-10 18:12:39,615 alphafold2_ptm_model_1_seed_000 recycle=1 pLDDT=63.1 pTM=0.0521 tol=0.943\n",
            "2025-04-10 18:12:40,155 alphafold2_ptm_model_1_seed_000 recycle=2 pLDDT=62.3 pTM=0.0504 tol=0.431\n",
            "2025-04-10 18:12:40,695 alphafold2_ptm_model_1_seed_000 recycle=3 pLDDT=60.4 pTM=0.0503 tol=0.745\n",
            "2025-04-10 18:12:40,695 alphafold2_ptm_model_1_seed_000 took 2.2s (3 recycles)\n",
            "2025-04-10 18:12:41,245 alphafold2_ptm_model_2_seed_000 recycle=0 pLDDT=58.7 pTM=0.0475\n",
            "2025-04-10 18:12:41,785 alphafold2_ptm_model_2_seed_000 recycle=1 pLDDT=59.9 pTM=0.0469 tol=1.22\n",
            "2025-04-10 18:12:42,325 alphafold2_ptm_model_2_seed_000 recycle=2 pLDDT=61.6 pTM=0.0474 tol=0.984\n",
            "2025-04-10 18:12:42,865 alphafold2_ptm_model_2_seed_000 recycle=3 pLDDT=60 pTM=0.047 tol=0.425\n",
            "2025-04-10 18:12:42,865 alphafold2_ptm_model_2_seed_000 took 2.2s (3 recycles)\n",
            "2025-04-10 18:12:43,417 alphafold2_ptm_model_3_seed_000 recycle=0 pLDDT=60.8 pTM=0.0459\n",
            "2025-04-10 18:12:43,957 alphafold2_ptm_model_3_seed_000 recycle=1 pLDDT=61.1 pTM=0.0462 tol=0.896\n",
            "2025-04-10 18:12:44,498 alphafold2_ptm_model_3_seed_000 recycle=2 pLDDT=64.8 pTM=0.0493 tol=1.59\n",
            "2025-04-10 18:12:45,037 alphafold2_ptm_model_3_seed_000 recycle=3 pLDDT=64.4 pTM=0.0522 tol=0.837\n",
            "2025-04-10 18:12:45,038 alphafold2_ptm_model_3_seed_000 took 2.2s (3 recycles)\n",
            "2025-04-10 18:12:45,602 alphafold2_ptm_model_4_seed_000 recycle=0 pLDDT=62.2 pTM=0.0487\n",
            "2025-04-10 18:12:46,142 alphafold2_ptm_model_4_seed_000 recycle=1 pLDDT=59.9 pTM=0.0467 tol=0.711\n",
            "2025-04-10 18:12:46,682 alphafold2_ptm_model_4_seed_000 recycle=2 pLDDT=64.2 pTM=0.05 tol=2.34\n",
            "2025-04-10 18:12:47,222 alphafold2_ptm_model_4_seed_000 recycle=3 pLDDT=63.8 pTM=0.052 tol=1.19\n",
            "2025-04-10 18:12:47,222 alphafold2_ptm_model_4_seed_000 took 2.2s (3 recycles)\n",
            "2025-04-10 18:12:47,774 alphafold2_ptm_model_5_seed_000 recycle=0 pLDDT=61.7 pTM=0.052\n",
            "2025-04-10 18:12:48,314 alphafold2_ptm_model_5_seed_000 recycle=1 pLDDT=60.6 pTM=0.0498 tol=0.626\n",
            "2025-04-10 18:12:48,855 alphafold2_ptm_model_5_seed_000 recycle=2 pLDDT=60.6 pTM=0.048 tol=0.451\n",
            "2025-04-10 18:12:49,394 alphafold2_ptm_model_5_seed_000 recycle=3 pLDDT=59.6 pTM=0.0464 tol=0.812\n",
            "2025-04-10 18:12:49,395 alphafold2_ptm_model_5_seed_000 took 2.2s (3 recycles)\n",
            "2025-04-10 18:12:49,407 reranking models by 'plddt' metric\n",
            "2025-04-10 18:12:49,408 rank_001_alphafold2_ptm_model_3_seed_000 pLDDT=64.4 pTM=0.0522\n",
            "2025-04-10 18:12:49,411 rank_002_alphafold2_ptm_model_4_seed_000 pLDDT=63.8 pTM=0.052\n",
            "2025-04-10 18:12:49,414 rank_003_alphafold2_ptm_model_1_seed_000 pLDDT=60.4 pTM=0.0503\n",
            "2025-04-10 18:12:49,417 rank_004_alphafold2_ptm_model_2_seed_000 pLDDT=60 pTM=0.047\n",
            "2025-04-10 18:12:49,420 rank_005_alphafold2_ptm_model_5_seed_000 pLDDT=59.6 pTM=0.0464\n",
            "2025-04-10 18:12:50,407 Query 446/8000: sequence_2446 (length 20)\n"
          ]
        },
        {
          "output_type": "stream",
          "name": "stderr",
          "text": [
            "PENDING:   0%|          | 0/150 [elapsed: 00:00 remaining: ?]"
          ]
        },
        {
          "output_type": "stream",
          "name": "stdout",
          "text": [
            "2025-04-10 18:12:51,096 Sleeping for 10s. Reason: PENDING\n"
          ]
        },
        {
          "output_type": "stream",
          "name": "stderr",
          "text": [
            "COMPLETE: 100%|██████████| 150/150 [elapsed: 00:12 remaining: 00:00]\n"
          ]
        },
        {
          "output_type": "stream",
          "name": "stdout",
          "text": [
            "2025-04-10 18:13:04,723 alphafold2_ptm_model_1_seed_000 recycle=0 pLDDT=69 pTM=0.0701\n",
            "2025-04-10 18:13:05,262 alphafold2_ptm_model_1_seed_000 recycle=1 pLDDT=65.6 pTM=0.0662 tol=0.384\n",
            "2025-04-10 18:13:05,802 alphafold2_ptm_model_1_seed_000 recycle=2 pLDDT=62.9 pTM=0.0591 tol=0.275\n",
            "2025-04-10 18:13:06,341 alphafold2_ptm_model_1_seed_000 recycle=3 pLDDT=61.7 pTM=0.0554 tol=0.243\n",
            "2025-04-10 18:13:06,341 alphafold2_ptm_model_1_seed_000 took 2.2s (3 recycles)\n",
            "2025-04-10 18:13:06,893 alphafold2_ptm_model_2_seed_000 recycle=0 pLDDT=63.8 pTM=0.0705\n",
            "2025-04-10 18:13:07,433 alphafold2_ptm_model_2_seed_000 recycle=1 pLDDT=56.9 pTM=0.0524 tol=1.18\n",
            "2025-04-10 18:13:07,972 alphafold2_ptm_model_2_seed_000 recycle=2 pLDDT=56.5 pTM=0.0486 tol=1.28\n",
            "2025-04-10 18:13:08,513 alphafold2_ptm_model_2_seed_000 recycle=3 pLDDT=57.7 pTM=0.0468 tol=1.86\n",
            "2025-04-10 18:13:08,513 alphafold2_ptm_model_2_seed_000 took 2.2s (3 recycles)\n",
            "2025-04-10 18:13:09,062 alphafold2_ptm_model_3_seed_000 recycle=0 pLDDT=60.1 pTM=0.0453\n",
            "2025-04-10 18:13:09,602 alphafold2_ptm_model_3_seed_000 recycle=1 pLDDT=60.1 pTM=0.0451 tol=0.778\n",
            "2025-04-10 18:13:10,142 alphafold2_ptm_model_3_seed_000 recycle=2 pLDDT=60.6 pTM=0.0447 tol=0.394\n",
            "2025-04-10 18:13:10,681 alphafold2_ptm_model_3_seed_000 recycle=3 pLDDT=60.7 pTM=0.045 tol=0.652\n",
            "2025-04-10 18:13:10,682 alphafold2_ptm_model_3_seed_000 took 2.2s (3 recycles)\n",
            "2025-04-10 18:13:11,247 alphafold2_ptm_model_4_seed_000 recycle=0 pLDDT=59.4 pTM=0.0473\n",
            "2025-04-10 18:13:11,786 alphafold2_ptm_model_4_seed_000 recycle=1 pLDDT=59.5 pTM=0.0507 tol=0.958\n",
            "2025-04-10 18:13:12,325 alphafold2_ptm_model_4_seed_000 recycle=2 pLDDT=60.1 pTM=0.0543 tol=0.323\n",
            "2025-04-10 18:13:12,865 alphafold2_ptm_model_4_seed_000 recycle=3 pLDDT=60.4 pTM=0.0544 tol=0.108\n",
            "2025-04-10 18:13:12,866 alphafold2_ptm_model_4_seed_000 took 2.2s (3 recycles)\n",
            "2025-04-10 18:13:13,414 alphafold2_ptm_model_5_seed_000 recycle=0 pLDDT=65.4 pTM=0.0582\n",
            "2025-04-10 18:13:13,955 alphafold2_ptm_model_5_seed_000 recycle=1 pLDDT=60.8 pTM=0.0566 tol=0.474\n",
            "2025-04-10 18:13:14,494 alphafold2_ptm_model_5_seed_000 recycle=2 pLDDT=60.9 pTM=0.0568 tol=0.211\n",
            "2025-04-10 18:13:15,034 alphafold2_ptm_model_5_seed_000 recycle=3 pLDDT=61.2 pTM=0.057 tol=0.121\n",
            "2025-04-10 18:13:15,035 alphafold2_ptm_model_5_seed_000 took 2.2s (3 recycles)\n",
            "2025-04-10 18:13:15,044 reranking models by 'plddt' metric\n",
            "2025-04-10 18:13:15,044 rank_001_alphafold2_ptm_model_1_seed_000 pLDDT=61.7 pTM=0.0554\n",
            "2025-04-10 18:13:15,047 rank_002_alphafold2_ptm_model_5_seed_000 pLDDT=61.2 pTM=0.057\n",
            "2025-04-10 18:13:15,049 rank_003_alphafold2_ptm_model_3_seed_000 pLDDT=60.7 pTM=0.045\n",
            "2025-04-10 18:13:15,052 rank_004_alphafold2_ptm_model_4_seed_000 pLDDT=60.4 pTM=0.0544\n",
            "2025-04-10 18:13:15,054 rank_005_alphafold2_ptm_model_2_seed_000 pLDDT=57.7 pTM=0.0468\n",
            "2025-04-10 18:13:16,034 Query 447/8000: sequence_2447 (length 20)\n"
          ]
        },
        {
          "output_type": "stream",
          "name": "stderr",
          "text": [
            "PENDING:   0%|          | 0/150 [elapsed: 00:00 remaining: ?]"
          ]
        },
        {
          "output_type": "stream",
          "name": "stdout",
          "text": [
            "2025-04-10 18:13:16,727 Sleeping for 5s. Reason: PENDING\n"
          ]
        },
        {
          "output_type": "stream",
          "name": "stderr",
          "text": [
            "RUNNING:   3%|▎         | 5/150 [elapsed: 00:06 remaining: 03:04]"
          ]
        },
        {
          "output_type": "stream",
          "name": "stdout",
          "text": [
            "2025-04-10 18:13:22,409 Sleeping for 9s. Reason: RUNNING\n"
          ]
        },
        {
          "output_type": "stream",
          "name": "stderr",
          "text": [
            "COMPLETE: 100%|██████████| 150/150 [elapsed: 00:16 remaining: 00:00]\n"
          ]
        },
        {
          "output_type": "stream",
          "name": "stdout",
          "text": [
            "2025-04-10 18:13:35,553 alphafold2_ptm_model_1_seed_000 recycle=0 pLDDT=59.7 pTM=0.0487\n",
            "2025-04-10 18:13:36,093 alphafold2_ptm_model_1_seed_000 recycle=1 pLDDT=52.7 pTM=0.0463 tol=2.01\n",
            "2025-04-10 18:13:36,633 alphafold2_ptm_model_1_seed_000 recycle=2 pLDDT=52 pTM=0.0463 tol=5.3\n",
            "2025-04-10 18:13:37,173 alphafold2_ptm_model_1_seed_000 recycle=3 pLDDT=51.6 pTM=0.0462 tol=4.77\n",
            "2025-04-10 18:13:37,173 alphafold2_ptm_model_1_seed_000 took 2.2s (3 recycles)\n",
            "2025-04-10 18:13:37,725 alphafold2_ptm_model_2_seed_000 recycle=0 pLDDT=55.5 pTM=0.0475\n",
            "2025-04-10 18:13:38,264 alphafold2_ptm_model_2_seed_000 recycle=1 pLDDT=57.1 pTM=0.0609 tol=3.47\n",
            "2025-04-10 18:13:38,804 alphafold2_ptm_model_2_seed_000 recycle=2 pLDDT=56.1 pTM=0.0614 tol=0.262\n",
            "2025-04-10 18:13:39,344 alphafold2_ptm_model_2_seed_000 recycle=3 pLDDT=57 pTM=0.0607 tol=0.164\n",
            "2025-04-10 18:13:39,344 alphafold2_ptm_model_2_seed_000 took 2.2s (3 recycles)\n",
            "2025-04-10 18:13:39,895 alphafold2_ptm_model_3_seed_000 recycle=0 pLDDT=53.7 pTM=0.0444\n",
            "2025-04-10 18:13:40,435 alphafold2_ptm_model_3_seed_000 recycle=1 pLDDT=51.7 pTM=0.0436 tol=8.23\n",
            "2025-04-10 18:13:40,975 alphafold2_ptm_model_3_seed_000 recycle=2 pLDDT=52.6 pTM=0.0431 tol=1.2\n",
            "2025-04-10 18:13:41,515 alphafold2_ptm_model_3_seed_000 recycle=3 pLDDT=52.1 pTM=0.0442 tol=1.41\n",
            "2025-04-10 18:13:41,515 alphafold2_ptm_model_3_seed_000 took 2.2s (3 recycles)\n",
            "2025-04-10 18:13:42,080 alphafold2_ptm_model_4_seed_000 recycle=0 pLDDT=62.4 pTM=0.0478\n",
            "2025-04-10 18:13:42,619 alphafold2_ptm_model_4_seed_000 recycle=1 pLDDT=51.1 pTM=0.043 tol=6.59\n",
            "2025-04-10 18:13:43,159 alphafold2_ptm_model_4_seed_000 recycle=2 pLDDT=56 pTM=0.0507 tol=3.6\n",
            "2025-04-10 18:13:43,699 alphafold2_ptm_model_4_seed_000 recycle=3 pLDDT=56.8 pTM=0.0519 tol=0.836\n",
            "2025-04-10 18:13:43,699 alphafold2_ptm_model_4_seed_000 took 2.2s (3 recycles)\n",
            "2025-04-10 18:13:44,248 alphafold2_ptm_model_5_seed_000 recycle=0 pLDDT=72.4 pTM=0.0698\n",
            "2025-04-10 18:13:44,787 alphafold2_ptm_model_5_seed_000 recycle=1 pLDDT=64.6 pTM=0.0656 tol=0.125\n",
            "2025-04-10 18:13:45,327 alphafold2_ptm_model_5_seed_000 recycle=2 pLDDT=64.7 pTM=0.0659 tol=0.056\n",
            "2025-04-10 18:13:45,867 alphafold2_ptm_model_5_seed_000 recycle=3 pLDDT=65.2 pTM=0.0647 tol=0.068\n",
            "2025-04-10 18:13:45,868 alphafold2_ptm_model_5_seed_000 took 2.2s (3 recycles)\n",
            "2025-04-10 18:13:45,878 reranking models by 'plddt' metric\n",
            "2025-04-10 18:13:45,878 rank_001_alphafold2_ptm_model_5_seed_000 pLDDT=65.2 pTM=0.0647\n",
            "2025-04-10 18:13:45,881 rank_002_alphafold2_ptm_model_2_seed_000 pLDDT=57 pTM=0.0607\n",
            "2025-04-10 18:13:45,883 rank_003_alphafold2_ptm_model_4_seed_000 pLDDT=56.8 pTM=0.0519\n",
            "2025-04-10 18:13:45,886 rank_004_alphafold2_ptm_model_3_seed_000 pLDDT=52.1 pTM=0.0442\n",
            "2025-04-10 18:13:45,888 rank_005_alphafold2_ptm_model_1_seed_000 pLDDT=51.6 pTM=0.0462\n",
            "2025-04-10 18:13:46,877 Query 448/8000: sequence_2448 (length 20)\n"
          ]
        },
        {
          "output_type": "stream",
          "name": "stderr",
          "text": [
            "PENDING:   0%|          | 0/150 [elapsed: 00:00 remaining: ?]"
          ]
        },
        {
          "output_type": "stream",
          "name": "stdout",
          "text": [
            "2025-04-10 18:13:47,565 Sleeping for 10s. Reason: PENDING\n"
          ]
        },
        {
          "output_type": "stream",
          "name": "stderr",
          "text": [
            "RUNNING:   7%|▋         | 10/150 [elapsed: 00:11 remaining: 02:39]"
          ]
        },
        {
          "output_type": "stream",
          "name": "stdout",
          "text": [
            "2025-04-10 18:13:58,249 Sleeping for 5s. Reason: RUNNING\n"
          ]
        },
        {
          "output_type": "stream",
          "name": "stderr",
          "text": [
            "COMPLETE: 100%|██████████| 150/150 [elapsed: 00:17 remaining: 00:00]\n"
          ]
        },
        {
          "output_type": "stream",
          "name": "stdout",
          "text": [
            "2025-04-10 18:14:06,870 alphafold2_ptm_model_1_seed_000 recycle=0 pLDDT=59.6 pTM=0.0497\n",
            "2025-04-10 18:14:07,409 alphafold2_ptm_model_1_seed_000 recycle=1 pLDDT=70.1 pTM=0.0659 tol=5.43\n",
            "2025-04-10 18:14:07,949 alphafold2_ptm_model_1_seed_000 recycle=2 pLDDT=67.6 pTM=0.0664 tol=0.409\n",
            "2025-04-10 18:14:08,489 alphafold2_ptm_model_1_seed_000 recycle=3 pLDDT=69.8 pTM=0.067 tol=0.104\n",
            "2025-04-10 18:14:08,490 alphafold2_ptm_model_1_seed_000 took 2.2s (3 recycles)\n",
            "2025-04-10 18:14:09,040 alphafold2_ptm_model_2_seed_000 recycle=0 pLDDT=63.6 pTM=0.0673\n",
            "2025-04-10 18:14:09,580 alphafold2_ptm_model_2_seed_000 recycle=1 pLDDT=64.7 pTM=0.067 tol=0.619\n",
            "2025-04-10 18:14:10,120 alphafold2_ptm_model_2_seed_000 recycle=2 pLDDT=62.8 pTM=0.0638 tol=0.164\n",
            "2025-04-10 18:14:10,660 alphafold2_ptm_model_2_seed_000 recycle=3 pLDDT=63.4 pTM=0.0628 tol=0.163\n",
            "2025-04-10 18:14:10,661 alphafold2_ptm_model_2_seed_000 took 2.2s (3 recycles)\n",
            "2025-04-10 18:14:11,211 alphafold2_ptm_model_3_seed_000 recycle=0 pLDDT=59.7 pTM=0.0486\n",
            "2025-04-10 18:14:11,750 alphafold2_ptm_model_3_seed_000 recycle=1 pLDDT=59.6 pTM=0.0478 tol=2.4\n",
            "2025-04-10 18:14:12,290 alphafold2_ptm_model_3_seed_000 recycle=2 pLDDT=60.2 pTM=0.0467 tol=3.55\n",
            "2025-04-10 18:14:12,830 alphafold2_ptm_model_3_seed_000 recycle=3 pLDDT=60.3 pTM=0.0464 tol=0.586\n",
            "2025-04-10 18:14:12,830 alphafold2_ptm_model_3_seed_000 took 2.2s (3 recycles)\n",
            "2025-04-10 18:14:13,392 alphafold2_ptm_model_4_seed_000 recycle=0 pLDDT=58.2 pTM=0.0491\n",
            "2025-04-10 18:14:13,932 alphafold2_ptm_model_4_seed_000 recycle=1 pLDDT=69.7 pTM=0.0629 tol=4.15\n",
            "2025-04-10 18:14:14,472 alphafold2_ptm_model_4_seed_000 recycle=2 pLDDT=77.3 pTM=0.0842 tol=0.834\n",
            "2025-04-10 18:14:15,012 alphafold2_ptm_model_4_seed_000 recycle=3 pLDDT=79.2 pTM=0.0856 tol=0.254\n",
            "2025-04-10 18:14:15,012 alphafold2_ptm_model_4_seed_000 took 2.2s (3 recycles)\n",
            "2025-04-10 18:14:15,561 alphafold2_ptm_model_5_seed_000 recycle=0 pLDDT=60 pTM=0.0549\n",
            "2025-04-10 18:14:16,101 alphafold2_ptm_model_5_seed_000 recycle=1 pLDDT=68.4 pTM=0.0671 tol=0.371\n",
            "2025-04-10 18:14:16,641 alphafold2_ptm_model_5_seed_000 recycle=2 pLDDT=70.2 pTM=0.0693 tol=0.112\n",
            "2025-04-10 18:14:17,180 alphafold2_ptm_model_5_seed_000 recycle=3 pLDDT=70.8 pTM=0.0696 tol=0.145\n",
            "2025-04-10 18:14:17,181 alphafold2_ptm_model_5_seed_000 took 2.2s (3 recycles)\n",
            "2025-04-10 18:14:17,190 reranking models by 'plddt' metric\n",
            "2025-04-10 18:14:17,190 rank_001_alphafold2_ptm_model_4_seed_000 pLDDT=79.2 pTM=0.0856\n",
            "2025-04-10 18:14:17,193 rank_002_alphafold2_ptm_model_5_seed_000 pLDDT=70.8 pTM=0.0696\n",
            "2025-04-10 18:14:17,195 rank_003_alphafold2_ptm_model_1_seed_000 pLDDT=69.8 pTM=0.067\n",
            "2025-04-10 18:14:17,197 rank_004_alphafold2_ptm_model_2_seed_000 pLDDT=63.4 pTM=0.0628\n",
            "2025-04-10 18:14:17,200 rank_005_alphafold2_ptm_model_3_seed_000 pLDDT=60.3 pTM=0.0464\n",
            "2025-04-10 18:14:18,181 Query 449/8000: sequence_2449 (length 20)\n"
          ]
        },
        {
          "output_type": "stream",
          "name": "stderr",
          "text": [
            "PENDING:   0%|          | 0/150 [elapsed: 00:00 remaining: ?]"
          ]
        },
        {
          "output_type": "stream",
          "name": "stdout",
          "text": [
            "2025-04-10 18:14:18,876 Sleeping for 9s. Reason: PENDING\n"
          ]
        },
        {
          "output_type": "stream",
          "name": "stderr",
          "text": [
            "PENDING:   0%|          | 0/150 [elapsed: 00:10 remaining: ?]"
          ]
        },
        {
          "output_type": "stream",
          "name": "stdout",
          "text": [
            "2025-04-10 18:14:28,554 Sleeping for 5s. Reason: PENDING\n"
          ]
        },
        {
          "output_type": "stream",
          "name": "stderr",
          "text": [
            "PENDING:   0%|          | 0/150 [elapsed: 00:16 remaining: ?]"
          ]
        },
        {
          "output_type": "stream",
          "name": "stdout",
          "text": [
            "2025-04-10 18:14:34,240 Sleeping for 10s. Reason: PENDING\n"
          ]
        },
        {
          "output_type": "stream",
          "name": "stderr",
          "text": [
            "PENDING:   0%|          | 0/150 [elapsed: 00:26 remaining: ?]"
          ]
        },
        {
          "output_type": "stream",
          "name": "stdout",
          "text": [
            "2025-04-10 18:14:44,922 Sleeping for 5s. Reason: PENDING\n"
          ]
        },
        {
          "output_type": "stream",
          "name": "stderr",
          "text": [
            "PENDING:   0%|          | 0/150 [elapsed: 00:32 remaining: ?]"
          ]
        },
        {
          "output_type": "stream",
          "name": "stdout",
          "text": [
            "2025-04-10 18:14:50,607 Sleeping for 9s. Reason: PENDING\n"
          ]
        },
        {
          "output_type": "stream",
          "name": "stderr",
          "text": [
            "RUNNING:   6%|▌         | 9/150 [elapsed: 00:42 remaining: 10:59]"
          ]
        },
        {
          "output_type": "stream",
          "name": "stdout",
          "text": [
            "2025-04-10 18:15:00,289 Sleeping for 8s. Reason: RUNNING\n"
          ]
        },
        {
          "output_type": "stream",
          "name": "stderr",
          "text": [
            "RUNNING:  11%|█▏        | 17/150 [elapsed: 00:50 remaining: 05:54]"
          ]
        },
        {
          "output_type": "stream",
          "name": "stdout",
          "text": [
            "2025-04-10 18:15:08,974 Sleeping for 6s. Reason: RUNNING\n"
          ]
        },
        {
          "output_type": "stream",
          "name": "stderr",
          "text": [
            "COMPLETE: 100%|██████████| 150/150 [elapsed: 00:58 remaining: 00:00]\n"
          ]
        },
        {
          "output_type": "stream",
          "name": "stdout",
          "text": [
            "2025-04-10 18:15:18,589 alphafold2_ptm_model_1_seed_000 recycle=0 pLDDT=53.4 pTM=0.0497\n",
            "2025-04-10 18:15:19,130 alphafold2_ptm_model_1_seed_000 recycle=1 pLDDT=50.9 pTM=0.0504 tol=3.61\n",
            "2025-04-10 18:15:19,670 alphafold2_ptm_model_1_seed_000 recycle=2 pLDDT=53.1 pTM=0.0539 tol=1.42\n",
            "2025-04-10 18:15:20,210 alphafold2_ptm_model_1_seed_000 recycle=3 pLDDT=55 pTM=0.0532 tol=0.658\n",
            "2025-04-10 18:15:20,210 alphafold2_ptm_model_1_seed_000 took 2.2s (3 recycles)\n",
            "2025-04-10 18:15:20,762 alphafold2_ptm_model_2_seed_000 recycle=0 pLDDT=55.4 pTM=0.0503\n",
            "2025-04-10 18:15:21,302 alphafold2_ptm_model_2_seed_000 recycle=1 pLDDT=50.9 pTM=0.0486 tol=1.45\n",
            "2025-04-10 18:15:21,842 alphafold2_ptm_model_2_seed_000 recycle=2 pLDDT=53.1 pTM=0.0501 tol=1.5\n",
            "2025-04-10 18:15:22,381 alphafold2_ptm_model_2_seed_000 recycle=3 pLDDT=51.9 pTM=0.0485 tol=1.57\n",
            "2025-04-10 18:15:22,382 alphafold2_ptm_model_2_seed_000 took 2.2s (3 recycles)\n",
            "2025-04-10 18:15:22,931 alphafold2_ptm_model_3_seed_000 recycle=0 pLDDT=54.6 pTM=0.0506\n",
            "2025-04-10 18:15:23,471 alphafold2_ptm_model_3_seed_000 recycle=1 pLDDT=62.5 pTM=0.0543 tol=1.09\n",
            "2025-04-10 18:15:24,012 alphafold2_ptm_model_3_seed_000 recycle=2 pLDDT=60.2 pTM=0.0532 tol=1.13\n",
            "2025-04-10 18:15:24,552 alphafold2_ptm_model_3_seed_000 recycle=3 pLDDT=59.6 pTM=0.0489 tol=1.16\n",
            "2025-04-10 18:15:24,552 alphafold2_ptm_model_3_seed_000 took 2.2s (3 recycles)\n",
            "2025-04-10 18:15:25,103 alphafold2_ptm_model_4_seed_000 recycle=0 pLDDT=49.2 pTM=0.0483\n",
            "2025-04-10 18:15:25,644 alphafold2_ptm_model_4_seed_000 recycle=1 pLDDT=48.7 pTM=0.047 tol=1.53\n",
            "2025-04-10 18:15:26,185 alphafold2_ptm_model_4_seed_000 recycle=2 pLDDT=48.2 pTM=0.0477 tol=2.06\n",
            "2025-04-10 18:15:26,725 alphafold2_ptm_model_4_seed_000 recycle=3 pLDDT=50.9 pTM=0.0477 tol=2.41\n",
            "2025-04-10 18:15:26,726 alphafold2_ptm_model_4_seed_000 took 2.2s (3 recycles)\n",
            "2025-04-10 18:15:27,277 alphafold2_ptm_model_5_seed_000 recycle=0 pLDDT=53.4 pTM=0.0503\n",
            "2025-04-10 18:15:27,818 alphafold2_ptm_model_5_seed_000 recycle=1 pLDDT=50.6 pTM=0.0501 tol=3.78\n",
            "2025-04-10 18:15:28,359 alphafold2_ptm_model_5_seed_000 recycle=2 pLDDT=56.8 pTM=0.0499 tol=2.18\n",
            "2025-04-10 18:15:28,900 alphafold2_ptm_model_5_seed_000 recycle=3 pLDDT=51.4 pTM=0.0471 tol=1.57\n",
            "2025-04-10 18:15:28,900 alphafold2_ptm_model_5_seed_000 took 2.2s (3 recycles)\n",
            "2025-04-10 18:15:28,910 reranking models by 'plddt' metric\n",
            "2025-04-10 18:15:28,910 rank_001_alphafold2_ptm_model_3_seed_000 pLDDT=59.6 pTM=0.0489\n",
            "2025-04-10 18:15:28,912 rank_002_alphafold2_ptm_model_1_seed_000 pLDDT=55 pTM=0.0532\n",
            "2025-04-10 18:15:28,915 rank_003_alphafold2_ptm_model_2_seed_000 pLDDT=51.9 pTM=0.0485\n",
            "2025-04-10 18:15:28,917 rank_004_alphafold2_ptm_model_5_seed_000 pLDDT=51.4 pTM=0.0471\n",
            "2025-04-10 18:15:28,920 rank_005_alphafold2_ptm_model_4_seed_000 pLDDT=50.9 pTM=0.0477\n",
            "2025-04-10 18:15:29,905 Query 450/8000: sequence_2450 (length 20)\n"
          ]
        },
        {
          "output_type": "stream",
          "name": "stderr",
          "text": [
            "PENDING:   0%|          | 0/150 [elapsed: 00:00 remaining: ?]"
          ]
        },
        {
          "output_type": "stream",
          "name": "stdout",
          "text": [
            "2025-04-10 18:15:30,597 Sleeping for 9s. Reason: PENDING\n"
          ]
        },
        {
          "output_type": "stream",
          "name": "stderr",
          "text": [
            "COMPLETE: 100%|██████████| 150/150 [elapsed: 00:11 remaining: 00:00]\n"
          ]
        },
        {
          "output_type": "stream",
          "name": "stdout",
          "text": [
            "2025-04-10 18:15:43,229 alphafold2_ptm_model_1_seed_000 recycle=0 pLDDT=85.1 pTM=0.101\n",
            "2025-04-10 18:15:43,769 alphafold2_ptm_model_1_seed_000 recycle=1 pLDDT=85.4 pTM=0.102 tol=0.157\n",
            "2025-04-10 18:15:44,308 alphafold2_ptm_model_1_seed_000 recycle=2 pLDDT=85.8 pTM=0.103 tol=0.0646\n",
            "2025-04-10 18:15:44,848 alphafold2_ptm_model_1_seed_000 recycle=3 pLDDT=85.6 pTM=0.103 tol=0.0311\n",
            "2025-04-10 18:15:44,849 alphafold2_ptm_model_1_seed_000 took 2.2s (3 recycles)\n",
            "2025-04-10 18:15:45,397 alphafold2_ptm_model_2_seed_000 recycle=0 pLDDT=88.1 pTM=0.11\n",
            "2025-04-10 18:15:45,937 alphafold2_ptm_model_2_seed_000 recycle=1 pLDDT=83.2 pTM=0.102 tol=0.0908\n",
            "2025-04-10 18:15:46,478 alphafold2_ptm_model_2_seed_000 recycle=2 pLDDT=83.8 pTM=0.102 tol=0.0338\n",
            "2025-04-10 18:15:47,018 alphafold2_ptm_model_2_seed_000 recycle=3 pLDDT=83.4 pTM=0.1 tol=0.0367\n",
            "2025-04-10 18:15:47,018 alphafold2_ptm_model_2_seed_000 took 2.2s (3 recycles)\n",
            "2025-04-10 18:15:47,569 alphafold2_ptm_model_3_seed_000 recycle=0 pLDDT=90 pTM=0.11\n",
            "2025-04-10 18:15:48,109 alphafold2_ptm_model_3_seed_000 recycle=1 pLDDT=86.8 pTM=0.104 tol=0.0953\n",
            "2025-04-10 18:15:48,649 alphafold2_ptm_model_3_seed_000 recycle=2 pLDDT=87.1 pTM=0.104 tol=0.0583\n",
            "2025-04-10 18:15:49,190 alphafold2_ptm_model_3_seed_000 recycle=3 pLDDT=87.2 pTM=0.104 tol=0.0376\n",
            "2025-04-10 18:15:49,190 alphafold2_ptm_model_3_seed_000 took 2.2s (3 recycles)\n",
            "2025-04-10 18:15:49,740 alphafold2_ptm_model_4_seed_000 recycle=0 pLDDT=86.2 pTM=0.103\n",
            "2025-04-10 18:15:50,281 alphafold2_ptm_model_4_seed_000 recycle=1 pLDDT=85.9 pTM=0.105 tol=0.0992\n",
            "2025-04-10 18:15:50,822 alphafold2_ptm_model_4_seed_000 recycle=2 pLDDT=86.2 pTM=0.104 tol=0.0468\n",
            "2025-04-10 18:15:51,362 alphafold2_ptm_model_4_seed_000 recycle=3 pLDDT=86.6 pTM=0.104 tol=0.032\n",
            "2025-04-10 18:15:51,362 alphafold2_ptm_model_4_seed_000 took 2.2s (3 recycles)\n",
            "2025-04-10 18:15:51,912 alphafold2_ptm_model_5_seed_000 recycle=0 pLDDT=93.4 pTM=0.117\n",
            "2025-04-10 18:15:52,453 alphafold2_ptm_model_5_seed_000 recycle=1 pLDDT=91.4 pTM=0.114 tol=0.0725\n",
            "2025-04-10 18:15:52,993 alphafold2_ptm_model_5_seed_000 recycle=2 pLDDT=91.2 pTM=0.114 tol=0.0512\n",
            "2025-04-10 18:15:53,533 alphafold2_ptm_model_5_seed_000 recycle=3 pLDDT=90.9 pTM=0.112 tol=0.0434\n",
            "2025-04-10 18:15:53,534 alphafold2_ptm_model_5_seed_000 took 2.2s (3 recycles)\n",
            "2025-04-10 18:15:53,543 reranking models by 'plddt' metric\n",
            "2025-04-10 18:15:53,544 rank_001_alphafold2_ptm_model_5_seed_000 pLDDT=90.9 pTM=0.112\n",
            "2025-04-10 18:15:53,546 rank_002_alphafold2_ptm_model_3_seed_000 pLDDT=87.2 pTM=0.104\n",
            "2025-04-10 18:15:53,549 rank_003_alphafold2_ptm_model_4_seed_000 pLDDT=86.6 pTM=0.104\n",
            "2025-04-10 18:15:53,551 rank_004_alphafold2_ptm_model_1_seed_000 pLDDT=85.6 pTM=0.103\n",
            "2025-04-10 18:15:53,554 rank_005_alphafold2_ptm_model_2_seed_000 pLDDT=83.4 pTM=0.1\n",
            "2025-04-10 18:15:54,543 Query 451/8000: sequence_2451 (length 20)\n"
          ]
        },
        {
          "output_type": "stream",
          "name": "stderr",
          "text": [
            "PENDING:   0%|          | 0/150 [elapsed: 00:00 remaining: ?]"
          ]
        },
        {
          "output_type": "stream",
          "name": "stdout",
          "text": [
            "2025-04-10 18:15:55,248 Sleeping for 8s. Reason: PENDING\n"
          ]
        },
        {
          "output_type": "stream",
          "name": "stderr",
          "text": [
            "RUNNING:   5%|▌         | 8/150 [elapsed: 00:09 remaining: 02:46]"
          ]
        },
        {
          "output_type": "stream",
          "name": "stdout",
          "text": [
            "2025-04-10 18:16:03,936 Sleeping for 8s. Reason: RUNNING\n"
          ]
        },
        {
          "output_type": "stream",
          "name": "stderr",
          "text": [
            "RUNNING:  11%|█         | 16/150 [elapsed: 00:18 remaining: 02:30]"
          ]
        },
        {
          "output_type": "stream",
          "name": "stdout",
          "text": [
            "2025-04-10 18:16:12,621 Sleeping for 10s. Reason: RUNNING\n"
          ]
        },
        {
          "output_type": "stream",
          "name": "stderr",
          "text": [
            "COMPLETE: 100%|██████████| 150/150 [elapsed: 00:29 remaining: 00:00]\n"
          ]
        },
        {
          "output_type": "stream",
          "name": "stdout",
          "text": [
            "2025-04-10 18:16:26,262 alphafold2_ptm_model_1_seed_000 recycle=0 pLDDT=62.2 pTM=0.0618\n",
            "2025-04-10 18:16:26,803 alphafold2_ptm_model_1_seed_000 recycle=1 pLDDT=63.6 pTM=0.0665 tol=0.481\n",
            "2025-04-10 18:16:27,342 alphafold2_ptm_model_1_seed_000 recycle=2 pLDDT=68.1 pTM=0.0714 tol=0.463\n",
            "2025-04-10 18:16:27,881 alphafold2_ptm_model_1_seed_000 recycle=3 pLDDT=68.1 pTM=0.0735 tol=0.203\n",
            "2025-04-10 18:16:27,882 alphafold2_ptm_model_1_seed_000 took 2.2s (3 recycles)\n",
            "2025-04-10 18:16:28,434 alphafold2_ptm_model_2_seed_000 recycle=0 pLDDT=64.1 pTM=0.0716\n",
            "2025-04-10 18:16:28,973 alphafold2_ptm_model_2_seed_000 recycle=1 pLDDT=62.3 pTM=0.0689 tol=0.187\n",
            "2025-04-10 18:16:29,513 alphafold2_ptm_model_2_seed_000 recycle=2 pLDDT=64.8 pTM=0.0696 tol=0.556\n",
            "2025-04-10 18:16:30,053 alphafold2_ptm_model_2_seed_000 recycle=3 pLDDT=65 pTM=0.0709 tol=0.352\n",
            "2025-04-10 18:16:30,053 alphafold2_ptm_model_2_seed_000 took 2.2s (3 recycles)\n",
            "2025-04-10 18:16:30,606 alphafold2_ptm_model_3_seed_000 recycle=0 pLDDT=59.6 pTM=0.0529\n",
            "2025-04-10 18:16:31,146 alphafold2_ptm_model_3_seed_000 recycle=1 pLDDT=61.1 pTM=0.0616 tol=1.43\n",
            "2025-04-10 18:16:31,686 alphafold2_ptm_model_3_seed_000 recycle=2 pLDDT=65.9 pTM=0.0687 tol=0.564\n",
            "2025-04-10 18:16:32,227 alphafold2_ptm_model_3_seed_000 recycle=3 pLDDT=66.6 pTM=0.0703 tol=0.698\n",
            "2025-04-10 18:16:32,227 alphafold2_ptm_model_3_seed_000 took 2.2s (3 recycles)\n",
            "2025-04-10 18:16:32,780 alphafold2_ptm_model_4_seed_000 recycle=0 pLDDT=60.5 pTM=0.0631\n",
            "2025-04-10 18:16:33,320 alphafold2_ptm_model_4_seed_000 recycle=1 pLDDT=64.8 pTM=0.0671 tol=1.19\n",
            "2025-04-10 18:16:33,861 alphafold2_ptm_model_4_seed_000 recycle=2 pLDDT=67.6 pTM=0.0696 tol=0.379\n",
            "2025-04-10 18:16:34,401 alphafold2_ptm_model_4_seed_000 recycle=3 pLDDT=69.8 pTM=0.0726 tol=0.19\n",
            "2025-04-10 18:16:34,401 alphafold2_ptm_model_4_seed_000 took 2.2s (3 recycles)\n",
            "2025-04-10 18:16:34,967 alphafold2_ptm_model_5_seed_000 recycle=0 pLDDT=65.8 pTM=0.079\n",
            "2025-04-10 18:16:35,507 alphafold2_ptm_model_5_seed_000 recycle=1 pLDDT=67.9 pTM=0.08 tol=0.359\n",
            "2025-04-10 18:16:36,047 alphafold2_ptm_model_5_seed_000 recycle=2 pLDDT=69.9 pTM=0.0816 tol=0.12\n",
            "2025-04-10 18:16:36,587 alphafold2_ptm_model_5_seed_000 recycle=3 pLDDT=71.2 pTM=0.0836 tol=0.173\n",
            "2025-04-10 18:16:36,588 alphafold2_ptm_model_5_seed_000 took 2.2s (3 recycles)\n",
            "2025-04-10 18:16:36,597 reranking models by 'plddt' metric\n",
            "2025-04-10 18:16:36,598 rank_001_alphafold2_ptm_model_5_seed_000 pLDDT=71.2 pTM=0.0836\n",
            "2025-04-10 18:16:36,600 rank_002_alphafold2_ptm_model_4_seed_000 pLDDT=69.8 pTM=0.0726\n",
            "2025-04-10 18:16:36,603 rank_003_alphafold2_ptm_model_1_seed_000 pLDDT=68.1 pTM=0.0735\n",
            "2025-04-10 18:16:36,605 rank_004_alphafold2_ptm_model_3_seed_000 pLDDT=66.6 pTM=0.0703\n",
            "2025-04-10 18:16:36,608 rank_005_alphafold2_ptm_model_2_seed_000 pLDDT=65 pTM=0.0709\n",
            "2025-04-10 18:16:37,589 Query 452/8000: sequence_2452 (length 20)\n"
          ]
        },
        {
          "output_type": "stream",
          "name": "stderr",
          "text": [
            "PENDING:   0%|          | 0/150 [elapsed: 00:00 remaining: ?]"
          ]
        },
        {
          "output_type": "stream",
          "name": "stdout",
          "text": [
            "2025-04-10 18:16:38,281 Sleeping for 5s. Reason: PENDING\n"
          ]
        },
        {
          "output_type": "stream",
          "name": "stderr",
          "text": [
            "RUNNING:   3%|▎         | 5/150 [elapsed: 00:06 remaining: 03:04]"
          ]
        },
        {
          "output_type": "stream",
          "name": "stdout",
          "text": [
            "2025-04-10 18:16:43,958 Sleeping for 6s. Reason: RUNNING\n"
          ]
        },
        {
          "output_type": "stream",
          "name": "stderr",
          "text": [
            "COMPLETE: 100%|██████████| 150/150 [elapsed: 00:13 remaining: 00:00]\n"
          ]
        },
        {
          "output_type": "stream",
          "name": "stdout",
          "text": [
            "2025-04-10 18:16:53,576 alphafold2_ptm_model_1_seed_000 recycle=0 pLDDT=55.5 pTM=0.0501\n",
            "2025-04-10 18:16:54,116 alphafold2_ptm_model_1_seed_000 recycle=1 pLDDT=54.6 pTM=0.0504 tol=0.897\n",
            "2025-04-10 18:16:54,657 alphafold2_ptm_model_1_seed_000 recycle=2 pLDDT=56.3 pTM=0.0555 tol=0.817\n",
            "2025-04-10 18:16:55,197 alphafold2_ptm_model_1_seed_000 recycle=3 pLDDT=55.4 pTM=0.0577 tol=0.664\n",
            "2025-04-10 18:16:55,197 alphafold2_ptm_model_1_seed_000 took 2.2s (3 recycles)\n",
            "2025-04-10 18:16:55,747 alphafold2_ptm_model_2_seed_000 recycle=0 pLDDT=54.4 pTM=0.0479\n",
            "2025-04-10 18:16:56,288 alphafold2_ptm_model_2_seed_000 recycle=1 pLDDT=54.7 pTM=0.0529 tol=1.68\n",
            "2025-04-10 18:16:56,827 alphafold2_ptm_model_2_seed_000 recycle=2 pLDDT=57.2 pTM=0.0587 tol=1.01\n",
            "2025-04-10 18:16:57,367 alphafold2_ptm_model_2_seed_000 recycle=3 pLDDT=55.7 pTM=0.058 tol=0.339\n",
            "2025-04-10 18:16:57,367 alphafold2_ptm_model_2_seed_000 took 2.2s (3 recycles)\n",
            "2025-04-10 18:16:57,917 alphafold2_ptm_model_3_seed_000 recycle=0 pLDDT=52.7 pTM=0.047\n",
            "2025-04-10 18:16:58,457 alphafold2_ptm_model_3_seed_000 recycle=1 pLDDT=55.5 pTM=0.0501 tol=1.68\n",
            "2025-04-10 18:16:58,997 alphafold2_ptm_model_3_seed_000 recycle=2 pLDDT=59.8 pTM=0.0606 tol=0.947\n",
            "2025-04-10 18:16:59,537 alphafold2_ptm_model_3_seed_000 recycle=3 pLDDT=65.6 pTM=0.0683 tol=1.02\n",
            "2025-04-10 18:16:59,538 alphafold2_ptm_model_3_seed_000 took 2.2s (3 recycles)\n",
            "2025-04-10 18:17:00,088 alphafold2_ptm_model_4_seed_000 recycle=0 pLDDT=52.9 pTM=0.0458\n",
            "2025-04-10 18:17:00,629 alphafold2_ptm_model_4_seed_000 recycle=1 pLDDT=53.3 pTM=0.048 tol=1.92\n",
            "2025-04-10 18:17:01,169 alphafold2_ptm_model_4_seed_000 recycle=2 pLDDT=53.8 pTM=0.047 tol=0.363\n",
            "2025-04-10 18:17:01,708 alphafold2_ptm_model_4_seed_000 recycle=3 pLDDT=53.6 pTM=0.0463 tol=0.253\n",
            "2025-04-10 18:17:01,709 alphafold2_ptm_model_4_seed_000 took 2.2s (3 recycles)\n",
            "2025-04-10 18:17:02,269 alphafold2_ptm_model_5_seed_000 recycle=0 pLDDT=56.2 pTM=0.0537\n",
            "2025-04-10 18:17:02,808 alphafold2_ptm_model_5_seed_000 recycle=1 pLDDT=53.9 pTM=0.0543 tol=0.454\n",
            "2025-04-10 18:17:03,348 alphafold2_ptm_model_5_seed_000 recycle=2 pLDDT=56.8 pTM=0.0569 tol=0.627\n",
            "2025-04-10 18:17:03,889 alphafold2_ptm_model_5_seed_000 recycle=3 pLDDT=56.6 pTM=0.0563 tol=0.497\n",
            "2025-04-10 18:17:03,889 alphafold2_ptm_model_5_seed_000 took 2.2s (3 recycles)\n",
            "2025-04-10 18:17:03,900 reranking models by 'plddt' metric\n",
            "2025-04-10 18:17:03,900 rank_001_alphafold2_ptm_model_3_seed_000 pLDDT=65.6 pTM=0.0683\n",
            "2025-04-10 18:17:03,903 rank_002_alphafold2_ptm_model_5_seed_000 pLDDT=56.6 pTM=0.0563\n",
            "2025-04-10 18:17:03,906 rank_003_alphafold2_ptm_model_2_seed_000 pLDDT=55.7 pTM=0.058\n",
            "2025-04-10 18:17:03,909 rank_004_alphafold2_ptm_model_1_seed_000 pLDDT=55.4 pTM=0.0577\n",
            "2025-04-10 18:17:03,912 rank_005_alphafold2_ptm_model_4_seed_000 pLDDT=53.6 pTM=0.0463\n",
            "2025-04-10 18:17:05,456 Query 453/8000: sequence_2453 (length 20)\n"
          ]
        },
        {
          "output_type": "stream",
          "name": "stderr",
          "text": [
            "PENDING:   0%|          | 0/150 [elapsed: 00:00 remaining: ?]"
          ]
        },
        {
          "output_type": "stream",
          "name": "stdout",
          "text": [
            "2025-04-10 18:17:06,149 Sleeping for 8s. Reason: PENDING\n"
          ]
        },
        {
          "output_type": "stream",
          "name": "stderr",
          "text": [
            "RUNNING:   5%|▌         | 8/150 [elapsed: 00:09 remaining: 02:46]"
          ]
        },
        {
          "output_type": "stream",
          "name": "stdout",
          "text": [
            "2025-04-10 18:17:14,822 Sleeping for 7s. Reason: RUNNING\n"
          ]
        },
        {
          "output_type": "stream",
          "name": "stderr",
          "text": [
            "COMPLETE: 100%|██████████| 150/150 [elapsed: 00:17 remaining: 00:00]\n"
          ]
        },
        {
          "output_type": "stream",
          "name": "stdout",
          "text": [
            "2025-04-10 18:17:25,476 alphafold2_ptm_model_1_seed_000 recycle=0 pLDDT=68 pTM=0.0658\n",
            "2025-04-10 18:17:26,016 alphafold2_ptm_model_1_seed_000 recycle=1 pLDDT=65.3 pTM=0.0653 tol=0.309\n",
            "2025-04-10 18:17:26,555 alphafold2_ptm_model_1_seed_000 recycle=2 pLDDT=68.7 pTM=0.0673 tol=0.265\n",
            "2025-04-10 18:17:27,096 alphafold2_ptm_model_1_seed_000 recycle=3 pLDDT=69.9 pTM=0.0687 tol=0.208\n",
            "2025-04-10 18:17:27,097 alphafold2_ptm_model_1_seed_000 took 2.2s (3 recycles)\n",
            "2025-04-10 18:17:27,650 alphafold2_ptm_model_2_seed_000 recycle=0 pLDDT=62 pTM=0.0612\n",
            "2025-04-10 18:17:28,190 alphafold2_ptm_model_2_seed_000 recycle=1 pLDDT=52.2 pTM=0.0506 tol=0.43\n",
            "2025-04-10 18:17:28,730 alphafold2_ptm_model_2_seed_000 recycle=2 pLDDT=52.4 pTM=0.0496 tol=0.683\n",
            "2025-04-10 18:17:29,270 alphafold2_ptm_model_2_seed_000 recycle=3 pLDDT=51.8 pTM=0.0474 tol=1.45\n",
            "2025-04-10 18:17:29,271 alphafold2_ptm_model_2_seed_000 took 2.2s (3 recycles)\n",
            "2025-04-10 18:17:29,820 alphafold2_ptm_model_3_seed_000 recycle=0 pLDDT=53.8 pTM=0.0469\n",
            "2025-04-10 18:17:30,360 alphafold2_ptm_model_3_seed_000 recycle=1 pLDDT=56.2 pTM=0.0492 tol=1.66\n",
            "2025-04-10 18:17:30,899 alphafold2_ptm_model_3_seed_000 recycle=2 pLDDT=57 pTM=0.0491 tol=0.875\n",
            "2025-04-10 18:17:31,439 alphafold2_ptm_model_3_seed_000 recycle=3 pLDDT=59.9 pTM=0.0497 tol=0.879\n",
            "2025-04-10 18:17:31,439 alphafold2_ptm_model_3_seed_000 took 2.2s (3 recycles)\n",
            "2025-04-10 18:17:32,002 alphafold2_ptm_model_4_seed_000 recycle=0 pLDDT=56 pTM=0.0545\n",
            "2025-04-10 18:17:32,542 alphafold2_ptm_model_4_seed_000 recycle=1 pLDDT=60.3 pTM=0.0606 tol=1.41\n",
            "2025-04-10 18:17:33,082 alphafold2_ptm_model_4_seed_000 recycle=2 pLDDT=61.5 pTM=0.0588 tol=0.401\n",
            "2025-04-10 18:17:33,622 alphafold2_ptm_model_4_seed_000 recycle=3 pLDDT=65 pTM=0.0637 tol=0.322\n",
            "2025-04-10 18:17:33,622 alphafold2_ptm_model_4_seed_000 took 2.2s (3 recycles)\n",
            "2025-04-10 18:17:34,172 alphafold2_ptm_model_5_seed_000 recycle=0 pLDDT=49.6 pTM=0.0511\n",
            "2025-04-10 18:17:34,712 alphafold2_ptm_model_5_seed_000 recycle=1 pLDDT=54.8 pTM=0.0481 tol=3.76\n",
            "2025-04-10 18:17:35,253 alphafold2_ptm_model_5_seed_000 recycle=2 pLDDT=55.8 pTM=0.0484 tol=0.523\n",
            "2025-04-10 18:17:35,793 alphafold2_ptm_model_5_seed_000 recycle=3 pLDDT=62.5 pTM=0.0547 tol=1.08\n",
            "2025-04-10 18:17:35,793 alphafold2_ptm_model_5_seed_000 took 2.2s (3 recycles)\n",
            "2025-04-10 18:17:35,803 reranking models by 'plddt' metric\n",
            "2025-04-10 18:17:35,804 rank_001_alphafold2_ptm_model_1_seed_000 pLDDT=69.9 pTM=0.0687\n",
            "2025-04-10 18:17:35,806 rank_002_alphafold2_ptm_model_4_seed_000 pLDDT=65 pTM=0.0637\n",
            "2025-04-10 18:17:35,809 rank_003_alphafold2_ptm_model_5_seed_000 pLDDT=62.5 pTM=0.0547\n",
            "2025-04-10 18:17:35,811 rank_004_alphafold2_ptm_model_3_seed_000 pLDDT=59.9 pTM=0.0497\n",
            "2025-04-10 18:17:35,813 rank_005_alphafold2_ptm_model_2_seed_000 pLDDT=51.8 pTM=0.0474\n",
            "2025-04-10 18:17:36,797 Query 454/8000: sequence_2454 (length 20)\n"
          ]
        },
        {
          "output_type": "stream",
          "name": "stderr",
          "text": [
            "PENDING:   0%|          | 0/150 [elapsed: 00:00 remaining: ?]"
          ]
        },
        {
          "output_type": "stream",
          "name": "stdout",
          "text": [
            "2025-04-10 18:17:37,501 Sleeping for 6s. Reason: PENDING\n"
          ]
        },
        {
          "output_type": "stream",
          "name": "stderr",
          "text": [
            "PENDING:   0%|          | 0/150 [elapsed: 00:07 remaining: ?]"
          ]
        },
        {
          "output_type": "stream",
          "name": "stdout",
          "text": [
            "2025-04-10 18:17:44,182 Sleeping for 7s. Reason: PENDING\n"
          ]
        },
        {
          "output_type": "stream",
          "name": "stderr",
          "text": [
            "PENDING:   0%|          | 0/150 [elapsed: 00:15 remaining: ?]"
          ]
        },
        {
          "output_type": "stream",
          "name": "stdout",
          "text": [
            "2025-04-10 18:17:51,866 Sleeping for 6s. Reason: PENDING\n"
          ]
        },
        {
          "output_type": "stream",
          "name": "stderr",
          "text": [
            "RUNNING:   4%|▍         | 6/150 [elapsed: 00:21 remaining: 08:41]"
          ]
        },
        {
          "output_type": "stream",
          "name": "stdout",
          "text": [
            "2025-04-10 18:17:58,546 Sleeping for 9s. Reason: RUNNING\n"
          ]
        },
        {
          "output_type": "stream",
          "name": "stderr",
          "text": [
            "COMPLETE: 100%|██████████| 150/150 [elapsed: 00:32 remaining: 00:00]\n"
          ]
        },
        {
          "output_type": "stream",
          "name": "stdout",
          "text": [
            "2025-04-10 18:18:11,199 alphafold2_ptm_model_1_seed_000 recycle=0 pLDDT=86.8 pTM=0.0978\n",
            "2025-04-10 18:18:11,740 alphafold2_ptm_model_1_seed_000 recycle=1 pLDDT=87.2 pTM=0.101 tol=0.124\n",
            "2025-04-10 18:18:12,280 alphafold2_ptm_model_1_seed_000 recycle=2 pLDDT=87.2 pTM=0.1 tol=0.103\n",
            "2025-04-10 18:18:12,821 alphafold2_ptm_model_1_seed_000 recycle=3 pLDDT=86.4 pTM=0.098 tol=0.0704\n",
            "2025-04-10 18:18:12,822 alphafold2_ptm_model_1_seed_000 took 2.2s (3 recycles)\n",
            "2025-04-10 18:18:13,371 alphafold2_ptm_model_2_seed_000 recycle=0 pLDDT=83.4 pTM=0.0942\n",
            "2025-04-10 18:18:13,911 alphafold2_ptm_model_2_seed_000 recycle=1 pLDDT=83.4 pTM=0.0971 tol=0.13\n",
            "2025-04-10 18:18:14,451 alphafold2_ptm_model_2_seed_000 recycle=2 pLDDT=82.2 pTM=0.0953 tol=0.108\n",
            "2025-04-10 18:18:14,990 alphafold2_ptm_model_2_seed_000 recycle=3 pLDDT=80.8 pTM=0.0922 tol=0.0427\n",
            "2025-04-10 18:18:14,991 alphafold2_ptm_model_2_seed_000 took 2.2s (3 recycles)\n",
            "2025-04-10 18:18:15,539 alphafold2_ptm_model_3_seed_000 recycle=0 pLDDT=84.8 pTM=0.0851\n",
            "2025-04-10 18:18:16,079 alphafold2_ptm_model_3_seed_000 recycle=1 pLDDT=90.1 pTM=0.102 tol=0.207\n",
            "2025-04-10 18:18:16,619 alphafold2_ptm_model_3_seed_000 recycle=2 pLDDT=90.1 pTM=0.102 tol=0.0728\n",
            "2025-04-10 18:18:17,160 alphafold2_ptm_model_3_seed_000 recycle=3 pLDDT=89.2 pTM=0.101 tol=0.073\n",
            "2025-04-10 18:18:17,160 alphafold2_ptm_model_3_seed_000 took 2.2s (3 recycles)\n",
            "2025-04-10 18:18:17,710 alphafold2_ptm_model_4_seed_000 recycle=0 pLDDT=82.1 pTM=0.0877\n",
            "2025-04-10 18:18:18,249 alphafold2_ptm_model_4_seed_000 recycle=1 pLDDT=89.2 pTM=0.103 tol=0.312\n",
            "2025-04-10 18:18:18,789 alphafold2_ptm_model_4_seed_000 recycle=2 pLDDT=89.4 pTM=0.103 tol=0.0785\n",
            "2025-04-10 18:18:19,329 alphafold2_ptm_model_4_seed_000 recycle=3 pLDDT=89.1 pTM=0.0998 tol=0.0396\n",
            "2025-04-10 18:18:19,330 alphafold2_ptm_model_4_seed_000 took 2.2s (3 recycles)\n",
            "2025-04-10 18:18:19,891 alphafold2_ptm_model_5_seed_000 recycle=0 pLDDT=90.4 pTM=0.104\n",
            "2025-04-10 18:18:20,431 alphafold2_ptm_model_5_seed_000 recycle=1 pLDDT=90.1 pTM=0.104 tol=0.0657\n",
            "2025-04-10 18:18:20,972 alphafold2_ptm_model_5_seed_000 recycle=2 pLDDT=89.5 pTM=0.104 tol=0.0706\n",
            "2025-04-10 18:18:21,512 alphafold2_ptm_model_5_seed_000 recycle=3 pLDDT=88.8 pTM=0.102 tol=0.0731\n",
            "2025-04-10 18:18:21,512 alphafold2_ptm_model_5_seed_000 took 2.2s (3 recycles)\n",
            "2025-04-10 18:18:21,521 reranking models by 'plddt' metric\n",
            "2025-04-10 18:18:21,522 rank_001_alphafold2_ptm_model_3_seed_000 pLDDT=89.2 pTM=0.101\n",
            "2025-04-10 18:18:21,524 rank_002_alphafold2_ptm_model_4_seed_000 pLDDT=89.1 pTM=0.0998\n",
            "2025-04-10 18:18:21,527 rank_003_alphafold2_ptm_model_5_seed_000 pLDDT=88.8 pTM=0.102\n",
            "2025-04-10 18:18:21,529 rank_004_alphafold2_ptm_model_1_seed_000 pLDDT=86.4 pTM=0.098\n",
            "2025-04-10 18:18:21,531 rank_005_alphafold2_ptm_model_2_seed_000 pLDDT=80.8 pTM=0.0922\n",
            "2025-04-10 18:18:22,510 Query 455/8000: sequence_2455 (length 20)\n"
          ]
        },
        {
          "output_type": "stream",
          "name": "stderr",
          "text": [
            "PENDING:   0%|          | 0/150 [elapsed: 00:00 remaining: ?]"
          ]
        },
        {
          "output_type": "stream",
          "name": "stdout",
          "text": [
            "2025-04-10 18:18:23,200 Sleeping for 6s. Reason: PENDING\n"
          ]
        },
        {
          "output_type": "stream",
          "name": "stderr",
          "text": [
            "RUNNING:   4%|▍         | 6/150 [elapsed: 00:07 remaining: 02:56]"
          ]
        },
        {
          "output_type": "stream",
          "name": "stdout",
          "text": [
            "2025-04-10 18:18:29,880 Sleeping for 9s. Reason: RUNNING\n"
          ]
        },
        {
          "output_type": "stream",
          "name": "stderr",
          "text": [
            "COMPLETE: 100%|██████████| 150/150 [elapsed: 00:17 remaining: 00:00]\n"
          ]
        },
        {
          "output_type": "stream",
          "name": "stdout",
          "text": [
            "2025-04-10 18:18:42,511 alphafold2_ptm_model_1_seed_000 recycle=0 pLDDT=63.3 pTM=0.0471\n",
            "2025-04-10 18:18:43,051 alphafold2_ptm_model_1_seed_000 recycle=1 pLDDT=58 pTM=0.0465 tol=1.2\n",
            "2025-04-10 18:18:43,590 alphafold2_ptm_model_1_seed_000 recycle=2 pLDDT=59.4 pTM=0.0461 tol=0.316\n",
            "2025-04-10 18:18:44,130 alphafold2_ptm_model_1_seed_000 recycle=3 pLDDT=58.7 pTM=0.0455 tol=0.222\n",
            "2025-04-10 18:18:44,131 alphafold2_ptm_model_1_seed_000 took 2.2s (3 recycles)\n",
            "2025-04-10 18:18:44,680 alphafold2_ptm_model_2_seed_000 recycle=0 pLDDT=60.2 pTM=0.0465\n",
            "2025-04-10 18:18:45,220 alphafold2_ptm_model_2_seed_000 recycle=1 pLDDT=59 pTM=0.0461 tol=0.62\n",
            "2025-04-10 18:18:45,760 alphafold2_ptm_model_2_seed_000 recycle=2 pLDDT=60.6 pTM=0.0468 tol=0.501\n",
            "2025-04-10 18:18:46,300 alphafold2_ptm_model_2_seed_000 recycle=3 pLDDT=60.8 pTM=0.0459 tol=0.454\n",
            "2025-04-10 18:18:46,301 alphafold2_ptm_model_2_seed_000 took 2.2s (3 recycles)\n",
            "2025-04-10 18:18:46,850 alphafold2_ptm_model_3_seed_000 recycle=0 pLDDT=64.9 pTM=0.0509\n",
            "2025-04-10 18:18:47,390 alphafold2_ptm_model_3_seed_000 recycle=1 pLDDT=61.2 pTM=0.0475 tol=0.583\n",
            "2025-04-10 18:18:47,930 alphafold2_ptm_model_3_seed_000 recycle=2 pLDDT=63.4 pTM=0.0469 tol=0.424\n",
            "2025-04-10 18:18:48,471 alphafold2_ptm_model_3_seed_000 recycle=3 pLDDT=63.7 pTM=0.0454 tol=0.26\n",
            "2025-04-10 18:18:48,471 alphafold2_ptm_model_3_seed_000 took 2.2s (3 recycles)\n",
            "2025-04-10 18:18:49,023 alphafold2_ptm_model_4_seed_000 recycle=0 pLDDT=64.6 pTM=0.0448\n",
            "2025-04-10 18:18:49,564 alphafold2_ptm_model_4_seed_000 recycle=1 pLDDT=61.1 pTM=0.0445 tol=0.744\n",
            "2025-04-10 18:18:50,104 alphafold2_ptm_model_4_seed_000 recycle=2 pLDDT=60.3 pTM=0.0443 tol=0.202\n",
            "2025-04-10 18:18:50,645 alphafold2_ptm_model_4_seed_000 recycle=3 pLDDT=59.7 pTM=0.044 tol=0.254\n",
            "2025-04-10 18:18:50,646 alphafold2_ptm_model_4_seed_000 took 2.2s (3 recycles)\n",
            "2025-04-10 18:18:51,196 alphafold2_ptm_model_5_seed_000 recycle=0 pLDDT=58.6 pTM=0.045\n",
            "2025-04-10 18:18:51,737 alphafold2_ptm_model_5_seed_000 recycle=1 pLDDT=55.8 pTM=0.0449 tol=1.44\n",
            "2025-04-10 18:18:52,277 alphafold2_ptm_model_5_seed_000 recycle=2 pLDDT=55.4 pTM=0.0447 tol=1.91\n",
            "2025-04-10 18:18:52,818 alphafold2_ptm_model_5_seed_000 recycle=3 pLDDT=57.5 pTM=0.0452 tol=1.42\n",
            "2025-04-10 18:18:52,819 alphafold2_ptm_model_5_seed_000 took 2.2s (3 recycles)\n",
            "2025-04-10 18:18:52,843 reranking models by 'plddt' metric\n",
            "2025-04-10 18:18:52,843 rank_001_alphafold2_ptm_model_3_seed_000 pLDDT=63.7 pTM=0.0454\n",
            "2025-04-10 18:18:52,846 rank_002_alphafold2_ptm_model_2_seed_000 pLDDT=60.8 pTM=0.0459\n",
            "2025-04-10 18:18:52,848 rank_003_alphafold2_ptm_model_4_seed_000 pLDDT=59.7 pTM=0.044\n",
            "2025-04-10 18:18:52,850 rank_004_alphafold2_ptm_model_1_seed_000 pLDDT=58.7 pTM=0.0455\n",
            "2025-04-10 18:18:52,853 rank_005_alphafold2_ptm_model_5_seed_000 pLDDT=57.5 pTM=0.0452\n",
            "2025-04-10 18:18:53,828 Query 456/8000: sequence_2456 (length 20)\n"
          ]
        },
        {
          "output_type": "stream",
          "name": "stderr",
          "text": [
            "PENDING:   0%|          | 0/150 [elapsed: 00:00 remaining: ?]"
          ]
        },
        {
          "output_type": "stream",
          "name": "stdout",
          "text": [
            "2025-04-10 18:18:54,518 Sleeping for 8s. Reason: PENDING\n"
          ]
        },
        {
          "output_type": "stream",
          "name": "stderr",
          "text": [
            "RUNNING:   5%|▌         | 8/150 [elapsed: 00:09 remaining: 02:46]"
          ]
        },
        {
          "output_type": "stream",
          "name": "stdout",
          "text": [
            "2025-04-10 18:19:03,193 Sleeping for 8s. Reason: RUNNING\n"
          ]
        },
        {
          "output_type": "stream",
          "name": "stderr",
          "text": [
            "COMPLETE: 100%|██████████| 150/150 [elapsed: 00:18 remaining: 00:00]\n"
          ]
        },
        {
          "output_type": "stream",
          "name": "stdout",
          "text": [
            "2025-04-10 18:19:14,811 alphafold2_ptm_model_1_seed_000 recycle=0 pLDDT=57.9 pTM=0.0474\n",
            "2025-04-10 18:19:15,351 alphafold2_ptm_model_1_seed_000 recycle=1 pLDDT=56.7 pTM=0.0463 tol=0.757\n",
            "2025-04-10 18:19:15,890 alphafold2_ptm_model_1_seed_000 recycle=2 pLDDT=58.7 pTM=0.0473 tol=0.842\n",
            "2025-04-10 18:19:16,429 alphafold2_ptm_model_1_seed_000 recycle=3 pLDDT=56.8 pTM=0.0464 tol=0.861\n",
            "2025-04-10 18:19:16,430 alphafold2_ptm_model_1_seed_000 took 2.2s (3 recycles)\n",
            "2025-04-10 18:19:16,980 alphafold2_ptm_model_2_seed_000 recycle=0 pLDDT=60.4 pTM=0.046\n",
            "2025-04-10 18:19:17,519 alphafold2_ptm_model_2_seed_000 recycle=1 pLDDT=57.1 pTM=0.0447 tol=0.551\n",
            "2025-04-10 18:19:18,059 alphafold2_ptm_model_2_seed_000 recycle=2 pLDDT=58.8 pTM=0.0451 tol=0.483\n",
            "2025-04-10 18:19:18,599 alphafold2_ptm_model_2_seed_000 recycle=3 pLDDT=59.3 pTM=0.0451 tol=0.76\n",
            "2025-04-10 18:19:18,600 alphafold2_ptm_model_2_seed_000 took 2.2s (3 recycles)\n",
            "2025-04-10 18:19:19,150 alphafold2_ptm_model_3_seed_000 recycle=0 pLDDT=57.1 pTM=0.0423\n",
            "2025-04-10 18:19:19,690 alphafold2_ptm_model_3_seed_000 recycle=1 pLDDT=56.2 pTM=0.0423 tol=1.59\n",
            "2025-04-10 18:19:20,229 alphafold2_ptm_model_3_seed_000 recycle=2 pLDDT=57.2 pTM=0.0428 tol=0.297\n",
            "2025-04-10 18:19:20,770 alphafold2_ptm_model_3_seed_000 recycle=3 pLDDT=56.8 pTM=0.0423 tol=0.76\n",
            "2025-04-10 18:19:20,771 alphafold2_ptm_model_3_seed_000 took 2.2s (3 recycles)\n",
            "2025-04-10 18:19:21,320 alphafold2_ptm_model_4_seed_000 recycle=0 pLDDT=58.9 pTM=0.0434\n",
            "2025-04-10 18:19:21,859 alphafold2_ptm_model_4_seed_000 recycle=1 pLDDT=55.4 pTM=0.043 tol=1.43\n",
            "2025-04-10 18:19:22,399 alphafold2_ptm_model_4_seed_000 recycle=2 pLDDT=55.3 pTM=0.0439 tol=0.911\n",
            "2025-04-10 18:19:22,938 alphafold2_ptm_model_4_seed_000 recycle=3 pLDDT=55.6 pTM=0.0431 tol=0.791\n",
            "2025-04-10 18:19:22,939 alphafold2_ptm_model_4_seed_000 took 2.2s (3 recycles)\n",
            "2025-04-10 18:19:23,489 alphafold2_ptm_model_5_seed_000 recycle=0 pLDDT=59.9 pTM=0.0449\n",
            "2025-04-10 18:19:24,029 alphafold2_ptm_model_5_seed_000 recycle=1 pLDDT=55.4 pTM=0.0453 tol=1.75\n",
            "2025-04-10 18:19:24,569 alphafold2_ptm_model_5_seed_000 recycle=2 pLDDT=58.8 pTM=0.0458 tol=0.812\n",
            "2025-04-10 18:19:25,109 alphafold2_ptm_model_5_seed_000 recycle=3 pLDDT=57.9 pTM=0.0455 tol=0.931\n",
            "2025-04-10 18:19:25,109 alphafold2_ptm_model_5_seed_000 took 2.2s (3 recycles)\n",
            "2025-04-10 18:19:25,130 reranking models by 'plddt' metric\n",
            "2025-04-10 18:19:25,130 rank_001_alphafold2_ptm_model_2_seed_000 pLDDT=59.3 pTM=0.0451\n",
            "2025-04-10 18:19:25,133 rank_002_alphafold2_ptm_model_5_seed_000 pLDDT=57.9 pTM=0.0455\n",
            "2025-04-10 18:19:25,135 rank_003_alphafold2_ptm_model_3_seed_000 pLDDT=56.8 pTM=0.0423\n",
            "2025-04-10 18:19:25,137 rank_004_alphafold2_ptm_model_1_seed_000 pLDDT=56.8 pTM=0.0464\n",
            "2025-04-10 18:19:25,140 rank_005_alphafold2_ptm_model_4_seed_000 pLDDT=55.6 pTM=0.0431\n",
            "2025-04-10 18:19:26,111 Query 457/8000: sequence_2457 (length 20)\n"
          ]
        },
        {
          "output_type": "stream",
          "name": "stderr",
          "text": [
            "PENDING:   0%|          | 0/150 [elapsed: 00:00 remaining: ?]"
          ]
        },
        {
          "output_type": "stream",
          "name": "stdout",
          "text": [
            "2025-04-10 18:19:26,810 Sleeping for 9s. Reason: PENDING\n"
          ]
        },
        {
          "output_type": "stream",
          "name": "stderr",
          "text": [
            "COMPLETE: 100%|██████████| 150/150 [elapsed: 00:11 remaining: 00:00]\n"
          ]
        },
        {
          "output_type": "stream",
          "name": "stdout",
          "text": [
            "2025-04-10 18:19:39,458 alphafold2_ptm_model_1_seed_000 recycle=0 pLDDT=74.1 pTM=0.082\n",
            "2025-04-10 18:19:39,997 alphafold2_ptm_model_1_seed_000 recycle=1 pLDDT=76.2 pTM=0.0864 tol=0.145\n",
            "2025-04-10 18:19:40,537 alphafold2_ptm_model_1_seed_000 recycle=2 pLDDT=76.3 pTM=0.0857 tol=0.109\n",
            "2025-04-10 18:19:41,077 alphafold2_ptm_model_1_seed_000 recycle=3 pLDDT=77.1 pTM=0.088 tol=0.167\n",
            "2025-04-10 18:19:41,077 alphafold2_ptm_model_1_seed_000 took 2.2s (3 recycles)\n",
            "2025-04-10 18:19:41,627 alphafold2_ptm_model_2_seed_000 recycle=0 pLDDT=79.8 pTM=0.0944\n",
            "2025-04-10 18:19:42,167 alphafold2_ptm_model_2_seed_000 recycle=1 pLDDT=79.5 pTM=0.0967 tol=0.0691\n",
            "2025-04-10 18:19:42,706 alphafold2_ptm_model_2_seed_000 recycle=2 pLDDT=79.1 pTM=0.0964 tol=0.0466\n",
            "2025-04-10 18:19:43,246 alphafold2_ptm_model_2_seed_000 recycle=3 pLDDT=80 pTM=0.0984 tol=0.0734\n",
            "2025-04-10 18:19:43,246 alphafold2_ptm_model_2_seed_000 took 2.2s (3 recycles)\n",
            "2025-04-10 18:19:43,795 alphafold2_ptm_model_3_seed_000 recycle=0 pLDDT=78.4 pTM=0.0817\n",
            "2025-04-10 18:19:44,335 alphafold2_ptm_model_3_seed_000 recycle=1 pLDDT=78.6 pTM=0.0834 tol=0.111\n",
            "2025-04-10 18:19:44,875 alphafold2_ptm_model_3_seed_000 recycle=2 pLDDT=78.5 pTM=0.0817 tol=0.143\n",
            "2025-04-10 18:19:45,414 alphafold2_ptm_model_3_seed_000 recycle=3 pLDDT=78.6 pTM=0.0818 tol=0.162\n",
            "2025-04-10 18:19:45,415 alphafold2_ptm_model_3_seed_000 took 2.2s (3 recycles)\n",
            "2025-04-10 18:19:45,964 alphafold2_ptm_model_4_seed_000 recycle=0 pLDDT=79.6 pTM=0.0934\n",
            "2025-04-10 18:19:46,504 alphafold2_ptm_model_4_seed_000 recycle=1 pLDDT=80.4 pTM=0.0952 tol=0.168\n",
            "2025-04-10 18:19:47,044 alphafold2_ptm_model_4_seed_000 recycle=2 pLDDT=80.4 pTM=0.0947 tol=0.0959\n",
            "2025-04-10 18:19:47,585 alphafold2_ptm_model_4_seed_000 recycle=3 pLDDT=81.1 pTM=0.0954 tol=0.0956\n",
            "2025-04-10 18:19:47,585 alphafold2_ptm_model_4_seed_000 took 2.2s (3 recycles)\n",
            "2025-04-10 18:19:48,134 alphafold2_ptm_model_5_seed_000 recycle=0 pLDDT=82.6 pTM=0.0958\n",
            "2025-04-10 18:19:48,673 alphafold2_ptm_model_5_seed_000 recycle=1 pLDDT=83.6 pTM=0.0974 tol=0.0956\n",
            "2025-04-10 18:19:49,213 alphafold2_ptm_model_5_seed_000 recycle=2 pLDDT=83.7 pTM=0.0978 tol=0.0432\n",
            "2025-04-10 18:19:49,753 alphafold2_ptm_model_5_seed_000 recycle=3 pLDDT=83.7 pTM=0.0984 tol=0.0641\n",
            "2025-04-10 18:19:49,754 alphafold2_ptm_model_5_seed_000 took 2.2s (3 recycles)\n",
            "2025-04-10 18:19:49,779 reranking models by 'plddt' metric\n",
            "2025-04-10 18:19:49,780 rank_001_alphafold2_ptm_model_5_seed_000 pLDDT=83.7 pTM=0.0984\n",
            "2025-04-10 18:19:49,782 rank_002_alphafold2_ptm_model_4_seed_000 pLDDT=81.1 pTM=0.0954\n",
            "2025-04-10 18:19:49,785 rank_003_alphafold2_ptm_model_2_seed_000 pLDDT=80 pTM=0.0984\n",
            "2025-04-10 18:19:49,787 rank_004_alphafold2_ptm_model_3_seed_000 pLDDT=78.6 pTM=0.0818\n",
            "2025-04-10 18:19:49,789 rank_005_alphafold2_ptm_model_1_seed_000 pLDDT=77.1 pTM=0.088\n",
            "2025-04-10 18:19:50,769 Query 458/8000: sequence_2458 (length 20)\n"
          ]
        },
        {
          "output_type": "stream",
          "name": "stderr",
          "text": [
            "PENDING:   0%|          | 0/150 [elapsed: 00:00 remaining: ?]"
          ]
        },
        {
          "output_type": "stream",
          "name": "stdout",
          "text": [
            "2025-04-10 18:19:51,456 Sleeping for 6s. Reason: PENDING\n"
          ]
        },
        {
          "output_type": "stream",
          "name": "stderr",
          "text": [
            "RUNNING:   4%|▍         | 6/150 [elapsed: 00:07 remaining: 02:56]"
          ]
        },
        {
          "output_type": "stream",
          "name": "stdout",
          "text": [
            "2025-04-10 18:19:58,142 Sleeping for 10s. Reason: RUNNING\n"
          ]
        },
        {
          "output_type": "stream",
          "name": "stderr",
          "text": [
            "COMPLETE: 100%|██████████| 150/150 [elapsed: 00:18 remaining: 00:00]\n"
          ]
        },
        {
          "output_type": "stream",
          "name": "stdout",
          "text": [
            "2025-04-10 18:20:11,768 alphafold2_ptm_model_1_seed_000 recycle=0 pLDDT=67.5 pTM=0.0541\n",
            "2025-04-10 18:20:12,309 alphafold2_ptm_model_1_seed_000 recycle=1 pLDDT=65.9 pTM=0.0547 tol=0.522\n",
            "2025-04-10 18:20:12,849 alphafold2_ptm_model_1_seed_000 recycle=2 pLDDT=65.4 pTM=0.0557 tol=0.448\n",
            "2025-04-10 18:20:13,388 alphafold2_ptm_model_1_seed_000 recycle=3 pLDDT=64.4 pTM=0.0558 tol=0.391\n",
            "2025-04-10 18:20:13,389 alphafold2_ptm_model_1_seed_000 took 2.2s (3 recycles)\n",
            "2025-04-10 18:20:13,938 alphafold2_ptm_model_2_seed_000 recycle=0 pLDDT=70.1 pTM=0.0555\n",
            "2025-04-10 18:20:14,478 alphafold2_ptm_model_2_seed_000 recycle=1 pLDDT=69.1 pTM=0.0553 tol=1.12\n",
            "2025-04-10 18:20:15,017 alphafold2_ptm_model_2_seed_000 recycle=2 pLDDT=68.5 pTM=0.0555 tol=0.717\n",
            "2025-04-10 18:20:15,557 alphafold2_ptm_model_2_seed_000 recycle=3 pLDDT=67.6 pTM=0.0547 tol=0.471\n",
            "2025-04-10 18:20:15,558 alphafold2_ptm_model_2_seed_000 took 2.2s (3 recycles)\n",
            "2025-04-10 18:20:16,108 alphafold2_ptm_model_3_seed_000 recycle=0 pLDDT=72.9 pTM=0.0563\n",
            "2025-04-10 18:20:16,647 alphafold2_ptm_model_3_seed_000 recycle=1 pLDDT=74.8 pTM=0.0575 tol=0.296\n",
            "2025-04-10 18:20:17,186 alphafold2_ptm_model_3_seed_000 recycle=2 pLDDT=74.2 pTM=0.0574 tol=0.401\n",
            "2025-04-10 18:20:17,726 alphafold2_ptm_model_3_seed_000 recycle=3 pLDDT=73.1 pTM=0.0569 tol=0.358\n",
            "2025-04-10 18:20:17,727 alphafold2_ptm_model_3_seed_000 took 2.2s (3 recycles)\n",
            "2025-04-10 18:20:18,276 alphafold2_ptm_model_4_seed_000 recycle=0 pLDDT=74.9 pTM=0.0579\n",
            "2025-04-10 18:20:18,817 alphafold2_ptm_model_4_seed_000 recycle=1 pLDDT=76.2 pTM=0.0617 tol=0.942\n",
            "2025-04-10 18:20:19,357 alphafold2_ptm_model_4_seed_000 recycle=2 pLDDT=77.1 pTM=0.0659 tol=0.157\n",
            "2025-04-10 18:20:19,898 alphafold2_ptm_model_4_seed_000 recycle=3 pLDDT=75.9 pTM=0.067 tol=0.272\n",
            "2025-04-10 18:20:19,898 alphafold2_ptm_model_4_seed_000 took 2.2s (3 recycles)\n",
            "2025-04-10 18:20:20,448 alphafold2_ptm_model_5_seed_000 recycle=0 pLDDT=74.2 pTM=0.0559\n",
            "2025-04-10 18:20:20,987 alphafold2_ptm_model_5_seed_000 recycle=1 pLDDT=75.4 pTM=0.058 tol=0.626\n",
            "2025-04-10 18:20:21,526 alphafold2_ptm_model_5_seed_000 recycle=2 pLDDT=75.9 pTM=0.0598 tol=0.374\n",
            "2025-04-10 18:20:22,066 alphafold2_ptm_model_5_seed_000 recycle=3 pLDDT=75.2 pTM=0.0599 tol=0.493\n",
            "2025-04-10 18:20:22,067 alphafold2_ptm_model_5_seed_000 took 2.2s (3 recycles)\n",
            "2025-04-10 18:20:22,088 reranking models by 'plddt' metric\n",
            "2025-04-10 18:20:22,088 rank_001_alphafold2_ptm_model_4_seed_000 pLDDT=75.9 pTM=0.067\n",
            "2025-04-10 18:20:22,091 rank_002_alphafold2_ptm_model_5_seed_000 pLDDT=75.2 pTM=0.0599\n",
            "2025-04-10 18:20:22,093 rank_003_alphafold2_ptm_model_3_seed_000 pLDDT=73.1 pTM=0.0569\n",
            "2025-04-10 18:20:22,096 rank_004_alphafold2_ptm_model_2_seed_000 pLDDT=67.6 pTM=0.0547\n",
            "2025-04-10 18:20:22,098 rank_005_alphafold2_ptm_model_1_seed_000 pLDDT=64.4 pTM=0.0558\n",
            "2025-04-10 18:20:23,080 Query 459/8000: sequence_2459 (length 20)\n"
          ]
        },
        {
          "output_type": "stream",
          "name": "stderr",
          "text": [
            "PENDING:   0%|          | 0/150 [elapsed: 00:00 remaining: ?]"
          ]
        },
        {
          "output_type": "stream",
          "name": "stdout",
          "text": [
            "2025-04-10 18:20:23,780 Sleeping for 10s. Reason: PENDING\n"
          ]
        },
        {
          "output_type": "stream",
          "name": "stderr",
          "text": [
            "RUNNING:   7%|▋         | 10/150 [elapsed: 00:11 remaining: 02:39]"
          ]
        },
        {
          "output_type": "stream",
          "name": "stdout",
          "text": [
            "2025-04-10 18:20:34,464 Sleeping for 10s. Reason: RUNNING\n"
          ]
        },
        {
          "output_type": "stream",
          "name": "stderr",
          "text": [
            "COMPLETE: 100%|██████████| 150/150 [elapsed: 00:22 remaining: 00:00]\n"
          ]
        },
        {
          "output_type": "stream",
          "name": "stdout",
          "text": [
            "2025-04-10 18:20:48,729 alphafold2_ptm_model_1_seed_000 recycle=0 pLDDT=61.2 pTM=0.0522\n",
            "2025-04-10 18:20:49,269 alphafold2_ptm_model_1_seed_000 recycle=1 pLDDT=62 pTM=0.0555 tol=1.55\n",
            "2025-04-10 18:20:49,809 alphafold2_ptm_model_1_seed_000 recycle=2 pLDDT=63.1 pTM=0.0563 tol=0.354\n",
            "2025-04-10 18:20:50,349 alphafold2_ptm_model_1_seed_000 recycle=3 pLDDT=61 pTM=0.0555 tol=0.401\n",
            "2025-04-10 18:20:50,349 alphafold2_ptm_model_1_seed_000 took 2.2s (3 recycles)\n",
            "2025-04-10 18:20:50,899 alphafold2_ptm_model_2_seed_000 recycle=0 pLDDT=58.8 pTM=0.0497\n",
            "2025-04-10 18:20:51,439 alphafold2_ptm_model_2_seed_000 recycle=1 pLDDT=58.2 pTM=0.0493 tol=0.432\n",
            "2025-04-10 18:20:51,978 alphafold2_ptm_model_2_seed_000 recycle=2 pLDDT=60.2 pTM=0.0488 tol=1.08\n",
            "2025-04-10 18:20:52,518 alphafold2_ptm_model_2_seed_000 recycle=3 pLDDT=59 pTM=0.0492 tol=0.459\n",
            "2025-04-10 18:20:52,519 alphafold2_ptm_model_2_seed_000 took 2.2s (3 recycles)\n",
            "2025-04-10 18:20:53,069 alphafold2_ptm_model_3_seed_000 recycle=0 pLDDT=61.1 pTM=0.0496\n",
            "2025-04-10 18:20:53,609 alphafold2_ptm_model_3_seed_000 recycle=1 pLDDT=72.2 pTM=0.0618 tol=4.35\n",
            "2025-04-10 18:20:54,149 alphafold2_ptm_model_3_seed_000 recycle=2 pLDDT=74.1 pTM=0.0631 tol=0.955\n",
            "2025-04-10 18:20:54,689 alphafold2_ptm_model_3_seed_000 recycle=3 pLDDT=71.6 pTM=0.0622 tol=0.32\n",
            "2025-04-10 18:20:54,690 alphafold2_ptm_model_3_seed_000 took 2.2s (3 recycles)\n",
            "2025-04-10 18:20:55,240 alphafold2_ptm_model_4_seed_000 recycle=0 pLDDT=59.8 pTM=0.0494\n",
            "2025-04-10 18:20:55,781 alphafold2_ptm_model_4_seed_000 recycle=1 pLDDT=58.4 pTM=0.0524 tol=2.09\n",
            "2025-04-10 18:20:56,322 alphafold2_ptm_model_4_seed_000 recycle=2 pLDDT=60.8 pTM=0.0542 tol=1.47\n",
            "2025-04-10 18:20:56,861 alphafold2_ptm_model_4_seed_000 recycle=3 pLDDT=61.9 pTM=0.0556 tol=0.704\n",
            "2025-04-10 18:20:56,862 alphafold2_ptm_model_4_seed_000 took 2.2s (3 recycles)\n",
            "2025-04-10 18:20:57,412 alphafold2_ptm_model_5_seed_000 recycle=0 pLDDT=61.3 pTM=0.0595\n",
            "2025-04-10 18:20:57,952 alphafold2_ptm_model_5_seed_000 recycle=1 pLDDT=65.9 pTM=0.0643 tol=0.724\n",
            "2025-04-10 18:20:58,493 alphafold2_ptm_model_5_seed_000 recycle=2 pLDDT=69.6 pTM=0.0668 tol=0.292\n",
            "2025-04-10 18:20:59,033 alphafold2_ptm_model_5_seed_000 recycle=3 pLDDT=67.4 pTM=0.066 tol=0.153\n",
            "2025-04-10 18:20:59,034 alphafold2_ptm_model_5_seed_000 took 2.2s (3 recycles)\n",
            "2025-04-10 18:20:59,056 reranking models by 'plddt' metric\n",
            "2025-04-10 18:20:59,057 rank_001_alphafold2_ptm_model_3_seed_000 pLDDT=71.6 pTM=0.0622\n",
            "2025-04-10 18:20:59,060 rank_002_alphafold2_ptm_model_5_seed_000 pLDDT=67.4 pTM=0.066\n",
            "2025-04-10 18:20:59,063 rank_003_alphafold2_ptm_model_4_seed_000 pLDDT=61.9 pTM=0.0556\n",
            "2025-04-10 18:20:59,066 rank_004_alphafold2_ptm_model_1_seed_000 pLDDT=61 pTM=0.0555\n",
            "2025-04-10 18:20:59,069 rank_005_alphafold2_ptm_model_2_seed_000 pLDDT=59 pTM=0.0492\n",
            "2025-04-10 18:21:00,069 Query 460/8000: sequence_2460 (length 20)\n"
          ]
        },
        {
          "output_type": "stream",
          "name": "stderr",
          "text": [
            "PENDING:   0%|          | 0/150 [elapsed: 00:00 remaining: ?]"
          ]
        },
        {
          "output_type": "stream",
          "name": "stdout",
          "text": [
            "2025-04-10 18:21:00,767 Sleeping for 8s. Reason: PENDING\n"
          ]
        },
        {
          "output_type": "stream",
          "name": "stderr",
          "text": [
            "RUNNING:   5%|▌         | 8/150 [elapsed: 00:09 remaining: 02:46]"
          ]
        },
        {
          "output_type": "stream",
          "name": "stdout",
          "text": [
            "2025-04-10 18:21:09,445 Sleeping for 9s. Reason: RUNNING\n"
          ]
        },
        {
          "output_type": "stream",
          "name": "stderr",
          "text": [
            "COMPLETE: 100%|██████████| 150/150 [elapsed: 00:19 remaining: 00:00]\n"
          ]
        },
        {
          "output_type": "stream",
          "name": "stdout",
          "text": [
            "2025-04-10 18:21:22,073 alphafold2_ptm_model_1_seed_000 recycle=0 pLDDT=55.5 pTM=0.0506\n",
            "2025-04-10 18:21:22,612 alphafold2_ptm_model_1_seed_000 recycle=1 pLDDT=54.9 pTM=0.0507 tol=2.38\n",
            "2025-04-10 18:21:23,153 alphafold2_ptm_model_1_seed_000 recycle=2 pLDDT=57.1 pTM=0.0523 tol=2.01\n",
            "2025-04-10 18:21:23,693 alphafold2_ptm_model_1_seed_000 recycle=3 pLDDT=56.6 pTM=0.0514 tol=2.76\n",
            "2025-04-10 18:21:23,693 alphafold2_ptm_model_1_seed_000 took 2.2s (3 recycles)\n",
            "2025-04-10 18:21:24,242 alphafold2_ptm_model_2_seed_000 recycle=0 pLDDT=53.9 pTM=0.0469\n",
            "2025-04-10 18:21:24,782 alphafold2_ptm_model_2_seed_000 recycle=1 pLDDT=52.9 pTM=0.0479 tol=1.2\n",
            "2025-04-10 18:21:25,323 alphafold2_ptm_model_2_seed_000 recycle=2 pLDDT=51.1 pTM=0.0483 tol=0.691\n",
            "2025-04-10 18:21:25,863 alphafold2_ptm_model_2_seed_000 recycle=3 pLDDT=53 pTM=0.0477 tol=1.03\n",
            "2025-04-10 18:21:25,863 alphafold2_ptm_model_2_seed_000 took 2.2s (3 recycles)\n",
            "2025-04-10 18:21:26,413 alphafold2_ptm_model_3_seed_000 recycle=0 pLDDT=57.8 pTM=0.0489\n",
            "2025-04-10 18:21:26,953 alphafold2_ptm_model_3_seed_000 recycle=1 pLDDT=58.2 pTM=0.0502 tol=1.34\n",
            "2025-04-10 18:21:27,494 alphafold2_ptm_model_3_seed_000 recycle=2 pLDDT=59.2 pTM=0.0493 tol=1.11\n",
            "2025-04-10 18:21:28,034 alphafold2_ptm_model_3_seed_000 recycle=3 pLDDT=60 pTM=0.0498 tol=0.344\n",
            "2025-04-10 18:21:28,035 alphafold2_ptm_model_3_seed_000 took 2.2s (3 recycles)\n",
            "2025-04-10 18:21:28,584 alphafold2_ptm_model_4_seed_000 recycle=0 pLDDT=58.4 pTM=0.0471\n",
            "2025-04-10 18:21:29,123 alphafold2_ptm_model_4_seed_000 recycle=1 pLDDT=53.2 pTM=0.0465 tol=2.25\n",
            "2025-04-10 18:21:29,664 alphafold2_ptm_model_4_seed_000 recycle=2 pLDDT=51.1 pTM=0.0467 tol=3.16\n",
            "2025-04-10 18:21:30,204 alphafold2_ptm_model_4_seed_000 recycle=3 pLDDT=52 pTM=0.0488 tol=1.3\n",
            "2025-04-10 18:21:30,205 alphafold2_ptm_model_4_seed_000 took 2.2s (3 recycles)\n",
            "2025-04-10 18:21:30,755 alphafold2_ptm_model_5_seed_000 recycle=0 pLDDT=56.9 pTM=0.0485\n",
            "2025-04-10 18:21:31,295 alphafold2_ptm_model_5_seed_000 recycle=1 pLDDT=55.7 pTM=0.0513 tol=1.09\n",
            "2025-04-10 18:21:31,834 alphafold2_ptm_model_5_seed_000 recycle=2 pLDDT=52.8 pTM=0.049 tol=2\n",
            "2025-04-10 18:21:32,375 alphafold2_ptm_model_5_seed_000 recycle=3 pLDDT=56.9 pTM=0.0504 tol=1.23\n",
            "2025-04-10 18:21:32,377 alphafold2_ptm_model_5_seed_000 took 2.2s (3 recycles)\n",
            "2025-04-10 18:21:32,404 reranking models by 'plddt' metric\n",
            "2025-04-10 18:21:32,405 rank_001_alphafold2_ptm_model_3_seed_000 pLDDT=60 pTM=0.0498\n",
            "2025-04-10 18:21:32,407 rank_002_alphafold2_ptm_model_5_seed_000 pLDDT=56.9 pTM=0.0504\n",
            "2025-04-10 18:21:32,410 rank_003_alphafold2_ptm_model_1_seed_000 pLDDT=56.6 pTM=0.0514\n",
            "2025-04-10 18:21:32,412 rank_004_alphafold2_ptm_model_2_seed_000 pLDDT=53 pTM=0.0477\n",
            "2025-04-10 18:21:32,415 rank_005_alphafold2_ptm_model_4_seed_000 pLDDT=52 pTM=0.0488\n",
            "2025-04-10 18:21:33,399 Query 461/8000: sequence_2461 (length 20)\n"
          ]
        },
        {
          "output_type": "stream",
          "name": "stderr",
          "text": [
            "PENDING:   0%|          | 0/150 [elapsed: 00:00 remaining: ?]"
          ]
        },
        {
          "output_type": "stream",
          "name": "stdout",
          "text": [
            "2025-04-10 18:21:34,099 Sleeping for 9s. Reason: PENDING\n"
          ]
        },
        {
          "output_type": "stream",
          "name": "stderr",
          "text": [
            "COMPLETE: 100%|██████████| 150/150 [elapsed: 00:11 remaining: 00:00]\n"
          ]
        },
        {
          "output_type": "stream",
          "name": "stdout",
          "text": [
            "2025-04-10 18:21:46,743 alphafold2_ptm_model_1_seed_000 recycle=0 pLDDT=68.7 pTM=0.0498\n",
            "2025-04-10 18:21:47,283 alphafold2_ptm_model_1_seed_000 recycle=1 pLDDT=69.1 pTM=0.051 tol=0.739\n",
            "2025-04-10 18:21:47,824 alphafold2_ptm_model_1_seed_000 recycle=2 pLDDT=69.1 pTM=0.0502 tol=0.572\n",
            "2025-04-10 18:21:48,363 alphafold2_ptm_model_1_seed_000 recycle=3 pLDDT=68.8 pTM=0.0503 tol=0.371\n",
            "2025-04-10 18:21:48,364 alphafold2_ptm_model_1_seed_000 took 2.2s (3 recycles)\n",
            "2025-04-10 18:21:48,913 alphafold2_ptm_model_2_seed_000 recycle=0 pLDDT=67.4 pTM=0.047\n",
            "2025-04-10 18:21:49,453 alphafold2_ptm_model_2_seed_000 recycle=1 pLDDT=69.3 pTM=0.0482 tol=0.618\n",
            "2025-04-10 18:21:49,993 alphafold2_ptm_model_2_seed_000 recycle=2 pLDDT=67.6 pTM=0.0492 tol=0.474\n",
            "2025-04-10 18:21:50,533 alphafold2_ptm_model_2_seed_000 recycle=3 pLDDT=69.3 pTM=0.049 tol=0.223\n",
            "2025-04-10 18:21:50,534 alphafold2_ptm_model_2_seed_000 took 2.2s (3 recycles)\n",
            "2025-04-10 18:21:51,085 alphafold2_ptm_model_3_seed_000 recycle=0 pLDDT=67.4 pTM=0.0457\n",
            "2025-04-10 18:21:51,626 alphafold2_ptm_model_3_seed_000 recycle=1 pLDDT=69.6 pTM=0.0459 tol=0.562\n",
            "2025-04-10 18:21:52,166 alphafold2_ptm_model_3_seed_000 recycle=2 pLDDT=68.1 pTM=0.0459 tol=0.165\n",
            "2025-04-10 18:21:52,707 alphafold2_ptm_model_3_seed_000 recycle=3 pLDDT=68.5 pTM=0.0462 tol=0.575\n",
            "2025-04-10 18:21:52,708 alphafold2_ptm_model_3_seed_000 took 2.2s (3 recycles)\n",
            "2025-04-10 18:21:53,257 alphafold2_ptm_model_4_seed_000 recycle=0 pLDDT=66 pTM=0.0451\n",
            "2025-04-10 18:21:53,797 alphafold2_ptm_model_4_seed_000 recycle=1 pLDDT=64.4 pTM=0.0465 tol=0.405\n",
            "2025-04-10 18:21:54,337 alphafold2_ptm_model_4_seed_000 recycle=2 pLDDT=66.3 pTM=0.0458 tol=0.628\n",
            "2025-04-10 18:21:54,877 alphafold2_ptm_model_4_seed_000 recycle=3 pLDDT=67.2 pTM=0.0461 tol=0.32\n",
            "2025-04-10 18:21:54,878 alphafold2_ptm_model_4_seed_000 took 2.2s (3 recycles)\n",
            "2025-04-10 18:21:55,427 alphafold2_ptm_model_5_seed_000 recycle=0 pLDDT=63.6 pTM=0.0454\n",
            "2025-04-10 18:21:55,967 alphafold2_ptm_model_5_seed_000 recycle=1 pLDDT=63.5 pTM=0.0461 tol=1.36\n",
            "2025-04-10 18:21:56,506 alphafold2_ptm_model_5_seed_000 recycle=2 pLDDT=67.2 pTM=0.0468 tol=0.741\n",
            "2025-04-10 18:21:57,046 alphafold2_ptm_model_5_seed_000 recycle=3 pLDDT=70.3 pTM=0.0464 tol=0.398\n",
            "2025-04-10 18:21:57,046 alphafold2_ptm_model_5_seed_000 took 2.2s (3 recycles)\n",
            "2025-04-10 18:21:57,070 reranking models by 'plddt' metric\n",
            "2025-04-10 18:21:57,071 rank_001_alphafold2_ptm_model_5_seed_000 pLDDT=70.3 pTM=0.0464\n",
            "2025-04-10 18:21:57,075 rank_002_alphafold2_ptm_model_2_seed_000 pLDDT=69.3 pTM=0.049\n",
            "2025-04-10 18:21:57,077 rank_003_alphafold2_ptm_model_1_seed_000 pLDDT=68.8 pTM=0.0503\n",
            "2025-04-10 18:21:57,079 rank_004_alphafold2_ptm_model_3_seed_000 pLDDT=68.5 pTM=0.0462\n",
            "2025-04-10 18:21:57,082 rank_005_alphafold2_ptm_model_4_seed_000 pLDDT=67.2 pTM=0.0461\n",
            "2025-04-10 18:21:58,067 Query 462/8000: sequence_2462 (length 20)\n"
          ]
        },
        {
          "output_type": "stream",
          "name": "stderr",
          "text": [
            "PENDING:   0%|          | 0/150 [elapsed: 00:00 remaining: ?]"
          ]
        },
        {
          "output_type": "stream",
          "name": "stdout",
          "text": [
            "2025-04-10 18:21:58,759 Sleeping for 6s. Reason: PENDING\n"
          ]
        },
        {
          "output_type": "stream",
          "name": "stderr",
          "text": [
            "RUNNING:   4%|▍         | 6/150 [elapsed: 00:07 remaining: 02:56]"
          ]
        },
        {
          "output_type": "stream",
          "name": "stdout",
          "text": [
            "2025-04-10 18:22:05,437 Sleeping for 7s. Reason: RUNNING\n"
          ]
        },
        {
          "output_type": "stream",
          "name": "stderr",
          "text": [
            "COMPLETE: 100%|██████████| 150/150 [elapsed: 00:15 remaining: 00:00]\n"
          ]
        },
        {
          "output_type": "stream",
          "name": "stdout",
          "text": [
            "2025-04-10 18:22:16,065 alphafold2_ptm_model_1_seed_000 recycle=0 pLDDT=61.9 pTM=0.05\n",
            "2025-04-10 18:22:16,606 alphafold2_ptm_model_1_seed_000 recycle=1 pLDDT=66.5 pTM=0.055 tol=1.54\n",
            "2025-04-10 18:22:17,145 alphafold2_ptm_model_1_seed_000 recycle=2 pLDDT=68.8 pTM=0.0537 tol=0.511\n",
            "2025-04-10 18:22:17,686 alphafold2_ptm_model_1_seed_000 recycle=3 pLDDT=68.2 pTM=0.0522 tol=0.365\n",
            "2025-04-10 18:22:17,687 alphafold2_ptm_model_1_seed_000 took 2.2s (3 recycles)\n",
            "2025-04-10 18:22:18,237 alphafold2_ptm_model_2_seed_000 recycle=0 pLDDT=67.9 pTM=0.0498\n",
            "2025-04-10 18:22:18,776 alphafold2_ptm_model_2_seed_000 recycle=1 pLDDT=70.7 pTM=0.0535 tol=0.547\n",
            "2025-04-10 18:22:19,316 alphafold2_ptm_model_2_seed_000 recycle=2 pLDDT=72.1 pTM=0.0517 tol=0.185\n",
            "2025-04-10 18:22:19,855 alphafold2_ptm_model_2_seed_000 recycle=3 pLDDT=72.8 pTM=0.0522 tol=0.221\n",
            "2025-04-10 18:22:19,856 alphafold2_ptm_model_2_seed_000 took 2.2s (3 recycles)\n",
            "2025-04-10 18:22:20,405 alphafold2_ptm_model_3_seed_000 recycle=0 pLDDT=67.5 pTM=0.0487\n",
            "2025-04-10 18:22:20,946 alphafold2_ptm_model_3_seed_000 recycle=1 pLDDT=70.2 pTM=0.0508 tol=0.669\n",
            "2025-04-10 18:22:21,485 alphafold2_ptm_model_3_seed_000 recycle=2 pLDDT=70.5 pTM=0.0491 tol=0.221\n",
            "2025-04-10 18:22:22,025 alphafold2_ptm_model_3_seed_000 recycle=3 pLDDT=71.5 pTM=0.0492 tol=0.512\n",
            "2025-04-10 18:22:22,025 alphafold2_ptm_model_3_seed_000 took 2.2s (3 recycles)\n",
            "2025-04-10 18:22:22,574 alphafold2_ptm_model_4_seed_000 recycle=0 pLDDT=68.6 pTM=0.0487\n",
            "2025-04-10 18:22:23,114 alphafold2_ptm_model_4_seed_000 recycle=1 pLDDT=69.6 pTM=0.0502 tol=0.283\n",
            "2025-04-10 18:22:23,653 alphafold2_ptm_model_4_seed_000 recycle=2 pLDDT=70 pTM=0.0497 tol=0.158\n",
            "2025-04-10 18:22:24,194 alphafold2_ptm_model_4_seed_000 recycle=3 pLDDT=70.4 pTM=0.05 tol=0.52\n",
            "2025-04-10 18:22:24,194 alphafold2_ptm_model_4_seed_000 took 2.2s (3 recycles)\n",
            "2025-04-10 18:22:24,745 alphafold2_ptm_model_5_seed_000 recycle=0 pLDDT=65.6 pTM=0.048\n",
            "2025-04-10 18:22:25,284 alphafold2_ptm_model_5_seed_000 recycle=1 pLDDT=73.2 pTM=0.0527 tol=1.04\n",
            "2025-04-10 18:22:25,824 alphafold2_ptm_model_5_seed_000 recycle=2 pLDDT=74.6 pTM=0.0508 tol=0.208\n",
            "2025-04-10 18:22:26,363 alphafold2_ptm_model_5_seed_000 recycle=3 pLDDT=75.7 pTM=0.0501 tol=0.193\n",
            "2025-04-10 18:22:26,363 alphafold2_ptm_model_5_seed_000 took 2.2s (3 recycles)\n",
            "2025-04-10 18:22:26,373 reranking models by 'plddt' metric\n",
            "2025-04-10 18:22:26,373 rank_001_alphafold2_ptm_model_5_seed_000 pLDDT=75.7 pTM=0.0501\n",
            "2025-04-10 18:22:26,376 rank_002_alphafold2_ptm_model_2_seed_000 pLDDT=72.8 pTM=0.0522\n",
            "2025-04-10 18:22:26,378 rank_003_alphafold2_ptm_model_3_seed_000 pLDDT=71.5 pTM=0.0492\n",
            "2025-04-10 18:22:26,396 rank_004_alphafold2_ptm_model_4_seed_000 pLDDT=70.4 pTM=0.05\n",
            "2025-04-10 18:22:26,398 rank_005_alphafold2_ptm_model_1_seed_000 pLDDT=68.2 pTM=0.0522\n",
            "2025-04-10 18:22:27,376 Query 463/8000: sequence_2463 (length 20)\n"
          ]
        },
        {
          "output_type": "stream",
          "name": "stderr",
          "text": [
            "PENDING:   0%|          | 0/150 [elapsed: 00:00 remaining: ?]"
          ]
        },
        {
          "output_type": "stream",
          "name": "stdout",
          "text": [
            "2025-04-10 18:22:28,065 Sleeping for 6s. Reason: PENDING\n"
          ]
        },
        {
          "output_type": "stream",
          "name": "stderr",
          "text": [
            "RUNNING:   4%|▍         | 6/150 [elapsed: 00:07 remaining: 02:57]"
          ]
        },
        {
          "output_type": "stream",
          "name": "stdout",
          "text": [
            "2025-04-10 18:22:34,757 Sleeping for 6s. Reason: RUNNING\n"
          ]
        },
        {
          "output_type": "stream",
          "name": "stderr",
          "text": [
            "RUNNING:   8%|▊         | 12/150 [elapsed: 00:14 remaining: 02:40]"
          ]
        },
        {
          "output_type": "stream",
          "name": "stdout",
          "text": [
            "2025-04-10 18:22:41,436 Sleeping for 8s. Reason: RUNNING\n"
          ]
        },
        {
          "output_type": "stream",
          "name": "stderr",
          "text": [
            "COMPLETE: 100%|██████████| 150/150 [elapsed: 00:23 remaining: 00:00]\n"
          ]
        },
        {
          "output_type": "stream",
          "name": "stdout",
          "text": [
            "2025-04-10 18:22:53,071 alphafold2_ptm_model_1_seed_000 recycle=0 pLDDT=64.1 pTM=0.0489\n",
            "2025-04-10 18:22:53,610 alphafold2_ptm_model_1_seed_000 recycle=1 pLDDT=63.9 pTM=0.0491 tol=1.01\n",
            "2025-04-10 18:22:54,149 alphafold2_ptm_model_1_seed_000 recycle=2 pLDDT=63.9 pTM=0.0492 tol=1.03\n",
            "2025-04-10 18:22:54,689 alphafold2_ptm_model_1_seed_000 recycle=3 pLDDT=65.6 pTM=0.0502 tol=0.491\n",
            "2025-04-10 18:22:54,690 alphafold2_ptm_model_1_seed_000 took 2.2s (3 recycles)\n",
            "2025-04-10 18:22:55,239 alphafold2_ptm_model_2_seed_000 recycle=0 pLDDT=63.2 pTM=0.0486\n",
            "2025-04-10 18:22:55,780 alphafold2_ptm_model_2_seed_000 recycle=1 pLDDT=64 pTM=0.048 tol=0.635\n",
            "2025-04-10 18:22:56,320 alphafold2_ptm_model_2_seed_000 recycle=2 pLDDT=64.7 pTM=0.0482 tol=0.824\n",
            "2025-04-10 18:22:56,859 alphafold2_ptm_model_2_seed_000 recycle=3 pLDDT=64.6 pTM=0.0471 tol=0.217\n",
            "2025-04-10 18:22:56,860 alphafold2_ptm_model_2_seed_000 took 2.2s (3 recycles)\n",
            "2025-04-10 18:22:57,410 alphafold2_ptm_model_3_seed_000 recycle=0 pLDDT=64.4 pTM=0.0465\n",
            "2025-04-10 18:22:57,950 alphafold2_ptm_model_3_seed_000 recycle=1 pLDDT=59.4 pTM=0.046 tol=1.26\n",
            "2025-04-10 18:22:58,490 alphafold2_ptm_model_3_seed_000 recycle=2 pLDDT=59.2 pTM=0.0443 tol=1.35\n",
            "2025-04-10 18:22:59,031 alphafold2_ptm_model_3_seed_000 recycle=3 pLDDT=58.1 pTM=0.0452 tol=1.21\n",
            "2025-04-10 18:22:59,031 alphafold2_ptm_model_3_seed_000 took 2.2s (3 recycles)\n",
            "2025-04-10 18:22:59,580 alphafold2_ptm_model_4_seed_000 recycle=0 pLDDT=63.3 pTM=0.047\n",
            "2025-04-10 18:23:00,120 alphafold2_ptm_model_4_seed_000 recycle=1 pLDDT=59.7 pTM=0.0464 tol=3.61\n",
            "2025-04-10 18:23:00,659 alphafold2_ptm_model_4_seed_000 recycle=2 pLDDT=58.5 pTM=0.0462 tol=1.27\n",
            "2025-04-10 18:23:01,199 alphafold2_ptm_model_4_seed_000 recycle=3 pLDDT=58.8 pTM=0.0464 tol=1.69\n",
            "2025-04-10 18:23:01,200 alphafold2_ptm_model_4_seed_000 took 2.2s (3 recycles)\n",
            "2025-04-10 18:23:01,749 alphafold2_ptm_model_5_seed_000 recycle=0 pLDDT=62.8 pTM=0.047\n",
            "2025-04-10 18:23:02,289 alphafold2_ptm_model_5_seed_000 recycle=1 pLDDT=60 pTM=0.0461 tol=0.607\n",
            "2025-04-10 18:23:02,829 alphafold2_ptm_model_5_seed_000 recycle=2 pLDDT=61.2 pTM=0.0458 tol=0.729\n",
            "2025-04-10 18:23:03,369 alphafold2_ptm_model_5_seed_000 recycle=3 pLDDT=62.5 pTM=0.046 tol=0.43\n",
            "2025-04-10 18:23:03,369 alphafold2_ptm_model_5_seed_000 took 2.2s (3 recycles)\n",
            "2025-04-10 18:23:03,379 reranking models by 'plddt' metric\n",
            "2025-04-10 18:23:03,379 rank_001_alphafold2_ptm_model_1_seed_000 pLDDT=65.6 pTM=0.0502\n",
            "2025-04-10 18:23:03,381 rank_002_alphafold2_ptm_model_2_seed_000 pLDDT=64.6 pTM=0.0471\n",
            "2025-04-10 18:23:03,384 rank_003_alphafold2_ptm_model_5_seed_000 pLDDT=62.5 pTM=0.046\n",
            "2025-04-10 18:23:03,404 rank_004_alphafold2_ptm_model_4_seed_000 pLDDT=58.8 pTM=0.0464\n",
            "2025-04-10 18:23:03,406 rank_005_alphafold2_ptm_model_3_seed_000 pLDDT=58.1 pTM=0.0452\n",
            "2025-04-10 18:23:04,382 Query 464/8000: sequence_2464 (length 20)\n"
          ]
        },
        {
          "output_type": "stream",
          "name": "stderr",
          "text": [
            "PENDING:   0%|          | 0/150 [elapsed: 00:00 remaining: ?]"
          ]
        },
        {
          "output_type": "stream",
          "name": "stdout",
          "text": [
            "2025-04-10 18:23:05,089 Sleeping for 9s. Reason: PENDING\n"
          ]
        },
        {
          "output_type": "stream",
          "name": "stderr",
          "text": [
            "RUNNING:   6%|▌         | 9/150 [elapsed: 00:10 remaining: 02:42]"
          ]
        },
        {
          "output_type": "stream",
          "name": "stdout",
          "text": [
            "2025-04-10 18:23:14,785 Sleeping for 9s. Reason: RUNNING\n"
          ]
        },
        {
          "output_type": "stream",
          "name": "stderr",
          "text": [
            "COMPLETE: 100%|██████████| 150/150 [elapsed: 00:20 remaining: 00:00]\n"
          ]
        },
        {
          "output_type": "stream",
          "name": "stdout",
          "text": [
            "2025-04-10 18:23:27,401 alphafold2_ptm_model_1_seed_000 recycle=0 pLDDT=61.8 pTM=0.0487\n",
            "2025-04-10 18:23:27,940 alphafold2_ptm_model_1_seed_000 recycle=1 pLDDT=59.8 pTM=0.0497 tol=1.22\n",
            "2025-04-10 18:23:28,480 alphafold2_ptm_model_1_seed_000 recycle=2 pLDDT=59.4 pTM=0.0492 tol=2.51\n",
            "2025-04-10 18:23:29,019 alphafold2_ptm_model_1_seed_000 recycle=3 pLDDT=59.8 pTM=0.0486 tol=2.3\n",
            "2025-04-10 18:23:29,020 alphafold2_ptm_model_1_seed_000 took 2.2s (3 recycles)\n",
            "2025-04-10 18:23:29,570 alphafold2_ptm_model_2_seed_000 recycle=0 pLDDT=61.8 pTM=0.0499\n",
            "2025-04-10 18:23:30,110 alphafold2_ptm_model_2_seed_000 recycle=1 pLDDT=62.7 pTM=0.0497 tol=0.749\n",
            "2025-04-10 18:23:30,651 alphafold2_ptm_model_2_seed_000 recycle=2 pLDDT=62.5 pTM=0.0482 tol=0.465\n",
            "2025-04-10 18:23:31,191 alphafold2_ptm_model_2_seed_000 recycle=3 pLDDT=62.6 pTM=0.0476 tol=0.368\n",
            "2025-04-10 18:23:31,191 alphafold2_ptm_model_2_seed_000 took 2.2s (3 recycles)\n",
            "2025-04-10 18:23:31,742 alphafold2_ptm_model_3_seed_000 recycle=0 pLDDT=66.9 pTM=0.0477\n",
            "2025-04-10 18:23:32,281 alphafold2_ptm_model_3_seed_000 recycle=1 pLDDT=68.6 pTM=0.0475 tol=0.465\n",
            "2025-04-10 18:23:32,821 alphafold2_ptm_model_3_seed_000 recycle=2 pLDDT=66 pTM=0.0457 tol=0.65\n",
            "2025-04-10 18:23:33,361 alphafold2_ptm_model_3_seed_000 recycle=3 pLDDT=67.1 pTM=0.0466 tol=0.385\n",
            "2025-04-10 18:23:33,362 alphafold2_ptm_model_3_seed_000 took 2.2s (3 recycles)\n",
            "2025-04-10 18:23:33,912 alphafold2_ptm_model_4_seed_000 recycle=0 pLDDT=65.2 pTM=0.0479\n",
            "2025-04-10 18:23:34,452 alphafold2_ptm_model_4_seed_000 recycle=1 pLDDT=65.5 pTM=0.0475 tol=0.392\n",
            "2025-04-10 18:23:34,992 alphafold2_ptm_model_4_seed_000 recycle=2 pLDDT=65 pTM=0.0467 tol=0.483\n",
            "2025-04-10 18:23:35,534 alphafold2_ptm_model_4_seed_000 recycle=3 pLDDT=65 pTM=0.0468 tol=0.26\n",
            "2025-04-10 18:23:35,535 alphafold2_ptm_model_4_seed_000 took 2.2s (3 recycles)\n",
            "2025-04-10 18:23:36,086 alphafold2_ptm_model_5_seed_000 recycle=0 pLDDT=61.7 pTM=0.0483\n",
            "2025-04-10 18:23:36,626 alphafold2_ptm_model_5_seed_000 recycle=1 pLDDT=63.7 pTM=0.0497 tol=1.26\n",
            "2025-04-10 18:23:37,167 alphafold2_ptm_model_5_seed_000 recycle=2 pLDDT=62.6 pTM=0.0475 tol=0.589\n",
            "2025-04-10 18:23:37,707 alphafold2_ptm_model_5_seed_000 recycle=3 pLDDT=63.5 pTM=0.0478 tol=0.25\n",
            "2025-04-10 18:23:37,708 alphafold2_ptm_model_5_seed_000 took 2.2s (3 recycles)\n",
            "2025-04-10 18:23:37,717 reranking models by 'plddt' metric\n",
            "2025-04-10 18:23:37,718 rank_001_alphafold2_ptm_model_3_seed_000 pLDDT=67.1 pTM=0.0466\n",
            "2025-04-10 18:23:37,720 rank_002_alphafold2_ptm_model_4_seed_000 pLDDT=65 pTM=0.0468\n",
            "2025-04-10 18:23:37,723 rank_003_alphafold2_ptm_model_5_seed_000 pLDDT=63.5 pTM=0.0478\n",
            "2025-04-10 18:23:37,725 rank_004_alphafold2_ptm_model_2_seed_000 pLDDT=62.6 pTM=0.0476\n",
            "2025-04-10 18:23:37,744 rank_005_alphafold2_ptm_model_1_seed_000 pLDDT=59.8 pTM=0.0486\n",
            "2025-04-10 18:23:38,719 Query 465/8000: sequence_2465 (length 20)\n"
          ]
        },
        {
          "output_type": "stream",
          "name": "stderr",
          "text": [
            "PENDING:   0%|          | 0/150 [elapsed: 00:00 remaining: ?]"
          ]
        },
        {
          "output_type": "stream",
          "name": "stdout",
          "text": [
            "2025-04-10 18:23:39,418 Sleeping for 5s. Reason: PENDING\n"
          ]
        },
        {
          "output_type": "stream",
          "name": "stderr",
          "text": [
            "COMPLETE: 100%|██████████| 150/150 [elapsed: 00:07 remaining: 00:00]\n"
          ]
        },
        {
          "output_type": "stream",
          "name": "stdout",
          "text": [
            "2025-04-10 18:23:48,070 alphafold2_ptm_model_1_seed_000 recycle=0 pLDDT=91.4 pTM=0.115\n",
            "2025-04-10 18:23:48,610 alphafold2_ptm_model_1_seed_000 recycle=1 pLDDT=90.3 pTM=0.112 tol=0.119\n",
            "2025-04-10 18:23:49,151 alphafold2_ptm_model_1_seed_000 recycle=2 pLDDT=90.8 pTM=0.113 tol=0.0539\n",
            "2025-04-10 18:23:49,692 alphafold2_ptm_model_1_seed_000 recycle=3 pLDDT=90.1 pTM=0.112 tol=0.0506\n",
            "2025-04-10 18:23:49,692 alphafold2_ptm_model_1_seed_000 took 2.2s (3 recycles)\n",
            "2025-04-10 18:23:50,244 alphafold2_ptm_model_2_seed_000 recycle=0 pLDDT=90.8 pTM=0.117\n",
            "2025-04-10 18:23:50,785 alphafold2_ptm_model_2_seed_000 recycle=1 pLDDT=89.3 pTM=0.113 tol=0.121\n",
            "2025-04-10 18:23:51,325 alphafold2_ptm_model_2_seed_000 recycle=2 pLDDT=89 pTM=0.115 tol=0.0359\n",
            "2025-04-10 18:23:51,865 alphafold2_ptm_model_2_seed_000 recycle=3 pLDDT=88.4 pTM=0.114 tol=0.0381\n",
            "2025-04-10 18:23:51,866 alphafold2_ptm_model_2_seed_000 took 2.2s (3 recycles)\n",
            "2025-04-10 18:23:52,416 alphafold2_ptm_model_3_seed_000 recycle=0 pLDDT=92.1 pTM=0.107\n",
            "2025-04-10 18:23:52,957 alphafold2_ptm_model_3_seed_000 recycle=1 pLDDT=92.3 pTM=0.109 tol=0.141\n",
            "2025-04-10 18:23:53,498 alphafold2_ptm_model_3_seed_000 recycle=2 pLDDT=92.6 pTM=0.111 tol=0.0479\n",
            "2025-04-10 18:23:54,038 alphafold2_ptm_model_3_seed_000 recycle=3 pLDDT=92.5 pTM=0.111 tol=0.038\n",
            "2025-04-10 18:23:54,039 alphafold2_ptm_model_3_seed_000 took 2.2s (3 recycles)\n",
            "2025-04-10 18:23:54,590 alphafold2_ptm_model_4_seed_000 recycle=0 pLDDT=93.6 pTM=0.116\n",
            "2025-04-10 18:23:55,130 alphafold2_ptm_model_4_seed_000 recycle=1 pLDDT=92.8 pTM=0.114 tol=0.14\n",
            "2025-04-10 18:23:55,670 alphafold2_ptm_model_4_seed_000 recycle=2 pLDDT=92.9 pTM=0.115 tol=0.0413\n",
            "2025-04-10 18:23:56,210 alphafold2_ptm_model_4_seed_000 recycle=3 pLDDT=92.8 pTM=0.114 tol=0.0424\n",
            "2025-04-10 18:23:56,211 alphafold2_ptm_model_4_seed_000 took 2.2s (3 recycles)\n",
            "2025-04-10 18:23:56,761 alphafold2_ptm_model_5_seed_000 recycle=0 pLDDT=94.8 pTM=0.12\n",
            "2025-04-10 18:23:57,302 alphafold2_ptm_model_5_seed_000 recycle=1 pLDDT=94.5 pTM=0.122 tol=0.105\n",
            "2025-04-10 18:23:57,842 alphafold2_ptm_model_5_seed_000 recycle=2 pLDDT=94.5 pTM=0.122 tol=0.0533\n",
            "2025-04-10 18:23:58,382 alphafold2_ptm_model_5_seed_000 recycle=3 pLDDT=94.2 pTM=0.122 tol=0.0342\n",
            "2025-04-10 18:23:58,383 alphafold2_ptm_model_5_seed_000 took 2.2s (3 recycles)\n",
            "2025-04-10 18:23:58,392 reranking models by 'plddt' metric\n",
            "2025-04-10 18:23:58,393 rank_001_alphafold2_ptm_model_5_seed_000 pLDDT=94.2 pTM=0.122\n",
            "2025-04-10 18:23:58,395 rank_002_alphafold2_ptm_model_4_seed_000 pLDDT=92.8 pTM=0.114\n",
            "2025-04-10 18:23:58,398 rank_003_alphafold2_ptm_model_3_seed_000 pLDDT=92.5 pTM=0.111\n",
            "2025-04-10 18:23:58,400 rank_004_alphafold2_ptm_model_1_seed_000 pLDDT=90.1 pTM=0.112\n",
            "2025-04-10 18:23:58,403 rank_005_alphafold2_ptm_model_2_seed_000 pLDDT=88.4 pTM=0.114\n",
            "2025-04-10 18:23:59,425 Query 466/8000: sequence_2466 (length 20)\n"
          ]
        },
        {
          "output_type": "stream",
          "name": "stderr",
          "text": [
            "PENDING:   0%|          | 0/150 [elapsed: 00:00 remaining: ?]"
          ]
        },
        {
          "output_type": "stream",
          "name": "stdout",
          "text": [
            "2025-04-10 18:24:00,129 Sleeping for 8s. Reason: PENDING\n"
          ]
        },
        {
          "output_type": "stream",
          "name": "stderr",
          "text": [
            "COMPLETE: 100%|██████████| 150/150 [elapsed: 00:10 remaining: 00:00]\n"
          ]
        },
        {
          "output_type": "stream",
          "name": "stdout",
          "text": [
            "2025-04-10 18:24:11,752 alphafold2_ptm_model_1_seed_000 recycle=0 pLDDT=66.2 pTM=0.0549\n",
            "2025-04-10 18:24:12,292 alphafold2_ptm_model_1_seed_000 recycle=1 pLDDT=69.1 pTM=0.057 tol=1.63\n",
            "2025-04-10 18:24:12,832 alphafold2_ptm_model_1_seed_000 recycle=2 pLDDT=69.4 pTM=0.0577 tol=0.293\n",
            "2025-04-10 18:24:13,372 alphafold2_ptm_model_1_seed_000 recycle=3 pLDDT=67.8 pTM=0.0574 tol=1.04\n",
            "2025-04-10 18:24:13,373 alphafold2_ptm_model_1_seed_000 took 2.2s (3 recycles)\n",
            "2025-04-10 18:24:13,922 alphafold2_ptm_model_2_seed_000 recycle=0 pLDDT=66.1 pTM=0.0524\n",
            "2025-04-10 18:24:14,462 alphafold2_ptm_model_2_seed_000 recycle=1 pLDDT=70.8 pTM=0.0575 tol=0.657\n",
            "2025-04-10 18:24:15,001 alphafold2_ptm_model_2_seed_000 recycle=2 pLDDT=71.5 pTM=0.0579 tol=0.218\n",
            "2025-04-10 18:24:15,540 alphafold2_ptm_model_2_seed_000 recycle=3 pLDDT=69.2 pTM=0.0561 tol=0.276\n",
            "2025-04-10 18:24:15,541 alphafold2_ptm_model_2_seed_000 took 2.2s (3 recycles)\n",
            "2025-04-10 18:24:16,090 alphafold2_ptm_model_3_seed_000 recycle=0 pLDDT=73.5 pTM=0.0551\n",
            "2025-04-10 18:24:16,629 alphafold2_ptm_model_3_seed_000 recycle=1 pLDDT=76.5 pTM=0.0551 tol=1.44\n",
            "2025-04-10 18:24:17,168 alphafold2_ptm_model_3_seed_000 recycle=2 pLDDT=75.6 pTM=0.0537 tol=0.397\n",
            "2025-04-10 18:24:17,708 alphafold2_ptm_model_3_seed_000 recycle=3 pLDDT=74.5 pTM=0.0538 tol=0.334\n",
            "2025-04-10 18:24:17,708 alphafold2_ptm_model_3_seed_000 took 2.2s (3 recycles)\n",
            "2025-04-10 18:24:18,257 alphafold2_ptm_model_4_seed_000 recycle=0 pLDDT=74.2 pTM=0.0527\n",
            "2025-04-10 18:24:18,797 alphafold2_ptm_model_4_seed_000 recycle=1 pLDDT=73.4 pTM=0.0528 tol=0.677\n",
            "2025-04-10 18:24:19,338 alphafold2_ptm_model_4_seed_000 recycle=2 pLDDT=72.6 pTM=0.0525 tol=0.171\n",
            "2025-04-10 18:24:19,878 alphafold2_ptm_model_4_seed_000 recycle=3 pLDDT=70.9 pTM=0.0527 tol=0.544\n",
            "2025-04-10 18:24:19,878 alphafold2_ptm_model_4_seed_000 took 2.2s (3 recycles)\n",
            "2025-04-10 18:24:20,428 alphafold2_ptm_model_5_seed_000 recycle=0 pLDDT=70 pTM=0.0492\n",
            "2025-04-10 18:24:20,968 alphafold2_ptm_model_5_seed_000 recycle=1 pLDDT=73.7 pTM=0.0534 tol=0.92\n",
            "2025-04-10 18:24:21,508 alphafold2_ptm_model_5_seed_000 recycle=2 pLDDT=72.8 pTM=0.0522 tol=0.312\n",
            "2025-04-10 18:24:22,048 alphafold2_ptm_model_5_seed_000 recycle=3 pLDDT=72.9 pTM=0.0522 tol=0.155\n",
            "2025-04-10 18:24:22,049 alphafold2_ptm_model_5_seed_000 took 2.2s (3 recycles)\n",
            "2025-04-10 18:24:22,058 reranking models by 'plddt' metric\n",
            "2025-04-10 18:24:22,059 rank_001_alphafold2_ptm_model_3_seed_000 pLDDT=74.5 pTM=0.0538\n",
            "2025-04-10 18:24:22,061 rank_002_alphafold2_ptm_model_5_seed_000 pLDDT=72.9 pTM=0.0522\n",
            "2025-04-10 18:24:22,064 rank_003_alphafold2_ptm_model_4_seed_000 pLDDT=70.9 pTM=0.0527\n",
            "2025-04-10 18:24:22,066 rank_004_alphafold2_ptm_model_2_seed_000 pLDDT=69.2 pTM=0.0561\n",
            "2025-04-10 18:24:22,068 rank_005_alphafold2_ptm_model_1_seed_000 pLDDT=67.8 pTM=0.0574\n",
            "2025-04-10 18:24:23,853 Query 467/8000: sequence_2467 (length 20)\n"
          ]
        },
        {
          "output_type": "stream",
          "name": "stderr",
          "text": [
            "SUBMIT:   0%|          | 0/150 [elapsed: 00:00 remaining: ?]"
          ]
        },
        {
          "output_type": "stream",
          "name": "stdout",
          "text": [
            "2025-04-10 18:24:24,537 Sleeping for 7s. Reason: RATELIMIT\n"
          ]
        },
        {
          "output_type": "stream",
          "name": "stderr",
          "text": [
            "SUBMIT:   0%|          | 0/150 [elapsed: 00:08 remaining: ?]"
          ]
        },
        {
          "output_type": "stream",
          "name": "stdout",
          "text": [
            "2025-04-10 18:24:32,213 Sleeping for 5s. Reason: RATELIMIT\n"
          ]
        },
        {
          "output_type": "stream",
          "name": "stderr",
          "text": [
            "SUBMIT:   0%|          | 0/150 [elapsed: 00:14 remaining: ?]"
          ]
        },
        {
          "output_type": "stream",
          "name": "stdout",
          "text": [
            "2025-04-10 18:24:37,895 Sleeping for 6s. Reason: RATELIMIT\n"
          ]
        },
        {
          "output_type": "stream",
          "name": "stderr",
          "text": [
            "PENDING:   0%|          | 0/150 [elapsed: 00:20 remaining: ?]"
          ]
        },
        {
          "output_type": "stream",
          "name": "stdout",
          "text": [
            "2025-04-10 18:24:44,581 Sleeping for 8s. Reason: PENDING\n"
          ]
        },
        {
          "output_type": "stream",
          "name": "stderr",
          "text": [
            "RUNNING:   5%|▌         | 8/150 [elapsed: 00:29 remaining: 08:42]"
          ]
        },
        {
          "output_type": "stream",
          "name": "stdout",
          "text": [
            "2025-04-10 18:24:53,267 Sleeping for 7s. Reason: RUNNING\n"
          ]
        },
        {
          "output_type": "stream",
          "name": "stderr",
          "text": [
            "RUNNING:  10%|█         | 15/150 [elapsed: 00:37 remaining: 05:02]"
          ]
        },
        {
          "output_type": "stream",
          "name": "stdout",
          "text": [
            "2025-04-10 18:25:00,945 Sleeping for 5s. Reason: RUNNING\n"
          ]
        },
        {
          "output_type": "stream",
          "name": "stderr",
          "text": [
            "COMPLETE: 100%|██████████| 150/150 [elapsed: 00:43 remaining: 00:00]\n"
          ]
        },
        {
          "output_type": "stream",
          "name": "stdout",
          "text": [
            "2025-04-10 18:25:09,591 alphafold2_ptm_model_1_seed_000 recycle=0 pLDDT=82.1 pTM=0.0761\n",
            "2025-04-10 18:25:10,131 alphafold2_ptm_model_1_seed_000 recycle=1 pLDDT=80.2 pTM=0.077 tol=0.867\n",
            "2025-04-10 18:25:10,672 alphafold2_ptm_model_1_seed_000 recycle=2 pLDDT=79.3 pTM=0.0749 tol=0.66\n",
            "2025-04-10 18:25:11,212 alphafold2_ptm_model_1_seed_000 recycle=3 pLDDT=80.9 pTM=0.0782 tol=0.185\n",
            "2025-04-10 18:25:11,212 alphafold2_ptm_model_1_seed_000 took 2.2s (3 recycles)\n",
            "2025-04-10 18:25:11,777 alphafold2_ptm_model_2_seed_000 recycle=0 pLDDT=74.1 pTM=0.0629\n",
            "2025-04-10 18:25:12,317 alphafold2_ptm_model_2_seed_000 recycle=1 pLDDT=70.1 pTM=0.0629 tol=0.596\n",
            "2025-04-10 18:25:12,857 alphafold2_ptm_model_2_seed_000 recycle=2 pLDDT=67 pTM=0.0611 tol=0.333\n",
            "2025-04-10 18:25:13,397 alphafold2_ptm_model_2_seed_000 recycle=3 pLDDT=72.7 pTM=0.0691 tol=0.29\n",
            "2025-04-10 18:25:13,398 alphafold2_ptm_model_2_seed_000 took 2.2s (3 recycles)\n",
            "2025-04-10 18:25:13,947 alphafold2_ptm_model_3_seed_000 recycle=0 pLDDT=78.2 pTM=0.0696\n",
            "2025-04-10 18:25:14,487 alphafold2_ptm_model_3_seed_000 recycle=1 pLDDT=79.5 pTM=0.0711 tol=0.677\n",
            "2025-04-10 18:25:15,027 alphafold2_ptm_model_3_seed_000 recycle=2 pLDDT=79.4 pTM=0.0706 tol=0.225\n",
            "2025-04-10 18:25:15,567 alphafold2_ptm_model_3_seed_000 recycle=3 pLDDT=80.8 pTM=0.0726 tol=0.247\n",
            "2025-04-10 18:25:15,568 alphafold2_ptm_model_3_seed_000 took 2.2s (3 recycles)\n",
            "2025-04-10 18:25:16,118 alphafold2_ptm_model_4_seed_000 recycle=0 pLDDT=80.6 pTM=0.0703\n",
            "2025-04-10 18:25:16,659 alphafold2_ptm_model_4_seed_000 recycle=1 pLDDT=80.8 pTM=0.0735 tol=1.18\n",
            "2025-04-10 18:25:17,199 alphafold2_ptm_model_4_seed_000 recycle=2 pLDDT=80.8 pTM=0.0721 tol=0.488\n",
            "2025-04-10 18:25:17,738 alphafold2_ptm_model_4_seed_000 recycle=3 pLDDT=81.2 pTM=0.0743 tol=0.297\n",
            "2025-04-10 18:25:17,739 alphafold2_ptm_model_4_seed_000 took 2.2s (3 recycles)\n",
            "2025-04-10 18:25:18,289 alphafold2_ptm_model_5_seed_000 recycle=0 pLDDT=82.9 pTM=0.0731\n",
            "2025-04-10 18:25:18,828 alphafold2_ptm_model_5_seed_000 recycle=1 pLDDT=76.9 pTM=0.0702 tol=0.664\n",
            "2025-04-10 18:25:19,368 alphafold2_ptm_model_5_seed_000 recycle=2 pLDDT=77 pTM=0.0699 tol=1.27\n",
            "2025-04-10 18:25:19,909 alphafold2_ptm_model_5_seed_000 recycle=3 pLDDT=78.7 pTM=0.0744 tol=0.491\n",
            "2025-04-10 18:25:19,910 alphafold2_ptm_model_5_seed_000 took 2.2s (3 recycles)\n",
            "2025-04-10 18:25:19,919 reranking models by 'plddt' metric\n",
            "2025-04-10 18:25:19,920 rank_001_alphafold2_ptm_model_4_seed_000 pLDDT=81.2 pTM=0.0743\n",
            "2025-04-10 18:25:19,922 rank_002_alphafold2_ptm_model_1_seed_000 pLDDT=80.9 pTM=0.0782\n",
            "2025-04-10 18:25:19,924 rank_003_alphafold2_ptm_model_3_seed_000 pLDDT=80.8 pTM=0.0726\n",
            "2025-04-10 18:25:19,927 rank_004_alphafold2_ptm_model_5_seed_000 pLDDT=78.7 pTM=0.0744\n",
            "2025-04-10 18:25:19,929 rank_005_alphafold2_ptm_model_2_seed_000 pLDDT=72.7 pTM=0.0691\n",
            "2025-04-10 18:25:20,940 Query 468/8000: sequence_2468 (length 20)\n"
          ]
        },
        {
          "output_type": "stream",
          "name": "stderr",
          "text": [
            "SUBMIT:   0%|          | 0/150 [elapsed: 00:00 remaining: ?]"
          ]
        },
        {
          "output_type": "stream",
          "name": "stdout",
          "text": [
            "2025-04-10 18:25:21,614 Sleeping for 10s. Reason: RATELIMIT\n"
          ]
        },
        {
          "output_type": "stream",
          "name": "stderr",
          "text": [
            "SUBMIT:   0%|          | 0/150 [elapsed: 00:11 remaining: ?]"
          ]
        },
        {
          "output_type": "stream",
          "name": "stdout",
          "text": [
            "2025-04-10 18:25:32,296 Sleeping for 10s. Reason: RATELIMIT\n"
          ]
        },
        {
          "output_type": "stream",
          "name": "stderr",
          "text": [
            "SUBMIT:   0%|          | 0/150 [elapsed: 00:22 remaining: ?]"
          ]
        },
        {
          "output_type": "stream",
          "name": "stdout",
          "text": [
            "2025-04-10 18:25:42,986 Sleeping for 6s. Reason: RATELIMIT\n"
          ]
        },
        {
          "output_type": "stream",
          "name": "stderr",
          "text": [
            "SUBMIT:   0%|          | 0/150 [elapsed: 00:28 remaining: ?]"
          ]
        },
        {
          "output_type": "stream",
          "name": "stdout",
          "text": [
            "2025-04-10 18:25:49,668 Sleeping for 7s. Reason: RATELIMIT\n"
          ]
        },
        {
          "output_type": "stream",
          "name": "stderr",
          "text": [
            "SUBMIT:   0%|          | 0/150 [elapsed: 00:36 remaining: ?]"
          ]
        },
        {
          "output_type": "stream",
          "name": "stdout",
          "text": [
            "2025-04-10 18:25:57,345 Sleeping for 10s. Reason: RATELIMIT\n"
          ]
        },
        {
          "output_type": "stream",
          "name": "stderr",
          "text": [
            "SUBMIT:   0%|          | 0/150 [elapsed: 00:47 remaining: ?]"
          ]
        },
        {
          "output_type": "stream",
          "name": "stdout",
          "text": [
            "2025-04-10 18:26:08,184 Sleeping for 7s. Reason: RATELIMIT\n"
          ]
        },
        {
          "output_type": "stream",
          "name": "stderr",
          "text": [
            "SUBMIT:   0%|          | 0/150 [elapsed: 00:54 remaining: ?]"
          ]
        },
        {
          "output_type": "stream",
          "name": "stdout",
          "text": [
            "2025-04-10 18:26:15,862 Sleeping for 8s. Reason: RATELIMIT\n"
          ]
        },
        {
          "output_type": "stream",
          "name": "stderr",
          "text": [
            "PENDING:   0%|          | 0/150 [elapsed: 01:03 remaining: ?]"
          ]
        },
        {
          "output_type": "stream",
          "name": "stdout",
          "text": [
            "2025-04-10 18:26:24,562 Sleeping for 9s. Reason: PENDING\n"
          ]
        },
        {
          "output_type": "stream",
          "name": "stderr",
          "text": [
            "COMPLETE: 100%|██████████| 150/150 [elapsed: 01:13 remaining: 00:00]\n"
          ]
        },
        {
          "output_type": "stream",
          "name": "stdout",
          "text": [
            "2025-04-10 18:26:37,203 alphafold2_ptm_model_1_seed_000 recycle=0 pLDDT=62 pTM=0.0566\n",
            "2025-04-10 18:26:37,744 alphafold2_ptm_model_1_seed_000 recycle=1 pLDDT=64.3 pTM=0.0576 tol=0.446\n",
            "2025-04-10 18:26:38,284 alphafold2_ptm_model_1_seed_000 recycle=2 pLDDT=65.8 pTM=0.058 tol=0.68\n",
            "2025-04-10 18:26:38,824 alphafold2_ptm_model_1_seed_000 recycle=3 pLDDT=64.6 pTM=0.0572 tol=0.325\n",
            "2025-04-10 18:26:38,825 alphafold2_ptm_model_1_seed_000 took 2.2s (3 recycles)\n",
            "2025-04-10 18:26:39,389 alphafold2_ptm_model_2_seed_000 recycle=0 pLDDT=58.6 pTM=0.0553\n",
            "2025-04-10 18:26:39,929 alphafold2_ptm_model_2_seed_000 recycle=1 pLDDT=59.8 pTM=0.0586 tol=0.709\n",
            "2025-04-10 18:26:40,469 alphafold2_ptm_model_2_seed_000 recycle=2 pLDDT=61.3 pTM=0.0592 tol=0.261\n",
            "2025-04-10 18:26:41,009 alphafold2_ptm_model_2_seed_000 recycle=3 pLDDT=60.9 pTM=0.0602 tol=0.381\n",
            "2025-04-10 18:26:41,010 alphafold2_ptm_model_2_seed_000 took 2.2s (3 recycles)\n",
            "2025-04-10 18:26:41,561 alphafold2_ptm_model_3_seed_000 recycle=0 pLDDT=59.8 pTM=0.0518\n",
            "2025-04-10 18:26:42,102 alphafold2_ptm_model_3_seed_000 recycle=1 pLDDT=60.6 pTM=0.0543 tol=0.976\n",
            "2025-04-10 18:26:42,643 alphafold2_ptm_model_3_seed_000 recycle=2 pLDDT=61.9 pTM=0.0564 tol=1.23\n",
            "2025-04-10 18:26:43,185 alphafold2_ptm_model_3_seed_000 recycle=3 pLDDT=62.2 pTM=0.0581 tol=0.486\n",
            "2025-04-10 18:26:43,186 alphafold2_ptm_model_3_seed_000 took 2.2s (3 recycles)\n",
            "2025-04-10 18:26:43,736 alphafold2_ptm_model_4_seed_000 recycle=0 pLDDT=61.4 pTM=0.0527\n",
            "2025-04-10 18:26:44,278 alphafold2_ptm_model_4_seed_000 recycle=1 pLDDT=62.7 pTM=0.0573 tol=1.5\n",
            "2025-04-10 18:26:44,819 alphafold2_ptm_model_4_seed_000 recycle=2 pLDDT=64.6 pTM=0.0604 tol=0.703\n",
            "2025-04-10 18:26:45,362 alphafold2_ptm_model_4_seed_000 recycle=3 pLDDT=65.1 pTM=0.0625 tol=0.276\n",
            "2025-04-10 18:26:45,362 alphafold2_ptm_model_4_seed_000 took 2.2s (3 recycles)\n",
            "2025-04-10 18:26:45,914 alphafold2_ptm_model_5_seed_000 recycle=0 pLDDT=63.6 pTM=0.0621\n",
            "2025-04-10 18:26:46,455 alphafold2_ptm_model_5_seed_000 recycle=1 pLDDT=61.8 pTM=0.0612 tol=0.81\n",
            "2025-04-10 18:26:46,998 alphafold2_ptm_model_5_seed_000 recycle=2 pLDDT=63.2 pTM=0.0623 tol=0.455\n",
            "2025-04-10 18:26:47,540 alphafold2_ptm_model_5_seed_000 recycle=3 pLDDT=63.3 pTM=0.0632 tol=0.241\n",
            "2025-04-10 18:26:47,540 alphafold2_ptm_model_5_seed_000 took 2.2s (3 recycles)\n",
            "2025-04-10 18:26:47,550 reranking models by 'plddt' metric\n",
            "2025-04-10 18:26:47,551 rank_001_alphafold2_ptm_model_4_seed_000 pLDDT=65.1 pTM=0.0625\n",
            "2025-04-10 18:26:47,553 rank_002_alphafold2_ptm_model_1_seed_000 pLDDT=64.6 pTM=0.0572\n",
            "2025-04-10 18:26:47,556 rank_003_alphafold2_ptm_model_5_seed_000 pLDDT=63.3 pTM=0.0632\n",
            "2025-04-10 18:26:47,558 rank_004_alphafold2_ptm_model_3_seed_000 pLDDT=62.2 pTM=0.0581\n",
            "2025-04-10 18:26:47,561 rank_005_alphafold2_ptm_model_2_seed_000 pLDDT=60.9 pTM=0.0602\n",
            "2025-04-10 18:26:48,599 Query 469/8000: sequence_2469 (length 20)\n"
          ]
        },
        {
          "output_type": "stream",
          "name": "stderr",
          "text": [
            "SUBMIT:   0%|          | 0/150 [elapsed: 00:00 remaining: ?]"
          ]
        },
        {
          "output_type": "stream",
          "name": "stdout",
          "text": [
            "2025-04-10 18:26:49,281 Sleeping for 7s. Reason: RATELIMIT\n"
          ]
        },
        {
          "output_type": "stream",
          "name": "stderr",
          "text": [
            "SUBMIT:   0%|          | 0/150 [elapsed: 00:08 remaining: ?]"
          ]
        },
        {
          "output_type": "stream",
          "name": "stdout",
          "text": [
            "2025-04-10 18:26:56,961 Sleeping for 6s. Reason: RATELIMIT\n"
          ]
        },
        {
          "output_type": "stream",
          "name": "stderr",
          "text": [
            "SUBMIT:   0%|          | 0/150 [elapsed: 00:15 remaining: ?]"
          ]
        },
        {
          "output_type": "stream",
          "name": "stdout",
          "text": [
            "2025-04-10 18:27:03,641 Sleeping for 7s. Reason: RATELIMIT\n"
          ]
        },
        {
          "output_type": "stream",
          "name": "stderr",
          "text": [
            "SUBMIT:   0%|          | 0/150 [elapsed: 00:22 remaining: ?]"
          ]
        },
        {
          "output_type": "stream",
          "name": "stdout",
          "text": [
            "2025-04-10 18:27:11,316 Sleeping for 8s. Reason: RATELIMIT\n"
          ]
        },
        {
          "output_type": "stream",
          "name": "stderr",
          "text": [
            "SUBMIT:   0%|          | 0/150 [elapsed: 00:31 remaining: ?]"
          ]
        },
        {
          "output_type": "stream",
          "name": "stdout",
          "text": [
            "2025-04-10 18:27:19,995 Sleeping for 8s. Reason: RATELIMIT\n"
          ]
        },
        {
          "output_type": "stream",
          "name": "stderr",
          "text": [
            "SUBMIT:   0%|          | 0/150 [elapsed: 00:40 remaining: ?]"
          ]
        },
        {
          "output_type": "stream",
          "name": "stdout",
          "text": [
            "2025-04-10 18:27:28,688 Sleeping for 9s. Reason: RATELIMIT\n"
          ]
        },
        {
          "output_type": "stream",
          "name": "stderr",
          "text": [
            "SUBMIT:   0%|          | 0/150 [elapsed: 00:49 remaining: ?]"
          ]
        },
        {
          "output_type": "stream",
          "name": "stdout",
          "text": [
            "2025-04-10 18:27:38,367 Sleeping for 6s. Reason: RATELIMIT\n"
          ]
        },
        {
          "output_type": "stream",
          "name": "stderr",
          "text": [
            "SUBMIT:   0%|          | 0/150 [elapsed: 00:56 remaining: ?]"
          ]
        },
        {
          "output_type": "stream",
          "name": "stdout",
          "text": [
            "2025-04-10 18:27:45,049 Sleeping for 7s. Reason: RATELIMIT\n"
          ]
        },
        {
          "output_type": "stream",
          "name": "stderr",
          "text": [
            "SUBMIT:   0%|          | 0/150 [elapsed: 01:04 remaining: ?]"
          ]
        },
        {
          "output_type": "stream",
          "name": "stdout",
          "text": [
            "2025-04-10 18:27:52,739 Sleeping for 5s. Reason: RATELIMIT\n"
          ]
        },
        {
          "output_type": "stream",
          "name": "stderr",
          "text": [
            "SUBMIT:   0%|          | 0/150 [elapsed: 01:09 remaining: ?]"
          ]
        },
        {
          "output_type": "stream",
          "name": "stdout",
          "text": [
            "2025-04-10 18:27:58,414 Sleeping for 5s. Reason: RATELIMIT\n"
          ]
        },
        {
          "output_type": "stream",
          "name": "stderr",
          "text": [
            "PENDING:   0%|          | 0/150 [elapsed: 01:15 remaining: ?]"
          ]
        },
        {
          "output_type": "stream",
          "name": "stdout",
          "text": [
            "2025-04-10 18:28:04,110 Sleeping for 8s. Reason: PENDING\n"
          ]
        },
        {
          "output_type": "stream",
          "name": "stderr",
          "text": [
            "RUNNING:   5%|▌         | 8/150 [elapsed: 01:24 remaining: 24:54]"
          ]
        },
        {
          "output_type": "stream",
          "name": "stdout",
          "text": [
            "2025-04-10 18:28:12,789 Sleeping for 8s. Reason: RUNNING\n"
          ]
        },
        {
          "output_type": "stream",
          "name": "stderr",
          "text": [
            "COMPLETE: 100%|██████████| 150/150 [elapsed: 01:33 remaining: 00:00]\n"
          ]
        },
        {
          "output_type": "stream",
          "name": "stdout",
          "text": [
            "2025-04-10 18:28:24,417 alphafold2_ptm_model_1_seed_000 recycle=0 pLDDT=50.7 pTM=0.0469\n",
            "2025-04-10 18:28:24,956 alphafold2_ptm_model_1_seed_000 recycle=1 pLDDT=57.7 pTM=0.0566 tol=4.17\n",
            "2025-04-10 18:28:25,497 alphafold2_ptm_model_1_seed_000 recycle=2 pLDDT=54.3 pTM=0.0499 tol=1.13\n",
            "2025-04-10 18:28:26,037 alphafold2_ptm_model_1_seed_000 recycle=3 pLDDT=55.1 pTM=0.0509 tol=1.16\n",
            "2025-04-10 18:28:26,037 alphafold2_ptm_model_1_seed_000 took 2.2s (3 recycles)\n",
            "2025-04-10 18:28:26,600 alphafold2_ptm_model_2_seed_000 recycle=0 pLDDT=59.1 pTM=0.0529\n",
            "2025-04-10 18:28:27,141 alphafold2_ptm_model_2_seed_000 recycle=1 pLDDT=55 pTM=0.0546 tol=0.819\n",
            "2025-04-10 18:28:27,681 alphafold2_ptm_model_2_seed_000 recycle=2 pLDDT=58.5 pTM=0.0566 tol=0.734\n",
            "2025-04-10 18:28:28,220 alphafold2_ptm_model_2_seed_000 recycle=3 pLDDT=62.1 pTM=0.0582 tol=1.37\n",
            "2025-04-10 18:28:28,220 alphafold2_ptm_model_2_seed_000 took 2.2s (3 recycles)\n",
            "2025-04-10 18:28:28,770 alphafold2_ptm_model_3_seed_000 recycle=0 pLDDT=65.1 pTM=0.057\n",
            "2025-04-10 18:28:29,312 alphafold2_ptm_model_3_seed_000 recycle=1 pLDDT=74.4 pTM=0.0714 tol=0.844\n",
            "2025-04-10 18:28:29,853 alphafold2_ptm_model_3_seed_000 recycle=2 pLDDT=75 pTM=0.071 tol=0.452\n",
            "2025-04-10 18:28:30,393 alphafold2_ptm_model_3_seed_000 recycle=3 pLDDT=75.8 pTM=0.072 tol=0.136\n",
            "2025-04-10 18:28:30,394 alphafold2_ptm_model_3_seed_000 took 2.2s (3 recycles)\n",
            "2025-04-10 18:28:30,943 alphafold2_ptm_model_4_seed_000 recycle=0 pLDDT=54.2 pTM=0.0456\n",
            "2025-04-10 18:28:31,483 alphafold2_ptm_model_4_seed_000 recycle=1 pLDDT=49.9 pTM=0.0445 tol=3.12\n",
            "2025-04-10 18:28:32,023 alphafold2_ptm_model_4_seed_000 recycle=2 pLDDT=53.1 pTM=0.0456 tol=1.56\n",
            "2025-04-10 18:28:32,566 alphafold2_ptm_model_4_seed_000 recycle=3 pLDDT=54.2 pTM=0.0458 tol=1.77\n",
            "2025-04-10 18:28:32,566 alphafold2_ptm_model_4_seed_000 took 2.2s (3 recycles)\n",
            "2025-04-10 18:28:33,117 alphafold2_ptm_model_5_seed_000 recycle=0 pLDDT=51.9 pTM=0.0485\n",
            "2025-04-10 18:28:33,659 alphafold2_ptm_model_5_seed_000 recycle=1 pLDDT=49 pTM=0.0477 tol=4.88\n",
            "2025-04-10 18:28:34,201 alphafold2_ptm_model_5_seed_000 recycle=2 pLDDT=50.3 pTM=0.0448 tol=3.13\n",
            "2025-04-10 18:28:34,743 alphafold2_ptm_model_5_seed_000 recycle=3 pLDDT=57.7 pTM=0.0536 tol=2.1\n",
            "2025-04-10 18:28:34,744 alphafold2_ptm_model_5_seed_000 took 2.2s (3 recycles)\n",
            "2025-04-10 18:28:34,753 reranking models by 'plddt' metric\n",
            "2025-04-10 18:28:34,753 rank_001_alphafold2_ptm_model_3_seed_000 pLDDT=75.8 pTM=0.072\n",
            "2025-04-10 18:28:34,756 rank_002_alphafold2_ptm_model_2_seed_000 pLDDT=62.1 pTM=0.0582\n",
            "2025-04-10 18:28:34,758 rank_003_alphafold2_ptm_model_5_seed_000 pLDDT=57.7 pTM=0.0536\n",
            "2025-04-10 18:28:34,761 rank_004_alphafold2_ptm_model_1_seed_000 pLDDT=55.1 pTM=0.0509\n",
            "2025-04-10 18:28:34,763 rank_005_alphafold2_ptm_model_4_seed_000 pLDDT=54.2 pTM=0.0458\n",
            "2025-04-10 18:28:35,768 Query 470/8000: sequence_2470 (length 20)\n"
          ]
        },
        {
          "output_type": "stream",
          "name": "stderr",
          "text": [
            "SUBMIT:   0%|          | 0/150 [elapsed: 00:00 remaining: ?]"
          ]
        },
        {
          "output_type": "stream",
          "name": "stdout",
          "text": [
            "2025-04-10 18:28:36,459 Sleeping for 5s. Reason: RATELIMIT\n"
          ]
        },
        {
          "output_type": "stream",
          "name": "stderr",
          "text": [
            "SUBMIT:   0%|          | 0/150 [elapsed: 00:06 remaining: ?]"
          ]
        },
        {
          "output_type": "stream",
          "name": "stdout",
          "text": [
            "2025-04-10 18:28:42,141 Sleeping for 5s. Reason: RATELIMIT\n"
          ]
        },
        {
          "output_type": "stream",
          "name": "stderr",
          "text": [
            "SUBMIT:   0%|          | 0/150 [elapsed: 00:12 remaining: ?]"
          ]
        },
        {
          "output_type": "stream",
          "name": "stdout",
          "text": [
            "2025-04-10 18:28:47,968 Sleeping for 6s. Reason: RATELIMIT\n"
          ]
        },
        {
          "output_type": "stream",
          "name": "stderr",
          "text": [
            "SUBMIT:   0%|          | 0/150 [elapsed: 00:18 remaining: ?]"
          ]
        },
        {
          "output_type": "stream",
          "name": "stdout",
          "text": [
            "2025-04-10 18:28:54,649 Sleeping for 10s. Reason: RATELIMIT\n"
          ]
        },
        {
          "output_type": "stream",
          "name": "stderr",
          "text": [
            "SUBMIT:   0%|          | 0/150 [elapsed: 00:29 remaining: ?]"
          ]
        },
        {
          "output_type": "stream",
          "name": "stdout",
          "text": [
            "2025-04-10 18:29:05,325 Sleeping for 6s. Reason: RATELIMIT\n"
          ]
        },
        {
          "output_type": "stream",
          "name": "stderr",
          "text": [
            "SUBMIT:   0%|          | 0/150 [elapsed: 00:36 remaining: ?]"
          ]
        },
        {
          "output_type": "stream",
          "name": "stdout",
          "text": [
            "2025-04-10 18:29:12,007 Sleeping for 10s. Reason: RATELIMIT\n"
          ]
        },
        {
          "output_type": "stream",
          "name": "stderr",
          "text": [
            "SUBMIT:   0%|          | 0/150 [elapsed: 00:46 remaining: ?]"
          ]
        },
        {
          "output_type": "stream",
          "name": "stdout",
          "text": [
            "2025-04-10 18:29:22,688 Sleeping for 10s. Reason: RATELIMIT\n"
          ]
        },
        {
          "output_type": "stream",
          "name": "stderr",
          "text": [
            "SUBMIT:   0%|          | 0/150 [elapsed: 00:57 remaining: ?]"
          ]
        },
        {
          "output_type": "stream",
          "name": "stdout",
          "text": [
            "2025-04-10 18:29:33,371 Sleeping for 5s. Reason: RATELIMIT\n"
          ]
        },
        {
          "output_type": "stream",
          "name": "stderr",
          "text": [
            "SUBMIT:   0%|          | 0/150 [elapsed: 01:03 remaining: ?]"
          ]
        },
        {
          "output_type": "stream",
          "name": "stdout",
          "text": [
            "2025-04-10 18:29:39,041 Sleeping for 8s. Reason: RATELIMIT\n"
          ]
        },
        {
          "output_type": "stream",
          "name": "stderr",
          "text": [
            "PENDING:   0%|          | 0/150 [elapsed: 01:11 remaining: ?]"
          ]
        },
        {
          "output_type": "stream",
          "name": "stdout",
          "text": [
            "2025-04-10 18:29:47,739 Sleeping for 8s. Reason: PENDING\n"
          ]
        },
        {
          "output_type": "stream",
          "name": "stderr",
          "text": [
            "COMPLETE: 100%|██████████| 150/150 [elapsed: 01:21 remaining: 00:00]\n"
          ]
        },
        {
          "output_type": "stream",
          "name": "stdout",
          "text": [
            "2025-04-10 18:29:59,378 alphafold2_ptm_model_1_seed_000 recycle=0 pLDDT=82.1 pTM=0.0813\n",
            "2025-04-10 18:29:59,918 alphafold2_ptm_model_1_seed_000 recycle=1 pLDDT=81.1 pTM=0.0841 tol=0.0827\n",
            "2025-04-10 18:30:00,459 alphafold2_ptm_model_1_seed_000 recycle=2 pLDDT=81.7 pTM=0.0845 tol=0.0654\n",
            "2025-04-10 18:30:01,000 alphafold2_ptm_model_1_seed_000 recycle=3 pLDDT=81.2 pTM=0.0845 tol=0.0387\n",
            "2025-04-10 18:30:01,000 alphafold2_ptm_model_1_seed_000 took 2.2s (3 recycles)\n",
            "2025-04-10 18:30:01,565 alphafold2_ptm_model_2_seed_000 recycle=0 pLDDT=83 pTM=0.0944\n",
            "2025-04-10 18:30:02,104 alphafold2_ptm_model_2_seed_000 recycle=1 pLDDT=79.9 pTM=0.0929 tol=0.0808\n",
            "2025-04-10 18:30:02,645 alphafold2_ptm_model_2_seed_000 recycle=2 pLDDT=79.9 pTM=0.0913 tol=0.0544\n",
            "2025-04-10 18:30:03,185 alphafold2_ptm_model_2_seed_000 recycle=3 pLDDT=80.1 pTM=0.0922 tol=0.0383\n",
            "2025-04-10 18:30:03,185 alphafold2_ptm_model_2_seed_000 took 2.2s (3 recycles)\n",
            "2025-04-10 18:30:03,738 alphafold2_ptm_model_3_seed_000 recycle=0 pLDDT=81.6 pTM=0.0759\n",
            "2025-04-10 18:30:04,280 alphafold2_ptm_model_3_seed_000 recycle=1 pLDDT=79.8 pTM=0.0748 tol=0.0853\n",
            "2025-04-10 18:30:04,819 alphafold2_ptm_model_3_seed_000 recycle=2 pLDDT=80 pTM=0.0759 tol=0.0948\n",
            "2025-04-10 18:30:05,360 alphafold2_ptm_model_3_seed_000 recycle=3 pLDDT=79.6 pTM=0.0752 tol=0.0592\n",
            "2025-04-10 18:30:05,361 alphafold2_ptm_model_3_seed_000 took 2.2s (3 recycles)\n",
            "2025-04-10 18:30:05,914 alphafold2_ptm_model_4_seed_000 recycle=0 pLDDT=85.4 pTM=0.0897\n",
            "2025-04-10 18:30:06,456 alphafold2_ptm_model_4_seed_000 recycle=1 pLDDT=84.4 pTM=0.0908 tol=0.0748\n",
            "2025-04-10 18:30:06,997 alphafold2_ptm_model_4_seed_000 recycle=2 pLDDT=84.6 pTM=0.0921 tol=0.0671\n",
            "2025-04-10 18:30:07,539 alphafold2_ptm_model_4_seed_000 recycle=3 pLDDT=85.1 pTM=0.0928 tol=0.0341\n",
            "2025-04-10 18:30:07,540 alphafold2_ptm_model_4_seed_000 took 2.2s (3 recycles)\n",
            "2025-04-10 18:30:08,091 alphafold2_ptm_model_5_seed_000 recycle=0 pLDDT=86.6 pTM=0.0906\n",
            "2025-04-10 18:30:08,633 alphafold2_ptm_model_5_seed_000 recycle=1 pLDDT=83.4 pTM=0.0906 tol=0.0535\n",
            "2025-04-10 18:30:09,174 alphafold2_ptm_model_5_seed_000 recycle=2 pLDDT=83.3 pTM=0.0905 tol=0.0349\n",
            "2025-04-10 18:30:09,716 alphafold2_ptm_model_5_seed_000 recycle=3 pLDDT=83.5 pTM=0.0907 tol=0.035\n",
            "2025-04-10 18:30:09,717 alphafold2_ptm_model_5_seed_000 took 2.2s (3 recycles)\n",
            "2025-04-10 18:30:09,727 reranking models by 'plddt' metric\n",
            "2025-04-10 18:30:09,727 rank_001_alphafold2_ptm_model_4_seed_000 pLDDT=85.1 pTM=0.0928\n",
            "2025-04-10 18:30:09,730 rank_002_alphafold2_ptm_model_5_seed_000 pLDDT=83.5 pTM=0.0907\n",
            "2025-04-10 18:30:09,733 rank_003_alphafold2_ptm_model_1_seed_000 pLDDT=81.2 pTM=0.0845\n",
            "2025-04-10 18:30:09,736 rank_004_alphafold2_ptm_model_2_seed_000 pLDDT=80.1 pTM=0.0922\n",
            "2025-04-10 18:30:09,739 rank_005_alphafold2_ptm_model_3_seed_000 pLDDT=79.6 pTM=0.0752\n",
            "2025-04-10 18:30:10,762 Query 471/8000: sequence_2471 (length 20)\n"
          ]
        },
        {
          "output_type": "stream",
          "name": "stderr",
          "text": [
            "SUBMIT:   0%|          | 0/150 [elapsed: 00:00 remaining: ?]"
          ]
        },
        {
          "output_type": "stream",
          "name": "stdout",
          "text": [
            "2025-04-10 18:30:11,438 Sleeping for 10s. Reason: RATELIMIT\n"
          ]
        },
        {
          "output_type": "stream",
          "name": "stderr",
          "text": [
            "SUBMIT:   0%|          | 0/150 [elapsed: 00:11 remaining: ?]"
          ]
        },
        {
          "output_type": "stream",
          "name": "stdout",
          "text": [
            "2025-04-10 18:30:22,112 Sleeping for 6s. Reason: RATELIMIT\n"
          ]
        },
        {
          "output_type": "stream",
          "name": "stderr",
          "text": [
            "SUBMIT:   0%|          | 0/150 [elapsed: 00:18 remaining: ?]"
          ]
        },
        {
          "output_type": "stream",
          "name": "stdout",
          "text": [
            "2025-04-10 18:30:28,807 Sleeping for 5s. Reason: RATELIMIT\n"
          ]
        },
        {
          "output_type": "stream",
          "name": "stderr",
          "text": [
            "SUBMIT:   0%|          | 0/150 [elapsed: 00:23 remaining: ?]"
          ]
        },
        {
          "output_type": "stream",
          "name": "stdout",
          "text": [
            "2025-04-10 18:30:34,483 Sleeping for 10s. Reason: RATELIMIT\n"
          ]
        },
        {
          "output_type": "stream",
          "name": "stderr",
          "text": [
            "SUBMIT:   0%|          | 0/150 [elapsed: 00:34 remaining: ?]"
          ]
        },
        {
          "output_type": "stream",
          "name": "stdout",
          "text": [
            "2025-04-10 18:30:45,162 Sleeping for 7s. Reason: RATELIMIT\n"
          ]
        },
        {
          "output_type": "stream",
          "name": "stderr",
          "text": [
            "SUBMIT:   0%|          | 0/150 [elapsed: 00:42 remaining: ?]"
          ]
        },
        {
          "output_type": "stream",
          "name": "stdout",
          "text": [
            "2025-04-10 18:30:52,846 Sleeping for 10s. Reason: RATELIMIT\n"
          ]
        },
        {
          "output_type": "stream",
          "name": "stderr",
          "text": [
            "SUBMIT:   0%|          | 0/150 [elapsed: 00:52 remaining: ?]"
          ]
        },
        {
          "output_type": "stream",
          "name": "stdout",
          "text": [
            "2025-04-10 18:31:03,533 Sleeping for 8s. Reason: RATELIMIT\n"
          ]
        },
        {
          "output_type": "stream",
          "name": "stderr",
          "text": [
            "SUBMIT:   0%|          | 0/150 [elapsed: 01:01 remaining: ?]"
          ]
        },
        {
          "output_type": "stream",
          "name": "stdout",
          "text": [
            "2025-04-10 18:31:12,213 Sleeping for 6s. Reason: RATELIMIT\n"
          ]
        },
        {
          "output_type": "stream",
          "name": "stderr",
          "text": [
            "SUBMIT:   0%|          | 0/150 [elapsed: 01:08 remaining: ?]"
          ]
        },
        {
          "output_type": "stream",
          "name": "stdout",
          "text": [
            "2025-04-10 18:31:18,886 Sleeping for 5s. Reason: RATELIMIT\n"
          ]
        },
        {
          "output_type": "stream",
          "name": "stderr",
          "text": [
            "PENDING:   0%|          | 0/150 [elapsed: 01:13 remaining: ?]"
          ]
        },
        {
          "output_type": "stream",
          "name": "stdout",
          "text": [
            "2025-04-10 18:31:24,581 Sleeping for 6s. Reason: PENDING\n"
          ]
        },
        {
          "output_type": "stream",
          "name": "stderr",
          "text": [
            "RUNNING:   4%|▍         | 6/150 [elapsed: 01:20 remaining: 32:11]"
          ]
        },
        {
          "output_type": "stream",
          "name": "stdout",
          "text": [
            "2025-04-10 18:31:31,265 Sleeping for 9s. Reason: RUNNING\n"
          ]
        },
        {
          "output_type": "stream",
          "name": "stderr",
          "text": [
            "COMPLETE: 100%|██████████| 150/150 [elapsed: 01:30 remaining: 00:00]\n"
          ]
        },
        {
          "output_type": "stream",
          "name": "stdout",
          "text": [
            "2025-04-10 18:31:43,887 alphafold2_ptm_model_1_seed_000 recycle=0 pLDDT=55.4 pTM=0.0482\n",
            "2025-04-10 18:31:44,426 alphafold2_ptm_model_1_seed_000 recycle=1 pLDDT=55.8 pTM=0.0485 tol=2.24\n",
            "2025-04-10 18:31:44,966 alphafold2_ptm_model_1_seed_000 recycle=2 pLDDT=56.9 pTM=0.0507 tol=1.19\n",
            "2025-04-10 18:31:45,506 alphafold2_ptm_model_1_seed_000 recycle=3 pLDDT=53.3 pTM=0.0484 tol=2.38\n",
            "2025-04-10 18:31:45,507 alphafold2_ptm_model_1_seed_000 took 2.2s (3 recycles)\n",
            "2025-04-10 18:31:46,057 alphafold2_ptm_model_2_seed_000 recycle=0 pLDDT=60.3 pTM=0.0471\n",
            "2025-04-10 18:31:46,596 alphafold2_ptm_model_2_seed_000 recycle=1 pLDDT=57.7 pTM=0.0479 tol=0.875\n",
            "2025-04-10 18:31:47,138 alphafold2_ptm_model_2_seed_000 recycle=2 pLDDT=58.4 pTM=0.0481 tol=0.846\n",
            "2025-04-10 18:31:47,679 alphafold2_ptm_model_2_seed_000 recycle=3 pLDDT=55.8 pTM=0.0475 tol=0.23\n",
            "2025-04-10 18:31:47,679 alphafold2_ptm_model_2_seed_000 took 2.2s (3 recycles)\n",
            "2025-04-10 18:31:48,245 alphafold2_ptm_model_3_seed_000 recycle=0 pLDDT=57.7 pTM=0.0443\n",
            "2025-04-10 18:31:48,785 alphafold2_ptm_model_3_seed_000 recycle=1 pLDDT=57.6 pTM=0.0441 tol=1.12\n",
            "2025-04-10 18:31:49,325 alphafold2_ptm_model_3_seed_000 recycle=2 pLDDT=57.3 pTM=0.0439 tol=0.657\n",
            "2025-04-10 18:31:49,866 alphafold2_ptm_model_3_seed_000 recycle=3 pLDDT=57.3 pTM=0.0444 tol=0.64\n",
            "2025-04-10 18:31:49,866 alphafold2_ptm_model_3_seed_000 took 2.2s (3 recycles)\n",
            "2025-04-10 18:31:50,419 alphafold2_ptm_model_4_seed_000 recycle=0 pLDDT=55.9 pTM=0.0457\n",
            "2025-04-10 18:31:50,961 alphafold2_ptm_model_4_seed_000 recycle=1 pLDDT=55.3 pTM=0.0459 tol=1.21\n",
            "2025-04-10 18:31:51,502 alphafold2_ptm_model_4_seed_000 recycle=2 pLDDT=54.3 pTM=0.0458 tol=0.561\n",
            "2025-04-10 18:31:52,044 alphafold2_ptm_model_4_seed_000 recycle=3 pLDDT=53.7 pTM=0.0449 tol=0.661\n",
            "2025-04-10 18:31:52,045 alphafold2_ptm_model_4_seed_000 took 2.2s (3 recycles)\n",
            "2025-04-10 18:31:52,596 alphafold2_ptm_model_5_seed_000 recycle=0 pLDDT=61.1 pTM=0.0551\n",
            "2025-04-10 18:31:53,138 alphafold2_ptm_model_5_seed_000 recycle=1 pLDDT=56.7 pTM=0.052 tol=0.595\n",
            "2025-04-10 18:31:53,680 alphafold2_ptm_model_5_seed_000 recycle=2 pLDDT=56 pTM=0.05 tol=0.651\n",
            "2025-04-10 18:31:54,222 alphafold2_ptm_model_5_seed_000 recycle=3 pLDDT=53.8 pTM=0.0468 tol=1.45\n",
            "2025-04-10 18:31:54,222 alphafold2_ptm_model_5_seed_000 took 2.2s (3 recycles)\n",
            "2025-04-10 18:31:54,232 reranking models by 'plddt' metric\n",
            "2025-04-10 18:31:54,232 rank_001_alphafold2_ptm_model_3_seed_000 pLDDT=57.3 pTM=0.0444\n",
            "2025-04-10 18:31:54,234 rank_002_alphafold2_ptm_model_2_seed_000 pLDDT=55.8 pTM=0.0475\n",
            "2025-04-10 18:31:54,237 rank_003_alphafold2_ptm_model_5_seed_000 pLDDT=53.8 pTM=0.0468\n",
            "2025-04-10 18:31:54,239 rank_004_alphafold2_ptm_model_4_seed_000 pLDDT=53.7 pTM=0.0449\n",
            "2025-04-10 18:31:54,241 rank_005_alphafold2_ptm_model_1_seed_000 pLDDT=53.3 pTM=0.0484\n",
            "2025-04-10 18:31:55,251 Query 472/8000: sequence_2472 (length 20)\n"
          ]
        },
        {
          "output_type": "stream",
          "name": "stderr",
          "text": [
            "SUBMIT:   0%|          | 0/150 [elapsed: 00:00 remaining: ?]"
          ]
        },
        {
          "output_type": "stream",
          "name": "stdout",
          "text": [
            "2025-04-10 18:31:55,941 Sleeping for 5s. Reason: RATELIMIT\n"
          ]
        },
        {
          "output_type": "stream",
          "name": "stderr",
          "text": [
            "SUBMIT:   0%|          | 0/150 [elapsed: 00:06 remaining: ?]"
          ]
        },
        {
          "output_type": "stream",
          "name": "stdout",
          "text": [
            "2025-04-10 18:32:01,624 Sleeping for 5s. Reason: RATELIMIT\n"
          ]
        },
        {
          "output_type": "stream",
          "name": "stderr",
          "text": [
            "SUBMIT:   0%|          | 0/150 [elapsed: 00:12 remaining: ?]"
          ]
        },
        {
          "output_type": "stream",
          "name": "stdout",
          "text": [
            "2025-04-10 18:32:07,311 Sleeping for 6s. Reason: RATELIMIT\n"
          ]
        },
        {
          "output_type": "stream",
          "name": "stderr",
          "text": [
            "SUBMIT:   0%|          | 0/150 [elapsed: 00:18 remaining: ?]"
          ]
        },
        {
          "output_type": "stream",
          "name": "stdout",
          "text": [
            "2025-04-10 18:32:13,996 Sleeping for 5s. Reason: RATELIMIT\n"
          ]
        },
        {
          "output_type": "stream",
          "name": "stderr",
          "text": [
            "SUBMIT:   0%|          | 0/150 [elapsed: 00:24 remaining: ?]"
          ]
        },
        {
          "output_type": "stream",
          "name": "stdout",
          "text": [
            "2025-04-10 18:32:19,680 Sleeping for 7s. Reason: RATELIMIT\n"
          ]
        },
        {
          "output_type": "stream",
          "name": "stderr",
          "text": [
            "SUBMIT:   0%|          | 0/150 [elapsed: 00:32 remaining: ?]"
          ]
        },
        {
          "output_type": "stream",
          "name": "stdout",
          "text": [
            "2025-04-10 18:32:27,363 Sleeping for 9s. Reason: RATELIMIT\n"
          ]
        },
        {
          "output_type": "stream",
          "name": "stderr",
          "text": [
            "SUBMIT:   0%|          | 0/150 [elapsed: 00:41 remaining: ?]"
          ]
        },
        {
          "output_type": "stream",
          "name": "stdout",
          "text": [
            "2025-04-10 18:32:37,047 Sleeping for 5s. Reason: RATELIMIT\n"
          ]
        },
        {
          "output_type": "stream",
          "name": "stderr",
          "text": [
            "SUBMIT:   0%|          | 0/150 [elapsed: 00:47 remaining: ?]"
          ]
        },
        {
          "output_type": "stream",
          "name": "stdout",
          "text": [
            "2025-04-10 18:32:42,731 Sleeping for 7s. Reason: RATELIMIT\n"
          ]
        },
        {
          "output_type": "stream",
          "name": "stderr",
          "text": [
            "SUBMIT:   0%|          | 0/150 [elapsed: 00:55 remaining: ?]"
          ]
        },
        {
          "output_type": "stream",
          "name": "stdout",
          "text": [
            "2025-04-10 18:32:50,420 Sleeping for 7s. Reason: RATELIMIT\n"
          ]
        },
        {
          "output_type": "stream",
          "name": "stderr",
          "text": [
            "SUBMIT:   0%|          | 0/150 [elapsed: 01:02 remaining: ?]"
          ]
        },
        {
          "output_type": "stream",
          "name": "stdout",
          "text": [
            "2025-04-10 18:32:58,098 Sleeping for 10s. Reason: RATELIMIT\n"
          ]
        },
        {
          "output_type": "stream",
          "name": "stderr",
          "text": [
            "PENDING:   0%|          | 0/150 [elapsed: 01:13 remaining: ?]"
          ]
        },
        {
          "output_type": "stream",
          "name": "stdout",
          "text": [
            "2025-04-10 18:33:08,782 Sleeping for 7s. Reason: PENDING\n"
          ]
        },
        {
          "output_type": "stream",
          "name": "stderr",
          "text": [
            "RUNNING:   5%|▍         | 7/150 [elapsed: 01:21 remaining: 27:38]"
          ]
        },
        {
          "output_type": "stream",
          "name": "stdout",
          "text": [
            "2025-04-10 18:33:16,460 Sleeping for 9s. Reason: RUNNING\n"
          ]
        },
        {
          "output_type": "stream",
          "name": "stderr",
          "text": [
            "COMPLETE: 100%|██████████| 150/150 [elapsed: 01:31 remaining: 00:00]\n"
          ]
        },
        {
          "output_type": "stream",
          "name": "stdout",
          "text": [
            "2025-04-10 18:33:29,074 alphafold2_ptm_model_1_seed_000 recycle=0 pLDDT=72.2 pTM=0.0739\n",
            "2025-04-10 18:33:29,614 alphafold2_ptm_model_1_seed_000 recycle=1 pLDDT=69.6 pTM=0.075 tol=0.477\n",
            "2025-04-10 18:33:30,155 alphafold2_ptm_model_1_seed_000 recycle=2 pLDDT=68.6 pTM=0.0728 tol=0.39\n",
            "2025-04-10 18:33:30,694 alphafold2_ptm_model_1_seed_000 recycle=3 pLDDT=69.1 pTM=0.0719 tol=0.121\n",
            "2025-04-10 18:33:30,695 alphafold2_ptm_model_1_seed_000 took 2.2s (3 recycles)\n",
            "2025-04-10 18:33:31,244 alphafold2_ptm_model_2_seed_000 recycle=0 pLDDT=71.9 pTM=0.077\n",
            "2025-04-10 18:33:31,783 alphafold2_ptm_model_2_seed_000 recycle=1 pLDDT=69.1 pTM=0.075 tol=0.472\n",
            "2025-04-10 18:33:32,323 alphafold2_ptm_model_2_seed_000 recycle=2 pLDDT=67.6 pTM=0.072 tol=0.355\n",
            "2025-04-10 18:33:32,864 alphafold2_ptm_model_2_seed_000 recycle=3 pLDDT=68.2 pTM=0.0705 tol=0.225\n",
            "2025-04-10 18:33:32,865 alphafold2_ptm_model_2_seed_000 took 2.2s (3 recycles)\n",
            "2025-04-10 18:33:33,417 alphafold2_ptm_model_3_seed_000 recycle=0 pLDDT=77.7 pTM=0.0812\n",
            "2025-04-10 18:33:33,958 alphafold2_ptm_model_3_seed_000 recycle=1 pLDDT=75.1 pTM=0.0762 tol=0.325\n",
            "2025-04-10 18:33:34,499 alphafold2_ptm_model_3_seed_000 recycle=2 pLDDT=74.3 pTM=0.076 tol=0.245\n",
            "2025-04-10 18:33:35,040 alphafold2_ptm_model_3_seed_000 recycle=3 pLDDT=74.4 pTM=0.0746 tol=0.201\n",
            "2025-04-10 18:33:35,041 alphafold2_ptm_model_3_seed_000 took 2.2s (3 recycles)\n",
            "2025-04-10 18:33:35,591 alphafold2_ptm_model_4_seed_000 recycle=0 pLDDT=76.7 pTM=0.0789\n",
            "2025-04-10 18:33:36,134 alphafold2_ptm_model_4_seed_000 recycle=1 pLDDT=75.6 pTM=0.0817 tol=0.269\n",
            "2025-04-10 18:33:36,676 alphafold2_ptm_model_4_seed_000 recycle=2 pLDDT=76.4 pTM=0.083 tol=0.115\n",
            "2025-04-10 18:33:37,218 alphafold2_ptm_model_4_seed_000 recycle=3 pLDDT=77.9 pTM=0.0855 tol=0.0941\n",
            "2025-04-10 18:33:37,218 alphafold2_ptm_model_4_seed_000 took 2.2s (3 recycles)\n",
            "2025-04-10 18:33:37,769 alphafold2_ptm_model_5_seed_000 recycle=0 pLDDT=76.8 pTM=0.0853\n",
            "2025-04-10 18:33:38,311 alphafold2_ptm_model_5_seed_000 recycle=1 pLDDT=70.9 pTM=0.0793 tol=0.193\n",
            "2025-04-10 18:33:38,852 alphafold2_ptm_model_5_seed_000 recycle=2 pLDDT=70.6 pTM=0.0776 tol=0.676\n",
            "2025-04-10 18:33:39,394 alphafold2_ptm_model_5_seed_000 recycle=3 pLDDT=71.1 pTM=0.0784 tol=0.174\n",
            "2025-04-10 18:33:39,395 alphafold2_ptm_model_5_seed_000 took 2.2s (3 recycles)\n",
            "2025-04-10 18:33:39,405 reranking models by 'plddt' metric\n",
            "2025-04-10 18:33:39,405 rank_001_alphafold2_ptm_model_4_seed_000 pLDDT=77.9 pTM=0.0855\n",
            "2025-04-10 18:33:39,408 rank_002_alphafold2_ptm_model_3_seed_000 pLDDT=74.4 pTM=0.0746\n",
            "2025-04-10 18:33:39,410 rank_003_alphafold2_ptm_model_5_seed_000 pLDDT=71.1 pTM=0.0784\n",
            "2025-04-10 18:33:39,412 rank_004_alphafold2_ptm_model_1_seed_000 pLDDT=69.1 pTM=0.0719\n",
            "2025-04-10 18:33:39,415 rank_005_alphafold2_ptm_model_2_seed_000 pLDDT=68.2 pTM=0.0705\n",
            "2025-04-10 18:33:40,404 Query 473/8000: sequence_2473 (length 20)\n"
          ]
        },
        {
          "output_type": "stream",
          "name": "stderr",
          "text": [
            "SUBMIT:   0%|          | 0/150 [elapsed: 00:00 remaining: ?]"
          ]
        },
        {
          "output_type": "stream",
          "name": "stdout",
          "text": [
            "2025-04-10 18:33:41,091 Sleeping for 8s. Reason: RATELIMIT\n"
          ]
        },
        {
          "output_type": "stream",
          "name": "stderr",
          "text": [
            "SUBMIT:   0%|          | 0/150 [elapsed: 00:09 remaining: ?]"
          ]
        },
        {
          "output_type": "stream",
          "name": "stdout",
          "text": [
            "2025-04-10 18:33:49,768 Sleeping for 7s. Reason: RATELIMIT\n"
          ]
        },
        {
          "output_type": "stream",
          "name": "stderr",
          "text": [
            "SUBMIT:   0%|          | 0/150 [elapsed: 00:17 remaining: ?]"
          ]
        },
        {
          "output_type": "stream",
          "name": "stdout",
          "text": [
            "2025-04-10 18:33:57,448 Sleeping for 7s. Reason: RATELIMIT\n"
          ]
        },
        {
          "output_type": "stream",
          "name": "stderr",
          "text": [
            "SUBMIT:   0%|          | 0/150 [elapsed: 00:24 remaining: ?]"
          ]
        },
        {
          "output_type": "stream",
          "name": "stdout",
          "text": [
            "2025-04-10 18:34:05,120 Sleeping for 10s. Reason: RATELIMIT\n"
          ]
        },
        {
          "output_type": "stream",
          "name": "stderr",
          "text": [
            "SUBMIT:   0%|          | 0/150 [elapsed: 00:35 remaining: ?]"
          ]
        },
        {
          "output_type": "stream",
          "name": "stdout",
          "text": [
            "2025-04-10 18:34:15,801 Sleeping for 9s. Reason: RATELIMIT\n"
          ]
        },
        {
          "output_type": "stream",
          "name": "stderr",
          "text": [
            "SUBMIT:   0%|          | 0/150 [elapsed: 00:45 remaining: ?]"
          ]
        },
        {
          "output_type": "stream",
          "name": "stdout",
          "text": [
            "2025-04-10 18:34:25,481 Sleeping for 8s. Reason: RATELIMIT\n"
          ]
        },
        {
          "output_type": "stream",
          "name": "stderr",
          "text": [
            "SUBMIT:   0%|          | 0/150 [elapsed: 00:53 remaining: ?]"
          ]
        },
        {
          "output_type": "stream",
          "name": "stdout",
          "text": [
            "2025-04-10 18:34:34,164 Sleeping for 8s. Reason: RATELIMIT\n"
          ]
        },
        {
          "output_type": "stream",
          "name": "stderr",
          "text": [
            "PENDING:   0%|          | 0/150 [elapsed: 01:02 remaining: ?]"
          ]
        },
        {
          "output_type": "stream",
          "name": "stdout",
          "text": [
            "2025-04-10 18:34:42,854 Sleeping for 8s. Reason: PENDING\n"
          ]
        },
        {
          "output_type": "stream",
          "name": "stderr",
          "text": [
            "RUNNING:   5%|▌         | 8/150 [elapsed: 01:11 remaining: 21:02]"
          ]
        },
        {
          "output_type": "stream",
          "name": "stdout",
          "text": [
            "2025-04-10 18:34:51,536 Sleeping for 7s. Reason: RUNNING\n"
          ]
        },
        {
          "output_type": "stream",
          "name": "stderr",
          "text": [
            "COMPLETE: 100%|██████████| 150/150 [elapsed: 01:19 remaining: 00:00]\n"
          ]
        },
        {
          "output_type": "stream",
          "name": "stdout",
          "text": [
            "2025-04-10 18:35:02,164 alphafold2_ptm_model_1_seed_000 recycle=0 pLDDT=61 pTM=0.0586\n",
            "2025-04-10 18:35:02,705 alphafold2_ptm_model_1_seed_000 recycle=1 pLDDT=61.8 pTM=0.0643 tol=0.511\n",
            "2025-04-10 18:35:03,245 alphafold2_ptm_model_1_seed_000 recycle=2 pLDDT=63.3 pTM=0.0659 tol=0.194\n",
            "2025-04-10 18:35:03,784 alphafold2_ptm_model_1_seed_000 recycle=3 pLDDT=63.2 pTM=0.0679 tol=0.313\n",
            "2025-04-10 18:35:03,785 alphafold2_ptm_model_1_seed_000 took 2.2s (3 recycles)\n",
            "2025-04-10 18:35:04,335 alphafold2_ptm_model_2_seed_000 recycle=0 pLDDT=59.2 pTM=0.0609\n",
            "2025-04-10 18:35:04,874 alphafold2_ptm_model_2_seed_000 recycle=1 pLDDT=57.3 pTM=0.0579 tol=0.386\n",
            "2025-04-10 18:35:05,414 alphafold2_ptm_model_2_seed_000 recycle=2 pLDDT=56.6 pTM=0.0534 tol=0.764\n",
            "2025-04-10 18:35:05,954 alphafold2_ptm_model_2_seed_000 recycle=3 pLDDT=56.9 pTM=0.0527 tol=0.269\n",
            "2025-04-10 18:35:05,954 alphafold2_ptm_model_2_seed_000 took 2.2s (3 recycles)\n",
            "2025-04-10 18:35:06,519 alphafold2_ptm_model_3_seed_000 recycle=0 pLDDT=58.7 pTM=0.0482\n",
            "2025-04-10 18:35:07,059 alphafold2_ptm_model_3_seed_000 recycle=1 pLDDT=57.7 pTM=0.052 tol=1.37\n",
            "2025-04-10 18:35:07,600 alphafold2_ptm_model_3_seed_000 recycle=2 pLDDT=59.8 pTM=0.0535 tol=0.527\n",
            "2025-04-10 18:35:08,141 alphafold2_ptm_model_3_seed_000 recycle=3 pLDDT=59.2 pTM=0.0515 tol=0.5\n",
            "2025-04-10 18:35:08,141 alphafold2_ptm_model_3_seed_000 took 2.2s (3 recycles)\n",
            "2025-04-10 18:35:08,691 alphafold2_ptm_model_4_seed_000 recycle=0 pLDDT=61.8 pTM=0.058\n",
            "2025-04-10 18:35:09,232 alphafold2_ptm_model_4_seed_000 recycle=1 pLDDT=64.4 pTM=0.0672 tol=0.813\n",
            "2025-04-10 18:35:09,773 alphafold2_ptm_model_4_seed_000 recycle=2 pLDDT=66.2 pTM=0.0704 tol=0.218\n",
            "2025-04-10 18:35:10,315 alphafold2_ptm_model_4_seed_000 recycle=3 pLDDT=65.5 pTM=0.0688 tol=0.308\n",
            "2025-04-10 18:35:10,316 alphafold2_ptm_model_4_seed_000 took 2.2s (3 recycles)\n",
            "2025-04-10 18:35:10,867 alphafold2_ptm_model_5_seed_000 recycle=0 pLDDT=63.7 pTM=0.0643\n",
            "2025-04-10 18:35:11,407 alphafold2_ptm_model_5_seed_000 recycle=1 pLDDT=60.6 pTM=0.0643 tol=4.3\n",
            "2025-04-10 18:35:11,950 alphafold2_ptm_model_5_seed_000 recycle=2 pLDDT=63.9 pTM=0.0655 tol=0.636\n",
            "2025-04-10 18:35:12,492 alphafold2_ptm_model_5_seed_000 recycle=3 pLDDT=63.2 pTM=0.0671 tol=0.445\n",
            "2025-04-10 18:35:12,493 alphafold2_ptm_model_5_seed_000 took 2.2s (3 recycles)\n",
            "2025-04-10 18:35:12,502 reranking models by 'plddt' metric\n",
            "2025-04-10 18:35:12,502 rank_001_alphafold2_ptm_model_4_seed_000 pLDDT=65.5 pTM=0.0688\n",
            "2025-04-10 18:35:12,505 rank_002_alphafold2_ptm_model_1_seed_000 pLDDT=63.2 pTM=0.0679\n",
            "2025-04-10 18:35:12,508 rank_003_alphafold2_ptm_model_5_seed_000 pLDDT=63.2 pTM=0.0671\n",
            "2025-04-10 18:35:12,510 rank_004_alphafold2_ptm_model_3_seed_000 pLDDT=59.2 pTM=0.0515\n",
            "2025-04-10 18:35:12,512 rank_005_alphafold2_ptm_model_2_seed_000 pLDDT=56.9 pTM=0.0527\n",
            "2025-04-10 18:35:13,516 Query 474/8000: sequence_2474 (length 20)\n"
          ]
        },
        {
          "output_type": "stream",
          "name": "stderr",
          "text": [
            "SUBMIT:   0%|          | 0/150 [elapsed: 00:00 remaining: ?]"
          ]
        },
        {
          "output_type": "stream",
          "name": "stdout",
          "text": [
            "2025-04-10 18:35:14,203 Sleeping for 8s. Reason: RATELIMIT\n"
          ]
        },
        {
          "output_type": "stream",
          "name": "stderr",
          "text": [
            "SUBMIT:   0%|          | 0/150 [elapsed: 00:09 remaining: ?]"
          ]
        },
        {
          "output_type": "stream",
          "name": "stdout",
          "text": [
            "2025-04-10 18:35:22,887 Sleeping for 9s. Reason: RATELIMIT\n"
          ]
        },
        {
          "output_type": "stream",
          "name": "stderr",
          "text": [
            "SUBMIT:   0%|          | 0/150 [elapsed: 00:19 remaining: ?]"
          ]
        },
        {
          "output_type": "stream",
          "name": "stdout",
          "text": [
            "2025-04-10 18:35:32,570 Sleeping for 9s. Reason: RATELIMIT\n"
          ]
        },
        {
          "output_type": "stream",
          "name": "stderr",
          "text": [
            "SUBMIT:   0%|          | 0/150 [elapsed: 00:28 remaining: ?]"
          ]
        },
        {
          "output_type": "stream",
          "name": "stdout",
          "text": [
            "2025-04-10 18:35:42,245 Sleeping for 10s. Reason: RATELIMIT\n"
          ]
        },
        {
          "output_type": "stream",
          "name": "stderr",
          "text": [
            "SUBMIT:   0%|          | 0/150 [elapsed: 00:39 remaining: ?]"
          ]
        },
        {
          "output_type": "stream",
          "name": "stdout",
          "text": [
            "2025-04-10 18:35:52,932 Sleeping for 9s. Reason: RATELIMIT\n"
          ]
        },
        {
          "output_type": "stream",
          "name": "stderr",
          "text": [
            "SUBMIT:   0%|          | 0/150 [elapsed: 00:49 remaining: ?]"
          ]
        },
        {
          "output_type": "stream",
          "name": "stdout",
          "text": [
            "2025-04-10 18:36:02,615 Sleeping for 10s. Reason: RATELIMIT\n"
          ]
        },
        {
          "output_type": "stream",
          "name": "stderr",
          "text": [
            "SUBMIT:   0%|          | 0/150 [elapsed: 00:59 remaining: ?]"
          ]
        },
        {
          "output_type": "stream",
          "name": "stdout",
          "text": [
            "2025-04-10 18:36:13,291 Sleeping for 10s. Reason: RATELIMIT\n"
          ]
        },
        {
          "output_type": "stream",
          "name": "stderr",
          "text": [
            "PENDING:   0%|          | 0/150 [elapsed: 01:10 remaining: ?]"
          ]
        },
        {
          "output_type": "stream",
          "name": "stdout",
          "text": [
            "2025-04-10 18:36:23,978 Sleeping for 8s. Reason: PENDING\n"
          ]
        },
        {
          "output_type": "stream",
          "name": "stderr",
          "text": [
            "COMPLETE: 100%|██████████| 150/150 [elapsed: 01:19 remaining: 00:00]\n"
          ]
        },
        {
          "output_type": "stream",
          "name": "stdout",
          "text": [
            "2025-04-10 18:36:35,601 alphafold2_ptm_model_1_seed_000 recycle=0 pLDDT=85.2 pTM=0.0897\n",
            "2025-04-10 18:36:36,141 alphafold2_ptm_model_1_seed_000 recycle=1 pLDDT=86.1 pTM=0.0955 tol=0.134\n",
            "2025-04-10 18:36:36,680 alphafold2_ptm_model_1_seed_000 recycle=2 pLDDT=88 pTM=0.0987 tol=0.0851\n",
            "2025-04-10 18:36:37,220 alphafold2_ptm_model_1_seed_000 recycle=3 pLDDT=88.7 pTM=0.102 tol=0.0382\n",
            "2025-04-10 18:36:37,221 alphafold2_ptm_model_1_seed_000 took 2.2s (3 recycles)\n",
            "2025-04-10 18:36:37,771 alphafold2_ptm_model_2_seed_000 recycle=0 pLDDT=80.9 pTM=0.0906\n",
            "2025-04-10 18:36:38,310 alphafold2_ptm_model_2_seed_000 recycle=1 pLDDT=80.8 pTM=0.0947 tol=0.128\n",
            "2025-04-10 18:36:38,849 alphafold2_ptm_model_2_seed_000 recycle=2 pLDDT=80.6 pTM=0.0936 tol=0.0717\n",
            "2025-04-10 18:36:39,390 alphafold2_ptm_model_2_seed_000 recycle=3 pLDDT=80.7 pTM=0.0949 tol=0.0647\n",
            "2025-04-10 18:36:39,390 alphafold2_ptm_model_2_seed_000 took 2.2s (3 recycles)\n",
            "2025-04-10 18:36:39,940 alphafold2_ptm_model_3_seed_000 recycle=0 pLDDT=81.9 pTM=0.0853\n",
            "2025-04-10 18:36:40,482 alphafold2_ptm_model_3_seed_000 recycle=1 pLDDT=83.6 pTM=0.0947 tol=0.285\n",
            "2025-04-10 18:36:41,024 alphafold2_ptm_model_3_seed_000 recycle=2 pLDDT=85.1 pTM=0.0948 tol=0.0737\n",
            "2025-04-10 18:36:41,566 alphafold2_ptm_model_3_seed_000 recycle=3 pLDDT=84.5 pTM=0.0963 tol=0.106\n",
            "2025-04-10 18:36:41,567 alphafold2_ptm_model_3_seed_000 took 2.2s (3 recycles)\n",
            "2025-04-10 18:36:42,132 alphafold2_ptm_model_4_seed_000 recycle=0 pLDDT=83.1 pTM=0.0859\n",
            "2025-04-10 18:36:42,673 alphafold2_ptm_model_4_seed_000 recycle=1 pLDDT=82.8 pTM=0.0911 tol=0.228\n",
            "2025-04-10 18:36:43,215 alphafold2_ptm_model_4_seed_000 recycle=2 pLDDT=85.1 pTM=0.0944 tol=0.0523\n",
            "2025-04-10 18:36:43,757 alphafold2_ptm_model_4_seed_000 recycle=3 pLDDT=86.3 pTM=0.0961 tol=0.0542\n",
            "2025-04-10 18:36:43,758 alphafold2_ptm_model_4_seed_000 took 2.2s (3 recycles)\n",
            "2025-04-10 18:36:44,309 alphafold2_ptm_model_5_seed_000 recycle=0 pLDDT=86.4 pTM=0.0953\n",
            "2025-04-10 18:36:44,851 alphafold2_ptm_model_5_seed_000 recycle=1 pLDDT=85.4 pTM=0.0972 tol=0.145\n",
            "2025-04-10 18:36:45,392 alphafold2_ptm_model_5_seed_000 recycle=2 pLDDT=87.4 pTM=0.1 tol=0.0793\n",
            "2025-04-10 18:36:45,934 alphafold2_ptm_model_5_seed_000 recycle=3 pLDDT=87.2 pTM=0.102 tol=0.0694\n",
            "2025-04-10 18:36:45,935 alphafold2_ptm_model_5_seed_000 took 2.2s (3 recycles)\n",
            "2025-04-10 18:36:45,944 reranking models by 'plddt' metric\n",
            "2025-04-10 18:36:45,944 rank_001_alphafold2_ptm_model_1_seed_000 pLDDT=88.7 pTM=0.102\n",
            "2025-04-10 18:36:45,946 rank_002_alphafold2_ptm_model_5_seed_000 pLDDT=87.2 pTM=0.102\n",
            "2025-04-10 18:36:45,949 rank_003_alphafold2_ptm_model_4_seed_000 pLDDT=86.3 pTM=0.0961\n",
            "2025-04-10 18:36:45,951 rank_004_alphafold2_ptm_model_3_seed_000 pLDDT=84.5 pTM=0.0963\n",
            "2025-04-10 18:36:45,953 rank_005_alphafold2_ptm_model_2_seed_000 pLDDT=80.7 pTM=0.0949\n",
            "2025-04-10 18:36:46,948 Query 475/8000: sequence_2475 (length 20)\n"
          ]
        },
        {
          "output_type": "stream",
          "name": "stderr",
          "text": [
            "SUBMIT:   0%|          | 0/150 [elapsed: 00:00 remaining: ?]"
          ]
        },
        {
          "output_type": "stream",
          "name": "stdout",
          "text": [
            "2025-04-10 18:36:47,645 Sleeping for 5s. Reason: RATELIMIT\n"
          ]
        },
        {
          "output_type": "stream",
          "name": "stderr",
          "text": [
            "SUBMIT:   0%|          | 0/150 [elapsed: 00:06 remaining: ?]"
          ]
        },
        {
          "output_type": "stream",
          "name": "stdout",
          "text": [
            "2025-04-10 18:36:53,329 Sleeping for 6s. Reason: RATELIMIT\n"
          ]
        },
        {
          "output_type": "stream",
          "name": "stderr",
          "text": [
            "SUBMIT:   0%|          | 0/150 [elapsed: 00:13 remaining: ?]"
          ]
        },
        {
          "output_type": "stream",
          "name": "stdout",
          "text": [
            "2025-04-10 18:37:00,014 Sleeping for 5s. Reason: RATELIMIT\n"
          ]
        },
        {
          "output_type": "stream",
          "name": "stderr",
          "text": [
            "SUBMIT:   0%|          | 0/150 [elapsed: 00:18 remaining: ?]"
          ]
        },
        {
          "output_type": "stream",
          "name": "stdout",
          "text": [
            "2025-04-10 18:37:05,691 Sleeping for 6s. Reason: RATELIMIT\n"
          ]
        },
        {
          "output_type": "stream",
          "name": "stderr",
          "text": [
            "SUBMIT:   0%|          | 0/150 [elapsed: 00:25 remaining: ?]"
          ]
        },
        {
          "output_type": "stream",
          "name": "stdout",
          "text": [
            "2025-04-10 18:37:12,375 Sleeping for 8s. Reason: RATELIMIT\n"
          ]
        },
        {
          "output_type": "stream",
          "name": "stderr",
          "text": [
            "SUBMIT:   0%|          | 0/150 [elapsed: 00:34 remaining: ?]"
          ]
        },
        {
          "output_type": "stream",
          "name": "stdout",
          "text": [
            "2025-04-10 18:37:21,054 Sleeping for 6s. Reason: RATELIMIT\n"
          ]
        },
        {
          "output_type": "stream",
          "name": "stderr",
          "text": [
            "SUBMIT:   0%|          | 0/150 [elapsed: 00:40 remaining: ?]"
          ]
        },
        {
          "output_type": "stream",
          "name": "stdout",
          "text": [
            "2025-04-10 18:37:27,734 Sleeping for 10s. Reason: RATELIMIT\n"
          ]
        },
        {
          "output_type": "stream",
          "name": "stderr",
          "text": [
            "SUBMIT:   0%|          | 0/150 [elapsed: 00:51 remaining: ?]"
          ]
        },
        {
          "output_type": "stream",
          "name": "stdout",
          "text": [
            "2025-04-10 18:37:38,417 Sleeping for 9s. Reason: RATELIMIT\n"
          ]
        },
        {
          "output_type": "stream",
          "name": "stderr",
          "text": [
            "SUBMIT:   0%|          | 0/150 [elapsed: 01:01 remaining: ?]"
          ]
        },
        {
          "output_type": "stream",
          "name": "stdout",
          "text": [
            "2025-04-10 18:37:48,095 Sleeping for 7s. Reason: RATELIMIT\n"
          ]
        },
        {
          "output_type": "stream",
          "name": "stderr",
          "text": [
            "SUBMIT:   0%|          | 0/150 [elapsed: 01:08 remaining: ?]"
          ]
        },
        {
          "output_type": "stream",
          "name": "stdout",
          "text": [
            "2025-04-10 18:37:55,773 Sleeping for 5s. Reason: RATELIMIT\n"
          ]
        },
        {
          "output_type": "stream",
          "name": "stderr",
          "text": [
            "PENDING:   0%|          | 0/150 [elapsed: 01:14 remaining: ?]"
          ]
        },
        {
          "output_type": "stream",
          "name": "stdout",
          "text": [
            "2025-04-10 18:38:01,469 Sleeping for 10s. Reason: PENDING\n"
          ]
        },
        {
          "output_type": "stream",
          "name": "stderr",
          "text": [
            "RUNNING:   7%|▋         | 10/150 [elapsed: 01:25 remaining: 19:52]"
          ]
        },
        {
          "output_type": "stream",
          "name": "stdout",
          "text": [
            "2025-04-10 18:38:12,144 Sleeping for 8s. Reason: RUNNING\n"
          ]
        },
        {
          "output_type": "stream",
          "name": "stderr",
          "text": [
            "COMPLETE: 100%|██████████| 150/150 [elapsed: 01:34 remaining: 00:00]\n"
          ]
        },
        {
          "output_type": "stream",
          "name": "stdout",
          "text": [
            "2025-04-10 18:38:23,770 alphafold2_ptm_model_1_seed_000 recycle=0 pLDDT=81.5 pTM=0.0836\n",
            "2025-04-10 18:38:24,310 alphafold2_ptm_model_1_seed_000 recycle=1 pLDDT=83.2 pTM=0.0886 tol=0.113\n",
            "2025-04-10 18:38:24,850 alphafold2_ptm_model_1_seed_000 recycle=2 pLDDT=80.9 pTM=0.0862 tol=0.0425\n",
            "2025-04-10 18:38:25,390 alphafold2_ptm_model_1_seed_000 recycle=3 pLDDT=83.3 pTM=0.0898 tol=0.0615\n",
            "2025-04-10 18:38:25,391 alphafold2_ptm_model_1_seed_000 took 2.2s (3 recycles)\n",
            "2025-04-10 18:38:25,941 alphafold2_ptm_model_2_seed_000 recycle=0 pLDDT=81.4 pTM=0.0924\n",
            "2025-04-10 18:38:26,480 alphafold2_ptm_model_2_seed_000 recycle=1 pLDDT=80.3 pTM=0.0897 tol=0.123\n",
            "2025-04-10 18:38:27,020 alphafold2_ptm_model_2_seed_000 recycle=2 pLDDT=75.2 pTM=0.0835 tol=0.0482\n",
            "2025-04-10 18:38:27,561 alphafold2_ptm_model_2_seed_000 recycle=3 pLDDT=78.2 pTM=0.0869 tol=0.0605\n",
            "2025-04-10 18:38:27,561 alphafold2_ptm_model_2_seed_000 took 2.2s (3 recycles)\n",
            "2025-04-10 18:38:28,111 alphafold2_ptm_model_3_seed_000 recycle=0 pLDDT=85.4 pTM=0.0908\n",
            "2025-04-10 18:38:28,651 alphafold2_ptm_model_3_seed_000 recycle=1 pLDDT=84.3 pTM=0.0877 tol=0.179\n",
            "2025-04-10 18:38:29,191 alphafold2_ptm_model_3_seed_000 recycle=2 pLDDT=80.1 pTM=0.0817 tol=0.145\n",
            "2025-04-10 18:38:29,732 alphafold2_ptm_model_3_seed_000 recycle=3 pLDDT=81.4 pTM=0.0833 tol=0.171\n",
            "2025-04-10 18:38:29,732 alphafold2_ptm_model_3_seed_000 took 2.2s (3 recycles)\n",
            "2025-04-10 18:38:30,294 alphafold2_ptm_model_4_seed_000 recycle=0 pLDDT=74.8 pTM=0.0778\n",
            "2025-04-10 18:38:30,835 alphafold2_ptm_model_4_seed_000 recycle=1 pLDDT=76.1 pTM=0.0802 tol=0.126\n",
            "2025-04-10 18:38:31,376 alphafold2_ptm_model_4_seed_000 recycle=2 pLDDT=74.8 pTM=0.0784 tol=0.199\n",
            "2025-04-10 18:38:31,918 alphafold2_ptm_model_4_seed_000 recycle=3 pLDDT=76.8 pTM=0.0802 tol=0.198\n",
            "2025-04-10 18:38:31,918 alphafold2_ptm_model_4_seed_000 took 2.2s (3 recycles)\n",
            "2025-04-10 18:38:32,469 alphafold2_ptm_model_5_seed_000 recycle=0 pLDDT=84.1 pTM=0.0941\n",
            "2025-04-10 18:38:33,010 alphafold2_ptm_model_5_seed_000 recycle=1 pLDDT=84.2 pTM=0.0937 tol=0.147\n",
            "2025-04-10 18:38:33,551 alphafold2_ptm_model_5_seed_000 recycle=2 pLDDT=81.7 pTM=0.0912 tol=0.0542\n",
            "2025-04-10 18:38:34,092 alphafold2_ptm_model_5_seed_000 recycle=3 pLDDT=84.6 pTM=0.095 tol=0.0508\n",
            "2025-04-10 18:38:34,093 alphafold2_ptm_model_5_seed_000 took 2.2s (3 recycles)\n",
            "2025-04-10 18:38:34,102 reranking models by 'plddt' metric\n",
            "2025-04-10 18:38:34,102 rank_001_alphafold2_ptm_model_5_seed_000 pLDDT=84.6 pTM=0.095\n",
            "2025-04-10 18:38:34,105 rank_002_alphafold2_ptm_model_1_seed_000 pLDDT=83.3 pTM=0.0898\n",
            "2025-04-10 18:38:34,107 rank_003_alphafold2_ptm_model_3_seed_000 pLDDT=81.4 pTM=0.0833\n",
            "2025-04-10 18:38:34,110 rank_004_alphafold2_ptm_model_2_seed_000 pLDDT=78.2 pTM=0.0869\n",
            "2025-04-10 18:38:34,112 rank_005_alphafold2_ptm_model_4_seed_000 pLDDT=76.8 pTM=0.0802\n",
            "2025-04-10 18:38:35,994 Query 476/8000: sequence_2476 (length 20)\n"
          ]
        },
        {
          "output_type": "stream",
          "name": "stderr",
          "text": [
            "SUBMIT:   0%|          | 0/150 [elapsed: 00:00 remaining: ?]"
          ]
        },
        {
          "output_type": "stream",
          "name": "stdout",
          "text": [
            "2025-04-10 18:38:36,677 Sleeping for 8s. Reason: RATELIMIT\n"
          ]
        },
        {
          "output_type": "stream",
          "name": "stderr",
          "text": [
            "SUBMIT:   0%|          | 0/150 [elapsed: 00:09 remaining: ?]"
          ]
        },
        {
          "output_type": "stream",
          "name": "stdout",
          "text": [
            "2025-04-10 18:38:45,365 Sleeping for 6s. Reason: RATELIMIT\n"
          ]
        },
        {
          "output_type": "stream",
          "name": "stderr",
          "text": [
            "SUBMIT:   0%|          | 0/150 [elapsed: 00:16 remaining: ?]"
          ]
        },
        {
          "output_type": "stream",
          "name": "stdout",
          "text": [
            "2025-04-10 18:38:52,036 Sleeping for 9s. Reason: RATELIMIT\n"
          ]
        },
        {
          "output_type": "stream",
          "name": "stderr",
          "text": [
            "SUBMIT:   0%|          | 0/150 [elapsed: 00:25 remaining: ?]"
          ]
        },
        {
          "output_type": "stream",
          "name": "stdout",
          "text": [
            "2025-04-10 18:39:01,720 Sleeping for 10s. Reason: RATELIMIT\n"
          ]
        },
        {
          "output_type": "stream",
          "name": "stderr",
          "text": [
            "SUBMIT:   0%|          | 0/150 [elapsed: 00:36 remaining: ?]"
          ]
        },
        {
          "output_type": "stream",
          "name": "stdout",
          "text": [
            "2025-04-10 18:39:12,396 Sleeping for 7s. Reason: RATELIMIT\n"
          ]
        },
        {
          "output_type": "stream",
          "name": "stderr",
          "text": [
            "SUBMIT:   0%|          | 0/150 [elapsed: 00:44 remaining: ?]"
          ]
        },
        {
          "output_type": "stream",
          "name": "stdout",
          "text": [
            "2025-04-10 18:39:20,073 Sleeping for 7s. Reason: RATELIMIT\n"
          ]
        },
        {
          "output_type": "stream",
          "name": "stderr",
          "text": [
            "SUBMIT:   0%|          | 0/150 [elapsed: 00:51 remaining: ?]"
          ]
        },
        {
          "output_type": "stream",
          "name": "stdout",
          "text": [
            "2025-04-10 18:39:27,757 Sleeping for 9s. Reason: RATELIMIT\n"
          ]
        },
        {
          "output_type": "stream",
          "name": "stderr",
          "text": [
            "SUBMIT:   0%|          | 0/150 [elapsed: 01:01 remaining: ?]"
          ]
        },
        {
          "output_type": "stream",
          "name": "stdout",
          "text": [
            "2025-04-10 18:39:37,445 Sleeping for 6s. Reason: RATELIMIT\n"
          ]
        },
        {
          "output_type": "stream",
          "name": "stderr",
          "text": [
            "PENDING:   0%|          | 0/150 [elapsed: 01:08 remaining: ?]"
          ]
        },
        {
          "output_type": "stream",
          "name": "stdout",
          "text": [
            "2025-04-10 18:39:44,133 Sleeping for 10s. Reason: PENDING\n"
          ]
        },
        {
          "output_type": "stream",
          "name": "stderr",
          "text": [
            "PENDING:   0%|          | 0/150 [elapsed: 01:18 remaining: ?]"
          ]
        },
        {
          "output_type": "stream",
          "name": "stdout",
          "text": [
            "2025-04-10 18:39:54,820 Sleeping for 10s. Reason: PENDING\n"
          ]
        },
        {
          "output_type": "stream",
          "name": "stderr",
          "text": [
            "PENDING:   0%|          | 0/150 [elapsed: 01:29 remaining: ?]"
          ]
        },
        {
          "output_type": "stream",
          "name": "stdout",
          "text": [
            "2025-04-10 18:40:05,497 Sleeping for 6s. Reason: PENDING\n"
          ]
        },
        {
          "output_type": "stream",
          "name": "stderr",
          "text": [
            "PENDING:   0%|          | 0/150 [elapsed: 01:36 remaining: ?]"
          ]
        },
        {
          "output_type": "stream",
          "name": "stdout",
          "text": [
            "2025-04-10 18:40:12,181 Sleeping for 9s. Reason: PENDING\n"
          ]
        },
        {
          "output_type": "stream",
          "name": "stderr",
          "text": [
            "PENDING:   0%|          | 0/150 [elapsed: 01:45 remaining: ?]"
          ]
        },
        {
          "output_type": "stream",
          "name": "stdout",
          "text": [
            "2025-04-10 18:40:21,859 Sleeping for 7s. Reason: PENDING\n"
          ]
        },
        {
          "output_type": "stream",
          "name": "stderr",
          "text": [
            "PENDING:   0%|          | 0/150 [elapsed: 01:53 remaining: ?]"
          ]
        },
        {
          "output_type": "stream",
          "name": "stdout",
          "text": [
            "2025-04-10 18:40:29,540 Sleeping for 5s. Reason: PENDING\n"
          ]
        },
        {
          "output_type": "stream",
          "name": "stderr",
          "text": [
            "PENDING:   0%|          | 0/150 [elapsed: 01:59 remaining: ?]"
          ]
        },
        {
          "output_type": "stream",
          "name": "stdout",
          "text": [
            "2025-04-10 18:40:35,219 Sleeping for 5s. Reason: PENDING\n"
          ]
        },
        {
          "output_type": "stream",
          "name": "stderr",
          "text": [
            "PENDING:   0%|          | 0/150 [elapsed: 02:04 remaining: ?]"
          ]
        },
        {
          "output_type": "stream",
          "name": "stdout",
          "text": [
            "2025-04-10 18:40:40,904 Sleeping for 9s. Reason: PENDING\n"
          ]
        },
        {
          "output_type": "stream",
          "name": "stderr",
          "text": [
            "PENDING:   0%|          | 0/150 [elapsed: 02:14 remaining: ?]"
          ]
        },
        {
          "output_type": "stream",
          "name": "stdout",
          "text": [
            "2025-04-10 18:40:50,590 Sleeping for 9s. Reason: PENDING\n"
          ]
        },
        {
          "output_type": "stream",
          "name": "stderr",
          "text": [
            "PENDING:   0%|          | 0/150 [elapsed: 02:24 remaining: ?]"
          ]
        },
        {
          "output_type": "stream",
          "name": "stdout",
          "text": [
            "2025-04-10 18:41:00,280 Sleeping for 6s. Reason: PENDING\n"
          ]
        },
        {
          "output_type": "stream",
          "name": "stderr",
          "text": [
            "RUNNING:   4%|▍         | 6/150 [elapsed: 02:30 remaining: 1:00:23]"
          ]
        },
        {
          "output_type": "stream",
          "name": "stdout",
          "text": [
            "2025-04-10 18:41:06,963 Sleeping for 10s. Reason: RUNNING\n"
          ]
        },
        {
          "output_type": "stream",
          "name": "stderr",
          "text": [
            "COMPLETE: 100%|██████████| 150/150 [elapsed: 02:42 remaining: 00:00]\n"
          ]
        },
        {
          "output_type": "stream",
          "name": "stdout",
          "text": [
            "2025-04-10 18:41:20,610 alphafold2_ptm_model_1_seed_000 recycle=0 pLDDT=61.7 pTM=0.0478\n",
            "2025-04-10 18:41:21,151 alphafold2_ptm_model_1_seed_000 recycle=1 pLDDT=66.4 pTM=0.0493 tol=0.923\n",
            "2025-04-10 18:41:21,690 alphafold2_ptm_model_1_seed_000 recycle=2 pLDDT=68.2 pTM=0.0493 tol=0.375\n",
            "2025-04-10 18:41:22,230 alphafold2_ptm_model_1_seed_000 recycle=3 pLDDT=66.9 pTM=0.0493 tol=0.509\n",
            "2025-04-10 18:41:22,231 alphafold2_ptm_model_1_seed_000 took 2.2s (3 recycles)\n",
            "2025-04-10 18:41:22,781 alphafold2_ptm_model_2_seed_000 recycle=0 pLDDT=64.1 pTM=0.0467\n",
            "2025-04-10 18:41:23,321 alphafold2_ptm_model_2_seed_000 recycle=1 pLDDT=65.2 pTM=0.0487 tol=0.518\n",
            "2025-04-10 18:41:23,861 alphafold2_ptm_model_2_seed_000 recycle=2 pLDDT=65.6 pTM=0.0488 tol=0.738\n",
            "2025-04-10 18:41:24,401 alphafold2_ptm_model_2_seed_000 recycle=3 pLDDT=65.9 pTM=0.0486 tol=0.64\n",
            "2025-04-10 18:41:24,401 alphafold2_ptm_model_2_seed_000 took 2.2s (3 recycles)\n",
            "2025-04-10 18:41:24,951 alphafold2_ptm_model_3_seed_000 recycle=0 pLDDT=60.5 pTM=0.0456\n",
            "2025-04-10 18:41:25,490 alphafold2_ptm_model_3_seed_000 recycle=1 pLDDT=62.3 pTM=0.047 tol=0.582\n",
            "2025-04-10 18:41:26,030 alphafold2_ptm_model_3_seed_000 recycle=2 pLDDT=61.4 pTM=0.0466 tol=0.858\n",
            "2025-04-10 18:41:26,570 alphafold2_ptm_model_3_seed_000 recycle=3 pLDDT=63.1 pTM=0.0464 tol=0.599\n",
            "2025-04-10 18:41:26,570 alphafold2_ptm_model_3_seed_000 took 2.2s (3 recycles)\n",
            "2025-04-10 18:41:27,122 alphafold2_ptm_model_4_seed_000 recycle=0 pLDDT=64.4 pTM=0.0462\n",
            "2025-04-10 18:41:27,662 alphafold2_ptm_model_4_seed_000 recycle=1 pLDDT=64.4 pTM=0.0469 tol=0.486\n",
            "2025-04-10 18:41:28,203 alphafold2_ptm_model_4_seed_000 recycle=2 pLDDT=65.2 pTM=0.0471 tol=0.306\n",
            "2025-04-10 18:41:28,742 alphafold2_ptm_model_4_seed_000 recycle=3 pLDDT=64 pTM=0.0463 tol=0.417\n",
            "2025-04-10 18:41:28,743 alphafold2_ptm_model_4_seed_000 took 2.2s (3 recycles)\n",
            "2025-04-10 18:41:29,292 alphafold2_ptm_model_5_seed_000 recycle=0 pLDDT=57.1 pTM=0.0463\n",
            "2025-04-10 18:41:29,832 alphafold2_ptm_model_5_seed_000 recycle=1 pLDDT=59.1 pTM=0.0475 tol=0.969\n",
            "2025-04-10 18:41:30,373 alphafold2_ptm_model_5_seed_000 recycle=2 pLDDT=59.6 pTM=0.0476 tol=1.03\n",
            "2025-04-10 18:41:30,912 alphafold2_ptm_model_5_seed_000 recycle=3 pLDDT=58.2 pTM=0.0483 tol=0.589\n",
            "2025-04-10 18:41:30,913 alphafold2_ptm_model_5_seed_000 took 2.2s (3 recycles)\n",
            "2025-04-10 18:41:30,922 reranking models by 'plddt' metric\n",
            "2025-04-10 18:41:30,923 rank_001_alphafold2_ptm_model_1_seed_000 pLDDT=66.9 pTM=0.0493\n",
            "2025-04-10 18:41:30,925 rank_002_alphafold2_ptm_model_2_seed_000 pLDDT=65.9 pTM=0.0486\n",
            "2025-04-10 18:41:30,927 rank_003_alphafold2_ptm_model_4_seed_000 pLDDT=64 pTM=0.0463\n",
            "2025-04-10 18:41:30,930 rank_004_alphafold2_ptm_model_3_seed_000 pLDDT=63.1 pTM=0.0464\n",
            "2025-04-10 18:41:30,932 rank_005_alphafold2_ptm_model_5_seed_000 pLDDT=58.2 pTM=0.0483\n",
            "2025-04-10 18:41:31,920 Query 477/8000: sequence_2477 (length 20)\n"
          ]
        },
        {
          "output_type": "stream",
          "name": "stderr",
          "text": [
            "PENDING:   0%|          | 0/150 [elapsed: 00:00 remaining: ?]"
          ]
        },
        {
          "output_type": "stream",
          "name": "stdout",
          "text": [
            "2025-04-10 18:41:32,640 Sleeping for 5s. Reason: PENDING\n"
          ]
        },
        {
          "output_type": "stream",
          "name": "stderr",
          "text": [
            "RUNNING:   3%|▎         | 5/150 [elapsed: 00:06 remaining: 03:04]"
          ]
        },
        {
          "output_type": "stream",
          "name": "stdout",
          "text": [
            "2025-04-10 18:41:38,317 Sleeping for 10s. Reason: RUNNING\n"
          ]
        },
        {
          "output_type": "stream",
          "name": "stderr",
          "text": [
            "COMPLETE: 100%|██████████| 150/150 [elapsed: 00:17 remaining: 00:00]\n"
          ]
        },
        {
          "output_type": "stream",
          "name": "stdout",
          "text": [
            "2025-04-10 18:41:51,948 alphafold2_ptm_model_1_seed_000 recycle=0 pLDDT=59 pTM=0.0488\n",
            "2025-04-10 18:41:52,489 alphafold2_ptm_model_1_seed_000 recycle=1 pLDDT=57.3 pTM=0.0487 tol=2\n",
            "2025-04-10 18:41:53,029 alphafold2_ptm_model_1_seed_000 recycle=2 pLDDT=59.5 pTM=0.0497 tol=2.2\n",
            "2025-04-10 18:41:53,568 alphafold2_ptm_model_1_seed_000 recycle=3 pLDDT=60.6 pTM=0.0496 tol=0.751\n",
            "2025-04-10 18:41:53,569 alphafold2_ptm_model_1_seed_000 took 2.2s (3 recycles)\n",
            "2025-04-10 18:41:54,118 alphafold2_ptm_model_2_seed_000 recycle=0 pLDDT=57.6 pTM=0.0477\n",
            "2025-04-10 18:41:54,658 alphafold2_ptm_model_2_seed_000 recycle=1 pLDDT=57.6 pTM=0.0473 tol=1.22\n",
            "2025-04-10 18:41:55,197 alphafold2_ptm_model_2_seed_000 recycle=2 pLDDT=59.2 pTM=0.0483 tol=3.72\n",
            "2025-04-10 18:41:55,737 alphafold2_ptm_model_2_seed_000 recycle=3 pLDDT=61.8 pTM=0.0484 tol=0.654\n",
            "2025-04-10 18:41:55,737 alphafold2_ptm_model_2_seed_000 took 2.2s (3 recycles)\n",
            "2025-04-10 18:41:56,288 alphafold2_ptm_model_3_seed_000 recycle=0 pLDDT=62 pTM=0.0509\n",
            "2025-04-10 18:41:56,827 alphafold2_ptm_model_3_seed_000 recycle=1 pLDDT=64.1 pTM=0.0555 tol=1.2\n",
            "2025-04-10 18:41:57,367 alphafold2_ptm_model_3_seed_000 recycle=2 pLDDT=62.7 pTM=0.0532 tol=0.235\n",
            "2025-04-10 18:41:57,907 alphafold2_ptm_model_3_seed_000 recycle=3 pLDDT=62.8 pTM=0.0511 tol=0.163\n",
            "2025-04-10 18:41:57,908 alphafold2_ptm_model_3_seed_000 took 2.2s (3 recycles)\n",
            "2025-04-10 18:41:58,470 alphafold2_ptm_model_4_seed_000 recycle=0 pLDDT=57.7 pTM=0.0469\n",
            "2025-04-10 18:41:59,009 alphafold2_ptm_model_4_seed_000 recycle=1 pLDDT=57.5 pTM=0.0486 tol=1.34\n",
            "2025-04-10 18:41:59,550 alphafold2_ptm_model_4_seed_000 recycle=2 pLDDT=55.1 pTM=0.0474 tol=3.71\n",
            "2025-04-10 18:42:00,089 alphafold2_ptm_model_4_seed_000 recycle=3 pLDDT=55.5 pTM=0.0462 tol=4.79\n",
            "2025-04-10 18:42:00,090 alphafold2_ptm_model_4_seed_000 took 2.2s (3 recycles)\n",
            "2025-04-10 18:42:00,640 alphafold2_ptm_model_5_seed_000 recycle=0 pLDDT=52.4 pTM=0.0452\n",
            "2025-04-10 18:42:01,180 alphafold2_ptm_model_5_seed_000 recycle=1 pLDDT=53.6 pTM=0.045 tol=3.95\n",
            "2025-04-10 18:42:01,720 alphafold2_ptm_model_5_seed_000 recycle=2 pLDDT=52.6 pTM=0.0454 tol=0.503\n",
            "2025-04-10 18:42:02,259 alphafold2_ptm_model_5_seed_000 recycle=3 pLDDT=52.3 pTM=0.0457 tol=0.702\n",
            "2025-04-10 18:42:02,260 alphafold2_ptm_model_5_seed_000 took 2.2s (3 recycles)\n",
            "2025-04-10 18:42:02,271 reranking models by 'plddt' metric\n",
            "2025-04-10 18:42:02,272 rank_001_alphafold2_ptm_model_3_seed_000 pLDDT=62.8 pTM=0.0511\n",
            "2025-04-10 18:42:02,274 rank_002_alphafold2_ptm_model_2_seed_000 pLDDT=61.8 pTM=0.0484\n",
            "2025-04-10 18:42:02,277 rank_003_alphafold2_ptm_model_1_seed_000 pLDDT=60.6 pTM=0.0496\n",
            "2025-04-10 18:42:02,279 rank_004_alphafold2_ptm_model_4_seed_000 pLDDT=55.5 pTM=0.0462\n",
            "2025-04-10 18:42:02,282 rank_005_alphafold2_ptm_model_5_seed_000 pLDDT=52.3 pTM=0.0457\n",
            "2025-04-10 18:42:03,261 Query 478/8000: sequence_2478 (length 20)\n"
          ]
        },
        {
          "output_type": "stream",
          "name": "stderr",
          "text": [
            "SUBMIT:   0%|          | 0/150 [elapsed: 00:00 remaining: ?]"
          ]
        },
        {
          "output_type": "stream",
          "name": "stdout",
          "text": [
            "2025-04-10 18:42:03,940 Sleeping for 5s. Reason: RATELIMIT\n"
          ]
        },
        {
          "output_type": "stream",
          "name": "stderr",
          "text": [
            "SUBMIT:   0%|          | 0/150 [elapsed: 00:06 remaining: ?]"
          ]
        },
        {
          "output_type": "stream",
          "name": "stdout",
          "text": [
            "2025-04-10 18:42:09,621 Sleeping for 6s. Reason: RATELIMIT\n"
          ]
        },
        {
          "output_type": "stream",
          "name": "stderr",
          "text": [
            "SUBMIT:   0%|          | 0/150 [elapsed: 00:13 remaining: ?]"
          ]
        },
        {
          "output_type": "stream",
          "name": "stdout",
          "text": [
            "2025-04-10 18:42:16,310 Sleeping for 8s. Reason: RATELIMIT\n"
          ]
        },
        {
          "output_type": "stream",
          "name": "stderr",
          "text": [
            "SUBMIT:   0%|          | 0/150 [elapsed: 00:21 remaining: ?]"
          ]
        },
        {
          "output_type": "stream",
          "name": "stdout",
          "text": [
            "2025-04-10 18:42:24,995 Sleeping for 6s. Reason: RATELIMIT\n"
          ]
        },
        {
          "output_type": "stream",
          "name": "stderr",
          "text": [
            "SUBMIT:   0%|          | 0/150 [elapsed: 00:28 remaining: ?]"
          ]
        },
        {
          "output_type": "stream",
          "name": "stdout",
          "text": [
            "2025-04-10 18:42:31,675 Sleeping for 7s. Reason: RATELIMIT\n"
          ]
        },
        {
          "output_type": "stream",
          "name": "stderr",
          "text": [
            "SUBMIT:   0%|          | 0/150 [elapsed: 00:36 remaining: ?]"
          ]
        },
        {
          "output_type": "stream",
          "name": "stdout",
          "text": [
            "2025-04-10 18:42:39,352 Sleeping for 10s. Reason: RATELIMIT\n"
          ]
        },
        {
          "output_type": "stream",
          "name": "stderr",
          "text": [
            "SUBMIT:   0%|          | 0/150 [elapsed: 00:46 remaining: ?]"
          ]
        },
        {
          "output_type": "stream",
          "name": "stdout",
          "text": [
            "2025-04-10 18:42:50,037 Sleeping for 10s. Reason: RATELIMIT\n"
          ]
        },
        {
          "output_type": "stream",
          "name": "stderr",
          "text": [
            "PENDING:   0%|          | 0/150 [elapsed: 00:57 remaining: ?]"
          ]
        },
        {
          "output_type": "stream",
          "name": "stdout",
          "text": [
            "2025-04-10 18:43:00,727 Sleeping for 6s. Reason: PENDING\n"
          ]
        },
        {
          "output_type": "stream",
          "name": "stderr",
          "text": [
            "RUNNING:   4%|▍         | 6/150 [elapsed: 01:04 remaining: 25:39]"
          ]
        },
        {
          "output_type": "stream",
          "name": "stdout",
          "text": [
            "2025-04-10 18:43:07,411 Sleeping for 7s. Reason: RUNNING\n"
          ]
        },
        {
          "output_type": "stream",
          "name": "stderr",
          "text": [
            "COMPLETE: 100%|██████████| 150/150 [elapsed: 01:12 remaining: 00:00]\n"
          ]
        },
        {
          "output_type": "stream",
          "name": "stdout",
          "text": [
            "2025-04-10 18:43:18,033 alphafold2_ptm_model_1_seed_000 recycle=0 pLDDT=54.7 pTM=0.0503\n",
            "2025-04-10 18:43:18,574 alphafold2_ptm_model_1_seed_000 recycle=1 pLDDT=61.8 pTM=0.0571 tol=2.76\n",
            "2025-04-10 18:43:19,115 alphafold2_ptm_model_1_seed_000 recycle=2 pLDDT=64.4 pTM=0.0602 tol=0.745\n",
            "2025-04-10 18:43:19,655 alphafold2_ptm_model_1_seed_000 recycle=3 pLDDT=66.1 pTM=0.0638 tol=0.426\n",
            "2025-04-10 18:43:19,656 alphafold2_ptm_model_1_seed_000 took 2.2s (3 recycles)\n",
            "2025-04-10 18:43:20,207 alphafold2_ptm_model_2_seed_000 recycle=0 pLDDT=53.7 pTM=0.0495\n",
            "2025-04-10 18:43:20,747 alphafold2_ptm_model_2_seed_000 recycle=1 pLDDT=56.8 pTM=0.0536 tol=4.31\n",
            "2025-04-10 18:43:21,287 alphafold2_ptm_model_2_seed_000 recycle=2 pLDDT=59.2 pTM=0.0571 tol=0.803\n",
            "2025-04-10 18:43:21,826 alphafold2_ptm_model_2_seed_000 recycle=3 pLDDT=57.5 pTM=0.0541 tol=0.183\n",
            "2025-04-10 18:43:21,827 alphafold2_ptm_model_2_seed_000 took 2.2s (3 recycles)\n",
            "2025-04-10 18:43:22,379 alphafold2_ptm_model_3_seed_000 recycle=0 pLDDT=55.2 pTM=0.0468\n",
            "2025-04-10 18:43:22,919 alphafold2_ptm_model_3_seed_000 recycle=1 pLDDT=55.5 pTM=0.0465 tol=1.19\n",
            "2025-04-10 18:43:23,460 alphafold2_ptm_model_3_seed_000 recycle=2 pLDDT=57.3 pTM=0.0467 tol=0.522\n",
            "2025-04-10 18:43:23,999 alphafold2_ptm_model_3_seed_000 recycle=3 pLDDT=56.8 pTM=0.0462 tol=0.859\n",
            "2025-04-10 18:43:24,000 alphafold2_ptm_model_3_seed_000 took 2.2s (3 recycles)\n",
            "2025-04-10 18:43:24,551 alphafold2_ptm_model_4_seed_000 recycle=0 pLDDT=54 pTM=0.044\n",
            "2025-04-10 18:43:25,093 alphafold2_ptm_model_4_seed_000 recycle=1 pLDDT=54.7 pTM=0.0469 tol=2.91\n",
            "2025-04-10 18:43:25,633 alphafold2_ptm_model_4_seed_000 recycle=2 pLDDT=53.6 pTM=0.0461 tol=1.16\n",
            "2025-04-10 18:43:26,175 alphafold2_ptm_model_4_seed_000 recycle=3 pLDDT=53.4 pTM=0.0452 tol=1.95\n",
            "2025-04-10 18:43:26,176 alphafold2_ptm_model_4_seed_000 took 2.2s (3 recycles)\n",
            "2025-04-10 18:43:26,729 alphafold2_ptm_model_5_seed_000 recycle=0 pLDDT=54.1 pTM=0.0467\n",
            "2025-04-10 18:43:27,271 alphafold2_ptm_model_5_seed_000 recycle=1 pLDDT=56 pTM=0.0505 tol=2.08\n",
            "2025-04-10 18:43:27,813 alphafold2_ptm_model_5_seed_000 recycle=2 pLDDT=58.5 pTM=0.0502 tol=0.894\n",
            "2025-04-10 18:43:28,355 alphafold2_ptm_model_5_seed_000 recycle=3 pLDDT=58.6 pTM=0.0493 tol=0.365\n",
            "2025-04-10 18:43:28,356 alphafold2_ptm_model_5_seed_000 took 2.2s (3 recycles)\n",
            "2025-04-10 18:43:28,366 reranking models by 'plddt' metric\n",
            "2025-04-10 18:43:28,367 rank_001_alphafold2_ptm_model_1_seed_000 pLDDT=66.1 pTM=0.0638\n",
            "2025-04-10 18:43:28,370 rank_002_alphafold2_ptm_model_5_seed_000 pLDDT=58.6 pTM=0.0493\n",
            "2025-04-10 18:43:28,373 rank_003_alphafold2_ptm_model_2_seed_000 pLDDT=57.5 pTM=0.0541\n",
            "2025-04-10 18:43:28,375 rank_004_alphafold2_ptm_model_3_seed_000 pLDDT=56.8 pTM=0.0462\n",
            "2025-04-10 18:43:28,378 rank_005_alphafold2_ptm_model_4_seed_000 pLDDT=53.4 pTM=0.0452\n",
            "2025-04-10 18:43:29,387 Query 479/8000: sequence_2479 (length 20)\n"
          ]
        },
        {
          "output_type": "stream",
          "name": "stderr",
          "text": [
            "SUBMIT:   0%|          | 0/150 [elapsed: 00:00 remaining: ?]"
          ]
        },
        {
          "output_type": "stream",
          "name": "stdout",
          "text": [
            "2025-04-10 18:43:30,067 Sleeping for 10s. Reason: RATELIMIT\n"
          ]
        },
        {
          "output_type": "stream",
          "name": "stderr",
          "text": [
            "SUBMIT:   0%|          | 0/150 [elapsed: 00:11 remaining: ?]"
          ]
        },
        {
          "output_type": "stream",
          "name": "stdout",
          "text": [
            "2025-04-10 18:43:40,749 Sleeping for 10s. Reason: RATELIMIT\n"
          ]
        },
        {
          "output_type": "stream",
          "name": "stderr",
          "text": [
            "SUBMIT:   0%|          | 0/150 [elapsed: 00:22 remaining: ?]"
          ]
        },
        {
          "output_type": "stream",
          "name": "stdout",
          "text": [
            "2025-04-10 18:43:51,429 Sleeping for 5s. Reason: RATELIMIT\n"
          ]
        },
        {
          "output_type": "stream",
          "name": "stderr",
          "text": [
            "SUBMIT:   0%|          | 0/150 [elapsed: 00:27 remaining: ?]"
          ]
        },
        {
          "output_type": "stream",
          "name": "stdout",
          "text": [
            "2025-04-10 18:43:57,113 Sleeping for 7s. Reason: RATELIMIT\n"
          ]
        },
        {
          "output_type": "stream",
          "name": "stderr",
          "text": [
            "SUBMIT:   0%|          | 0/150 [elapsed: 00:35 remaining: ?]"
          ]
        },
        {
          "output_type": "stream",
          "name": "stdout",
          "text": [
            "2025-04-10 18:44:04,797 Sleeping for 8s. Reason: RATELIMIT\n"
          ]
        },
        {
          "output_type": "stream",
          "name": "stderr",
          "text": [
            "SUBMIT:   0%|          | 0/150 [elapsed: 00:44 remaining: ?]"
          ]
        },
        {
          "output_type": "stream",
          "name": "stdout",
          "text": [
            "2025-04-10 18:44:13,479 Sleeping for 8s. Reason: RATELIMIT\n"
          ]
        },
        {
          "output_type": "stream",
          "name": "stderr",
          "text": [
            "SUBMIT:   0%|          | 0/150 [elapsed: 00:52 remaining: ?]"
          ]
        },
        {
          "output_type": "stream",
          "name": "stdout",
          "text": [
            "2025-04-10 18:44:22,158 Sleeping for 6s. Reason: RATELIMIT\n"
          ]
        },
        {
          "output_type": "stream",
          "name": "stderr",
          "text": [
            "SUBMIT:   0%|          | 0/150 [elapsed: 00:59 remaining: ?]"
          ]
        },
        {
          "output_type": "stream",
          "name": "stdout",
          "text": [
            "2025-04-10 18:44:28,840 Sleeping for 9s. Reason: RATELIMIT\n"
          ]
        },
        {
          "output_type": "stream",
          "name": "stderr",
          "text": [
            "SUBMIT:   0%|          | 0/150 [elapsed: 01:09 remaining: ?]"
          ]
        },
        {
          "output_type": "stream",
          "name": "stdout",
          "text": [
            "2025-04-10 18:44:38,514 Sleeping for 10s. Reason: RATELIMIT\n"
          ]
        },
        {
          "output_type": "stream",
          "name": "stderr",
          "text": [
            "PENDING:   0%|          | 0/150 [elapsed: 01:19 remaining: ?]"
          ]
        },
        {
          "output_type": "stream",
          "name": "stdout",
          "text": [
            "2025-04-10 18:44:49,208 Sleeping for 9s. Reason: PENDING\n"
          ]
        },
        {
          "output_type": "stream",
          "name": "stderr",
          "text": [
            "RUNNING:   6%|▌         | 9/150 [elapsed: 01:29 remaining: 23:22]"
          ]
        },
        {
          "output_type": "stream",
          "name": "stdout",
          "text": [
            "2025-04-10 18:44:58,882 Sleeping for 7s. Reason: RUNNING\n"
          ]
        },
        {
          "output_type": "stream",
          "name": "stderr",
          "text": [
            "COMPLETE: 100%|██████████| 150/150 [elapsed: 01:37 remaining: 00:00]\n"
          ]
        },
        {
          "output_type": "stream",
          "name": "stdout",
          "text": [
            "2025-04-10 18:45:09,511 alphafold2_ptm_model_1_seed_000 recycle=0 pLDDT=53.2 pTM=0.0468\n",
            "2025-04-10 18:45:10,051 alphafold2_ptm_model_1_seed_000 recycle=1 pLDDT=55.2 pTM=0.0461 tol=4.89\n",
            "2025-04-10 18:45:10,590 alphafold2_ptm_model_1_seed_000 recycle=2 pLDDT=57 pTM=0.0474 tol=3.7\n",
            "2025-04-10 18:45:11,130 alphafold2_ptm_model_1_seed_000 recycle=3 pLDDT=57.8 pTM=0.0471 tol=1.68\n",
            "2025-04-10 18:45:11,130 alphafold2_ptm_model_1_seed_000 took 2.2s (3 recycles)\n",
            "2025-04-10 18:45:11,682 alphafold2_ptm_model_2_seed_000 recycle=0 pLDDT=54 pTM=0.0481\n",
            "2025-04-10 18:45:12,221 alphafold2_ptm_model_2_seed_000 recycle=1 pLDDT=52.7 pTM=0.0444 tol=7.84\n",
            "2025-04-10 18:45:12,761 alphafold2_ptm_model_2_seed_000 recycle=2 pLDDT=53.8 pTM=0.0446 tol=1.75\n",
            "2025-04-10 18:45:13,301 alphafold2_ptm_model_2_seed_000 recycle=3 pLDDT=56.3 pTM=0.0448 tol=0.221\n",
            "2025-04-10 18:45:13,302 alphafold2_ptm_model_2_seed_000 took 2.2s (3 recycles)\n",
            "2025-04-10 18:45:13,861 alphafold2_ptm_model_3_seed_000 recycle=0 pLDDT=57.6 pTM=0.0503\n",
            "2025-04-10 18:45:14,401 alphafold2_ptm_model_3_seed_000 recycle=1 pLDDT=56.4 pTM=0.0485 tol=0.732\n",
            "2025-04-10 18:45:14,942 alphafold2_ptm_model_3_seed_000 recycle=2 pLDDT=53.9 pTM=0.0455 tol=1.55\n",
            "2025-04-10 18:45:15,483 alphafold2_ptm_model_3_seed_000 recycle=3 pLDDT=53.5 pTM=0.0451 tol=1.77\n",
            "2025-04-10 18:45:15,483 alphafold2_ptm_model_3_seed_000 took 2.2s (3 recycles)\n",
            "2025-04-10 18:45:16,033 alphafold2_ptm_model_4_seed_000 recycle=0 pLDDT=57.1 pTM=0.0477\n",
            "2025-04-10 18:45:16,575 alphafold2_ptm_model_4_seed_000 recycle=1 pLDDT=51.7 pTM=0.0446 tol=1.15\n",
            "2025-04-10 18:45:17,117 alphafold2_ptm_model_4_seed_000 recycle=2 pLDDT=52.2 pTM=0.0439 tol=0.962\n",
            "2025-04-10 18:45:17,659 alphafold2_ptm_model_4_seed_000 recycle=3 pLDDT=52.3 pTM=0.0433 tol=0.683\n",
            "2025-04-10 18:45:17,660 alphafold2_ptm_model_4_seed_000 took 2.2s (3 recycles)\n",
            "2025-04-10 18:45:18,211 alphafold2_ptm_model_5_seed_000 recycle=0 pLDDT=50.8 pTM=0.0448\n",
            "2025-04-10 18:45:18,752 alphafold2_ptm_model_5_seed_000 recycle=1 pLDDT=46.1 pTM=0.0432 tol=4.9\n",
            "2025-04-10 18:45:19,294 alphafold2_ptm_model_5_seed_000 recycle=2 pLDDT=46.4 pTM=0.044 tol=1.82\n",
            "2025-04-10 18:45:19,835 alphafold2_ptm_model_5_seed_000 recycle=3 pLDDT=47 pTM=0.0438 tol=1.22\n",
            "2025-04-10 18:45:19,836 alphafold2_ptm_model_5_seed_000 took 2.2s (3 recycles)\n",
            "2025-04-10 18:45:19,845 reranking models by 'plddt' metric\n",
            "2025-04-10 18:45:19,845 rank_001_alphafold2_ptm_model_1_seed_000 pLDDT=57.8 pTM=0.0471\n",
            "2025-04-10 18:45:19,848 rank_002_alphafold2_ptm_model_2_seed_000 pLDDT=56.3 pTM=0.0448\n",
            "2025-04-10 18:45:19,850 rank_003_alphafold2_ptm_model_3_seed_000 pLDDT=53.5 pTM=0.0451\n",
            "2025-04-10 18:45:19,853 rank_004_alphafold2_ptm_model_4_seed_000 pLDDT=52.3 pTM=0.0433\n",
            "2025-04-10 18:45:19,855 rank_005_alphafold2_ptm_model_5_seed_000 pLDDT=47 pTM=0.0438\n",
            "2025-04-10 18:45:20,834 Query 480/8000: sequence_2480 (length 20)\n"
          ]
        },
        {
          "output_type": "stream",
          "name": "stderr",
          "text": [
            "SUBMIT:   0%|          | 0/150 [elapsed: 00:00 remaining: ?]"
          ]
        },
        {
          "output_type": "stream",
          "name": "stdout",
          "text": [
            "2025-04-10 18:45:21,530 Sleeping for 8s. Reason: RATELIMIT\n"
          ]
        },
        {
          "output_type": "stream",
          "name": "stderr",
          "text": [
            "SUBMIT:   0%|          | 0/150 [elapsed: 00:09 remaining: ?]"
          ]
        },
        {
          "output_type": "stream",
          "name": "stdout",
          "text": [
            "2025-04-10 18:45:30,208 Sleeping for 9s. Reason: RATELIMIT\n"
          ]
        },
        {
          "output_type": "stream",
          "name": "stderr",
          "text": [
            "SUBMIT:   0%|          | 0/150 [elapsed: 00:19 remaining: ?]"
          ]
        },
        {
          "output_type": "stream",
          "name": "stdout",
          "text": [
            "2025-04-10 18:45:39,887 Sleeping for 7s. Reason: RATELIMIT\n"
          ]
        },
        {
          "output_type": "stream",
          "name": "stderr",
          "text": [
            "SUBMIT:   0%|          | 0/150 [elapsed: 00:26 remaining: ?]"
          ]
        },
        {
          "output_type": "stream",
          "name": "stdout",
          "text": [
            "2025-04-10 18:45:47,566 Sleeping for 10s. Reason: RATELIMIT\n"
          ]
        },
        {
          "output_type": "stream",
          "name": "stderr",
          "text": [
            "SUBMIT:   0%|          | 0/150 [elapsed: 00:37 remaining: ?]"
          ]
        },
        {
          "output_type": "stream",
          "name": "stdout",
          "text": [
            "2025-04-10 18:45:58,245 Sleeping for 10s. Reason: RATELIMIT\n"
          ]
        },
        {
          "output_type": "stream",
          "name": "stderr",
          "text": [
            "SUBMIT:   0%|          | 0/150 [elapsed: 00:48 remaining: ?]"
          ]
        },
        {
          "output_type": "stream",
          "name": "stdout",
          "text": [
            "2025-04-10 18:46:08,922 Sleeping for 9s. Reason: RATELIMIT\n"
          ]
        },
        {
          "output_type": "stream",
          "name": "stderr",
          "text": [
            "SUBMIT:   0%|          | 0/150 [elapsed: 00:57 remaining: ?]"
          ]
        },
        {
          "output_type": "stream",
          "name": "stdout",
          "text": [
            "2025-04-10 18:46:18,609 Sleeping for 5s. Reason: RATELIMIT\n"
          ]
        },
        {
          "output_type": "stream",
          "name": "stderr",
          "text": [
            "PENDING:   0%|          | 0/150 [elapsed: 01:03 remaining: ?]"
          ]
        },
        {
          "output_type": "stream",
          "name": "stdout",
          "text": [
            "2025-04-10 18:46:24,302 Sleeping for 5s. Reason: PENDING\n"
          ]
        },
        {
          "output_type": "stream",
          "name": "stderr",
          "text": [
            "COMPLETE: 100%|██████████| 150/150 [elapsed: 01:09 remaining: 00:00]\n"
          ]
        },
        {
          "output_type": "stream",
          "name": "stdout",
          "text": [
            "2025-04-10 18:46:32,926 alphafold2_ptm_model_1_seed_000 recycle=0 pLDDT=73.6 pTM=0.0762\n",
            "2025-04-10 18:46:33,466 alphafold2_ptm_model_1_seed_000 recycle=1 pLDDT=76.1 pTM=0.0821 tol=0.212\n",
            "2025-04-10 18:46:34,005 alphafold2_ptm_model_1_seed_000 recycle=2 pLDDT=76.1 pTM=0.0834 tol=0.0871\n",
            "2025-04-10 18:46:34,545 alphafold2_ptm_model_1_seed_000 recycle=3 pLDDT=74.3 pTM=0.0826 tol=0.169\n",
            "2025-04-10 18:46:34,546 alphafold2_ptm_model_1_seed_000 took 2.2s (3 recycles)\n",
            "2025-04-10 18:46:35,097 alphafold2_ptm_model_2_seed_000 recycle=0 pLDDT=68.7 pTM=0.0769\n",
            "2025-04-10 18:46:35,637 alphafold2_ptm_model_2_seed_000 recycle=1 pLDDT=71.4 pTM=0.0817 tol=0.323\n",
            "2025-04-10 18:46:36,177 alphafold2_ptm_model_2_seed_000 recycle=2 pLDDT=70.9 pTM=0.0812 tol=0.0453\n",
            "2025-04-10 18:46:36,717 alphafold2_ptm_model_2_seed_000 recycle=3 pLDDT=70.2 pTM=0.0795 tol=0.064\n",
            "2025-04-10 18:46:36,717 alphafold2_ptm_model_2_seed_000 took 2.2s (3 recycles)\n",
            "2025-04-10 18:46:37,267 alphafold2_ptm_model_3_seed_000 recycle=0 pLDDT=73.1 pTM=0.0735\n",
            "2025-04-10 18:46:37,807 alphafold2_ptm_model_3_seed_000 recycle=1 pLDDT=75.4 pTM=0.0764 tol=0.184\n",
            "2025-04-10 18:46:38,346 alphafold2_ptm_model_3_seed_000 recycle=2 pLDDT=75.1 pTM=0.076 tol=0.184\n",
            "2025-04-10 18:46:38,886 alphafold2_ptm_model_3_seed_000 recycle=3 pLDDT=73.8 pTM=0.0757 tol=0.12\n",
            "2025-04-10 18:46:38,887 alphafold2_ptm_model_3_seed_000 took 2.2s (3 recycles)\n",
            "2025-04-10 18:46:39,448 alphafold2_ptm_model_4_seed_000 recycle=0 pLDDT=72 pTM=0.0743\n",
            "2025-04-10 18:46:39,988 alphafold2_ptm_model_4_seed_000 recycle=1 pLDDT=75.9 pTM=0.0801 tol=0.74\n",
            "2025-04-10 18:46:40,528 alphafold2_ptm_model_4_seed_000 recycle=2 pLDDT=76.6 pTM=0.0827 tol=0.237\n",
            "2025-04-10 18:46:41,069 alphafold2_ptm_model_4_seed_000 recycle=3 pLDDT=76.1 pTM=0.081 tol=0.0684\n",
            "2025-04-10 18:46:41,069 alphafold2_ptm_model_4_seed_000 took 2.2s (3 recycles)\n",
            "2025-04-10 18:46:41,619 alphafold2_ptm_model_5_seed_000 recycle=0 pLDDT=74.4 pTM=0.0826\n",
            "2025-04-10 18:46:42,160 alphafold2_ptm_model_5_seed_000 recycle=1 pLDDT=76.5 pTM=0.0875 tol=0.399\n",
            "2025-04-10 18:46:42,700 alphafold2_ptm_model_5_seed_000 recycle=2 pLDDT=76.8 pTM=0.088 tol=0.246\n",
            "2025-04-10 18:46:43,241 alphafold2_ptm_model_5_seed_000 recycle=3 pLDDT=74.7 pTM=0.0854 tol=0.085\n",
            "2025-04-10 18:46:43,241 alphafold2_ptm_model_5_seed_000 took 2.2s (3 recycles)\n",
            "2025-04-10 18:46:43,251 reranking models by 'plddt' metric\n",
            "2025-04-10 18:46:43,251 rank_001_alphafold2_ptm_model_4_seed_000 pLDDT=76.1 pTM=0.081\n",
            "2025-04-10 18:46:43,253 rank_002_alphafold2_ptm_model_5_seed_000 pLDDT=74.7 pTM=0.0854\n",
            "2025-04-10 18:46:43,256 rank_003_alphafold2_ptm_model_1_seed_000 pLDDT=74.3 pTM=0.0826\n",
            "2025-04-10 18:46:43,258 rank_004_alphafold2_ptm_model_3_seed_000 pLDDT=73.8 pTM=0.0757\n",
            "2025-04-10 18:46:43,260 rank_005_alphafold2_ptm_model_2_seed_000 pLDDT=70.2 pTM=0.0795\n",
            "2025-04-10 18:46:44,239 Query 481/8000: sequence_2481 (length 20)\n"
          ]
        },
        {
          "output_type": "stream",
          "name": "stderr",
          "text": [
            "SUBMIT:   0%|          | 0/150 [elapsed: 00:00 remaining: ?]"
          ]
        },
        {
          "output_type": "stream",
          "name": "stdout",
          "text": [
            "2025-04-10 18:46:44,929 Sleeping for 6s. Reason: RATELIMIT\n"
          ]
        },
        {
          "output_type": "stream",
          "name": "stderr",
          "text": [
            "SUBMIT:   0%|          | 0/150 [elapsed: 00:07 remaining: ?]"
          ]
        },
        {
          "output_type": "stream",
          "name": "stdout",
          "text": [
            "2025-04-10 18:46:51,618 Sleeping for 10s. Reason: RATELIMIT\n"
          ]
        },
        {
          "output_type": "stream",
          "name": "stderr",
          "text": [
            "SUBMIT:   0%|          | 0/150 [elapsed: 00:18 remaining: ?]"
          ]
        },
        {
          "output_type": "stream",
          "name": "stdout",
          "text": [
            "2025-04-10 18:47:02,298 Sleeping for 10s. Reason: RATELIMIT\n"
          ]
        },
        {
          "output_type": "stream",
          "name": "stderr",
          "text": [
            "SUBMIT:   0%|          | 0/150 [elapsed: 00:28 remaining: ?]"
          ]
        },
        {
          "output_type": "stream",
          "name": "stdout",
          "text": [
            "2025-04-10 18:47:12,987 Sleeping for 10s. Reason: RATELIMIT\n"
          ]
        },
        {
          "output_type": "stream",
          "name": "stderr",
          "text": [
            "SUBMIT:   0%|          | 0/150 [elapsed: 00:39 remaining: ?]"
          ]
        },
        {
          "output_type": "stream",
          "name": "stdout",
          "text": [
            "2025-04-10 18:47:23,668 Sleeping for 5s. Reason: RATELIMIT\n"
          ]
        },
        {
          "output_type": "stream",
          "name": "stderr",
          "text": [
            "SUBMIT:   0%|          | 0/150 [elapsed: 00:45 remaining: ?]"
          ]
        },
        {
          "output_type": "stream",
          "name": "stdout",
          "text": [
            "2025-04-10 18:47:29,348 Sleeping for 9s. Reason: RATELIMIT\n"
          ]
        },
        {
          "output_type": "stream",
          "name": "stderr",
          "text": [
            "SUBMIT:   0%|          | 0/150 [elapsed: 00:54 remaining: ?]"
          ]
        },
        {
          "output_type": "stream",
          "name": "stdout",
          "text": [
            "2025-04-10 18:47:39,027 Sleeping for 8s. Reason: RATELIMIT\n"
          ]
        },
        {
          "output_type": "stream",
          "name": "stderr",
          "text": [
            "SUBMIT:   0%|          | 0/150 [elapsed: 01:03 remaining: ?]"
          ]
        },
        {
          "output_type": "stream",
          "name": "stdout",
          "text": [
            "2025-04-10 18:47:47,708 Sleeping for 10s. Reason: RATELIMIT\n"
          ]
        },
        {
          "output_type": "stream",
          "name": "stderr",
          "text": [
            "SUBMIT:   0%|          | 0/150 [elapsed: 01:14 remaining: ?]"
          ]
        },
        {
          "output_type": "stream",
          "name": "stdout",
          "text": [
            "2025-04-10 18:47:58,398 Sleeping for 9s. Reason: RATELIMIT\n"
          ]
        },
        {
          "output_type": "stream",
          "name": "stderr",
          "text": [
            "PENDING:   0%|          | 0/150 [elapsed: 01:23 remaining: ?]"
          ]
        },
        {
          "output_type": "stream",
          "name": "stdout",
          "text": [
            "2025-04-10 18:48:08,080 Sleeping for 9s. Reason: PENDING\n"
          ]
        },
        {
          "output_type": "stream",
          "name": "stderr",
          "text": [
            "RUNNING:   6%|▌         | 9/150 [elapsed: 01:33 remaining: 24:25]"
          ]
        },
        {
          "output_type": "stream",
          "name": "stdout",
          "text": [
            "2025-04-10 18:48:17,762 Sleeping for 10s. Reason: RUNNING\n"
          ]
        },
        {
          "output_type": "stream",
          "name": "stderr",
          "text": [
            "COMPLETE: 100%|██████████| 150/150 [elapsed: 01:44 remaining: 00:00]\n"
          ]
        },
        {
          "output_type": "stream",
          "name": "stdout",
          "text": [
            "2025-04-10 18:48:31,368 alphafold2_ptm_model_1_seed_000 recycle=0 pLDDT=67.3 pTM=0.0569\n",
            "2025-04-10 18:48:31,907 alphafold2_ptm_model_1_seed_000 recycle=1 pLDDT=65.4 pTM=0.0558 tol=0.539\n",
            "2025-04-10 18:48:32,447 alphafold2_ptm_model_1_seed_000 recycle=2 pLDDT=64.3 pTM=0.0553 tol=0.478\n",
            "2025-04-10 18:48:32,987 alphafold2_ptm_model_1_seed_000 recycle=3 pLDDT=59.5 pTM=0.0532 tol=0.141\n",
            "2025-04-10 18:48:32,988 alphafold2_ptm_model_1_seed_000 took 2.2s (3 recycles)\n",
            "2025-04-10 18:48:33,537 alphafold2_ptm_model_2_seed_000 recycle=0 pLDDT=61.3 pTM=0.0499\n",
            "2025-04-10 18:48:34,077 alphafold2_ptm_model_2_seed_000 recycle=1 pLDDT=58.1 pTM=0.0479 tol=1.19\n",
            "2025-04-10 18:48:34,617 alphafold2_ptm_model_2_seed_000 recycle=2 pLDDT=57.7 pTM=0.0479 tol=1.56\n",
            "2025-04-10 18:48:35,157 alphafold2_ptm_model_2_seed_000 recycle=3 pLDDT=56.2 pTM=0.0471 tol=0.905\n",
            "2025-04-10 18:48:35,158 alphafold2_ptm_model_2_seed_000 took 2.2s (3 recycles)\n",
            "2025-04-10 18:48:35,709 alphafold2_ptm_model_3_seed_000 recycle=0 pLDDT=59.3 pTM=0.0459\n",
            "2025-04-10 18:48:36,252 alphafold2_ptm_model_3_seed_000 recycle=1 pLDDT=57.2 pTM=0.0451 tol=1.6\n",
            "2025-04-10 18:48:36,794 alphafold2_ptm_model_3_seed_000 recycle=2 pLDDT=55.2 pTM=0.046 tol=1.03\n",
            "2025-04-10 18:48:37,336 alphafold2_ptm_model_3_seed_000 recycle=3 pLDDT=56.3 pTM=0.0458 tol=0.905\n",
            "2025-04-10 18:48:37,336 alphafold2_ptm_model_3_seed_000 took 2.2s (3 recycles)\n",
            "2025-04-10 18:48:37,903 alphafold2_ptm_model_4_seed_000 recycle=0 pLDDT=74.4 pTM=0.0671\n",
            "2025-04-10 18:48:38,443 alphafold2_ptm_model_4_seed_000 recycle=1 pLDDT=71.4 pTM=0.0644 tol=0.193\n",
            "2025-04-10 18:48:38,983 alphafold2_ptm_model_4_seed_000 recycle=2 pLDDT=72.2 pTM=0.0674 tol=0.361\n",
            "2025-04-10 18:48:39,525 alphafold2_ptm_model_4_seed_000 recycle=3 pLDDT=71.9 pTM=0.0677 tol=0.0965\n",
            "2025-04-10 18:48:39,525 alphafold2_ptm_model_4_seed_000 took 2.2s (3 recycles)\n",
            "2025-04-10 18:48:40,075 alphafold2_ptm_model_5_seed_000 recycle=0 pLDDT=60.2 pTM=0.0489\n",
            "2025-04-10 18:48:40,616 alphafold2_ptm_model_5_seed_000 recycle=1 pLDDT=54.8 pTM=0.047 tol=0.521\n",
            "2025-04-10 18:48:41,157 alphafold2_ptm_model_5_seed_000 recycle=2 pLDDT=53.9 pTM=0.0462 tol=0.424\n",
            "2025-04-10 18:48:41,699 alphafold2_ptm_model_5_seed_000 recycle=3 pLDDT=53.6 pTM=0.0461 tol=0.404\n",
            "2025-04-10 18:48:41,699 alphafold2_ptm_model_5_seed_000 took 2.2s (3 recycles)\n",
            "2025-04-10 18:48:41,708 reranking models by 'plddt' metric\n",
            "2025-04-10 18:48:41,708 rank_001_alphafold2_ptm_model_4_seed_000 pLDDT=71.9 pTM=0.0677\n",
            "2025-04-10 18:48:41,711 rank_002_alphafold2_ptm_model_1_seed_000 pLDDT=59.5 pTM=0.0532\n",
            "2025-04-10 18:48:41,713 rank_003_alphafold2_ptm_model_3_seed_000 pLDDT=56.3 pTM=0.0458\n",
            "2025-04-10 18:48:41,715 rank_004_alphafold2_ptm_model_2_seed_000 pLDDT=56.2 pTM=0.0471\n",
            "2025-04-10 18:48:41,718 rank_005_alphafold2_ptm_model_5_seed_000 pLDDT=53.6 pTM=0.0461\n",
            "2025-04-10 18:48:42,696 Query 482/8000: sequence_2482 (length 20)\n"
          ]
        },
        {
          "output_type": "stream",
          "name": "stderr",
          "text": [
            "SUBMIT:   0%|          | 0/150 [elapsed: 00:00 remaining: ?]"
          ]
        },
        {
          "output_type": "stream",
          "name": "stdout",
          "text": [
            "2025-04-10 18:48:43,381 Sleeping for 10s. Reason: RATELIMIT\n"
          ]
        },
        {
          "output_type": "stream",
          "name": "stderr",
          "text": [
            "SUBMIT:   0%|          | 0/150 [elapsed: 00:11 remaining: ?]"
          ]
        },
        {
          "output_type": "stream",
          "name": "stdout",
          "text": [
            "2025-04-10 18:48:54,062 Sleeping for 10s. Reason: RATELIMIT\n"
          ]
        },
        {
          "output_type": "stream",
          "name": "stderr",
          "text": [
            "SUBMIT:   0%|          | 0/150 [elapsed: 00:22 remaining: ?]"
          ]
        },
        {
          "output_type": "stream",
          "name": "stdout",
          "text": [
            "2025-04-10 18:49:04,742 Sleeping for 7s. Reason: RATELIMIT\n"
          ]
        },
        {
          "output_type": "stream",
          "name": "stderr",
          "text": [
            "SUBMIT:   0%|          | 0/150 [elapsed: 00:29 remaining: ?]"
          ]
        },
        {
          "output_type": "stream",
          "name": "stdout",
          "text": [
            "2025-04-10 18:49:12,418 Sleeping for 6s. Reason: RATELIMIT\n"
          ]
        },
        {
          "output_type": "stream",
          "name": "stderr",
          "text": [
            "SUBMIT:   0%|          | 0/150 [elapsed: 00:36 remaining: ?]"
          ]
        },
        {
          "output_type": "stream",
          "name": "stdout",
          "text": [
            "2025-04-10 18:49:19,107 Sleeping for 9s. Reason: RATELIMIT\n"
          ]
        },
        {
          "output_type": "stream",
          "name": "stderr",
          "text": [
            "SUBMIT:   0%|          | 0/150 [elapsed: 00:46 remaining: ?]"
          ]
        },
        {
          "output_type": "stream",
          "name": "stdout",
          "text": [
            "2025-04-10 18:49:28,787 Sleeping for 10s. Reason: RATELIMIT\n"
          ]
        },
        {
          "output_type": "stream",
          "name": "stderr",
          "text": [
            "SUBMIT:   0%|          | 0/150 [elapsed: 00:56 remaining: ?]"
          ]
        },
        {
          "output_type": "stream",
          "name": "stdout",
          "text": [
            "2025-04-10 18:49:39,461 Sleeping for 5s. Reason: RATELIMIT\n"
          ]
        },
        {
          "output_type": "stream",
          "name": "stderr",
          "text": [
            "PENDING:   0%|          | 0/150 [elapsed: 01:02 remaining: ?]"
          ]
        },
        {
          "output_type": "stream",
          "name": "stdout",
          "text": [
            "2025-04-10 18:49:45,149 Sleeping for 6s. Reason: PENDING\n"
          ]
        },
        {
          "output_type": "stream",
          "name": "stderr",
          "text": [
            "RUNNING:   4%|▍         | 6/150 [elapsed: 01:09 remaining: 27:39]"
          ]
        },
        {
          "output_type": "stream",
          "name": "stdout",
          "text": [
            "2025-04-10 18:49:51,831 Sleeping for 10s. Reason: RUNNING\n"
          ]
        },
        {
          "output_type": "stream",
          "name": "stderr",
          "text": [
            "COMPLETE: 100%|██████████| 150/150 [elapsed: 01:20 remaining: 00:00]\n"
          ]
        },
        {
          "output_type": "stream",
          "name": "stdout",
          "text": [
            "2025-04-10 18:50:05,477 alphafold2_ptm_model_1_seed_000 recycle=0 pLDDT=63.1 pTM=0.0518\n",
            "2025-04-10 18:50:06,016 alphafold2_ptm_model_1_seed_000 recycle=1 pLDDT=65.8 pTM=0.0525 tol=1.32\n",
            "2025-04-10 18:50:06,556 alphafold2_ptm_model_1_seed_000 recycle=2 pLDDT=66.8 pTM=0.0511 tol=1.11\n",
            "2025-04-10 18:50:07,095 alphafold2_ptm_model_1_seed_000 recycle=3 pLDDT=66.5 pTM=0.0507 tol=0.601\n",
            "2025-04-10 18:50:07,096 alphafold2_ptm_model_1_seed_000 took 2.2s (3 recycles)\n",
            "2025-04-10 18:50:07,645 alphafold2_ptm_model_2_seed_000 recycle=0 pLDDT=62.2 pTM=0.0493\n",
            "2025-04-10 18:50:08,185 alphafold2_ptm_model_2_seed_000 recycle=1 pLDDT=63.7 pTM=0.0474 tol=1.42\n",
            "2025-04-10 18:50:08,725 alphafold2_ptm_model_2_seed_000 recycle=2 pLDDT=64.8 pTM=0.0468 tol=1.19\n",
            "2025-04-10 18:50:09,265 alphafold2_ptm_model_2_seed_000 recycle=3 pLDDT=65.2 pTM=0.0456 tol=0.493\n",
            "2025-04-10 18:50:09,266 alphafold2_ptm_model_2_seed_000 took 2.2s (3 recycles)\n",
            "2025-04-10 18:50:09,816 alphafold2_ptm_model_3_seed_000 recycle=0 pLDDT=62.2 pTM=0.0439\n",
            "2025-04-10 18:50:10,356 alphafold2_ptm_model_3_seed_000 recycle=1 pLDDT=64.1 pTM=0.0457 tol=0.85\n",
            "2025-04-10 18:50:10,895 alphafold2_ptm_model_3_seed_000 recycle=2 pLDDT=64 pTM=0.0455 tol=0.311\n",
            "2025-04-10 18:50:11,436 alphafold2_ptm_model_3_seed_000 recycle=3 pLDDT=64.6 pTM=0.0462 tol=0.608\n",
            "2025-04-10 18:50:11,436 alphafold2_ptm_model_3_seed_000 took 2.2s (3 recycles)\n",
            "2025-04-10 18:50:11,998 alphafold2_ptm_model_4_seed_000 recycle=0 pLDDT=60.9 pTM=0.0447\n",
            "2025-04-10 18:50:12,538 alphafold2_ptm_model_4_seed_000 recycle=1 pLDDT=61.8 pTM=0.0441 tol=0.516\n",
            "2025-04-10 18:50:13,078 alphafold2_ptm_model_4_seed_000 recycle=2 pLDDT=61.3 pTM=0.0447 tol=0.387\n",
            "2025-04-10 18:50:13,618 alphafold2_ptm_model_4_seed_000 recycle=3 pLDDT=59.9 pTM=0.0443 tol=0.923\n",
            "2025-04-10 18:50:13,618 alphafold2_ptm_model_4_seed_000 took 2.2s (3 recycles)\n",
            "2025-04-10 18:50:14,170 alphafold2_ptm_model_5_seed_000 recycle=0 pLDDT=63.8 pTM=0.0482\n",
            "2025-04-10 18:50:14,711 alphafold2_ptm_model_5_seed_000 recycle=1 pLDDT=63.4 pTM=0.049 tol=0.672\n",
            "2025-04-10 18:50:15,251 alphafold2_ptm_model_5_seed_000 recycle=2 pLDDT=63.3 pTM=0.0474 tol=0.548\n",
            "2025-04-10 18:50:15,792 alphafold2_ptm_model_5_seed_000 recycle=3 pLDDT=64.4 pTM=0.0467 tol=0.83\n",
            "2025-04-10 18:50:15,792 alphafold2_ptm_model_5_seed_000 took 2.2s (3 recycles)\n",
            "2025-04-10 18:50:15,802 reranking models by 'plddt' metric\n",
            "2025-04-10 18:50:15,802 rank_001_alphafold2_ptm_model_1_seed_000 pLDDT=66.5 pTM=0.0507\n",
            "2025-04-10 18:50:15,805 rank_002_alphafold2_ptm_model_2_seed_000 pLDDT=65.2 pTM=0.0456\n",
            "2025-04-10 18:50:15,807 rank_003_alphafold2_ptm_model_3_seed_000 pLDDT=64.6 pTM=0.0462\n",
            "2025-04-10 18:50:15,810 rank_004_alphafold2_ptm_model_5_seed_000 pLDDT=64.4 pTM=0.0467\n",
            "2025-04-10 18:50:15,812 rank_005_alphafold2_ptm_model_4_seed_000 pLDDT=59.9 pTM=0.0443\n",
            "2025-04-10 18:50:16,796 Query 483/8000: sequence_2483 (length 20)\n"
          ]
        },
        {
          "output_type": "stream",
          "name": "stderr",
          "text": [
            "SUBMIT:   0%|          | 0/150 [elapsed: 00:00 remaining: ?]"
          ]
        },
        {
          "output_type": "stream",
          "name": "stdout",
          "text": [
            "2025-04-10 18:50:17,476 Sleeping for 9s. Reason: RATELIMIT\n"
          ]
        },
        {
          "output_type": "stream",
          "name": "stderr",
          "text": [
            "SUBMIT:   0%|          | 0/150 [elapsed: 00:10 remaining: ?]"
          ]
        },
        {
          "output_type": "stream",
          "name": "stdout",
          "text": [
            "2025-04-10 18:50:27,148 Sleeping for 7s. Reason: RATELIMIT\n"
          ]
        },
        {
          "output_type": "stream",
          "name": "stderr",
          "text": [
            "SUBMIT:   0%|          | 0/150 [elapsed: 00:18 remaining: ?]"
          ]
        },
        {
          "output_type": "stream",
          "name": "stdout",
          "text": [
            "2025-04-10 18:50:34,830 Sleeping for 8s. Reason: RATELIMIT\n"
          ]
        },
        {
          "output_type": "stream",
          "name": "stderr",
          "text": [
            "SUBMIT:   0%|          | 0/150 [elapsed: 00:26 remaining: ?]"
          ]
        },
        {
          "output_type": "stream",
          "name": "stdout",
          "text": [
            "2025-04-10 18:50:43,507 Sleeping for 10s. Reason: RATELIMIT\n"
          ]
        },
        {
          "output_type": "stream",
          "name": "stderr",
          "text": [
            "SUBMIT:   0%|          | 0/150 [elapsed: 00:37 remaining: ?]"
          ]
        },
        {
          "output_type": "stream",
          "name": "stdout",
          "text": [
            "2025-04-10 18:50:54,180 Sleeping for 7s. Reason: RATELIMIT\n"
          ]
        },
        {
          "output_type": "stream",
          "name": "stderr",
          "text": [
            "SUBMIT:   0%|          | 0/150 [elapsed: 00:45 remaining: ?]"
          ]
        },
        {
          "output_type": "stream",
          "name": "stdout",
          "text": [
            "2025-04-10 18:51:01,861 Sleeping for 7s. Reason: RATELIMIT\n"
          ]
        },
        {
          "output_type": "stream",
          "name": "stderr",
          "text": [
            "SUBMIT:   0%|          | 0/150 [elapsed: 00:52 remaining: ?]"
          ]
        },
        {
          "output_type": "stream",
          "name": "stdout",
          "text": [
            "2025-04-10 18:51:09,545 Sleeping for 6s. Reason: RATELIMIT\n"
          ]
        },
        {
          "output_type": "stream",
          "name": "stderr",
          "text": [
            "SUBMIT:   0%|          | 0/150 [elapsed: 00:59 remaining: ?]"
          ]
        },
        {
          "output_type": "stream",
          "name": "stdout",
          "text": [
            "2025-04-10 18:51:16,228 Sleeping for 6s. Reason: RATELIMIT\n"
          ]
        },
        {
          "output_type": "stream",
          "name": "stderr",
          "text": [
            "PENDING:   0%|          | 0/150 [elapsed: 01:06 remaining: ?]"
          ]
        },
        {
          "output_type": "stream",
          "name": "stdout",
          "text": [
            "2025-04-10 18:51:22,922 Sleeping for 8s. Reason: PENDING\n"
          ]
        },
        {
          "output_type": "stream",
          "name": "stderr",
          "text": [
            "RUNNING:   5%|▌         | 8/150 [elapsed: 01:14 remaining: 22:07]"
          ]
        },
        {
          "output_type": "stream",
          "name": "stdout",
          "text": [
            "2025-04-10 18:51:31,598 Sleeping for 6s. Reason: RUNNING\n"
          ]
        },
        {
          "output_type": "stream",
          "name": "stderr",
          "text": [
            "RUNNING:   9%|▉         | 14/150 [elapsed: 01:21 remaining: 11:32]"
          ]
        },
        {
          "output_type": "stream",
          "name": "stdout",
          "text": [
            "2025-04-10 18:51:38,271 Sleeping for 8s. Reason: RUNNING\n"
          ]
        },
        {
          "output_type": "stream",
          "name": "stderr",
          "text": [
            "COMPLETE: 100%|██████████| 150/150 [elapsed: 01:30 remaining: 00:00]\n"
          ]
        },
        {
          "output_type": "stream",
          "name": "stdout",
          "text": [
            "2025-04-10 18:51:49,892 alphafold2_ptm_model_1_seed_000 recycle=0 pLDDT=65.1 pTM=0.0501\n",
            "2025-04-10 18:51:50,432 alphafold2_ptm_model_1_seed_000 recycle=1 pLDDT=62.9 pTM=0.0495 tol=0.542\n",
            "2025-04-10 18:51:50,972 alphafold2_ptm_model_1_seed_000 recycle=2 pLDDT=64.9 pTM=0.0504 tol=0.821\n",
            "2025-04-10 18:51:51,511 alphafold2_ptm_model_1_seed_000 recycle=3 pLDDT=66.6 pTM=0.0508 tol=0.385\n",
            "2025-04-10 18:51:51,512 alphafold2_ptm_model_1_seed_000 took 2.2s (3 recycles)\n",
            "2025-04-10 18:51:52,062 alphafold2_ptm_model_2_seed_000 recycle=0 pLDDT=64.2 pTM=0.0484\n",
            "2025-04-10 18:51:52,602 alphafold2_ptm_model_2_seed_000 recycle=1 pLDDT=64.7 pTM=0.0488 tol=0.705\n",
            "2025-04-10 18:51:53,141 alphafold2_ptm_model_2_seed_000 recycle=2 pLDDT=66.2 pTM=0.05 tol=0.472\n",
            "2025-04-10 18:51:53,681 alphafold2_ptm_model_2_seed_000 recycle=3 pLDDT=68.8 pTM=0.0511 tol=1.24\n",
            "2025-04-10 18:51:53,682 alphafold2_ptm_model_2_seed_000 took 2.2s (3 recycles)\n",
            "2025-04-10 18:51:54,233 alphafold2_ptm_model_3_seed_000 recycle=0 pLDDT=67 pTM=0.0505\n",
            "2025-04-10 18:51:54,773 alphafold2_ptm_model_3_seed_000 recycle=1 pLDDT=68.2 pTM=0.05 tol=0.547\n",
            "2025-04-10 18:51:55,314 alphafold2_ptm_model_3_seed_000 recycle=2 pLDDT=68.8 pTM=0.0512 tol=0.333\n",
            "2025-04-10 18:51:55,855 alphafold2_ptm_model_3_seed_000 recycle=3 pLDDT=69.8 pTM=0.0514 tol=0.38\n",
            "2025-04-10 18:51:55,855 alphafold2_ptm_model_3_seed_000 took 2.2s (3 recycles)\n",
            "2025-04-10 18:51:56,418 alphafold2_ptm_model_4_seed_000 recycle=0 pLDDT=67.9 pTM=0.0493\n",
            "2025-04-10 18:51:56,960 alphafold2_ptm_model_4_seed_000 recycle=1 pLDDT=68.6 pTM=0.0504 tol=0.414\n",
            "2025-04-10 18:51:57,501 alphafold2_ptm_model_4_seed_000 recycle=2 pLDDT=69.4 pTM=0.0515 tol=0.364\n",
            "2025-04-10 18:51:58,043 alphafold2_ptm_model_4_seed_000 recycle=3 pLDDT=69.8 pTM=0.0519 tol=0.332\n",
            "2025-04-10 18:51:58,043 alphafold2_ptm_model_4_seed_000 took 2.2s (3 recycles)\n",
            "2025-04-10 18:51:58,596 alphafold2_ptm_model_5_seed_000 recycle=0 pLDDT=63.9 pTM=0.049\n",
            "2025-04-10 18:51:59,137 alphafold2_ptm_model_5_seed_000 recycle=1 pLDDT=64.2 pTM=0.0511 tol=0.447\n",
            "2025-04-10 18:51:59,680 alphafold2_ptm_model_5_seed_000 recycle=2 pLDDT=65.3 pTM=0.0526 tol=0.886\n",
            "2025-04-10 18:52:00,222 alphafold2_ptm_model_5_seed_000 recycle=3 pLDDT=67.5 pTM=0.0539 tol=0.422\n",
            "2025-04-10 18:52:00,222 alphafold2_ptm_model_5_seed_000 took 2.2s (3 recycles)\n",
            "2025-04-10 18:52:00,234 reranking models by 'plddt' metric\n",
            "2025-04-10 18:52:00,234 rank_001_alphafold2_ptm_model_4_seed_000 pLDDT=69.8 pTM=0.0519\n",
            "2025-04-10 18:52:00,236 rank_002_alphafold2_ptm_model_3_seed_000 pLDDT=69.8 pTM=0.0514\n",
            "2025-04-10 18:52:00,239 rank_003_alphafold2_ptm_model_2_seed_000 pLDDT=68.8 pTM=0.0511\n",
            "2025-04-10 18:52:00,241 rank_004_alphafold2_ptm_model_5_seed_000 pLDDT=67.5 pTM=0.0539\n",
            "2025-04-10 18:52:00,244 rank_005_alphafold2_ptm_model_1_seed_000 pLDDT=66.6 pTM=0.0508\n",
            "2025-04-10 18:52:01,228 Query 484/8000: sequence_2484 (length 20)\n"
          ]
        },
        {
          "output_type": "stream",
          "name": "stderr",
          "text": [
            "SUBMIT:   0%|          | 0/150 [elapsed: 00:00 remaining: ?]"
          ]
        },
        {
          "output_type": "stream",
          "name": "stdout",
          "text": [
            "2025-04-10 18:52:01,913 Sleeping for 9s. Reason: RATELIMIT\n"
          ]
        },
        {
          "output_type": "stream",
          "name": "stderr",
          "text": [
            "SUBMIT:   0%|          | 0/150 [elapsed: 00:10 remaining: ?]"
          ]
        },
        {
          "output_type": "stream",
          "name": "stdout",
          "text": [
            "2025-04-10 18:52:11,596 Sleeping for 8s. Reason: RATELIMIT\n"
          ]
        },
        {
          "output_type": "stream",
          "name": "stderr",
          "text": [
            "SUBMIT:   0%|          | 0/150 [elapsed: 00:19 remaining: ?]"
          ]
        },
        {
          "output_type": "stream",
          "name": "stdout",
          "text": [
            "2025-04-10 18:52:20,278 Sleeping for 5s. Reason: RATELIMIT\n"
          ]
        },
        {
          "output_type": "stream",
          "name": "stderr",
          "text": [
            "SUBMIT:   0%|          | 0/150 [elapsed: 00:24 remaining: ?]"
          ]
        },
        {
          "output_type": "stream",
          "name": "stdout",
          "text": [
            "2025-04-10 18:52:25,956 Sleeping for 8s. Reason: RATELIMIT\n"
          ]
        },
        {
          "output_type": "stream",
          "name": "stderr",
          "text": [
            "SUBMIT:   0%|          | 0/150 [elapsed: 00:33 remaining: ?]"
          ]
        },
        {
          "output_type": "stream",
          "name": "stdout",
          "text": [
            "2025-04-10 18:52:34,637 Sleeping for 8s. Reason: RATELIMIT\n"
          ]
        },
        {
          "output_type": "stream",
          "name": "stderr",
          "text": [
            "SUBMIT:   0%|          | 0/150 [elapsed: 00:42 remaining: ?]"
          ]
        },
        {
          "output_type": "stream",
          "name": "stdout",
          "text": [
            "2025-04-10 18:52:43,316 Sleeping for 6s. Reason: RATELIMIT\n"
          ]
        },
        {
          "output_type": "stream",
          "name": "stderr",
          "text": [
            "SUBMIT:   0%|          | 0/150 [elapsed: 00:48 remaining: ?]"
          ]
        },
        {
          "output_type": "stream",
          "name": "stdout",
          "text": [
            "2025-04-10 18:52:50,005 Sleeping for 7s. Reason: RATELIMIT\n"
          ]
        },
        {
          "output_type": "stream",
          "name": "stderr",
          "text": [
            "SUBMIT:   0%|          | 0/150 [elapsed: 00:56 remaining: ?]"
          ]
        },
        {
          "output_type": "stream",
          "name": "stdout",
          "text": [
            "2025-04-10 18:52:57,685 Sleeping for 9s. Reason: RATELIMIT\n"
          ]
        },
        {
          "output_type": "stream",
          "name": "stderr",
          "text": [
            "PENDING:   0%|          | 0/150 [elapsed: 01:06 remaining: ?]"
          ]
        },
        {
          "output_type": "stream",
          "name": "stdout",
          "text": [
            "2025-04-10 18:53:07,367 Sleeping for 8s. Reason: PENDING\n"
          ]
        },
        {
          "output_type": "stream",
          "name": "stderr",
          "text": [
            "COMPLETE: 100%|██████████| 150/150 [elapsed: 01:15 remaining: 00:00]\n"
          ]
        },
        {
          "output_type": "stream",
          "name": "stdout",
          "text": [
            "2025-04-10 18:53:18,994 alphafold2_ptm_model_1_seed_000 recycle=0 pLDDT=54.7 pTM=0.05\n",
            "2025-04-10 18:53:19,535 alphafold2_ptm_model_1_seed_000 recycle=1 pLDDT=68.6 pTM=0.0671 tol=2.44\n",
            "2025-04-10 18:53:20,075 alphafold2_ptm_model_1_seed_000 recycle=2 pLDDT=82.1 pTM=0.0793 tol=0.347\n",
            "2025-04-10 18:53:20,615 alphafold2_ptm_model_1_seed_000 recycle=3 pLDDT=84.9 pTM=0.0837 tol=0.0894\n",
            "2025-04-10 18:53:20,615 alphafold2_ptm_model_1_seed_000 took 2.2s (3 recycles)\n",
            "2025-04-10 18:53:21,166 alphafold2_ptm_model_2_seed_000 recycle=0 pLDDT=53.7 pTM=0.0463\n",
            "2025-04-10 18:53:21,706 alphafold2_ptm_model_2_seed_000 recycle=1 pLDDT=53.9 pTM=0.0498 tol=2.53\n",
            "2025-04-10 18:53:22,245 alphafold2_ptm_model_2_seed_000 recycle=2 pLDDT=73.9 pTM=0.0747 tol=1.44\n",
            "2025-04-10 18:53:22,785 alphafold2_ptm_model_2_seed_000 recycle=3 pLDDT=81.8 pTM=0.0819 tol=0.201\n",
            "2025-04-10 18:53:22,786 alphafold2_ptm_model_2_seed_000 took 2.2s (3 recycles)\n",
            "2025-04-10 18:53:23,337 alphafold2_ptm_model_3_seed_000 recycle=0 pLDDT=54.9 pTM=0.0479\n",
            "2025-04-10 18:53:23,876 alphafold2_ptm_model_3_seed_000 recycle=1 pLDDT=65.7 pTM=0.0576 tol=2.17\n",
            "2025-04-10 18:53:24,416 alphafold2_ptm_model_3_seed_000 recycle=2 pLDDT=70.9 pTM=0.0659 tol=0.743\n",
            "2025-04-10 18:53:24,955 alphafold2_ptm_model_3_seed_000 recycle=3 pLDDT=74.9 pTM=0.0698 tol=0.35\n",
            "2025-04-10 18:53:24,956 alphafold2_ptm_model_3_seed_000 took 2.2s (3 recycles)\n",
            "2025-04-10 18:53:25,516 alphafold2_ptm_model_4_seed_000 recycle=0 pLDDT=55.2 pTM=0.0468\n",
            "2025-04-10 18:53:26,057 alphafold2_ptm_model_4_seed_000 recycle=1 pLDDT=58.5 pTM=0.0517 tol=1.9\n",
            "2025-04-10 18:53:26,599 alphafold2_ptm_model_4_seed_000 recycle=2 pLDDT=73.1 pTM=0.0663 tol=0.71\n",
            "2025-04-10 18:53:27,140 alphafold2_ptm_model_4_seed_000 recycle=3 pLDDT=75.2 pTM=0.0702 tol=0.0953\n",
            "2025-04-10 18:53:27,141 alphafold2_ptm_model_4_seed_000 took 2.2s (3 recycles)\n",
            "2025-04-10 18:53:27,692 alphafold2_ptm_model_5_seed_000 recycle=0 pLDDT=54.3 pTM=0.047\n",
            "2025-04-10 18:53:28,233 alphafold2_ptm_model_5_seed_000 recycle=1 pLDDT=52.2 pTM=0.0455 tol=1.14\n",
            "2025-04-10 18:53:28,774 alphafold2_ptm_model_5_seed_000 recycle=2 pLDDT=56.1 pTM=0.0489 tol=2.4\n",
            "2025-04-10 18:53:29,317 alphafold2_ptm_model_5_seed_000 recycle=3 pLDDT=56.6 pTM=0.0525 tol=1.36\n",
            "2025-04-10 18:53:29,318 alphafold2_ptm_model_5_seed_000 took 2.2s (3 recycles)\n",
            "2025-04-10 18:53:29,326 reranking models by 'plddt' metric\n",
            "2025-04-10 18:53:29,326 rank_001_alphafold2_ptm_model_1_seed_000 pLDDT=84.9 pTM=0.0837\n",
            "2025-04-10 18:53:29,329 rank_002_alphafold2_ptm_model_2_seed_000 pLDDT=81.8 pTM=0.0819\n",
            "2025-04-10 18:53:29,331 rank_003_alphafold2_ptm_model_4_seed_000 pLDDT=75.2 pTM=0.0702\n",
            "2025-04-10 18:53:29,334 rank_004_alphafold2_ptm_model_3_seed_000 pLDDT=74.9 pTM=0.0698\n",
            "2025-04-10 18:53:29,336 rank_005_alphafold2_ptm_model_5_seed_000 pLDDT=56.6 pTM=0.0525\n",
            "2025-04-10 18:53:30,329 Query 485/8000: sequence_2485 (length 20)\n"
          ]
        },
        {
          "output_type": "stream",
          "name": "stderr",
          "text": [
            "SUBMIT:   0%|          | 0/150 [elapsed: 00:00 remaining: ?]"
          ]
        },
        {
          "output_type": "stream",
          "name": "stdout",
          "text": [
            "2025-04-10 18:53:31,015 Sleeping for 6s. Reason: RATELIMIT\n"
          ]
        },
        {
          "output_type": "stream",
          "name": "stderr",
          "text": [
            "SUBMIT:   0%|          | 0/150 [elapsed: 00:07 remaining: ?]"
          ]
        },
        {
          "output_type": "stream",
          "name": "stdout",
          "text": [
            "2025-04-10 18:53:37,698 Sleeping for 8s. Reason: RATELIMIT\n"
          ]
        },
        {
          "output_type": "stream",
          "name": "stderr",
          "text": [
            "SUBMIT:   0%|          | 0/150 [elapsed: 00:16 remaining: ?]"
          ]
        },
        {
          "output_type": "stream",
          "name": "stdout",
          "text": [
            "2025-04-10 18:53:46,378 Sleeping for 6s. Reason: RATELIMIT\n"
          ]
        },
        {
          "output_type": "stream",
          "name": "stderr",
          "text": [
            "SUBMIT:   0%|          | 0/150 [elapsed: 00:22 remaining: ?]"
          ]
        },
        {
          "output_type": "stream",
          "name": "stdout",
          "text": [
            "2025-04-10 18:53:53,052 Sleeping for 7s. Reason: RATELIMIT\n"
          ]
        },
        {
          "output_type": "stream",
          "name": "stderr",
          "text": [
            "SUBMIT:   0%|          | 0/150 [elapsed: 00:30 remaining: ?]"
          ]
        },
        {
          "output_type": "stream",
          "name": "stdout",
          "text": [
            "2025-04-10 18:54:00,733 Sleeping for 7s. Reason: RATELIMIT\n"
          ]
        },
        {
          "output_type": "stream",
          "name": "stderr",
          "text": [
            "SUBMIT:   0%|          | 0/150 [elapsed: 00:38 remaining: ?]"
          ]
        },
        {
          "output_type": "stream",
          "name": "stdout",
          "text": [
            "2025-04-10 18:54:08,417 Sleeping for 9s. Reason: RATELIMIT\n"
          ]
        },
        {
          "output_type": "stream",
          "name": "stderr",
          "text": [
            "SUBMIT:   0%|          | 0/150 [elapsed: 00:47 remaining: ?]"
          ]
        },
        {
          "output_type": "stream",
          "name": "stdout",
          "text": [
            "2025-04-10 18:54:18,094 Sleeping for 5s. Reason: RATELIMIT\n"
          ]
        },
        {
          "output_type": "stream",
          "name": "stderr",
          "text": [
            "SUBMIT:   0%|          | 0/150 [elapsed: 00:53 remaining: ?]"
          ]
        },
        {
          "output_type": "stream",
          "name": "stdout",
          "text": [
            "2025-04-10 18:54:23,775 Sleeping for 7s. Reason: RATELIMIT\n"
          ]
        },
        {
          "output_type": "stream",
          "name": "stderr",
          "text": [
            "SUBMIT:   0%|          | 0/150 [elapsed: 01:01 remaining: ?]"
          ]
        },
        {
          "output_type": "stream",
          "name": "stdout",
          "text": [
            "2025-04-10 18:54:31,453 Sleeping for 10s. Reason: RATELIMIT\n"
          ]
        },
        {
          "output_type": "stream",
          "name": "stderr",
          "text": [
            "PENDING:   0%|          | 0/150 [elapsed: 01:11 remaining: ?]"
          ]
        },
        {
          "output_type": "stream",
          "name": "stdout",
          "text": [
            "2025-04-10 18:54:42,147 Sleeping for 6s. Reason: PENDING\n"
          ]
        },
        {
          "output_type": "stream",
          "name": "stderr",
          "text": [
            "COMPLETE: 100%|██████████| 150/150 [elapsed: 01:19 remaining: 00:00]\n"
          ]
        },
        {
          "output_type": "stream",
          "name": "stdout",
          "text": [
            "2025-04-10 18:54:51,746 alphafold2_ptm_model_1_seed_000 recycle=0 pLDDT=64.7 pTM=0.0489\n",
            "2025-04-10 18:54:52,285 alphafold2_ptm_model_1_seed_000 recycle=1 pLDDT=69.6 pTM=0.0512 tol=0.69\n",
            "2025-04-10 18:54:52,826 alphafold2_ptm_model_1_seed_000 recycle=2 pLDDT=67.7 pTM=0.0515 tol=0.108\n",
            "2025-04-10 18:54:53,365 alphafold2_ptm_model_1_seed_000 recycle=3 pLDDT=69.7 pTM=0.0531 tol=0.455\n",
            "2025-04-10 18:54:53,366 alphafold2_ptm_model_1_seed_000 took 2.2s (3 recycles)\n",
            "2025-04-10 18:54:53,916 alphafold2_ptm_model_2_seed_000 recycle=0 pLDDT=63.2 pTM=0.048\n",
            "2025-04-10 18:54:54,455 alphafold2_ptm_model_2_seed_000 recycle=1 pLDDT=67.9 pTM=0.0492 tol=0.948\n",
            "2025-04-10 18:54:54,996 alphafold2_ptm_model_2_seed_000 recycle=2 pLDDT=66.8 pTM=0.0493 tol=0.201\n",
            "2025-04-10 18:54:55,535 alphafold2_ptm_model_2_seed_000 recycle=3 pLDDT=66.9 pTM=0.0503 tol=0.445\n",
            "2025-04-10 18:54:55,536 alphafold2_ptm_model_2_seed_000 took 2.2s (3 recycles)\n",
            "2025-04-10 18:54:56,087 alphafold2_ptm_model_3_seed_000 recycle=0 pLDDT=68.1 pTM=0.0468\n",
            "2025-04-10 18:54:56,628 alphafold2_ptm_model_3_seed_000 recycle=1 pLDDT=66.8 pTM=0.0495 tol=0.891\n",
            "2025-04-10 18:54:57,169 alphafold2_ptm_model_3_seed_000 recycle=2 pLDDT=66.4 pTM=0.0493 tol=0.401\n",
            "2025-04-10 18:54:57,711 alphafold2_ptm_model_3_seed_000 recycle=3 pLDDT=66.7 pTM=0.049 tol=0.211\n",
            "2025-04-10 18:54:57,711 alphafold2_ptm_model_3_seed_000 took 2.2s (3 recycles)\n",
            "2025-04-10 18:54:58,277 alphafold2_ptm_model_4_seed_000 recycle=0 pLDDT=67.6 pTM=0.0478\n",
            "2025-04-10 18:54:58,819 alphafold2_ptm_model_4_seed_000 recycle=1 pLDDT=64.2 pTM=0.0488 tol=0.944\n",
            "2025-04-10 18:54:59,360 alphafold2_ptm_model_4_seed_000 recycle=2 pLDDT=63.8 pTM=0.049 tol=0.535\n",
            "2025-04-10 18:54:59,902 alphafold2_ptm_model_4_seed_000 recycle=3 pLDDT=63.2 pTM=0.0485 tol=0.762\n",
            "2025-04-10 18:54:59,903 alphafold2_ptm_model_4_seed_000 took 2.2s (3 recycles)\n",
            "2025-04-10 18:55:00,455 alphafold2_ptm_model_5_seed_000 recycle=0 pLDDT=59.8 pTM=0.046\n",
            "2025-04-10 18:55:00,997 alphafold2_ptm_model_5_seed_000 recycle=1 pLDDT=62.9 pTM=0.0476 tol=0.753\n",
            "2025-04-10 18:55:01,539 alphafold2_ptm_model_5_seed_000 recycle=2 pLDDT=63 pTM=0.0484 tol=0.282\n",
            "2025-04-10 18:55:02,081 alphafold2_ptm_model_5_seed_000 recycle=3 pLDDT=63.8 pTM=0.0487 tol=0.238\n",
            "2025-04-10 18:55:02,081 alphafold2_ptm_model_5_seed_000 took 2.2s (3 recycles)\n",
            "2025-04-10 18:55:02,091 reranking models by 'plddt' metric\n",
            "2025-04-10 18:55:02,091 rank_001_alphafold2_ptm_model_1_seed_000 pLDDT=69.7 pTM=0.0531\n",
            "2025-04-10 18:55:02,094 rank_002_alphafold2_ptm_model_2_seed_000 pLDDT=66.9 pTM=0.0503\n",
            "2025-04-10 18:55:02,097 rank_003_alphafold2_ptm_model_3_seed_000 pLDDT=66.7 pTM=0.049\n",
            "2025-04-10 18:55:02,099 rank_004_alphafold2_ptm_model_5_seed_000 pLDDT=63.8 pTM=0.0487\n",
            "2025-04-10 18:55:02,102 rank_005_alphafold2_ptm_model_4_seed_000 pLDDT=63.2 pTM=0.0485\n",
            "2025-04-10 18:55:04,117 Query 486/8000: sequence_2486 (length 20)\n"
          ]
        },
        {
          "output_type": "stream",
          "name": "stderr",
          "text": [
            "SUBMIT:   0%|          | 0/150 [elapsed: 00:00 remaining: ?]"
          ]
        },
        {
          "output_type": "stream",
          "name": "stdout",
          "text": [
            "2025-04-10 18:55:04,806 Sleeping for 9s. Reason: RATELIMIT\n"
          ]
        },
        {
          "output_type": "stream",
          "name": "stderr",
          "text": [
            "SUBMIT:   0%|          | 0/150 [elapsed: 00:10 remaining: ?]"
          ]
        },
        {
          "output_type": "stream",
          "name": "stdout",
          "text": [
            "2025-04-10 18:55:14,480 Sleeping for 5s. Reason: RATELIMIT\n"
          ]
        },
        {
          "output_type": "stream",
          "name": "stderr",
          "text": [
            "SUBMIT:   0%|          | 0/150 [elapsed: 00:16 remaining: ?]"
          ]
        },
        {
          "output_type": "stream",
          "name": "stdout",
          "text": [
            "2025-04-10 18:55:20,150 Sleeping for 9s. Reason: RATELIMIT\n"
          ]
        },
        {
          "output_type": "stream",
          "name": "stderr",
          "text": [
            "SUBMIT:   0%|          | 0/150 [elapsed: 00:25 remaining: ?]"
          ]
        },
        {
          "output_type": "stream",
          "name": "stdout",
          "text": [
            "2025-04-10 18:55:29,827 Sleeping for 9s. Reason: RATELIMIT\n"
          ]
        },
        {
          "output_type": "stream",
          "name": "stderr",
          "text": [
            "SUBMIT:   0%|          | 0/150 [elapsed: 00:35 remaining: ?]"
          ]
        },
        {
          "output_type": "stream",
          "name": "stdout",
          "text": [
            "2025-04-10 18:55:39,498 Sleeping for 9s. Reason: RATELIMIT\n"
          ]
        },
        {
          "output_type": "stream",
          "name": "stderr",
          "text": [
            "SUBMIT:   0%|          | 0/150 [elapsed: 00:45 remaining: ?]"
          ]
        },
        {
          "output_type": "stream",
          "name": "stdout",
          "text": [
            "2025-04-10 18:55:49,178 Sleeping for 9s. Reason: RATELIMIT\n"
          ]
        },
        {
          "output_type": "stream",
          "name": "stderr",
          "text": [
            "SUBMIT:   0%|          | 0/150 [elapsed: 00:54 remaining: ?]"
          ]
        },
        {
          "output_type": "stream",
          "name": "stdout",
          "text": [
            "2025-04-10 18:55:58,858 Sleeping for 9s. Reason: RATELIMIT\n"
          ]
        },
        {
          "output_type": "stream",
          "name": "stderr",
          "text": [
            "SUBMIT:   0%|          | 0/150 [elapsed: 01:04 remaining: ?]"
          ]
        },
        {
          "output_type": "stream",
          "name": "stdout",
          "text": [
            "2025-04-10 18:56:08,543 Sleeping for 6s. Reason: RATELIMIT\n"
          ]
        },
        {
          "output_type": "stream",
          "name": "stderr",
          "text": [
            "SUBMIT:   0%|          | 0/150 [elapsed: 01:11 remaining: ?]"
          ]
        },
        {
          "output_type": "stream",
          "name": "stdout",
          "text": [
            "2025-04-10 18:56:15,225 Sleeping for 6s. Reason: RATELIMIT\n"
          ]
        },
        {
          "output_type": "stream",
          "name": "stderr",
          "text": [
            "PENDING:   0%|          | 0/150 [elapsed: 01:17 remaining: ?]"
          ]
        },
        {
          "output_type": "stream",
          "name": "stdout",
          "text": [
            "2025-04-10 18:56:21,927 Sleeping for 10s. Reason: PENDING\n"
          ]
        },
        {
          "output_type": "stream",
          "name": "stderr",
          "text": [
            "RUNNING:   7%|▋         | 10/150 [elapsed: 01:28 remaining: 20:38]"
          ]
        },
        {
          "output_type": "stream",
          "name": "stdout",
          "text": [
            "2025-04-10 18:56:32,612 Sleeping for 9s. Reason: RUNNING\n"
          ]
        },
        {
          "output_type": "stream",
          "name": "stderr",
          "text": [
            "COMPLETE: 100%|██████████| 150/150 [elapsed: 01:38 remaining: 00:00]\n"
          ]
        },
        {
          "output_type": "stream",
          "name": "stdout",
          "text": [
            "2025-04-10 18:56:45,270 alphafold2_ptm_model_1_seed_000 recycle=0 pLDDT=64.8 pTM=0.0662\n",
            "2025-04-10 18:56:45,811 alphafold2_ptm_model_1_seed_000 recycle=1 pLDDT=65.1 pTM=0.0701 tol=0.282\n",
            "2025-04-10 18:56:46,351 alphafold2_ptm_model_1_seed_000 recycle=2 pLDDT=65.2 pTM=0.0696 tol=0.105\n",
            "2025-04-10 18:56:46,892 alphafold2_ptm_model_1_seed_000 recycle=3 pLDDT=65.3 pTM=0.0694 tol=0.116\n",
            "2025-04-10 18:56:46,893 alphafold2_ptm_model_1_seed_000 took 2.2s (3 recycles)\n",
            "2025-04-10 18:56:47,444 alphafold2_ptm_model_2_seed_000 recycle=0 pLDDT=62.9 pTM=0.0686\n",
            "2025-04-10 18:56:47,984 alphafold2_ptm_model_2_seed_000 recycle=1 pLDDT=58.1 pTM=0.0606 tol=0.262\n",
            "2025-04-10 18:56:48,524 alphafold2_ptm_model_2_seed_000 recycle=2 pLDDT=58.5 pTM=0.0604 tol=0.211\n",
            "2025-04-10 18:56:49,064 alphafold2_ptm_model_2_seed_000 recycle=3 pLDDT=58.2 pTM=0.0592 tol=0.142\n",
            "2025-04-10 18:56:49,065 alphafold2_ptm_model_2_seed_000 took 2.2s (3 recycles)\n",
            "2025-04-10 18:56:49,615 alphafold2_ptm_model_3_seed_000 recycle=0 pLDDT=74.3 pTM=0.075\n",
            "2025-04-10 18:56:50,156 alphafold2_ptm_model_3_seed_000 recycle=1 pLDDT=64.6 pTM=0.0583 tol=0.405\n",
            "2025-04-10 18:56:50,697 alphafold2_ptm_model_3_seed_000 recycle=2 pLDDT=63.8 pTM=0.0572 tol=0.159\n",
            "2025-04-10 18:56:51,239 alphafold2_ptm_model_3_seed_000 recycle=3 pLDDT=62.2 pTM=0.0548 tol=0.182\n",
            "2025-04-10 18:56:51,240 alphafold2_ptm_model_3_seed_000 took 2.2s (3 recycles)\n",
            "2025-04-10 18:56:51,807 alphafold2_ptm_model_4_seed_000 recycle=0 pLDDT=60.3 pTM=0.0521\n",
            "2025-04-10 18:56:52,348 alphafold2_ptm_model_4_seed_000 recycle=1 pLDDT=59.2 pTM=0.0547 tol=0.315\n",
            "2025-04-10 18:56:52,891 alphafold2_ptm_model_4_seed_000 recycle=2 pLDDT=60.4 pTM=0.0574 tol=0.38\n",
            "2025-04-10 18:56:53,433 alphafold2_ptm_model_4_seed_000 recycle=3 pLDDT=60.7 pTM=0.0584 tol=0.145\n",
            "2025-04-10 18:56:53,433 alphafold2_ptm_model_4_seed_000 took 2.2s (3 recycles)\n",
            "2025-04-10 18:56:53,986 alphafold2_ptm_model_5_seed_000 recycle=0 pLDDT=75.6 pTM=0.0834\n",
            "2025-04-10 18:56:54,529 alphafold2_ptm_model_5_seed_000 recycle=1 pLDDT=70.8 pTM=0.0759 tol=0.179\n",
            "2025-04-10 18:56:55,071 alphafold2_ptm_model_5_seed_000 recycle=2 pLDDT=65.1 pTM=0.0687 tol=0.0784\n",
            "2025-04-10 18:56:55,614 alphafold2_ptm_model_5_seed_000 recycle=3 pLDDT=65.6 pTM=0.0688 tol=0.0946\n",
            "2025-04-10 18:56:55,614 alphafold2_ptm_model_5_seed_000 took 2.2s (3 recycles)\n",
            "2025-04-10 18:56:55,624 reranking models by 'plddt' metric\n",
            "2025-04-10 18:56:55,624 rank_001_alphafold2_ptm_model_5_seed_000 pLDDT=65.6 pTM=0.0688\n",
            "2025-04-10 18:56:55,626 rank_002_alphafold2_ptm_model_1_seed_000 pLDDT=65.3 pTM=0.0694\n",
            "2025-04-10 18:56:55,629 rank_003_alphafold2_ptm_model_3_seed_000 pLDDT=62.2 pTM=0.0548\n",
            "2025-04-10 18:56:55,631 rank_004_alphafold2_ptm_model_4_seed_000 pLDDT=60.7 pTM=0.0584\n",
            "2025-04-10 18:56:55,634 rank_005_alphafold2_ptm_model_2_seed_000 pLDDT=58.2 pTM=0.0592\n",
            "2025-04-10 18:56:56,622 Query 487/8000: sequence_2487 (length 20)\n"
          ]
        },
        {
          "output_type": "stream",
          "name": "stderr",
          "text": [
            "SUBMIT:   0%|          | 0/150 [elapsed: 00:00 remaining: ?]"
          ]
        },
        {
          "output_type": "stream",
          "name": "stdout",
          "text": [
            "2025-04-10 18:56:57,302 Sleeping for 8s. Reason: RATELIMIT\n"
          ]
        },
        {
          "output_type": "stream",
          "name": "stderr",
          "text": [
            "SUBMIT:   0%|          | 0/150 [elapsed: 00:09 remaining: ?]"
          ]
        },
        {
          "output_type": "stream",
          "name": "stdout",
          "text": [
            "2025-04-10 18:57:05,988 Sleeping for 6s. Reason: RATELIMIT\n"
          ]
        },
        {
          "output_type": "stream",
          "name": "stderr",
          "text": [
            "SUBMIT:   0%|          | 0/150 [elapsed: 00:16 remaining: ?]"
          ]
        },
        {
          "output_type": "stream",
          "name": "stdout",
          "text": [
            "2025-04-10 18:57:12,663 Sleeping for 7s. Reason: RATELIMIT\n"
          ]
        },
        {
          "output_type": "stream",
          "name": "stderr",
          "text": [
            "SUBMIT:   0%|          | 0/150 [elapsed: 00:23 remaining: ?]"
          ]
        },
        {
          "output_type": "stream",
          "name": "stdout",
          "text": [
            "2025-04-10 18:57:20,336 Sleeping for 6s. Reason: RATELIMIT\n"
          ]
        },
        {
          "output_type": "stream",
          "name": "stderr",
          "text": [
            "SUBMIT:   0%|          | 0/150 [elapsed: 00:30 remaining: ?]"
          ]
        },
        {
          "output_type": "stream",
          "name": "stdout",
          "text": [
            "2025-04-10 18:57:27,013 Sleeping for 5s. Reason: RATELIMIT\n"
          ]
        },
        {
          "output_type": "stream",
          "name": "stderr",
          "text": [
            "SUBMIT:   0%|          | 0/150 [elapsed: 00:36 remaining: ?]"
          ]
        },
        {
          "output_type": "stream",
          "name": "stdout",
          "text": [
            "2025-04-10 18:57:32,692 Sleeping for 9s. Reason: RATELIMIT\n"
          ]
        },
        {
          "output_type": "stream",
          "name": "stderr",
          "text": [
            "SUBMIT:   0%|          | 0/150 [elapsed: 00:45 remaining: ?]"
          ]
        },
        {
          "output_type": "stream",
          "name": "stdout",
          "text": [
            "2025-04-10 18:57:42,377 Sleeping for 7s. Reason: RATELIMIT\n"
          ]
        },
        {
          "output_type": "stream",
          "name": "stderr",
          "text": [
            "SUBMIT:   0%|          | 0/150 [elapsed: 00:53 remaining: ?]"
          ]
        },
        {
          "output_type": "stream",
          "name": "stdout",
          "text": [
            "2025-04-10 18:57:50,051 Sleeping for 7s. Reason: RATELIMIT\n"
          ]
        },
        {
          "output_type": "stream",
          "name": "stderr",
          "text": [
            "SUBMIT:   0%|          | 0/150 [elapsed: 01:01 remaining: ?]"
          ]
        },
        {
          "output_type": "stream",
          "name": "stdout",
          "text": [
            "2025-04-10 18:57:57,728 Sleeping for 5s. Reason: RATELIMIT\n"
          ]
        },
        {
          "output_type": "stream",
          "name": "stderr",
          "text": [
            "PENDING:   0%|          | 0/150 [elapsed: 01:06 remaining: ?]"
          ]
        },
        {
          "output_type": "stream",
          "name": "stdout",
          "text": [
            "2025-04-10 18:58:03,421 Sleeping for 6s. Reason: PENDING\n"
          ]
        },
        {
          "output_type": "stream",
          "name": "stderr",
          "text": [
            "RUNNING:   4%|▍         | 6/150 [elapsed: 01:13 remaining: 29:23]"
          ]
        },
        {
          "output_type": "stream",
          "name": "stdout",
          "text": [
            "2025-04-10 18:58:10,100 Sleeping for 6s. Reason: RUNNING\n"
          ]
        },
        {
          "output_type": "stream",
          "name": "stderr",
          "text": [
            "COMPLETE: 100%|██████████| 150/150 [elapsed: 01:20 remaining: 00:00]\n"
          ]
        },
        {
          "output_type": "stream",
          "name": "stdout",
          "text": [
            "2025-04-10 18:58:19,734 alphafold2_ptm_model_1_seed_000 recycle=0 pLDDT=64.5 pTM=0.0659\n",
            "2025-04-10 18:58:20,273 alphafold2_ptm_model_1_seed_000 recycle=1 pLDDT=66.5 pTM=0.0707 tol=0.387\n",
            "2025-04-10 18:58:20,813 alphafold2_ptm_model_1_seed_000 recycle=2 pLDDT=69.5 pTM=0.0739 tol=0.109\n",
            "2025-04-10 18:58:21,352 alphafold2_ptm_model_1_seed_000 recycle=3 pLDDT=67.2 pTM=0.0716 tol=0.0396\n",
            "2025-04-10 18:58:21,352 alphafold2_ptm_model_1_seed_000 took 2.2s (3 recycles)\n",
            "2025-04-10 18:58:21,902 alphafold2_ptm_model_2_seed_000 recycle=0 pLDDT=67.5 pTM=0.077\n",
            "2025-04-10 18:58:22,442 alphafold2_ptm_model_2_seed_000 recycle=1 pLDDT=60.8 pTM=0.0676 tol=0.219\n",
            "2025-04-10 18:58:22,982 alphafold2_ptm_model_2_seed_000 recycle=2 pLDDT=61.4 pTM=0.0673 tol=0.194\n",
            "2025-04-10 18:58:23,521 alphafold2_ptm_model_2_seed_000 recycle=3 pLDDT=57.3 pTM=0.0617 tol=0.173\n",
            "2025-04-10 18:58:23,522 alphafold2_ptm_model_2_seed_000 took 2.2s (3 recycles)\n",
            "2025-04-10 18:58:24,071 alphafold2_ptm_model_3_seed_000 recycle=0 pLDDT=56.2 pTM=0.0485\n",
            "2025-04-10 18:58:24,613 alphafold2_ptm_model_3_seed_000 recycle=1 pLDDT=55 pTM=0.0495 tol=0.555\n",
            "2025-04-10 18:58:25,152 alphafold2_ptm_model_3_seed_000 recycle=2 pLDDT=55.7 pTM=0.0493 tol=1.15\n",
            "2025-04-10 18:58:25,693 alphafold2_ptm_model_3_seed_000 recycle=3 pLDDT=54.8 pTM=0.0503 tol=1.21\n",
            "2025-04-10 18:58:25,694 alphafold2_ptm_model_3_seed_000 took 2.2s (3 recycles)\n",
            "2025-04-10 18:58:26,247 alphafold2_ptm_model_4_seed_000 recycle=0 pLDDT=60.6 pTM=0.054\n",
            "2025-04-10 18:58:26,786 alphafold2_ptm_model_4_seed_000 recycle=1 pLDDT=60.8 pTM=0.0568 tol=0.473\n",
            "2025-04-10 18:58:27,327 alphafold2_ptm_model_4_seed_000 recycle=2 pLDDT=62.5 pTM=0.0605 tol=0.213\n",
            "2025-04-10 18:58:27,868 alphafold2_ptm_model_4_seed_000 recycle=3 pLDDT=61.4 pTM=0.0594 tol=0.264\n",
            "2025-04-10 18:58:27,868 alphafold2_ptm_model_4_seed_000 took 2.2s (3 recycles)\n",
            "2025-04-10 18:58:28,418 alphafold2_ptm_model_5_seed_000 recycle=0 pLDDT=80.8 pTM=0.0897\n",
            "2025-04-10 18:58:28,960 alphafold2_ptm_model_5_seed_000 recycle=1 pLDDT=78.4 pTM=0.0875 tol=0.0927\n",
            "2025-04-10 18:58:29,500 alphafold2_ptm_model_5_seed_000 recycle=2 pLDDT=78.2 pTM=0.0849 tol=0.0472\n",
            "2025-04-10 18:58:30,041 alphafold2_ptm_model_5_seed_000 recycle=3 pLDDT=78.3 pTM=0.0859 tol=0.0365\n",
            "2025-04-10 18:58:30,041 alphafold2_ptm_model_5_seed_000 took 2.2s (3 recycles)\n",
            "2025-04-10 18:58:30,052 reranking models by 'plddt' metric\n",
            "2025-04-10 18:58:30,052 rank_001_alphafold2_ptm_model_5_seed_000 pLDDT=78.3 pTM=0.0859\n",
            "2025-04-10 18:58:30,055 rank_002_alphafold2_ptm_model_1_seed_000 pLDDT=67.2 pTM=0.0716\n",
            "2025-04-10 18:58:30,058 rank_003_alphafold2_ptm_model_4_seed_000 pLDDT=61.4 pTM=0.0594\n",
            "2025-04-10 18:58:30,061 rank_004_alphafold2_ptm_model_2_seed_000 pLDDT=57.3 pTM=0.0617\n",
            "2025-04-10 18:58:30,064 rank_005_alphafold2_ptm_model_3_seed_000 pLDDT=54.8 pTM=0.0503\n",
            "2025-04-10 18:58:31,051 Query 488/8000: sequence_2488 (length 20)\n"
          ]
        },
        {
          "output_type": "stream",
          "name": "stderr",
          "text": [
            "SUBMIT:   0%|          | 0/150 [elapsed: 00:00 remaining: ?]"
          ]
        },
        {
          "output_type": "stream",
          "name": "stdout",
          "text": [
            "2025-04-10 18:58:31,730 Sleeping for 8s. Reason: RATELIMIT\n"
          ]
        },
        {
          "output_type": "stream",
          "name": "stderr",
          "text": [
            "SUBMIT:   0%|          | 0/150 [elapsed: 00:09 remaining: ?]"
          ]
        },
        {
          "output_type": "stream",
          "name": "stdout",
          "text": [
            "2025-04-10 18:58:40,406 Sleeping for 7s. Reason: RATELIMIT\n"
          ]
        },
        {
          "output_type": "stream",
          "name": "stderr",
          "text": [
            "SUBMIT:   0%|          | 0/150 [elapsed: 00:17 remaining: ?]"
          ]
        },
        {
          "output_type": "stream",
          "name": "stdout",
          "text": [
            "2025-04-10 18:58:48,085 Sleeping for 6s. Reason: RATELIMIT\n"
          ]
        },
        {
          "output_type": "stream",
          "name": "stderr",
          "text": [
            "SUBMIT:   0%|          | 0/150 [elapsed: 00:23 remaining: ?]"
          ]
        },
        {
          "output_type": "stream",
          "name": "stdout",
          "text": [
            "2025-04-10 18:58:54,765 Sleeping for 7s. Reason: RATELIMIT\n"
          ]
        },
        {
          "output_type": "stream",
          "name": "stderr",
          "text": [
            "SUBMIT:   0%|          | 0/150 [elapsed: 00:31 remaining: ?]"
          ]
        },
        {
          "output_type": "stream",
          "name": "stdout",
          "text": [
            "2025-04-10 18:59:02,445 Sleeping for 7s. Reason: RATELIMIT\n"
          ]
        },
        {
          "output_type": "stream",
          "name": "stderr",
          "text": [
            "SUBMIT:   0%|          | 0/150 [elapsed: 00:39 remaining: ?]"
          ]
        },
        {
          "output_type": "stream",
          "name": "stdout",
          "text": [
            "2025-04-10 18:59:10,124 Sleeping for 8s. Reason: RATELIMIT\n"
          ]
        },
        {
          "output_type": "stream",
          "name": "stderr",
          "text": [
            "SUBMIT:   0%|          | 0/150 [elapsed: 00:47 remaining: ?]"
          ]
        },
        {
          "output_type": "stream",
          "name": "stdout",
          "text": [
            "2025-04-10 18:59:18,800 Sleeping for 5s. Reason: RATELIMIT\n"
          ]
        },
        {
          "output_type": "stream",
          "name": "stderr",
          "text": [
            "SUBMIT:   0%|          | 0/150 [elapsed: 00:53 remaining: ?]"
          ]
        },
        {
          "output_type": "stream",
          "name": "stdout",
          "text": [
            "2025-04-10 18:59:24,480 Sleeping for 8s. Reason: RATELIMIT\n"
          ]
        },
        {
          "output_type": "stream",
          "name": "stderr",
          "text": [
            "SUBMIT:   0%|          | 0/150 [elapsed: 01:02 remaining: ?]"
          ]
        },
        {
          "output_type": "stream",
          "name": "stdout",
          "text": [
            "2025-04-10 18:59:33,161 Sleeping for 8s. Reason: RATELIMIT\n"
          ]
        },
        {
          "output_type": "stream",
          "name": "stderr",
          "text": [
            "PENDING:   0%|          | 0/150 [elapsed: 01:10 remaining: ?]"
          ]
        },
        {
          "output_type": "stream",
          "name": "stdout",
          "text": [
            "2025-04-10 18:59:41,848 Sleeping for 10s. Reason: PENDING\n"
          ]
        },
        {
          "output_type": "stream",
          "name": "stderr",
          "text": [
            "RUNNING:   7%|▋         | 10/150 [elapsed: 01:21 remaining: 19:00]"
          ]
        },
        {
          "output_type": "stream",
          "name": "stdout",
          "text": [
            "2025-04-10 18:59:52,528 Sleeping for 5s. Reason: RUNNING\n"
          ]
        },
        {
          "output_type": "stream",
          "name": "stderr",
          "text": [
            "COMPLETE: 100%|██████████| 150/150 [elapsed: 01:27 remaining: 00:00]\n"
          ]
        },
        {
          "output_type": "stream",
          "name": "stdout",
          "text": [
            "2025-04-10 19:00:01,165 alphafold2_ptm_model_1_seed_000 recycle=0 pLDDT=59.6 pTM=0.0501\n",
            "2025-04-10 19:00:01,704 alphafold2_ptm_model_1_seed_000 recycle=1 pLDDT=62.4 pTM=0.0515 tol=0.705\n",
            "2025-04-10 19:00:02,244 alphafold2_ptm_model_1_seed_000 recycle=2 pLDDT=61.3 pTM=0.0519 tol=1.46\n",
            "2025-04-10 19:00:02,784 alphafold2_ptm_model_1_seed_000 recycle=3 pLDDT=60.9 pTM=0.0513 tol=1.32\n",
            "2025-04-10 19:00:02,784 alphafold2_ptm_model_1_seed_000 took 2.2s (3 recycles)\n",
            "2025-04-10 19:00:03,335 alphafold2_ptm_model_2_seed_000 recycle=0 pLDDT=59.3 pTM=0.0492\n",
            "2025-04-10 19:00:03,876 alphafold2_ptm_model_2_seed_000 recycle=1 pLDDT=61.1 pTM=0.05 tol=0.509\n",
            "2025-04-10 19:00:04,417 alphafold2_ptm_model_2_seed_000 recycle=2 pLDDT=61.7 pTM=0.0502 tol=1.09\n",
            "2025-04-10 19:00:04,957 alphafold2_ptm_model_2_seed_000 recycle=3 pLDDT=62.2 pTM=0.0498 tol=1.28\n",
            "2025-04-10 19:00:04,958 alphafold2_ptm_model_2_seed_000 took 2.2s (3 recycles)\n",
            "2025-04-10 19:00:05,508 alphafold2_ptm_model_3_seed_000 recycle=0 pLDDT=60.8 pTM=0.0478\n",
            "2025-04-10 19:00:06,049 alphafold2_ptm_model_3_seed_000 recycle=1 pLDDT=59.4 pTM=0.0489 tol=0.704\n",
            "2025-04-10 19:00:06,591 alphafold2_ptm_model_3_seed_000 recycle=2 pLDDT=59.4 pTM=0.0495 tol=0.921\n",
            "2025-04-10 19:00:07,132 alphafold2_ptm_model_3_seed_000 recycle=3 pLDDT=59.2 pTM=0.0491 tol=0.875\n",
            "2025-04-10 19:00:07,133 alphafold2_ptm_model_3_seed_000 took 2.2s (3 recycles)\n",
            "2025-04-10 19:00:07,683 alphafold2_ptm_model_4_seed_000 recycle=0 pLDDT=58.9 pTM=0.0475\n",
            "2025-04-10 19:00:08,224 alphafold2_ptm_model_4_seed_000 recycle=1 pLDDT=57.7 pTM=0.0486 tol=1.61\n",
            "2025-04-10 19:00:08,766 alphafold2_ptm_model_4_seed_000 recycle=2 pLDDT=57.5 pTM=0.049 tol=0.831\n",
            "2025-04-10 19:00:09,308 alphafold2_ptm_model_4_seed_000 recycle=3 pLDDT=59 pTM=0.05 tol=1.57\n",
            "2025-04-10 19:00:09,309 alphafold2_ptm_model_4_seed_000 took 2.2s (3 recycles)\n",
            "2025-04-10 19:00:09,859 alphafold2_ptm_model_5_seed_000 recycle=0 pLDDT=52.6 pTM=0.0484\n",
            "2025-04-10 19:00:10,401 alphafold2_ptm_model_5_seed_000 recycle=1 pLDDT=56.2 pTM=0.0496 tol=5.27\n",
            "2025-04-10 19:00:10,943 alphafold2_ptm_model_5_seed_000 recycle=2 pLDDT=54.7 pTM=0.05 tol=0.743\n",
            "2025-04-10 19:00:11,485 alphafold2_ptm_model_5_seed_000 recycle=3 pLDDT=55.6 pTM=0.0499 tol=1.11\n",
            "2025-04-10 19:00:11,485 alphafold2_ptm_model_5_seed_000 took 2.2s (3 recycles)\n",
            "2025-04-10 19:00:11,495 reranking models by 'plddt' metric\n",
            "2025-04-10 19:00:11,495 rank_001_alphafold2_ptm_model_2_seed_000 pLDDT=62.2 pTM=0.0498\n",
            "2025-04-10 19:00:11,498 rank_002_alphafold2_ptm_model_1_seed_000 pLDDT=60.9 pTM=0.0513\n",
            "2025-04-10 19:00:11,500 rank_003_alphafold2_ptm_model_3_seed_000 pLDDT=59.2 pTM=0.0491\n",
            "2025-04-10 19:00:11,502 rank_004_alphafold2_ptm_model_4_seed_000 pLDDT=59 pTM=0.05\n",
            "2025-04-10 19:00:11,505 rank_005_alphafold2_ptm_model_5_seed_000 pLDDT=55.6 pTM=0.0499\n",
            "2025-04-10 19:00:12,493 Query 489/8000: sequence_2489 (length 20)\n"
          ]
        },
        {
          "output_type": "stream",
          "name": "stderr",
          "text": [
            "SUBMIT:   0%|          | 0/150 [elapsed: 00:00 remaining: ?]"
          ]
        },
        {
          "output_type": "stream",
          "name": "stdout",
          "text": [
            "2025-04-10 19:00:13,171 Sleeping for 5s. Reason: RATELIMIT\n"
          ]
        },
        {
          "output_type": "stream",
          "name": "stderr",
          "text": [
            "SUBMIT:   0%|          | 0/150 [elapsed: 00:06 remaining: ?]"
          ]
        },
        {
          "output_type": "stream",
          "name": "stdout",
          "text": [
            "2025-04-10 19:00:18,850 Sleeping for 9s. Reason: RATELIMIT\n"
          ]
        },
        {
          "output_type": "stream",
          "name": "stderr",
          "text": [
            "SUBMIT:   0%|          | 0/150 [elapsed: 00:16 remaining: ?]"
          ]
        },
        {
          "output_type": "stream",
          "name": "stdout",
          "text": [
            "2025-04-10 19:00:28,529 Sleeping for 7s. Reason: RATELIMIT\n"
          ]
        },
        {
          "output_type": "stream",
          "name": "stderr",
          "text": [
            "SUBMIT:   0%|          | 0/150 [elapsed: 00:23 remaining: ?]"
          ]
        },
        {
          "output_type": "stream",
          "name": "stdout",
          "text": [
            "2025-04-10 19:00:36,218 Sleeping for 10s. Reason: RATELIMIT\n"
          ]
        },
        {
          "output_type": "stream",
          "name": "stderr",
          "text": [
            "SUBMIT:   0%|          | 0/150 [elapsed: 00:34 remaining: ?]"
          ]
        },
        {
          "output_type": "stream",
          "name": "stdout",
          "text": [
            "2025-04-10 19:00:46,894 Sleeping for 5s. Reason: RATELIMIT\n"
          ]
        },
        {
          "output_type": "stream",
          "name": "stderr",
          "text": [
            "SUBMIT:   0%|          | 0/150 [elapsed: 00:40 remaining: ?]"
          ]
        },
        {
          "output_type": "stream",
          "name": "stdout",
          "text": [
            "2025-04-10 19:00:52,580 Sleeping for 10s. Reason: RATELIMIT\n"
          ]
        },
        {
          "output_type": "stream",
          "name": "stderr",
          "text": [
            "SUBMIT:   0%|          | 0/150 [elapsed: 00:50 remaining: ?]"
          ]
        },
        {
          "output_type": "stream",
          "name": "stdout",
          "text": [
            "2025-04-10 19:01:03,262 Sleeping for 5s. Reason: RATELIMIT\n"
          ]
        },
        {
          "output_type": "stream",
          "name": "stderr",
          "text": [
            "SUBMIT:   0%|          | 0/150 [elapsed: 00:56 remaining: ?]"
          ]
        },
        {
          "output_type": "stream",
          "name": "stdout",
          "text": [
            "2025-04-10 19:01:08,944 Sleeping for 6s. Reason: RATELIMIT\n"
          ]
        },
        {
          "output_type": "stream",
          "name": "stderr",
          "text": [
            "SUBMIT:   0%|          | 0/150 [elapsed: 01:03 remaining: ?]"
          ]
        },
        {
          "output_type": "stream",
          "name": "stdout",
          "text": [
            "2025-04-10 19:01:15,625 Sleeping for 5s. Reason: RATELIMIT\n"
          ]
        },
        {
          "output_type": "stream",
          "name": "stderr",
          "text": [
            "PENDING:   0%|          | 0/150 [elapsed: 01:08 remaining: ?]"
          ]
        },
        {
          "output_type": "stream",
          "name": "stdout",
          "text": [
            "2025-04-10 19:01:21,314 Sleeping for 10s. Reason: PENDING\n"
          ]
        },
        {
          "output_type": "stream",
          "name": "stderr",
          "text": [
            "PENDING:   0%|          | 0/150 [elapsed: 01:19 remaining: ?]"
          ]
        },
        {
          "output_type": "stream",
          "name": "stdout",
          "text": [
            "2025-04-10 19:01:32,002 Sleeping for 7s. Reason: PENDING\n"
          ]
        },
        {
          "output_type": "stream",
          "name": "stderr",
          "text": [
            "PENDING:   0%|          | 0/150 [elapsed: 01:27 remaining: ?]"
          ]
        },
        {
          "output_type": "stream",
          "name": "stdout",
          "text": [
            "2025-04-10 19:01:39,675 Sleeping for 5s. Reason: PENDING\n"
          ]
        },
        {
          "output_type": "stream",
          "name": "stderr",
          "text": [
            "PENDING:   0%|          | 0/150 [elapsed: 01:32 remaining: ?]"
          ]
        },
        {
          "output_type": "stream",
          "name": "stdout",
          "text": [
            "2025-04-10 19:01:45,360 Sleeping for 6s. Reason: PENDING\n"
          ]
        },
        {
          "output_type": "stream",
          "name": "stderr",
          "text": [
            "PENDING:   0%|          | 0/150 [elapsed: 01:39 remaining: ?]"
          ]
        },
        {
          "output_type": "stream",
          "name": "stdout",
          "text": [
            "2025-04-10 19:01:52,040 Sleeping for 10s. Reason: PENDING\n"
          ]
        },
        {
          "output_type": "stream",
          "name": "stderr",
          "text": [
            "PENDING:   0%|          | 0/150 [elapsed: 01:50 remaining: ?]"
          ]
        },
        {
          "output_type": "stream",
          "name": "stdout",
          "text": [
            "2025-04-10 19:02:02,878 Sleeping for 8s. Reason: PENDING\n"
          ]
        },
        {
          "output_type": "stream",
          "name": "stderr",
          "text": [
            "PENDING:   0%|          | 0/150 [elapsed: 01:59 remaining: ?]"
          ]
        },
        {
          "output_type": "stream",
          "name": "stdout",
          "text": [
            "2025-04-10 19:02:11,554 Sleeping for 10s. Reason: PENDING\n"
          ]
        },
        {
          "output_type": "stream",
          "name": "stderr",
          "text": [
            "PENDING:   0%|          | 0/150 [elapsed: 02:09 remaining: ?]"
          ]
        },
        {
          "output_type": "stream",
          "name": "stdout",
          "text": [
            "2025-04-10 19:02:22,233 Sleeping for 8s. Reason: PENDING\n"
          ]
        },
        {
          "output_type": "stream",
          "name": "stderr",
          "text": [
            "PENDING:   0%|          | 0/150 [elapsed: 02:18 remaining: ?]"
          ]
        },
        {
          "output_type": "stream",
          "name": "stdout",
          "text": [
            "2025-04-10 19:02:30,916 Sleeping for 9s. Reason: PENDING\n"
          ]
        },
        {
          "output_type": "stream",
          "name": "stderr",
          "text": [
            "RUNNING:   6%|▌         | 9/150 [elapsed: 02:28 remaining: 38:40]"
          ]
        },
        {
          "output_type": "stream",
          "name": "stdout",
          "text": [
            "2025-04-10 19:02:40,597 Sleeping for 8s. Reason: RUNNING\n"
          ]
        },
        {
          "output_type": "stream",
          "name": "stderr",
          "text": [
            "COMPLETE: 100%|██████████| 150/150 [elapsed: 02:37 remaining: 00:00]\n"
          ]
        },
        {
          "output_type": "stream",
          "name": "stdout",
          "text": [
            "2025-04-10 19:02:52,227 alphafold2_ptm_model_1_seed_000 recycle=0 pLDDT=59.7 pTM=0.057\n",
            "2025-04-10 19:02:52,767 alphafold2_ptm_model_1_seed_000 recycle=1 pLDDT=61.3 pTM=0.0615 tol=2.14\n",
            "2025-04-10 19:02:53,307 alphafold2_ptm_model_1_seed_000 recycle=2 pLDDT=62.2 pTM=0.0649 tol=0.0848\n",
            "2025-04-10 19:02:53,846 alphafold2_ptm_model_1_seed_000 recycle=3 pLDDT=60.7 pTM=0.0614 tol=0.218\n",
            "2025-04-10 19:02:53,846 alphafold2_ptm_model_1_seed_000 took 2.2s (3 recycles)\n",
            "2025-04-10 19:02:54,396 alphafold2_ptm_model_2_seed_000 recycle=0 pLDDT=64.2 pTM=0.0693\n",
            "2025-04-10 19:02:54,936 alphafold2_ptm_model_2_seed_000 recycle=1 pLDDT=59.3 pTM=0.0646 tol=0.124\n",
            "2025-04-10 19:02:55,476 alphafold2_ptm_model_2_seed_000 recycle=2 pLDDT=61.2 pTM=0.0682 tol=0.129\n",
            "2025-04-10 19:02:56,015 alphafold2_ptm_model_2_seed_000 recycle=3 pLDDT=58.2 pTM=0.062 tol=0.201\n",
            "2025-04-10 19:02:56,016 alphafold2_ptm_model_2_seed_000 took 2.2s (3 recycles)\n",
            "2025-04-10 19:02:56,565 alphafold2_ptm_model_3_seed_000 recycle=0 pLDDT=76 pTM=0.0765\n",
            "2025-04-10 19:02:57,105 alphafold2_ptm_model_3_seed_000 recycle=1 pLDDT=75.8 pTM=0.0776 tol=0.2\n",
            "2025-04-10 19:02:57,644 alphafold2_ptm_model_3_seed_000 recycle=2 pLDDT=75.1 pTM=0.076 tol=0.0497\n",
            "2025-04-10 19:02:58,184 alphafold2_ptm_model_3_seed_000 recycle=3 pLDDT=75.1 pTM=0.0759 tol=0.0922\n",
            "2025-04-10 19:02:58,185 alphafold2_ptm_model_3_seed_000 took 2.2s (3 recycles)\n",
            "2025-04-10 19:02:58,734 alphafold2_ptm_model_4_seed_000 recycle=0 pLDDT=69.3 pTM=0.0696\n",
            "2025-04-10 19:02:59,275 alphafold2_ptm_model_4_seed_000 recycle=1 pLDDT=74.6 pTM=0.0799 tol=0.374\n",
            "2025-04-10 19:02:59,816 alphafold2_ptm_model_4_seed_000 recycle=2 pLDDT=76.6 pTM=0.083 tol=0.062\n",
            "2025-04-10 19:03:00,355 alphafold2_ptm_model_4_seed_000 recycle=3 pLDDT=74.5 pTM=0.0806 tol=0.0555\n",
            "2025-04-10 19:03:00,356 alphafold2_ptm_model_4_seed_000 took 2.2s (3 recycles)\n",
            "2025-04-10 19:03:00,920 alphafold2_ptm_model_5_seed_000 recycle=0 pLDDT=82.1 pTM=0.0866\n",
            "2025-04-10 19:03:01,460 alphafold2_ptm_model_5_seed_000 recycle=1 pLDDT=83 pTM=0.0897 tol=0.144\n",
            "2025-04-10 19:03:02,001 alphafold2_ptm_model_5_seed_000 recycle=2 pLDDT=82.4 pTM=0.0883 tol=0.0683\n",
            "2025-04-10 19:03:02,541 alphafold2_ptm_model_5_seed_000 recycle=3 pLDDT=80.3 pTM=0.0859 tol=0.0572\n",
            "2025-04-10 19:03:02,542 alphafold2_ptm_model_5_seed_000 took 2.2s (3 recycles)\n",
            "2025-04-10 19:03:02,552 reranking models by 'plddt' metric\n",
            "2025-04-10 19:03:02,552 rank_001_alphafold2_ptm_model_5_seed_000 pLDDT=80.3 pTM=0.0859\n",
            "2025-04-10 19:03:02,555 rank_002_alphafold2_ptm_model_3_seed_000 pLDDT=75.1 pTM=0.0759\n",
            "2025-04-10 19:03:02,557 rank_003_alphafold2_ptm_model_4_seed_000 pLDDT=74.5 pTM=0.0806\n",
            "2025-04-10 19:03:02,560 rank_004_alphafold2_ptm_model_1_seed_000 pLDDT=60.7 pTM=0.0614\n",
            "2025-04-10 19:03:02,562 rank_005_alphafold2_ptm_model_2_seed_000 pLDDT=58.2 pTM=0.062\n",
            "2025-04-10 19:03:03,559 Query 490/8000: sequence_2490 (length 20)\n"
          ]
        },
        {
          "output_type": "stream",
          "name": "stderr",
          "text": [
            "PENDING:   0%|          | 0/150 [elapsed: 00:00 remaining: ?]"
          ]
        },
        {
          "output_type": "stream",
          "name": "stdout",
          "text": [
            "2025-04-10 19:03:04,256 Sleeping for 7s. Reason: PENDING\n"
          ]
        },
        {
          "output_type": "stream",
          "name": "stderr",
          "text": [
            "PENDING:   0%|          | 0/150 [elapsed: 00:08 remaining: ?]"
          ]
        },
        {
          "output_type": "stream",
          "name": "stdout",
          "text": [
            "2025-04-10 19:03:11,941 Sleeping for 8s. Reason: PENDING\n"
          ]
        },
        {
          "output_type": "stream",
          "name": "stderr",
          "text": [
            "PENDING:   0%|          | 0/150 [elapsed: 00:17 remaining: ?]"
          ]
        },
        {
          "output_type": "stream",
          "name": "stdout",
          "text": [
            "2025-04-10 19:03:20,620 Sleeping for 9s. Reason: PENDING\n"
          ]
        },
        {
          "output_type": "stream",
          "name": "stderr",
          "text": [
            "PENDING:   0%|          | 0/150 [elapsed: 00:26 remaining: ?]"
          ]
        },
        {
          "output_type": "stream",
          "name": "stdout",
          "text": [
            "2025-04-10 19:03:30,315 Sleeping for 8s. Reason: PENDING\n"
          ]
        },
        {
          "output_type": "stream",
          "name": "stderr",
          "text": [
            "PENDING:   0%|          | 0/150 [elapsed: 00:35 remaining: ?]"
          ]
        },
        {
          "output_type": "stream",
          "name": "stdout",
          "text": [
            "2025-04-10 19:03:38,992 Sleeping for 7s. Reason: PENDING\n"
          ]
        },
        {
          "output_type": "stream",
          "name": "stderr",
          "text": [
            "PENDING:   0%|          | 0/150 [elapsed: 00:43 remaining: ?]"
          ]
        },
        {
          "output_type": "stream",
          "name": "stdout",
          "text": [
            "2025-04-10 19:03:46,674 Sleeping for 8s. Reason: PENDING\n"
          ]
        },
        {
          "output_type": "stream",
          "name": "stderr",
          "text": [
            "PENDING:   0%|          | 0/150 [elapsed: 00:51 remaining: ?]"
          ]
        },
        {
          "output_type": "stream",
          "name": "stdout",
          "text": [
            "2025-04-10 19:03:55,353 Sleeping for 9s. Reason: PENDING\n"
          ]
        },
        {
          "output_type": "stream",
          "name": "stderr",
          "text": [
            "PENDING:   0%|          | 0/150 [elapsed: 01:01 remaining: ?]"
          ]
        },
        {
          "output_type": "stream",
          "name": "stdout",
          "text": [
            "2025-04-10 19:04:05,033 Sleeping for 6s. Reason: PENDING\n"
          ]
        },
        {
          "output_type": "stream",
          "name": "stderr",
          "text": [
            "PENDING:   0%|          | 0/150 [elapsed: 01:08 remaining: ?]"
          ]
        },
        {
          "output_type": "stream",
          "name": "stdout",
          "text": [
            "2025-04-10 19:04:11,716 Sleeping for 7s. Reason: PENDING\n"
          ]
        },
        {
          "output_type": "stream",
          "name": "stderr",
          "text": [
            "PENDING:   0%|          | 0/150 [elapsed: 01:15 remaining: ?]"
          ]
        },
        {
          "output_type": "stream",
          "name": "stdout",
          "text": [
            "2025-04-10 19:04:19,401 Sleeping for 6s. Reason: PENDING\n"
          ]
        },
        {
          "output_type": "stream",
          "name": "stderr",
          "text": [
            "PENDING:   0%|          | 0/150 [elapsed: 01:22 remaining: ?]"
          ]
        },
        {
          "output_type": "stream",
          "name": "stdout",
          "text": [
            "2025-04-10 19:04:26,093 Sleeping for 6s. Reason: PENDING\n"
          ]
        },
        {
          "output_type": "stream",
          "name": "stderr",
          "text": [
            "PENDING:   0%|          | 0/150 [elapsed: 01:29 remaining: ?]"
          ]
        },
        {
          "output_type": "stream",
          "name": "stdout",
          "text": [
            "2025-04-10 19:04:32,767 Sleeping for 7s. Reason: PENDING\n"
          ]
        },
        {
          "output_type": "stream",
          "name": "stderr",
          "text": [
            "PENDING:   0%|          | 0/150 [elapsed: 01:36 remaining: ?]"
          ]
        },
        {
          "output_type": "stream",
          "name": "stdout",
          "text": [
            "2025-04-10 19:04:40,450 Sleeping for 6s. Reason: PENDING\n"
          ]
        },
        {
          "output_type": "stream",
          "name": "stderr",
          "text": [
            "PENDING:   0%|          | 0/150 [elapsed: 01:43 remaining: ?]"
          ]
        },
        {
          "output_type": "stream",
          "name": "stdout",
          "text": [
            "2025-04-10 19:04:47,133 Sleeping for 10s. Reason: PENDING\n"
          ]
        },
        {
          "output_type": "stream",
          "name": "stderr",
          "text": [
            "PENDING:   0%|          | 0/150 [elapsed: 01:54 remaining: ?]"
          ]
        },
        {
          "output_type": "stream",
          "name": "stdout",
          "text": [
            "2025-04-10 19:04:57,816 Sleeping for 8s. Reason: PENDING\n"
          ]
        },
        {
          "output_type": "stream",
          "name": "stderr",
          "text": [
            "PENDING:   0%|          | 0/150 [elapsed: 02:02 remaining: ?]"
          ]
        },
        {
          "output_type": "stream",
          "name": "stdout",
          "text": [
            "2025-04-10 19:05:06,506 Sleeping for 5s. Reason: PENDING\n"
          ]
        },
        {
          "output_type": "stream",
          "name": "stderr",
          "text": [
            "PENDING:   0%|          | 0/150 [elapsed: 02:08 remaining: ?]"
          ]
        },
        {
          "output_type": "stream",
          "name": "stdout",
          "text": [
            "2025-04-10 19:05:12,191 Sleeping for 7s. Reason: PENDING\n"
          ]
        },
        {
          "output_type": "stream",
          "name": "stderr",
          "text": [
            "PENDING:   0%|          | 0/150 [elapsed: 02:16 remaining: ?]"
          ]
        },
        {
          "output_type": "stream",
          "name": "stdout",
          "text": [
            "2025-04-10 19:05:19,865 Sleeping for 5s. Reason: PENDING\n"
          ]
        },
        {
          "output_type": "stream",
          "name": "stderr",
          "text": [
            "PENDING:   0%|          | 0/150 [elapsed: 02:21 remaining: ?]"
          ]
        },
        {
          "output_type": "stream",
          "name": "stdout",
          "text": [
            "2025-04-10 19:05:25,543 Sleeping for 10s. Reason: PENDING\n"
          ]
        },
        {
          "output_type": "stream",
          "name": "stderr",
          "text": [
            "RUNNING:   7%|▋         | 10/150 [elapsed: 02:32 remaining: 35:37]"
          ]
        },
        {
          "output_type": "stream",
          "name": "stdout",
          "text": [
            "2025-04-10 19:05:36,226 Sleeping for 6s. Reason: RUNNING\n"
          ]
        },
        {
          "output_type": "stream",
          "name": "stderr",
          "text": [
            "COMPLETE: 100%|██████████| 150/150 [elapsed: 02:40 remaining: 00:00]\n"
          ]
        },
        {
          "output_type": "stream",
          "name": "stdout",
          "text": [
            "2025-04-10 19:05:45,857 alphafold2_ptm_model_1_seed_000 recycle=0 pLDDT=59.9 pTM=0.0504\n",
            "2025-04-10 19:05:46,397 alphafold2_ptm_model_1_seed_000 recycle=1 pLDDT=62.3 pTM=0.049 tol=0.568\n",
            "2025-04-10 19:05:46,937 alphafold2_ptm_model_1_seed_000 recycle=2 pLDDT=62.1 pTM=0.0489 tol=0.951\n",
            "2025-04-10 19:05:47,476 alphafold2_ptm_model_1_seed_000 recycle=3 pLDDT=61.4 pTM=0.0485 tol=1.08\n",
            "2025-04-10 19:05:47,477 alphafold2_ptm_model_1_seed_000 took 2.2s (3 recycles)\n",
            "2025-04-10 19:05:48,026 alphafold2_ptm_model_2_seed_000 recycle=0 pLDDT=61.5 pTM=0.0476\n",
            "2025-04-10 19:05:48,565 alphafold2_ptm_model_2_seed_000 recycle=1 pLDDT=62.7 pTM=0.0476 tol=0.807\n",
            "2025-04-10 19:05:49,104 alphafold2_ptm_model_2_seed_000 recycle=2 pLDDT=62.4 pTM=0.0474 tol=0.705\n",
            "2025-04-10 19:05:49,644 alphafold2_ptm_model_2_seed_000 recycle=3 pLDDT=62.8 pTM=0.0471 tol=0.827\n",
            "2025-04-10 19:05:49,645 alphafold2_ptm_model_2_seed_000 took 2.2s (3 recycles)\n",
            "2025-04-10 19:05:50,194 alphafold2_ptm_model_3_seed_000 recycle=0 pLDDT=66.7 pTM=0.0472\n",
            "2025-04-10 19:05:50,733 alphafold2_ptm_model_3_seed_000 recycle=1 pLDDT=69.1 pTM=0.0479 tol=0.901\n",
            "2025-04-10 19:05:51,274 alphafold2_ptm_model_3_seed_000 recycle=2 pLDDT=70.9 pTM=0.0476 tol=0.608\n",
            "2025-04-10 19:05:51,815 alphafold2_ptm_model_3_seed_000 recycle=3 pLDDT=69.1 pTM=0.0472 tol=0.623\n",
            "2025-04-10 19:05:51,815 alphafold2_ptm_model_3_seed_000 took 2.2s (3 recycles)\n",
            "2025-04-10 19:05:52,365 alphafold2_ptm_model_4_seed_000 recycle=0 pLDDT=67.1 pTM=0.0468\n",
            "2025-04-10 19:05:52,905 alphafold2_ptm_model_4_seed_000 recycle=1 pLDDT=68.9 pTM=0.0475 tol=0.732\n",
            "2025-04-10 19:05:53,445 alphafold2_ptm_model_4_seed_000 recycle=2 pLDDT=69.8 pTM=0.048 tol=0.478\n",
            "2025-04-10 19:05:53,985 alphafold2_ptm_model_4_seed_000 recycle=3 pLDDT=69.1 pTM=0.0474 tol=0.191\n",
            "2025-04-10 19:05:53,986 alphafold2_ptm_model_4_seed_000 took 2.2s (3 recycles)\n",
            "2025-04-10 19:05:54,536 alphafold2_ptm_model_5_seed_000 recycle=0 pLDDT=56.7 pTM=0.0456\n",
            "2025-04-10 19:05:55,076 alphafold2_ptm_model_5_seed_000 recycle=1 pLDDT=59.5 pTM=0.0456 tol=3.75\n",
            "2025-04-10 19:05:55,615 alphafold2_ptm_model_5_seed_000 recycle=2 pLDDT=62.6 pTM=0.0457 tol=1.95\n",
            "2025-04-10 19:05:56,155 alphafold2_ptm_model_5_seed_000 recycle=3 pLDDT=65.4 pTM=0.0462 tol=0.375\n",
            "2025-04-10 19:05:56,156 alphafold2_ptm_model_5_seed_000 took 2.2s (3 recycles)\n",
            "2025-04-10 19:05:56,165 reranking models by 'plddt' metric\n",
            "2025-04-10 19:05:56,165 rank_001_alphafold2_ptm_model_4_seed_000 pLDDT=69.1 pTM=0.0474\n",
            "2025-04-10 19:05:56,168 rank_002_alphafold2_ptm_model_3_seed_000 pLDDT=69.1 pTM=0.0472\n",
            "2025-04-10 19:05:56,170 rank_003_alphafold2_ptm_model_5_seed_000 pLDDT=65.4 pTM=0.0462\n",
            "2025-04-10 19:05:56,172 rank_004_alphafold2_ptm_model_2_seed_000 pLDDT=62.8 pTM=0.0471\n",
            "2025-04-10 19:05:56,175 rank_005_alphafold2_ptm_model_1_seed_000 pLDDT=61.4 pTM=0.0485\n",
            "2025-04-10 19:05:57,159 Query 491/8000: sequence_2491 (length 20)\n"
          ]
        },
        {
          "output_type": "stream",
          "name": "stderr",
          "text": [
            "PENDING:   0%|          | 0/150 [elapsed: 00:00 remaining: ?]"
          ]
        },
        {
          "output_type": "stream",
          "name": "stdout",
          "text": [
            "2025-04-10 19:05:57,851 Sleeping for 10s. Reason: PENDING\n"
          ]
        },
        {
          "output_type": "stream",
          "name": "stderr",
          "text": [
            "COMPLETE: 100%|██████████| 150/150 [elapsed: 00:12 remaining: 00:00]\n"
          ]
        },
        {
          "output_type": "stream",
          "name": "stdout",
          "text": [
            "2025-04-10 19:06:11,502 alphafold2_ptm_model_1_seed_000 recycle=0 pLDDT=79.6 pTM=0.0908\n",
            "2025-04-10 19:06:12,041 alphafold2_ptm_model_1_seed_000 recycle=1 pLDDT=81.4 pTM=0.0955 tol=0.168\n",
            "2025-04-10 19:06:12,581 alphafold2_ptm_model_1_seed_000 recycle=2 pLDDT=81.1 pTM=0.0938 tol=0.147\n",
            "2025-04-10 19:06:13,120 alphafold2_ptm_model_1_seed_000 recycle=3 pLDDT=79.6 pTM=0.092 tol=0.163\n",
            "2025-04-10 19:06:13,121 alphafold2_ptm_model_1_seed_000 took 2.2s (3 recycles)\n",
            "2025-04-10 19:06:13,671 alphafold2_ptm_model_2_seed_000 recycle=0 pLDDT=77.9 pTM=0.0908\n",
            "2025-04-10 19:06:14,210 alphafold2_ptm_model_2_seed_000 recycle=1 pLDDT=71.9 pTM=0.0822 tol=0.15\n",
            "2025-04-10 19:06:14,749 alphafold2_ptm_model_2_seed_000 recycle=2 pLDDT=64.9 pTM=0.071 tol=1.98\n",
            "2025-04-10 19:06:15,290 alphafold2_ptm_model_2_seed_000 recycle=3 pLDDT=68.1 pTM=0.0767 tol=0.837\n",
            "2025-04-10 19:06:15,291 alphafold2_ptm_model_2_seed_000 took 2.2s (3 recycles)\n",
            "2025-04-10 19:06:15,841 alphafold2_ptm_model_3_seed_000 recycle=0 pLDDT=79 pTM=0.0797\n",
            "2025-04-10 19:06:16,381 alphafold2_ptm_model_3_seed_000 recycle=1 pLDDT=79.1 pTM=0.0817 tol=0.349\n",
            "2025-04-10 19:06:16,921 alphafold2_ptm_model_3_seed_000 recycle=2 pLDDT=80.7 pTM=0.0862 tol=0.124\n",
            "2025-04-10 19:06:17,461 alphafold2_ptm_model_3_seed_000 recycle=3 pLDDT=77 pTM=0.0806 tol=0.172\n",
            "2025-04-10 19:06:17,461 alphafold2_ptm_model_3_seed_000 took 2.2s (3 recycles)\n",
            "2025-04-10 19:06:18,010 alphafold2_ptm_model_4_seed_000 recycle=0 pLDDT=76.3 pTM=0.0841\n",
            "2025-04-10 19:06:18,550 alphafold2_ptm_model_4_seed_000 recycle=1 pLDDT=77.4 pTM=0.0875 tol=0.251\n",
            "2025-04-10 19:06:19,091 alphafold2_ptm_model_4_seed_000 recycle=2 pLDDT=79.6 pTM=0.09 tol=0.132\n",
            "2025-04-10 19:06:19,631 alphafold2_ptm_model_4_seed_000 recycle=3 pLDDT=79.4 pTM=0.0889 tol=0.14\n",
            "2025-04-10 19:06:19,632 alphafold2_ptm_model_4_seed_000 took 2.2s (3 recycles)\n",
            "2025-04-10 19:06:20,196 alphafold2_ptm_model_5_seed_000 recycle=0 pLDDT=80.6 pTM=0.092\n",
            "2025-04-10 19:06:20,737 alphafold2_ptm_model_5_seed_000 recycle=1 pLDDT=75.5 pTM=0.0887 tol=0.137\n",
            "2025-04-10 19:06:21,277 alphafold2_ptm_model_5_seed_000 recycle=2 pLDDT=76.4 pTM=0.0893 tol=0.181\n",
            "2025-04-10 19:06:21,816 alphafold2_ptm_model_5_seed_000 recycle=3 pLDDT=73.5 pTM=0.0853 tol=0.114\n",
            "2025-04-10 19:06:21,817 alphafold2_ptm_model_5_seed_000 took 2.2s (3 recycles)\n",
            "2025-04-10 19:06:21,826 reranking models by 'plddt' metric\n",
            "2025-04-10 19:06:21,826 rank_001_alphafold2_ptm_model_1_seed_000 pLDDT=79.6 pTM=0.092\n",
            "2025-04-10 19:06:21,829 rank_002_alphafold2_ptm_model_4_seed_000 pLDDT=79.4 pTM=0.0889\n",
            "2025-04-10 19:06:21,831 rank_003_alphafold2_ptm_model_3_seed_000 pLDDT=77 pTM=0.0806\n",
            "2025-04-10 19:06:21,834 rank_004_alphafold2_ptm_model_5_seed_000 pLDDT=73.5 pTM=0.0853\n",
            "2025-04-10 19:06:21,836 rank_005_alphafold2_ptm_model_2_seed_000 pLDDT=68.1 pTM=0.0767\n",
            "2025-04-10 19:06:22,849 Query 492/8000: sequence_2492 (length 20)\n"
          ]
        },
        {
          "output_type": "stream",
          "name": "stderr",
          "text": [
            "PENDING:   0%|          | 0/150 [elapsed: 00:00 remaining: ?]"
          ]
        },
        {
          "output_type": "stream",
          "name": "stdout",
          "text": [
            "2025-04-10 19:06:23,702 Sleeping for 6s. Reason: PENDING\n"
          ]
        },
        {
          "output_type": "stream",
          "name": "stderr",
          "text": [
            "RUNNING:   4%|▍         | 6/150 [elapsed: 00:07 remaining: 03:00]"
          ]
        },
        {
          "output_type": "stream",
          "name": "stdout",
          "text": [
            "2025-04-10 19:06:30,383 Sleeping for 9s. Reason: RUNNING\n"
          ]
        },
        {
          "output_type": "stream",
          "name": "stderr",
          "text": [
            "COMPLETE: 100%|██████████| 150/150 [elapsed: 00:17 remaining: 00:00]\n"
          ]
        },
        {
          "output_type": "stream",
          "name": "stdout",
          "text": [
            "2025-04-10 19:06:43,022 alphafold2_ptm_model_1_seed_000 recycle=0 pLDDT=69.6 pTM=0.0533\n",
            "2025-04-10 19:06:43,562 alphafold2_ptm_model_1_seed_000 recycle=1 pLDDT=69.9 pTM=0.0532 tol=0.552\n",
            "2025-04-10 19:06:44,102 alphafold2_ptm_model_1_seed_000 recycle=2 pLDDT=69.1 pTM=0.0526 tol=0.399\n",
            "2025-04-10 19:06:44,641 alphafold2_ptm_model_1_seed_000 recycle=3 pLDDT=68.6 pTM=0.0531 tol=0.436\n",
            "2025-04-10 19:06:44,642 alphafold2_ptm_model_1_seed_000 took 2.2s (3 recycles)\n",
            "2025-04-10 19:06:45,192 alphafold2_ptm_model_2_seed_000 recycle=0 pLDDT=72.7 pTM=0.0559\n",
            "2025-04-10 19:06:45,732 alphafold2_ptm_model_2_seed_000 recycle=1 pLDDT=71.2 pTM=0.0529 tol=0.483\n",
            "2025-04-10 19:06:46,272 alphafold2_ptm_model_2_seed_000 recycle=2 pLDDT=72 pTM=0.0521 tol=0.942\n",
            "2025-04-10 19:06:46,812 alphafold2_ptm_model_2_seed_000 recycle=3 pLDDT=71.2 pTM=0.0518 tol=0.261\n",
            "2025-04-10 19:06:46,813 alphafold2_ptm_model_2_seed_000 took 2.2s (3 recycles)\n",
            "2025-04-10 19:06:47,363 alphafold2_ptm_model_3_seed_000 recycle=0 pLDDT=72.5 pTM=0.048\n",
            "2025-04-10 19:06:47,903 alphafold2_ptm_model_3_seed_000 recycle=1 pLDDT=71.8 pTM=0.0472 tol=0.6\n",
            "2025-04-10 19:06:48,444 alphafold2_ptm_model_3_seed_000 recycle=2 pLDDT=71.6 pTM=0.0469 tol=0.297\n",
            "2025-04-10 19:06:48,984 alphafold2_ptm_model_3_seed_000 recycle=3 pLDDT=71.6 pTM=0.0475 tol=0.23\n",
            "2025-04-10 19:06:48,985 alphafold2_ptm_model_3_seed_000 took 2.2s (3 recycles)\n",
            "2025-04-10 19:06:49,534 alphafold2_ptm_model_4_seed_000 recycle=0 pLDDT=74.6 pTM=0.0515\n",
            "2025-04-10 19:06:50,074 alphafold2_ptm_model_4_seed_000 recycle=1 pLDDT=72.6 pTM=0.052 tol=0.753\n",
            "2025-04-10 19:06:50,615 alphafold2_ptm_model_4_seed_000 recycle=2 pLDDT=72.1 pTM=0.0533 tol=0.325\n",
            "2025-04-10 19:06:51,155 alphafold2_ptm_model_4_seed_000 recycle=3 pLDDT=71.4 pTM=0.0537 tol=0.127\n",
            "2025-04-10 19:06:51,156 alphafold2_ptm_model_4_seed_000 took 2.2s (3 recycles)\n",
            "2025-04-10 19:06:51,721 alphafold2_ptm_model_5_seed_000 recycle=0 pLDDT=73 pTM=0.0529\n",
            "2025-04-10 19:06:52,262 alphafold2_ptm_model_5_seed_000 recycle=1 pLDDT=71.7 pTM=0.0499 tol=1.28\n",
            "2025-04-10 19:06:52,802 alphafold2_ptm_model_5_seed_000 recycle=2 pLDDT=71.9 pTM=0.0504 tol=0.304\n",
            "2025-04-10 19:06:53,342 alphafold2_ptm_model_5_seed_000 recycle=3 pLDDT=69.9 pTM=0.0491 tol=0.208\n",
            "2025-04-10 19:06:53,343 alphafold2_ptm_model_5_seed_000 took 2.2s (3 recycles)\n",
            "2025-04-10 19:06:53,353 reranking models by 'plddt' metric\n",
            "2025-04-10 19:06:53,353 rank_001_alphafold2_ptm_model_3_seed_000 pLDDT=71.6 pTM=0.0475\n",
            "2025-04-10 19:06:53,356 rank_002_alphafold2_ptm_model_4_seed_000 pLDDT=71.4 pTM=0.0537\n",
            "2025-04-10 19:06:53,358 rank_003_alphafold2_ptm_model_2_seed_000 pLDDT=71.2 pTM=0.0518\n",
            "2025-04-10 19:06:53,361 rank_004_alphafold2_ptm_model_5_seed_000 pLDDT=69.9 pTM=0.0491\n",
            "2025-04-10 19:06:53,363 rank_005_alphafold2_ptm_model_1_seed_000 pLDDT=68.6 pTM=0.0531\n",
            "2025-04-10 19:06:54,354 Query 493/8000: sequence_2493 (length 20)\n"
          ]
        },
        {
          "output_type": "stream",
          "name": "stderr",
          "text": [
            "PENDING:   0%|          | 0/150 [elapsed: 00:00 remaining: ?]"
          ]
        },
        {
          "output_type": "stream",
          "name": "stdout",
          "text": [
            "2025-04-10 19:06:55,041 Sleeping for 7s. Reason: PENDING\n"
          ]
        },
        {
          "output_type": "stream",
          "name": "stderr",
          "text": [
            "RUNNING:   5%|▍         | 7/150 [elapsed: 00:08 remaining: 02:50]"
          ]
        },
        {
          "output_type": "stream",
          "name": "stdout",
          "text": [
            "2025-04-10 19:07:02,720 Sleeping for 9s. Reason: RUNNING\n"
          ]
        },
        {
          "output_type": "stream",
          "name": "stderr",
          "text": [
            "COMPLETE: 100%|██████████| 150/150 [elapsed: 00:18 remaining: 00:00]\n"
          ]
        },
        {
          "output_type": "stream",
          "name": "stdout",
          "text": [
            "2025-04-10 19:07:15,353 alphafold2_ptm_model_1_seed_000 recycle=0 pLDDT=75.2 pTM=0.0727\n",
            "2025-04-10 19:07:15,893 alphafold2_ptm_model_1_seed_000 recycle=1 pLDDT=77.2 pTM=0.0793 tol=0.759\n",
            "2025-04-10 19:07:16,432 alphafold2_ptm_model_1_seed_000 recycle=2 pLDDT=78.6 pTM=0.0809 tol=0.168\n",
            "2025-04-10 19:07:16,972 alphafold2_ptm_model_1_seed_000 recycle=3 pLDDT=78.4 pTM=0.0823 tol=0.0813\n",
            "2025-04-10 19:07:16,972 alphafold2_ptm_model_1_seed_000 took 2.2s (3 recycles)\n",
            "2025-04-10 19:07:17,523 alphafold2_ptm_model_2_seed_000 recycle=0 pLDDT=69 pTM=0.068\n",
            "2025-04-10 19:07:18,063 alphafold2_ptm_model_2_seed_000 recycle=1 pLDDT=71.6 pTM=0.0747 tol=0.311\n",
            "2025-04-10 19:07:18,603 alphafold2_ptm_model_2_seed_000 recycle=2 pLDDT=73.2 pTM=0.0746 tol=0.148\n",
            "2025-04-10 19:07:19,143 alphafold2_ptm_model_2_seed_000 recycle=3 pLDDT=73.8 pTM=0.0778 tol=0.08\n",
            "2025-04-10 19:07:19,144 alphafold2_ptm_model_2_seed_000 took 2.2s (3 recycles)\n",
            "2025-04-10 19:07:19,694 alphafold2_ptm_model_3_seed_000 recycle=0 pLDDT=68.5 pTM=0.0617\n",
            "2025-04-10 19:07:20,234 alphafold2_ptm_model_3_seed_000 recycle=1 pLDDT=72.8 pTM=0.0696 tol=0.753\n",
            "2025-04-10 19:07:20,774 alphafold2_ptm_model_3_seed_000 recycle=2 pLDDT=75.3 pTM=0.0716 tol=0.341\n",
            "2025-04-10 19:07:21,314 alphafold2_ptm_model_3_seed_000 recycle=3 pLDDT=75.8 pTM=0.0746 tol=0.122\n",
            "2025-04-10 19:07:21,315 alphafold2_ptm_model_3_seed_000 took 2.2s (3 recycles)\n",
            "2025-04-10 19:07:21,865 alphafold2_ptm_model_4_seed_000 recycle=0 pLDDT=69.9 pTM=0.0648\n",
            "2025-04-10 19:07:22,405 alphafold2_ptm_model_4_seed_000 recycle=1 pLDDT=74 pTM=0.0734 tol=0.63\n",
            "2025-04-10 19:07:22,945 alphafold2_ptm_model_4_seed_000 recycle=2 pLDDT=77 pTM=0.0784 tol=0.119\n",
            "2025-04-10 19:07:23,485 alphafold2_ptm_model_4_seed_000 recycle=3 pLDDT=79 pTM=0.0831 tol=0.0568\n",
            "2025-04-10 19:07:23,485 alphafold2_ptm_model_4_seed_000 took 2.2s (3 recycles)\n",
            "2025-04-10 19:07:24,051 alphafold2_ptm_model_5_seed_000 recycle=0 pLDDT=76.2 pTM=0.0782\n",
            "2025-04-10 19:07:24,590 alphafold2_ptm_model_5_seed_000 recycle=1 pLDDT=79.9 pTM=0.0901 tol=0.578\n",
            "2025-04-10 19:07:25,130 alphafold2_ptm_model_5_seed_000 recycle=2 pLDDT=81.4 pTM=0.0892 tol=0.187\n",
            "2025-04-10 19:07:25,670 alphafold2_ptm_model_5_seed_000 recycle=3 pLDDT=82.2 pTM=0.093 tol=0.127\n",
            "2025-04-10 19:07:25,670 alphafold2_ptm_model_5_seed_000 took 2.2s (3 recycles)\n",
            "2025-04-10 19:07:25,679 reranking models by 'plddt' metric\n",
            "2025-04-10 19:07:25,679 rank_001_alphafold2_ptm_model_5_seed_000 pLDDT=82.2 pTM=0.093\n",
            "2025-04-10 19:07:25,682 rank_002_alphafold2_ptm_model_4_seed_000 pLDDT=79 pTM=0.0831\n",
            "2025-04-10 19:07:25,684 rank_003_alphafold2_ptm_model_1_seed_000 pLDDT=78.4 pTM=0.0823\n",
            "2025-04-10 19:07:25,686 rank_004_alphafold2_ptm_model_3_seed_000 pLDDT=75.8 pTM=0.0746\n",
            "2025-04-10 19:07:25,689 rank_005_alphafold2_ptm_model_2_seed_000 pLDDT=73.8 pTM=0.0778\n",
            "2025-04-10 19:07:26,674 Query 494/8000: sequence_2494 (length 20)\n"
          ]
        },
        {
          "output_type": "stream",
          "name": "stderr",
          "text": [
            "PENDING:   0%|          | 0/150 [elapsed: 00:00 remaining: ?]"
          ]
        },
        {
          "output_type": "stream",
          "name": "stdout",
          "text": [
            "2025-04-10 19:07:27,372 Sleeping for 9s. Reason: PENDING\n"
          ]
        },
        {
          "output_type": "stream",
          "name": "stderr",
          "text": [
            "RUNNING:   6%|▌         | 9/150 [elapsed: 00:10 remaining: 02:42]"
          ]
        },
        {
          "output_type": "stream",
          "name": "stdout",
          "text": [
            "2025-04-10 19:07:37,053 Sleeping for 5s. Reason: RUNNING\n"
          ]
        },
        {
          "output_type": "stream",
          "name": "stderr",
          "text": [
            "RUNNING:   9%|▉         | 14/150 [elapsed: 00:16 remaining: 02:35]"
          ]
        },
        {
          "output_type": "stream",
          "name": "stdout",
          "text": [
            "2025-04-10 19:07:42,737 Sleeping for 9s. Reason: RUNNING\n"
          ]
        },
        {
          "output_type": "stream",
          "name": "stderr",
          "text": [
            "RUNNING:  15%|█▌        | 23/150 [elapsed: 00:25 remaining: 02:20]"
          ]
        },
        {
          "output_type": "stream",
          "name": "stdout",
          "text": [
            "2025-04-10 19:07:52,418 Sleeping for 6s. Reason: RUNNING\n"
          ]
        },
        {
          "output_type": "stream",
          "name": "stderr",
          "text": [
            "COMPLETE: 100%|██████████| 150/150 [elapsed: 00:33 remaining: 00:00]\n"
          ]
        },
        {
          "output_type": "stream",
          "name": "stdout",
          "text": [
            "2025-04-10 19:08:02,047 alphafold2_ptm_model_1_seed_000 recycle=0 pLDDT=62.4 pTM=0.058\n",
            "2025-04-10 19:08:02,588 alphafold2_ptm_model_1_seed_000 recycle=1 pLDDT=66.1 pTM=0.066 tol=1.05\n",
            "2025-04-10 19:08:03,129 alphafold2_ptm_model_1_seed_000 recycle=2 pLDDT=71.9 pTM=0.0745 tol=0.985\n",
            "2025-04-10 19:08:03,668 alphafold2_ptm_model_1_seed_000 recycle=3 pLDDT=75.7 pTM=0.0828 tol=0.266\n",
            "2025-04-10 19:08:03,669 alphafold2_ptm_model_1_seed_000 took 2.2s (3 recycles)\n",
            "2025-04-10 19:08:04,217 alphafold2_ptm_model_2_seed_000 recycle=0 pLDDT=59.7 pTM=0.0556\n",
            "2025-04-10 19:08:04,757 alphafold2_ptm_model_2_seed_000 recycle=1 pLDDT=60.7 pTM=0.062 tol=1.68\n",
            "2025-04-10 19:08:05,296 alphafold2_ptm_model_2_seed_000 recycle=2 pLDDT=66.8 pTM=0.0734 tol=0.764\n",
            "2025-04-10 19:08:05,836 alphafold2_ptm_model_2_seed_000 recycle=3 pLDDT=71.2 pTM=0.0811 tol=0.0928\n",
            "2025-04-10 19:08:05,837 alphafold2_ptm_model_2_seed_000 took 2.2s (3 recycles)\n",
            "2025-04-10 19:08:06,385 alphafold2_ptm_model_3_seed_000 recycle=0 pLDDT=60.9 pTM=0.0489\n",
            "2025-04-10 19:08:06,924 alphafold2_ptm_model_3_seed_000 recycle=1 pLDDT=63.5 pTM=0.0576 tol=2.3\n",
            "2025-04-10 19:08:07,464 alphafold2_ptm_model_3_seed_000 recycle=2 pLDDT=74.1 pTM=0.0736 tol=1.81\n",
            "2025-04-10 19:08:08,003 alphafold2_ptm_model_3_seed_000 recycle=3 pLDDT=80.5 pTM=0.082 tol=0.122\n",
            "2025-04-10 19:08:08,004 alphafold2_ptm_model_3_seed_000 took 2.2s (3 recycles)\n",
            "2025-04-10 19:08:08,553 alphafold2_ptm_model_4_seed_000 recycle=0 pLDDT=64.6 pTM=0.0645\n",
            "2025-04-10 19:08:09,093 alphafold2_ptm_model_4_seed_000 recycle=1 pLDDT=74.1 pTM=0.0808 tol=1.79\n",
            "2025-04-10 19:08:09,634 alphafold2_ptm_model_4_seed_000 recycle=2 pLDDT=80.4 pTM=0.0911 tol=0.245\n",
            "2025-04-10 19:08:10,174 alphafold2_ptm_model_4_seed_000 recycle=3 pLDDT=83 pTM=0.0942 tol=0.0974\n",
            "2025-04-10 19:08:10,174 alphafold2_ptm_model_4_seed_000 took 2.2s (3 recycles)\n",
            "2025-04-10 19:08:10,736 alphafold2_ptm_model_5_seed_000 recycle=0 pLDDT=71.8 pTM=0.0698\n",
            "2025-04-10 19:08:11,276 alphafold2_ptm_model_5_seed_000 recycle=1 pLDDT=75.2 pTM=0.0803 tol=0.251\n",
            "2025-04-10 19:08:11,816 alphafold2_ptm_model_5_seed_000 recycle=2 pLDDT=76.9 pTM=0.0829 tol=0.164\n",
            "2025-04-10 19:08:12,357 alphafold2_ptm_model_5_seed_000 recycle=3 pLDDT=77.6 pTM=0.0842 tol=0.0528\n",
            "2025-04-10 19:08:12,358 alphafold2_ptm_model_5_seed_000 took 2.2s (3 recycles)\n",
            "2025-04-10 19:08:12,367 reranking models by 'plddt' metric\n",
            "2025-04-10 19:08:12,367 rank_001_alphafold2_ptm_model_4_seed_000 pLDDT=83 pTM=0.0942\n",
            "2025-04-10 19:08:12,369 rank_002_alphafold2_ptm_model_3_seed_000 pLDDT=80.5 pTM=0.082\n",
            "2025-04-10 19:08:12,372 rank_003_alphafold2_ptm_model_5_seed_000 pLDDT=77.6 pTM=0.0842\n",
            "2025-04-10 19:08:12,374 rank_004_alphafold2_ptm_model_1_seed_000 pLDDT=75.7 pTM=0.0828\n",
            "2025-04-10 19:08:12,377 rank_005_alphafold2_ptm_model_2_seed_000 pLDDT=71.2 pTM=0.0811\n",
            "2025-04-10 19:08:13,359 Query 495/8000: sequence_2495 (length 20)\n"
          ]
        },
        {
          "output_type": "stream",
          "name": "stderr",
          "text": [
            "PENDING:   0%|          | 0/150 [elapsed: 00:00 remaining: ?]"
          ]
        },
        {
          "output_type": "stream",
          "name": "stdout",
          "text": [
            "2025-04-10 19:08:14,053 Sleeping for 9s. Reason: PENDING\n"
          ]
        },
        {
          "output_type": "stream",
          "name": "stderr",
          "text": [
            "PENDING:   0%|          | 0/150 [elapsed: 00:10 remaining: ?]"
          ]
        },
        {
          "output_type": "stream",
          "name": "stdout",
          "text": [
            "2025-04-10 19:08:23,737 Sleeping for 8s. Reason: PENDING\n"
          ]
        },
        {
          "output_type": "stream",
          "name": "stderr",
          "text": [
            "PENDING:   0%|          | 0/150 [elapsed: 00:19 remaining: ?]"
          ]
        },
        {
          "output_type": "stream",
          "name": "stdout",
          "text": [
            "2025-04-10 19:08:32,424 Sleeping for 10s. Reason: PENDING\n"
          ]
        },
        {
          "output_type": "stream",
          "name": "stderr",
          "text": [
            "COMPLETE: 100%|██████████| 150/150 [elapsed: 00:30 remaining: 00:00]\n"
          ]
        },
        {
          "output_type": "stream",
          "name": "stdout",
          "text": [
            "2025-04-10 19:08:46,057 alphafold2_ptm_model_1_seed_000 recycle=0 pLDDT=68 pTM=0.0676\n",
            "2025-04-10 19:08:46,597 alphafold2_ptm_model_1_seed_000 recycle=1 pLDDT=68.2 pTM=0.0707 tol=0.16\n",
            "2025-04-10 19:08:47,137 alphafold2_ptm_model_1_seed_000 recycle=2 pLDDT=66.4 pTM=0.0679 tol=0.268\n",
            "2025-04-10 19:08:47,676 alphafold2_ptm_model_1_seed_000 recycle=3 pLDDT=64.9 pTM=0.0676 tol=0.141\n",
            "2025-04-10 19:08:47,677 alphafold2_ptm_model_1_seed_000 took 2.2s (3 recycles)\n",
            "2025-04-10 19:08:48,226 alphafold2_ptm_model_2_seed_000 recycle=0 pLDDT=59.4 pTM=0.0555\n",
            "2025-04-10 19:08:48,765 alphafold2_ptm_model_2_seed_000 recycle=1 pLDDT=58.7 pTM=0.0547 tol=0.33\n",
            "2025-04-10 19:08:49,305 alphafold2_ptm_model_2_seed_000 recycle=2 pLDDT=57.7 pTM=0.0533 tol=0.379\n",
            "2025-04-10 19:08:49,846 alphafold2_ptm_model_2_seed_000 recycle=3 pLDDT=55.7 pTM=0.0501 tol=0.717\n",
            "2025-04-10 19:08:49,846 alphafold2_ptm_model_2_seed_000 took 2.2s (3 recycles)\n",
            "2025-04-10 19:08:50,396 alphafold2_ptm_model_3_seed_000 recycle=0 pLDDT=63.8 pTM=0.0558\n",
            "2025-04-10 19:08:50,936 alphafold2_ptm_model_3_seed_000 recycle=1 pLDDT=67.1 pTM=0.0618 tol=0.401\n",
            "2025-04-10 19:08:51,477 alphafold2_ptm_model_3_seed_000 recycle=2 pLDDT=66.8 pTM=0.0618 tol=0.135\n",
            "2025-04-10 19:08:52,017 alphafold2_ptm_model_3_seed_000 recycle=3 pLDDT=64.4 pTM=0.0593 tol=0.368\n",
            "2025-04-10 19:08:52,017 alphafold2_ptm_model_3_seed_000 took 2.2s (3 recycles)\n",
            "2025-04-10 19:08:52,567 alphafold2_ptm_model_4_seed_000 recycle=0 pLDDT=65.2 pTM=0.0602\n",
            "2025-04-10 19:08:53,108 alphafold2_ptm_model_4_seed_000 recycle=1 pLDDT=65.6 pTM=0.0624 tol=0.32\n",
            "2025-04-10 19:08:53,649 alphafold2_ptm_model_4_seed_000 recycle=2 pLDDT=65.3 pTM=0.0615 tol=0.0947\n",
            "2025-04-10 19:08:54,190 alphafold2_ptm_model_4_seed_000 recycle=3 pLDDT=64.1 pTM=0.06 tol=0.146\n",
            "2025-04-10 19:08:54,191 alphafold2_ptm_model_4_seed_000 took 2.2s (3 recycles)\n",
            "2025-04-10 19:08:54,741 alphafold2_ptm_model_5_seed_000 recycle=0 pLDDT=68.9 pTM=0.0666\n",
            "2025-04-10 19:08:55,282 alphafold2_ptm_model_5_seed_000 recycle=1 pLDDT=68.2 pTM=0.0677 tol=0.141\n",
            "2025-04-10 19:08:55,822 alphafold2_ptm_model_5_seed_000 recycle=2 pLDDT=65.2 pTM=0.0656 tol=0.135\n",
            "2025-04-10 19:08:56,362 alphafold2_ptm_model_5_seed_000 recycle=3 pLDDT=64.6 pTM=0.0638 tol=0.0862\n",
            "2025-04-10 19:08:56,363 alphafold2_ptm_model_5_seed_000 took 2.2s (3 recycles)\n",
            "2025-04-10 19:08:56,387 reranking models by 'plddt' metric\n",
            "2025-04-10 19:08:56,387 rank_001_alphafold2_ptm_model_1_seed_000 pLDDT=64.9 pTM=0.0676\n",
            "2025-04-10 19:08:56,390 rank_002_alphafold2_ptm_model_5_seed_000 pLDDT=64.6 pTM=0.0638\n",
            "2025-04-10 19:08:56,392 rank_003_alphafold2_ptm_model_3_seed_000 pLDDT=64.4 pTM=0.0593\n",
            "2025-04-10 19:08:56,395 rank_004_alphafold2_ptm_model_4_seed_000 pLDDT=64.1 pTM=0.06\n",
            "2025-04-10 19:08:56,398 rank_005_alphafold2_ptm_model_2_seed_000 pLDDT=55.7 pTM=0.0501\n",
            "2025-04-10 19:08:57,373 Query 496/8000: sequence_2496 (length 20)\n"
          ]
        },
        {
          "output_type": "stream",
          "name": "stderr",
          "text": [
            "PENDING:   0%|          | 0/150 [elapsed: 00:00 remaining: ?]"
          ]
        },
        {
          "output_type": "stream",
          "name": "stdout",
          "text": [
            "2025-04-10 19:08:58,071 Sleeping for 5s. Reason: PENDING\n"
          ]
        },
        {
          "output_type": "stream",
          "name": "stderr",
          "text": [
            "RUNNING:   3%|▎         | 5/150 [elapsed: 00:06 remaining: 03:04]"
          ]
        },
        {
          "output_type": "stream",
          "name": "stdout",
          "text": [
            "2025-04-10 19:09:03,748 Sleeping for 9s. Reason: RUNNING\n"
          ]
        },
        {
          "output_type": "stream",
          "name": "stderr",
          "text": [
            "COMPLETE: 100%|██████████| 150/150 [elapsed: 00:16 remaining: 00:00]\n"
          ]
        },
        {
          "output_type": "stream",
          "name": "stdout",
          "text": [
            "2025-04-10 19:09:16,403 alphafold2_ptm_model_1_seed_000 recycle=0 pLDDT=68.8 pTM=0.0535\n",
            "2025-04-10 19:09:16,944 alphafold2_ptm_model_1_seed_000 recycle=1 pLDDT=69.1 pTM=0.0544 tol=0.591\n",
            "2025-04-10 19:09:17,483 alphafold2_ptm_model_1_seed_000 recycle=2 pLDDT=69.9 pTM=0.055 tol=0.428\n",
            "2025-04-10 19:09:18,023 alphafold2_ptm_model_1_seed_000 recycle=3 pLDDT=70.4 pTM=0.0551 tol=1.12\n",
            "2025-04-10 19:09:18,023 alphafold2_ptm_model_1_seed_000 took 2.2s (3 recycles)\n",
            "2025-04-10 19:09:18,573 alphafold2_ptm_model_2_seed_000 recycle=0 pLDDT=68.9 pTM=0.0545\n",
            "2025-04-10 19:09:19,112 alphafold2_ptm_model_2_seed_000 recycle=1 pLDDT=69.9 pTM=0.0554 tol=0.646\n",
            "2025-04-10 19:09:19,653 alphafold2_ptm_model_2_seed_000 recycle=2 pLDDT=70 pTM=0.0551 tol=0.264\n",
            "2025-04-10 19:09:20,193 alphafold2_ptm_model_2_seed_000 recycle=3 pLDDT=69.7 pTM=0.0555 tol=0.841\n",
            "2025-04-10 19:09:20,194 alphafold2_ptm_model_2_seed_000 took 2.2s (3 recycles)\n",
            "2025-04-10 19:09:20,744 alphafold2_ptm_model_3_seed_000 recycle=0 pLDDT=68.6 pTM=0.052\n",
            "2025-04-10 19:09:21,284 alphafold2_ptm_model_3_seed_000 recycle=1 pLDDT=69.8 pTM=0.0537 tol=0.599\n",
            "2025-04-10 19:09:21,823 alphafold2_ptm_model_3_seed_000 recycle=2 pLDDT=69.8 pTM=0.0536 tol=0.997\n",
            "2025-04-10 19:09:22,363 alphafold2_ptm_model_3_seed_000 recycle=3 pLDDT=72.1 pTM=0.0541 tol=1.4\n",
            "2025-04-10 19:09:22,363 alphafold2_ptm_model_3_seed_000 took 2.2s (3 recycles)\n",
            "2025-04-10 19:09:22,913 alphafold2_ptm_model_4_seed_000 recycle=0 pLDDT=73.8 pTM=0.0551\n",
            "2025-04-10 19:09:23,453 alphafold2_ptm_model_4_seed_000 recycle=1 pLDDT=71.4 pTM=0.0533 tol=0.301\n",
            "2025-04-10 19:09:23,993 alphafold2_ptm_model_4_seed_000 recycle=2 pLDDT=72.3 pTM=0.0542 tol=0.292\n",
            "2025-04-10 19:09:24,533 alphafold2_ptm_model_4_seed_000 recycle=3 pLDDT=71.2 pTM=0.0536 tol=0.349\n",
            "2025-04-10 19:09:24,534 alphafold2_ptm_model_4_seed_000 took 2.2s (3 recycles)\n",
            "2025-04-10 19:09:25,084 alphafold2_ptm_model_5_seed_000 recycle=0 pLDDT=70.8 pTM=0.0563\n",
            "2025-04-10 19:09:25,623 alphafold2_ptm_model_5_seed_000 recycle=1 pLDDT=72.7 pTM=0.0573 tol=1.23\n",
            "2025-04-10 19:09:26,163 alphafold2_ptm_model_5_seed_000 recycle=2 pLDDT=75.1 pTM=0.0594 tol=0.346\n",
            "2025-04-10 19:09:26,703 alphafold2_ptm_model_5_seed_000 recycle=3 pLDDT=75.8 pTM=0.0594 tol=0.452\n",
            "2025-04-10 19:09:26,703 alphafold2_ptm_model_5_seed_000 took 2.2s (3 recycles)\n",
            "2025-04-10 19:09:26,731 reranking models by 'plddt' metric\n",
            "2025-04-10 19:09:26,732 rank_001_alphafold2_ptm_model_5_seed_000 pLDDT=75.8 pTM=0.0594\n",
            "2025-04-10 19:09:26,734 rank_002_alphafold2_ptm_model_3_seed_000 pLDDT=72.1 pTM=0.0541\n",
            "2025-04-10 19:09:26,737 rank_003_alphafold2_ptm_model_4_seed_000 pLDDT=71.2 pTM=0.0536\n",
            "2025-04-10 19:09:26,739 rank_004_alphafold2_ptm_model_1_seed_000 pLDDT=70.4 pTM=0.0551\n",
            "2025-04-10 19:09:26,741 rank_005_alphafold2_ptm_model_2_seed_000 pLDDT=69.7 pTM=0.0555\n",
            "2025-04-10 19:09:27,728 Query 497/8000: sequence_2497 (length 20)\n"
          ]
        },
        {
          "output_type": "stream",
          "name": "stderr",
          "text": [
            "PENDING:   0%|          | 0/150 [elapsed: 00:00 remaining: ?]"
          ]
        },
        {
          "output_type": "stream",
          "name": "stdout",
          "text": [
            "2025-04-10 19:09:28,416 Sleeping for 10s. Reason: PENDING\n"
          ]
        },
        {
          "output_type": "stream",
          "name": "stderr",
          "text": [
            "PENDING:   0%|          | 0/150 [elapsed: 00:11 remaining: ?]"
          ]
        },
        {
          "output_type": "stream",
          "name": "stdout",
          "text": [
            "2025-04-10 19:09:39,095 Sleeping for 5s. Reason: PENDING\n"
          ]
        },
        {
          "output_type": "stream",
          "name": "stderr",
          "text": [
            "PENDING:   0%|          | 0/150 [elapsed: 00:17 remaining: ?]"
          ]
        },
        {
          "output_type": "stream",
          "name": "stdout",
          "text": [
            "2025-04-10 19:09:44,783 Sleeping for 7s. Reason: PENDING\n"
          ]
        },
        {
          "output_type": "stream",
          "name": "stderr",
          "text": [
            "RUNNING:   5%|▍         | 7/150 [elapsed: 00:24 remaining: 08:25]"
          ]
        },
        {
          "output_type": "stream",
          "name": "stdout",
          "text": [
            "2025-04-10 19:09:52,463 Sleeping for 6s. Reason: RUNNING\n"
          ]
        },
        {
          "output_type": "stream",
          "name": "stderr",
          "text": [
            "COMPLETE: 100%|██████████| 150/150 [elapsed: 00:32 remaining: 00:00]\n"
          ]
        },
        {
          "output_type": "stream",
          "name": "stdout",
          "text": [
            "2025-04-10 19:10:03,291 alphafold2_ptm_model_1_seed_000 recycle=0 pLDDT=77.6 pTM=0.0859\n",
            "2025-04-10 19:10:03,831 alphafold2_ptm_model_1_seed_000 recycle=1 pLDDT=76.1 pTM=0.0873 tol=0.295\n",
            "2025-04-10 19:10:04,372 alphafold2_ptm_model_1_seed_000 recycle=2 pLDDT=76.9 pTM=0.0886 tol=0.139\n",
            "2025-04-10 19:10:04,912 alphafold2_ptm_model_1_seed_000 recycle=3 pLDDT=77.3 pTM=0.0907 tol=0.19\n",
            "2025-04-10 19:10:04,913 alphafold2_ptm_model_1_seed_000 took 2.2s (3 recycles)\n",
            "2025-04-10 19:10:05,463 alphafold2_ptm_model_2_seed_000 recycle=0 pLDDT=77.4 pTM=0.0908\n",
            "2025-04-10 19:10:06,004 alphafold2_ptm_model_2_seed_000 recycle=1 pLDDT=72.9 pTM=0.0861 tol=0.163\n",
            "2025-04-10 19:10:06,544 alphafold2_ptm_model_2_seed_000 recycle=2 pLDDT=72 pTM=0.0848 tol=0.213\n",
            "2025-04-10 19:10:07,085 alphafold2_ptm_model_2_seed_000 recycle=3 pLDDT=71.7 pTM=0.0861 tol=0.0817\n",
            "2025-04-10 19:10:07,086 alphafold2_ptm_model_2_seed_000 took 2.2s (3 recycles)\n",
            "2025-04-10 19:10:07,635 alphafold2_ptm_model_3_seed_000 recycle=0 pLDDT=57.9 pTM=0.0487\n",
            "2025-04-10 19:10:08,175 alphafold2_ptm_model_3_seed_000 recycle=1 pLDDT=56.9 pTM=0.0479 tol=5.96\n",
            "2025-04-10 19:10:08,714 alphafold2_ptm_model_3_seed_000 recycle=2 pLDDT=57.9 pTM=0.0457 tol=3.91\n",
            "2025-04-10 19:10:09,255 alphafold2_ptm_model_3_seed_000 recycle=3 pLDDT=76.5 pTM=0.0652 tol=1.15\n",
            "2025-04-10 19:10:09,256 alphafold2_ptm_model_3_seed_000 took 2.2s (3 recycles)\n",
            "2025-04-10 19:10:09,806 alphafold2_ptm_model_4_seed_000 recycle=0 pLDDT=62.2 pTM=0.0577\n",
            "2025-04-10 19:10:10,346 alphafold2_ptm_model_4_seed_000 recycle=1 pLDDT=61.2 pTM=0.0591 tol=0.54\n",
            "2025-04-10 19:10:10,887 alphafold2_ptm_model_4_seed_000 recycle=2 pLDDT=67.5 pTM=0.072 tol=0.671\n",
            "2025-04-10 19:10:11,427 alphafold2_ptm_model_4_seed_000 recycle=3 pLDDT=73.6 pTM=0.0805 tol=1\n",
            "2025-04-10 19:10:11,427 alphafold2_ptm_model_4_seed_000 took 2.2s (3 recycles)\n",
            "2025-04-10 19:10:11,976 alphafold2_ptm_model_5_seed_000 recycle=0 pLDDT=80.1 pTM=0.0897\n",
            "2025-04-10 19:10:12,516 alphafold2_ptm_model_5_seed_000 recycle=1 pLDDT=80.9 pTM=0.092 tol=0.105\n",
            "2025-04-10 19:10:13,056 alphafold2_ptm_model_5_seed_000 recycle=2 pLDDT=81.9 pTM=0.0942 tol=0.125\n",
            "2025-04-10 19:10:13,596 alphafold2_ptm_model_5_seed_000 recycle=3 pLDDT=81.6 pTM=0.0956 tol=0.123\n",
            "2025-04-10 19:10:13,597 alphafold2_ptm_model_5_seed_000 took 2.2s (3 recycles)\n",
            "2025-04-10 19:10:13,621 reranking models by 'plddt' metric\n",
            "2025-04-10 19:10:13,621 rank_001_alphafold2_ptm_model_5_seed_000 pLDDT=81.6 pTM=0.0956\n",
            "2025-04-10 19:10:13,624 rank_002_alphafold2_ptm_model_1_seed_000 pLDDT=77.3 pTM=0.0907\n",
            "2025-04-10 19:10:13,626 rank_003_alphafold2_ptm_model_3_seed_000 pLDDT=76.5 pTM=0.0652\n",
            "2025-04-10 19:10:13,629 rank_004_alphafold2_ptm_model_4_seed_000 pLDDT=73.6 pTM=0.0805\n",
            "2025-04-10 19:10:13,631 rank_005_alphafold2_ptm_model_2_seed_000 pLDDT=71.7 pTM=0.0861\n",
            "2025-04-10 19:10:14,624 Query 498/8000: sequence_2498 (length 20)\n"
          ]
        },
        {
          "output_type": "stream",
          "name": "stderr",
          "text": [
            "PENDING:   0%|          | 0/150 [elapsed: 00:00 remaining: ?]"
          ]
        },
        {
          "output_type": "stream",
          "name": "stdout",
          "text": [
            "2025-04-10 19:10:15,336 Sleeping for 6s. Reason: PENDING\n"
          ]
        },
        {
          "output_type": "stream",
          "name": "stderr",
          "text": [
            "RUNNING:   4%|▍         | 6/150 [elapsed: 00:07 remaining: 02:57]"
          ]
        },
        {
          "output_type": "stream",
          "name": "stdout",
          "text": [
            "2025-04-10 19:10:22,022 Sleeping for 9s. Reason: RUNNING\n"
          ]
        },
        {
          "output_type": "stream",
          "name": "stderr",
          "text": [
            "COMPLETE: 100%|██████████| 150/150 [elapsed: 00:17 remaining: 00:00]\n"
          ]
        },
        {
          "output_type": "stream",
          "name": "stdout",
          "text": [
            "2025-04-10 19:10:34,696 alphafold2_ptm_model_1_seed_000 recycle=0 pLDDT=55.6 pTM=0.0499\n",
            "2025-04-10 19:10:35,236 alphafold2_ptm_model_1_seed_000 recycle=1 pLDDT=56.1 pTM=0.0485 tol=4.11\n",
            "2025-04-10 19:10:35,775 alphafold2_ptm_model_1_seed_000 recycle=2 pLDDT=57.4 pTM=0.0489 tol=0.751\n",
            "2025-04-10 19:10:36,315 alphafold2_ptm_model_1_seed_000 recycle=3 pLDDT=59.1 pTM=0.0495 tol=0.367\n",
            "2025-04-10 19:10:36,316 alphafold2_ptm_model_1_seed_000 took 2.2s (3 recycles)\n",
            "2025-04-10 19:10:36,865 alphafold2_ptm_model_2_seed_000 recycle=0 pLDDT=62.1 pTM=0.0493\n",
            "2025-04-10 19:10:37,405 alphafold2_ptm_model_2_seed_000 recycle=1 pLDDT=62 pTM=0.0508 tol=0.513\n",
            "2025-04-10 19:10:37,945 alphafold2_ptm_model_2_seed_000 recycle=2 pLDDT=60.8 pTM=0.0479 tol=0.417\n",
            "2025-04-10 19:10:38,485 alphafold2_ptm_model_2_seed_000 recycle=3 pLDDT=60.8 pTM=0.0479 tol=0.627\n",
            "2025-04-10 19:10:38,485 alphafold2_ptm_model_2_seed_000 took 2.2s (3 recycles)\n",
            "2025-04-10 19:10:39,034 alphafold2_ptm_model_3_seed_000 recycle=0 pLDDT=59.9 pTM=0.0466\n",
            "2025-04-10 19:10:39,574 alphafold2_ptm_model_3_seed_000 recycle=1 pLDDT=58.7 pTM=0.0466 tol=2.78\n",
            "2025-04-10 19:10:40,114 alphafold2_ptm_model_3_seed_000 recycle=2 pLDDT=59.2 pTM=0.0466 tol=1.06\n",
            "2025-04-10 19:10:40,654 alphafold2_ptm_model_3_seed_000 recycle=3 pLDDT=58.2 pTM=0.0471 tol=0.487\n",
            "2025-04-10 19:10:40,654 alphafold2_ptm_model_3_seed_000 took 2.2s (3 recycles)\n",
            "2025-04-10 19:10:41,204 alphafold2_ptm_model_4_seed_000 recycle=0 pLDDT=61.8 pTM=0.0466\n",
            "2025-04-10 19:10:41,744 alphafold2_ptm_model_4_seed_000 recycle=1 pLDDT=59.5 pTM=0.0475 tol=1.24\n",
            "2025-04-10 19:10:42,286 alphafold2_ptm_model_4_seed_000 recycle=2 pLDDT=57.4 pTM=0.0462 tol=0.708\n",
            "2025-04-10 19:10:42,827 alphafold2_ptm_model_4_seed_000 recycle=3 pLDDT=58.2 pTM=0.0463 tol=2.69\n",
            "2025-04-10 19:10:42,827 alphafold2_ptm_model_4_seed_000 took 2.2s (3 recycles)\n",
            "2025-04-10 19:10:43,378 alphafold2_ptm_model_5_seed_000 recycle=0 pLDDT=55 pTM=0.0471\n",
            "2025-04-10 19:10:43,919 alphafold2_ptm_model_5_seed_000 recycle=1 pLDDT=53 pTM=0.0451 tol=2.36\n",
            "2025-04-10 19:10:44,460 alphafold2_ptm_model_5_seed_000 recycle=2 pLDDT=56 pTM=0.0454 tol=3.59\n",
            "2025-04-10 19:10:45,001 alphafold2_ptm_model_5_seed_000 recycle=3 pLDDT=54 pTM=0.0455 tol=0.896\n",
            "2025-04-10 19:10:45,001 alphafold2_ptm_model_5_seed_000 took 2.2s (3 recycles)\n",
            "2025-04-10 19:10:45,011 reranking models by 'plddt' metric\n",
            "2025-04-10 19:10:45,011 rank_001_alphafold2_ptm_model_2_seed_000 pLDDT=60.8 pTM=0.0479\n",
            "2025-04-10 19:10:45,029 rank_002_alphafold2_ptm_model_1_seed_000 pLDDT=59.1 pTM=0.0495\n",
            "2025-04-10 19:10:45,031 rank_003_alphafold2_ptm_model_4_seed_000 pLDDT=58.2 pTM=0.0463\n",
            "2025-04-10 19:10:45,034 rank_004_alphafold2_ptm_model_3_seed_000 pLDDT=58.2 pTM=0.0471\n",
            "2025-04-10 19:10:45,036 rank_005_alphafold2_ptm_model_5_seed_000 pLDDT=54 pTM=0.0455\n",
            "2025-04-10 19:10:46,044 Query 499/8000: sequence_2499 (length 20)\n"
          ]
        },
        {
          "output_type": "stream",
          "name": "stderr",
          "text": [
            "PENDING:   0%|          | 0/150 [elapsed: 00:00 remaining: ?]"
          ]
        },
        {
          "output_type": "stream",
          "name": "stdout",
          "text": [
            "2025-04-10 19:10:46,734 Sleeping for 7s. Reason: PENDING\n"
          ]
        },
        {
          "output_type": "stream",
          "name": "stderr",
          "text": [
            "RUNNING:   5%|▍         | 7/150 [elapsed: 00:08 remaining: 02:50]"
          ]
        },
        {
          "output_type": "stream",
          "name": "stdout",
          "text": [
            "2025-04-10 19:10:54,412 Sleeping for 8s. Reason: RUNNING\n"
          ]
        },
        {
          "output_type": "stream",
          "name": "stderr",
          "text": [
            "COMPLETE: 100%|██████████| 150/150 [elapsed: 00:17 remaining: 00:00]\n"
          ]
        },
        {
          "output_type": "stream",
          "name": "stdout",
          "text": [
            "2025-04-10 19:11:06,106 alphafold2_ptm_model_1_seed_000 recycle=0 pLDDT=68.1 pTM=0.0667\n",
            "2025-04-10 19:11:06,646 alphafold2_ptm_model_1_seed_000 recycle=1 pLDDT=67.3 pTM=0.0726 tol=1.08\n",
            "2025-04-10 19:11:07,187 alphafold2_ptm_model_1_seed_000 recycle=2 pLDDT=72.4 pTM=0.0805 tol=0.605\n",
            "2025-04-10 19:11:07,726 alphafold2_ptm_model_1_seed_000 recycle=3 pLDDT=71.6 pTM=0.0812 tol=0.173\n",
            "2025-04-10 19:11:07,727 alphafold2_ptm_model_1_seed_000 took 2.2s (3 recycles)\n",
            "2025-04-10 19:11:08,277 alphafold2_ptm_model_2_seed_000 recycle=0 pLDDT=68.6 pTM=0.077\n",
            "2025-04-10 19:11:08,817 alphafold2_ptm_model_2_seed_000 recycle=1 pLDDT=66.5 pTM=0.0789 tol=0.12\n",
            "2025-04-10 19:11:09,356 alphafold2_ptm_model_2_seed_000 recycle=2 pLDDT=69.4 pTM=0.0806 tol=0.0459\n",
            "2025-04-10 19:11:09,897 alphafold2_ptm_model_2_seed_000 recycle=3 pLDDT=68.4 pTM=0.0826 tol=0.123\n",
            "2025-04-10 19:11:09,897 alphafold2_ptm_model_2_seed_000 took 2.2s (3 recycles)\n",
            "2025-04-10 19:11:10,447 alphafold2_ptm_model_3_seed_000 recycle=0 pLDDT=66.8 pTM=0.0562\n",
            "2025-04-10 19:11:10,988 alphafold2_ptm_model_3_seed_000 recycle=1 pLDDT=72.2 pTM=0.072 tol=0.52\n",
            "2025-04-10 19:11:11,528 alphafold2_ptm_model_3_seed_000 recycle=2 pLDDT=75.2 pTM=0.0773 tol=0.0677\n",
            "2025-04-10 19:11:12,068 alphafold2_ptm_model_3_seed_000 recycle=3 pLDDT=74.6 pTM=0.0773 tol=0.0922\n",
            "2025-04-10 19:11:12,069 alphafold2_ptm_model_3_seed_000 took 2.2s (3 recycles)\n",
            "2025-04-10 19:11:12,618 alphafold2_ptm_model_4_seed_000 recycle=0 pLDDT=61.1 pTM=0.0474\n",
            "2025-04-10 19:11:13,158 alphafold2_ptm_model_4_seed_000 recycle=1 pLDDT=67.3 pTM=0.0644 tol=1.42\n",
            "2025-04-10 19:11:13,699 alphafold2_ptm_model_4_seed_000 recycle=2 pLDDT=73 pTM=0.0781 tol=0.202\n",
            "2025-04-10 19:11:14,239 alphafold2_ptm_model_4_seed_000 recycle=3 pLDDT=72.8 pTM=0.0812 tol=0.0858\n",
            "2025-04-10 19:11:14,239 alphafold2_ptm_model_4_seed_000 took 2.2s (3 recycles)\n",
            "2025-04-10 19:11:14,789 alphafold2_ptm_model_5_seed_000 recycle=0 pLDDT=77.4 pTM=0.0808\n",
            "2025-04-10 19:11:15,330 alphafold2_ptm_model_5_seed_000 recycle=1 pLDDT=76.6 pTM=0.0856 tol=0.103\n",
            "2025-04-10 19:11:15,869 alphafold2_ptm_model_5_seed_000 recycle=2 pLDDT=78.4 pTM=0.0904 tol=0.0616\n",
            "2025-04-10 19:11:16,410 alphafold2_ptm_model_5_seed_000 recycle=3 pLDDT=77.2 pTM=0.09 tol=0.0847\n",
            "2025-04-10 19:11:16,410 alphafold2_ptm_model_5_seed_000 took 2.2s (3 recycles)\n",
            "2025-04-10 19:11:16,420 reranking models by 'plddt' metric\n",
            "2025-04-10 19:11:16,420 rank_001_alphafold2_ptm_model_5_seed_000 pLDDT=77.2 pTM=0.09\n",
            "2025-04-10 19:11:16,433 rank_002_alphafold2_ptm_model_3_seed_000 pLDDT=74.6 pTM=0.0773\n",
            "2025-04-10 19:11:16,436 rank_003_alphafold2_ptm_model_4_seed_000 pLDDT=72.8 pTM=0.0812\n",
            "2025-04-10 19:11:16,439 rank_004_alphafold2_ptm_model_1_seed_000 pLDDT=71.6 pTM=0.0812\n",
            "2025-04-10 19:11:16,441 rank_005_alphafold2_ptm_model_2_seed_000 pLDDT=68.4 pTM=0.0826\n",
            "2025-04-10 19:11:17,429 Query 500/8000: sequence_2500 (length 20)\n"
          ]
        },
        {
          "output_type": "stream",
          "name": "stderr",
          "text": [
            "PENDING:   0%|          | 0/150 [elapsed: 00:00 remaining: ?]"
          ]
        },
        {
          "output_type": "stream",
          "name": "stdout",
          "text": [
            "2025-04-10 19:11:18,121 Sleeping for 9s. Reason: PENDING\n"
          ]
        },
        {
          "output_type": "stream",
          "name": "stderr",
          "text": [
            "RUNNING:   6%|▌         | 9/150 [elapsed: 00:10 remaining: 02:42]"
          ]
        },
        {
          "output_type": "stream",
          "name": "stdout",
          "text": [
            "2025-04-10 19:11:27,806 Sleeping for 5s. Reason: RUNNING\n"
          ]
        },
        {
          "output_type": "stream",
          "name": "stderr",
          "text": [
            "COMPLETE: 100%|██████████| 150/150 [elapsed: 00:16 remaining: 00:00]\n"
          ]
        },
        {
          "output_type": "stream",
          "name": "stdout",
          "text": [
            "2025-04-10 19:11:36,478 alphafold2_ptm_model_1_seed_000 recycle=0 pLDDT=60.1 pTM=0.0488\n",
            "2025-04-10 19:11:37,018 alphafold2_ptm_model_1_seed_000 recycle=1 pLDDT=61 pTM=0.052 tol=1.34\n",
            "2025-04-10 19:11:37,558 alphafold2_ptm_model_1_seed_000 recycle=2 pLDDT=63.3 pTM=0.0546 tol=0.897\n",
            "2025-04-10 19:11:38,098 alphafold2_ptm_model_1_seed_000 recycle=3 pLDDT=63.6 pTM=0.0555 tol=0.852\n",
            "2025-04-10 19:11:38,098 alphafold2_ptm_model_1_seed_000 took 2.2s (3 recycles)\n",
            "2025-04-10 19:11:38,648 alphafold2_ptm_model_2_seed_000 recycle=0 pLDDT=60 pTM=0.0485\n",
            "2025-04-10 19:11:39,188 alphafold2_ptm_model_2_seed_000 recycle=1 pLDDT=60.7 pTM=0.0517 tol=1.19\n",
            "2025-04-10 19:11:39,727 alphafold2_ptm_model_2_seed_000 recycle=2 pLDDT=62.2 pTM=0.0534 tol=0.51\n",
            "2025-04-10 19:11:40,267 alphafold2_ptm_model_2_seed_000 recycle=3 pLDDT=61.5 pTM=0.0542 tol=0.464\n",
            "2025-04-10 19:11:40,267 alphafold2_ptm_model_2_seed_000 took 2.2s (3 recycles)\n",
            "2025-04-10 19:11:40,817 alphafold2_ptm_model_3_seed_000 recycle=0 pLDDT=62 pTM=0.0492\n",
            "2025-04-10 19:11:41,357 alphafold2_ptm_model_3_seed_000 recycle=1 pLDDT=62.3 pTM=0.0511 tol=0.692\n",
            "2025-04-10 19:11:41,898 alphafold2_ptm_model_3_seed_000 recycle=2 pLDDT=63.5 pTM=0.0495 tol=0.794\n",
            "2025-04-10 19:11:42,438 alphafold2_ptm_model_3_seed_000 recycle=3 pLDDT=63.4 pTM=0.0486 tol=0.517\n",
            "2025-04-10 19:11:42,439 alphafold2_ptm_model_3_seed_000 took 2.2s (3 recycles)\n",
            "2025-04-10 19:11:42,990 alphafold2_ptm_model_4_seed_000 recycle=0 pLDDT=62.8 pTM=0.0512\n",
            "2025-04-10 19:11:43,530 alphafold2_ptm_model_4_seed_000 recycle=1 pLDDT=63.1 pTM=0.0534 tol=0.881\n",
            "2025-04-10 19:11:44,070 alphafold2_ptm_model_4_seed_000 recycle=2 pLDDT=64.1 pTM=0.0551 tol=0.593\n",
            "2025-04-10 19:11:44,610 alphafold2_ptm_model_4_seed_000 recycle=3 pLDDT=63.9 pTM=0.0558 tol=0.759\n",
            "2025-04-10 19:11:44,611 alphafold2_ptm_model_4_seed_000 took 2.2s (3 recycles)\n",
            "2025-04-10 19:11:45,162 alphafold2_ptm_model_5_seed_000 recycle=0 pLDDT=56.5 pTM=0.0475\n",
            "2025-04-10 19:11:45,703 alphafold2_ptm_model_5_seed_000 recycle=1 pLDDT=58.4 pTM=0.0485 tol=1.09\n",
            "2025-04-10 19:11:46,242 alphafold2_ptm_model_5_seed_000 recycle=2 pLDDT=61.2 pTM=0.049 tol=0.399\n",
            "2025-04-10 19:11:46,782 alphafold2_ptm_model_5_seed_000 recycle=3 pLDDT=62.6 pTM=0.0496 tol=0.676\n",
            "2025-04-10 19:11:46,783 alphafold2_ptm_model_5_seed_000 took 2.2s (3 recycles)\n",
            "2025-04-10 19:11:46,806 reranking models by 'plddt' metric\n",
            "2025-04-10 19:11:46,806 rank_001_alphafold2_ptm_model_4_seed_000 pLDDT=63.9 pTM=0.0558\n",
            "2025-04-10 19:11:46,811 rank_002_alphafold2_ptm_model_1_seed_000 pLDDT=63.6 pTM=0.0555\n",
            "2025-04-10 19:11:46,813 rank_003_alphafold2_ptm_model_3_seed_000 pLDDT=63.4 pTM=0.0486\n",
            "2025-04-10 19:11:46,816 rank_004_alphafold2_ptm_model_5_seed_000 pLDDT=62.6 pTM=0.0496\n",
            "2025-04-10 19:11:46,819 rank_005_alphafold2_ptm_model_2_seed_000 pLDDT=61.5 pTM=0.0542\n",
            "2025-04-10 19:11:47,838 Query 501/8000: sequence_2501 (length 20)\n"
          ]
        },
        {
          "output_type": "stream",
          "name": "stderr",
          "text": [
            "PENDING:   0%|          | 0/150 [elapsed: 00:00 remaining: ?]"
          ]
        },
        {
          "output_type": "stream",
          "name": "stdout",
          "text": [
            "2025-04-10 19:11:48,525 Sleeping for 6s. Reason: PENDING\n"
          ]
        },
        {
          "output_type": "stream",
          "name": "stderr",
          "text": [
            "PENDING:   0%|          | 0/150 [elapsed: 00:07 remaining: ?]"
          ]
        },
        {
          "output_type": "stream",
          "name": "stdout",
          "text": [
            "2025-04-10 19:11:55,360 Sleeping for 8s. Reason: PENDING\n"
          ]
        },
        {
          "output_type": "stream",
          "name": "stderr",
          "text": [
            "PENDING:   0%|          | 0/150 [elapsed: 00:16 remaining: ?]"
          ]
        },
        {
          "output_type": "stream",
          "name": "stdout",
          "text": [
            "2025-04-10 19:12:04,043 Sleeping for 5s. Reason: PENDING\n"
          ]
        },
        {
          "output_type": "stream",
          "name": "stderr",
          "text": [
            "PENDING:   0%|          | 0/150 [elapsed: 00:21 remaining: ?]"
          ]
        },
        {
          "output_type": "stream",
          "name": "stdout",
          "text": [
            "2025-04-10 19:12:09,726 Sleeping for 5s. Reason: PENDING\n"
          ]
        },
        {
          "output_type": "stream",
          "name": "stderr",
          "text": [
            "PENDING:   0%|          | 0/150 [elapsed: 00:27 remaining: ?]"
          ]
        },
        {
          "output_type": "stream",
          "name": "stdout",
          "text": [
            "2025-04-10 19:12:15,410 Sleeping for 8s. Reason: PENDING\n"
          ]
        },
        {
          "output_type": "stream",
          "name": "stderr",
          "text": [
            "PENDING:   0%|          | 0/150 [elapsed: 00:36 remaining: ?]"
          ]
        },
        {
          "output_type": "stream",
          "name": "stdout",
          "text": [
            "2025-04-10 19:12:24,094 Sleeping for 8s. Reason: PENDING\n"
          ]
        },
        {
          "output_type": "stream",
          "name": "stderr",
          "text": [
            "PENDING:   0%|          | 0/150 [elapsed: 00:44 remaining: ?]"
          ]
        },
        {
          "output_type": "stream",
          "name": "stdout",
          "text": [
            "2025-04-10 19:12:32,781 Sleeping for 8s. Reason: PENDING\n"
          ]
        },
        {
          "output_type": "stream",
          "name": "stderr",
          "text": [
            "PENDING:   0%|          | 0/150 [elapsed: 00:53 remaining: ?]"
          ]
        },
        {
          "output_type": "stream",
          "name": "stdout",
          "text": [
            "2025-04-10 19:12:41,462 Sleeping for 5s. Reason: PENDING\n"
          ]
        },
        {
          "output_type": "stream",
          "name": "stderr",
          "text": [
            "PENDING:   0%|          | 0/150 [elapsed: 00:59 remaining: ?]"
          ]
        },
        {
          "output_type": "stream",
          "name": "stdout",
          "text": [
            "2025-04-10 19:12:47,145 Sleeping for 6s. Reason: PENDING\n"
          ]
        },
        {
          "output_type": "stream",
          "name": "stderr",
          "text": [
            "PENDING:   0%|          | 0/150 [elapsed: 01:05 remaining: ?]"
          ]
        },
        {
          "output_type": "stream",
          "name": "stdout",
          "text": [
            "2025-04-10 19:12:53,827 Sleeping for 8s. Reason: PENDING\n"
          ]
        },
        {
          "output_type": "stream",
          "name": "stderr",
          "text": [
            "RUNNING:   5%|▌         | 8/150 [elapsed: 01:14 remaining: 22:05]"
          ]
        },
        {
          "output_type": "stream",
          "name": "stdout",
          "text": [
            "2025-04-10 19:13:02,498 Sleeping for 6s. Reason: RUNNING\n"
          ]
        },
        {
          "output_type": "stream",
          "name": "stderr",
          "text": [
            "RUNNING:   9%|▉         | 14/150 [elapsed: 01:21 remaining: 11:31]"
          ]
        },
        {
          "output_type": "stream",
          "name": "stdout",
          "text": [
            "2025-04-10 19:13:09,183 Sleeping for 9s. Reason: RUNNING\n"
          ]
        },
        {
          "output_type": "stream",
          "name": "stderr",
          "text": [
            "COMPLETE: 100%|██████████| 150/150 [elapsed: 01:31 remaining: 00:00]\n"
          ]
        },
        {
          "output_type": "stream",
          "name": "stdout",
          "text": [
            "2025-04-10 19:13:21,839 alphafold2_ptm_model_1_seed_000 recycle=0 pLDDT=56.9 pTM=0.0475\n",
            "2025-04-10 19:13:22,380 alphafold2_ptm_model_1_seed_000 recycle=1 pLDDT=56.6 pTM=0.0468 tol=0.58\n",
            "2025-04-10 19:13:22,921 alphafold2_ptm_model_1_seed_000 recycle=2 pLDDT=55.6 pTM=0.045 tol=1.11\n",
            "2025-04-10 19:13:23,460 alphafold2_ptm_model_1_seed_000 recycle=3 pLDDT=57.9 pTM=0.0457 tol=0.742\n",
            "2025-04-10 19:13:23,461 alphafold2_ptm_model_1_seed_000 took 2.2s (3 recycles)\n",
            "2025-04-10 19:13:24,010 alphafold2_ptm_model_2_seed_000 recycle=0 pLDDT=55.3 pTM=0.0491\n",
            "2025-04-10 19:13:24,550 alphafold2_ptm_model_2_seed_000 recycle=1 pLDDT=55.2 pTM=0.0488 tol=0.938\n",
            "2025-04-10 19:13:25,090 alphafold2_ptm_model_2_seed_000 recycle=2 pLDDT=55.1 pTM=0.0472 tol=0.322\n",
            "2025-04-10 19:13:25,631 alphafold2_ptm_model_2_seed_000 recycle=3 pLDDT=55.3 pTM=0.0478 tol=0.202\n",
            "2025-04-10 19:13:25,632 alphafold2_ptm_model_2_seed_000 took 2.2s (3 recycles)\n",
            "2025-04-10 19:13:26,182 alphafold2_ptm_model_3_seed_000 recycle=0 pLDDT=53.5 pTM=0.0437\n",
            "2025-04-10 19:13:26,722 alphafold2_ptm_model_3_seed_000 recycle=1 pLDDT=54.1 pTM=0.0428 tol=2.29\n",
            "2025-04-10 19:13:27,265 alphafold2_ptm_model_3_seed_000 recycle=2 pLDDT=57.3 pTM=0.0437 tol=1.53\n",
            "2025-04-10 19:13:27,806 alphafold2_ptm_model_3_seed_000 recycle=3 pLDDT=58.2 pTM=0.0445 tol=0.726\n",
            "2025-04-10 19:13:27,807 alphafold2_ptm_model_3_seed_000 took 2.2s (3 recycles)\n",
            "2025-04-10 19:13:28,357 alphafold2_ptm_model_4_seed_000 recycle=0 pLDDT=57.3 pTM=0.0445\n",
            "2025-04-10 19:13:28,900 alphafold2_ptm_model_4_seed_000 recycle=1 pLDDT=55.3 pTM=0.0432 tol=2.03\n",
            "2025-04-10 19:13:29,441 alphafold2_ptm_model_4_seed_000 recycle=2 pLDDT=55.9 pTM=0.0427 tol=0.498\n",
            "2025-04-10 19:13:29,983 alphafold2_ptm_model_4_seed_000 recycle=3 pLDDT=55 pTM=0.0443 tol=1.3\n",
            "2025-04-10 19:13:29,984 alphafold2_ptm_model_4_seed_000 took 2.2s (3 recycles)\n",
            "2025-04-10 19:13:30,535 alphafold2_ptm_model_5_seed_000 recycle=0 pLDDT=57.2 pTM=0.0442\n",
            "2025-04-10 19:13:31,078 alphafold2_ptm_model_5_seed_000 recycle=1 pLDDT=56 pTM=0.0446 tol=0.55\n",
            "2025-04-10 19:13:31,620 alphafold2_ptm_model_5_seed_000 recycle=2 pLDDT=57.8 pTM=0.0445 tol=0.244\n",
            "2025-04-10 19:13:32,161 alphafold2_ptm_model_5_seed_000 recycle=3 pLDDT=58.5 pTM=0.0454 tol=0.489\n",
            "2025-04-10 19:13:32,162 alphafold2_ptm_model_5_seed_000 took 2.2s (3 recycles)\n",
            "2025-04-10 19:13:32,171 reranking models by 'plddt' metric\n",
            "2025-04-10 19:13:32,171 rank_001_alphafold2_ptm_model_5_seed_000 pLDDT=58.5 pTM=0.0454\n",
            "2025-04-10 19:13:32,187 rank_002_alphafold2_ptm_model_3_seed_000 pLDDT=58.2 pTM=0.0445\n",
            "2025-04-10 19:13:32,189 rank_003_alphafold2_ptm_model_1_seed_000 pLDDT=57.9 pTM=0.0457\n",
            "2025-04-10 19:13:32,192 rank_004_alphafold2_ptm_model_2_seed_000 pLDDT=55.3 pTM=0.0478\n",
            "2025-04-10 19:13:32,194 rank_005_alphafold2_ptm_model_4_seed_000 pLDDT=55 pTM=0.0443\n",
            "2025-04-10 19:13:33,176 Query 502/8000: sequence_2502 (length 20)\n"
          ]
        },
        {
          "output_type": "stream",
          "name": "stderr",
          "text": [
            "PENDING:   0%|          | 0/150 [elapsed: 00:00 remaining: ?]"
          ]
        },
        {
          "output_type": "stream",
          "name": "stdout",
          "text": [
            "2025-04-10 19:13:33,869 Sleeping for 5s. Reason: PENDING\n"
          ]
        },
        {
          "output_type": "stream",
          "name": "stderr",
          "text": [
            "RUNNING:   3%|▎         | 5/150 [elapsed: 00:06 remaining: 03:04]"
          ]
        },
        {
          "output_type": "stream",
          "name": "stdout",
          "text": [
            "2025-04-10 19:13:39,553 Sleeping for 7s. Reason: RUNNING\n"
          ]
        },
        {
          "output_type": "stream",
          "name": "stderr",
          "text": [
            "RUNNING:   8%|▊         | 12/150 [elapsed: 00:14 remaining: 02:39]"
          ]
        },
        {
          "output_type": "stream",
          "name": "stdout",
          "text": [
            "2025-04-10 19:13:47,234 Sleeping for 9s. Reason: RUNNING\n"
          ]
        },
        {
          "output_type": "stream",
          "name": "stderr",
          "text": [
            "COMPLETE: 100%|██████████| 150/150 [elapsed: 00:24 remaining: 00:00]\n"
          ]
        },
        {
          "output_type": "stream",
          "name": "stdout",
          "text": [
            "2025-04-10 19:13:59,874 alphafold2_ptm_model_1_seed_000 recycle=0 pLDDT=61.3 pTM=0.0482\n",
            "2025-04-10 19:14:00,414 alphafold2_ptm_model_1_seed_000 recycle=1 pLDDT=63.7 pTM=0.052 tol=2.89\n",
            "2025-04-10 19:14:00,954 alphafold2_ptm_model_1_seed_000 recycle=2 pLDDT=62.2 pTM=0.0505 tol=1.93\n",
            "2025-04-10 19:14:01,495 alphafold2_ptm_model_1_seed_000 recycle=3 pLDDT=61.9 pTM=0.0511 tol=0.699\n",
            "2025-04-10 19:14:01,495 alphafold2_ptm_model_1_seed_000 took 2.2s (3 recycles)\n",
            "2025-04-10 19:14:02,048 alphafold2_ptm_model_2_seed_000 recycle=0 pLDDT=61.7 pTM=0.046\n",
            "2025-04-10 19:14:02,589 alphafold2_ptm_model_2_seed_000 recycle=1 pLDDT=63.2 pTM=0.0492 tol=0.441\n",
            "2025-04-10 19:14:03,128 alphafold2_ptm_model_2_seed_000 recycle=2 pLDDT=62.2 pTM=0.0483 tol=0.935\n",
            "2025-04-10 19:14:03,667 alphafold2_ptm_model_2_seed_000 recycle=3 pLDDT=62.7 pTM=0.048 tol=0.476\n",
            "2025-04-10 19:14:03,668 alphafold2_ptm_model_2_seed_000 took 2.2s (3 recycles)\n",
            "2025-04-10 19:14:04,220 alphafold2_ptm_model_3_seed_000 recycle=0 pLDDT=60.9 pTM=0.0462\n",
            "2025-04-10 19:14:04,759 alphafold2_ptm_model_3_seed_000 recycle=1 pLDDT=62.5 pTM=0.0469 tol=0.806\n",
            "2025-04-10 19:14:05,299 alphafold2_ptm_model_3_seed_000 recycle=2 pLDDT=62.1 pTM=0.046 tol=1.39\n",
            "2025-04-10 19:14:05,839 alphafold2_ptm_model_3_seed_000 recycle=3 pLDDT=61.9 pTM=0.0445 tol=0.779\n",
            "2025-04-10 19:14:05,839 alphafold2_ptm_model_3_seed_000 took 2.2s (3 recycles)\n",
            "2025-04-10 19:14:06,390 alphafold2_ptm_model_4_seed_000 recycle=0 pLDDT=61.3 pTM=0.0445\n",
            "2025-04-10 19:14:06,929 alphafold2_ptm_model_4_seed_000 recycle=1 pLDDT=60.9 pTM=0.0452 tol=2.33\n",
            "2025-04-10 19:14:07,469 alphafold2_ptm_model_4_seed_000 recycle=2 pLDDT=64.4 pTM=0.049 tol=7.61\n",
            "2025-04-10 19:14:08,009 alphafold2_ptm_model_4_seed_000 recycle=3 pLDDT=77.8 pTM=0.0698 tol=0.734\n",
            "2025-04-10 19:14:08,010 alphafold2_ptm_model_4_seed_000 took 2.2s (3 recycles)\n",
            "2025-04-10 19:14:08,559 alphafold2_ptm_model_5_seed_000 recycle=0 pLDDT=58 pTM=0.0453\n",
            "2025-04-10 19:14:09,099 alphafold2_ptm_model_5_seed_000 recycle=1 pLDDT=76.4 pTM=0.0693 tol=8.46\n",
            "2025-04-10 19:14:09,639 alphafold2_ptm_model_5_seed_000 recycle=2 pLDDT=78.9 pTM=0.074 tol=0.412\n",
            "2025-04-10 19:14:10,179 alphafold2_ptm_model_5_seed_000 recycle=3 pLDDT=81.1 pTM=0.0761 tol=0.236\n",
            "2025-04-10 19:14:10,180 alphafold2_ptm_model_5_seed_000 took 2.2s (3 recycles)\n",
            "2025-04-10 19:14:10,189 reranking models by 'plddt' metric\n",
            "2025-04-10 19:14:10,189 rank_001_alphafold2_ptm_model_5_seed_000 pLDDT=81.1 pTM=0.0761\n",
            "2025-04-10 19:14:10,192 rank_002_alphafold2_ptm_model_4_seed_000 pLDDT=77.8 pTM=0.0698\n",
            "2025-04-10 19:14:10,205 rank_003_alphafold2_ptm_model_2_seed_000 pLDDT=62.7 pTM=0.048\n",
            "2025-04-10 19:14:10,209 rank_004_alphafold2_ptm_model_3_seed_000 pLDDT=61.9 pTM=0.0445\n",
            "2025-04-10 19:14:10,212 rank_005_alphafold2_ptm_model_1_seed_000 pLDDT=61.9 pTM=0.0511\n",
            "2025-04-10 19:14:11,197 Query 503/8000: sequence_2503 (length 20)\n"
          ]
        },
        {
          "output_type": "stream",
          "name": "stderr",
          "text": [
            "PENDING:   0%|          | 0/150 [elapsed: 00:00 remaining: ?]"
          ]
        },
        {
          "output_type": "stream",
          "name": "stdout",
          "text": [
            "2025-04-10 19:14:11,894 Sleeping for 7s. Reason: PENDING\n"
          ]
        },
        {
          "output_type": "stream",
          "name": "stderr",
          "text": [
            "RUNNING:   5%|▍         | 7/150 [elapsed: 00:08 remaining: 02:50]"
          ]
        },
        {
          "output_type": "stream",
          "name": "stdout",
          "text": [
            "2025-04-10 19:14:19,570 Sleeping for 5s. Reason: RUNNING\n"
          ]
        },
        {
          "output_type": "stream",
          "name": "stderr",
          "text": [
            "COMPLETE: 100%|██████████| 150/150 [elapsed: 00:14 remaining: 00:00]\n"
          ]
        },
        {
          "output_type": "stream",
          "name": "stdout",
          "text": [
            "2025-04-10 19:14:28,213 alphafold2_ptm_model_1_seed_000 recycle=0 pLDDT=61.9 pTM=0.0504\n",
            "2025-04-10 19:14:28,754 alphafold2_ptm_model_1_seed_000 recycle=1 pLDDT=62.8 pTM=0.0522 tol=1.03\n",
            "2025-04-10 19:14:29,294 alphafold2_ptm_model_1_seed_000 recycle=2 pLDDT=62.7 pTM=0.0515 tol=0.801\n",
            "2025-04-10 19:14:29,834 alphafold2_ptm_model_1_seed_000 recycle=3 pLDDT=62.9 pTM=0.0533 tol=0.613\n",
            "2025-04-10 19:14:29,834 alphafold2_ptm_model_1_seed_000 took 2.2s (3 recycles)\n",
            "2025-04-10 19:14:30,386 alphafold2_ptm_model_2_seed_000 recycle=0 pLDDT=64.1 pTM=0.0486\n",
            "2025-04-10 19:14:30,926 alphafold2_ptm_model_2_seed_000 recycle=1 pLDDT=65.6 pTM=0.0512 tol=0.743\n",
            "2025-04-10 19:14:31,466 alphafold2_ptm_model_2_seed_000 recycle=2 pLDDT=67.7 pTM=0.0513 tol=0.408\n",
            "2025-04-10 19:14:32,005 alphafold2_ptm_model_2_seed_000 recycle=3 pLDDT=66.2 pTM=0.0512 tol=0.17\n",
            "2025-04-10 19:14:32,006 alphafold2_ptm_model_2_seed_000 took 2.2s (3 recycles)\n",
            "2025-04-10 19:14:32,557 alphafold2_ptm_model_3_seed_000 recycle=0 pLDDT=62.7 pTM=0.045\n",
            "2025-04-10 19:14:33,096 alphafold2_ptm_model_3_seed_000 recycle=1 pLDDT=62.1 pTM=0.0458 tol=0.776\n",
            "2025-04-10 19:14:33,636 alphafold2_ptm_model_3_seed_000 recycle=2 pLDDT=59.9 pTM=0.045 tol=0.618\n",
            "2025-04-10 19:14:34,175 alphafold2_ptm_model_3_seed_000 recycle=3 pLDDT=62.7 pTM=0.0464 tol=0.6\n",
            "2025-04-10 19:14:34,176 alphafold2_ptm_model_3_seed_000 took 2.2s (3 recycles)\n",
            "2025-04-10 19:14:34,725 alphafold2_ptm_model_4_seed_000 recycle=0 pLDDT=67.1 pTM=0.0473\n",
            "2025-04-10 19:14:35,264 alphafold2_ptm_model_4_seed_000 recycle=1 pLDDT=66.9 pTM=0.0487 tol=0.579\n",
            "2025-04-10 19:14:35,804 alphafold2_ptm_model_4_seed_000 recycle=2 pLDDT=67.4 pTM=0.0486 tol=0.521\n",
            "2025-04-10 19:14:36,344 alphafold2_ptm_model_4_seed_000 recycle=3 pLDDT=67.8 pTM=0.0475 tol=0.177\n",
            "2025-04-10 19:14:36,345 alphafold2_ptm_model_4_seed_000 took 2.2s (3 recycles)\n",
            "2025-04-10 19:14:36,894 alphafold2_ptm_model_5_seed_000 recycle=0 pLDDT=60.1 pTM=0.0453\n",
            "2025-04-10 19:14:37,435 alphafold2_ptm_model_5_seed_000 recycle=1 pLDDT=59.7 pTM=0.0459 tol=0.93\n",
            "2025-04-10 19:14:37,975 alphafold2_ptm_model_5_seed_000 recycle=2 pLDDT=57 pTM=0.0454 tol=1.07\n",
            "2025-04-10 19:14:38,515 alphafold2_ptm_model_5_seed_000 recycle=3 pLDDT=57.2 pTM=0.0459 tol=0.284\n",
            "2025-04-10 19:14:38,516 alphafold2_ptm_model_5_seed_000 took 2.2s (3 recycles)\n",
            "2025-04-10 19:14:38,525 reranking models by 'plddt' metric\n",
            "2025-04-10 19:14:38,525 rank_001_alphafold2_ptm_model_4_seed_000 pLDDT=67.8 pTM=0.0475\n",
            "2025-04-10 19:14:38,528 rank_002_alphafold2_ptm_model_2_seed_000 pLDDT=66.2 pTM=0.0512\n",
            "2025-04-10 19:14:38,542 rank_003_alphafold2_ptm_model_1_seed_000 pLDDT=62.9 pTM=0.0533\n",
            "2025-04-10 19:14:38,544 rank_004_alphafold2_ptm_model_3_seed_000 pLDDT=62.7 pTM=0.0464\n",
            "2025-04-10 19:14:38,547 rank_005_alphafold2_ptm_model_5_seed_000 pLDDT=57.2 pTM=0.0459\n",
            "2025-04-10 19:14:39,535 Query 504/8000: sequence_2504 (length 20)\n"
          ]
        },
        {
          "output_type": "stream",
          "name": "stderr",
          "text": [
            "PENDING:   0%|          | 0/150 [elapsed: 00:00 remaining: ?]"
          ]
        },
        {
          "output_type": "stream",
          "name": "stdout",
          "text": [
            "2025-04-10 19:14:40,226 Sleeping for 8s. Reason: PENDING\n"
          ]
        },
        {
          "output_type": "stream",
          "name": "stderr",
          "text": [
            "PENDING:   0%|          | 0/150 [elapsed: 00:09 remaining: ?]"
          ]
        },
        {
          "output_type": "stream",
          "name": "stdout",
          "text": [
            "2025-04-10 19:14:48,906 Sleeping for 7s. Reason: PENDING\n"
          ]
        },
        {
          "output_type": "stream",
          "name": "stderr",
          "text": [
            "RUNNING:   5%|▍         | 7/150 [elapsed: 00:17 remaining: 05:48]"
          ]
        },
        {
          "output_type": "stream",
          "name": "stdout",
          "text": [
            "2025-04-10 19:14:56,586 Sleeping for 9s. Reason: RUNNING\n"
          ]
        },
        {
          "output_type": "stream",
          "name": "stderr",
          "text": [
            "COMPLETE: 100%|██████████| 150/150 [elapsed: 00:27 remaining: 00:00]\n"
          ]
        },
        {
          "output_type": "stream",
          "name": "stdout",
          "text": [
            "2025-04-10 19:15:09,361 alphafold2_ptm_model_1_seed_000 recycle=0 pLDDT=61.2 pTM=0.0475\n",
            "2025-04-10 19:15:09,900 alphafold2_ptm_model_1_seed_000 recycle=1 pLDDT=59.5 pTM=0.0467 tol=0.833\n",
            "2025-04-10 19:15:10,440 alphafold2_ptm_model_1_seed_000 recycle=2 pLDDT=59.8 pTM=0.0476 tol=0.818\n",
            "2025-04-10 19:15:10,980 alphafold2_ptm_model_1_seed_000 recycle=3 pLDDT=61.4 pTM=0.048 tol=0.513\n",
            "2025-04-10 19:15:10,980 alphafold2_ptm_model_1_seed_000 took 2.2s (3 recycles)\n",
            "2025-04-10 19:15:11,531 alphafold2_ptm_model_2_seed_000 recycle=0 pLDDT=63.5 pTM=0.0471\n",
            "2025-04-10 19:15:12,070 alphafold2_ptm_model_2_seed_000 recycle=1 pLDDT=62.9 pTM=0.0465 tol=0.362\n",
            "2025-04-10 19:15:12,610 alphafold2_ptm_model_2_seed_000 recycle=2 pLDDT=62.1 pTM=0.0469 tol=0.807\n",
            "2025-04-10 19:15:13,150 alphafold2_ptm_model_2_seed_000 recycle=3 pLDDT=63 pTM=0.0473 tol=0.234\n",
            "2025-04-10 19:15:13,151 alphafold2_ptm_model_2_seed_000 took 2.2s (3 recycles)\n",
            "2025-04-10 19:15:13,701 alphafold2_ptm_model_3_seed_000 recycle=0 pLDDT=60.8 pTM=0.0446\n",
            "2025-04-10 19:15:14,241 alphafold2_ptm_model_3_seed_000 recycle=1 pLDDT=59.9 pTM=0.0436 tol=0.637\n",
            "2025-04-10 19:15:14,781 alphafold2_ptm_model_3_seed_000 recycle=2 pLDDT=60.1 pTM=0.0439 tol=0.586\n",
            "2025-04-10 19:15:15,322 alphafold2_ptm_model_3_seed_000 recycle=3 pLDDT=61.2 pTM=0.0438 tol=0.765\n",
            "2025-04-10 19:15:15,322 alphafold2_ptm_model_3_seed_000 took 2.2s (3 recycles)\n",
            "2025-04-10 19:15:15,874 alphafold2_ptm_model_4_seed_000 recycle=0 pLDDT=64.4 pTM=0.0457\n",
            "2025-04-10 19:15:16,415 alphafold2_ptm_model_4_seed_000 recycle=1 pLDDT=60 pTM=0.0451 tol=1.13\n",
            "2025-04-10 19:15:16,956 alphafold2_ptm_model_4_seed_000 recycle=2 pLDDT=59.1 pTM=0.0454 tol=0.847\n",
            "2025-04-10 19:15:17,497 alphafold2_ptm_model_4_seed_000 recycle=3 pLDDT=59.5 pTM=0.0452 tol=0.225\n",
            "2025-04-10 19:15:17,498 alphafold2_ptm_model_4_seed_000 took 2.2s (3 recycles)\n",
            "2025-04-10 19:15:18,050 alphafold2_ptm_model_5_seed_000 recycle=0 pLDDT=60.8 pTM=0.0454\n",
            "2025-04-10 19:15:18,590 alphafold2_ptm_model_5_seed_000 recycle=1 pLDDT=62.3 pTM=0.0463 tol=0.829\n",
            "2025-04-10 19:15:19,130 alphafold2_ptm_model_5_seed_000 recycle=2 pLDDT=63.7 pTM=0.0468 tol=0.459\n",
            "2025-04-10 19:15:19,672 alphafold2_ptm_model_5_seed_000 recycle=3 pLDDT=65.4 pTM=0.0469 tol=0.557\n",
            "2025-04-10 19:15:19,672 alphafold2_ptm_model_5_seed_000 took 2.2s (3 recycles)\n",
            "2025-04-10 19:15:19,682 reranking models by 'plddt' metric\n",
            "2025-04-10 19:15:19,682 rank_001_alphafold2_ptm_model_5_seed_000 pLDDT=65.4 pTM=0.0469\n",
            "2025-04-10 19:15:19,685 rank_002_alphafold2_ptm_model_2_seed_000 pLDDT=63 pTM=0.0473\n",
            "2025-04-10 19:15:19,688 rank_003_alphafold2_ptm_model_1_seed_000 pLDDT=61.4 pTM=0.048\n",
            "2025-04-10 19:15:19,703 rank_004_alphafold2_ptm_model_3_seed_000 pLDDT=61.2 pTM=0.0438\n",
            "2025-04-10 19:15:19,706 rank_005_alphafold2_ptm_model_4_seed_000 pLDDT=59.5 pTM=0.0452\n",
            "2025-04-10 19:15:20,691 Query 505/8000: sequence_2505 (length 20)\n"
          ]
        },
        {
          "output_type": "stream",
          "name": "stderr",
          "text": [
            "PENDING:   0%|          | 0/150 [elapsed: 00:00 remaining: ?]"
          ]
        },
        {
          "output_type": "stream",
          "name": "stdout",
          "text": [
            "2025-04-10 19:15:21,381 Sleeping for 7s. Reason: PENDING\n"
          ]
        },
        {
          "output_type": "stream",
          "name": "stderr",
          "text": [
            "RUNNING:   5%|▍         | 7/150 [elapsed: 00:08 remaining: 02:51]"
          ]
        },
        {
          "output_type": "stream",
          "name": "stdout",
          "text": [
            "2025-04-10 19:15:29,073 Sleeping for 9s. Reason: RUNNING\n"
          ]
        },
        {
          "output_type": "stream",
          "name": "stderr",
          "text": [
            "COMPLETE: 100%|██████████| 150/150 [elapsed: 00:18 remaining: 00:00]\n"
          ]
        },
        {
          "output_type": "stream",
          "name": "stdout",
          "text": [
            "2025-04-10 19:15:41,694 alphafold2_ptm_model_1_seed_000 recycle=0 pLDDT=63 pTM=0.0635\n",
            "2025-04-10 19:15:42,234 alphafold2_ptm_model_1_seed_000 recycle=1 pLDDT=61.1 pTM=0.0546 tol=0.688\n",
            "2025-04-10 19:15:42,773 alphafold2_ptm_model_1_seed_000 recycle=2 pLDDT=66.2 pTM=0.0662 tol=2.17\n",
            "2025-04-10 19:15:43,313 alphafold2_ptm_model_1_seed_000 recycle=3 pLDDT=63.5 pTM=0.0586 tol=0.746\n",
            "2025-04-10 19:15:43,314 alphafold2_ptm_model_1_seed_000 took 2.2s (3 recycles)\n",
            "2025-04-10 19:15:43,864 alphafold2_ptm_model_2_seed_000 recycle=0 pLDDT=58.4 pTM=0.049\n",
            "2025-04-10 19:15:44,405 alphafold2_ptm_model_2_seed_000 recycle=1 pLDDT=58.6 pTM=0.0514 tol=0.947\n",
            "2025-04-10 19:15:44,946 alphafold2_ptm_model_2_seed_000 recycle=2 pLDDT=58 pTM=0.0496 tol=0.386\n",
            "2025-04-10 19:15:45,486 alphafold2_ptm_model_2_seed_000 recycle=3 pLDDT=58.6 pTM=0.049 tol=0.271\n",
            "2025-04-10 19:15:45,486 alphafold2_ptm_model_2_seed_000 took 2.2s (3 recycles)\n",
            "2025-04-10 19:15:46,037 alphafold2_ptm_model_3_seed_000 recycle=0 pLDDT=68.7 pTM=0.0652\n",
            "2025-04-10 19:15:46,577 alphafold2_ptm_model_3_seed_000 recycle=1 pLDDT=61.9 pTM=0.0576 tol=0.929\n",
            "2025-04-10 19:15:47,118 alphafold2_ptm_model_3_seed_000 recycle=2 pLDDT=63.3 pTM=0.0578 tol=0.298\n",
            "2025-04-10 19:15:47,657 alphafold2_ptm_model_3_seed_000 recycle=3 pLDDT=64.9 pTM=0.059 tol=0.496\n",
            "2025-04-10 19:15:47,658 alphafold2_ptm_model_3_seed_000 took 2.2s (3 recycles)\n",
            "2025-04-10 19:15:48,209 alphafold2_ptm_model_4_seed_000 recycle=0 pLDDT=61.7 pTM=0.0536\n",
            "2025-04-10 19:15:48,749 alphafold2_ptm_model_4_seed_000 recycle=1 pLDDT=61.4 pTM=0.0535 tol=1.2\n",
            "2025-04-10 19:15:49,291 alphafold2_ptm_model_4_seed_000 recycle=2 pLDDT=63.5 pTM=0.0551 tol=0.298\n",
            "2025-04-10 19:15:49,831 alphafold2_ptm_model_4_seed_000 recycle=3 pLDDT=63.8 pTM=0.0549 tol=0.135\n",
            "2025-04-10 19:15:49,832 alphafold2_ptm_model_4_seed_000 took 2.2s (3 recycles)\n",
            "2025-04-10 19:15:50,382 alphafold2_ptm_model_5_seed_000 recycle=0 pLDDT=58.3 pTM=0.0552\n",
            "2025-04-10 19:15:50,923 alphafold2_ptm_model_5_seed_000 recycle=1 pLDDT=63.6 pTM=0.0542 tol=5.64\n",
            "2025-04-10 19:15:51,463 alphafold2_ptm_model_5_seed_000 recycle=2 pLDDT=61.7 pTM=0.0534 tol=1.07\n",
            "2025-04-10 19:15:52,004 alphafold2_ptm_model_5_seed_000 recycle=3 pLDDT=66.4 pTM=0.0576 tol=0.646\n",
            "2025-04-10 19:15:52,004 alphafold2_ptm_model_5_seed_000 took 2.2s (3 recycles)\n",
            "2025-04-10 19:15:52,014 reranking models by 'plddt' metric\n",
            "2025-04-10 19:15:52,014 rank_001_alphafold2_ptm_model_5_seed_000 pLDDT=66.4 pTM=0.0576\n",
            "2025-04-10 19:15:52,017 rank_002_alphafold2_ptm_model_3_seed_000 pLDDT=64.9 pTM=0.059\n",
            "2025-04-10 19:15:52,019 rank_003_alphafold2_ptm_model_4_seed_000 pLDDT=63.8 pTM=0.0549\n",
            "2025-04-10 19:15:52,021 rank_004_alphafold2_ptm_model_1_seed_000 pLDDT=63.5 pTM=0.0586\n",
            "2025-04-10 19:15:52,039 rank_005_alphafold2_ptm_model_2_seed_000 pLDDT=58.6 pTM=0.049\n",
            "2025-04-10 19:15:53,015 Query 506/8000: sequence_2506 (length 20)\n"
          ]
        },
        {
          "output_type": "stream",
          "name": "stderr",
          "text": [
            "PENDING:   0%|          | 0/150 [elapsed: 00:00 remaining: ?]"
          ]
        },
        {
          "output_type": "stream",
          "name": "stdout",
          "text": [
            "2025-04-10 19:15:53,710 Sleeping for 9s. Reason: PENDING\n"
          ]
        },
        {
          "output_type": "stream",
          "name": "stderr",
          "text": [
            "RUNNING:   6%|▌         | 9/150 [elapsed: 00:10 remaining: 02:42]"
          ]
        },
        {
          "output_type": "stream",
          "name": "stdout",
          "text": [
            "2025-04-10 19:16:03,389 Sleeping for 6s. Reason: RUNNING\n"
          ]
        },
        {
          "output_type": "stream",
          "name": "stderr",
          "text": [
            "COMPLETE: 100%|██████████| 150/150 [elapsed: 00:17 remaining: 00:00]\n"
          ]
        },
        {
          "output_type": "stream",
          "name": "stdout",
          "text": [
            "2025-04-10 19:16:13,006 alphafold2_ptm_model_1_seed_000 recycle=0 pLDDT=57.5 pTM=0.05\n",
            "2025-04-10 19:16:13,546 alphafold2_ptm_model_1_seed_000 recycle=1 pLDDT=59.8 pTM=0.0509 tol=0.724\n",
            "2025-04-10 19:16:14,086 alphafold2_ptm_model_1_seed_000 recycle=2 pLDDT=62.7 pTM=0.0549 tol=1.46\n",
            "2025-04-10 19:16:14,627 alphafold2_ptm_model_1_seed_000 recycle=3 pLDDT=70.7 pTM=0.0674 tol=0.762\n",
            "2025-04-10 19:16:14,628 alphafold2_ptm_model_1_seed_000 took 2.2s (3 recycles)\n",
            "2025-04-10 19:16:15,178 alphafold2_ptm_model_2_seed_000 recycle=0 pLDDT=57.5 pTM=0.0485\n",
            "2025-04-10 19:16:15,718 alphafold2_ptm_model_2_seed_000 recycle=1 pLDDT=58.8 pTM=0.0491 tol=1.32\n",
            "2025-04-10 19:16:16,258 alphafold2_ptm_model_2_seed_000 recycle=2 pLDDT=61.6 pTM=0.0537 tol=1.5\n",
            "2025-04-10 19:16:16,799 alphafold2_ptm_model_2_seed_000 recycle=3 pLDDT=64.8 pTM=0.0592 tol=0.628\n",
            "2025-04-10 19:16:16,799 alphafold2_ptm_model_2_seed_000 took 2.2s (3 recycles)\n",
            "2025-04-10 19:16:17,349 alphafold2_ptm_model_3_seed_000 recycle=0 pLDDT=58.1 pTM=0.0474\n",
            "2025-04-10 19:16:17,889 alphafold2_ptm_model_3_seed_000 recycle=1 pLDDT=62.2 pTM=0.0544 tol=1.58\n",
            "2025-04-10 19:16:18,429 alphafold2_ptm_model_3_seed_000 recycle=2 pLDDT=67.5 pTM=0.0601 tol=0.931\n",
            "2025-04-10 19:16:18,969 alphafold2_ptm_model_3_seed_000 recycle=3 pLDDT=71.6 pTM=0.0665 tol=0.181\n",
            "2025-04-10 19:16:18,970 alphafold2_ptm_model_3_seed_000 took 2.2s (3 recycles)\n",
            "2025-04-10 19:16:19,519 alphafold2_ptm_model_4_seed_000 recycle=0 pLDDT=57.4 pTM=0.0442\n",
            "2025-04-10 19:16:20,060 alphafold2_ptm_model_4_seed_000 recycle=1 pLDDT=58.8 pTM=0.0463 tol=1.17\n",
            "2025-04-10 19:16:20,599 alphafold2_ptm_model_4_seed_000 recycle=2 pLDDT=58.8 pTM=0.048 tol=0.876\n",
            "2025-04-10 19:16:21,139 alphafold2_ptm_model_4_seed_000 recycle=3 pLDDT=60.7 pTM=0.0516 tol=1.57\n",
            "2025-04-10 19:16:21,139 alphafold2_ptm_model_4_seed_000 took 2.2s (3 recycles)\n",
            "2025-04-10 19:16:21,688 alphafold2_ptm_model_5_seed_000 recycle=0 pLDDT=60.2 pTM=0.0526\n",
            "2025-04-10 19:16:22,228 alphafold2_ptm_model_5_seed_000 recycle=1 pLDDT=64.9 pTM=0.0632 tol=1.54\n",
            "2025-04-10 19:16:22,768 alphafold2_ptm_model_5_seed_000 recycle=2 pLDDT=66.2 pTM=0.0634 tol=0.457\n",
            "2025-04-10 19:16:23,308 alphafold2_ptm_model_5_seed_000 recycle=3 pLDDT=66.8 pTM=0.0643 tol=0.0496\n",
            "2025-04-10 19:16:23,309 alphafold2_ptm_model_5_seed_000 took 2.2s (3 recycles)\n",
            "2025-04-10 19:16:23,318 reranking models by 'plddt' metric\n",
            "2025-04-10 19:16:23,319 rank_001_alphafold2_ptm_model_3_seed_000 pLDDT=71.6 pTM=0.0665\n",
            "2025-04-10 19:16:23,321 rank_002_alphafold2_ptm_model_1_seed_000 pLDDT=70.7 pTM=0.0674\n",
            "2025-04-10 19:16:23,323 rank_003_alphafold2_ptm_model_5_seed_000 pLDDT=66.8 pTM=0.0643\n",
            "2025-04-10 19:16:23,326 rank_004_alphafold2_ptm_model_2_seed_000 pLDDT=64.8 pTM=0.0592\n",
            "2025-04-10 19:16:23,328 rank_005_alphafold2_ptm_model_4_seed_000 pLDDT=60.7 pTM=0.0516\n",
            "2025-04-10 19:16:24,320 Query 507/8000: sequence_2507 (length 20)\n"
          ]
        },
        {
          "output_type": "stream",
          "name": "stderr",
          "text": [
            "PENDING:   0%|          | 0/150 [elapsed: 00:00 remaining: ?]"
          ]
        },
        {
          "output_type": "stream",
          "name": "stdout",
          "text": [
            "2025-04-10 19:16:25,021 Sleeping for 8s. Reason: PENDING\n"
          ]
        },
        {
          "output_type": "stream",
          "name": "stderr",
          "text": [
            "RUNNING:   5%|▌         | 8/150 [elapsed: 00:09 remaining: 02:46]"
          ]
        },
        {
          "output_type": "stream",
          "name": "stdout",
          "text": [
            "2025-04-10 19:16:33,700 Sleeping for 7s. Reason: RUNNING\n"
          ]
        },
        {
          "output_type": "stream",
          "name": "stderr",
          "text": [
            "RUNNING:  10%|█         | 15/150 [elapsed: 00:17 remaining: 02:32]"
          ]
        },
        {
          "output_type": "stream",
          "name": "stdout",
          "text": [
            "2025-04-10 19:16:41,382 Sleeping for 9s. Reason: RUNNING\n"
          ]
        },
        {
          "output_type": "stream",
          "name": "stderr",
          "text": [
            "COMPLETE: 100%|██████████| 150/150 [elapsed: 00:27 remaining: 00:00]\n"
          ]
        },
        {
          "output_type": "stream",
          "name": "stdout",
          "text": [
            "2025-04-10 19:16:54,008 alphafold2_ptm_model_1_seed_000 recycle=0 pLDDT=85.2 pTM=0.0926\n",
            "2025-04-10 19:16:54,548 alphafold2_ptm_model_1_seed_000 recycle=1 pLDDT=83.2 pTM=0.0938 tol=0.105\n",
            "2025-04-10 19:16:55,087 alphafold2_ptm_model_1_seed_000 recycle=2 pLDDT=82.5 pTM=0.0932 tol=0.057\n",
            "2025-04-10 19:16:55,627 alphafold2_ptm_model_1_seed_000 recycle=3 pLDDT=82.6 pTM=0.0945 tol=0.0469\n",
            "2025-04-10 19:16:55,628 alphafold2_ptm_model_1_seed_000 took 2.2s (3 recycles)\n",
            "2025-04-10 19:16:56,181 alphafold2_ptm_model_2_seed_000 recycle=0 pLDDT=85.3 pTM=0.0981\n",
            "2025-04-10 19:16:56,721 alphafold2_ptm_model_2_seed_000 recycle=1 pLDDT=81.7 pTM=0.0977 tol=0.0939\n",
            "2025-04-10 19:16:57,261 alphafold2_ptm_model_2_seed_000 recycle=2 pLDDT=79.8 pTM=0.0961 tol=0.0604\n",
            "2025-04-10 19:16:57,801 alphafold2_ptm_model_2_seed_000 recycle=3 pLDDT=79.8 pTM=0.0966 tol=0.026\n",
            "2025-04-10 19:16:57,801 alphafold2_ptm_model_2_seed_000 took 2.2s (3 recycles)\n",
            "2025-04-10 19:16:58,353 alphafold2_ptm_model_3_seed_000 recycle=0 pLDDT=85.7 pTM=0.0883\n",
            "2025-04-10 19:16:58,893 alphafold2_ptm_model_3_seed_000 recycle=1 pLDDT=86.6 pTM=0.0909 tol=0.145\n",
            "2025-04-10 19:16:59,433 alphafold2_ptm_model_3_seed_000 recycle=2 pLDDT=85.2 pTM=0.0885 tol=0.0908\n",
            "2025-04-10 19:16:59,973 alphafold2_ptm_model_3_seed_000 recycle=3 pLDDT=85.2 pTM=0.0903 tol=0.0511\n",
            "2025-04-10 19:16:59,974 alphafold2_ptm_model_3_seed_000 took 2.2s (3 recycles)\n",
            "2025-04-10 19:17:00,523 alphafold2_ptm_model_4_seed_000 recycle=0 pLDDT=84.4 pTM=0.0923\n",
            "2025-04-10 19:17:01,063 alphafold2_ptm_model_4_seed_000 recycle=1 pLDDT=85.3 pTM=0.095 tol=0.112\n",
            "2025-04-10 19:17:01,603 alphafold2_ptm_model_4_seed_000 recycle=2 pLDDT=83.4 pTM=0.0928 tol=0.0787\n",
            "2025-04-10 19:17:02,143 alphafold2_ptm_model_4_seed_000 recycle=3 pLDDT=83.1 pTM=0.0927 tol=0.021\n",
            "2025-04-10 19:17:02,143 alphafold2_ptm_model_4_seed_000 took 2.2s (3 recycles)\n",
            "2025-04-10 19:17:02,693 alphafold2_ptm_model_5_seed_000 recycle=0 pLDDT=92.6 pTM=0.107\n",
            "2025-04-10 19:17:03,232 alphafold2_ptm_model_5_seed_000 recycle=1 pLDDT=90.2 pTM=0.105 tol=0.115\n",
            "2025-04-10 19:17:03,773 alphafold2_ptm_model_5_seed_000 recycle=2 pLDDT=89.3 pTM=0.105 tol=0.0881\n",
            "2025-04-10 19:17:04,313 alphafold2_ptm_model_5_seed_000 recycle=3 pLDDT=90.1 pTM=0.106 tol=0.0476\n",
            "2025-04-10 19:17:04,313 alphafold2_ptm_model_5_seed_000 took 2.2s (3 recycles)\n",
            "2025-04-10 19:17:04,323 reranking models by 'plddt' metric\n",
            "2025-04-10 19:17:04,323 rank_001_alphafold2_ptm_model_5_seed_000 pLDDT=90.1 pTM=0.106\n",
            "2025-04-10 19:17:04,326 rank_002_alphafold2_ptm_model_3_seed_000 pLDDT=85.2 pTM=0.0903\n",
            "2025-04-10 19:17:04,328 rank_003_alphafold2_ptm_model_4_seed_000 pLDDT=83.1 pTM=0.0927\n",
            "2025-04-10 19:17:04,331 rank_004_alphafold2_ptm_model_1_seed_000 pLDDT=82.6 pTM=0.0945\n",
            "2025-04-10 19:17:04,333 rank_005_alphafold2_ptm_model_2_seed_000 pLDDT=79.8 pTM=0.0966\n",
            "2025-04-10 19:17:05,325 Query 508/8000: sequence_2508 (length 20)\n"
          ]
        },
        {
          "output_type": "stream",
          "name": "stderr",
          "text": [
            "PENDING:   0%|          | 0/150 [elapsed: 00:00 remaining: ?]"
          ]
        },
        {
          "output_type": "stream",
          "name": "stdout",
          "text": [
            "2025-04-10 19:17:06,024 Sleeping for 9s. Reason: PENDING\n"
          ]
        },
        {
          "output_type": "stream",
          "name": "stderr",
          "text": [
            "RUNNING:   6%|▌         | 9/150 [elapsed: 00:10 remaining: 02:42]"
          ]
        },
        {
          "output_type": "stream",
          "name": "stdout",
          "text": [
            "2025-04-10 19:17:15,710 Sleeping for 9s. Reason: RUNNING\n"
          ]
        },
        {
          "output_type": "stream",
          "name": "stderr",
          "text": [
            "COMPLETE: 100%|██████████| 150/150 [elapsed: 00:20 remaining: 00:00]\n"
          ]
        },
        {
          "output_type": "stream",
          "name": "stdout",
          "text": [
            "2025-04-10 19:17:28,336 alphafold2_ptm_model_1_seed_000 recycle=0 pLDDT=86.4 pTM=0.0978\n",
            "2025-04-10 19:17:28,875 alphafold2_ptm_model_1_seed_000 recycle=1 pLDDT=86.6 pTM=0.101 tol=0.249\n",
            "2025-04-10 19:17:29,415 alphafold2_ptm_model_1_seed_000 recycle=2 pLDDT=85.1 pTM=0.0994 tol=0.103\n",
            "2025-04-10 19:17:29,955 alphafold2_ptm_model_1_seed_000 recycle=3 pLDDT=85.8 pTM=0.1 tol=0.0964\n",
            "2025-04-10 19:17:29,955 alphafold2_ptm_model_1_seed_000 took 2.2s (3 recycles)\n",
            "2025-04-10 19:17:30,519 alphafold2_ptm_model_2_seed_000 recycle=0 pLDDT=89.9 pTM=0.11\n",
            "2025-04-10 19:17:31,060 alphafold2_ptm_model_2_seed_000 recycle=1 pLDDT=89.4 pTM=0.111 tol=0.135\n",
            "2025-04-10 19:17:31,599 alphafold2_ptm_model_2_seed_000 recycle=2 pLDDT=87.6 pTM=0.109 tol=0.0489\n",
            "2025-04-10 19:17:32,139 alphafold2_ptm_model_2_seed_000 recycle=3 pLDDT=88.9 pTM=0.11 tol=0.0187\n",
            "2025-04-10 19:17:32,140 alphafold2_ptm_model_2_seed_000 took 2.2s (3 recycles)\n",
            "2025-04-10 19:17:32,690 alphafold2_ptm_model_3_seed_000 recycle=0 pLDDT=87.2 pTM=0.0911\n",
            "2025-04-10 19:17:33,230 alphafold2_ptm_model_3_seed_000 recycle=1 pLDDT=85.8 pTM=0.0912 tol=0.0721\n",
            "2025-04-10 19:17:33,770 alphafold2_ptm_model_3_seed_000 recycle=2 pLDDT=85 pTM=0.0888 tol=0.058\n",
            "2025-04-10 19:17:34,310 alphafold2_ptm_model_3_seed_000 recycle=3 pLDDT=86.1 pTM=0.0884 tol=0.0352\n",
            "2025-04-10 19:17:34,311 alphafold2_ptm_model_3_seed_000 took 2.2s (3 recycles)\n",
            "2025-04-10 19:17:34,861 alphafold2_ptm_model_4_seed_000 recycle=0 pLDDT=91.1 pTM=0.105\n",
            "2025-04-10 19:17:35,402 alphafold2_ptm_model_4_seed_000 recycle=1 pLDDT=91 pTM=0.107 tol=0.0929\n",
            "2025-04-10 19:17:35,944 alphafold2_ptm_model_4_seed_000 recycle=2 pLDDT=89.6 pTM=0.104 tol=0.0719\n",
            "2025-04-10 19:17:36,486 alphafold2_ptm_model_4_seed_000 recycle=3 pLDDT=90.8 pTM=0.107 tol=0.0541\n",
            "2025-04-10 19:17:36,486 alphafold2_ptm_model_4_seed_000 took 2.2s (3 recycles)\n",
            "2025-04-10 19:17:37,037 alphafold2_ptm_model_5_seed_000 recycle=0 pLDDT=92.1 pTM=0.107\n",
            "2025-04-10 19:17:37,578 alphafold2_ptm_model_5_seed_000 recycle=1 pLDDT=91.2 pTM=0.109 tol=0.0792\n",
            "2025-04-10 19:17:38,120 alphafold2_ptm_model_5_seed_000 recycle=2 pLDDT=89.9 pTM=0.106 tol=0.0455\n",
            "2025-04-10 19:17:38,661 alphafold2_ptm_model_5_seed_000 recycle=3 pLDDT=91.3 pTM=0.107 tol=0.062\n",
            "2025-04-10 19:17:38,661 alphafold2_ptm_model_5_seed_000 took 2.2s (3 recycles)\n",
            "2025-04-10 19:17:38,674 reranking models by 'plddt' metric\n",
            "2025-04-10 19:17:38,674 rank_001_alphafold2_ptm_model_5_seed_000 pLDDT=91.3 pTM=0.107\n",
            "2025-04-10 19:17:38,677 rank_002_alphafold2_ptm_model_4_seed_000 pLDDT=90.8 pTM=0.107\n",
            "2025-04-10 19:17:38,680 rank_003_alphafold2_ptm_model_2_seed_000 pLDDT=88.9 pTM=0.11\n",
            "2025-04-10 19:17:38,683 rank_004_alphafold2_ptm_model_3_seed_000 pLDDT=86.1 pTM=0.0884\n",
            "2025-04-10 19:17:38,686 rank_005_alphafold2_ptm_model_1_seed_000 pLDDT=85.8 pTM=0.1\n",
            "2025-04-10 19:17:39,692 Query 509/8000: sequence_2509 (length 20)\n"
          ]
        },
        {
          "output_type": "stream",
          "name": "stderr",
          "text": [
            "PENDING:   0%|          | 0/150 [elapsed: 00:00 remaining: ?]"
          ]
        },
        {
          "output_type": "stream",
          "name": "stdout",
          "text": [
            "2025-04-10 19:17:40,391 Sleeping for 8s. Reason: PENDING\n"
          ]
        },
        {
          "output_type": "stream",
          "name": "stderr",
          "text": [
            "RUNNING:   5%|▌         | 8/150 [elapsed: 00:09 remaining: 02:46]"
          ]
        },
        {
          "output_type": "stream",
          "name": "stdout",
          "text": [
            "2025-04-10 19:17:49,066 Sleeping for 10s. Reason: RUNNING\n"
          ]
        },
        {
          "output_type": "stream",
          "name": "stderr",
          "text": [
            "RUNNING:  12%|█▏        | 18/150 [elapsed: 00:20 remaining: 02:25]"
          ]
        },
        {
          "output_type": "stream",
          "name": "stdout",
          "text": [
            "2025-04-10 19:17:59,751 Sleeping for 5s. Reason: RUNNING\n"
          ]
        },
        {
          "output_type": "stream",
          "name": "stderr",
          "text": [
            "COMPLETE: 100%|██████████| 150/150 [elapsed: 00:26 remaining: 00:00]\n"
          ]
        },
        {
          "output_type": "stream",
          "name": "stdout",
          "text": [
            "2025-04-10 19:18:08,352 alphafold2_ptm_model_1_seed_000 recycle=0 pLDDT=60.9 pTM=0.0609\n",
            "2025-04-10 19:18:08,892 alphafold2_ptm_model_1_seed_000 recycle=1 pLDDT=63 pTM=0.0681 tol=0.421\n",
            "2025-04-10 19:18:09,432 alphafold2_ptm_model_1_seed_000 recycle=2 pLDDT=60.8 pTM=0.0646 tol=0.315\n",
            "2025-04-10 19:18:09,972 alphafold2_ptm_model_1_seed_000 recycle=3 pLDDT=60.6 pTM=0.0651 tol=0.456\n",
            "2025-04-10 19:18:09,972 alphafold2_ptm_model_1_seed_000 took 2.2s (3 recycles)\n",
            "2025-04-10 19:18:10,538 alphafold2_ptm_model_2_seed_000 recycle=0 pLDDT=55.4 pTM=0.0523\n",
            "2025-04-10 19:18:11,077 alphafold2_ptm_model_2_seed_000 recycle=1 pLDDT=58.4 pTM=0.0654 tol=0.797\n",
            "2025-04-10 19:18:11,617 alphafold2_ptm_model_2_seed_000 recycle=2 pLDDT=56.2 pTM=0.0609 tol=0.203\n",
            "2025-04-10 19:18:12,156 alphafold2_ptm_model_2_seed_000 recycle=3 pLDDT=57.1 pTM=0.0637 tol=0.619\n",
            "2025-04-10 19:18:12,157 alphafold2_ptm_model_2_seed_000 took 2.2s (3 recycles)\n",
            "2025-04-10 19:18:12,708 alphafold2_ptm_model_3_seed_000 recycle=0 pLDDT=57.8 pTM=0.0458\n",
            "2025-04-10 19:18:13,247 alphafold2_ptm_model_3_seed_000 recycle=1 pLDDT=57.2 pTM=0.0458 tol=1.48\n",
            "2025-04-10 19:18:13,787 alphafold2_ptm_model_3_seed_000 recycle=2 pLDDT=56.5 pTM=0.0447 tol=1.48\n",
            "2025-04-10 19:18:14,326 alphafold2_ptm_model_3_seed_000 recycle=3 pLDDT=57.1 pTM=0.0449 tol=1.39\n",
            "2025-04-10 19:18:14,327 alphafold2_ptm_model_3_seed_000 took 2.2s (3 recycles)\n",
            "2025-04-10 19:18:14,876 alphafold2_ptm_model_4_seed_000 recycle=0 pLDDT=59 pTM=0.0564\n",
            "2025-04-10 19:18:15,416 alphafold2_ptm_model_4_seed_000 recycle=1 pLDDT=61.9 pTM=0.0656 tol=0.898\n",
            "2025-04-10 19:18:15,955 alphafold2_ptm_model_4_seed_000 recycle=2 pLDDT=61.9 pTM=0.065 tol=0.379\n",
            "2025-04-10 19:18:16,495 alphafold2_ptm_model_4_seed_000 recycle=3 pLDDT=61.9 pTM=0.0639 tol=0.245\n",
            "2025-04-10 19:18:16,495 alphafold2_ptm_model_4_seed_000 took 2.2s (3 recycles)\n",
            "2025-04-10 19:18:17,045 alphafold2_ptm_model_5_seed_000 recycle=0 pLDDT=63.2 pTM=0.0675\n",
            "2025-04-10 19:18:17,584 alphafold2_ptm_model_5_seed_000 recycle=1 pLDDT=61.5 pTM=0.0685 tol=0.518\n",
            "2025-04-10 19:18:18,123 alphafold2_ptm_model_5_seed_000 recycle=2 pLDDT=59.8 pTM=0.0649 tol=0.915\n",
            "2025-04-10 19:18:18,663 alphafold2_ptm_model_5_seed_000 recycle=3 pLDDT=56.8 pTM=0.062 tol=0.724\n",
            "2025-04-10 19:18:18,663 alphafold2_ptm_model_5_seed_000 took 2.2s (3 recycles)\n",
            "2025-04-10 19:18:18,673 reranking models by 'plddt' metric\n",
            "2025-04-10 19:18:18,673 rank_001_alphafold2_ptm_model_4_seed_000 pLDDT=61.9 pTM=0.0639\n",
            "2025-04-10 19:18:18,675 rank_002_alphafold2_ptm_model_1_seed_000 pLDDT=60.6 pTM=0.0651\n",
            "2025-04-10 19:18:18,678 rank_003_alphafold2_ptm_model_3_seed_000 pLDDT=57.1 pTM=0.0449\n",
            "2025-04-10 19:18:18,680 rank_004_alphafold2_ptm_model_2_seed_000 pLDDT=57.1 pTM=0.0637\n",
            "2025-04-10 19:18:18,683 rank_005_alphafold2_ptm_model_5_seed_000 pLDDT=56.8 pTM=0.062\n",
            "2025-04-10 19:18:19,685 Query 510/8000: sequence_2510 (length 20)\n"
          ]
        },
        {
          "output_type": "stream",
          "name": "stderr",
          "text": [
            "PENDING:   0%|          | 0/150 [elapsed: 00:00 remaining: ?]"
          ]
        },
        {
          "output_type": "stream",
          "name": "stdout",
          "text": [
            "2025-04-10 19:18:20,378 Sleeping for 8s. Reason: PENDING\n"
          ]
        },
        {
          "output_type": "stream",
          "name": "stderr",
          "text": [
            "RUNNING:   5%|▌         | 8/150 [elapsed: 00:09 remaining: 02:46]"
          ]
        },
        {
          "output_type": "stream",
          "name": "stdout",
          "text": [
            "2025-04-10 19:18:29,055 Sleeping for 10s. Reason: RUNNING\n"
          ]
        },
        {
          "output_type": "stream",
          "name": "stderr",
          "text": [
            "COMPLETE: 100%|██████████| 150/150 [elapsed: 00:20 remaining: 00:00]\n"
          ]
        },
        {
          "output_type": "stream",
          "name": "stdout",
          "text": [
            "2025-04-10 19:18:42,687 alphafold2_ptm_model_1_seed_000 recycle=0 pLDDT=81.1 pTM=0.0901\n",
            "2025-04-10 19:18:43,226 alphafold2_ptm_model_1_seed_000 recycle=1 pLDDT=79.6 pTM=0.0923 tol=0.194\n",
            "2025-04-10 19:18:43,767 alphafold2_ptm_model_1_seed_000 recycle=2 pLDDT=80.7 pTM=0.0944 tol=0.211\n",
            "2025-04-10 19:18:44,307 alphafold2_ptm_model_1_seed_000 recycle=3 pLDDT=78.4 pTM=0.093 tol=0.217\n",
            "2025-04-10 19:18:44,307 alphafold2_ptm_model_1_seed_000 took 2.2s (3 recycles)\n",
            "2025-04-10 19:18:44,871 alphafold2_ptm_model_2_seed_000 recycle=0 pLDDT=79.9 pTM=0.0935\n",
            "2025-04-10 19:18:45,410 alphafold2_ptm_model_2_seed_000 recycle=1 pLDDT=76.9 pTM=0.0923 tol=0.177\n",
            "2025-04-10 19:18:45,951 alphafold2_ptm_model_2_seed_000 recycle=2 pLDDT=78.1 pTM=0.0938 tol=0.0936\n",
            "2025-04-10 19:18:46,491 alphafold2_ptm_model_2_seed_000 recycle=3 pLDDT=76 pTM=0.0933 tol=0.085\n",
            "2025-04-10 19:18:46,492 alphafold2_ptm_model_2_seed_000 took 2.2s (3 recycles)\n",
            "2025-04-10 19:18:47,042 alphafold2_ptm_model_3_seed_000 recycle=0 pLDDT=77.6 pTM=0.0843\n",
            "2025-04-10 19:18:47,583 alphafold2_ptm_model_3_seed_000 recycle=1 pLDDT=79.7 pTM=0.0872 tol=0.139\n",
            "2025-04-10 19:18:48,122 alphafold2_ptm_model_3_seed_000 recycle=2 pLDDT=81.1 pTM=0.0889 tol=0.101\n",
            "2025-04-10 19:18:48,663 alphafold2_ptm_model_3_seed_000 recycle=3 pLDDT=80.8 pTM=0.0886 tol=0.176\n",
            "2025-04-10 19:18:48,663 alphafold2_ptm_model_3_seed_000 took 2.2s (3 recycles)\n",
            "2025-04-10 19:18:49,213 alphafold2_ptm_model_4_seed_000 recycle=0 pLDDT=81.9 pTM=0.0925\n",
            "2025-04-10 19:18:49,752 alphafold2_ptm_model_4_seed_000 recycle=1 pLDDT=83.2 pTM=0.0973 tol=0.168\n",
            "2025-04-10 19:18:50,292 alphafold2_ptm_model_4_seed_000 recycle=2 pLDDT=83.4 pTM=0.098 tol=0.0385\n",
            "2025-04-10 19:18:50,832 alphafold2_ptm_model_4_seed_000 recycle=3 pLDDT=82.3 pTM=0.0956 tol=0.0717\n",
            "2025-04-10 19:18:50,833 alphafold2_ptm_model_4_seed_000 took 2.2s (3 recycles)\n",
            "2025-04-10 19:18:51,382 alphafold2_ptm_model_5_seed_000 recycle=0 pLDDT=83.4 pTM=0.096\n",
            "2025-04-10 19:18:51,922 alphafold2_ptm_model_5_seed_000 recycle=1 pLDDT=83.9 pTM=0.1 tol=0.0724\n",
            "2025-04-10 19:18:52,462 alphafold2_ptm_model_5_seed_000 recycle=2 pLDDT=85.9 pTM=0.102 tol=0.114\n",
            "2025-04-10 19:18:53,002 alphafold2_ptm_model_5_seed_000 recycle=3 pLDDT=83.9 pTM=0.101 tol=0.0609\n",
            "2025-04-10 19:18:53,004 alphafold2_ptm_model_5_seed_000 took 2.2s (3 recycles)\n",
            "2025-04-10 19:18:53,016 reranking models by 'plddt' metric\n",
            "2025-04-10 19:18:53,017 rank_001_alphafold2_ptm_model_5_seed_000 pLDDT=83.9 pTM=0.101\n",
            "2025-04-10 19:18:53,019 rank_002_alphafold2_ptm_model_4_seed_000 pLDDT=82.3 pTM=0.0956\n",
            "2025-04-10 19:18:53,022 rank_003_alphafold2_ptm_model_3_seed_000 pLDDT=80.8 pTM=0.0886\n",
            "2025-04-10 19:18:53,024 rank_004_alphafold2_ptm_model_1_seed_000 pLDDT=78.4 pTM=0.093\n",
            "2025-04-10 19:18:53,026 rank_005_alphafold2_ptm_model_2_seed_000 pLDDT=76 pTM=0.0933\n",
            "2025-04-10 19:18:54,010 Query 511/8000: sequence_2511 (length 20)\n"
          ]
        },
        {
          "output_type": "stream",
          "name": "stderr",
          "text": [
            "PENDING:   0%|          | 0/150 [elapsed: 00:00 remaining: ?]"
          ]
        },
        {
          "output_type": "stream",
          "name": "stdout",
          "text": [
            "2025-04-10 19:18:54,704 Sleeping for 5s. Reason: PENDING\n"
          ]
        },
        {
          "output_type": "stream",
          "name": "stderr",
          "text": [
            "PENDING:   0%|          | 0/150 [elapsed: 00:06 remaining: ?]"
          ]
        },
        {
          "output_type": "stream",
          "name": "stdout",
          "text": [
            "2025-04-10 19:19:00,389 Sleeping for 5s. Reason: PENDING\n"
          ]
        },
        {
          "output_type": "stream",
          "name": "stderr",
          "text": [
            "PENDING:   0%|          | 0/150 [elapsed: 00:12 remaining: ?]"
          ]
        },
        {
          "output_type": "stream",
          "name": "stdout",
          "text": [
            "2025-04-10 19:19:06,066 Sleeping for 10s. Reason: PENDING\n"
          ]
        },
        {
          "output_type": "stream",
          "name": "stderr",
          "text": [
            "RUNNING:   7%|▋         | 10/150 [elapsed: 00:22 remaining: 05:18]"
          ]
        },
        {
          "output_type": "stream",
          "name": "stdout",
          "text": [
            "2025-04-10 19:19:16,754 Sleeping for 5s. Reason: RUNNING\n"
          ]
        },
        {
          "output_type": "stream",
          "name": "stderr",
          "text": [
            "RUNNING:  10%|█         | 15/150 [elapsed: 00:28 remaining: 04:03]"
          ]
        },
        {
          "output_type": "stream",
          "name": "stdout",
          "text": [
            "2025-04-10 19:19:22,445 Sleeping for 7s. Reason: RUNNING\n"
          ]
        },
        {
          "output_type": "stream",
          "name": "stderr",
          "text": [
            "COMPLETE: 100%|██████████| 150/150 [elapsed: 00:36 remaining: 00:00]\n"
          ]
        },
        {
          "output_type": "stream",
          "name": "stdout",
          "text": [
            "2025-04-10 19:19:34,467 alphafold2_ptm_model_1_seed_000 recycle=0 pLDDT=70.4 pTM=0.0747\n",
            "2025-04-10 19:19:35,008 alphafold2_ptm_model_1_seed_000 recycle=1 pLDDT=73.6 pTM=0.0818 tol=0.206\n",
            "2025-04-10 19:19:35,549 alphafold2_ptm_model_1_seed_000 recycle=2 pLDDT=74.3 pTM=0.0812 tol=0.0811\n",
            "2025-04-10 19:19:36,089 alphafold2_ptm_model_1_seed_000 recycle=3 pLDDT=74 pTM=0.0818 tol=0.121\n",
            "2025-04-10 19:19:36,089 alphafold2_ptm_model_1_seed_000 took 2.2s (3 recycles)\n",
            "2025-04-10 19:19:36,649 alphafold2_ptm_model_2_seed_000 recycle=0 pLDDT=67.6 pTM=0.073\n",
            "2025-04-10 19:19:37,190 alphafold2_ptm_model_2_seed_000 recycle=1 pLDDT=70.2 pTM=0.0778 tol=0.218\n",
            "2025-04-10 19:19:37,731 alphafold2_ptm_model_2_seed_000 recycle=2 pLDDT=71.1 pTM=0.0788 tol=0.112\n",
            "2025-04-10 19:19:38,272 alphafold2_ptm_model_2_seed_000 recycle=3 pLDDT=71.1 pTM=0.0797 tol=0.0461\n",
            "2025-04-10 19:19:38,272 alphafold2_ptm_model_2_seed_000 took 2.2s (3 recycles)\n",
            "2025-04-10 19:19:38,823 alphafold2_ptm_model_3_seed_000 recycle=0 pLDDT=69.9 pTM=0.0643\n",
            "2025-04-10 19:19:39,363 alphafold2_ptm_model_3_seed_000 recycle=1 pLDDT=73.3 pTM=0.0703 tol=0.182\n",
            "2025-04-10 19:19:39,903 alphafold2_ptm_model_3_seed_000 recycle=2 pLDDT=72.1 pTM=0.0663 tol=0.29\n",
            "2025-04-10 19:19:40,445 alphafold2_ptm_model_3_seed_000 recycle=3 pLDDT=70.8 pTM=0.0637 tol=0.107\n",
            "2025-04-10 19:19:40,445 alphafold2_ptm_model_3_seed_000 took 2.2s (3 recycles)\n",
            "2025-04-10 19:19:40,997 alphafold2_ptm_model_4_seed_000 recycle=0 pLDDT=68.8 pTM=0.0585\n",
            "2025-04-10 19:19:41,539 alphafold2_ptm_model_4_seed_000 recycle=1 pLDDT=73.6 pTM=0.0739 tol=0.397\n",
            "2025-04-10 19:19:42,079 alphafold2_ptm_model_4_seed_000 recycle=2 pLDDT=74.9 pTM=0.075 tol=0.15\n",
            "2025-04-10 19:19:42,618 alphafold2_ptm_model_4_seed_000 recycle=3 pLDDT=75.5 pTM=0.0759 tol=0.0697\n",
            "2025-04-10 19:19:42,619 alphafold2_ptm_model_4_seed_000 took 2.2s (3 recycles)\n",
            "2025-04-10 19:19:43,169 alphafold2_ptm_model_5_seed_000 recycle=0 pLDDT=68.1 pTM=0.0623\n",
            "2025-04-10 19:19:43,708 alphafold2_ptm_model_5_seed_000 recycle=1 pLDDT=73.8 pTM=0.0781 tol=0.656\n",
            "2025-04-10 19:19:44,248 alphafold2_ptm_model_5_seed_000 recycle=2 pLDDT=74.8 pTM=0.078 tol=0.0794\n",
            "2025-04-10 19:19:44,789 alphafold2_ptm_model_5_seed_000 recycle=3 pLDDT=73.4 pTM=0.0742 tol=0.109\n",
            "2025-04-10 19:19:44,790 alphafold2_ptm_model_5_seed_000 took 2.2s (3 recycles)\n",
            "2025-04-10 19:19:44,799 reranking models by 'plddt' metric\n",
            "2025-04-10 19:19:44,800 rank_001_alphafold2_ptm_model_4_seed_000 pLDDT=75.5 pTM=0.0759\n",
            "2025-04-10 19:19:44,802 rank_002_alphafold2_ptm_model_1_seed_000 pLDDT=74 pTM=0.0818\n",
            "2025-04-10 19:19:44,804 rank_003_alphafold2_ptm_model_5_seed_000 pLDDT=73.4 pTM=0.0742\n",
            "2025-04-10 19:19:44,807 rank_004_alphafold2_ptm_model_2_seed_000 pLDDT=71.1 pTM=0.0797\n",
            "2025-04-10 19:19:44,809 rank_005_alphafold2_ptm_model_3_seed_000 pLDDT=70.8 pTM=0.0637\n",
            "2025-04-10 19:19:45,805 Query 512/8000: sequence_2512 (length 20)\n"
          ]
        },
        {
          "output_type": "stream",
          "name": "stderr",
          "text": [
            "PENDING:   0%|          | 0/150 [elapsed: 00:00 remaining: ?]"
          ]
        },
        {
          "output_type": "stream",
          "name": "stdout",
          "text": [
            "2025-04-10 19:19:46,494 Sleeping for 5s. Reason: PENDING\n"
          ]
        },
        {
          "output_type": "stream",
          "name": "stderr",
          "text": [
            "COMPLETE: 100%|██████████| 150/150 [elapsed: 00:07 remaining: 00:00]\n"
          ]
        },
        {
          "output_type": "stream",
          "name": "stdout",
          "text": [
            "2025-04-10 19:19:55,134 alphafold2_ptm_model_1_seed_000 recycle=0 pLDDT=67.6 pTM=0.0662\n",
            "2025-04-10 19:19:55,675 alphafold2_ptm_model_1_seed_000 recycle=1 pLDDT=72 pTM=0.0738 tol=0.169\n",
            "2025-04-10 19:19:56,215 alphafold2_ptm_model_1_seed_000 recycle=2 pLDDT=75.4 pTM=0.0783 tol=0.0836\n",
            "2025-04-10 19:19:56,754 alphafold2_ptm_model_1_seed_000 recycle=3 pLDDT=74.8 pTM=0.0784 tol=0.0751\n",
            "2025-04-10 19:19:56,755 alphafold2_ptm_model_1_seed_000 took 2.2s (3 recycles)\n",
            "2025-04-10 19:19:57,320 alphafold2_ptm_model_2_seed_000 recycle=0 pLDDT=63.8 pTM=0.0665\n",
            "2025-04-10 19:19:57,859 alphafold2_ptm_model_2_seed_000 recycle=1 pLDDT=65.5 pTM=0.0698 tol=0.273\n",
            "2025-04-10 19:19:58,400 alphafold2_ptm_model_2_seed_000 recycle=2 pLDDT=65.6 pTM=0.0681 tol=0.0782\n",
            "2025-04-10 19:19:58,940 alphafold2_ptm_model_2_seed_000 recycle=3 pLDDT=64.9 pTM=0.0683 tol=0.0565\n",
            "2025-04-10 19:19:58,941 alphafold2_ptm_model_2_seed_000 took 2.2s (3 recycles)\n",
            "2025-04-10 19:19:59,491 alphafold2_ptm_model_3_seed_000 recycle=0 pLDDT=64.5 pTM=0.059\n",
            "2025-04-10 19:20:00,032 alphafold2_ptm_model_3_seed_000 recycle=1 pLDDT=63.5 pTM=0.0557 tol=0.282\n",
            "2025-04-10 19:20:00,572 alphafold2_ptm_model_3_seed_000 recycle=2 pLDDT=65.1 pTM=0.0554 tol=0.167\n",
            "2025-04-10 19:20:01,112 alphafold2_ptm_model_3_seed_000 recycle=3 pLDDT=63.2 pTM=0.0561 tol=0.422\n",
            "2025-04-10 19:20:01,112 alphafold2_ptm_model_3_seed_000 took 2.2s (3 recycles)\n",
            "2025-04-10 19:20:01,662 alphafold2_ptm_model_4_seed_000 recycle=0 pLDDT=59.8 pTM=0.0456\n",
            "2025-04-10 19:20:02,203 alphafold2_ptm_model_4_seed_000 recycle=1 pLDDT=58 pTM=0.0461 tol=2.5\n",
            "2025-04-10 19:20:02,742 alphafold2_ptm_model_4_seed_000 recycle=2 pLDDT=58.9 pTM=0.0517 tol=1.98\n",
            "2025-04-10 19:20:03,282 alphafold2_ptm_model_4_seed_000 recycle=3 pLDDT=58.2 pTM=0.0513 tol=0.381\n",
            "2025-04-10 19:20:03,283 alphafold2_ptm_model_4_seed_000 took 2.2s (3 recycles)\n",
            "2025-04-10 19:20:03,833 alphafold2_ptm_model_5_seed_000 recycle=0 pLDDT=68.2 pTM=0.0655\n",
            "2025-04-10 19:20:04,372 alphafold2_ptm_model_5_seed_000 recycle=1 pLDDT=66.7 pTM=0.0643 tol=0.13\n",
            "2025-04-10 19:20:04,912 alphafold2_ptm_model_5_seed_000 recycle=2 pLDDT=68.2 pTM=0.0663 tol=0.0825\n",
            "2025-04-10 19:20:05,452 alphafold2_ptm_model_5_seed_000 recycle=3 pLDDT=66.5 pTM=0.0668 tol=0.0744\n",
            "2025-04-10 19:20:05,453 alphafold2_ptm_model_5_seed_000 took 2.2s (3 recycles)\n",
            "2025-04-10 19:20:05,463 reranking models by 'plddt' metric\n",
            "2025-04-10 19:20:05,463 rank_001_alphafold2_ptm_model_1_seed_000 pLDDT=74.8 pTM=0.0784\n",
            "2025-04-10 19:20:05,466 rank_002_alphafold2_ptm_model_5_seed_000 pLDDT=66.5 pTM=0.0668\n",
            "2025-04-10 19:20:05,468 rank_003_alphafold2_ptm_model_2_seed_000 pLDDT=64.9 pTM=0.0683\n",
            "2025-04-10 19:20:05,471 rank_004_alphafold2_ptm_model_3_seed_000 pLDDT=63.2 pTM=0.0561\n",
            "2025-04-10 19:20:05,473 rank_005_alphafold2_ptm_model_4_seed_000 pLDDT=58.2 pTM=0.0513\n",
            "2025-04-10 19:20:06,470 Query 513/8000: sequence_2513 (length 20)\n"
          ]
        },
        {
          "output_type": "stream",
          "name": "stderr",
          "text": [
            "PENDING:   0%|          | 0/150 [elapsed: 00:00 remaining: ?]"
          ]
        },
        {
          "output_type": "stream",
          "name": "stdout",
          "text": [
            "2025-04-10 19:20:07,167 Sleeping for 10s. Reason: PENDING\n"
          ]
        },
        {
          "output_type": "stream",
          "name": "stderr",
          "text": [
            "RUNNING:   7%|▋         | 10/150 [elapsed: 00:11 remaining: 02:39]"
          ]
        },
        {
          "output_type": "stream",
          "name": "stdout",
          "text": [
            "2025-04-10 19:20:17,852 Sleeping for 6s. Reason: RUNNING\n"
          ]
        },
        {
          "output_type": "stream",
          "name": "stderr",
          "text": [
            "COMPLETE: 100%|██████████| 150/150 [elapsed: 00:18 remaining: 00:00]\n"
          ]
        },
        {
          "output_type": "stream",
          "name": "stdout",
          "text": [
            "2025-04-10 19:20:27,496 alphafold2_ptm_model_1_seed_000 recycle=0 pLDDT=69.1 pTM=0.0763\n",
            "2025-04-10 19:20:28,035 alphafold2_ptm_model_1_seed_000 recycle=1 pLDDT=70.2 pTM=0.0795 tol=0.35\n",
            "2025-04-10 19:20:28,575 alphafold2_ptm_model_1_seed_000 recycle=2 pLDDT=71.1 pTM=0.0812 tol=0.146\n",
            "2025-04-10 19:20:29,115 alphafold2_ptm_model_1_seed_000 recycle=3 pLDDT=72.4 pTM=0.0834 tol=0.157\n",
            "2025-04-10 19:20:29,116 alphafold2_ptm_model_1_seed_000 took 2.2s (3 recycles)\n",
            "2025-04-10 19:20:29,680 alphafold2_ptm_model_2_seed_000 recycle=0 pLDDT=59.7 pTM=0.0666\n",
            "2025-04-10 19:20:30,220 alphafold2_ptm_model_2_seed_000 recycle=1 pLDDT=61.9 pTM=0.071 tol=0.245\n",
            "2025-04-10 19:20:30,760 alphafold2_ptm_model_2_seed_000 recycle=2 pLDDT=63.5 pTM=0.0735 tol=0.253\n",
            "2025-04-10 19:20:31,299 alphafold2_ptm_model_2_seed_000 recycle=3 pLDDT=64.8 pTM=0.0749 tol=0.146\n",
            "2025-04-10 19:20:31,299 alphafold2_ptm_model_2_seed_000 took 2.2s (3 recycles)\n",
            "2025-04-10 19:20:31,848 alphafold2_ptm_model_3_seed_000 recycle=0 pLDDT=68.8 pTM=0.0714\n",
            "2025-04-10 19:20:32,388 alphafold2_ptm_model_3_seed_000 recycle=1 pLDDT=70.6 pTM=0.0754 tol=0.539\n",
            "2025-04-10 19:20:32,929 alphafold2_ptm_model_3_seed_000 recycle=2 pLDDT=73.5 pTM=0.0805 tol=0.179\n",
            "2025-04-10 19:20:33,469 alphafold2_ptm_model_3_seed_000 recycle=3 pLDDT=74.4 pTM=0.0825 tol=0.196\n",
            "2025-04-10 19:20:33,470 alphafold2_ptm_model_3_seed_000 took 2.2s (3 recycles)\n",
            "2025-04-10 19:20:34,019 alphafold2_ptm_model_4_seed_000 recycle=0 pLDDT=70.1 pTM=0.0736\n",
            "2025-04-10 19:20:34,559 alphafold2_ptm_model_4_seed_000 recycle=1 pLDDT=69.7 pTM=0.0778 tol=0.646\n",
            "2025-04-10 19:20:35,099 alphafold2_ptm_model_4_seed_000 recycle=2 pLDDT=72.1 pTM=0.0822 tol=0.2\n",
            "2025-04-10 19:20:35,639 alphafold2_ptm_model_4_seed_000 recycle=3 pLDDT=73.1 pTM=0.084 tol=0.18\n",
            "2025-04-10 19:20:35,639 alphafold2_ptm_model_4_seed_000 took 2.2s (3 recycles)\n",
            "2025-04-10 19:20:36,188 alphafold2_ptm_model_5_seed_000 recycle=0 pLDDT=71.1 pTM=0.082\n",
            "2025-04-10 19:20:36,728 alphafold2_ptm_model_5_seed_000 recycle=1 pLDDT=71.4 pTM=0.087 tol=0.837\n",
            "2025-04-10 19:20:37,268 alphafold2_ptm_model_5_seed_000 recycle=2 pLDDT=73.4 pTM=0.0897 tol=0.139\n",
            "2025-04-10 19:20:37,808 alphafold2_ptm_model_5_seed_000 recycle=3 pLDDT=74.2 pTM=0.0913 tol=0.654\n",
            "2025-04-10 19:20:37,809 alphafold2_ptm_model_5_seed_000 took 2.2s (3 recycles)\n",
            "2025-04-10 19:20:37,818 reranking models by 'plddt' metric\n",
            "2025-04-10 19:20:37,818 rank_001_alphafold2_ptm_model_3_seed_000 pLDDT=74.4 pTM=0.0825\n",
            "2025-04-10 19:20:37,821 rank_002_alphafold2_ptm_model_5_seed_000 pLDDT=74.2 pTM=0.0913\n",
            "2025-04-10 19:20:37,823 rank_003_alphafold2_ptm_model_4_seed_000 pLDDT=73.1 pTM=0.084\n",
            "2025-04-10 19:20:37,826 rank_004_alphafold2_ptm_model_1_seed_000 pLDDT=72.4 pTM=0.0834\n",
            "2025-04-10 19:20:37,828 rank_005_alphafold2_ptm_model_2_seed_000 pLDDT=64.8 pTM=0.0749\n",
            "2025-04-10 19:20:38,832 Query 514/8000: sequence_2514 (length 20)\n"
          ]
        },
        {
          "output_type": "stream",
          "name": "stderr",
          "text": [
            "PENDING:   0%|          | 0/150 [elapsed: 00:00 remaining: ?]"
          ]
        },
        {
          "output_type": "stream",
          "name": "stdout",
          "text": [
            "2025-04-10 19:20:39,673 Sleeping for 10s. Reason: PENDING\n"
          ]
        },
        {
          "output_type": "stream",
          "name": "stderr",
          "text": [
            "COMPLETE: 100%|██████████| 150/150 [elapsed: 00:12 remaining: 00:00]\n"
          ]
        },
        {
          "output_type": "stream",
          "name": "stdout",
          "text": [
            "2025-04-10 19:20:53,301 alphafold2_ptm_model_1_seed_000 recycle=0 pLDDT=70.9 pTM=0.0809\n",
            "2025-04-10 19:20:53,840 alphafold2_ptm_model_1_seed_000 recycle=1 pLDDT=70.1 pTM=0.0781 tol=0.855\n",
            "2025-04-10 19:20:54,381 alphafold2_ptm_model_1_seed_000 recycle=2 pLDDT=69.9 pTM=0.0801 tol=0.505\n",
            "2025-04-10 19:20:54,921 alphafold2_ptm_model_1_seed_000 recycle=3 pLDDT=69.6 pTM=0.0772 tol=0.625\n",
            "2025-04-10 19:20:54,922 alphafold2_ptm_model_1_seed_000 took 2.2s (3 recycles)\n",
            "2025-04-10 19:20:55,475 alphafold2_ptm_model_2_seed_000 recycle=0 pLDDT=67.9 pTM=0.076\n",
            "2025-04-10 19:20:56,015 alphafold2_ptm_model_2_seed_000 recycle=1 pLDDT=67.2 pTM=0.0708 tol=1.1\n",
            "2025-04-10 19:20:56,555 alphafold2_ptm_model_2_seed_000 recycle=2 pLDDT=67.7 pTM=0.0737 tol=0.785\n",
            "2025-04-10 19:20:57,095 alphafold2_ptm_model_2_seed_000 recycle=3 pLDDT=67.4 pTM=0.0726 tol=0.129\n",
            "2025-04-10 19:20:57,095 alphafold2_ptm_model_2_seed_000 took 2.2s (3 recycles)\n",
            "2025-04-10 19:20:57,664 alphafold2_ptm_model_3_seed_000 recycle=0 pLDDT=69.4 pTM=0.0725\n",
            "2025-04-10 19:20:58,204 alphafold2_ptm_model_3_seed_000 recycle=1 pLDDT=70.3 pTM=0.0708 tol=2.46\n",
            "2025-04-10 19:20:58,745 alphafold2_ptm_model_3_seed_000 recycle=2 pLDDT=72.3 pTM=0.075 tol=0.839\n",
            "2025-04-10 19:20:59,285 alphafold2_ptm_model_3_seed_000 recycle=3 pLDDT=72 pTM=0.075 tol=0.247\n",
            "2025-04-10 19:20:59,285 alphafold2_ptm_model_3_seed_000 took 2.2s (3 recycles)\n",
            "2025-04-10 19:20:59,835 alphafold2_ptm_model_4_seed_000 recycle=0 pLDDT=67.9 pTM=0.0721\n",
            "2025-04-10 19:21:00,375 alphafold2_ptm_model_4_seed_000 recycle=1 pLDDT=69.7 pTM=0.0724 tol=1.88\n",
            "2025-04-10 19:21:00,915 alphafold2_ptm_model_4_seed_000 recycle=2 pLDDT=70.8 pTM=0.074 tol=0.909\n",
            "2025-04-10 19:21:01,454 alphafold2_ptm_model_4_seed_000 recycle=3 pLDDT=70.2 pTM=0.0734 tol=0.313\n",
            "2025-04-10 19:21:01,455 alphafold2_ptm_model_4_seed_000 took 2.2s (3 recycles)\n",
            "2025-04-10 19:21:02,004 alphafold2_ptm_model_5_seed_000 recycle=0 pLDDT=68.9 pTM=0.0783\n",
            "2025-04-10 19:21:02,543 alphafold2_ptm_model_5_seed_000 recycle=1 pLDDT=66.2 pTM=0.0764 tol=2.45\n",
            "2025-04-10 19:21:03,083 alphafold2_ptm_model_5_seed_000 recycle=2 pLDDT=68.8 pTM=0.0785 tol=1.72\n",
            "2025-04-10 19:21:03,623 alphafold2_ptm_model_5_seed_000 recycle=3 pLDDT=68.6 pTM=0.0782 tol=0.594\n",
            "2025-04-10 19:21:03,624 alphafold2_ptm_model_5_seed_000 took 2.2s (3 recycles)\n",
            "2025-04-10 19:21:03,633 reranking models by 'plddt' metric\n",
            "2025-04-10 19:21:03,633 rank_001_alphafold2_ptm_model_3_seed_000 pLDDT=72 pTM=0.075\n",
            "2025-04-10 19:21:03,636 rank_002_alphafold2_ptm_model_4_seed_000 pLDDT=70.2 pTM=0.0734\n",
            "2025-04-10 19:21:03,638 rank_003_alphafold2_ptm_model_1_seed_000 pLDDT=69.6 pTM=0.0772\n",
            "2025-04-10 19:21:03,641 rank_004_alphafold2_ptm_model_5_seed_000 pLDDT=68.6 pTM=0.0782\n",
            "2025-04-10 19:21:03,643 rank_005_alphafold2_ptm_model_2_seed_000 pLDDT=67.4 pTM=0.0726\n",
            "2025-04-10 19:21:04,634 Query 515/8000: sequence_2515 (length 20)\n"
          ]
        },
        {
          "output_type": "stream",
          "name": "stderr",
          "text": [
            "PENDING:   0%|          | 0/150 [elapsed: 00:00 remaining: ?]"
          ]
        },
        {
          "output_type": "stream",
          "name": "stdout",
          "text": [
            "2025-04-10 19:21:05,325 Sleeping for 7s. Reason: PENDING\n"
          ]
        },
        {
          "output_type": "stream",
          "name": "stderr",
          "text": [
            "COMPLETE: 100%|██████████| 150/150 [elapsed: 00:09 remaining: 00:00]\n"
          ]
        },
        {
          "output_type": "stream",
          "name": "stdout",
          "text": [
            "2025-04-10 19:21:15,951 alphafold2_ptm_model_1_seed_000 recycle=0 pLDDT=63 pTM=0.0486\n",
            "2025-04-10 19:21:16,491 alphafold2_ptm_model_1_seed_000 recycle=1 pLDDT=64.9 pTM=0.0488 tol=2.12\n",
            "2025-04-10 19:21:17,031 alphafold2_ptm_model_1_seed_000 recycle=2 pLDDT=65.6 pTM=0.0496 tol=0.608\n",
            "2025-04-10 19:21:17,571 alphafold2_ptm_model_1_seed_000 recycle=3 pLDDT=67.3 pTM=0.0496 tol=1.2\n",
            "2025-04-10 19:21:17,572 alphafold2_ptm_model_1_seed_000 took 2.2s (3 recycles)\n",
            "2025-04-10 19:21:18,122 alphafold2_ptm_model_2_seed_000 recycle=0 pLDDT=62.1 pTM=0.0484\n",
            "2025-04-10 19:21:18,661 alphafold2_ptm_model_2_seed_000 recycle=1 pLDDT=64.9 pTM=0.0473 tol=2.72\n",
            "2025-04-10 19:21:19,201 alphafold2_ptm_model_2_seed_000 recycle=2 pLDDT=67.4 pTM=0.0485 tol=1.06\n",
            "2025-04-10 19:21:19,740 alphafold2_ptm_model_2_seed_000 recycle=3 pLDDT=67.6 pTM=0.049 tol=0.448\n",
            "2025-04-10 19:21:19,741 alphafold2_ptm_model_2_seed_000 took 2.2s (3 recycles)\n",
            "2025-04-10 19:21:20,306 alphafold2_ptm_model_3_seed_000 recycle=0 pLDDT=63.9 pTM=0.0442\n",
            "2025-04-10 19:21:20,846 alphafold2_ptm_model_3_seed_000 recycle=1 pLDDT=65.2 pTM=0.0458 tol=0.538\n",
            "2025-04-10 19:21:21,387 alphafold2_ptm_model_3_seed_000 recycle=2 pLDDT=64.6 pTM=0.0466 tol=0.644\n",
            "2025-04-10 19:21:21,927 alphafold2_ptm_model_3_seed_000 recycle=3 pLDDT=64.9 pTM=0.0462 tol=0.497\n",
            "2025-04-10 19:21:21,928 alphafold2_ptm_model_3_seed_000 took 2.2s (3 recycles)\n",
            "2025-04-10 19:21:22,479 alphafold2_ptm_model_4_seed_000 recycle=0 pLDDT=62.3 pTM=0.0455\n",
            "2025-04-10 19:21:23,019 alphafold2_ptm_model_4_seed_000 recycle=1 pLDDT=64.7 pTM=0.0462 tol=0.81\n",
            "2025-04-10 19:21:23,559 alphafold2_ptm_model_4_seed_000 recycle=2 pLDDT=66.7 pTM=0.0467 tol=0.244\n",
            "2025-04-10 19:21:24,099 alphafold2_ptm_model_4_seed_000 recycle=3 pLDDT=66.8 pTM=0.0464 tol=0.136\n",
            "2025-04-10 19:21:24,100 alphafold2_ptm_model_4_seed_000 took 2.2s (3 recycles)\n",
            "2025-04-10 19:21:24,649 alphafold2_ptm_model_5_seed_000 recycle=0 pLDDT=63.2 pTM=0.0532\n",
            "2025-04-10 19:21:25,189 alphafold2_ptm_model_5_seed_000 recycle=1 pLDDT=62.4 pTM=0.0523 tol=0.658\n",
            "2025-04-10 19:21:25,729 alphafold2_ptm_model_5_seed_000 recycle=2 pLDDT=63.6 pTM=0.0479 tol=1.73\n",
            "2025-04-10 19:21:26,269 alphafold2_ptm_model_5_seed_000 recycle=3 pLDDT=64.1 pTM=0.049 tol=0.944\n",
            "2025-04-10 19:21:26,270 alphafold2_ptm_model_5_seed_000 took 2.2s (3 recycles)\n",
            "2025-04-10 19:21:26,279 reranking models by 'plddt' metric\n",
            "2025-04-10 19:21:26,279 rank_001_alphafold2_ptm_model_2_seed_000 pLDDT=67.6 pTM=0.049\n",
            "2025-04-10 19:21:26,282 rank_002_alphafold2_ptm_model_1_seed_000 pLDDT=67.3 pTM=0.0496\n",
            "2025-04-10 19:21:26,284 rank_003_alphafold2_ptm_model_4_seed_000 pLDDT=66.8 pTM=0.0464\n",
            "2025-04-10 19:21:26,287 rank_004_alphafold2_ptm_model_3_seed_000 pLDDT=64.9 pTM=0.0462\n",
            "2025-04-10 19:21:26,289 rank_005_alphafold2_ptm_model_5_seed_000 pLDDT=64.1 pTM=0.049\n",
            "2025-04-10 19:21:27,294 Query 516/8000: sequence_2516 (length 20)\n"
          ]
        },
        {
          "output_type": "stream",
          "name": "stderr",
          "text": [
            "PENDING:   0%|          | 0/150 [elapsed: 00:00 remaining: ?]"
          ]
        },
        {
          "output_type": "stream",
          "name": "stdout",
          "text": [
            "2025-04-10 19:21:27,991 Sleeping for 7s. Reason: PENDING\n"
          ]
        },
        {
          "output_type": "stream",
          "name": "stderr",
          "text": [
            "RUNNING:   5%|▍         | 7/150 [elapsed: 00:08 remaining: 02:51]"
          ]
        },
        {
          "output_type": "stream",
          "name": "stdout",
          "text": [
            "2025-04-10 19:21:35,676 Sleeping for 6s. Reason: RUNNING\n"
          ]
        },
        {
          "output_type": "stream",
          "name": "stderr",
          "text": [
            "RUNNING:   9%|▊         | 13/150 [elapsed: 00:15 remaining: 02:37]"
          ]
        },
        {
          "output_type": "stream",
          "name": "stdout",
          "text": [
            "2025-04-10 19:21:42,365 Sleeping for 5s. Reason: RUNNING\n"
          ]
        },
        {
          "output_type": "stream",
          "name": "stderr",
          "text": [
            "COMPLETE: 100%|██████████| 150/150 [elapsed: 00:21 remaining: 00:00]\n"
          ]
        },
        {
          "output_type": "stream",
          "name": "stdout",
          "text": [
            "2025-04-10 19:21:50,982 alphafold2_ptm_model_1_seed_000 recycle=0 pLDDT=54.4 pTM=0.0491\n",
            "2025-04-10 19:21:51,522 alphafold2_ptm_model_1_seed_000 recycle=1 pLDDT=52.5 pTM=0.0478 tol=1.07\n",
            "2025-04-10 19:21:52,062 alphafold2_ptm_model_1_seed_000 recycle=2 pLDDT=50.8 pTM=0.0471 tol=1.42\n",
            "2025-04-10 19:21:52,601 alphafold2_ptm_model_1_seed_000 recycle=3 pLDDT=53.7 pTM=0.0477 tol=2.61\n",
            "2025-04-10 19:21:52,602 alphafold2_ptm_model_1_seed_000 took 2.2s (3 recycles)\n",
            "2025-04-10 19:21:53,151 alphafold2_ptm_model_2_seed_000 recycle=0 pLDDT=54.3 pTM=0.0462\n",
            "2025-04-10 19:21:53,690 alphafold2_ptm_model_2_seed_000 recycle=1 pLDDT=52.5 pTM=0.0457 tol=1.89\n",
            "2025-04-10 19:21:54,230 alphafold2_ptm_model_2_seed_000 recycle=2 pLDDT=50.7 pTM=0.0454 tol=2.63\n",
            "2025-04-10 19:21:54,770 alphafold2_ptm_model_2_seed_000 recycle=3 pLDDT=52 pTM=0.0476 tol=2.11\n",
            "2025-04-10 19:21:54,770 alphafold2_ptm_model_2_seed_000 took 2.2s (3 recycles)\n",
            "2025-04-10 19:21:55,331 alphafold2_ptm_model_3_seed_000 recycle=0 pLDDT=55.7 pTM=0.0455\n",
            "2025-04-10 19:21:55,871 alphafold2_ptm_model_3_seed_000 recycle=1 pLDDT=55 pTM=0.0443 tol=0.936\n",
            "2025-04-10 19:21:56,410 alphafold2_ptm_model_3_seed_000 recycle=2 pLDDT=55.3 pTM=0.0455 tol=0.906\n",
            "2025-04-10 19:21:56,950 alphafold2_ptm_model_3_seed_000 recycle=3 pLDDT=56.7 pTM=0.0455 tol=0.348\n",
            "2025-04-10 19:21:56,951 alphafold2_ptm_model_3_seed_000 took 2.2s (3 recycles)\n",
            "2025-04-10 19:21:57,501 alphafold2_ptm_model_4_seed_000 recycle=0 pLDDT=57 pTM=0.0512\n",
            "2025-04-10 19:21:58,041 alphafold2_ptm_model_4_seed_000 recycle=1 pLDDT=54.7 pTM=0.0523 tol=0.52\n",
            "2025-04-10 19:21:58,582 alphafold2_ptm_model_4_seed_000 recycle=2 pLDDT=54.7 pTM=0.0536 tol=0.62\n",
            "2025-04-10 19:21:59,121 alphafold2_ptm_model_4_seed_000 recycle=3 pLDDT=56.7 pTM=0.054 tol=0.732\n",
            "2025-04-10 19:21:59,122 alphafold2_ptm_model_4_seed_000 took 2.2s (3 recycles)\n",
            "2025-04-10 19:21:59,674 alphafold2_ptm_model_5_seed_000 recycle=0 pLDDT=56.8 pTM=0.0532\n",
            "2025-04-10 19:22:00,215 alphafold2_ptm_model_5_seed_000 recycle=1 pLDDT=52.2 pTM=0.0488 tol=1.03\n",
            "2025-04-10 19:22:00,755 alphafold2_ptm_model_5_seed_000 recycle=2 pLDDT=49.4 pTM=0.0465 tol=0.564\n",
            "2025-04-10 19:22:01,295 alphafold2_ptm_model_5_seed_000 recycle=3 pLDDT=50.6 pTM=0.0468 tol=0.308\n",
            "2025-04-10 19:22:01,296 alphafold2_ptm_model_5_seed_000 took 2.2s (3 recycles)\n",
            "2025-04-10 19:22:01,306 reranking models by 'plddt' metric\n",
            "2025-04-10 19:22:01,306 rank_001_alphafold2_ptm_model_3_seed_000 pLDDT=56.7 pTM=0.0455\n",
            "2025-04-10 19:22:01,308 rank_002_alphafold2_ptm_model_4_seed_000 pLDDT=56.7 pTM=0.054\n",
            "2025-04-10 19:22:01,311 rank_003_alphafold2_ptm_model_1_seed_000 pLDDT=53.7 pTM=0.0477\n",
            "2025-04-10 19:22:01,314 rank_004_alphafold2_ptm_model_2_seed_000 pLDDT=52 pTM=0.0476\n",
            "2025-04-10 19:22:01,316 rank_005_alphafold2_ptm_model_5_seed_000 pLDDT=50.6 pTM=0.0468\n",
            "2025-04-10 19:22:02,329 Query 517/8000: sequence_2517 (length 20)\n"
          ]
        },
        {
          "output_type": "stream",
          "name": "stderr",
          "text": [
            "PENDING:   0%|          | 0/150 [elapsed: 00:00 remaining: ?]"
          ]
        },
        {
          "output_type": "stream",
          "name": "stdout",
          "text": [
            "2025-04-10 19:22:03,022 Sleeping for 5s. Reason: PENDING\n"
          ]
        },
        {
          "output_type": "stream",
          "name": "stderr",
          "text": [
            "COMPLETE: 100%|██████████| 150/150 [elapsed: 00:07 remaining: 00:00]\n"
          ]
        },
        {
          "output_type": "stream",
          "name": "stdout",
          "text": [
            "2025-04-10 19:22:11,665 alphafold2_ptm_model_1_seed_000 recycle=0 pLDDT=91.6 pTM=0.109\n",
            "2025-04-10 19:22:12,204 alphafold2_ptm_model_1_seed_000 recycle=1 pLDDT=90 pTM=0.102 tol=0.103\n",
            "2025-04-10 19:22:12,744 alphafold2_ptm_model_1_seed_000 recycle=2 pLDDT=90.9 pTM=0.107 tol=0.0547\n",
            "2025-04-10 19:22:13,284 alphafold2_ptm_model_1_seed_000 recycle=3 pLDDT=88.9 pTM=0.1 tol=0.096\n",
            "2025-04-10 19:22:13,285 alphafold2_ptm_model_1_seed_000 took 2.2s (3 recycles)\n",
            "2025-04-10 19:22:13,836 alphafold2_ptm_model_2_seed_000 recycle=0 pLDDT=92.9 pTM=0.118\n",
            "2025-04-10 19:22:14,375 alphafold2_ptm_model_2_seed_000 recycle=1 pLDDT=90.5 pTM=0.11 tol=0.121\n",
            "2025-04-10 19:22:14,915 alphafold2_ptm_model_2_seed_000 recycle=2 pLDDT=91.6 pTM=0.112 tol=0.0496\n",
            "2025-04-10 19:22:15,456 alphafold2_ptm_model_2_seed_000 recycle=3 pLDDT=89.8 pTM=0.11 tol=0.0357\n",
            "2025-04-10 19:22:15,457 alphafold2_ptm_model_2_seed_000 took 2.2s (3 recycles)\n",
            "2025-04-10 19:22:16,020 alphafold2_ptm_model_3_seed_000 recycle=0 pLDDT=91.7 pTM=0.105\n",
            "2025-04-10 19:22:16,561 alphafold2_ptm_model_3_seed_000 recycle=1 pLDDT=89 pTM=0.102 tol=0.0874\n",
            "2025-04-10 19:22:17,102 alphafold2_ptm_model_3_seed_000 recycle=2 pLDDT=89.8 pTM=0.102 tol=0.262\n",
            "2025-04-10 19:22:17,643 alphafold2_ptm_model_3_seed_000 recycle=3 pLDDT=88.8 pTM=0.0988 tol=0.096\n",
            "2025-04-10 19:22:17,644 alphafold2_ptm_model_3_seed_000 took 2.2s (3 recycles)\n",
            "2025-04-10 19:22:18,195 alphafold2_ptm_model_4_seed_000 recycle=0 pLDDT=92.6 pTM=0.11\n",
            "2025-04-10 19:22:18,737 alphafold2_ptm_model_4_seed_000 recycle=1 pLDDT=91.4 pTM=0.106 tol=0.208\n",
            "2025-04-10 19:22:19,277 alphafold2_ptm_model_4_seed_000 recycle=2 pLDDT=92.1 pTM=0.107 tol=0.0356\n",
            "2025-04-10 19:22:19,817 alphafold2_ptm_model_4_seed_000 recycle=3 pLDDT=91.5 pTM=0.105 tol=0.0545\n",
            "2025-04-10 19:22:19,818 alphafold2_ptm_model_4_seed_000 took 2.2s (3 recycles)\n",
            "2025-04-10 19:22:20,367 alphafold2_ptm_model_5_seed_000 recycle=0 pLDDT=94.2 pTM=0.111\n",
            "2025-04-10 19:22:20,908 alphafold2_ptm_model_5_seed_000 recycle=1 pLDDT=92.4 pTM=0.106 tol=0.082\n",
            "2025-04-10 19:22:21,451 alphafold2_ptm_model_5_seed_000 recycle=2 pLDDT=92.2 pTM=0.103 tol=0.0684\n",
            "2025-04-10 19:22:21,992 alphafold2_ptm_model_5_seed_000 recycle=3 pLDDT=90.6 pTM=0.102 tol=0.0359\n",
            "2025-04-10 19:22:21,993 alphafold2_ptm_model_5_seed_000 took 2.2s (3 recycles)\n",
            "2025-04-10 19:22:22,002 reranking models by 'plddt' metric\n",
            "2025-04-10 19:22:22,002 rank_001_alphafold2_ptm_model_4_seed_000 pLDDT=91.5 pTM=0.105\n",
            "2025-04-10 19:22:22,005 rank_002_alphafold2_ptm_model_5_seed_000 pLDDT=90.6 pTM=0.102\n",
            "2025-04-10 19:22:22,007 rank_003_alphafold2_ptm_model_2_seed_000 pLDDT=89.8 pTM=0.11\n",
            "2025-04-10 19:22:22,010 rank_004_alphafold2_ptm_model_1_seed_000 pLDDT=88.9 pTM=0.1\n",
            "2025-04-10 19:22:22,012 rank_005_alphafold2_ptm_model_3_seed_000 pLDDT=88.8 pTM=0.0988\n",
            "2025-04-10 19:22:23,054 Query 518/8000: sequence_2518 (length 20)\n"
          ]
        },
        {
          "output_type": "stream",
          "name": "stderr",
          "text": [
            "PENDING:   0%|          | 0/150 [elapsed: 00:00 remaining: ?]"
          ]
        },
        {
          "output_type": "stream",
          "name": "stdout",
          "text": [
            "2025-04-10 19:22:23,760 Sleeping for 8s. Reason: PENDING\n"
          ]
        },
        {
          "output_type": "stream",
          "name": "stderr",
          "text": [
            "COMPLETE: 100%|██████████| 150/150 [elapsed: 00:10 remaining: 00:00]\n"
          ]
        },
        {
          "output_type": "stream",
          "name": "stdout",
          "text": [
            "2025-04-10 19:22:35,382 alphafold2_ptm_model_1_seed_000 recycle=0 pLDDT=65.1 pTM=0.0489\n",
            "2025-04-10 19:22:35,922 alphafold2_ptm_model_1_seed_000 recycle=1 pLDDT=68.3 pTM=0.0511 tol=0.672\n",
            "2025-04-10 19:22:36,461 alphafold2_ptm_model_1_seed_000 recycle=2 pLDDT=69.5 pTM=0.0508 tol=0.39\n",
            "2025-04-10 19:22:37,001 alphafold2_ptm_model_1_seed_000 recycle=3 pLDDT=68.8 pTM=0.0505 tol=0.339\n",
            "2025-04-10 19:22:37,001 alphafold2_ptm_model_1_seed_000 took 2.2s (3 recycles)\n",
            "2025-04-10 19:22:37,550 alphafold2_ptm_model_2_seed_000 recycle=0 pLDDT=66 pTM=0.0468\n",
            "2025-04-10 19:22:38,090 alphafold2_ptm_model_2_seed_000 recycle=1 pLDDT=69.1 pTM=0.0484 tol=0.8\n",
            "2025-04-10 19:22:38,630 alphafold2_ptm_model_2_seed_000 recycle=2 pLDDT=70.4 pTM=0.0482 tol=0.458\n",
            "2025-04-10 19:22:39,170 alphafold2_ptm_model_2_seed_000 recycle=3 pLDDT=70.9 pTM=0.0485 tol=0.248\n",
            "2025-04-10 19:22:39,170 alphafold2_ptm_model_2_seed_000 took 2.2s (3 recycles)\n",
            "2025-04-10 19:22:39,720 alphafold2_ptm_model_3_seed_000 recycle=0 pLDDT=70 pTM=0.0474\n",
            "2025-04-10 19:22:40,259 alphafold2_ptm_model_3_seed_000 recycle=1 pLDDT=70.1 pTM=0.0471 tol=0.545\n",
            "2025-04-10 19:22:40,799 alphafold2_ptm_model_3_seed_000 recycle=2 pLDDT=69.4 pTM=0.0473 tol=0.642\n",
            "2025-04-10 19:22:41,338 alphafold2_ptm_model_3_seed_000 recycle=3 pLDDT=69.1 pTM=0.0471 tol=0.777\n",
            "2025-04-10 19:22:41,339 alphafold2_ptm_model_3_seed_000 took 2.2s (3 recycles)\n",
            "2025-04-10 19:22:41,903 alphafold2_ptm_model_4_seed_000 recycle=0 pLDDT=71.5 pTM=0.047\n",
            "2025-04-10 19:22:42,443 alphafold2_ptm_model_4_seed_000 recycle=1 pLDDT=70.2 pTM=0.0467 tol=0.429\n",
            "2025-04-10 19:22:42,983 alphafold2_ptm_model_4_seed_000 recycle=2 pLDDT=70.9 pTM=0.0472 tol=0.149\n",
            "2025-04-10 19:22:43,522 alphafold2_ptm_model_4_seed_000 recycle=3 pLDDT=71.3 pTM=0.0472 tol=0.169\n",
            "2025-04-10 19:22:43,522 alphafold2_ptm_model_4_seed_000 took 2.2s (3 recycles)\n",
            "2025-04-10 19:22:44,071 alphafold2_ptm_model_5_seed_000 recycle=0 pLDDT=66.4 pTM=0.0467\n",
            "2025-04-10 19:22:44,611 alphafold2_ptm_model_5_seed_000 recycle=1 pLDDT=69.6 pTM=0.0483 tol=0.562\n",
            "2025-04-10 19:22:45,150 alphafold2_ptm_model_5_seed_000 recycle=2 pLDDT=69.1 pTM=0.0477 tol=0.459\n",
            "2025-04-10 19:22:45,691 alphafold2_ptm_model_5_seed_000 recycle=3 pLDDT=70.8 pTM=0.0482 tol=0.4\n",
            "2025-04-10 19:22:45,692 alphafold2_ptm_model_5_seed_000 took 2.2s (3 recycles)\n",
            "2025-04-10 19:22:45,701 reranking models by 'plddt' metric\n",
            "2025-04-10 19:22:45,701 rank_001_alphafold2_ptm_model_4_seed_000 pLDDT=71.3 pTM=0.0472\n",
            "2025-04-10 19:22:45,704 rank_002_alphafold2_ptm_model_2_seed_000 pLDDT=70.9 pTM=0.0485\n",
            "2025-04-10 19:22:45,706 rank_003_alphafold2_ptm_model_5_seed_000 pLDDT=70.8 pTM=0.0482\n",
            "2025-04-10 19:22:45,709 rank_004_alphafold2_ptm_model_3_seed_000 pLDDT=69.1 pTM=0.0471\n",
            "2025-04-10 19:22:45,711 rank_005_alphafold2_ptm_model_1_seed_000 pLDDT=68.8 pTM=0.0505\n",
            "2025-04-10 19:22:46,700 Query 519/8000: sequence_2519 (length 20)\n"
          ]
        },
        {
          "output_type": "stream",
          "name": "stderr",
          "text": [
            "PENDING:   0%|          | 0/150 [elapsed: 00:00 remaining: ?]"
          ]
        },
        {
          "output_type": "stream",
          "name": "stdout",
          "text": [
            "2025-04-10 19:22:47,381 Sleeping for 9s. Reason: PENDING\n"
          ]
        },
        {
          "output_type": "stream",
          "name": "stderr",
          "text": [
            "RUNNING:   6%|▌         | 9/150 [elapsed: 00:10 remaining: 02:42]"
          ]
        },
        {
          "output_type": "stream",
          "name": "stdout",
          "text": [
            "2025-04-10 19:22:57,068 Sleeping for 5s. Reason: RUNNING\n"
          ]
        },
        {
          "output_type": "stream",
          "name": "stderr",
          "text": [
            "RUNNING:   9%|▉         | 14/150 [elapsed: 00:16 remaining: 02:35]"
          ]
        },
        {
          "output_type": "stream",
          "name": "stdout",
          "text": [
            "2025-04-10 19:23:02,749 Sleeping for 6s. Reason: RUNNING\n"
          ]
        },
        {
          "output_type": "stream",
          "name": "stderr",
          "text": [
            "RUNNING:  13%|█▎        | 20/150 [elapsed: 00:22 remaining: 02:27]"
          ]
        },
        {
          "output_type": "stream",
          "name": "stdout",
          "text": [
            "2025-04-10 19:23:09,441 Sleeping for 7s. Reason: RUNNING\n"
          ]
        },
        {
          "output_type": "stream",
          "name": "stderr",
          "text": [
            "COMPLETE: 100%|██████████| 150/150 [elapsed: 00:31 remaining: 00:00]\n"
          ]
        },
        {
          "output_type": "stream",
          "name": "stdout",
          "text": [
            "2025-04-10 19:23:20,061 alphafold2_ptm_model_1_seed_000 recycle=0 pLDDT=61.2 pTM=0.0487\n",
            "2025-04-10 19:23:20,601 alphafold2_ptm_model_1_seed_000 recycle=1 pLDDT=59.8 pTM=0.047 tol=1.15\n",
            "2025-04-10 19:23:21,140 alphafold2_ptm_model_1_seed_000 recycle=2 pLDDT=59.3 pTM=0.0477 tol=0.633\n",
            "2025-04-10 19:23:21,680 alphafold2_ptm_model_1_seed_000 recycle=3 pLDDT=60.2 pTM=0.0477 tol=0.496\n",
            "2025-04-10 19:23:21,680 alphafold2_ptm_model_1_seed_000 took 2.2s (3 recycles)\n",
            "2025-04-10 19:23:22,230 alphafold2_ptm_model_2_seed_000 recycle=0 pLDDT=58.9 pTM=0.0464\n",
            "2025-04-10 19:23:22,770 alphafold2_ptm_model_2_seed_000 recycle=1 pLDDT=57.2 pTM=0.0453 tol=0.655\n",
            "2025-04-10 19:23:23,310 alphafold2_ptm_model_2_seed_000 recycle=2 pLDDT=58.4 pTM=0.0454 tol=1.03\n",
            "2025-04-10 19:23:23,850 alphafold2_ptm_model_2_seed_000 recycle=3 pLDDT=58.2 pTM=0.0456 tol=0.448\n",
            "2025-04-10 19:23:23,851 alphafold2_ptm_model_2_seed_000 took 2.2s (3 recycles)\n",
            "2025-04-10 19:23:24,399 alphafold2_ptm_model_3_seed_000 recycle=0 pLDDT=59.4 pTM=0.0451\n",
            "2025-04-10 19:23:24,939 alphafold2_ptm_model_3_seed_000 recycle=1 pLDDT=60.5 pTM=0.0465 tol=0.643\n",
            "2025-04-10 19:23:25,478 alphafold2_ptm_model_3_seed_000 recycle=2 pLDDT=62 pTM=0.0463 tol=0.32\n",
            "2025-04-10 19:23:26,018 alphafold2_ptm_model_3_seed_000 recycle=3 pLDDT=60.4 pTM=0.0454 tol=0.985\n",
            "2025-04-10 19:23:26,019 alphafold2_ptm_model_3_seed_000 took 2.2s (3 recycles)\n",
            "2025-04-10 19:23:26,582 alphafold2_ptm_model_4_seed_000 recycle=0 pLDDT=62.3 pTM=0.0454\n",
            "2025-04-10 19:23:27,123 alphafold2_ptm_model_4_seed_000 recycle=1 pLDDT=62.1 pTM=0.0496 tol=2.54\n",
            "2025-04-10 19:23:27,662 alphafold2_ptm_model_4_seed_000 recycle=2 pLDDT=64.2 pTM=0.0513 tol=0.477\n",
            "2025-04-10 19:23:28,202 alphafold2_ptm_model_4_seed_000 recycle=3 pLDDT=64.4 pTM=0.0498 tol=0.193\n",
            "2025-04-10 19:23:28,202 alphafold2_ptm_model_4_seed_000 took 2.2s (3 recycles)\n",
            "2025-04-10 19:23:28,752 alphafold2_ptm_model_5_seed_000 recycle=0 pLDDT=60.1 pTM=0.0464\n",
            "2025-04-10 19:23:29,292 alphafold2_ptm_model_5_seed_000 recycle=1 pLDDT=59.3 pTM=0.0462 tol=0.792\n",
            "2025-04-10 19:23:29,832 alphafold2_ptm_model_5_seed_000 recycle=2 pLDDT=59.4 pTM=0.0464 tol=0.618\n",
            "2025-04-10 19:23:30,372 alphafold2_ptm_model_5_seed_000 recycle=3 pLDDT=58.5 pTM=0.046 tol=0.389\n",
            "2025-04-10 19:23:30,372 alphafold2_ptm_model_5_seed_000 took 2.2s (3 recycles)\n",
            "2025-04-10 19:23:30,381 reranking models by 'plddt' metric\n",
            "2025-04-10 19:23:30,381 rank_001_alphafold2_ptm_model_4_seed_000 pLDDT=64.4 pTM=0.0498\n",
            "2025-04-10 19:23:30,384 rank_002_alphafold2_ptm_model_3_seed_000 pLDDT=60.4 pTM=0.0454\n",
            "2025-04-10 19:23:30,386 rank_003_alphafold2_ptm_model_1_seed_000 pLDDT=60.2 pTM=0.0477\n",
            "2025-04-10 19:23:30,388 rank_004_alphafold2_ptm_model_5_seed_000 pLDDT=58.5 pTM=0.046\n",
            "2025-04-10 19:23:30,391 rank_005_alphafold2_ptm_model_2_seed_000 pLDDT=58.2 pTM=0.0456\n",
            "2025-04-10 19:23:31,362 Query 520/8000: sequence_2520 (length 20)\n"
          ]
        },
        {
          "output_type": "stream",
          "name": "stderr",
          "text": [
            "PENDING:   0%|          | 0/150 [elapsed: 00:00 remaining: ?]"
          ]
        },
        {
          "output_type": "stream",
          "name": "stdout",
          "text": [
            "2025-04-10 19:23:32,054 Sleeping for 10s. Reason: PENDING\n"
          ]
        },
        {
          "output_type": "stream",
          "name": "stderr",
          "text": [
            "RUNNING:   7%|▋         | 10/150 [elapsed: 00:11 remaining: 02:39]"
          ]
        },
        {
          "output_type": "stream",
          "name": "stdout",
          "text": [
            "2025-04-10 19:23:42,739 Sleeping for 8s. Reason: RUNNING\n"
          ]
        },
        {
          "output_type": "stream",
          "name": "stderr",
          "text": [
            "COMPLETE: 100%|██████████| 150/150 [elapsed: 00:20 remaining: 00:00]\n"
          ]
        },
        {
          "output_type": "stream",
          "name": "stdout",
          "text": [
            "2025-04-10 19:23:54,382 alphafold2_ptm_model_1_seed_000 recycle=0 pLDDT=71.8 pTM=0.0692\n",
            "2025-04-10 19:23:54,922 alphafold2_ptm_model_1_seed_000 recycle=1 pLDDT=77.9 pTM=0.0814 tol=0.339\n",
            "2025-04-10 19:23:55,462 alphafold2_ptm_model_1_seed_000 recycle=2 pLDDT=78.8 pTM=0.0844 tol=0.198\n",
            "2025-04-10 19:23:56,003 alphafold2_ptm_model_1_seed_000 recycle=3 pLDDT=78.4 pTM=0.0834 tol=0.204\n",
            "2025-04-10 19:23:56,003 alphafold2_ptm_model_1_seed_000 took 2.2s (3 recycles)\n",
            "2025-04-10 19:23:56,553 alphafold2_ptm_model_2_seed_000 recycle=0 pLDDT=75.7 pTM=0.0786\n",
            "2025-04-10 19:23:57,092 alphafold2_ptm_model_2_seed_000 recycle=1 pLDDT=78.9 pTM=0.0851 tol=0.166\n",
            "2025-04-10 19:23:57,633 alphafold2_ptm_model_2_seed_000 recycle=2 pLDDT=77.7 pTM=0.0842 tol=0.137\n",
            "2025-04-10 19:23:58,174 alphafold2_ptm_model_2_seed_000 recycle=3 pLDDT=76.4 pTM=0.0827 tol=0.212\n",
            "2025-04-10 19:23:58,174 alphafold2_ptm_model_2_seed_000 took 2.2s (3 recycles)\n",
            "2025-04-10 19:23:58,724 alphafold2_ptm_model_3_seed_000 recycle=0 pLDDT=61.1 pTM=0.0442\n",
            "2025-04-10 19:23:59,265 alphafold2_ptm_model_3_seed_000 recycle=1 pLDDT=62.1 pTM=0.0442 tol=1.6\n",
            "2025-04-10 19:23:59,804 alphafold2_ptm_model_3_seed_000 recycle=2 pLDDT=62.3 pTM=0.0437 tol=1.11\n",
            "2025-04-10 19:24:00,344 alphafold2_ptm_model_3_seed_000 recycle=3 pLDDT=62.1 pTM=0.0437 tol=1.54\n",
            "2025-04-10 19:24:00,345 alphafold2_ptm_model_3_seed_000 took 2.2s (3 recycles)\n",
            "2025-04-10 19:24:00,911 alphafold2_ptm_model_4_seed_000 recycle=0 pLDDT=61.6 pTM=0.046\n",
            "2025-04-10 19:24:01,451 alphafold2_ptm_model_4_seed_000 recycle=1 pLDDT=66.9 pTM=0.0609 tol=2.37\n",
            "2025-04-10 19:24:01,991 alphafold2_ptm_model_4_seed_000 recycle=2 pLDDT=72 pTM=0.0722 tol=0.487\n",
            "2025-04-10 19:24:02,533 alphafold2_ptm_model_4_seed_000 recycle=3 pLDDT=76.2 pTM=0.0786 tol=0.157\n",
            "2025-04-10 19:24:02,533 alphafold2_ptm_model_4_seed_000 took 2.2s (3 recycles)\n",
            "2025-04-10 19:24:03,084 alphafold2_ptm_model_5_seed_000 recycle=0 pLDDT=78.8 pTM=0.0823\n",
            "2025-04-10 19:24:03,624 alphafold2_ptm_model_5_seed_000 recycle=1 pLDDT=82.4 pTM=0.0934 tol=0.39\n",
            "2025-04-10 19:24:04,166 alphafold2_ptm_model_5_seed_000 recycle=2 pLDDT=83 pTM=0.0948 tol=0.161\n",
            "2025-04-10 19:24:04,708 alphafold2_ptm_model_5_seed_000 recycle=3 pLDDT=83.2 pTM=0.0948 tol=0.145\n",
            "2025-04-10 19:24:04,708 alphafold2_ptm_model_5_seed_000 took 2.2s (3 recycles)\n",
            "2025-04-10 19:24:04,718 reranking models by 'plddt' metric\n",
            "2025-04-10 19:24:04,718 rank_001_alphafold2_ptm_model_5_seed_000 pLDDT=83.2 pTM=0.0948\n",
            "2025-04-10 19:24:04,721 rank_002_alphafold2_ptm_model_1_seed_000 pLDDT=78.4 pTM=0.0834\n",
            "2025-04-10 19:24:04,723 rank_003_alphafold2_ptm_model_2_seed_000 pLDDT=76.4 pTM=0.0827\n",
            "2025-04-10 19:24:04,725 rank_004_alphafold2_ptm_model_4_seed_000 pLDDT=76.2 pTM=0.0786\n",
            "2025-04-10 19:24:04,728 rank_005_alphafold2_ptm_model_3_seed_000 pLDDT=62.1 pTM=0.0437\n",
            "2025-04-10 19:24:05,723 Query 521/8000: sequence_2521 (length 20)\n"
          ]
        },
        {
          "output_type": "stream",
          "name": "stderr",
          "text": [
            "PENDING:   0%|          | 0/150 [elapsed: 00:00 remaining: ?]"
          ]
        },
        {
          "output_type": "stream",
          "name": "stdout",
          "text": [
            "2025-04-10 19:24:06,410 Sleeping for 7s. Reason: PENDING\n"
          ]
        },
        {
          "output_type": "stream",
          "name": "stderr",
          "text": [
            "PENDING:   0%|          | 0/150 [elapsed: 00:08 remaining: ?]"
          ]
        },
        {
          "output_type": "stream",
          "name": "stdout",
          "text": [
            "2025-04-10 19:24:14,096 Sleeping for 7s. Reason: PENDING\n"
          ]
        },
        {
          "output_type": "stream",
          "name": "stderr",
          "text": [
            "PENDING:   0%|          | 0/150 [elapsed: 00:16 remaining: ?]"
          ]
        },
        {
          "output_type": "stream",
          "name": "stdout",
          "text": [
            "2025-04-10 19:24:21,775 Sleeping for 6s. Reason: PENDING\n"
          ]
        },
        {
          "output_type": "stream",
          "name": "stderr",
          "text": [
            "PENDING:   0%|          | 0/150 [elapsed: 00:22 remaining: ?]"
          ]
        },
        {
          "output_type": "stream",
          "name": "stdout",
          "text": [
            "2025-04-10 19:24:28,449 Sleeping for 8s. Reason: PENDING\n"
          ]
        },
        {
          "output_type": "stream",
          "name": "stderr",
          "text": [
            "PENDING:   0%|          | 0/150 [elapsed: 00:31 remaining: ?]"
          ]
        },
        {
          "output_type": "stream",
          "name": "stdout",
          "text": [
            "2025-04-10 19:24:37,286 Sleeping for 10s. Reason: PENDING\n"
          ]
        },
        {
          "output_type": "stream",
          "name": "stderr",
          "text": [
            "PENDING:   0%|          | 0/150 [elapsed: 00:42 remaining: ?]"
          ]
        },
        {
          "output_type": "stream",
          "name": "stdout",
          "text": [
            "2025-04-10 19:24:47,964 Sleeping for 9s. Reason: PENDING\n"
          ]
        },
        {
          "output_type": "stream",
          "name": "stderr",
          "text": [
            "PENDING:   0%|          | 0/150 [elapsed: 00:51 remaining: ?]"
          ]
        },
        {
          "output_type": "stream",
          "name": "stdout",
          "text": [
            "2025-04-10 19:24:57,648 Sleeping for 8s. Reason: PENDING\n"
          ]
        },
        {
          "output_type": "stream",
          "name": "stderr",
          "text": [
            "PENDING:   0%|          | 0/150 [elapsed: 01:00 remaining: ?]"
          ]
        },
        {
          "output_type": "stream",
          "name": "stdout",
          "text": [
            "2025-04-10 19:25:06,341 Sleeping for 5s. Reason: PENDING\n"
          ]
        },
        {
          "output_type": "stream",
          "name": "stderr",
          "text": [
            "PENDING:   0%|          | 0/150 [elapsed: 01:06 remaining: ?]"
          ]
        },
        {
          "output_type": "stream",
          "name": "stdout",
          "text": [
            "2025-04-10 19:25:12,025 Sleeping for 10s. Reason: PENDING\n"
          ]
        },
        {
          "output_type": "stream",
          "name": "stderr",
          "text": [
            "PENDING:   0%|          | 0/150 [elapsed: 01:16 remaining: ?]"
          ]
        },
        {
          "output_type": "stream",
          "name": "stdout",
          "text": [
            "2025-04-10 19:25:22,702 Sleeping for 5s. Reason: PENDING\n"
          ]
        },
        {
          "output_type": "stream",
          "name": "stderr",
          "text": [
            "PENDING:   0%|          | 0/150 [elapsed: 01:22 remaining: ?]"
          ]
        },
        {
          "output_type": "stream",
          "name": "stdout",
          "text": [
            "2025-04-10 19:25:28,372 Sleeping for 8s. Reason: PENDING\n"
          ]
        },
        {
          "output_type": "stream",
          "name": "stderr",
          "text": [
            "PENDING:   0%|          | 0/150 [elapsed: 01:31 remaining: ?]"
          ]
        },
        {
          "output_type": "stream",
          "name": "stdout",
          "text": [
            "2025-04-10 19:25:37,048 Sleeping for 6s. Reason: PENDING\n"
          ]
        },
        {
          "output_type": "stream",
          "name": "stderr",
          "text": [
            "PENDING:   0%|          | 0/150 [elapsed: 01:38 remaining: ?]"
          ]
        },
        {
          "output_type": "stream",
          "name": "stdout",
          "text": [
            "2025-04-10 19:25:43,729 Sleeping for 5s. Reason: PENDING\n"
          ]
        },
        {
          "output_type": "stream",
          "name": "stderr",
          "text": [
            "PENDING:   0%|          | 0/150 [elapsed: 01:43 remaining: ?]"
          ]
        },
        {
          "output_type": "stream",
          "name": "stdout",
          "text": [
            "2025-04-10 19:25:49,404 Sleeping for 6s. Reason: PENDING\n"
          ]
        },
        {
          "output_type": "stream",
          "name": "stderr",
          "text": [
            "PENDING:   0%|          | 0/150 [elapsed: 01:50 remaining: ?]"
          ]
        },
        {
          "output_type": "stream",
          "name": "stdout",
          "text": [
            "2025-04-10 19:25:56,092 Sleeping for 9s. Reason: PENDING\n"
          ]
        },
        {
          "output_type": "stream",
          "name": "stderr",
          "text": [
            "PENDING:   0%|          | 0/150 [elapsed: 02:00 remaining: ?]"
          ]
        },
        {
          "output_type": "stream",
          "name": "stdout",
          "text": [
            "2025-04-10 19:26:05,777 Sleeping for 6s. Reason: PENDING\n"
          ]
        },
        {
          "output_type": "stream",
          "name": "stderr",
          "text": [
            "PENDING:   0%|          | 0/150 [elapsed: 02:06 remaining: ?]"
          ]
        },
        {
          "output_type": "stream",
          "name": "stdout",
          "text": [
            "2025-04-10 19:26:12,458 Sleeping for 7s. Reason: PENDING\n"
          ]
        },
        {
          "output_type": "stream",
          "name": "stderr",
          "text": [
            "PENDING:   0%|          | 0/150 [elapsed: 02:14 remaining: ?]"
          ]
        },
        {
          "output_type": "stream",
          "name": "stdout",
          "text": [
            "2025-04-10 19:26:20,132 Sleeping for 10s. Reason: PENDING\n"
          ]
        },
        {
          "output_type": "stream",
          "name": "stderr",
          "text": [
            "PENDING:   0%|          | 0/150 [elapsed: 02:25 remaining: ?]"
          ]
        },
        {
          "output_type": "stream",
          "name": "stdout",
          "text": [
            "2025-04-10 19:26:30,816 Sleeping for 7s. Reason: PENDING\n"
          ]
        },
        {
          "output_type": "stream",
          "name": "stderr",
          "text": [
            "PENDING:   0%|          | 0/150 [elapsed: 02:32 remaining: ?]"
          ]
        },
        {
          "output_type": "stream",
          "name": "stdout",
          "text": [
            "2025-04-10 19:26:38,497 Sleeping for 7s. Reason: PENDING\n"
          ]
        },
        {
          "output_type": "stream",
          "name": "stderr",
          "text": [
            "PENDING:   0%|          | 0/150 [elapsed: 02:40 remaining: ?]"
          ]
        },
        {
          "output_type": "stream",
          "name": "stdout",
          "text": [
            "2025-04-10 19:26:46,184 Sleeping for 5s. Reason: PENDING\n"
          ]
        },
        {
          "output_type": "stream",
          "name": "stderr",
          "text": [
            "PENDING:   0%|          | 0/150 [elapsed: 02:46 remaining: ?]"
          ]
        },
        {
          "output_type": "stream",
          "name": "stdout",
          "text": [
            "2025-04-10 19:26:51,861 Sleeping for 6s. Reason: PENDING\n"
          ]
        },
        {
          "output_type": "stream",
          "name": "stderr",
          "text": [
            "PENDING:   0%|          | 0/150 [elapsed: 02:52 remaining: ?]"
          ]
        },
        {
          "output_type": "stream",
          "name": "stdout",
          "text": [
            "2025-04-10 19:26:58,536 Sleeping for 8s. Reason: PENDING\n"
          ]
        },
        {
          "output_type": "stream",
          "name": "stderr",
          "text": [
            "PENDING:   0%|          | 0/150 [elapsed: 03:01 remaining: ?]"
          ]
        },
        {
          "output_type": "stream",
          "name": "stdout",
          "text": [
            "2025-04-10 19:27:07,210 Sleeping for 9s. Reason: PENDING\n"
          ]
        },
        {
          "output_type": "stream",
          "name": "stderr",
          "text": [
            "PENDING:   0%|          | 0/150 [elapsed: 03:11 remaining: ?]"
          ]
        },
        {
          "output_type": "stream",
          "name": "stdout",
          "text": [
            "2025-04-10 19:27:16,894 Sleeping for 6s. Reason: PENDING\n"
          ]
        },
        {
          "output_type": "stream",
          "name": "stderr",
          "text": [
            "PENDING:   0%|          | 0/150 [elapsed: 03:17 remaining: ?]"
          ]
        },
        {
          "output_type": "stream",
          "name": "stdout",
          "text": [
            "2025-04-10 19:27:23,567 Sleeping for 10s. Reason: PENDING\n"
          ]
        },
        {
          "output_type": "stream",
          "name": "stderr",
          "text": [
            "PENDING:   0%|          | 0/150 [elapsed: 03:28 remaining: ?]"
          ]
        },
        {
          "output_type": "stream",
          "name": "stdout",
          "text": [
            "2025-04-10 19:27:34,253 Sleeping for 9s. Reason: PENDING\n"
          ]
        },
        {
          "output_type": "stream",
          "name": "stderr",
          "text": [
            "PENDING:   0%|          | 0/150 [elapsed: 03:38 remaining: ?]"
          ]
        },
        {
          "output_type": "stream",
          "name": "stdout",
          "text": [
            "2025-04-10 19:27:43,930 Sleeping for 9s. Reason: PENDING\n"
          ]
        },
        {
          "output_type": "stream",
          "name": "stderr",
          "text": [
            "PENDING:   0%|          | 0/150 [elapsed: 03:47 remaining: ?]"
          ]
        },
        {
          "output_type": "stream",
          "name": "stdout",
          "text": [
            "2025-04-10 19:27:53,612 Sleeping for 5s. Reason: PENDING\n"
          ]
        },
        {
          "output_type": "stream",
          "name": "stderr",
          "text": [
            "PENDING:   0%|          | 0/150 [elapsed: 03:53 remaining: ?]"
          ]
        },
        {
          "output_type": "stream",
          "name": "stdout",
          "text": [
            "2025-04-10 19:27:59,294 Sleeping for 6s. Reason: PENDING\n"
          ]
        },
        {
          "output_type": "stream",
          "name": "stderr",
          "text": [
            "RUNNING:   4%|▍         | 6/150 [elapsed: 04:00 remaining: 1:36:06]"
          ]
        },
        {
          "output_type": "stream",
          "name": "stdout",
          "text": [
            "2025-04-10 19:28:06,009 Sleeping for 10s. Reason: RUNNING\n"
          ]
        },
        {
          "output_type": "stream",
          "name": "stderr",
          "text": [
            "COMPLETE: 100%|██████████| 150/150 [elapsed: 04:11 remaining: 00:00]\n"
          ]
        },
        {
          "output_type": "stream",
          "name": "stdout",
          "text": [
            "2025-04-10 19:28:19,615 alphafold2_ptm_model_1_seed_000 recycle=0 pLDDT=59.6 pTM=0.0518\n",
            "2025-04-10 19:28:20,154 alphafold2_ptm_model_1_seed_000 recycle=1 pLDDT=73 pTM=0.0731 tol=1.48\n",
            "2025-04-10 19:28:20,693 alphafold2_ptm_model_1_seed_000 recycle=2 pLDDT=78.8 pTM=0.0837 tol=0.324\n",
            "2025-04-10 19:28:21,233 alphafold2_ptm_model_1_seed_000 recycle=3 pLDDT=80.3 pTM=0.0851 tol=0.056\n",
            "2025-04-10 19:28:21,233 alphafold2_ptm_model_1_seed_000 took 2.2s (3 recycles)\n",
            "2025-04-10 19:28:21,785 alphafold2_ptm_model_2_seed_000 recycle=0 pLDDT=79.6 pTM=0.0891\n",
            "2025-04-10 19:28:22,325 alphafold2_ptm_model_2_seed_000 recycle=1 pLDDT=76.2 pTM=0.087 tol=0.171\n",
            "2025-04-10 19:28:22,865 alphafold2_ptm_model_2_seed_000 recycle=2 pLDDT=76.9 pTM=0.0881 tol=0.0554\n",
            "2025-04-10 19:28:23,405 alphafold2_ptm_model_2_seed_000 recycle=3 pLDDT=77.1 pTM=0.0882 tol=0.05\n",
            "2025-04-10 19:28:23,405 alphafold2_ptm_model_2_seed_000 took 2.2s (3 recycles)\n",
            "2025-04-10 19:28:23,956 alphafold2_ptm_model_3_seed_000 recycle=0 pLDDT=71.2 pTM=0.0714\n",
            "2025-04-10 19:28:24,496 alphafold2_ptm_model_3_seed_000 recycle=1 pLDDT=77.2 pTM=0.081 tol=0.304\n",
            "2025-04-10 19:28:25,036 alphafold2_ptm_model_3_seed_000 recycle=2 pLDDT=77.8 pTM=0.0826 tol=0.249\n",
            "2025-04-10 19:28:25,577 alphafold2_ptm_model_3_seed_000 recycle=3 pLDDT=79.2 pTM=0.0828 tol=0.0986\n",
            "2025-04-10 19:28:25,577 alphafold2_ptm_model_3_seed_000 took 2.2s (3 recycles)\n",
            "2025-04-10 19:28:26,129 alphafold2_ptm_model_4_seed_000 recycle=0 pLDDT=77.9 pTM=0.0845\n",
            "2025-04-10 19:28:26,670 alphafold2_ptm_model_4_seed_000 recycle=1 pLDDT=79.6 pTM=0.089 tol=0.221\n",
            "2025-04-10 19:28:27,210 alphafold2_ptm_model_4_seed_000 recycle=2 pLDDT=81.6 pTM=0.0919 tol=0.0797\n",
            "2025-04-10 19:28:27,750 alphafold2_ptm_model_4_seed_000 recycle=3 pLDDT=81.8 pTM=0.0916 tol=0.0309\n",
            "2025-04-10 19:28:27,751 alphafold2_ptm_model_4_seed_000 took 2.2s (3 recycles)\n",
            "2025-04-10 19:28:28,316 alphafold2_ptm_model_5_seed_000 recycle=0 pLDDT=83.3 pTM=0.0887\n",
            "2025-04-10 19:28:28,856 alphafold2_ptm_model_5_seed_000 recycle=1 pLDDT=81.1 pTM=0.0885 tol=0.172\n",
            "2025-04-10 19:28:29,397 alphafold2_ptm_model_5_seed_000 recycle=2 pLDDT=81.2 pTM=0.0899 tol=0.13\n",
            "2025-04-10 19:28:29,937 alphafold2_ptm_model_5_seed_000 recycle=3 pLDDT=80.8 pTM=0.0892 tol=0.0408\n",
            "2025-04-10 19:28:29,938 alphafold2_ptm_model_5_seed_000 took 2.2s (3 recycles)\n",
            "2025-04-10 19:28:29,947 reranking models by 'plddt' metric\n",
            "2025-04-10 19:28:29,947 rank_001_alphafold2_ptm_model_4_seed_000 pLDDT=81.8 pTM=0.0916\n",
            "2025-04-10 19:28:29,950 rank_002_alphafold2_ptm_model_5_seed_000 pLDDT=80.8 pTM=0.0892\n",
            "2025-04-10 19:28:29,952 rank_003_alphafold2_ptm_model_1_seed_000 pLDDT=80.3 pTM=0.0851\n",
            "2025-04-10 19:28:29,954 rank_004_alphafold2_ptm_model_3_seed_000 pLDDT=79.2 pTM=0.0828\n",
            "2025-04-10 19:28:29,957 rank_005_alphafold2_ptm_model_2_seed_000 pLDDT=77.1 pTM=0.0882\n",
            "2025-04-10 19:28:30,938 Query 522/8000: sequence_2522 (length 20)\n"
          ]
        },
        {
          "output_type": "stream",
          "name": "stderr",
          "text": [
            "PENDING:   0%|          | 0/150 [elapsed: 00:00 remaining: ?]"
          ]
        },
        {
          "output_type": "stream",
          "name": "stdout",
          "text": [
            "2025-04-10 19:28:31,635 Sleeping for 6s. Reason: PENDING\n"
          ]
        },
        {
          "output_type": "stream",
          "name": "stderr",
          "text": [
            "RUNNING:   4%|▍         | 6/150 [elapsed: 00:07 remaining: 02:56]"
          ]
        },
        {
          "output_type": "stream",
          "name": "stdout",
          "text": [
            "2025-04-10 19:28:38,317 Sleeping for 8s. Reason: RUNNING\n"
          ]
        },
        {
          "output_type": "stream",
          "name": "stderr",
          "text": [
            "COMPLETE: 100%|██████████| 150/150 [elapsed: 00:16 remaining: 00:00]\n"
          ]
        },
        {
          "output_type": "stream",
          "name": "stdout",
          "text": [
            "2025-04-10 19:28:49,936 alphafold2_ptm_model_1_seed_000 recycle=0 pLDDT=72.6 pTM=0.0812\n",
            "2025-04-10 19:28:50,476 alphafold2_ptm_model_1_seed_000 recycle=1 pLDDT=72.4 pTM=0.0828 tol=0.131\n",
            "2025-04-10 19:28:51,015 alphafold2_ptm_model_1_seed_000 recycle=2 pLDDT=72 pTM=0.0843 tol=0.0933\n",
            "2025-04-10 19:28:51,555 alphafold2_ptm_model_1_seed_000 recycle=3 pLDDT=71.1 pTM=0.0824 tol=0.0986\n",
            "2025-04-10 19:28:51,555 alphafold2_ptm_model_1_seed_000 took 2.2s (3 recycles)\n",
            "2025-04-10 19:28:52,104 alphafold2_ptm_model_2_seed_000 recycle=0 pLDDT=70.9 pTM=0.0829\n",
            "2025-04-10 19:28:52,645 alphafold2_ptm_model_2_seed_000 recycle=1 pLDDT=73.3 pTM=0.0916 tol=0.175\n",
            "2025-04-10 19:28:53,185 alphafold2_ptm_model_2_seed_000 recycle=2 pLDDT=74.9 pTM=0.0926 tol=0.0621\n",
            "2025-04-10 19:28:53,726 alphafold2_ptm_model_2_seed_000 recycle=3 pLDDT=74.4 pTM=0.0927 tol=0.102\n",
            "2025-04-10 19:28:53,726 alphafold2_ptm_model_2_seed_000 took 2.2s (3 recycles)\n",
            "2025-04-10 19:28:54,275 alphafold2_ptm_model_3_seed_000 recycle=0 pLDDT=69.4 pTM=0.0724\n",
            "2025-04-10 19:28:54,815 alphafold2_ptm_model_3_seed_000 recycle=1 pLDDT=72.2 pTM=0.0786 tol=0.681\n",
            "2025-04-10 19:28:55,354 alphafold2_ptm_model_3_seed_000 recycle=2 pLDDT=76.8 pTM=0.0859 tol=1.16\n",
            "2025-04-10 19:28:55,895 alphafold2_ptm_model_3_seed_000 recycle=3 pLDDT=76.8 pTM=0.0869 tol=0.139\n",
            "2025-04-10 19:28:55,895 alphafold2_ptm_model_3_seed_000 took 2.2s (3 recycles)\n",
            "2025-04-10 19:28:56,445 alphafold2_ptm_model_4_seed_000 recycle=0 pLDDT=68.6 pTM=0.074\n",
            "2025-04-10 19:28:56,986 alphafold2_ptm_model_4_seed_000 recycle=1 pLDDT=66.6 pTM=0.0757 tol=0.559\n",
            "2025-04-10 19:28:57,525 alphafold2_ptm_model_4_seed_000 recycle=2 pLDDT=67.1 pTM=0.0737 tol=1.15\n",
            "2025-04-10 19:28:58,065 alphafold2_ptm_model_4_seed_000 recycle=3 pLDDT=66.2 pTM=0.0735 tol=0.589\n",
            "2025-04-10 19:28:58,066 alphafold2_ptm_model_4_seed_000 took 2.2s (3 recycles)\n",
            "2025-04-10 19:28:58,614 alphafold2_ptm_model_5_seed_000 recycle=0 pLDDT=75.7 pTM=0.0847\n",
            "2025-04-10 19:28:59,154 alphafold2_ptm_model_5_seed_000 recycle=1 pLDDT=83.3 pTM=0.101 tol=0.564\n",
            "2025-04-10 19:28:59,694 alphafold2_ptm_model_5_seed_000 recycle=2 pLDDT=84.6 pTM=0.101 tol=0.0554\n",
            "2025-04-10 19:29:00,235 alphafold2_ptm_model_5_seed_000 recycle=3 pLDDT=86.2 pTM=0.107 tol=0.0658\n",
            "2025-04-10 19:29:00,235 alphafold2_ptm_model_5_seed_000 took 2.2s (3 recycles)\n",
            "2025-04-10 19:29:00,244 reranking models by 'plddt' metric\n",
            "2025-04-10 19:29:00,244 rank_001_alphafold2_ptm_model_5_seed_000 pLDDT=86.2 pTM=0.107\n",
            "2025-04-10 19:29:00,247 rank_002_alphafold2_ptm_model_3_seed_000 pLDDT=76.8 pTM=0.0869\n",
            "2025-04-10 19:29:00,249 rank_003_alphafold2_ptm_model_2_seed_000 pLDDT=74.4 pTM=0.0927\n",
            "2025-04-10 19:29:00,252 rank_004_alphafold2_ptm_model_1_seed_000 pLDDT=71.1 pTM=0.0824\n",
            "2025-04-10 19:29:00,254 rank_005_alphafold2_ptm_model_4_seed_000 pLDDT=66.2 pTM=0.0735\n",
            "2025-04-10 19:29:01,244 Query 523/8000: sequence_2523 (length 20)\n"
          ]
        },
        {
          "output_type": "stream",
          "name": "stderr",
          "text": [
            "PENDING:   0%|          | 0/150 [elapsed: 00:00 remaining: ?]"
          ]
        },
        {
          "output_type": "stream",
          "name": "stdout",
          "text": [
            "2025-04-10 19:29:01,937 Sleeping for 5s. Reason: PENDING\n"
          ]
        },
        {
          "output_type": "stream",
          "name": "stderr",
          "text": [
            "PENDING:   0%|          | 0/150 [elapsed: 00:06 remaining: ?]"
          ]
        },
        {
          "output_type": "stream",
          "name": "stdout",
          "text": [
            "2025-04-10 19:29:07,618 Sleeping for 9s. Reason: PENDING\n"
          ]
        },
        {
          "output_type": "stream",
          "name": "stderr",
          "text": [
            "PENDING:   0%|          | 0/150 [elapsed: 00:16 remaining: ?]"
          ]
        },
        {
          "output_type": "stream",
          "name": "stdout",
          "text": [
            "2025-04-10 19:29:17,294 Sleeping for 9s. Reason: PENDING\n"
          ]
        },
        {
          "output_type": "stream",
          "name": "stderr",
          "text": [
            "PENDING:   0%|          | 0/150 [elapsed: 00:25 remaining: ?]"
          ]
        },
        {
          "output_type": "stream",
          "name": "stdout",
          "text": [
            "2025-04-10 19:29:26,969 Sleeping for 5s. Reason: PENDING\n"
          ]
        },
        {
          "output_type": "stream",
          "name": "stderr",
          "text": [
            "PENDING:   0%|          | 0/150 [elapsed: 00:31 remaining: ?]"
          ]
        },
        {
          "output_type": "stream",
          "name": "stdout",
          "text": [
            "2025-04-10 19:29:32,655 Sleeping for 5s. Reason: PENDING\n"
          ]
        },
        {
          "output_type": "stream",
          "name": "stderr",
          "text": [
            "PENDING:   0%|          | 0/150 [elapsed: 00:37 remaining: ?]"
          ]
        },
        {
          "output_type": "stream",
          "name": "stdout",
          "text": [
            "2025-04-10 19:29:38,339 Sleeping for 7s. Reason: PENDING\n"
          ]
        },
        {
          "output_type": "stream",
          "name": "stderr",
          "text": [
            "PENDING:   0%|          | 0/150 [elapsed: 00:44 remaining: ?]"
          ]
        },
        {
          "output_type": "stream",
          "name": "stdout",
          "text": [
            "2025-04-10 19:29:46,026 Sleeping for 5s. Reason: PENDING\n"
          ]
        },
        {
          "output_type": "stream",
          "name": "stderr",
          "text": [
            "PENDING:   0%|          | 0/150 [elapsed: 00:50 remaining: ?]"
          ]
        },
        {
          "output_type": "stream",
          "name": "stdout",
          "text": [
            "2025-04-10 19:29:51,706 Sleeping for 6s. Reason: PENDING\n"
          ]
        },
        {
          "output_type": "stream",
          "name": "stderr",
          "text": [
            "PENDING:   0%|          | 0/150 [elapsed: 00:57 remaining: ?]"
          ]
        },
        {
          "output_type": "stream",
          "name": "stdout",
          "text": [
            "2025-04-10 19:29:58,379 Sleeping for 8s. Reason: PENDING\n"
          ]
        },
        {
          "output_type": "stream",
          "name": "stderr",
          "text": [
            "PENDING:   0%|          | 0/150 [elapsed: 01:05 remaining: ?]"
          ]
        },
        {
          "output_type": "stream",
          "name": "stdout",
          "text": [
            "2025-04-10 19:30:07,061 Sleeping for 9s. Reason: PENDING\n"
          ]
        },
        {
          "output_type": "stream",
          "name": "stderr",
          "text": [
            "PENDING:   0%|          | 0/150 [elapsed: 01:15 remaining: ?]"
          ]
        },
        {
          "output_type": "stream",
          "name": "stdout",
          "text": [
            "2025-04-10 19:30:16,739 Sleeping for 6s. Reason: PENDING\n"
          ]
        },
        {
          "output_type": "stream",
          "name": "stderr",
          "text": [
            "PENDING:   0%|          | 0/150 [elapsed: 01:22 remaining: ?]"
          ]
        },
        {
          "output_type": "stream",
          "name": "stdout",
          "text": [
            "2025-04-10 19:30:23,424 Sleeping for 5s. Reason: PENDING\n"
          ]
        },
        {
          "output_type": "stream",
          "name": "stderr",
          "text": [
            "PENDING:   0%|          | 0/150 [elapsed: 01:27 remaining: ?]"
          ]
        },
        {
          "output_type": "stream",
          "name": "stdout",
          "text": [
            "2025-04-10 19:30:29,112 Sleeping for 7s. Reason: PENDING\n"
          ]
        },
        {
          "output_type": "stream",
          "name": "stderr",
          "text": [
            "PENDING:   0%|          | 0/150 [elapsed: 01:35 remaining: ?]"
          ]
        },
        {
          "output_type": "stream",
          "name": "stdout",
          "text": [
            "2025-04-10 19:30:36,791 Sleeping for 5s. Reason: PENDING\n"
          ]
        },
        {
          "output_type": "stream",
          "name": "stderr",
          "text": [
            "PENDING:   0%|          | 0/150 [elapsed: 01:41 remaining: ?]"
          ]
        },
        {
          "output_type": "stream",
          "name": "stdout",
          "text": [
            "2025-04-10 19:30:42,471 Sleeping for 7s. Reason: PENDING\n"
          ]
        },
        {
          "output_type": "stream",
          "name": "stderr",
          "text": [
            "PENDING:   0%|          | 0/150 [elapsed: 01:48 remaining: ?]"
          ]
        },
        {
          "output_type": "stream",
          "name": "stdout",
          "text": [
            "2025-04-10 19:30:50,145 Sleeping for 9s. Reason: PENDING\n"
          ]
        },
        {
          "output_type": "stream",
          "name": "stderr",
          "text": [
            "PENDING:   0%|          | 0/150 [elapsed: 01:58 remaining: ?]"
          ]
        },
        {
          "output_type": "stream",
          "name": "stdout",
          "text": [
            "2025-04-10 19:30:59,827 Sleeping for 8s. Reason: PENDING\n"
          ]
        },
        {
          "output_type": "stream",
          "name": "stderr",
          "text": [
            "PENDING:   0%|          | 0/150 [elapsed: 02:07 remaining: ?]"
          ]
        },
        {
          "output_type": "stream",
          "name": "stdout",
          "text": [
            "2025-04-10 19:31:08,511 Sleeping for 5s. Reason: PENDING\n"
          ]
        },
        {
          "output_type": "stream",
          "name": "stderr",
          "text": [
            "PENDING:   0%|          | 0/150 [elapsed: 02:12 remaining: ?]"
          ]
        },
        {
          "output_type": "stream",
          "name": "stdout",
          "text": [
            "2025-04-10 19:31:14,200 Sleeping for 5s. Reason: PENDING\n"
          ]
        },
        {
          "output_type": "stream",
          "name": "stderr",
          "text": [
            "PENDING:   0%|          | 0/150 [elapsed: 02:18 remaining: ?]"
          ]
        },
        {
          "output_type": "stream",
          "name": "stdout",
          "text": [
            "2025-04-10 19:31:19,875 Sleeping for 5s. Reason: PENDING\n"
          ]
        },
        {
          "output_type": "stream",
          "name": "stderr",
          "text": [
            "PENDING:   0%|          | 0/150 [elapsed: 02:24 remaining: ?]"
          ]
        },
        {
          "output_type": "stream",
          "name": "stdout",
          "text": [
            "2025-04-10 19:31:25,556 Sleeping for 10s. Reason: PENDING\n"
          ]
        },
        {
          "output_type": "stream",
          "name": "stderr",
          "text": [
            "PENDING:   0%|          | 0/150 [elapsed: 02:34 remaining: ?]"
          ]
        },
        {
          "output_type": "stream",
          "name": "stdout",
          "text": [
            "2025-04-10 19:31:36,245 Sleeping for 7s. Reason: PENDING\n"
          ]
        },
        {
          "output_type": "stream",
          "name": "stderr",
          "text": [
            "PENDING:   0%|          | 0/150 [elapsed: 02:42 remaining: ?]"
          ]
        },
        {
          "output_type": "stream",
          "name": "stdout",
          "text": [
            "2025-04-10 19:31:43,919 Sleeping for 5s. Reason: PENDING\n"
          ]
        },
        {
          "output_type": "stream",
          "name": "stderr",
          "text": [
            "PENDING:   0%|          | 0/150 [elapsed: 02:48 remaining: ?]"
          ]
        },
        {
          "output_type": "stream",
          "name": "stdout",
          "text": [
            "2025-04-10 19:31:49,591 Sleeping for 6s. Reason: PENDING\n"
          ]
        },
        {
          "output_type": "stream",
          "name": "stderr",
          "text": [
            "PENDING:   0%|          | 0/150 [elapsed: 02:55 remaining: ?]"
          ]
        },
        {
          "output_type": "stream",
          "name": "stdout",
          "text": [
            "2025-04-10 19:31:56,275 Sleeping for 6s. Reason: PENDING\n"
          ]
        },
        {
          "output_type": "stream",
          "name": "stderr",
          "text": [
            "PENDING:   0%|          | 0/150 [elapsed: 03:01 remaining: ?]"
          ]
        },
        {
          "output_type": "stream",
          "name": "stdout",
          "text": [
            "2025-04-10 19:32:02,950 Sleeping for 9s. Reason: PENDING\n"
          ]
        },
        {
          "output_type": "stream",
          "name": "stderr",
          "text": [
            "PENDING:   0%|          | 0/150 [elapsed: 03:11 remaining: ?]"
          ]
        },
        {
          "output_type": "stream",
          "name": "stdout",
          "text": [
            "2025-04-10 19:32:12,628 Sleeping for 6s. Reason: PENDING\n"
          ]
        },
        {
          "output_type": "stream",
          "name": "stderr",
          "text": [
            "PENDING:   0%|          | 0/150 [elapsed: 03:18 remaining: ?]"
          ]
        },
        {
          "output_type": "stream",
          "name": "stdout",
          "text": [
            "2025-04-10 19:32:19,302 Sleeping for 7s. Reason: PENDING\n"
          ]
        },
        {
          "output_type": "stream",
          "name": "stderr",
          "text": [
            "PENDING:   0%|          | 0/150 [elapsed: 03:25 remaining: ?]"
          ]
        },
        {
          "output_type": "stream",
          "name": "stdout",
          "text": [
            "2025-04-10 19:32:26,981 Sleeping for 10s. Reason: PENDING\n"
          ]
        },
        {
          "output_type": "stream",
          "name": "stderr",
          "text": [
            "PENDING:   0%|          | 0/150 [elapsed: 03:36 remaining: ?]"
          ]
        },
        {
          "output_type": "stream",
          "name": "stdout",
          "text": [
            "2025-04-10 19:32:37,659 Sleeping for 5s. Reason: PENDING\n"
          ]
        },
        {
          "output_type": "stream",
          "name": "stderr",
          "text": [
            "PENDING:   0%|          | 0/150 [elapsed: 03:42 remaining: ?]"
          ]
        },
        {
          "output_type": "stream",
          "name": "stdout",
          "text": [
            "2025-04-10 19:32:43,343 Sleeping for 8s. Reason: PENDING\n"
          ]
        },
        {
          "output_type": "stream",
          "name": "stderr",
          "text": [
            "PENDING:   0%|          | 0/150 [elapsed: 03:50 remaining: ?]"
          ]
        },
        {
          "output_type": "stream",
          "name": "stdout",
          "text": [
            "2025-04-10 19:32:52,020 Sleeping for 7s. Reason: PENDING\n"
          ]
        },
        {
          "output_type": "stream",
          "name": "stderr",
          "text": [
            "PENDING:   0%|          | 0/150 [elapsed: 03:58 remaining: ?]"
          ]
        },
        {
          "output_type": "stream",
          "name": "stdout",
          "text": [
            "2025-04-10 19:32:59,707 Sleeping for 9s. Reason: PENDING\n"
          ]
        },
        {
          "output_type": "stream",
          "name": "stderr",
          "text": [
            "PENDING:   0%|          | 0/150 [elapsed: 04:08 remaining: ?]"
          ]
        },
        {
          "output_type": "stream",
          "name": "stdout",
          "text": [
            "2025-04-10 19:33:09,400 Sleeping for 8s. Reason: PENDING\n"
          ]
        },
        {
          "output_type": "stream",
          "name": "stderr",
          "text": [
            "PENDING:   0%|          | 0/150 [elapsed: 04:16 remaining: ?]"
          ]
        },
        {
          "output_type": "stream",
          "name": "stdout",
          "text": [
            "2025-04-10 19:33:18,087 Sleeping for 8s. Reason: PENDING\n"
          ]
        },
        {
          "output_type": "stream",
          "name": "stderr",
          "text": [
            "PENDING:   0%|          | 0/150 [elapsed: 04:25 remaining: ?]"
          ]
        },
        {
          "output_type": "stream",
          "name": "stdout",
          "text": [
            "2025-04-10 19:33:26,771 Sleeping for 8s. Reason: PENDING\n"
          ]
        },
        {
          "output_type": "stream",
          "name": "stderr",
          "text": [
            "PENDING:   0%|          | 0/150 [elapsed: 04:34 remaining: ?]"
          ]
        },
        {
          "output_type": "stream",
          "name": "stdout",
          "text": [
            "2025-04-10 19:33:35,456 Sleeping for 5s. Reason: PENDING\n"
          ]
        },
        {
          "output_type": "stream",
          "name": "stderr",
          "text": [
            "PENDING:   0%|          | 0/150 [elapsed: 04:39 remaining: ?]"
          ]
        },
        {
          "output_type": "stream",
          "name": "stdout",
          "text": [
            "2025-04-10 19:33:41,131 Sleeping for 8s. Reason: PENDING\n"
          ]
        },
        {
          "output_type": "stream",
          "name": "stderr",
          "text": [
            "PENDING:   0%|          | 0/150 [elapsed: 04:48 remaining: ?]"
          ]
        },
        {
          "output_type": "stream",
          "name": "stdout",
          "text": [
            "2025-04-10 19:33:49,809 Sleeping for 6s. Reason: PENDING\n"
          ]
        },
        {
          "output_type": "stream",
          "name": "stderr",
          "text": [
            "PENDING:   0%|          | 0/150 [elapsed: 04:55 remaining: ?]"
          ]
        },
        {
          "output_type": "stream",
          "name": "stdout",
          "text": [
            "2025-04-10 19:33:56,499 Sleeping for 9s. Reason: PENDING\n"
          ]
        },
        {
          "output_type": "stream",
          "name": "stderr",
          "text": [
            "PENDING:   0%|          | 0/150 [elapsed: 05:04 remaining: ?]"
          ]
        },
        {
          "output_type": "stream",
          "name": "stdout",
          "text": [
            "2025-04-10 19:34:06,186 Sleeping for 9s. Reason: PENDING\n"
          ]
        },
        {
          "output_type": "stream",
          "name": "stderr",
          "text": [
            "PENDING:   0%|          | 0/150 [elapsed: 05:14 remaining: ?]"
          ]
        },
        {
          "output_type": "stream",
          "name": "stdout",
          "text": [
            "2025-04-10 19:34:15,860 Sleeping for 9s. Reason: PENDING\n"
          ]
        },
        {
          "output_type": "stream",
          "name": "stderr",
          "text": [
            "PENDING:   0%|          | 0/150 [elapsed: 05:24 remaining: ?]"
          ]
        },
        {
          "output_type": "stream",
          "name": "stdout",
          "text": [
            "2025-04-10 19:34:25,541 Sleeping for 7s. Reason: PENDING\n"
          ]
        },
        {
          "output_type": "stream",
          "name": "stderr",
          "text": [
            "PENDING:   0%|          | 0/150 [elapsed: 05:31 remaining: ?]"
          ]
        },
        {
          "output_type": "stream",
          "name": "stdout",
          "text": [
            "2025-04-10 19:34:33,224 Sleeping for 5s. Reason: PENDING\n"
          ]
        },
        {
          "output_type": "stream",
          "name": "stderr",
          "text": [
            "PENDING:   0%|          | 0/150 [elapsed: 05:37 remaining: ?]"
          ]
        },
        {
          "output_type": "stream",
          "name": "stdout",
          "text": [
            "2025-04-10 19:34:38,905 Sleeping for 8s. Reason: PENDING\n"
          ]
        },
        {
          "output_type": "stream",
          "name": "stderr",
          "text": [
            "PENDING:   0%|          | 0/150 [elapsed: 05:46 remaining: ?]"
          ]
        },
        {
          "output_type": "stream",
          "name": "stdout",
          "text": [
            "2025-04-10 19:34:47,584 Sleeping for 8s. Reason: PENDING\n"
          ]
        },
        {
          "output_type": "stream",
          "name": "stderr",
          "text": [
            "PENDING:   0%|          | 0/150 [elapsed: 05:55 remaining: ?]"
          ]
        },
        {
          "output_type": "stream",
          "name": "stdout",
          "text": [
            "2025-04-10 19:34:56,263 Sleeping for 9s. Reason: PENDING\n"
          ]
        },
        {
          "output_type": "stream",
          "name": "stderr",
          "text": [
            "PENDING:   0%|          | 0/150 [elapsed: 06:04 remaining: ?]"
          ]
        },
        {
          "output_type": "stream",
          "name": "stdout",
          "text": [
            "2025-04-10 19:35:05,940 Sleeping for 5s. Reason: PENDING\n"
          ]
        },
        {
          "output_type": "stream",
          "name": "stderr",
          "text": [
            "PENDING:   0%|          | 0/150 [elapsed: 06:10 remaining: ?]"
          ]
        },
        {
          "output_type": "stream",
          "name": "stdout",
          "text": [
            "2025-04-10 19:35:11,616 Sleeping for 9s. Reason: PENDING\n"
          ]
        },
        {
          "output_type": "stream",
          "name": "stderr",
          "text": [
            "PENDING:   0%|          | 0/150 [elapsed: 06:20 remaining: ?]"
          ]
        },
        {
          "output_type": "stream",
          "name": "stdout",
          "text": [
            "2025-04-10 19:35:21,302 Sleeping for 8s. Reason: PENDING\n"
          ]
        },
        {
          "output_type": "stream",
          "name": "stderr",
          "text": [
            "PENDING:   0%|          | 0/150 [elapsed: 06:28 remaining: ?]"
          ]
        },
        {
          "output_type": "stream",
          "name": "stdout",
          "text": [
            "2025-04-10 19:35:29,977 Sleeping for 7s. Reason: PENDING\n"
          ]
        },
        {
          "output_type": "stream",
          "name": "stderr",
          "text": [
            "PENDING:   0%|          | 0/150 [elapsed: 06:36 remaining: ?]"
          ]
        },
        {
          "output_type": "stream",
          "name": "stdout",
          "text": [
            "2025-04-10 19:35:37,656 Sleeping for 8s. Reason: PENDING\n"
          ]
        },
        {
          "output_type": "stream",
          "name": "stderr",
          "text": [
            "PENDING:   0%|          | 0/150 [elapsed: 06:45 remaining: ?]"
          ]
        },
        {
          "output_type": "stream",
          "name": "stdout",
          "text": [
            "2025-04-10 19:35:46,343 Sleeping for 6s. Reason: PENDING\n"
          ]
        },
        {
          "output_type": "stream",
          "name": "stderr",
          "text": [
            "PENDING:   0%|          | 0/150 [elapsed: 06:51 remaining: ?]"
          ]
        },
        {
          "output_type": "stream",
          "name": "stdout",
          "text": [
            "2025-04-10 19:35:53,030 Sleeping for 7s. Reason: PENDING\n"
          ]
        },
        {
          "output_type": "stream",
          "name": "stderr",
          "text": [
            "PENDING:   0%|          | 0/150 [elapsed: 06:59 remaining: ?]"
          ]
        },
        {
          "output_type": "stream",
          "name": "stdout",
          "text": [
            "2025-04-10 19:36:00,706 Sleeping for 8s. Reason: PENDING\n"
          ]
        },
        {
          "output_type": "stream",
          "name": "stderr",
          "text": [
            "PENDING:   0%|          | 0/150 [elapsed: 07:08 remaining: ?]"
          ]
        },
        {
          "output_type": "stream",
          "name": "stdout",
          "text": [
            "2025-04-10 19:36:09,383 Sleeping for 10s. Reason: PENDING\n"
          ]
        },
        {
          "output_type": "stream",
          "name": "stderr",
          "text": [
            "PENDING:   0%|          | 0/150 [elapsed: 07:18 remaining: ?]"
          ]
        },
        {
          "output_type": "stream",
          "name": "stdout",
          "text": [
            "2025-04-10 19:36:20,227 Sleeping for 6s. Reason: PENDING\n"
          ]
        },
        {
          "output_type": "stream",
          "name": "stderr",
          "text": [
            "PENDING:   0%|          | 0/150 [elapsed: 07:25 remaining: ?]"
          ]
        },
        {
          "output_type": "stream",
          "name": "stdout",
          "text": [
            "2025-04-10 19:36:26,908 Sleeping for 6s. Reason: PENDING\n"
          ]
        },
        {
          "output_type": "stream",
          "name": "stderr",
          "text": [
            "PENDING:   0%|          | 0/150 [elapsed: 07:32 remaining: ?]"
          ]
        },
        {
          "output_type": "stream",
          "name": "stdout",
          "text": [
            "2025-04-10 19:36:33,593 Sleeping for 10s. Reason: PENDING\n"
          ]
        },
        {
          "output_type": "stream",
          "name": "stderr",
          "text": [
            "PENDING:   0%|          | 0/150 [elapsed: 07:43 remaining: ?]"
          ]
        },
        {
          "output_type": "stream",
          "name": "stdout",
          "text": [
            "2025-04-10 19:36:44,278 Sleeping for 8s. Reason: PENDING\n"
          ]
        },
        {
          "output_type": "stream",
          "name": "stderr",
          "text": [
            "PENDING:   0%|          | 0/150 [elapsed: 07:51 remaining: ?]"
          ]
        },
        {
          "output_type": "stream",
          "name": "stdout",
          "text": [
            "2025-04-10 19:36:52,958 Sleeping for 6s. Reason: PENDING\n"
          ]
        },
        {
          "output_type": "stream",
          "name": "stderr",
          "text": [
            "PENDING:   0%|          | 0/150 [elapsed: 07:58 remaining: ?]"
          ]
        },
        {
          "output_type": "stream",
          "name": "stdout",
          "text": [
            "2025-04-10 19:36:59,639 Sleeping for 7s. Reason: PENDING\n"
          ]
        },
        {
          "output_type": "stream",
          "name": "stderr",
          "text": [
            "PENDING:   0%|          | 0/150 [elapsed: 08:06 remaining: ?]"
          ]
        },
        {
          "output_type": "stream",
          "name": "stdout",
          "text": [
            "2025-04-10 19:37:07,330 Sleeping for 9s. Reason: PENDING\n"
          ]
        },
        {
          "output_type": "stream",
          "name": "stderr",
          "text": [
            "PENDING:   0%|          | 0/150 [elapsed: 08:15 remaining: ?]"
          ]
        },
        {
          "output_type": "stream",
          "name": "stdout",
          "text": [
            "2025-04-10 19:37:17,014 Sleeping for 6s. Reason: PENDING\n"
          ]
        },
        {
          "output_type": "stream",
          "name": "stderr",
          "text": [
            "PENDING:   0%|          | 0/150 [elapsed: 08:22 remaining: ?]"
          ]
        },
        {
          "output_type": "stream",
          "name": "stdout",
          "text": [
            "2025-04-10 19:37:23,706 Sleeping for 10s. Reason: PENDING\n"
          ]
        },
        {
          "output_type": "stream",
          "name": "stderr",
          "text": [
            "PENDING:   0%|          | 0/150 [elapsed: 08:33 remaining: ?]"
          ]
        },
        {
          "output_type": "stream",
          "name": "stdout",
          "text": [
            "2025-04-10 19:37:34,389 Sleeping for 10s. Reason: PENDING\n"
          ]
        },
        {
          "output_type": "stream",
          "name": "stderr",
          "text": [
            "PENDING:   0%|          | 0/150 [elapsed: 08:43 remaining: ?]"
          ]
        },
        {
          "output_type": "stream",
          "name": "stdout",
          "text": [
            "2025-04-10 19:37:45,074 Sleeping for 7s. Reason: PENDING\n"
          ]
        },
        {
          "output_type": "stream",
          "name": "stderr",
          "text": [
            "PENDING:   0%|          | 0/150 [elapsed: 08:51 remaining: ?]"
          ]
        },
        {
          "output_type": "stream",
          "name": "stdout",
          "text": [
            "2025-04-10 19:37:52,753 Sleeping for 8s. Reason: PENDING\n"
          ]
        },
        {
          "output_type": "stream",
          "name": "stderr",
          "text": [
            "PENDING:   0%|          | 0/150 [elapsed: 09:00 remaining: ?]"
          ]
        },
        {
          "output_type": "stream",
          "name": "stdout",
          "text": [
            "2025-04-10 19:38:01,430 Sleeping for 5s. Reason: PENDING\n"
          ]
        },
        {
          "output_type": "stream",
          "name": "stderr",
          "text": [
            "PENDING:   0%|          | 0/150 [elapsed: 09:05 remaining: ?]"
          ]
        },
        {
          "output_type": "stream",
          "name": "stdout",
          "text": [
            "2025-04-10 19:38:07,105 Sleeping for 5s. Reason: PENDING\n"
          ]
        },
        {
          "output_type": "stream",
          "name": "stderr",
          "text": [
            "PENDING:   0%|          | 0/150 [elapsed: 09:11 remaining: ?]"
          ]
        },
        {
          "output_type": "stream",
          "name": "stdout",
          "text": [
            "2025-04-10 19:38:12,797 Sleeping for 5s. Reason: PENDING\n"
          ]
        },
        {
          "output_type": "stream",
          "name": "stderr",
          "text": [
            "PENDING:   0%|          | 0/150 [elapsed: 09:17 remaining: ?]"
          ]
        },
        {
          "output_type": "stream",
          "name": "stdout",
          "text": [
            "2025-04-10 19:38:18,475 Sleeping for 9s. Reason: PENDING\n"
          ]
        },
        {
          "output_type": "stream",
          "name": "stderr",
          "text": [
            "PENDING:   0%|          | 0/150 [elapsed: 09:26 remaining: ?]"
          ]
        },
        {
          "output_type": "stream",
          "name": "stdout",
          "text": [
            "2025-04-10 19:38:28,161 Sleeping for 9s. Reason: PENDING\n"
          ]
        },
        {
          "output_type": "stream",
          "name": "stderr",
          "text": [
            "PENDING:   0%|          | 0/150 [elapsed: 09:36 remaining: ?]"
          ]
        },
        {
          "output_type": "stream",
          "name": "stdout",
          "text": [
            "2025-04-10 19:38:37,845 Sleeping for 5s. Reason: PENDING\n"
          ]
        },
        {
          "output_type": "stream",
          "name": "stderr",
          "text": [
            "PENDING:   0%|          | 0/150 [elapsed: 09:42 remaining: ?]"
          ]
        },
        {
          "output_type": "stream",
          "name": "stdout",
          "text": [
            "2025-04-10 19:38:43,521 Sleeping for 7s. Reason: PENDING\n"
          ]
        },
        {
          "output_type": "stream",
          "name": "stderr",
          "text": [
            "PENDING:   0%|          | 0/150 [elapsed: 09:49 remaining: ?]"
          ]
        },
        {
          "output_type": "stream",
          "name": "stdout",
          "text": [
            "2025-04-10 19:38:51,206 Sleeping for 6s. Reason: PENDING\n"
          ]
        },
        {
          "output_type": "stream",
          "name": "stderr",
          "text": [
            "PENDING:   0%|          | 0/150 [elapsed: 09:56 remaining: ?]"
          ]
        },
        {
          "output_type": "stream",
          "name": "stdout",
          "text": [
            "2025-04-10 19:38:57,890 Sleeping for 6s. Reason: PENDING\n"
          ]
        },
        {
          "output_type": "stream",
          "name": "stderr",
          "text": [
            "PENDING:   0%|          | 0/150 [elapsed: 10:03 remaining: ?]"
          ]
        },
        {
          "output_type": "stream",
          "name": "stdout",
          "text": [
            "2025-04-10 19:39:04,564 Sleeping for 5s. Reason: PENDING\n"
          ]
        },
        {
          "output_type": "stream",
          "name": "stderr",
          "text": [
            "PENDING:   0%|          | 0/150 [elapsed: 10:09 remaining: ?]"
          ]
        },
        {
          "output_type": "stream",
          "name": "stdout",
          "text": [
            "2025-04-10 19:39:10,395 Sleeping for 10s. Reason: PENDING\n"
          ]
        },
        {
          "output_type": "stream",
          "name": "stderr",
          "text": [
            "PENDING:   0%|          | 0/150 [elapsed: 10:19 remaining: ?]"
          ]
        },
        {
          "output_type": "stream",
          "name": "stdout",
          "text": [
            "2025-04-10 19:39:21,080 Sleeping for 10s. Reason: PENDING\n"
          ]
        },
        {
          "output_type": "stream",
          "name": "stderr",
          "text": [
            "PENDING:   0%|          | 0/150 [elapsed: 10:30 remaining: ?]"
          ]
        },
        {
          "output_type": "stream",
          "name": "stdout",
          "text": [
            "2025-04-10 19:39:31,753 Sleeping for 5s. Reason: PENDING\n"
          ]
        },
        {
          "output_type": "stream",
          "name": "stderr",
          "text": [
            "PENDING:   0%|          | 0/150 [elapsed: 10:36 remaining: ?]"
          ]
        },
        {
          "output_type": "stream",
          "name": "stdout",
          "text": [
            "2025-04-10 19:39:37,430 Sleeping for 8s. Reason: PENDING\n"
          ]
        },
        {
          "output_type": "stream",
          "name": "stderr",
          "text": [
            "PENDING:   0%|          | 0/150 [elapsed: 10:44 remaining: ?]"
          ]
        },
        {
          "output_type": "stream",
          "name": "stdout",
          "text": [
            "2025-04-10 19:39:46,113 Sleeping for 9s. Reason: PENDING\n"
          ]
        },
        {
          "output_type": "stream",
          "name": "stderr",
          "text": [
            "PENDING:   0%|          | 0/150 [elapsed: 10:54 remaining: ?]"
          ]
        },
        {
          "output_type": "stream",
          "name": "stdout",
          "text": [
            "2025-04-10 19:39:55,796 Sleeping for 8s. Reason: PENDING\n"
          ]
        },
        {
          "output_type": "stream",
          "name": "stderr",
          "text": [
            "PENDING:   0%|          | 0/150 [elapsed: 11:03 remaining: ?]"
          ]
        },
        {
          "output_type": "stream",
          "name": "stdout",
          "text": [
            "2025-04-10 19:40:04,474 Sleeping for 9s. Reason: PENDING\n"
          ]
        },
        {
          "output_type": "stream",
          "name": "stderr",
          "text": [
            "PENDING:   0%|          | 0/150 [elapsed: 11:12 remaining: ?]"
          ]
        },
        {
          "output_type": "stream",
          "name": "stdout",
          "text": [
            "2025-04-10 19:40:14,155 Sleeping for 8s. Reason: PENDING\n"
          ]
        },
        {
          "output_type": "stream",
          "name": "stderr",
          "text": [
            "PENDING:   0%|          | 0/150 [elapsed: 11:21 remaining: ?]"
          ]
        },
        {
          "output_type": "stream",
          "name": "stdout",
          "text": [
            "2025-04-10 19:40:22,847 Sleeping for 5s. Reason: PENDING\n"
          ]
        },
        {
          "output_type": "stream",
          "name": "stderr",
          "text": [
            "PENDING:   0%|          | 0/150 [elapsed: 11:27 remaining: ?]"
          ]
        },
        {
          "output_type": "stream",
          "name": "stdout",
          "text": [
            "2025-04-10 19:40:28,533 Sleeping for 7s. Reason: PENDING\n"
          ]
        },
        {
          "output_type": "stream",
          "name": "stderr",
          "text": [
            "PENDING:   0%|          | 0/150 [elapsed: 11:34 remaining: ?]"
          ]
        },
        {
          "output_type": "stream",
          "name": "stdout",
          "text": [
            "2025-04-10 19:40:36,213 Sleeping for 9s. Reason: PENDING\n"
          ]
        },
        {
          "output_type": "stream",
          "name": "stderr",
          "text": [
            "PENDING:   0%|          | 0/150 [elapsed: 11:44 remaining: ?]"
          ]
        },
        {
          "output_type": "stream",
          "name": "stdout",
          "text": [
            "2025-04-10 19:40:45,893 Sleeping for 6s. Reason: PENDING\n"
          ]
        },
        {
          "output_type": "stream",
          "name": "stderr",
          "text": [
            "PENDING:   0%|          | 0/150 [elapsed: 11:51 remaining: ?]"
          ]
        },
        {
          "output_type": "stream",
          "name": "stdout",
          "text": [
            "2025-04-10 19:40:52,575 Sleeping for 9s. Reason: PENDING\n"
          ]
        },
        {
          "output_type": "stream",
          "name": "stderr",
          "text": [
            "PENDING:   0%|          | 0/150 [elapsed: 12:01 remaining: ?]"
          ]
        },
        {
          "output_type": "stream",
          "name": "stdout",
          "text": [
            "2025-04-10 19:41:02,271 Sleeping for 8s. Reason: PENDING\n"
          ]
        },
        {
          "output_type": "stream",
          "name": "stderr",
          "text": [
            "PENDING:   0%|          | 0/150 [elapsed: 12:09 remaining: ?]"
          ]
        },
        {
          "output_type": "stream",
          "name": "stdout",
          "text": [
            "2025-04-10 19:41:10,955 Sleeping for 7s. Reason: PENDING\n"
          ]
        },
        {
          "output_type": "stream",
          "name": "stderr",
          "text": [
            "PENDING:   0%|          | 0/150 [elapsed: 12:17 remaining: ?]"
          ]
        },
        {
          "output_type": "stream",
          "name": "stdout",
          "text": [
            "2025-04-10 19:41:18,643 Sleeping for 10s. Reason: PENDING\n"
          ]
        },
        {
          "output_type": "stream",
          "name": "stderr",
          "text": [
            "PENDING:   0%|          | 0/150 [elapsed: 12:28 remaining: ?]"
          ]
        },
        {
          "output_type": "stream",
          "name": "stdout",
          "text": [
            "2025-04-10 19:41:29,325 Sleeping for 10s. Reason: PENDING\n"
          ]
        },
        {
          "output_type": "stream",
          "name": "stderr",
          "text": [
            "PENDING:   0%|          | 0/150 [elapsed: 12:38 remaining: ?]"
          ]
        },
        {
          "output_type": "stream",
          "name": "stdout",
          "text": [
            "2025-04-10 19:41:40,004 Sleeping for 5s. Reason: PENDING\n"
          ]
        },
        {
          "output_type": "stream",
          "name": "stderr",
          "text": [
            "PENDING:   0%|          | 0/150 [elapsed: 12:44 remaining: ?]"
          ]
        },
        {
          "output_type": "stream",
          "name": "stdout",
          "text": [
            "2025-04-10 19:41:45,680 Sleeping for 10s. Reason: PENDING\n"
          ]
        },
        {
          "output_type": "stream",
          "name": "stderr",
          "text": [
            "PENDING:   0%|          | 0/150 [elapsed: 12:55 remaining: ?]"
          ]
        },
        {
          "output_type": "stream",
          "name": "stdout",
          "text": [
            "2025-04-10 19:41:56,356 Sleeping for 6s. Reason: PENDING\n"
          ]
        },
        {
          "output_type": "stream",
          "name": "stderr",
          "text": [
            "PENDING:   0%|          | 0/150 [elapsed: 13:01 remaining: ?]"
          ]
        },
        {
          "output_type": "stream",
          "name": "stdout",
          "text": [
            "2025-04-10 19:42:03,030 Sleeping for 7s. Reason: PENDING\n"
          ]
        },
        {
          "output_type": "stream",
          "name": "stderr",
          "text": [
            "PENDING:   0%|          | 0/150 [elapsed: 13:09 remaining: ?]"
          ]
        },
        {
          "output_type": "stream",
          "name": "stdout",
          "text": [
            "2025-04-10 19:42:10,716 Sleeping for 8s. Reason: PENDING\n"
          ]
        },
        {
          "output_type": "stream",
          "name": "stderr",
          "text": [
            "PENDING:   0%|          | 0/150 [elapsed: 13:18 remaining: ?]"
          ]
        },
        {
          "output_type": "stream",
          "name": "stdout",
          "text": [
            "2025-04-10 19:42:19,400 Sleeping for 10s. Reason: PENDING\n"
          ]
        },
        {
          "output_type": "stream",
          "name": "stderr",
          "text": [
            "PENDING:   0%|          | 0/150 [elapsed: 13:28 remaining: ?]"
          ]
        },
        {
          "output_type": "stream",
          "name": "stdout",
          "text": [
            "2025-04-10 19:42:30,080 Sleeping for 8s. Reason: PENDING\n"
          ]
        },
        {
          "output_type": "stream",
          "name": "stderr",
          "text": [
            "PENDING:   0%|          | 0/150 [elapsed: 13:37 remaining: ?]"
          ]
        },
        {
          "output_type": "stream",
          "name": "stdout",
          "text": [
            "2025-04-10 19:42:38,762 Sleeping for 8s. Reason: PENDING\n"
          ]
        },
        {
          "output_type": "stream",
          "name": "stderr",
          "text": [
            "PENDING:   0%|          | 0/150 [elapsed: 13:46 remaining: ?]"
          ]
        },
        {
          "output_type": "stream",
          "name": "stdout",
          "text": [
            "2025-04-10 19:42:47,439 Sleeping for 10s. Reason: PENDING\n"
          ]
        },
        {
          "output_type": "stream",
          "name": "stderr",
          "text": [
            "PENDING:   0%|          | 0/150 [elapsed: 13:56 remaining: ?]"
          ]
        },
        {
          "output_type": "stream",
          "name": "stdout",
          "text": [
            "2025-04-10 19:42:58,129 Sleeping for 7s. Reason: PENDING\n"
          ]
        },
        {
          "output_type": "stream",
          "name": "stderr",
          "text": [
            "PENDING:   0%|          | 0/150 [elapsed: 14:04 remaining: ?]"
          ]
        },
        {
          "output_type": "stream",
          "name": "stdout",
          "text": [
            "2025-04-10 19:43:05,810 Sleeping for 10s. Reason: PENDING\n"
          ]
        },
        {
          "output_type": "stream",
          "name": "stderr",
          "text": [
            "PENDING:   0%|          | 0/150 [elapsed: 14:15 remaining: ?]"
          ]
        },
        {
          "output_type": "stream",
          "name": "stdout",
          "text": [
            "2025-04-10 19:43:16,531 Sleeping for 6s. Reason: PENDING\n"
          ]
        },
        {
          "output_type": "stream",
          "name": "stderr",
          "text": [
            "PENDING:   0%|          | 0/150 [elapsed: 14:21 remaining: ?]"
          ]
        },
        {
          "output_type": "stream",
          "name": "stdout",
          "text": [
            "2025-04-10 19:43:23,212 Sleeping for 9s. Reason: PENDING\n"
          ]
        },
        {
          "output_type": "stream",
          "name": "stderr",
          "text": [
            "PENDING:   0%|          | 0/150 [elapsed: 14:31 remaining: ?]"
          ]
        },
        {
          "output_type": "stream",
          "name": "stdout",
          "text": [
            "2025-04-10 19:43:32,900 Sleeping for 6s. Reason: PENDING\n"
          ]
        },
        {
          "output_type": "stream",
          "name": "stderr",
          "text": [
            "PENDING:   0%|          | 0/150 [elapsed: 14:38 remaining: ?]"
          ]
        },
        {
          "output_type": "stream",
          "name": "stdout",
          "text": [
            "2025-04-10 19:43:39,582 Sleeping for 8s. Reason: PENDING\n"
          ]
        },
        {
          "output_type": "stream",
          "name": "stderr",
          "text": [
            "PENDING:   0%|          | 0/150 [elapsed: 14:47 remaining: ?]"
          ]
        },
        {
          "output_type": "stream",
          "name": "stdout",
          "text": [
            "2025-04-10 19:43:48,268 Sleeping for 6s. Reason: PENDING\n"
          ]
        },
        {
          "output_type": "stream",
          "name": "stderr",
          "text": [
            "RUNNING:   4%|▍         | 6/150 [elapsed: 14:53 remaining: 5:57:28]"
          ]
        },
        {
          "output_type": "stream",
          "name": "stdout",
          "text": [
            "2025-04-10 19:43:54,954 Sleeping for 9s. Reason: RUNNING\n"
          ]
        },
        {
          "output_type": "stream",
          "name": "stderr",
          "text": [
            "RUNNING:  10%|█         | 15/150 [elapsed: 15:03 remaining: 1:48:17]"
          ]
        },
        {
          "output_type": "stream",
          "name": "stdout",
          "text": [
            "2025-04-10 19:44:04,643 Sleeping for 5s. Reason: RUNNING\n"
          ]
        },
        {
          "output_type": "stream",
          "name": "stderr",
          "text": [
            "COMPLETE: 100%|██████████| 150/150 [elapsed: 15:09 remaining: 00:00]\n"
          ]
        },
        {
          "output_type": "stream",
          "name": "stdout",
          "text": [
            "2025-04-10 19:44:13,270 alphafold2_ptm_model_1_seed_000 recycle=0 pLDDT=58.2 pTM=0.0496\n",
            "2025-04-10 19:44:13,810 alphafold2_ptm_model_1_seed_000 recycle=1 pLDDT=56.8 pTM=0.0488 tol=1.14\n",
            "2025-04-10 19:44:14,349 alphafold2_ptm_model_1_seed_000 recycle=2 pLDDT=59.7 pTM=0.0564 tol=1.76\n",
            "2025-04-10 19:44:14,889 alphafold2_ptm_model_1_seed_000 recycle=3 pLDDT=58.7 pTM=0.0501 tol=4.33\n",
            "2025-04-10 19:44:14,890 alphafold2_ptm_model_1_seed_000 took 2.2s (3 recycles)\n",
            "2025-04-10 19:44:15,439 alphafold2_ptm_model_2_seed_000 recycle=0 pLDDT=62.3 pTM=0.0526\n",
            "2025-04-10 19:44:15,979 alphafold2_ptm_model_2_seed_000 recycle=1 pLDDT=59.8 pTM=0.0554 tol=4.67\n",
            "2025-04-10 19:44:16,519 alphafold2_ptm_model_2_seed_000 recycle=2 pLDDT=60 pTM=0.0528 tol=3.44\n",
            "2025-04-10 19:44:17,060 alphafold2_ptm_model_2_seed_000 recycle=3 pLDDT=60.2 pTM=0.0585 tol=3.58\n",
            "2025-04-10 19:44:17,061 alphafold2_ptm_model_2_seed_000 took 2.2s (3 recycles)\n",
            "2025-04-10 19:44:17,612 alphafold2_ptm_model_3_seed_000 recycle=0 pLDDT=67.5 pTM=0.0529\n",
            "2025-04-10 19:44:18,153 alphafold2_ptm_model_3_seed_000 recycle=1 pLDDT=63.6 pTM=0.0523 tol=0.734\n",
            "2025-04-10 19:44:18,693 alphafold2_ptm_model_3_seed_000 recycle=2 pLDDT=61.3 pTM=0.0501 tol=1.07\n",
            "2025-04-10 19:44:19,234 alphafold2_ptm_model_3_seed_000 recycle=3 pLDDT=65.7 pTM=0.0539 tol=0.968\n",
            "2025-04-10 19:44:19,235 alphafold2_ptm_model_3_seed_000 took 2.2s (3 recycles)\n",
            "2025-04-10 19:44:19,785 alphafold2_ptm_model_4_seed_000 recycle=0 pLDDT=58.9 pTM=0.0479\n",
            "2025-04-10 19:44:20,326 alphafold2_ptm_model_4_seed_000 recycle=1 pLDDT=73.9 pTM=0.0634 tol=0.604\n",
            "2025-04-10 19:44:20,866 alphafold2_ptm_model_4_seed_000 recycle=2 pLDDT=72.1 pTM=0.0591 tol=0.179\n",
            "2025-04-10 19:44:21,405 alphafold2_ptm_model_4_seed_000 recycle=3 pLDDT=74.2 pTM=0.0619 tol=0.125\n",
            "2025-04-10 19:44:21,406 alphafold2_ptm_model_4_seed_000 took 2.2s (3 recycles)\n",
            "2025-04-10 19:44:21,969 alphafold2_ptm_model_5_seed_000 recycle=0 pLDDT=64.2 pTM=0.0569\n",
            "2025-04-10 19:44:22,509 alphafold2_ptm_model_5_seed_000 recycle=1 pLDDT=57.9 pTM=0.0511 tol=3\n",
            "2025-04-10 19:44:23,049 alphafold2_ptm_model_5_seed_000 recycle=2 pLDDT=66 pTM=0.0635 tol=3.19\n",
            "2025-04-10 19:44:23,588 alphafold2_ptm_model_5_seed_000 recycle=3 pLDDT=61 pTM=0.0531 tol=2.93\n",
            "2025-04-10 19:44:23,589 alphafold2_ptm_model_5_seed_000 took 2.2s (3 recycles)\n",
            "2025-04-10 19:44:23,598 reranking models by 'plddt' metric\n",
            "2025-04-10 19:44:23,598 rank_001_alphafold2_ptm_model_4_seed_000 pLDDT=74.2 pTM=0.0619\n",
            "2025-04-10 19:44:23,601 rank_002_alphafold2_ptm_model_3_seed_000 pLDDT=65.7 pTM=0.0539\n",
            "2025-04-10 19:44:23,603 rank_003_alphafold2_ptm_model_5_seed_000 pLDDT=61 pTM=0.0531\n",
            "2025-04-10 19:44:23,606 rank_004_alphafold2_ptm_model_2_seed_000 pLDDT=60.2 pTM=0.0585\n",
            "2025-04-10 19:44:23,608 rank_005_alphafold2_ptm_model_1_seed_000 pLDDT=58.7 pTM=0.0501\n",
            "2025-04-10 19:44:24,590 Query 524/8000: sequence_2524 (length 20)\n"
          ]
        },
        {
          "output_type": "stream",
          "name": "stderr",
          "text": [
            "PENDING:   0%|          | 0/150 [elapsed: 00:00 remaining: ?]"
          ]
        },
        {
          "output_type": "stream",
          "name": "stdout",
          "text": [
            "2025-04-10 19:44:25,288 Sleeping for 6s. Reason: PENDING\n"
          ]
        },
        {
          "output_type": "stream",
          "name": "stderr",
          "text": [
            "RUNNING:   4%|▍         | 6/150 [elapsed: 00:07 remaining: 02:57]"
          ]
        },
        {
          "output_type": "stream",
          "name": "stdout",
          "text": [
            "2025-04-10 19:44:31,977 Sleeping for 6s. Reason: RUNNING\n"
          ]
        },
        {
          "output_type": "stream",
          "name": "stderr",
          "text": [
            "COMPLETE: 100%|██████████| 150/150 [elapsed: 00:14 remaining: 00:00]\n"
          ]
        },
        {
          "output_type": "stream",
          "name": "stdout",
          "text": [
            "2025-04-10 19:44:41,608 alphafold2_ptm_model_1_seed_000 recycle=0 pLDDT=62.2 pTM=0.0652\n",
            "2025-04-10 19:44:42,147 alphafold2_ptm_model_1_seed_000 recycle=1 pLDDT=67.8 pTM=0.0751 tol=0.852\n",
            "2025-04-10 19:44:42,686 alphafold2_ptm_model_1_seed_000 recycle=2 pLDDT=68.6 pTM=0.0743 tol=0.623\n",
            "2025-04-10 19:44:43,226 alphafold2_ptm_model_1_seed_000 recycle=3 pLDDT=70.6 pTM=0.0765 tol=0.114\n",
            "2025-04-10 19:44:43,227 alphafold2_ptm_model_1_seed_000 took 2.2s (3 recycles)\n",
            "2025-04-10 19:44:43,775 alphafold2_ptm_model_2_seed_000 recycle=0 pLDDT=61.2 pTM=0.0678\n",
            "2025-04-10 19:44:44,315 alphafold2_ptm_model_2_seed_000 recycle=1 pLDDT=66.1 pTM=0.0744 tol=0.546\n",
            "2025-04-10 19:44:44,855 alphafold2_ptm_model_2_seed_000 recycle=2 pLDDT=68.6 pTM=0.0778 tol=0.447\n",
            "2025-04-10 19:44:45,395 alphafold2_ptm_model_2_seed_000 recycle=3 pLDDT=70.1 pTM=0.08 tol=0.0619\n",
            "2025-04-10 19:44:45,396 alphafold2_ptm_model_2_seed_000 took 2.2s (3 recycles)\n",
            "2025-04-10 19:44:45,945 alphafold2_ptm_model_3_seed_000 recycle=0 pLDDT=78.9 pTM=0.074\n",
            "2025-04-10 19:44:46,485 alphafold2_ptm_model_3_seed_000 recycle=1 pLDDT=82.7 pTM=0.0776 tol=0.29\n",
            "2025-04-10 19:44:47,025 alphafold2_ptm_model_3_seed_000 recycle=2 pLDDT=82.4 pTM=0.0778 tol=0.151\n",
            "2025-04-10 19:44:47,565 alphafold2_ptm_model_3_seed_000 recycle=3 pLDDT=81.9 pTM=0.0768 tol=0.108\n",
            "2025-04-10 19:44:47,566 alphafold2_ptm_model_3_seed_000 took 2.2s (3 recycles)\n",
            "2025-04-10 19:44:48,115 alphafold2_ptm_model_4_seed_000 recycle=0 pLDDT=81.5 pTM=0.076\n",
            "2025-04-10 19:44:48,655 alphafold2_ptm_model_4_seed_000 recycle=1 pLDDT=81.1 pTM=0.079 tol=0.463\n",
            "2025-04-10 19:44:49,195 alphafold2_ptm_model_4_seed_000 recycle=2 pLDDT=78.9 pTM=0.0778 tol=0.137\n",
            "2025-04-10 19:44:49,735 alphafold2_ptm_model_4_seed_000 recycle=3 pLDDT=78.7 pTM=0.0775 tol=0.0941\n",
            "2025-04-10 19:44:49,736 alphafold2_ptm_model_4_seed_000 took 2.2s (3 recycles)\n",
            "2025-04-10 19:44:50,302 alphafold2_ptm_model_5_seed_000 recycle=0 pLDDT=69.8 pTM=0.0715\n",
            "2025-04-10 19:44:50,841 alphafold2_ptm_model_5_seed_000 recycle=1 pLDDT=71.5 pTM=0.0737 tol=0.878\n",
            "2025-04-10 19:44:51,380 alphafold2_ptm_model_5_seed_000 recycle=2 pLDDT=72.7 pTM=0.0728 tol=0.409\n",
            "2025-04-10 19:44:51,921 alphafold2_ptm_model_5_seed_000 recycle=3 pLDDT=73.4 pTM=0.0729 tol=0.139\n",
            "2025-04-10 19:44:51,921 alphafold2_ptm_model_5_seed_000 took 2.2s (3 recycles)\n",
            "2025-04-10 19:44:51,931 reranking models by 'plddt' metric\n",
            "2025-04-10 19:44:51,931 rank_001_alphafold2_ptm_model_3_seed_000 pLDDT=81.9 pTM=0.0768\n",
            "2025-04-10 19:44:51,933 rank_002_alphafold2_ptm_model_4_seed_000 pLDDT=78.7 pTM=0.0775\n",
            "2025-04-10 19:44:51,936 rank_003_alphafold2_ptm_model_5_seed_000 pLDDT=73.4 pTM=0.0729\n",
            "2025-04-10 19:44:51,938 rank_004_alphafold2_ptm_model_1_seed_000 pLDDT=70.6 pTM=0.0765\n",
            "2025-04-10 19:44:51,940 rank_005_alphafold2_ptm_model_2_seed_000 pLDDT=70.1 pTM=0.08\n",
            "2025-04-10 19:44:52,925 Query 525/8000: sequence_2525 (length 20)\n"
          ]
        },
        {
          "output_type": "stream",
          "name": "stderr",
          "text": [
            "PENDING:   0%|          | 0/150 [elapsed: 00:00 remaining: ?]"
          ]
        },
        {
          "output_type": "stream",
          "name": "stdout",
          "text": [
            "2025-04-10 19:44:53,613 Sleeping for 8s. Reason: PENDING\n"
          ]
        },
        {
          "output_type": "stream",
          "name": "stderr",
          "text": [
            "COMPLETE: 100%|██████████| 150/150 [elapsed: 00:10 remaining: 00:00]\n"
          ]
        },
        {
          "output_type": "stream",
          "name": "stdout",
          "text": [
            "2025-04-10 19:45:05,296 alphafold2_ptm_model_1_seed_000 recycle=0 pLDDT=77.9 pTM=0.0873\n",
            "2025-04-10 19:45:05,836 alphafold2_ptm_model_1_seed_000 recycle=1 pLDDT=79.6 pTM=0.0947 tol=0.186\n",
            "2025-04-10 19:45:06,375 alphafold2_ptm_model_1_seed_000 recycle=2 pLDDT=79.6 pTM=0.0941 tol=0.122\n",
            "2025-04-10 19:45:06,914 alphafold2_ptm_model_1_seed_000 recycle=3 pLDDT=79.6 pTM=0.0955 tol=0.171\n",
            "2025-04-10 19:45:06,915 alphafold2_ptm_model_1_seed_000 took 2.2s (3 recycles)\n",
            "2025-04-10 19:45:07,465 alphafold2_ptm_model_2_seed_000 recycle=0 pLDDT=75.4 pTM=0.0864\n",
            "2025-04-10 19:45:08,005 alphafold2_ptm_model_2_seed_000 recycle=1 pLDDT=77.4 pTM=0.0952 tol=0.193\n",
            "2025-04-10 19:45:08,544 alphafold2_ptm_model_2_seed_000 recycle=2 pLDDT=77.8 pTM=0.0936 tol=0.253\n",
            "2025-04-10 19:45:09,085 alphafold2_ptm_model_2_seed_000 recycle=3 pLDDT=78 pTM=0.0944 tol=0.278\n",
            "2025-04-10 19:45:09,085 alphafold2_ptm_model_2_seed_000 took 2.2s (3 recycles)\n",
            "2025-04-10 19:45:09,636 alphafold2_ptm_model_3_seed_000 recycle=0 pLDDT=77.7 pTM=0.0771\n",
            "2025-04-10 19:45:10,176 alphafold2_ptm_model_3_seed_000 recycle=1 pLDDT=84.1 pTM=0.0997 tol=0.435\n",
            "2025-04-10 19:45:10,715 alphafold2_ptm_model_3_seed_000 recycle=2 pLDDT=83.6 pTM=0.0975 tol=0.143\n",
            "2025-04-10 19:45:11,255 alphafold2_ptm_model_3_seed_000 recycle=3 pLDDT=84.8 pTM=0.0992 tol=0.186\n",
            "2025-04-10 19:45:11,256 alphafold2_ptm_model_3_seed_000 took 2.2s (3 recycles)\n",
            "2025-04-10 19:45:11,806 alphafold2_ptm_model_4_seed_000 recycle=0 pLDDT=80.3 pTM=0.0893\n",
            "2025-04-10 19:45:12,347 alphafold2_ptm_model_4_seed_000 recycle=1 pLDDT=82.6 pTM=0.0996 tol=0.509\n",
            "2025-04-10 19:45:12,887 alphafold2_ptm_model_4_seed_000 recycle=2 pLDDT=82.3 pTM=0.1 tol=0.349\n",
            "2025-04-10 19:45:13,427 alphafold2_ptm_model_4_seed_000 recycle=3 pLDDT=82.4 pTM=0.0995 tol=0.144\n",
            "2025-04-10 19:45:13,428 alphafold2_ptm_model_4_seed_000 took 2.2s (3 recycles)\n",
            "2025-04-10 19:45:13,977 alphafold2_ptm_model_5_seed_000 recycle=0 pLDDT=86.4 pTM=0.104\n",
            "2025-04-10 19:45:14,517 alphafold2_ptm_model_5_seed_000 recycle=1 pLDDT=85.2 pTM=0.108 tol=0.157\n",
            "2025-04-10 19:45:15,058 alphafold2_ptm_model_5_seed_000 recycle=2 pLDDT=84.1 pTM=0.104 tol=0.15\n",
            "2025-04-10 19:45:15,599 alphafold2_ptm_model_5_seed_000 recycle=3 pLDDT=84.6 pTM=0.106 tol=0.0977\n",
            "2025-04-10 19:45:15,599 alphafold2_ptm_model_5_seed_000 took 2.2s (3 recycles)\n",
            "2025-04-10 19:45:15,611 reranking models by 'plddt' metric\n",
            "2025-04-10 19:45:15,611 rank_001_alphafold2_ptm_model_3_seed_000 pLDDT=84.8 pTM=0.0992\n",
            "2025-04-10 19:45:15,614 rank_002_alphafold2_ptm_model_5_seed_000 pLDDT=84.6 pTM=0.106\n",
            "2025-04-10 19:45:15,616 rank_003_alphafold2_ptm_model_4_seed_000 pLDDT=82.4 pTM=0.0995\n",
            "2025-04-10 19:45:15,619 rank_004_alphafold2_ptm_model_1_seed_000 pLDDT=79.6 pTM=0.0955\n",
            "2025-04-10 19:45:15,621 rank_005_alphafold2_ptm_model_2_seed_000 pLDDT=78 pTM=0.0944\n",
            "2025-04-10 19:45:16,604 Query 526/8000: sequence_2526 (length 20)\n"
          ]
        },
        {
          "output_type": "stream",
          "name": "stderr",
          "text": [
            "PENDING:   0%|          | 0/150 [elapsed: 00:00 remaining: ?]"
          ]
        },
        {
          "output_type": "stream",
          "name": "stdout",
          "text": [
            "2025-04-10 19:45:17,296 Sleeping for 10s. Reason: PENDING\n"
          ]
        },
        {
          "output_type": "stream",
          "name": "stderr",
          "text": [
            "PENDING:   0%|          | 0/150 [elapsed: 00:11 remaining: ?]"
          ]
        },
        {
          "output_type": "stream",
          "name": "stdout",
          "text": [
            "2025-04-10 19:45:27,976 Sleeping for 9s. Reason: PENDING\n"
          ]
        },
        {
          "output_type": "stream",
          "name": "stderr",
          "text": [
            "RUNNING:   6%|▌         | 9/150 [elapsed: 00:21 remaining: 05:29]"
          ]
        },
        {
          "output_type": "stream",
          "name": "stdout",
          "text": [
            "2025-04-10 19:45:37,660 Sleeping for 9s. Reason: RUNNING\n"
          ]
        },
        {
          "output_type": "stream",
          "name": "stderr",
          "text": [
            "RUNNING:  12%|█▏        | 18/150 [elapsed: 00:30 remaining: 03:30]"
          ]
        },
        {
          "output_type": "stream",
          "name": "stdout",
          "text": [
            "2025-04-10 19:45:47,341 Sleeping for 9s. Reason: RUNNING\n"
          ]
        },
        {
          "output_type": "stream",
          "name": "stderr",
          "text": [
            "COMPLETE: 100%|██████████| 150/150 [elapsed: 00:41 remaining: 00:00]\n"
          ]
        },
        {
          "output_type": "stream",
          "name": "stdout",
          "text": [
            "2025-04-10 19:45:59,980 alphafold2_ptm_model_1_seed_000 recycle=0 pLDDT=83.8 pTM=0.0917\n",
            "2025-04-10 19:46:00,519 alphafold2_ptm_model_1_seed_000 recycle=1 pLDDT=82.8 pTM=0.0914 tol=0.0822\n",
            "2025-04-10 19:46:01,059 alphafold2_ptm_model_1_seed_000 recycle=2 pLDDT=82.6 pTM=0.0896 tol=0.0582\n",
            "2025-04-10 19:46:01,598 alphafold2_ptm_model_1_seed_000 recycle=3 pLDDT=83.1 pTM=0.0909 tol=0.0771\n",
            "2025-04-10 19:46:01,599 alphafold2_ptm_model_1_seed_000 took 2.2s (3 recycles)\n",
            "2025-04-10 19:46:02,148 alphafold2_ptm_model_2_seed_000 recycle=0 pLDDT=87.6 pTM=0.102\n",
            "2025-04-10 19:46:02,687 alphafold2_ptm_model_2_seed_000 recycle=1 pLDDT=84.1 pTM=0.101 tol=0.0908\n",
            "2025-04-10 19:46:03,227 alphafold2_ptm_model_2_seed_000 recycle=2 pLDDT=81.8 pTM=0.097 tol=0.0499\n",
            "2025-04-10 19:46:03,767 alphafold2_ptm_model_2_seed_000 recycle=3 pLDDT=83.2 pTM=0.0987 tol=0.0394\n",
            "2025-04-10 19:46:03,767 alphafold2_ptm_model_2_seed_000 took 2.2s (3 recycles)\n",
            "2025-04-10 19:46:04,317 alphafold2_ptm_model_3_seed_000 recycle=0 pLDDT=83.6 pTM=0.0861\n",
            "2025-04-10 19:46:04,858 alphafold2_ptm_model_3_seed_000 recycle=1 pLDDT=81.2 pTM=0.0852 tol=0.196\n",
            "2025-04-10 19:46:05,397 alphafold2_ptm_model_3_seed_000 recycle=2 pLDDT=79.2 pTM=0.0817 tol=0.208\n",
            "2025-04-10 19:46:05,937 alphafold2_ptm_model_3_seed_000 recycle=3 pLDDT=80.2 pTM=0.0825 tol=0.0635\n",
            "2025-04-10 19:46:05,938 alphafold2_ptm_model_3_seed_000 took 2.2s (3 recycles)\n",
            "2025-04-10 19:46:06,487 alphafold2_ptm_model_4_seed_000 recycle=0 pLDDT=87.9 pTM=0.101\n",
            "2025-04-10 19:46:07,028 alphafold2_ptm_model_4_seed_000 recycle=1 pLDDT=86 pTM=0.0997 tol=0.0696\n",
            "2025-04-10 19:46:07,567 alphafold2_ptm_model_4_seed_000 recycle=2 pLDDT=85.4 pTM=0.0975 tol=0.0535\n",
            "2025-04-10 19:46:08,107 alphafold2_ptm_model_4_seed_000 recycle=3 pLDDT=86.2 pTM=0.0997 tol=0.0352\n",
            "2025-04-10 19:46:08,107 alphafold2_ptm_model_4_seed_000 took 2.2s (3 recycles)\n",
            "2025-04-10 19:46:08,656 alphafold2_ptm_model_5_seed_000 recycle=0 pLDDT=91.2 pTM=0.0985\n",
            "2025-04-10 19:46:09,195 alphafold2_ptm_model_5_seed_000 recycle=1 pLDDT=87.1 pTM=0.0956 tol=0.0809\n",
            "2025-04-10 19:46:09,735 alphafold2_ptm_model_5_seed_000 recycle=2 pLDDT=85.1 pTM=0.0923 tol=0.0845\n",
            "2025-04-10 19:46:10,275 alphafold2_ptm_model_5_seed_000 recycle=3 pLDDT=87.2 pTM=0.0954 tol=0.0452\n",
            "2025-04-10 19:46:10,275 alphafold2_ptm_model_5_seed_000 took 2.2s (3 recycles)\n",
            "2025-04-10 19:46:10,295 reranking models by 'plddt' metric\n",
            "2025-04-10 19:46:10,295 rank_001_alphafold2_ptm_model_5_seed_000 pLDDT=87.2 pTM=0.0954\n",
            "2025-04-10 19:46:10,298 rank_002_alphafold2_ptm_model_4_seed_000 pLDDT=86.2 pTM=0.0997\n",
            "2025-04-10 19:46:10,301 rank_003_alphafold2_ptm_model_2_seed_000 pLDDT=83.2 pTM=0.0987\n",
            "2025-04-10 19:46:10,303 rank_004_alphafold2_ptm_model_1_seed_000 pLDDT=83.1 pTM=0.0909\n",
            "2025-04-10 19:46:10,306 rank_005_alphafold2_ptm_model_3_seed_000 pLDDT=80.2 pTM=0.0825\n",
            "2025-04-10 19:46:11,288 Query 527/8000: sequence_2527 (length 20)\n"
          ]
        },
        {
          "output_type": "stream",
          "name": "stderr",
          "text": [
            "PENDING:   0%|          | 0/150 [elapsed: 00:00 remaining: ?]"
          ]
        },
        {
          "output_type": "stream",
          "name": "stdout",
          "text": [
            "2025-04-10 19:46:11,980 Sleeping for 10s. Reason: PENDING\n"
          ]
        },
        {
          "output_type": "stream",
          "name": "stderr",
          "text": [
            "PENDING:   0%|          | 0/150 [elapsed: 00:11 remaining: ?]"
          ]
        },
        {
          "output_type": "stream",
          "name": "stdout",
          "text": [
            "2025-04-10 19:46:22,655 Sleeping for 6s. Reason: PENDING\n"
          ]
        },
        {
          "output_type": "stream",
          "name": "stderr",
          "text": [
            "RUNNING:   4%|▍         | 6/150 [elapsed: 00:18 remaining: 07:12]"
          ]
        },
        {
          "output_type": "stream",
          "name": "stdout",
          "text": [
            "2025-04-10 19:46:29,329 Sleeping for 10s. Reason: RUNNING\n"
          ]
        },
        {
          "output_type": "stream",
          "name": "stderr",
          "text": [
            "COMPLETE: 100%|██████████| 150/150 [elapsed: 00:29 remaining: 00:00]\n"
          ]
        },
        {
          "output_type": "stream",
          "name": "stdout",
          "text": [
            "2025-04-10 19:46:44,597 alphafold2_ptm_model_1_seed_000 recycle=0 pLDDT=79.8 pTM=0.0868\n",
            "2025-04-10 19:46:45,137 alphafold2_ptm_model_1_seed_000 recycle=1 pLDDT=78.5 pTM=0.0849 tol=0.111\n",
            "2025-04-10 19:46:45,677 alphafold2_ptm_model_1_seed_000 recycle=2 pLDDT=80.2 pTM=0.0869 tol=0.111\n",
            "2025-04-10 19:46:46,217 alphafold2_ptm_model_1_seed_000 recycle=3 pLDDT=80.1 pTM=0.09 tol=0.111\n",
            "2025-04-10 19:46:46,218 alphafold2_ptm_model_1_seed_000 took 2.2s (3 recycles)\n",
            "2025-04-10 19:46:46,771 alphafold2_ptm_model_2_seed_000 recycle=0 pLDDT=76.4 pTM=0.0882\n",
            "2025-04-10 19:46:47,312 alphafold2_ptm_model_2_seed_000 recycle=1 pLDDT=73.8 pTM=0.0829 tol=0.164\n",
            "2025-04-10 19:46:47,851 alphafold2_ptm_model_2_seed_000 recycle=2 pLDDT=75.6 pTM=0.0813 tol=0.155\n",
            "2025-04-10 19:46:48,392 alphafold2_ptm_model_2_seed_000 recycle=3 pLDDT=73.2 pTM=0.0812 tol=0.196\n",
            "2025-04-10 19:46:48,393 alphafold2_ptm_model_2_seed_000 took 2.2s (3 recycles)\n",
            "2025-04-10 19:46:48,942 alphafold2_ptm_model_3_seed_000 recycle=0 pLDDT=83.6 pTM=0.0828\n",
            "2025-04-10 19:46:49,482 alphafold2_ptm_model_3_seed_000 recycle=1 pLDDT=83.6 pTM=0.0836 tol=0.218\n",
            "2025-04-10 19:46:50,022 alphafold2_ptm_model_3_seed_000 recycle=2 pLDDT=84.5 pTM=0.0834 tol=0.0643\n",
            "2025-04-10 19:46:50,563 alphafold2_ptm_model_3_seed_000 recycle=3 pLDDT=81 pTM=0.0768 tol=0.0551\n",
            "2025-04-10 19:46:50,563 alphafold2_ptm_model_3_seed_000 took 2.2s (3 recycles)\n",
            "2025-04-10 19:46:51,114 alphafold2_ptm_model_4_seed_000 recycle=0 pLDDT=83.6 pTM=0.0905\n",
            "2025-04-10 19:46:51,654 alphafold2_ptm_model_4_seed_000 recycle=1 pLDDT=82.6 pTM=0.0905 tol=0.139\n",
            "2025-04-10 19:46:52,195 alphafold2_ptm_model_4_seed_000 recycle=2 pLDDT=83.6 pTM=0.0914 tol=0.0521\n",
            "2025-04-10 19:46:52,735 alphafold2_ptm_model_4_seed_000 recycle=3 pLDDT=83.4 pTM=0.091 tol=0.108\n",
            "2025-04-10 19:46:52,735 alphafold2_ptm_model_4_seed_000 took 2.2s (3 recycles)\n",
            "2025-04-10 19:46:53,289 alphafold2_ptm_model_5_seed_000 recycle=0 pLDDT=86.2 pTM=0.0909\n",
            "2025-04-10 19:46:53,829 alphafold2_ptm_model_5_seed_000 recycle=1 pLDDT=83.4 pTM=0.0876 tol=0.151\n",
            "2025-04-10 19:46:54,368 alphafold2_ptm_model_5_seed_000 recycle=2 pLDDT=81.6 pTM=0.0847 tol=0.188\n",
            "2025-04-10 19:46:54,908 alphafold2_ptm_model_5_seed_000 recycle=3 pLDDT=80.2 pTM=0.085 tol=0.21\n",
            "2025-04-10 19:46:54,909 alphafold2_ptm_model_5_seed_000 took 2.2s (3 recycles)\n",
            "2025-04-10 19:46:54,936 reranking models by 'plddt' metric\n",
            "2025-04-10 19:46:54,937 rank_001_alphafold2_ptm_model_4_seed_000 pLDDT=83.4 pTM=0.091\n",
            "2025-04-10 19:46:54,940 rank_002_alphafold2_ptm_model_3_seed_000 pLDDT=81 pTM=0.0768\n",
            "2025-04-10 19:46:54,943 rank_003_alphafold2_ptm_model_5_seed_000 pLDDT=80.2 pTM=0.085\n",
            "2025-04-10 19:46:54,947 rank_004_alphafold2_ptm_model_1_seed_000 pLDDT=80.1 pTM=0.09\n",
            "2025-04-10 19:46:54,950 rank_005_alphafold2_ptm_model_2_seed_000 pLDDT=73.2 pTM=0.0812\n",
            "2025-04-10 19:46:55,955 Query 528/8000: sequence_2528 (length 20)\n"
          ]
        },
        {
          "output_type": "stream",
          "name": "stderr",
          "text": [
            "PENDING:   0%|          | 0/150 [elapsed: 00:00 remaining: ?]"
          ]
        },
        {
          "output_type": "stream",
          "name": "stdout",
          "text": [
            "2025-04-10 19:46:56,659 Sleeping for 5s. Reason: PENDING\n"
          ]
        },
        {
          "output_type": "stream",
          "name": "stderr",
          "text": [
            "RUNNING:   3%|▎         | 5/150 [elapsed: 00:06 remaining: 03:05]"
          ]
        },
        {
          "output_type": "stream",
          "name": "stdout",
          "text": [
            "2025-04-10 19:47:02,348 Sleeping for 7s. Reason: RUNNING\n"
          ]
        },
        {
          "output_type": "stream",
          "name": "stderr",
          "text": [
            "COMPLETE: 100%|██████████| 150/150 [elapsed: 00:14 remaining: 00:00]\n"
          ]
        },
        {
          "output_type": "stream",
          "name": "stdout",
          "text": [
            "2025-04-10 19:47:12,995 alphafold2_ptm_model_1_seed_000 recycle=0 pLDDT=63.3 pTM=0.0505\n",
            "2025-04-10 19:47:13,536 alphafold2_ptm_model_1_seed_000 recycle=1 pLDDT=66 pTM=0.0516 tol=1.39\n",
            "2025-04-10 19:47:14,075 alphafold2_ptm_model_1_seed_000 recycle=2 pLDDT=69.1 pTM=0.0545 tol=0.459\n",
            "2025-04-10 19:47:14,615 alphafold2_ptm_model_1_seed_000 recycle=3 pLDDT=70 pTM=0.054 tol=0.688\n",
            "2025-04-10 19:47:14,616 alphafold2_ptm_model_1_seed_000 took 2.2s (3 recycles)\n",
            "2025-04-10 19:47:15,167 alphafold2_ptm_model_2_seed_000 recycle=0 pLDDT=60 pTM=0.047\n",
            "2025-04-10 19:47:15,707 alphafold2_ptm_model_2_seed_000 recycle=1 pLDDT=62.3 pTM=0.0477 tol=3.08\n",
            "2025-04-10 19:47:16,246 alphafold2_ptm_model_2_seed_000 recycle=2 pLDDT=68.5 pTM=0.0516 tol=0.978\n",
            "2025-04-10 19:47:16,786 alphafold2_ptm_model_2_seed_000 recycle=3 pLDDT=68.2 pTM=0.0502 tol=0.263\n",
            "2025-04-10 19:47:16,787 alphafold2_ptm_model_2_seed_000 took 2.2s (3 recycles)\n",
            "2025-04-10 19:47:17,337 alphafold2_ptm_model_3_seed_000 recycle=0 pLDDT=62.5 pTM=0.0464\n",
            "2025-04-10 19:47:17,878 alphafold2_ptm_model_3_seed_000 recycle=1 pLDDT=64.6 pTM=0.0484 tol=1.29\n",
            "2025-04-10 19:47:18,418 alphafold2_ptm_model_3_seed_000 recycle=2 pLDDT=68.3 pTM=0.0508 tol=1.17\n",
            "2025-04-10 19:47:18,958 alphafold2_ptm_model_3_seed_000 recycle=3 pLDDT=70.9 pTM=0.0518 tol=0.694\n",
            "2025-04-10 19:47:18,959 alphafold2_ptm_model_3_seed_000 took 2.2s (3 recycles)\n",
            "2025-04-10 19:47:19,509 alphafold2_ptm_model_4_seed_000 recycle=0 pLDDT=66.8 pTM=0.0514\n",
            "2025-04-10 19:47:20,050 alphafold2_ptm_model_4_seed_000 recycle=1 pLDDT=68.2 pTM=0.0506 tol=0.764\n",
            "2025-04-10 19:47:20,591 alphafold2_ptm_model_4_seed_000 recycle=2 pLDDT=66.9 pTM=0.0519 tol=0.501\n",
            "2025-04-10 19:47:21,132 alphafold2_ptm_model_4_seed_000 recycle=3 pLDDT=67.8 pTM=0.051 tol=0.259\n",
            "2025-04-10 19:47:21,132 alphafold2_ptm_model_4_seed_000 took 2.2s (3 recycles)\n",
            "2025-04-10 19:47:21,682 alphafold2_ptm_model_5_seed_000 recycle=0 pLDDT=63.4 pTM=0.051\n",
            "2025-04-10 19:47:22,222 alphafold2_ptm_model_5_seed_000 recycle=1 pLDDT=62.1 pTM=0.0497 tol=1.85\n",
            "2025-04-10 19:47:22,762 alphafold2_ptm_model_5_seed_000 recycle=2 pLDDT=62.9 pTM=0.0504 tol=2.94\n",
            "2025-04-10 19:47:23,302 alphafold2_ptm_model_5_seed_000 recycle=3 pLDDT=67.1 pTM=0.0514 tol=1.89\n",
            "2025-04-10 19:47:23,302 alphafold2_ptm_model_5_seed_000 took 2.2s (3 recycles)\n",
            "2025-04-10 19:47:23,324 reranking models by 'plddt' metric\n",
            "2025-04-10 19:47:23,324 rank_001_alphafold2_ptm_model_3_seed_000 pLDDT=70.9 pTM=0.0518\n",
            "2025-04-10 19:47:23,327 rank_002_alphafold2_ptm_model_1_seed_000 pLDDT=70 pTM=0.054\n",
            "2025-04-10 19:47:23,329 rank_003_alphafold2_ptm_model_2_seed_000 pLDDT=68.2 pTM=0.0502\n",
            "2025-04-10 19:47:23,331 rank_004_alphafold2_ptm_model_4_seed_000 pLDDT=67.8 pTM=0.051\n",
            "2025-04-10 19:47:23,334 rank_005_alphafold2_ptm_model_5_seed_000 pLDDT=67.1 pTM=0.0514\n",
            "2025-04-10 19:47:24,327 Query 529/8000: sequence_2529 (length 20)\n"
          ]
        },
        {
          "output_type": "stream",
          "name": "stderr",
          "text": [
            "PENDING:   0%|          | 0/150 [elapsed: 00:00 remaining: ?]"
          ]
        },
        {
          "output_type": "stream",
          "name": "stdout",
          "text": [
            "2025-04-10 19:47:25,017 Sleeping for 7s. Reason: PENDING\n"
          ]
        },
        {
          "output_type": "stream",
          "name": "stderr",
          "text": [
            "RUNNING:   5%|▍         | 7/150 [elapsed: 00:08 remaining: 02:50]"
          ]
        },
        {
          "output_type": "stream",
          "name": "stdout",
          "text": [
            "2025-04-10 19:47:32,700 Sleeping for 10s. Reason: RUNNING\n"
          ]
        },
        {
          "output_type": "stream",
          "name": "stderr",
          "text": [
            "COMPLETE: 100%|██████████| 150/150 [elapsed: 00:19 remaining: 00:00]\n"
          ]
        },
        {
          "output_type": "stream",
          "name": "stdout",
          "text": [
            "2025-04-10 19:47:46,367 alphafold2_ptm_model_1_seed_000 recycle=0 pLDDT=62.9 pTM=0.0477\n",
            "2025-04-10 19:47:46,907 alphafold2_ptm_model_1_seed_000 recycle=1 pLDDT=63.8 pTM=0.0476 tol=0.681\n",
            "2025-04-10 19:47:47,447 alphafold2_ptm_model_1_seed_000 recycle=2 pLDDT=66.1 pTM=0.0476 tol=0.682\n",
            "2025-04-10 19:47:47,986 alphafold2_ptm_model_1_seed_000 recycle=3 pLDDT=67.2 pTM=0.0489 tol=1.23\n",
            "2025-04-10 19:47:47,987 alphafold2_ptm_model_1_seed_000 took 2.2s (3 recycles)\n",
            "2025-04-10 19:47:48,536 alphafold2_ptm_model_2_seed_000 recycle=0 pLDDT=60.9 pTM=0.0489\n",
            "2025-04-10 19:47:49,075 alphafold2_ptm_model_2_seed_000 recycle=1 pLDDT=57 pTM=0.0446 tol=1.54\n",
            "2025-04-10 19:47:49,615 alphafold2_ptm_model_2_seed_000 recycle=2 pLDDT=59.8 pTM=0.0441 tol=4.87\n",
            "2025-04-10 19:47:50,154 alphafold2_ptm_model_2_seed_000 recycle=3 pLDDT=65.6 pTM=0.0455 tol=1.97\n",
            "2025-04-10 19:47:50,155 alphafold2_ptm_model_2_seed_000 took 2.2s (3 recycles)\n",
            "2025-04-10 19:47:50,704 alphafold2_ptm_model_3_seed_000 recycle=0 pLDDT=61 pTM=0.0444\n",
            "2025-04-10 19:47:51,244 alphafold2_ptm_model_3_seed_000 recycle=1 pLDDT=60.7 pTM=0.0453 tol=2.28\n",
            "2025-04-10 19:47:51,784 alphafold2_ptm_model_3_seed_000 recycle=2 pLDDT=63.7 pTM=0.0483 tol=2.84\n",
            "2025-04-10 19:47:52,325 alphafold2_ptm_model_3_seed_000 recycle=3 pLDDT=65.2 pTM=0.0494 tol=0.878\n",
            "2025-04-10 19:47:52,325 alphafold2_ptm_model_3_seed_000 took 2.2s (3 recycles)\n",
            "2025-04-10 19:47:52,875 alphafold2_ptm_model_4_seed_000 recycle=0 pLDDT=59 pTM=0.0445\n",
            "2025-04-10 19:47:53,415 alphafold2_ptm_model_4_seed_000 recycle=1 pLDDT=59.5 pTM=0.0443 tol=4.48\n",
            "2025-04-10 19:47:53,955 alphafold2_ptm_model_4_seed_000 recycle=2 pLDDT=64.8 pTM=0.053 tol=1.62\n",
            "2025-04-10 19:47:54,495 alphafold2_ptm_model_4_seed_000 recycle=3 pLDDT=65.3 pTM=0.0557 tol=0.191\n",
            "2025-04-10 19:47:54,496 alphafold2_ptm_model_4_seed_000 took 2.2s (3 recycles)\n",
            "2025-04-10 19:47:55,045 alphafold2_ptm_model_5_seed_000 recycle=0 pLDDT=79.8 pTM=0.0805\n",
            "2025-04-10 19:47:55,585 alphafold2_ptm_model_5_seed_000 recycle=1 pLDDT=76.5 pTM=0.0757 tol=0.0977\n",
            "2025-04-10 19:47:56,126 alphafold2_ptm_model_5_seed_000 recycle=2 pLDDT=76.7 pTM=0.0785 tol=0.0522\n",
            "2025-04-10 19:47:56,667 alphafold2_ptm_model_5_seed_000 recycle=3 pLDDT=72.4 pTM=0.0699 tol=0.119\n",
            "2025-04-10 19:47:56,668 alphafold2_ptm_model_5_seed_000 took 2.2s (3 recycles)\n",
            "2025-04-10 19:47:56,687 reranking models by 'plddt' metric\n",
            "2025-04-10 19:47:56,687 rank_001_alphafold2_ptm_model_5_seed_000 pLDDT=72.4 pTM=0.0699\n",
            "2025-04-10 19:47:56,690 rank_002_alphafold2_ptm_model_1_seed_000 pLDDT=67.2 pTM=0.0489\n",
            "2025-04-10 19:47:56,693 rank_003_alphafold2_ptm_model_2_seed_000 pLDDT=65.6 pTM=0.0455\n",
            "2025-04-10 19:47:56,696 rank_004_alphafold2_ptm_model_4_seed_000 pLDDT=65.3 pTM=0.0557\n",
            "2025-04-10 19:47:56,699 rank_005_alphafold2_ptm_model_3_seed_000 pLDDT=65.2 pTM=0.0494\n",
            "2025-04-10 19:47:57,699 Query 530/8000: sequence_2530 (length 20)\n"
          ]
        },
        {
          "output_type": "stream",
          "name": "stderr",
          "text": [
            "PENDING:   0%|          | 0/150 [elapsed: 00:00 remaining: ?]"
          ]
        },
        {
          "output_type": "stream",
          "name": "stdout",
          "text": [
            "2025-04-10 19:47:58,389 Sleeping for 8s. Reason: PENDING\n"
          ]
        },
        {
          "output_type": "stream",
          "name": "stderr",
          "text": [
            "RUNNING:   5%|▌         | 8/150 [elapsed: 00:09 remaining: 02:46]"
          ]
        },
        {
          "output_type": "stream",
          "name": "stdout",
          "text": [
            "2025-04-10 19:48:07,067 Sleeping for 9s. Reason: RUNNING\n"
          ]
        },
        {
          "output_type": "stream",
          "name": "stderr",
          "text": [
            "RUNNING:  11%|█▏        | 17/150 [elapsed: 00:19 remaining: 02:27]"
          ]
        },
        {
          "output_type": "stream",
          "name": "stdout",
          "text": [
            "2025-04-10 19:48:16,754 Sleeping for 6s. Reason: RUNNING\n"
          ]
        },
        {
          "output_type": "stream",
          "name": "stderr",
          "text": [
            "COMPLETE: 100%|██████████| 150/150 [elapsed: 00:26 remaining: 00:00]\n"
          ]
        },
        {
          "output_type": "stream",
          "name": "stdout",
          "text": [
            "2025-04-10 19:48:26,390 alphafold2_ptm_model_1_seed_000 recycle=0 pLDDT=67.6 pTM=0.0541\n",
            "2025-04-10 19:48:26,931 alphafold2_ptm_model_1_seed_000 recycle=1 pLDDT=70.9 pTM=0.0531 tol=0.534\n",
            "2025-04-10 19:48:27,470 alphafold2_ptm_model_1_seed_000 recycle=2 pLDDT=72.5 pTM=0.0544 tol=0.302\n",
            "2025-04-10 19:48:28,010 alphafold2_ptm_model_1_seed_000 recycle=3 pLDDT=73 pTM=0.0543 tol=0.163\n",
            "2025-04-10 19:48:28,011 alphafold2_ptm_model_1_seed_000 took 2.2s (3 recycles)\n",
            "2025-04-10 19:48:28,560 alphafold2_ptm_model_2_seed_000 recycle=0 pLDDT=69 pTM=0.0505\n",
            "2025-04-10 19:48:29,100 alphafold2_ptm_model_2_seed_000 recycle=1 pLDDT=68.3 pTM=0.0494 tol=0.281\n",
            "2025-04-10 19:48:29,639 alphafold2_ptm_model_2_seed_000 recycle=2 pLDDT=68.6 pTM=0.0504 tol=0.607\n",
            "2025-04-10 19:48:30,179 alphafold2_ptm_model_2_seed_000 recycle=3 pLDDT=69.4 pTM=0.0498 tol=0.49\n",
            "2025-04-10 19:48:30,180 alphafold2_ptm_model_2_seed_000 took 2.2s (3 recycles)\n",
            "2025-04-10 19:48:30,731 alphafold2_ptm_model_3_seed_000 recycle=0 pLDDT=67 pTM=0.0468\n",
            "2025-04-10 19:48:31,270 alphafold2_ptm_model_3_seed_000 recycle=1 pLDDT=67.4 pTM=0.0472 tol=0.767\n",
            "2025-04-10 19:48:31,811 alphafold2_ptm_model_3_seed_000 recycle=2 pLDDT=69.2 pTM=0.0478 tol=0.6\n",
            "2025-04-10 19:48:32,352 alphafold2_ptm_model_3_seed_000 recycle=3 pLDDT=69.8 pTM=0.0473 tol=0.224\n",
            "2025-04-10 19:48:32,352 alphafold2_ptm_model_3_seed_000 took 2.2s (3 recycles)\n",
            "2025-04-10 19:48:32,903 alphafold2_ptm_model_4_seed_000 recycle=0 pLDDT=71.8 pTM=0.0518\n",
            "2025-04-10 19:48:33,443 alphafold2_ptm_model_4_seed_000 recycle=1 pLDDT=73.6 pTM=0.0517 tol=0.451\n",
            "2025-04-10 19:48:33,984 alphafold2_ptm_model_4_seed_000 recycle=2 pLDDT=74 pTM=0.0518 tol=0.255\n",
            "2025-04-10 19:48:34,525 alphafold2_ptm_model_4_seed_000 recycle=3 pLDDT=74.1 pTM=0.0522 tol=0.0738\n",
            "2025-04-10 19:48:34,526 alphafold2_ptm_model_4_seed_000 took 2.2s (3 recycles)\n",
            "2025-04-10 19:48:35,079 alphafold2_ptm_model_5_seed_000 recycle=0 pLDDT=68.8 pTM=0.0493\n",
            "2025-04-10 19:48:35,620 alphafold2_ptm_model_5_seed_000 recycle=1 pLDDT=69.2 pTM=0.05 tol=0.576\n",
            "2025-04-10 19:48:36,160 alphafold2_ptm_model_5_seed_000 recycle=2 pLDDT=71 pTM=0.0505 tol=0.291\n",
            "2025-04-10 19:48:36,701 alphafold2_ptm_model_5_seed_000 recycle=3 pLDDT=73 pTM=0.0517 tol=0.867\n",
            "2025-04-10 19:48:36,701 alphafold2_ptm_model_5_seed_000 took 2.2s (3 recycles)\n",
            "2025-04-10 19:48:36,725 reranking models by 'plddt' metric\n",
            "2025-04-10 19:48:36,725 rank_001_alphafold2_ptm_model_4_seed_000 pLDDT=74.1 pTM=0.0522\n",
            "2025-04-10 19:48:36,728 rank_002_alphafold2_ptm_model_5_seed_000 pLDDT=73 pTM=0.0517\n",
            "2025-04-10 19:48:36,730 rank_003_alphafold2_ptm_model_1_seed_000 pLDDT=73 pTM=0.0543\n",
            "2025-04-10 19:48:36,733 rank_004_alphafold2_ptm_model_3_seed_000 pLDDT=69.8 pTM=0.0473\n",
            "2025-04-10 19:48:36,735 rank_005_alphafold2_ptm_model_2_seed_000 pLDDT=69.4 pTM=0.0498\n",
            "2025-04-10 19:48:37,726 Query 531/8000: sequence_2531 (length 20)\n"
          ]
        },
        {
          "output_type": "stream",
          "name": "stderr",
          "text": [
            "PENDING:   0%|          | 0/150 [elapsed: 00:00 remaining: ?]"
          ]
        },
        {
          "output_type": "stream",
          "name": "stdout",
          "text": [
            "2025-04-10 19:48:38,424 Sleeping for 10s. Reason: PENDING\n"
          ]
        },
        {
          "output_type": "stream",
          "name": "stderr",
          "text": [
            "COMPLETE: 100%|██████████| 150/150 [elapsed: 00:12 remaining: 00:00]\n"
          ]
        },
        {
          "output_type": "stream",
          "name": "stdout",
          "text": [
            "2025-04-10 19:48:52,070 alphafold2_ptm_model_1_seed_000 recycle=0 pLDDT=58 pTM=0.0549\n",
            "2025-04-10 19:48:52,610 alphafold2_ptm_model_1_seed_000 recycle=1 pLDDT=55.3 pTM=0.0504 tol=0.957\n",
            "2025-04-10 19:48:53,150 alphafold2_ptm_model_1_seed_000 recycle=2 pLDDT=54.9 pTM=0.0488 tol=1.1\n",
            "2025-04-10 19:48:53,689 alphafold2_ptm_model_1_seed_000 recycle=3 pLDDT=56.3 pTM=0.0481 tol=0.405\n",
            "2025-04-10 19:48:53,690 alphafold2_ptm_model_1_seed_000 took 2.2s (3 recycles)\n",
            "2025-04-10 19:48:54,238 alphafold2_ptm_model_2_seed_000 recycle=0 pLDDT=57.4 pTM=0.0541\n",
            "2025-04-10 19:48:54,777 alphafold2_ptm_model_2_seed_000 recycle=1 pLDDT=55.2 pTM=0.0482 tol=0.961\n",
            "2025-04-10 19:48:55,318 alphafold2_ptm_model_2_seed_000 recycle=2 pLDDT=52.3 pTM=0.0474 tol=1.06\n",
            "2025-04-10 19:48:55,858 alphafold2_ptm_model_2_seed_000 recycle=3 pLDDT=54.3 pTM=0.0467 tol=1.01\n",
            "2025-04-10 19:48:55,859 alphafold2_ptm_model_2_seed_000 took 2.2s (3 recycles)\n",
            "2025-04-10 19:48:56,410 alphafold2_ptm_model_3_seed_000 recycle=0 pLDDT=56.9 pTM=0.0526\n",
            "2025-04-10 19:48:56,950 alphafold2_ptm_model_3_seed_000 recycle=1 pLDDT=56 pTM=0.0489 tol=1.13\n",
            "2025-04-10 19:48:57,491 alphafold2_ptm_model_3_seed_000 recycle=2 pLDDT=55.2 pTM=0.0489 tol=0.539\n",
            "2025-04-10 19:48:58,031 alphafold2_ptm_model_3_seed_000 recycle=3 pLDDT=55.7 pTM=0.0479 tol=0.439\n",
            "2025-04-10 19:48:58,032 alphafold2_ptm_model_3_seed_000 took 2.2s (3 recycles)\n",
            "2025-04-10 19:48:58,582 alphafold2_ptm_model_4_seed_000 recycle=0 pLDDT=56.4 pTM=0.0514\n",
            "2025-04-10 19:48:59,121 alphafold2_ptm_model_4_seed_000 recycle=1 pLDDT=54.5 pTM=0.0476 tol=0.614\n",
            "2025-04-10 19:48:59,661 alphafold2_ptm_model_4_seed_000 recycle=2 pLDDT=53.8 pTM=0.0468 tol=0.941\n",
            "2025-04-10 19:49:00,201 alphafold2_ptm_model_4_seed_000 recycle=3 pLDDT=53.5 pTM=0.0454 tol=1.08\n",
            "2025-04-10 19:49:00,201 alphafold2_ptm_model_4_seed_000 took 2.2s (3 recycles)\n",
            "2025-04-10 19:49:00,751 alphafold2_ptm_model_5_seed_000 recycle=0 pLDDT=56 pTM=0.0501\n",
            "2025-04-10 19:49:01,290 alphafold2_ptm_model_5_seed_000 recycle=1 pLDDT=53.6 pTM=0.0479 tol=0.721\n",
            "2025-04-10 19:49:01,831 alphafold2_ptm_model_5_seed_000 recycle=2 pLDDT=52.7 pTM=0.0463 tol=0.59\n",
            "2025-04-10 19:49:02,372 alphafold2_ptm_model_5_seed_000 recycle=3 pLDDT=53.2 pTM=0.0463 tol=0.231\n",
            "2025-04-10 19:49:02,372 alphafold2_ptm_model_5_seed_000 took 2.2s (3 recycles)\n",
            "2025-04-10 19:49:02,396 reranking models by 'plddt' metric\n",
            "2025-04-10 19:49:02,396 rank_001_alphafold2_ptm_model_1_seed_000 pLDDT=56.3 pTM=0.0481\n",
            "2025-04-10 19:49:02,399 rank_002_alphafold2_ptm_model_3_seed_000 pLDDT=55.7 pTM=0.0479\n",
            "2025-04-10 19:49:02,401 rank_003_alphafold2_ptm_model_2_seed_000 pLDDT=54.3 pTM=0.0467\n",
            "2025-04-10 19:49:02,404 rank_004_alphafold2_ptm_model_4_seed_000 pLDDT=53.5 pTM=0.0454\n",
            "2025-04-10 19:49:02,406 rank_005_alphafold2_ptm_model_5_seed_000 pLDDT=53.2 pTM=0.0463\n",
            "2025-04-10 19:49:03,379 Query 532/8000: sequence_2532 (length 20)\n"
          ]
        },
        {
          "output_type": "stream",
          "name": "stderr",
          "text": [
            "PENDING:   0%|          | 0/150 [elapsed: 00:00 remaining: ?]"
          ]
        },
        {
          "output_type": "stream",
          "name": "stdout",
          "text": [
            "2025-04-10 19:49:04,064 Sleeping for 5s. Reason: PENDING\n"
          ]
        },
        {
          "output_type": "stream",
          "name": "stderr",
          "text": [
            "RUNNING:   3%|▎         | 5/150 [elapsed: 00:06 remaining: 03:04]"
          ]
        },
        {
          "output_type": "stream",
          "name": "stdout",
          "text": [
            "2025-04-10 19:49:09,745 Sleeping for 10s. Reason: RUNNING\n"
          ]
        },
        {
          "output_type": "stream",
          "name": "stderr",
          "text": [
            "COMPLETE: 100%|██████████| 150/150 [elapsed: 00:17 remaining: 00:00]\n"
          ]
        },
        {
          "output_type": "stream",
          "name": "stdout",
          "text": [
            "2025-04-10 19:49:23,427 alphafold2_ptm_model_1_seed_000 recycle=0 pLDDT=68.6 pTM=0.0786\n",
            "2025-04-10 19:49:23,967 alphafold2_ptm_model_1_seed_000 recycle=1 pLDDT=68.1 pTM=0.0784 tol=0.231\n",
            "2025-04-10 19:49:24,506 alphafold2_ptm_model_1_seed_000 recycle=2 pLDDT=68.2 pTM=0.0771 tol=0.499\n",
            "2025-04-10 19:49:25,046 alphafold2_ptm_model_1_seed_000 recycle=3 pLDDT=67.7 pTM=0.0778 tol=0.172\n",
            "2025-04-10 19:49:25,047 alphafold2_ptm_model_1_seed_000 took 2.2s (3 recycles)\n",
            "2025-04-10 19:49:25,596 alphafold2_ptm_model_2_seed_000 recycle=0 pLDDT=67.8 pTM=0.0779\n",
            "2025-04-10 19:49:26,137 alphafold2_ptm_model_2_seed_000 recycle=1 pLDDT=66.2 pTM=0.0778 tol=0.206\n",
            "2025-04-10 19:49:26,677 alphafold2_ptm_model_2_seed_000 recycle=2 pLDDT=66.4 pTM=0.077 tol=0.285\n",
            "2025-04-10 19:49:27,216 alphafold2_ptm_model_2_seed_000 recycle=3 pLDDT=64.6 pTM=0.076 tol=0.153\n",
            "2025-04-10 19:49:27,217 alphafold2_ptm_model_2_seed_000 took 2.2s (3 recycles)\n",
            "2025-04-10 19:49:27,766 alphafold2_ptm_model_3_seed_000 recycle=0 pLDDT=69.2 pTM=0.0704\n",
            "2025-04-10 19:49:28,306 alphafold2_ptm_model_3_seed_000 recycle=1 pLDDT=71.1 pTM=0.0731 tol=0.462\n",
            "2025-04-10 19:49:28,847 alphafold2_ptm_model_3_seed_000 recycle=2 pLDDT=71.8 pTM=0.0727 tol=0.232\n",
            "2025-04-10 19:49:29,387 alphafold2_ptm_model_3_seed_000 recycle=3 pLDDT=69.4 pTM=0.0707 tol=0.216\n",
            "2025-04-10 19:49:29,388 alphafold2_ptm_model_3_seed_000 took 2.2s (3 recycles)\n",
            "2025-04-10 19:49:29,938 alphafold2_ptm_model_4_seed_000 recycle=0 pLDDT=72.5 pTM=0.0782\n",
            "2025-04-10 19:49:30,478 alphafold2_ptm_model_4_seed_000 recycle=1 pLDDT=70.3 pTM=0.0764 tol=0.696\n",
            "2025-04-10 19:49:31,019 alphafold2_ptm_model_4_seed_000 recycle=2 pLDDT=70.7 pTM=0.0771 tol=0.0961\n",
            "2025-04-10 19:49:31,559 alphafold2_ptm_model_4_seed_000 recycle=3 pLDDT=67.9 pTM=0.0738 tol=0.281\n",
            "2025-04-10 19:49:31,560 alphafold2_ptm_model_4_seed_000 took 2.2s (3 recycles)\n",
            "2025-04-10 19:49:32,110 alphafold2_ptm_model_5_seed_000 recycle=0 pLDDT=73.4 pTM=0.0817\n",
            "2025-04-10 19:49:32,650 alphafold2_ptm_model_5_seed_000 recycle=1 pLDDT=72.3 pTM=0.0817 tol=0.101\n",
            "2025-04-10 19:49:33,189 alphafold2_ptm_model_5_seed_000 recycle=2 pLDDT=72.1 pTM=0.0805 tol=0.279\n",
            "2025-04-10 19:49:33,729 alphafold2_ptm_model_5_seed_000 recycle=3 pLDDT=70.5 pTM=0.077 tol=0.303\n",
            "2025-04-10 19:49:33,730 alphafold2_ptm_model_5_seed_000 took 2.2s (3 recycles)\n",
            "2025-04-10 19:49:33,739 reranking models by 'plddt' metric\n",
            "2025-04-10 19:49:33,739 rank_001_alphafold2_ptm_model_5_seed_000 pLDDT=70.5 pTM=0.077\n",
            "2025-04-10 19:49:33,758 rank_002_alphafold2_ptm_model_3_seed_000 pLDDT=69.4 pTM=0.0707\n",
            "2025-04-10 19:49:33,761 rank_003_alphafold2_ptm_model_4_seed_000 pLDDT=67.9 pTM=0.0738\n",
            "2025-04-10 19:49:33,763 rank_004_alphafold2_ptm_model_1_seed_000 pLDDT=67.7 pTM=0.0778\n",
            "2025-04-10 19:49:33,765 rank_005_alphafold2_ptm_model_2_seed_000 pLDDT=64.6 pTM=0.076\n",
            "2025-04-10 19:49:34,752 Query 533/8000: sequence_2533 (length 20)\n"
          ]
        },
        {
          "output_type": "stream",
          "name": "stderr",
          "text": [
            "PENDING:   0%|          | 0/150 [elapsed: 00:00 remaining: ?]"
          ]
        },
        {
          "output_type": "stream",
          "name": "stdout",
          "text": [
            "2025-04-10 19:49:35,454 Sleeping for 7s. Reason: PENDING\n"
          ]
        },
        {
          "output_type": "stream",
          "name": "stderr",
          "text": [
            "RUNNING:   5%|▍         | 7/150 [elapsed: 00:08 remaining: 02:51]"
          ]
        },
        {
          "output_type": "stream",
          "name": "stdout",
          "text": [
            "2025-04-10 19:49:43,130 Sleeping for 8s. Reason: RUNNING\n"
          ]
        },
        {
          "output_type": "stream",
          "name": "stderr",
          "text": [
            "COMPLETE: 100%|██████████| 150/150 [elapsed: 00:17 remaining: 00:00]\n"
          ]
        },
        {
          "output_type": "stream",
          "name": "stdout",
          "text": [
            "2025-04-10 19:49:54,766 alphafold2_ptm_model_1_seed_000 recycle=0 pLDDT=56.8 pTM=0.0474\n",
            "2025-04-10 19:49:55,306 alphafold2_ptm_model_1_seed_000 recycle=1 pLDDT=56.5 pTM=0.0481 tol=1.97\n",
            "2025-04-10 19:49:55,846 alphafold2_ptm_model_1_seed_000 recycle=2 pLDDT=56.6 pTM=0.0501 tol=1.08\n",
            "2025-04-10 19:49:56,386 alphafold2_ptm_model_1_seed_000 recycle=3 pLDDT=58.5 pTM=0.0495 tol=0.913\n",
            "2025-04-10 19:49:56,387 alphafold2_ptm_model_1_seed_000 took 2.2s (3 recycles)\n",
            "2025-04-10 19:49:56,937 alphafold2_ptm_model_2_seed_000 recycle=0 pLDDT=57.8 pTM=0.0456\n",
            "2025-04-10 19:49:57,477 alphafold2_ptm_model_2_seed_000 recycle=1 pLDDT=57.4 pTM=0.045 tol=0.804\n",
            "2025-04-10 19:49:58,016 alphafold2_ptm_model_2_seed_000 recycle=2 pLDDT=57.7 pTM=0.0447 tol=0.516\n",
            "2025-04-10 19:49:58,556 alphafold2_ptm_model_2_seed_000 recycle=3 pLDDT=57.9 pTM=0.0447 tol=0.403\n",
            "2025-04-10 19:49:58,557 alphafold2_ptm_model_2_seed_000 took 2.2s (3 recycles)\n",
            "2025-04-10 19:49:59,106 alphafold2_ptm_model_3_seed_000 recycle=0 pLDDT=55.4 pTM=0.0449\n",
            "2025-04-10 19:49:59,645 alphafold2_ptm_model_3_seed_000 recycle=1 pLDDT=55.9 pTM=0.0453 tol=1.95\n",
            "2025-04-10 19:50:00,185 alphafold2_ptm_model_3_seed_000 recycle=2 pLDDT=55.4 pTM=0.0458 tol=0.897\n",
            "2025-04-10 19:50:00,725 alphafold2_ptm_model_3_seed_000 recycle=3 pLDDT=54.7 pTM=0.0451 tol=1.02\n",
            "2025-04-10 19:50:00,726 alphafold2_ptm_model_3_seed_000 took 2.2s (3 recycles)\n",
            "2025-04-10 19:50:01,276 alphafold2_ptm_model_4_seed_000 recycle=0 pLDDT=56.9 pTM=0.0442\n",
            "2025-04-10 19:50:01,816 alphafold2_ptm_model_4_seed_000 recycle=1 pLDDT=55.9 pTM=0.045 tol=0.437\n",
            "2025-04-10 19:50:02,355 alphafold2_ptm_model_4_seed_000 recycle=2 pLDDT=56.1 pTM=0.0449 tol=0.704\n",
            "2025-04-10 19:50:02,895 alphafold2_ptm_model_4_seed_000 recycle=3 pLDDT=56.2 pTM=0.0443 tol=0.77\n",
            "2025-04-10 19:50:02,896 alphafold2_ptm_model_4_seed_000 took 2.2s (3 recycles)\n",
            "2025-04-10 19:50:03,445 alphafold2_ptm_model_5_seed_000 recycle=0 pLDDT=52.7 pTM=0.0451\n",
            "2025-04-10 19:50:03,985 alphafold2_ptm_model_5_seed_000 recycle=1 pLDDT=51 pTM=0.0458 tol=0.934\n",
            "2025-04-10 19:50:04,525 alphafold2_ptm_model_5_seed_000 recycle=2 pLDDT=52.5 pTM=0.0453 tol=1.04\n",
            "2025-04-10 19:50:05,066 alphafold2_ptm_model_5_seed_000 recycle=3 pLDDT=51.2 pTM=0.0449 tol=1.03\n",
            "2025-04-10 19:50:05,066 alphafold2_ptm_model_5_seed_000 took 2.2s (3 recycles)\n",
            "2025-04-10 19:50:05,076 reranking models by 'plddt' metric\n",
            "2025-04-10 19:50:05,076 rank_001_alphafold2_ptm_model_1_seed_000 pLDDT=58.5 pTM=0.0495\n",
            "2025-04-10 19:50:05,093 rank_002_alphafold2_ptm_model_2_seed_000 pLDDT=57.9 pTM=0.0447\n",
            "2025-04-10 19:50:05,097 rank_003_alphafold2_ptm_model_4_seed_000 pLDDT=56.2 pTM=0.0443\n",
            "2025-04-10 19:50:05,099 rank_004_alphafold2_ptm_model_3_seed_000 pLDDT=54.7 pTM=0.0451\n",
            "2025-04-10 19:50:05,101 rank_005_alphafold2_ptm_model_5_seed_000 pLDDT=51.2 pTM=0.0449\n",
            "2025-04-10 19:50:06,077 Query 534/8000: sequence_2534 (length 20)\n"
          ]
        },
        {
          "output_type": "stream",
          "name": "stderr",
          "text": [
            "PENDING:   0%|          | 0/150 [elapsed: 00:00 remaining: ?]"
          ]
        },
        {
          "output_type": "stream",
          "name": "stdout",
          "text": [
            "2025-04-10 19:50:06,764 Sleeping for 5s. Reason: PENDING\n"
          ]
        },
        {
          "output_type": "stream",
          "name": "stderr",
          "text": [
            "RUNNING:   3%|▎         | 5/150 [elapsed: 00:06 remaining: 03:04]"
          ]
        },
        {
          "output_type": "stream",
          "name": "stdout",
          "text": [
            "2025-04-10 19:50:12,451 Sleeping for 7s. Reason: RUNNING\n"
          ]
        },
        {
          "output_type": "stream",
          "name": "stderr",
          "text": [
            "COMPLETE: 100%|██████████| 150/150 [elapsed: 00:14 remaining: 00:00]\n"
          ]
        },
        {
          "output_type": "stream",
          "name": "stdout",
          "text": [
            "2025-04-10 19:50:23,108 alphafold2_ptm_model_1_seed_000 recycle=0 pLDDT=79.6 pTM=0.0895\n",
            "2025-04-10 19:50:23,647 alphafold2_ptm_model_1_seed_000 recycle=1 pLDDT=79.4 pTM=0.0906 tol=0.171\n",
            "2025-04-10 19:50:24,188 alphafold2_ptm_model_1_seed_000 recycle=2 pLDDT=81.9 pTM=0.0939 tol=0.0507\n",
            "2025-04-10 19:50:24,729 alphafold2_ptm_model_1_seed_000 recycle=3 pLDDT=80.8 pTM=0.0937 tol=0.0797\n",
            "2025-04-10 19:50:24,730 alphafold2_ptm_model_1_seed_000 took 2.2s (3 recycles)\n",
            "2025-04-10 19:50:25,279 alphafold2_ptm_model_2_seed_000 recycle=0 pLDDT=79.2 pTM=0.0962\n",
            "2025-04-10 19:50:25,819 alphafold2_ptm_model_2_seed_000 recycle=1 pLDDT=78.4 pTM=0.0938 tol=0.107\n",
            "2025-04-10 19:50:26,358 alphafold2_ptm_model_2_seed_000 recycle=2 pLDDT=78.6 pTM=0.0948 tol=0.0732\n",
            "2025-04-10 19:50:26,898 alphafold2_ptm_model_2_seed_000 recycle=3 pLDDT=76.2 pTM=0.0914 tol=0.109\n",
            "2025-04-10 19:50:26,899 alphafold2_ptm_model_2_seed_000 took 2.2s (3 recycles)\n",
            "2025-04-10 19:50:27,449 alphafold2_ptm_model_3_seed_000 recycle=0 pLDDT=82.1 pTM=0.0873\n",
            "2025-04-10 19:50:27,989 alphafold2_ptm_model_3_seed_000 recycle=1 pLDDT=84.8 pTM=0.0936 tol=0.254\n",
            "2025-04-10 19:50:28,528 alphafold2_ptm_model_3_seed_000 recycle=2 pLDDT=85 pTM=0.0942 tol=0.0491\n",
            "2025-04-10 19:50:29,067 alphafold2_ptm_model_3_seed_000 recycle=3 pLDDT=84.4 pTM=0.0934 tol=0.103\n",
            "2025-04-10 19:50:29,068 alphafold2_ptm_model_3_seed_000 took 2.2s (3 recycles)\n",
            "2025-04-10 19:50:29,617 alphafold2_ptm_model_4_seed_000 recycle=0 pLDDT=80.9 pTM=0.0945\n",
            "2025-04-10 19:50:30,157 alphafold2_ptm_model_4_seed_000 recycle=1 pLDDT=83.1 pTM=0.096 tol=0.2\n",
            "2025-04-10 19:50:30,696 alphafold2_ptm_model_4_seed_000 recycle=2 pLDDT=84.8 pTM=0.0978 tol=0.0912\n",
            "2025-04-10 19:50:31,236 alphafold2_ptm_model_4_seed_000 recycle=3 pLDDT=82.8 pTM=0.0951 tol=0.0573\n",
            "2025-04-10 19:50:31,237 alphafold2_ptm_model_4_seed_000 took 2.2s (3 recycles)\n",
            "2025-04-10 19:50:31,786 alphafold2_ptm_model_5_seed_000 recycle=0 pLDDT=85.9 pTM=0.101\n",
            "2025-04-10 19:50:32,327 alphafold2_ptm_model_5_seed_000 recycle=1 pLDDT=83.9 pTM=0.0994 tol=0.138\n",
            "2025-04-10 19:50:32,867 alphafold2_ptm_model_5_seed_000 recycle=2 pLDDT=84.7 pTM=0.1 tol=0.0525\n",
            "2025-04-10 19:50:33,408 alphafold2_ptm_model_5_seed_000 recycle=3 pLDDT=83.2 pTM=0.0988 tol=0.0435\n",
            "2025-04-10 19:50:33,409 alphafold2_ptm_model_5_seed_000 took 2.2s (3 recycles)\n",
            "2025-04-10 19:50:33,419 reranking models by 'plddt' metric\n",
            "2025-04-10 19:50:33,420 rank_001_alphafold2_ptm_model_3_seed_000 pLDDT=84.4 pTM=0.0934\n",
            "2025-04-10 19:50:33,423 rank_002_alphafold2_ptm_model_5_seed_000 pLDDT=83.2 pTM=0.0988\n",
            "2025-04-10 19:50:33,426 rank_003_alphafold2_ptm_model_4_seed_000 pLDDT=82.8 pTM=0.0951\n",
            "2025-04-10 19:50:33,428 rank_004_alphafold2_ptm_model_1_seed_000 pLDDT=80.8 pTM=0.0937\n",
            "2025-04-10 19:50:33,446 rank_005_alphafold2_ptm_model_2_seed_000 pLDDT=76.2 pTM=0.0914\n",
            "2025-04-10 19:50:34,451 Query 535/8000: sequence_2535 (length 20)\n"
          ]
        },
        {
          "output_type": "stream",
          "name": "stderr",
          "text": [
            "PENDING:   0%|          | 0/150 [elapsed: 00:00 remaining: ?]"
          ]
        },
        {
          "output_type": "stream",
          "name": "stdout",
          "text": [
            "2025-04-10 19:50:35,150 Sleeping for 9s. Reason: PENDING\n"
          ]
        },
        {
          "output_type": "stream",
          "name": "stderr",
          "text": [
            "COMPLETE: 100%|██████████| 150/150 [elapsed: 00:11 remaining: 00:00]\n"
          ]
        },
        {
          "output_type": "stream",
          "name": "stdout",
          "text": [
            "2025-04-10 19:50:47,785 alphafold2_ptm_model_1_seed_000 recycle=0 pLDDT=85 pTM=0.0964\n",
            "2025-04-10 19:50:48,324 alphafold2_ptm_model_1_seed_000 recycle=1 pLDDT=85.3 pTM=0.0983 tol=0.272\n",
            "2025-04-10 19:50:48,864 alphafold2_ptm_model_1_seed_000 recycle=2 pLDDT=85.4 pTM=0.0989 tol=0.443\n",
            "2025-04-10 19:50:49,403 alphafold2_ptm_model_1_seed_000 recycle=3 pLDDT=85.1 pTM=0.101 tol=0.182\n",
            "2025-04-10 19:50:49,404 alphafold2_ptm_model_1_seed_000 took 2.2s (3 recycles)\n",
            "2025-04-10 19:50:49,953 alphafold2_ptm_model_2_seed_000 recycle=0 pLDDT=81.3 pTM=0.0988\n",
            "2025-04-10 19:50:50,493 alphafold2_ptm_model_2_seed_000 recycle=1 pLDDT=83.1 pTM=0.101 tol=0.212\n",
            "2025-04-10 19:50:51,032 alphafold2_ptm_model_2_seed_000 recycle=2 pLDDT=83 pTM=0.101 tol=0.479\n",
            "2025-04-10 19:50:51,572 alphafold2_ptm_model_2_seed_000 recycle=3 pLDDT=83.9 pTM=0.102 tol=0.221\n",
            "2025-04-10 19:50:51,572 alphafold2_ptm_model_2_seed_000 took 2.2s (3 recycles)\n",
            "2025-04-10 19:50:52,122 alphafold2_ptm_model_3_seed_000 recycle=0 pLDDT=86.6 pTM=0.0984\n",
            "2025-04-10 19:50:52,662 alphafold2_ptm_model_3_seed_000 recycle=1 pLDDT=88 pTM=0.101 tol=0.374\n",
            "2025-04-10 19:50:53,203 alphafold2_ptm_model_3_seed_000 recycle=2 pLDDT=88.1 pTM=0.101 tol=0.228\n",
            "2025-04-10 19:50:53,744 alphafold2_ptm_model_3_seed_000 recycle=3 pLDDT=88.2 pTM=0.103 tol=0.244\n",
            "2025-04-10 19:50:53,744 alphafold2_ptm_model_3_seed_000 took 2.2s (3 recycles)\n",
            "2025-04-10 19:50:54,294 alphafold2_ptm_model_4_seed_000 recycle=0 pLDDT=88.6 pTM=0.102\n",
            "2025-04-10 19:50:54,834 alphafold2_ptm_model_4_seed_000 recycle=1 pLDDT=89.2 pTM=0.105 tol=0.404\n",
            "2025-04-10 19:50:55,374 alphafold2_ptm_model_4_seed_000 recycle=2 pLDDT=88.3 pTM=0.104 tol=0.171\n",
            "2025-04-10 19:50:55,914 alphafold2_ptm_model_4_seed_000 recycle=3 pLDDT=88.4 pTM=0.105 tol=0.122\n",
            "2025-04-10 19:50:55,915 alphafold2_ptm_model_4_seed_000 took 2.2s (3 recycles)\n",
            "2025-04-10 19:50:56,466 alphafold2_ptm_model_5_seed_000 recycle=0 pLDDT=86.7 pTM=0.102\n",
            "2025-04-10 19:50:57,006 alphafold2_ptm_model_5_seed_000 recycle=1 pLDDT=86.5 pTM=0.102 tol=0.217\n",
            "2025-04-10 19:50:57,546 alphafold2_ptm_model_5_seed_000 recycle=2 pLDDT=86.3 pTM=0.102 tol=0.583\n",
            "2025-04-10 19:50:58,086 alphafold2_ptm_model_5_seed_000 recycle=3 pLDDT=86.6 pTM=0.103 tol=0.165\n",
            "2025-04-10 19:50:58,086 alphafold2_ptm_model_5_seed_000 took 2.2s (3 recycles)\n",
            "2025-04-10 19:50:58,096 reranking models by 'plddt' metric\n",
            "2025-04-10 19:50:58,096 rank_001_alphafold2_ptm_model_4_seed_000 pLDDT=88.4 pTM=0.105\n",
            "2025-04-10 19:50:58,099 rank_002_alphafold2_ptm_model_3_seed_000 pLDDT=88.2 pTM=0.103\n",
            "2025-04-10 19:50:58,101 rank_003_alphafold2_ptm_model_5_seed_000 pLDDT=86.6 pTM=0.103\n",
            "2025-04-10 19:50:58,104 rank_004_alphafold2_ptm_model_1_seed_000 pLDDT=85.1 pTM=0.101\n",
            "2025-04-10 19:50:58,106 rank_005_alphafold2_ptm_model_2_seed_000 pLDDT=83.9 pTM=0.102\n",
            "2025-04-10 19:50:59,115 Query 536/8000: sequence_2536 (length 20)\n"
          ]
        },
        {
          "output_type": "stream",
          "name": "stderr",
          "text": [
            "PENDING:   0%|          | 0/150 [elapsed: 00:00 remaining: ?]"
          ]
        },
        {
          "output_type": "stream",
          "name": "stdout",
          "text": [
            "2025-04-10 19:50:59,804 Sleeping for 5s. Reason: PENDING\n"
          ]
        },
        {
          "output_type": "stream",
          "name": "stderr",
          "text": [
            "RUNNING:   3%|▎         | 5/150 [elapsed: 00:06 remaining: 03:04]"
          ]
        },
        {
          "output_type": "stream",
          "name": "stdout",
          "text": [
            "2025-04-10 19:51:05,480 Sleeping for 6s. Reason: RUNNING\n"
          ]
        },
        {
          "output_type": "stream",
          "name": "stderr",
          "text": [
            "COMPLETE: 100%|██████████| 150/150 [elapsed: 00:13 remaining: 00:00]\n"
          ]
        },
        {
          "output_type": "stream",
          "name": "stdout",
          "text": [
            "2025-04-10 19:51:15,094 alphafold2_ptm_model_1_seed_000 recycle=0 pLDDT=74.4 pTM=0.0804\n",
            "2025-04-10 19:51:15,634 alphafold2_ptm_model_1_seed_000 recycle=1 pLDDT=75.2 pTM=0.0848 tol=0.164\n",
            "2025-04-10 19:51:16,174 alphafold2_ptm_model_1_seed_000 recycle=2 pLDDT=73.6 pTM=0.0817 tol=0.183\n",
            "2025-04-10 19:51:16,713 alphafold2_ptm_model_1_seed_000 recycle=3 pLDDT=71.9 pTM=0.0792 tol=0.174\n",
            "2025-04-10 19:51:16,714 alphafold2_ptm_model_1_seed_000 took 2.2s (3 recycles)\n",
            "2025-04-10 19:51:17,264 alphafold2_ptm_model_2_seed_000 recycle=0 pLDDT=74.1 pTM=0.0825\n",
            "2025-04-10 19:51:17,803 alphafold2_ptm_model_2_seed_000 recycle=1 pLDDT=70.6 pTM=0.0803 tol=0.0731\n",
            "2025-04-10 19:51:18,342 alphafold2_ptm_model_2_seed_000 recycle=2 pLDDT=68 pTM=0.0752 tol=0.182\n",
            "2025-04-10 19:51:18,883 alphafold2_ptm_model_2_seed_000 recycle=3 pLDDT=64.7 pTM=0.0682 tol=0.222\n",
            "2025-04-10 19:51:18,883 alphafold2_ptm_model_2_seed_000 took 2.2s (3 recycles)\n",
            "2025-04-10 19:51:19,435 alphafold2_ptm_model_3_seed_000 recycle=0 pLDDT=68.6 pTM=0.063\n",
            "2025-04-10 19:51:19,976 alphafold2_ptm_model_3_seed_000 recycle=1 pLDDT=72.4 pTM=0.0674 tol=0.67\n",
            "2025-04-10 19:51:20,515 alphafold2_ptm_model_3_seed_000 recycle=2 pLDDT=73.4 pTM=0.0698 tol=0.0928\n",
            "2025-04-10 19:51:21,056 alphafold2_ptm_model_3_seed_000 recycle=3 pLDDT=70.9 pTM=0.0644 tol=0.045\n",
            "2025-04-10 19:51:21,057 alphafold2_ptm_model_3_seed_000 took 2.2s (3 recycles)\n",
            "2025-04-10 19:51:21,607 alphafold2_ptm_model_4_seed_000 recycle=0 pLDDT=71.9 pTM=0.0761\n",
            "2025-04-10 19:51:22,147 alphafold2_ptm_model_4_seed_000 recycle=1 pLDDT=75.6 pTM=0.0841 tol=0.73\n",
            "2025-04-10 19:51:22,687 alphafold2_ptm_model_4_seed_000 recycle=2 pLDDT=76.4 pTM=0.0856 tol=0.139\n",
            "2025-04-10 19:51:23,226 alphafold2_ptm_model_4_seed_000 recycle=3 pLDDT=76.4 pTM=0.0851 tol=0.0494\n",
            "2025-04-10 19:51:23,227 alphafold2_ptm_model_4_seed_000 took 2.2s (3 recycles)\n",
            "2025-04-10 19:51:23,776 alphafold2_ptm_model_5_seed_000 recycle=0 pLDDT=85.3 pTM=0.0966\n",
            "2025-04-10 19:51:24,315 alphafold2_ptm_model_5_seed_000 recycle=1 pLDDT=84.4 pTM=0.0971 tol=0.065\n",
            "2025-04-10 19:51:24,855 alphafold2_ptm_model_5_seed_000 recycle=2 pLDDT=84.9 pTM=0.098 tol=0.0501\n",
            "2025-04-10 19:51:25,395 alphafold2_ptm_model_5_seed_000 recycle=3 pLDDT=84.1 pTM=0.0971 tol=0.0367\n",
            "2025-04-10 19:51:25,396 alphafold2_ptm_model_5_seed_000 took 2.2s (3 recycles)\n",
            "2025-04-10 19:51:25,405 reranking models by 'plddt' metric\n",
            "2025-04-10 19:51:25,405 rank_001_alphafold2_ptm_model_5_seed_000 pLDDT=84.1 pTM=0.0971\n",
            "2025-04-10 19:51:25,407 rank_002_alphafold2_ptm_model_4_seed_000 pLDDT=76.4 pTM=0.0851\n",
            "2025-04-10 19:51:25,410 rank_003_alphafold2_ptm_model_1_seed_000 pLDDT=71.9 pTM=0.0792\n",
            "2025-04-10 19:51:25,412 rank_004_alphafold2_ptm_model_3_seed_000 pLDDT=70.9 pTM=0.0644\n",
            "2025-04-10 19:51:25,414 rank_005_alphafold2_ptm_model_2_seed_000 pLDDT=64.7 pTM=0.0682\n",
            "2025-04-10 19:51:26,417 Query 537/8000: sequence_2537 (length 20)\n"
          ]
        },
        {
          "output_type": "stream",
          "name": "stderr",
          "text": [
            "PENDING:   0%|          | 0/150 [elapsed: 00:00 remaining: ?]"
          ]
        },
        {
          "output_type": "stream",
          "name": "stdout",
          "text": [
            "2025-04-10 19:51:27,122 Sleeping for 6s. Reason: PENDING\n"
          ]
        },
        {
          "output_type": "stream",
          "name": "stderr",
          "text": [
            "RUNNING:   4%|▍         | 6/150 [elapsed: 00:07 remaining: 02:57]"
          ]
        },
        {
          "output_type": "stream",
          "name": "stdout",
          "text": [
            "2025-04-10 19:51:33,804 Sleeping for 8s. Reason: RUNNING\n"
          ]
        },
        {
          "output_type": "stream",
          "name": "stderr",
          "text": [
            "COMPLETE: 100%|██████████| 150/150 [elapsed: 00:16 remaining: 00:00]\n"
          ]
        },
        {
          "output_type": "stream",
          "name": "stdout",
          "text": [
            "2025-04-10 19:51:45,419 alphafold2_ptm_model_1_seed_000 recycle=0 pLDDT=55.7 pTM=0.0491\n",
            "2025-04-10 19:51:45,959 alphafold2_ptm_model_1_seed_000 recycle=1 pLDDT=54.2 pTM=0.0484 tol=1.44\n",
            "2025-04-10 19:51:46,499 alphafold2_ptm_model_1_seed_000 recycle=2 pLDDT=53.7 pTM=0.0486 tol=0.532\n",
            "2025-04-10 19:51:47,039 alphafold2_ptm_model_1_seed_000 recycle=3 pLDDT=53.1 pTM=0.0491 tol=0.95\n",
            "2025-04-10 19:51:47,039 alphafold2_ptm_model_1_seed_000 took 2.2s (3 recycles)\n",
            "2025-04-10 19:51:47,601 alphafold2_ptm_model_2_seed_000 recycle=0 pLDDT=56.4 pTM=0.0506\n",
            "2025-04-10 19:51:48,140 alphafold2_ptm_model_2_seed_000 recycle=1 pLDDT=57.6 pTM=0.0552 tol=1.85\n",
            "2025-04-10 19:51:48,680 alphafold2_ptm_model_2_seed_000 recycle=2 pLDDT=55.7 pTM=0.052 tol=1.78\n",
            "2025-04-10 19:51:49,220 alphafold2_ptm_model_2_seed_000 recycle=3 pLDDT=54.8 pTM=0.0496 tol=0.566\n",
            "2025-04-10 19:51:49,221 alphafold2_ptm_model_2_seed_000 took 2.2s (3 recycles)\n",
            "2025-04-10 19:51:49,771 alphafold2_ptm_model_3_seed_000 recycle=0 pLDDT=61.8 pTM=0.0502\n",
            "2025-04-10 19:51:50,311 alphafold2_ptm_model_3_seed_000 recycle=1 pLDDT=64.4 pTM=0.0568 tol=0.785\n",
            "2025-04-10 19:51:50,850 alphafold2_ptm_model_3_seed_000 recycle=2 pLDDT=64.1 pTM=0.0576 tol=0.411\n",
            "2025-04-10 19:51:51,390 alphafold2_ptm_model_3_seed_000 recycle=3 pLDDT=62.5 pTM=0.0546 tol=0.301\n",
            "2025-04-10 19:51:51,391 alphafold2_ptm_model_3_seed_000 took 2.2s (3 recycles)\n",
            "2025-04-10 19:51:51,941 alphafold2_ptm_model_4_seed_000 recycle=0 pLDDT=60.3 pTM=0.0522\n",
            "2025-04-10 19:51:52,481 alphafold2_ptm_model_4_seed_000 recycle=1 pLDDT=54.4 pTM=0.0476 tol=0.641\n",
            "2025-04-10 19:51:53,021 alphafold2_ptm_model_4_seed_000 recycle=2 pLDDT=53.9 pTM=0.0464 tol=1.1\n",
            "2025-04-10 19:51:53,562 alphafold2_ptm_model_4_seed_000 recycle=3 pLDDT=51.3 pTM=0.0467 tol=2.81\n",
            "2025-04-10 19:51:53,563 alphafold2_ptm_model_4_seed_000 took 2.2s (3 recycles)\n",
            "2025-04-10 19:51:54,113 alphafold2_ptm_model_5_seed_000 recycle=0 pLDDT=65.6 pTM=0.0578\n",
            "2025-04-10 19:51:54,653 alphafold2_ptm_model_5_seed_000 recycle=1 pLDDT=63.2 pTM=0.0576 tol=0.328\n",
            "2025-04-10 19:51:55,193 alphafold2_ptm_model_5_seed_000 recycle=2 pLDDT=60.3 pTM=0.054 tol=0.324\n",
            "2025-04-10 19:51:55,734 alphafold2_ptm_model_5_seed_000 recycle=3 pLDDT=58.4 pTM=0.0533 tol=0.273\n",
            "2025-04-10 19:51:55,734 alphafold2_ptm_model_5_seed_000 took 2.2s (3 recycles)\n",
            "2025-04-10 19:51:55,744 reranking models by 'plddt' metric\n",
            "2025-04-10 19:51:55,744 rank_001_alphafold2_ptm_model_3_seed_000 pLDDT=62.5 pTM=0.0546\n",
            "2025-04-10 19:51:55,747 rank_002_alphafold2_ptm_model_5_seed_000 pLDDT=58.4 pTM=0.0533\n",
            "2025-04-10 19:51:55,750 rank_003_alphafold2_ptm_model_2_seed_000 pLDDT=54.8 pTM=0.0496\n",
            "2025-04-10 19:51:55,753 rank_004_alphafold2_ptm_model_1_seed_000 pLDDT=53.1 pTM=0.0491\n",
            "2025-04-10 19:51:55,756 rank_005_alphafold2_ptm_model_4_seed_000 pLDDT=51.3 pTM=0.0467\n",
            "2025-04-10 19:51:56,756 Query 538/8000: sequence_2538 (length 20)\n"
          ]
        },
        {
          "output_type": "stream",
          "name": "stderr",
          "text": [
            "PENDING:   0%|          | 0/150 [elapsed: 00:00 remaining: ?]"
          ]
        },
        {
          "output_type": "stream",
          "name": "stdout",
          "text": [
            "2025-04-10 19:51:57,453 Sleeping for 8s. Reason: PENDING\n"
          ]
        },
        {
          "output_type": "stream",
          "name": "stderr",
          "text": [
            "COMPLETE: 100%|██████████| 150/150 [elapsed: 00:10 remaining: 00:00]\n"
          ]
        },
        {
          "output_type": "stream",
          "name": "stdout",
          "text": [
            "2025-04-10 19:52:09,076 alphafold2_ptm_model_1_seed_000 recycle=0 pLDDT=67 pTM=0.0531\n",
            "2025-04-10 19:52:09,617 alphafold2_ptm_model_1_seed_000 recycle=1 pLDDT=66.3 pTM=0.0546 tol=1.07\n",
            "2025-04-10 19:52:10,157 alphafold2_ptm_model_1_seed_000 recycle=2 pLDDT=66 pTM=0.0558 tol=0.473\n",
            "2025-04-10 19:52:10,697 alphafold2_ptm_model_1_seed_000 recycle=3 pLDDT=64.8 pTM=0.0551 tol=0.591\n",
            "2025-04-10 19:52:10,697 alphafold2_ptm_model_1_seed_000 took 2.2s (3 recycles)\n",
            "2025-04-10 19:52:11,261 alphafold2_ptm_model_2_seed_000 recycle=0 pLDDT=61.7 pTM=0.0489\n",
            "2025-04-10 19:52:11,800 alphafold2_ptm_model_2_seed_000 recycle=1 pLDDT=62.8 pTM=0.0502 tol=0.455\n",
            "2025-04-10 19:52:12,339 alphafold2_ptm_model_2_seed_000 recycle=2 pLDDT=62.7 pTM=0.0513 tol=0.318\n",
            "2025-04-10 19:52:12,880 alphafold2_ptm_model_2_seed_000 recycle=3 pLDDT=61.8 pTM=0.0509 tol=0.152\n",
            "2025-04-10 19:52:12,880 alphafold2_ptm_model_2_seed_000 took 2.2s (3 recycles)\n",
            "2025-04-10 19:52:13,430 alphafold2_ptm_model_3_seed_000 recycle=0 pLDDT=63.6 pTM=0.0476\n",
            "2025-04-10 19:52:13,970 alphafold2_ptm_model_3_seed_000 recycle=1 pLDDT=62.2 pTM=0.0468 tol=0.789\n",
            "2025-04-10 19:52:14,510 alphafold2_ptm_model_3_seed_000 recycle=2 pLDDT=60.7 pTM=0.0462 tol=0.7\n",
            "2025-04-10 19:52:15,050 alphafold2_ptm_model_3_seed_000 recycle=3 pLDDT=62.1 pTM=0.0466 tol=0.651\n",
            "2025-04-10 19:52:15,051 alphafold2_ptm_model_3_seed_000 took 2.2s (3 recycles)\n",
            "2025-04-10 19:52:15,601 alphafold2_ptm_model_4_seed_000 recycle=0 pLDDT=61.9 pTM=0.0482\n",
            "2025-04-10 19:52:16,142 alphafold2_ptm_model_4_seed_000 recycle=1 pLDDT=60.3 pTM=0.0488 tol=2.14\n",
            "2025-04-10 19:52:16,682 alphafold2_ptm_model_4_seed_000 recycle=2 pLDDT=60.6 pTM=0.0515 tol=0.81\n",
            "2025-04-10 19:52:17,222 alphafold2_ptm_model_4_seed_000 recycle=3 pLDDT=60.4 pTM=0.0529 tol=0.651\n",
            "2025-04-10 19:52:17,222 alphafold2_ptm_model_4_seed_000 took 2.2s (3 recycles)\n",
            "2025-04-10 19:52:17,772 alphafold2_ptm_model_5_seed_000 recycle=0 pLDDT=59.3 pTM=0.0502\n",
            "2025-04-10 19:52:18,312 alphafold2_ptm_model_5_seed_000 recycle=1 pLDDT=57.2 pTM=0.0497 tol=0.813\n",
            "2025-04-10 19:52:18,851 alphafold2_ptm_model_5_seed_000 recycle=2 pLDDT=56.7 pTM=0.05 tol=0.796\n",
            "2025-04-10 19:52:19,393 alphafold2_ptm_model_5_seed_000 recycle=3 pLDDT=55.8 pTM=0.0496 tol=0.723\n",
            "2025-04-10 19:52:19,393 alphafold2_ptm_model_5_seed_000 took 2.2s (3 recycles)\n",
            "2025-04-10 19:52:19,402 reranking models by 'plddt' metric\n",
            "2025-04-10 19:52:19,402 rank_001_alphafold2_ptm_model_1_seed_000 pLDDT=64.8 pTM=0.0551\n",
            "2025-04-10 19:52:19,405 rank_002_alphafold2_ptm_model_3_seed_000 pLDDT=62.1 pTM=0.0466\n",
            "2025-04-10 19:52:19,407 rank_003_alphafold2_ptm_model_2_seed_000 pLDDT=61.8 pTM=0.0509\n",
            "2025-04-10 19:52:19,409 rank_004_alphafold2_ptm_model_4_seed_000 pLDDT=60.4 pTM=0.0529\n",
            "2025-04-10 19:52:19,412 rank_005_alphafold2_ptm_model_5_seed_000 pLDDT=55.8 pTM=0.0496\n",
            "2025-04-10 19:52:20,412 Query 539/8000: sequence_2539 (length 20)\n"
          ]
        },
        {
          "output_type": "stream",
          "name": "stderr",
          "text": [
            "SUBMIT:   0%|          | 0/150 [elapsed: 00:00 remaining: ?]"
          ]
        },
        {
          "output_type": "stream",
          "name": "stdout",
          "text": [
            "2025-04-10 19:52:21,102 Sleeping for 7s. Reason: RATELIMIT\n"
          ]
        },
        {
          "output_type": "stream",
          "name": "stderr",
          "text": [
            "SUBMIT:   0%|          | 0/150 [elapsed: 00:08 remaining: ?]"
          ]
        },
        {
          "output_type": "stream",
          "name": "stdout",
          "text": [
            "2025-04-10 19:52:28,782 Sleeping for 6s. Reason: RATELIMIT\n"
          ]
        },
        {
          "output_type": "stream",
          "name": "stderr",
          "text": [
            "SUBMIT:   0%|          | 0/150 [elapsed: 00:15 remaining: ?]"
          ]
        },
        {
          "output_type": "stream",
          "name": "stdout",
          "text": [
            "2025-04-10 19:52:35,457 Sleeping for 9s. Reason: RATELIMIT\n"
          ]
        },
        {
          "output_type": "stream",
          "name": "stderr",
          "text": [
            "SUBMIT:   0%|          | 0/150 [elapsed: 00:24 remaining: ?]"
          ]
        },
        {
          "output_type": "stream",
          "name": "stdout",
          "text": [
            "2025-04-10 19:52:45,133 Sleeping for 9s. Reason: RATELIMIT\n"
          ]
        },
        {
          "output_type": "stream",
          "name": "stderr",
          "text": [
            "SUBMIT:   0%|          | 0/150 [elapsed: 00:34 remaining: ?]"
          ]
        },
        {
          "output_type": "stream",
          "name": "stdout",
          "text": [
            "2025-04-10 19:52:54,811 Sleeping for 6s. Reason: RATELIMIT\n"
          ]
        },
        {
          "output_type": "stream",
          "name": "stderr",
          "text": [
            "SUBMIT:   0%|          | 0/150 [elapsed: 00:41 remaining: ?]"
          ]
        },
        {
          "output_type": "stream",
          "name": "stdout",
          "text": [
            "2025-04-10 19:53:01,495 Sleeping for 6s. Reason: RATELIMIT\n"
          ]
        },
        {
          "output_type": "stream",
          "name": "stderr",
          "text": [
            "PENDING:   0%|          | 0/150 [elapsed: 00:47 remaining: ?]"
          ]
        },
        {
          "output_type": "stream",
          "name": "stdout",
          "text": [
            "2025-04-10 19:53:08,185 Sleeping for 5s. Reason: PENDING\n"
          ]
        },
        {
          "output_type": "stream",
          "name": "stderr",
          "text": [
            "RUNNING:   3%|▎         | 5/150 [elapsed: 00:53 remaining: 25:50]"
          ]
        },
        {
          "output_type": "stream",
          "name": "stdout",
          "text": [
            "2025-04-10 19:53:13,867 Sleeping for 5s. Reason: RUNNING\n"
          ]
        },
        {
          "output_type": "stream",
          "name": "stderr",
          "text": [
            "RUNNING:   7%|▋         | 10/150 [elapsed: 00:59 remaining: 11:49]"
          ]
        },
        {
          "output_type": "stream",
          "name": "stdout",
          "text": [
            "2025-04-10 19:53:19,551 Sleeping for 7s. Reason: RUNNING\n"
          ]
        },
        {
          "output_type": "stream",
          "name": "stderr",
          "text": [
            "COMPLETE: 100%|██████████| 150/150 [elapsed: 01:07 remaining: 00:00]\n"
          ]
        },
        {
          "output_type": "stream",
          "name": "stdout",
          "text": [
            "2025-04-10 19:53:30,164 alphafold2_ptm_model_1_seed_000 recycle=0 pLDDT=75.5 pTM=0.0792\n",
            "2025-04-10 19:53:30,705 alphafold2_ptm_model_1_seed_000 recycle=1 pLDDT=72.8 pTM=0.082 tol=0.115\n",
            "2025-04-10 19:53:31,244 alphafold2_ptm_model_1_seed_000 recycle=2 pLDDT=72.8 pTM=0.081 tol=0.286\n",
            "2025-04-10 19:53:31,784 alphafold2_ptm_model_1_seed_000 recycle=3 pLDDT=71.5 pTM=0.0773 tol=0.482\n",
            "2025-04-10 19:53:31,785 alphafold2_ptm_model_1_seed_000 took 2.2s (3 recycles)\n",
            "2025-04-10 19:53:32,345 alphafold2_ptm_model_2_seed_000 recycle=0 pLDDT=67.3 pTM=0.0747\n",
            "2025-04-10 19:53:32,885 alphafold2_ptm_model_2_seed_000 recycle=1 pLDDT=66.7 pTM=0.0795 tol=0.169\n",
            "2025-04-10 19:53:33,425 alphafold2_ptm_model_2_seed_000 recycle=2 pLDDT=68.9 pTM=0.0798 tol=0.0893\n",
            "2025-04-10 19:53:33,965 alphafold2_ptm_model_2_seed_000 recycle=3 pLDDT=68.8 pTM=0.0797 tol=0.118\n",
            "2025-04-10 19:53:33,966 alphafold2_ptm_model_2_seed_000 took 2.2s (3 recycles)\n",
            "2025-04-10 19:53:34,515 alphafold2_ptm_model_3_seed_000 recycle=0 pLDDT=77.8 pTM=0.0804\n",
            "2025-04-10 19:53:35,055 alphafold2_ptm_model_3_seed_000 recycle=1 pLDDT=79.6 pTM=0.0844 tol=0.173\n",
            "2025-04-10 19:53:35,595 alphafold2_ptm_model_3_seed_000 recycle=2 pLDDT=80.2 pTM=0.0865 tol=0.0928\n",
            "2025-04-10 19:53:36,134 alphafold2_ptm_model_3_seed_000 recycle=3 pLDDT=78.9 pTM=0.0842 tol=0.0735\n",
            "2025-04-10 19:53:36,135 alphafold2_ptm_model_3_seed_000 took 2.2s (3 recycles)\n",
            "2025-04-10 19:53:36,685 alphafold2_ptm_model_4_seed_000 recycle=0 pLDDT=77.8 pTM=0.0819\n",
            "2025-04-10 19:53:37,225 alphafold2_ptm_model_4_seed_000 recycle=1 pLDDT=78.8 pTM=0.0861 tol=0.103\n",
            "2025-04-10 19:53:37,765 alphafold2_ptm_model_4_seed_000 recycle=2 pLDDT=79.2 pTM=0.0876 tol=0.0535\n",
            "2025-04-10 19:53:38,307 alphafold2_ptm_model_4_seed_000 recycle=3 pLDDT=78.6 pTM=0.0865 tol=0.0925\n",
            "2025-04-10 19:53:38,308 alphafold2_ptm_model_4_seed_000 took 2.2s (3 recycles)\n",
            "2025-04-10 19:53:38,859 alphafold2_ptm_model_5_seed_000 recycle=0 pLDDT=79.8 pTM=0.0848\n",
            "2025-04-10 19:53:39,401 alphafold2_ptm_model_5_seed_000 recycle=1 pLDDT=79.4 pTM=0.0859 tol=0.0864\n",
            "2025-04-10 19:53:39,941 alphafold2_ptm_model_5_seed_000 recycle=2 pLDDT=79.6 pTM=0.0861 tol=0.106\n",
            "2025-04-10 19:53:40,482 alphafold2_ptm_model_5_seed_000 recycle=3 pLDDT=77.7 pTM=0.0839 tol=0.116\n",
            "2025-04-10 19:53:40,483 alphafold2_ptm_model_5_seed_000 took 2.2s (3 recycles)\n",
            "2025-04-10 19:53:40,492 reranking models by 'plddt' metric\n",
            "2025-04-10 19:53:40,493 rank_001_alphafold2_ptm_model_3_seed_000 pLDDT=78.9 pTM=0.0842\n",
            "2025-04-10 19:53:40,495 rank_002_alphafold2_ptm_model_4_seed_000 pLDDT=78.6 pTM=0.0865\n",
            "2025-04-10 19:53:40,498 rank_003_alphafold2_ptm_model_5_seed_000 pLDDT=77.7 pTM=0.0839\n",
            "2025-04-10 19:53:40,500 rank_004_alphafold2_ptm_model_1_seed_000 pLDDT=71.5 pTM=0.0773\n",
            "2025-04-10 19:53:40,502 rank_005_alphafold2_ptm_model_2_seed_000 pLDDT=68.8 pTM=0.0797\n",
            "2025-04-10 19:53:41,500 Query 540/8000: sequence_2540 (length 20)\n"
          ]
        },
        {
          "output_type": "stream",
          "name": "stderr",
          "text": [
            "SUBMIT:   0%|          | 0/150 [elapsed: 00:00 remaining: ?]"
          ]
        },
        {
          "output_type": "stream",
          "name": "stdout",
          "text": [
            "2025-04-10 19:53:42,177 Sleeping for 5s. Reason: RATELIMIT\n"
          ]
        },
        {
          "output_type": "stream",
          "name": "stderr",
          "text": [
            "SUBMIT:   0%|          | 0/150 [elapsed: 00:06 remaining: ?]"
          ]
        },
        {
          "output_type": "stream",
          "name": "stdout",
          "text": [
            "2025-04-10 19:53:47,855 Sleeping for 9s. Reason: RATELIMIT\n"
          ]
        },
        {
          "output_type": "stream",
          "name": "stderr",
          "text": [
            "SUBMIT:   0%|          | 0/150 [elapsed: 00:16 remaining: ?]"
          ]
        },
        {
          "output_type": "stream",
          "name": "stdout",
          "text": [
            "2025-04-10 19:53:57,539 Sleeping for 6s. Reason: RATELIMIT\n"
          ]
        },
        {
          "output_type": "stream",
          "name": "stderr",
          "text": [
            "SUBMIT:   0%|          | 0/150 [elapsed: 00:22 remaining: ?]"
          ]
        },
        {
          "output_type": "stream",
          "name": "stdout",
          "text": [
            "2025-04-10 19:54:04,216 Sleeping for 6s. Reason: RATELIMIT\n"
          ]
        },
        {
          "output_type": "stream",
          "name": "stderr",
          "text": [
            "SUBMIT:   0%|          | 0/150 [elapsed: 00:29 remaining: ?]"
          ]
        },
        {
          "output_type": "stream",
          "name": "stdout",
          "text": [
            "2025-04-10 19:54:10,896 Sleeping for 7s. Reason: RATELIMIT\n"
          ]
        },
        {
          "output_type": "stream",
          "name": "stderr",
          "text": [
            "SUBMIT:   0%|          | 0/150 [elapsed: 00:37 remaining: ?]"
          ]
        },
        {
          "output_type": "stream",
          "name": "stdout",
          "text": [
            "2025-04-10 19:54:18,582 Sleeping for 5s. Reason: RATELIMIT\n"
          ]
        },
        {
          "output_type": "stream",
          "name": "stderr",
          "text": [
            "SUBMIT:   0%|          | 0/150 [elapsed: 00:42 remaining: ?]"
          ]
        },
        {
          "output_type": "stream",
          "name": "stdout",
          "text": [
            "2025-04-10 19:54:24,267 Sleeping for 10s. Reason: RATELIMIT\n"
          ]
        },
        {
          "output_type": "stream",
          "name": "stderr",
          "text": [
            "SUBMIT:   0%|          | 0/150 [elapsed: 00:53 remaining: ?]"
          ]
        },
        {
          "output_type": "stream",
          "name": "stdout",
          "text": [
            "2025-04-10 19:54:34,948 Sleeping for 6s. Reason: RATELIMIT\n"
          ]
        },
        {
          "output_type": "stream",
          "name": "stderr",
          "text": [
            "SUBMIT:   0%|          | 0/150 [elapsed: 01:00 remaining: ?]"
          ]
        },
        {
          "output_type": "stream",
          "name": "stdout",
          "text": [
            "2025-04-10 19:54:41,634 Sleeping for 5s. Reason: RATELIMIT\n"
          ]
        },
        {
          "output_type": "stream",
          "name": "stderr",
          "text": [
            "PENDING:   0%|          | 0/150 [elapsed: 01:05 remaining: ?]"
          ]
        },
        {
          "output_type": "stream",
          "name": "stdout",
          "text": [
            "2025-04-10 19:54:47,317 Sleeping for 9s. Reason: PENDING\n"
          ]
        },
        {
          "output_type": "stream",
          "name": "stderr",
          "text": [
            "RUNNING:   6%|▌         | 9/150 [elapsed: 01:15 remaining: 19:42]"
          ]
        },
        {
          "output_type": "stream",
          "name": "stdout",
          "text": [
            "2025-04-10 19:54:57,010 Sleeping for 8s. Reason: RUNNING\n"
          ]
        },
        {
          "output_type": "stream",
          "name": "stderr",
          "text": [
            "COMPLETE: 100%|██████████| 150/150 [elapsed: 01:24 remaining: 00:00]\n"
          ]
        },
        {
          "output_type": "stream",
          "name": "stdout",
          "text": [
            "2025-04-10 19:55:08,626 alphafold2_ptm_model_1_seed_000 recycle=0 pLDDT=75.3 pTM=0.0742\n",
            "2025-04-10 19:55:09,167 alphafold2_ptm_model_1_seed_000 recycle=1 pLDDT=69 pTM=0.0677 tol=0.174\n",
            "2025-04-10 19:55:09,707 alphafold2_ptm_model_1_seed_000 recycle=2 pLDDT=64.1 pTM=0.0592 tol=0.125\n",
            "2025-04-10 19:55:10,246 alphafold2_ptm_model_1_seed_000 recycle=3 pLDDT=63.2 pTM=0.0574 tol=0.0899\n",
            "2025-04-10 19:55:10,247 alphafold2_ptm_model_1_seed_000 took 2.2s (3 recycles)\n",
            "2025-04-10 19:55:10,812 alphafold2_ptm_model_2_seed_000 recycle=0 pLDDT=87.6 pTM=0.102\n",
            "2025-04-10 19:55:11,352 alphafold2_ptm_model_2_seed_000 recycle=1 pLDDT=71.6 pTM=0.0748 tol=0.234\n",
            "2025-04-10 19:55:11,891 alphafold2_ptm_model_2_seed_000 recycle=2 pLDDT=68.4 pTM=0.0701 tol=0.0831\n",
            "2025-04-10 19:55:12,433 alphafold2_ptm_model_2_seed_000 recycle=3 pLDDT=63.2 pTM=0.063 tol=0.203\n",
            "2025-04-10 19:55:12,434 alphafold2_ptm_model_2_seed_000 took 2.2s (3 recycles)\n",
            "2025-04-10 19:55:12,984 alphafold2_ptm_model_3_seed_000 recycle=0 pLDDT=66.5 pTM=0.0484\n",
            "2025-04-10 19:55:13,525 alphafold2_ptm_model_3_seed_000 recycle=1 pLDDT=69.9 pTM=0.0492 tol=1.68\n",
            "2025-04-10 19:55:14,067 alphafold2_ptm_model_3_seed_000 recycle=2 pLDDT=72.7 pTM=0.0525 tol=0.764\n",
            "2025-04-10 19:55:14,608 alphafold2_ptm_model_3_seed_000 recycle=3 pLDDT=74.6 pTM=0.0538 tol=0.388\n",
            "2025-04-10 19:55:14,608 alphafold2_ptm_model_3_seed_000 took 2.2s (3 recycles)\n",
            "2025-04-10 19:55:15,161 alphafold2_ptm_model_4_seed_000 recycle=0 pLDDT=68.4 pTM=0.0515\n",
            "2025-04-10 19:55:15,703 alphafold2_ptm_model_4_seed_000 recycle=1 pLDDT=69.8 pTM=0.0501 tol=0.921\n",
            "2025-04-10 19:55:16,245 alphafold2_ptm_model_4_seed_000 recycle=2 pLDDT=71.1 pTM=0.0511 tol=0.471\n",
            "2025-04-10 19:55:16,786 alphafold2_ptm_model_4_seed_000 recycle=3 pLDDT=70.2 pTM=0.0519 tol=0.59\n",
            "2025-04-10 19:55:16,786 alphafold2_ptm_model_4_seed_000 took 2.2s (3 recycles)\n",
            "2025-04-10 19:55:17,337 alphafold2_ptm_model_5_seed_000 recycle=0 pLDDT=89.4 pTM=0.101\n",
            "2025-04-10 19:55:17,878 alphafold2_ptm_model_5_seed_000 recycle=1 pLDDT=78.9 pTM=0.0858 tol=0.312\n",
            "2025-04-10 19:55:18,420 alphafold2_ptm_model_5_seed_000 recycle=2 pLDDT=78.1 pTM=0.0823 tol=0.0756\n",
            "2025-04-10 19:55:18,961 alphafold2_ptm_model_5_seed_000 recycle=3 pLDDT=71.4 pTM=0.0707 tol=0.3\n",
            "2025-04-10 19:55:18,962 alphafold2_ptm_model_5_seed_000 took 2.2s (3 recycles)\n",
            "2025-04-10 19:55:18,972 reranking models by 'plddt' metric\n",
            "2025-04-10 19:55:18,972 rank_001_alphafold2_ptm_model_3_seed_000 pLDDT=74.6 pTM=0.0538\n",
            "2025-04-10 19:55:18,975 rank_002_alphafold2_ptm_model_5_seed_000 pLDDT=71.4 pTM=0.0707\n",
            "2025-04-10 19:55:18,977 rank_003_alphafold2_ptm_model_4_seed_000 pLDDT=70.2 pTM=0.0519\n",
            "2025-04-10 19:55:18,979 rank_004_alphafold2_ptm_model_1_seed_000 pLDDT=63.2 pTM=0.0574\n",
            "2025-04-10 19:55:18,982 rank_005_alphafold2_ptm_model_2_seed_000 pLDDT=63.2 pTM=0.063\n",
            "2025-04-10 19:55:19,993 Query 541/8000: sequence_2541 (length 20)\n"
          ]
        },
        {
          "output_type": "stream",
          "name": "stderr",
          "text": [
            "SUBMIT:   0%|          | 0/150 [elapsed: 00:00 remaining: ?]"
          ]
        },
        {
          "output_type": "stream",
          "name": "stdout",
          "text": [
            "2025-04-10 19:55:20,683 Sleeping for 10s. Reason: RATELIMIT\n"
          ]
        },
        {
          "output_type": "stream",
          "name": "stderr",
          "text": [
            "SUBMIT:   0%|          | 0/150 [elapsed: 00:11 remaining: ?]"
          ]
        },
        {
          "output_type": "stream",
          "name": "stdout",
          "text": [
            "2025-04-10 19:55:31,362 Sleeping for 5s. Reason: RATELIMIT\n"
          ]
        },
        {
          "output_type": "stream",
          "name": "stderr",
          "text": [
            "SUBMIT:   0%|          | 0/150 [elapsed: 00:17 remaining: ?]"
          ]
        },
        {
          "output_type": "stream",
          "name": "stdout",
          "text": [
            "2025-04-10 19:55:37,050 Sleeping for 9s. Reason: RATELIMIT\n"
          ]
        },
        {
          "output_type": "stream",
          "name": "stderr",
          "text": [
            "SUBMIT:   0%|          | 0/150 [elapsed: 00:26 remaining: ?]"
          ]
        },
        {
          "output_type": "stream",
          "name": "stdout",
          "text": [
            "2025-04-10 19:55:46,731 Sleeping for 10s. Reason: RATELIMIT\n"
          ]
        },
        {
          "output_type": "stream",
          "name": "stderr",
          "text": [
            "SUBMIT:   0%|          | 0/150 [elapsed: 00:37 remaining: ?]"
          ]
        },
        {
          "output_type": "stream",
          "name": "stdout",
          "text": [
            "2025-04-10 19:55:57,413 Sleeping for 7s. Reason: RATELIMIT\n"
          ]
        },
        {
          "output_type": "stream",
          "name": "stderr",
          "text": [
            "SUBMIT:   0%|          | 0/150 [elapsed: 00:45 remaining: ?]"
          ]
        },
        {
          "output_type": "stream",
          "name": "stdout",
          "text": [
            "2025-04-10 19:56:05,099 Sleeping for 5s. Reason: RATELIMIT\n"
          ]
        },
        {
          "output_type": "stream",
          "name": "stderr",
          "text": [
            "SUBMIT:   0%|          | 0/150 [elapsed: 00:50 remaining: ?]"
          ]
        },
        {
          "output_type": "stream",
          "name": "stdout",
          "text": [
            "2025-04-10 19:56:10,781 Sleeping for 7s. Reason: RATELIMIT\n"
          ]
        },
        {
          "output_type": "stream",
          "name": "stderr",
          "text": [
            "SUBMIT:   0%|          | 0/150 [elapsed: 00:58 remaining: ?]"
          ]
        },
        {
          "output_type": "stream",
          "name": "stdout",
          "text": [
            "2025-04-10 19:56:18,466 Sleeping for 10s. Reason: RATELIMIT\n"
          ]
        },
        {
          "output_type": "stream",
          "name": "stderr",
          "text": [
            "PENDING:   0%|          | 0/150 [elapsed: 01:09 remaining: ?]"
          ]
        },
        {
          "output_type": "stream",
          "name": "stdout",
          "text": [
            "2025-04-10 19:56:29,153 Sleeping for 8s. Reason: PENDING\n"
          ]
        },
        {
          "output_type": "stream",
          "name": "stderr",
          "text": [
            "COMPLETE: 100%|██████████| 150/150 [elapsed: 01:18 remaining: 00:00]\n"
          ]
        },
        {
          "output_type": "stream",
          "name": "stdout",
          "text": [
            "2025-04-10 19:56:40,773 alphafold2_ptm_model_1_seed_000 recycle=0 pLDDT=68.7 pTM=0.0589\n",
            "2025-04-10 19:56:41,312 alphafold2_ptm_model_1_seed_000 recycle=1 pLDDT=73.2 pTM=0.0568 tol=0.69\n",
            "2025-04-10 19:56:41,852 alphafold2_ptm_model_1_seed_000 recycle=2 pLDDT=71.3 pTM=0.0588 tol=0.391\n",
            "2025-04-10 19:56:42,391 alphafold2_ptm_model_1_seed_000 recycle=3 pLDDT=70.9 pTM=0.0591 tol=0.145\n",
            "2025-04-10 19:56:42,392 alphafold2_ptm_model_1_seed_000 took 2.2s (3 recycles)\n",
            "2025-04-10 19:56:42,957 alphafold2_ptm_model_2_seed_000 recycle=0 pLDDT=66.9 pTM=0.0551\n",
            "2025-04-10 19:56:43,497 alphafold2_ptm_model_2_seed_000 recycle=1 pLDDT=69.4 pTM=0.054 tol=0.71\n",
            "2025-04-10 19:56:44,037 alphafold2_ptm_model_2_seed_000 recycle=2 pLDDT=71.4 pTM=0.0556 tol=0.301\n",
            "2025-04-10 19:56:44,577 alphafold2_ptm_model_2_seed_000 recycle=3 pLDDT=70.7 pTM=0.055 tol=1.01\n",
            "2025-04-10 19:56:44,578 alphafold2_ptm_model_2_seed_000 took 2.2s (3 recycles)\n",
            "2025-04-10 19:56:45,128 alphafold2_ptm_model_3_seed_000 recycle=0 pLDDT=68.4 pTM=0.0542\n",
            "2025-04-10 19:56:45,669 alphafold2_ptm_model_3_seed_000 recycle=1 pLDDT=73.1 pTM=0.0545 tol=0.747\n",
            "2025-04-10 19:56:46,210 alphafold2_ptm_model_3_seed_000 recycle=2 pLDDT=74.2 pTM=0.0558 tol=0.298\n",
            "2025-04-10 19:56:46,752 alphafold2_ptm_model_3_seed_000 recycle=3 pLDDT=72.9 pTM=0.0537 tol=0.275\n",
            "2025-04-10 19:56:46,753 alphafold2_ptm_model_3_seed_000 took 2.2s (3 recycles)\n",
            "2025-04-10 19:56:47,304 alphafold2_ptm_model_4_seed_000 recycle=0 pLDDT=70.4 pTM=0.0576\n",
            "2025-04-10 19:56:47,846 alphafold2_ptm_model_4_seed_000 recycle=1 pLDDT=74.6 pTM=0.056 tol=0.999\n",
            "2025-04-10 19:56:48,388 alphafold2_ptm_model_4_seed_000 recycle=2 pLDDT=75.3 pTM=0.0568 tol=0.702\n",
            "2025-04-10 19:56:48,928 alphafold2_ptm_model_4_seed_000 recycle=3 pLDDT=75.4 pTM=0.0566 tol=0.751\n",
            "2025-04-10 19:56:48,929 alphafold2_ptm_model_4_seed_000 took 2.2s (3 recycles)\n",
            "2025-04-10 19:56:49,480 alphafold2_ptm_model_5_seed_000 recycle=0 pLDDT=64 pTM=0.0494\n",
            "2025-04-10 19:56:50,022 alphafold2_ptm_model_5_seed_000 recycle=1 pLDDT=70.2 pTM=0.0524 tol=0.5\n",
            "2025-04-10 19:56:50,563 alphafold2_ptm_model_5_seed_000 recycle=2 pLDDT=72.6 pTM=0.0535 tol=0.267\n",
            "2025-04-10 19:56:51,105 alphafold2_ptm_model_5_seed_000 recycle=3 pLDDT=71.6 pTM=0.0533 tol=0.454\n",
            "2025-04-10 19:56:51,105 alphafold2_ptm_model_5_seed_000 took 2.2s (3 recycles)\n",
            "2025-04-10 19:56:51,115 reranking models by 'plddt' metric\n",
            "2025-04-10 19:56:51,115 rank_001_alphafold2_ptm_model_4_seed_000 pLDDT=75.4 pTM=0.0566\n",
            "2025-04-10 19:56:51,118 rank_002_alphafold2_ptm_model_3_seed_000 pLDDT=72.9 pTM=0.0537\n",
            "2025-04-10 19:56:51,120 rank_003_alphafold2_ptm_model_5_seed_000 pLDDT=71.6 pTM=0.0533\n",
            "2025-04-10 19:56:51,122 rank_004_alphafold2_ptm_model_1_seed_000 pLDDT=70.9 pTM=0.0591\n",
            "2025-04-10 19:56:51,125 rank_005_alphafold2_ptm_model_2_seed_000 pLDDT=70.7 pTM=0.055\n",
            "2025-04-10 19:56:52,115 Query 542/8000: sequence_2542 (length 20)\n"
          ]
        },
        {
          "output_type": "stream",
          "name": "stderr",
          "text": [
            "SUBMIT:   0%|          | 0/150 [elapsed: 00:00 remaining: ?]"
          ]
        },
        {
          "output_type": "stream",
          "name": "stdout",
          "text": [
            "2025-04-10 19:56:52,840 Sleeping for 10s. Reason: RATELIMIT\n"
          ]
        },
        {
          "output_type": "stream",
          "name": "stderr",
          "text": [
            "SUBMIT:   0%|          | 0/150 [elapsed: 00:11 remaining: ?]"
          ]
        },
        {
          "output_type": "stream",
          "name": "stdout",
          "text": [
            "2025-04-10 19:57:03,521 Sleeping for 9s. Reason: RATELIMIT\n"
          ]
        },
        {
          "output_type": "stream",
          "name": "stderr",
          "text": [
            "SUBMIT:   0%|          | 0/150 [elapsed: 00:21 remaining: ?]"
          ]
        },
        {
          "output_type": "stream",
          "name": "stdout",
          "text": [
            "2025-04-10 19:57:13,201 Sleeping for 8s. Reason: RATELIMIT\n"
          ]
        },
        {
          "output_type": "stream",
          "name": "stderr",
          "text": [
            "SUBMIT:   0%|          | 0/150 [elapsed: 00:29 remaining: ?]"
          ]
        },
        {
          "output_type": "stream",
          "name": "stdout",
          "text": [
            "2025-04-10 19:57:21,880 Sleeping for 6s. Reason: RATELIMIT\n"
          ]
        },
        {
          "output_type": "stream",
          "name": "stderr",
          "text": [
            "SUBMIT:   0%|          | 0/150 [elapsed: 00:36 remaining: ?]"
          ]
        },
        {
          "output_type": "stream",
          "name": "stdout",
          "text": [
            "2025-04-10 19:57:28,566 Sleeping for 5s. Reason: RATELIMIT\n"
          ]
        },
        {
          "output_type": "stream",
          "name": "stderr",
          "text": [
            "SUBMIT:   0%|          | 0/150 [elapsed: 00:42 remaining: ?]"
          ]
        },
        {
          "output_type": "stream",
          "name": "stdout",
          "text": [
            "2025-04-10 19:57:34,250 Sleeping for 6s. Reason: RATELIMIT\n"
          ]
        },
        {
          "output_type": "stream",
          "name": "stderr",
          "text": [
            "SUBMIT:   0%|          | 0/150 [elapsed: 00:48 remaining: ?]"
          ]
        },
        {
          "output_type": "stream",
          "name": "stdout",
          "text": [
            "2025-04-10 19:57:40,924 Sleeping for 7s. Reason: RATELIMIT\n"
          ]
        },
        {
          "output_type": "stream",
          "name": "stderr",
          "text": [
            "SUBMIT:   0%|          | 0/150 [elapsed: 00:56 remaining: ?]"
          ]
        },
        {
          "output_type": "stream",
          "name": "stdout",
          "text": [
            "2025-04-10 19:57:48,597 Sleeping for 8s. Reason: RATELIMIT\n"
          ]
        },
        {
          "output_type": "stream",
          "name": "stderr",
          "text": [
            "SUBMIT:   0%|          | 0/150 [elapsed: 01:05 remaining: ?]"
          ]
        },
        {
          "output_type": "stream",
          "name": "stdout",
          "text": [
            "2025-04-10 19:57:57,280 Sleeping for 10s. Reason: RATELIMIT\n"
          ]
        },
        {
          "output_type": "stream",
          "name": "stderr",
          "text": [
            "PENDING:   0%|          | 0/150 [elapsed: 01:15 remaining: ?]"
          ]
        },
        {
          "output_type": "stream",
          "name": "stdout",
          "text": [
            "2025-04-10 19:58:07,989 Sleeping for 5s. Reason: PENDING\n"
          ]
        },
        {
          "output_type": "stream",
          "name": "stderr",
          "text": [
            "RUNNING:   3%|▎         | 5/150 [elapsed: 01:21 remaining: 39:25]"
          ]
        },
        {
          "output_type": "stream",
          "name": "stdout",
          "text": [
            "2025-04-10 19:58:13,675 Sleeping for 7s. Reason: RUNNING\n"
          ]
        },
        {
          "output_type": "stream",
          "name": "stderr",
          "text": [
            "COMPLETE: 100%|██████████| 150/150 [elapsed: 01:29 remaining: 00:00]\n"
          ]
        },
        {
          "output_type": "stream",
          "name": "stdout",
          "text": [
            "2025-04-10 19:58:24,301 alphafold2_ptm_model_1_seed_000 recycle=0 pLDDT=64.5 pTM=0.0568\n",
            "2025-04-10 19:58:24,841 alphafold2_ptm_model_1_seed_000 recycle=1 pLDDT=72 pTM=0.0697 tol=0.417\n",
            "2025-04-10 19:58:25,381 alphafold2_ptm_model_1_seed_000 recycle=2 pLDDT=73 pTM=0.0707 tol=0.174\n",
            "2025-04-10 19:58:25,921 alphafold2_ptm_model_1_seed_000 recycle=3 pLDDT=72.1 pTM=0.0699 tol=0.127\n",
            "2025-04-10 19:58:25,922 alphafold2_ptm_model_1_seed_000 took 2.2s (3 recycles)\n",
            "2025-04-10 19:58:26,480 alphafold2_ptm_model_2_seed_000 recycle=0 pLDDT=62.5 pTM=0.0498\n",
            "2025-04-10 19:58:27,019 alphafold2_ptm_model_2_seed_000 recycle=1 pLDDT=63.5 pTM=0.0476 tol=0.865\n",
            "2025-04-10 19:58:27,559 alphafold2_ptm_model_2_seed_000 recycle=2 pLDDT=63.6 pTM=0.0478 tol=0.352\n",
            "2025-04-10 19:58:28,101 alphafold2_ptm_model_2_seed_000 recycle=3 pLDDT=62.2 pTM=0.0474 tol=0.31\n",
            "2025-04-10 19:58:28,102 alphafold2_ptm_model_2_seed_000 took 2.2s (3 recycles)\n",
            "2025-04-10 19:58:28,652 alphafold2_ptm_model_3_seed_000 recycle=0 pLDDT=69.9 pTM=0.0514\n",
            "2025-04-10 19:58:29,193 alphafold2_ptm_model_3_seed_000 recycle=1 pLDDT=68.3 pTM=0.0483 tol=0.362\n",
            "2025-04-10 19:58:29,734 alphafold2_ptm_model_3_seed_000 recycle=2 pLDDT=66.1 pTM=0.046 tol=1\n",
            "2025-04-10 19:58:30,275 alphafold2_ptm_model_3_seed_000 recycle=3 pLDDT=65.1 pTM=0.0458 tol=1.35\n",
            "2025-04-10 19:58:30,275 alphafold2_ptm_model_3_seed_000 took 2.2s (3 recycles)\n",
            "2025-04-10 19:58:30,826 alphafold2_ptm_model_4_seed_000 recycle=0 pLDDT=69.8 pTM=0.0475\n",
            "2025-04-10 19:58:31,367 alphafold2_ptm_model_4_seed_000 recycle=1 pLDDT=66.8 pTM=0.0461 tol=0.701\n",
            "2025-04-10 19:58:31,909 alphafold2_ptm_model_4_seed_000 recycle=2 pLDDT=66 pTM=0.0463 tol=0.232\n",
            "2025-04-10 19:58:32,450 alphafold2_ptm_model_4_seed_000 recycle=3 pLDDT=64.5 pTM=0.0469 tol=0.736\n",
            "2025-04-10 19:58:32,450 alphafold2_ptm_model_4_seed_000 took 2.2s (3 recycles)\n",
            "2025-04-10 19:58:33,002 alphafold2_ptm_model_5_seed_000 recycle=0 pLDDT=78.2 pTM=0.0718\n",
            "2025-04-10 19:58:33,544 alphafold2_ptm_model_5_seed_000 recycle=1 pLDDT=81.4 pTM=0.0759 tol=0.38\n",
            "2025-04-10 19:58:34,086 alphafold2_ptm_model_5_seed_000 recycle=2 pLDDT=81.4 pTM=0.0756 tol=0.146\n",
            "2025-04-10 19:58:34,628 alphafold2_ptm_model_5_seed_000 recycle=3 pLDDT=80.2 pTM=0.074 tol=0.16\n",
            "2025-04-10 19:58:34,628 alphafold2_ptm_model_5_seed_000 took 2.2s (3 recycles)\n",
            "2025-04-10 19:58:34,638 reranking models by 'plddt' metric\n",
            "2025-04-10 19:58:34,638 rank_001_alphafold2_ptm_model_5_seed_000 pLDDT=80.2 pTM=0.074\n",
            "2025-04-10 19:58:34,641 rank_002_alphafold2_ptm_model_1_seed_000 pLDDT=72.1 pTM=0.0699\n",
            "2025-04-10 19:58:34,643 rank_003_alphafold2_ptm_model_3_seed_000 pLDDT=65.1 pTM=0.0458\n",
            "2025-04-10 19:58:34,645 rank_004_alphafold2_ptm_model_4_seed_000 pLDDT=64.5 pTM=0.0469\n",
            "2025-04-10 19:58:34,648 rank_005_alphafold2_ptm_model_2_seed_000 pLDDT=62.2 pTM=0.0474\n",
            "2025-04-10 19:58:35,633 Query 543/8000: sequence_2543 (length 20)\n"
          ]
        },
        {
          "output_type": "stream",
          "name": "stderr",
          "text": [
            "SUBMIT:   0%|          | 0/150 [elapsed: 00:00 remaining: ?]"
          ]
        },
        {
          "output_type": "stream",
          "name": "stdout",
          "text": [
            "2025-04-10 19:58:36,309 Sleeping for 9s. Reason: RATELIMIT\n"
          ]
        },
        {
          "output_type": "stream",
          "name": "stderr",
          "text": [
            "SUBMIT:   0%|          | 0/150 [elapsed: 00:10 remaining: ?]"
          ]
        },
        {
          "output_type": "stream",
          "name": "stdout",
          "text": [
            "2025-04-10 19:58:45,995 Sleeping for 5s. Reason: RATELIMIT\n"
          ]
        },
        {
          "output_type": "stream",
          "name": "stderr",
          "text": [
            "SUBMIT:   0%|          | 0/150 [elapsed: 00:16 remaining: ?]"
          ]
        },
        {
          "output_type": "stream",
          "name": "stdout",
          "text": [
            "2025-04-10 19:58:51,679 Sleeping for 7s. Reason: RATELIMIT\n"
          ]
        },
        {
          "output_type": "stream",
          "name": "stderr",
          "text": [
            "SUBMIT:   0%|          | 0/150 [elapsed: 00:23 remaining: ?]"
          ]
        },
        {
          "output_type": "stream",
          "name": "stdout",
          "text": [
            "2025-04-10 19:58:59,359 Sleeping for 5s. Reason: RATELIMIT\n"
          ]
        },
        {
          "output_type": "stream",
          "name": "stderr",
          "text": [
            "SUBMIT:   0%|          | 0/150 [elapsed: 00:29 remaining: ?]"
          ]
        },
        {
          "output_type": "stream",
          "name": "stdout",
          "text": [
            "2025-04-10 19:59:05,049 Sleeping for 10s. Reason: RATELIMIT\n"
          ]
        },
        {
          "output_type": "stream",
          "name": "stderr",
          "text": [
            "SUBMIT:   0%|          | 0/150 [elapsed: 00:40 remaining: ?]"
          ]
        },
        {
          "output_type": "stream",
          "name": "stdout",
          "text": [
            "2025-04-10 19:59:15,885 Sleeping for 7s. Reason: RATELIMIT\n"
          ]
        },
        {
          "output_type": "stream",
          "name": "stderr",
          "text": [
            "SUBMIT:   0%|          | 0/150 [elapsed: 00:47 remaining: ?]"
          ]
        },
        {
          "output_type": "stream",
          "name": "stdout",
          "text": [
            "2025-04-10 19:59:23,562 Sleeping for 9s. Reason: RATELIMIT\n"
          ]
        },
        {
          "output_type": "stream",
          "name": "stderr",
          "text": [
            "SUBMIT:   0%|          | 0/150 [elapsed: 00:57 remaining: ?]"
          ]
        },
        {
          "output_type": "stream",
          "name": "stdout",
          "text": [
            "2025-04-10 19:59:33,236 Sleeping for 7s. Reason: RATELIMIT\n"
          ]
        },
        {
          "output_type": "stream",
          "name": "stderr",
          "text": [
            "SUBMIT:   0%|          | 0/150 [elapsed: 01:05 remaining: ?]"
          ]
        },
        {
          "output_type": "stream",
          "name": "stdout",
          "text": [
            "2025-04-10 19:59:40,917 Sleeping for 10s. Reason: RATELIMIT\n"
          ]
        },
        {
          "output_type": "stream",
          "name": "stderr",
          "text": [
            "PENDING:   0%|          | 0/150 [elapsed: 01:15 remaining: ?]"
          ]
        },
        {
          "output_type": "stream",
          "name": "stdout",
          "text": [
            "2025-04-10 19:59:51,607 Sleeping for 9s. Reason: PENDING\n"
          ]
        },
        {
          "output_type": "stream",
          "name": "stderr",
          "text": [
            "RUNNING:   6%|▌         | 9/150 [elapsed: 01:25 remaining: 22:22]"
          ]
        },
        {
          "output_type": "stream",
          "name": "stdout",
          "text": [
            "2025-04-10 20:00:01,331 Sleeping for 9s. Reason: RUNNING\n"
          ]
        },
        {
          "output_type": "stream",
          "name": "stderr",
          "text": [
            "COMPLETE: 100%|██████████| 150/150 [elapsed: 01:36 remaining: 00:00]\n"
          ]
        },
        {
          "output_type": "stream",
          "name": "stdout",
          "text": [
            "2025-04-10 20:00:13,946 alphafold2_ptm_model_1_seed_000 recycle=0 pLDDT=82.8 pTM=0.0924\n",
            "2025-04-10 20:00:14,486 alphafold2_ptm_model_1_seed_000 recycle=1 pLDDT=81.7 pTM=0.0947 tol=0.123\n",
            "2025-04-10 20:00:15,026 alphafold2_ptm_model_1_seed_000 recycle=2 pLDDT=82 pTM=0.0934 tol=0.0894\n",
            "2025-04-10 20:00:15,566 alphafold2_ptm_model_1_seed_000 recycle=3 pLDDT=82.1 pTM=0.0942 tol=0.0383\n",
            "2025-04-10 20:00:15,566 alphafold2_ptm_model_1_seed_000 took 2.2s (3 recycles)\n",
            "2025-04-10 20:00:16,131 alphafold2_ptm_model_2_seed_000 recycle=0 pLDDT=81.2 pTM=0.0948\n",
            "2025-04-10 20:00:16,670 alphafold2_ptm_model_2_seed_000 recycle=1 pLDDT=79.4 pTM=0.0955 tol=0.104\n",
            "2025-04-10 20:00:17,211 alphafold2_ptm_model_2_seed_000 recycle=2 pLDDT=80.8 pTM=0.0954 tol=0.0731\n",
            "2025-04-10 20:00:17,751 alphafold2_ptm_model_2_seed_000 recycle=3 pLDDT=80.7 pTM=0.0959 tol=0.0551\n",
            "2025-04-10 20:00:17,752 alphafold2_ptm_model_2_seed_000 took 2.2s (3 recycles)\n",
            "2025-04-10 20:00:18,302 alphafold2_ptm_model_3_seed_000 recycle=0 pLDDT=81.1 pTM=0.0856\n",
            "2025-04-10 20:00:18,843 alphafold2_ptm_model_3_seed_000 recycle=1 pLDDT=83.2 pTM=0.0917 tol=0.115\n",
            "2025-04-10 20:00:19,384 alphafold2_ptm_model_3_seed_000 recycle=2 pLDDT=84.4 pTM=0.0928 tol=0.05\n",
            "2025-04-10 20:00:19,926 alphafold2_ptm_model_3_seed_000 recycle=3 pLDDT=84.4 pTM=0.0936 tol=0.0449\n",
            "2025-04-10 20:00:19,927 alphafold2_ptm_model_3_seed_000 took 2.2s (3 recycles)\n",
            "2025-04-10 20:00:20,480 alphafold2_ptm_model_4_seed_000 recycle=0 pLDDT=88.1 pTM=0.104\n",
            "2025-04-10 20:00:21,023 alphafold2_ptm_model_4_seed_000 recycle=1 pLDDT=87.6 pTM=0.103 tol=0.0721\n",
            "2025-04-10 20:00:21,564 alphafold2_ptm_model_4_seed_000 recycle=2 pLDDT=88.2 pTM=0.104 tol=0.0587\n",
            "2025-04-10 20:00:22,107 alphafold2_ptm_model_4_seed_000 recycle=3 pLDDT=88.5 pTM=0.104 tol=0.0183\n",
            "2025-04-10 20:00:22,108 alphafold2_ptm_model_4_seed_000 took 2.2s (3 recycles)\n",
            "2025-04-10 20:00:22,659 alphafold2_ptm_model_5_seed_000 recycle=0 pLDDT=84.2 pTM=0.1\n",
            "2025-04-10 20:00:23,200 alphafold2_ptm_model_5_seed_000 recycle=1 pLDDT=85.1 pTM=0.103 tol=0.647\n",
            "2025-04-10 20:00:23,742 alphafold2_ptm_model_5_seed_000 recycle=2 pLDDT=86.2 pTM=0.102 tol=0.23\n",
            "2025-04-10 20:00:24,285 alphafold2_ptm_model_5_seed_000 recycle=3 pLDDT=87.1 pTM=0.104 tol=0.52\n",
            "2025-04-10 20:00:24,286 alphafold2_ptm_model_5_seed_000 took 2.2s (3 recycles)\n",
            "2025-04-10 20:00:24,296 reranking models by 'plddt' metric\n",
            "2025-04-10 20:00:24,296 rank_001_alphafold2_ptm_model_4_seed_000 pLDDT=88.5 pTM=0.104\n",
            "2025-04-10 20:00:24,298 rank_002_alphafold2_ptm_model_5_seed_000 pLDDT=87.1 pTM=0.104\n",
            "2025-04-10 20:00:24,301 rank_003_alphafold2_ptm_model_3_seed_000 pLDDT=84.4 pTM=0.0936\n",
            "2025-04-10 20:00:24,303 rank_004_alphafold2_ptm_model_1_seed_000 pLDDT=82.1 pTM=0.0942\n",
            "2025-04-10 20:00:24,305 rank_005_alphafold2_ptm_model_2_seed_000 pLDDT=80.7 pTM=0.0959\n",
            "2025-04-10 20:00:25,285 Query 544/8000: sequence_2544 (length 20)\n"
          ]
        },
        {
          "output_type": "stream",
          "name": "stderr",
          "text": [
            "SUBMIT:   0%|          | 0/150 [elapsed: 00:00 remaining: ?]"
          ]
        },
        {
          "output_type": "stream",
          "name": "stdout",
          "text": [
            "2025-04-10 20:00:25,972 Sleeping for 8s. Reason: RATELIMIT\n"
          ]
        },
        {
          "output_type": "stream",
          "name": "stderr",
          "text": [
            "SUBMIT:   0%|          | 0/150 [elapsed: 00:09 remaining: ?]"
          ]
        },
        {
          "output_type": "stream",
          "name": "stdout",
          "text": [
            "2025-04-10 20:00:34,659 Sleeping for 6s. Reason: RATELIMIT\n"
          ]
        },
        {
          "output_type": "stream",
          "name": "stderr",
          "text": [
            "SUBMIT:   0%|          | 0/150 [elapsed: 00:16 remaining: ?]"
          ]
        },
        {
          "output_type": "stream",
          "name": "stdout",
          "text": [
            "2025-04-10 20:00:41,334 Sleeping for 5s. Reason: RATELIMIT\n"
          ]
        },
        {
          "output_type": "stream",
          "name": "stderr",
          "text": [
            "SUBMIT:   0%|          | 0/150 [elapsed: 00:21 remaining: ?]"
          ]
        },
        {
          "output_type": "stream",
          "name": "stdout",
          "text": [
            "2025-04-10 20:00:47,012 Sleeping for 9s. Reason: RATELIMIT\n"
          ]
        },
        {
          "output_type": "stream",
          "name": "stderr",
          "text": [
            "SUBMIT:   0%|          | 0/150 [elapsed: 00:31 remaining: ?]"
          ]
        },
        {
          "output_type": "stream",
          "name": "stdout",
          "text": [
            "2025-04-10 20:00:56,696 Sleeping for 8s. Reason: RATELIMIT\n"
          ]
        },
        {
          "output_type": "stream",
          "name": "stderr",
          "text": [
            "SUBMIT:   0%|          | 0/150 [elapsed: 00:40 remaining: ?]"
          ]
        },
        {
          "output_type": "stream",
          "name": "stdout",
          "text": [
            "2025-04-10 20:01:05,383 Sleeping for 9s. Reason: RATELIMIT\n"
          ]
        },
        {
          "output_type": "stream",
          "name": "stderr",
          "text": [
            "SUBMIT:   0%|          | 0/150 [elapsed: 00:49 remaining: ?]"
          ]
        },
        {
          "output_type": "stream",
          "name": "stdout",
          "text": [
            "2025-04-10 20:01:15,071 Sleeping for 5s. Reason: RATELIMIT\n"
          ]
        },
        {
          "output_type": "stream",
          "name": "stderr",
          "text": [
            "SUBMIT:   0%|          | 0/150 [elapsed: 00:55 remaining: ?]"
          ]
        },
        {
          "output_type": "stream",
          "name": "stdout",
          "text": [
            "2025-04-10 20:01:20,750 Sleeping for 7s. Reason: RATELIMIT\n"
          ]
        },
        {
          "output_type": "stream",
          "name": "stderr",
          "text": [
            "PENDING:   0%|          | 0/150 [elapsed: 01:03 remaining: ?]"
          ]
        },
        {
          "output_type": "stream",
          "name": "stdout",
          "text": [
            "2025-04-10 20:01:28,442 Sleeping for 6s. Reason: PENDING\n"
          ]
        },
        {
          "output_type": "stream",
          "name": "stderr",
          "text": [
            "RUNNING:   4%|▍         | 6/150 [elapsed: 01:09 remaining: 27:56]"
          ]
        },
        {
          "output_type": "stream",
          "name": "stdout",
          "text": [
            "2025-04-10 20:01:35,129 Sleeping for 9s. Reason: RUNNING\n"
          ]
        },
        {
          "output_type": "stream",
          "name": "stderr",
          "text": [
            "COMPLETE: 100%|██████████| 150/150 [elapsed: 01:20 remaining: 00:00]\n"
          ]
        },
        {
          "output_type": "stream",
          "name": "stdout",
          "text": [
            "2025-04-10 20:01:47,754 alphafold2_ptm_model_1_seed_000 recycle=0 pLDDT=57.5 pTM=0.0517\n",
            "2025-04-10 20:01:48,294 alphafold2_ptm_model_1_seed_000 recycle=1 pLDDT=58.6 pTM=0.056 tol=1.17\n",
            "2025-04-10 20:01:48,834 alphafold2_ptm_model_1_seed_000 recycle=2 pLDDT=59.2 pTM=0.0583 tol=0.253\n",
            "2025-04-10 20:01:49,374 alphafold2_ptm_model_1_seed_000 recycle=3 pLDDT=58.6 pTM=0.0572 tol=0.704\n",
            "2025-04-10 20:01:49,374 alphafold2_ptm_model_1_seed_000 took 2.2s (3 recycles)\n",
            "2025-04-10 20:01:49,938 alphafold2_ptm_model_2_seed_000 recycle=0 pLDDT=56.7 pTM=0.0557\n",
            "2025-04-10 20:01:50,477 alphafold2_ptm_model_2_seed_000 recycle=1 pLDDT=58.9 pTM=0.0609 tol=0.509\n",
            "2025-04-10 20:01:51,017 alphafold2_ptm_model_2_seed_000 recycle=2 pLDDT=59.1 pTM=0.0604 tol=0.189\n",
            "2025-04-10 20:01:51,557 alphafold2_ptm_model_2_seed_000 recycle=3 pLDDT=58.9 pTM=0.0574 tol=0.699\n",
            "2025-04-10 20:01:51,558 alphafold2_ptm_model_2_seed_000 took 2.2s (3 recycles)\n",
            "2025-04-10 20:01:52,107 alphafold2_ptm_model_3_seed_000 recycle=0 pLDDT=56.3 pTM=0.0475\n",
            "2025-04-10 20:01:52,646 alphafold2_ptm_model_3_seed_000 recycle=1 pLDDT=57.8 pTM=0.0479 tol=1.57\n",
            "2025-04-10 20:01:53,186 alphafold2_ptm_model_3_seed_000 recycle=2 pLDDT=58.8 pTM=0.049 tol=0.163\n",
            "2025-04-10 20:01:53,726 alphafold2_ptm_model_3_seed_000 recycle=3 pLDDT=61.7 pTM=0.0525 tol=1.17\n",
            "2025-04-10 20:01:53,727 alphafold2_ptm_model_3_seed_000 took 2.2s (3 recycles)\n",
            "2025-04-10 20:01:54,277 alphafold2_ptm_model_4_seed_000 recycle=0 pLDDT=58.7 pTM=0.0504\n",
            "2025-04-10 20:01:54,819 alphafold2_ptm_model_4_seed_000 recycle=1 pLDDT=57.5 pTM=0.0499 tol=0.305\n",
            "2025-04-10 20:01:55,361 alphafold2_ptm_model_4_seed_000 recycle=2 pLDDT=56.8 pTM=0.0498 tol=0.454\n",
            "2025-04-10 20:01:55,901 alphafold2_ptm_model_4_seed_000 recycle=3 pLDDT=57.1 pTM=0.0504 tol=0.518\n",
            "2025-04-10 20:01:55,901 alphafold2_ptm_model_4_seed_000 took 2.2s (3 recycles)\n",
            "2025-04-10 20:01:56,453 alphafold2_ptm_model_5_seed_000 recycle=0 pLDDT=63.5 pTM=0.0561\n",
            "2025-04-10 20:01:56,994 alphafold2_ptm_model_5_seed_000 recycle=1 pLDDT=62.2 pTM=0.0545 tol=0.304\n",
            "2025-04-10 20:01:57,536 alphafold2_ptm_model_5_seed_000 recycle=2 pLDDT=60.3 pTM=0.0526 tol=0.0864\n",
            "2025-04-10 20:01:58,078 alphafold2_ptm_model_5_seed_000 recycle=3 pLDDT=60.2 pTM=0.0528 tol=0.159\n",
            "2025-04-10 20:01:58,079 alphafold2_ptm_model_5_seed_000 took 2.2s (3 recycles)\n",
            "2025-04-10 20:01:58,088 reranking models by 'plddt' metric\n",
            "2025-04-10 20:01:58,088 rank_001_alphafold2_ptm_model_3_seed_000 pLDDT=61.7 pTM=0.0525\n",
            "2025-04-10 20:01:58,091 rank_002_alphafold2_ptm_model_5_seed_000 pLDDT=60.2 pTM=0.0528\n",
            "2025-04-10 20:01:58,094 rank_003_alphafold2_ptm_model_2_seed_000 pLDDT=58.9 pTM=0.0574\n",
            "2025-04-10 20:01:58,097 rank_004_alphafold2_ptm_model_1_seed_000 pLDDT=58.6 pTM=0.0572\n",
            "2025-04-10 20:01:58,100 rank_005_alphafold2_ptm_model_4_seed_000 pLDDT=57.1 pTM=0.0504\n",
            "2025-04-10 20:01:59,081 Query 545/8000: sequence_2545 (length 20)\n"
          ]
        },
        {
          "output_type": "stream",
          "name": "stderr",
          "text": [
            "SUBMIT:   0%|          | 0/150 [elapsed: 00:00 remaining: ?]"
          ]
        },
        {
          "output_type": "stream",
          "name": "stdout",
          "text": [
            "2025-04-10 20:01:59,768 Sleeping for 5s. Reason: RATELIMIT\n"
          ]
        },
        {
          "output_type": "stream",
          "name": "stderr",
          "text": [
            "SUBMIT:   0%|          | 0/150 [elapsed: 00:06 remaining: ?]"
          ]
        },
        {
          "output_type": "stream",
          "name": "stdout",
          "text": [
            "2025-04-10 20:02:05,447 Sleeping for 10s. Reason: RATELIMIT\n"
          ]
        },
        {
          "output_type": "stream",
          "name": "stderr",
          "text": [
            "SUBMIT:   0%|          | 0/150 [elapsed: 00:17 remaining: ?]"
          ]
        },
        {
          "output_type": "stream",
          "name": "stdout",
          "text": [
            "2025-04-10 20:02:16,127 Sleeping for 5s. Reason: RATELIMIT\n"
          ]
        },
        {
          "output_type": "stream",
          "name": "stderr",
          "text": [
            "SUBMIT:   0%|          | 0/150 [elapsed: 00:22 remaining: ?]"
          ]
        },
        {
          "output_type": "stream",
          "name": "stdout",
          "text": [
            "2025-04-10 20:02:21,812 Sleeping for 6s. Reason: RATELIMIT\n"
          ]
        },
        {
          "output_type": "stream",
          "name": "stderr",
          "text": [
            "SUBMIT:   0%|          | 0/150 [elapsed: 00:29 remaining: ?]"
          ]
        },
        {
          "output_type": "stream",
          "name": "stdout",
          "text": [
            "2025-04-10 20:02:28,496 Sleeping for 9s. Reason: RATELIMIT\n"
          ]
        },
        {
          "output_type": "stream",
          "name": "stderr",
          "text": [
            "SUBMIT:   0%|          | 0/150 [elapsed: 00:39 remaining: ?]"
          ]
        },
        {
          "output_type": "stream",
          "name": "stdout",
          "text": [
            "2025-04-10 20:02:38,185 Sleeping for 6s. Reason: RATELIMIT\n"
          ]
        },
        {
          "output_type": "stream",
          "name": "stderr",
          "text": [
            "SUBMIT:   0%|          | 0/150 [elapsed: 00:45 remaining: ?]"
          ]
        },
        {
          "output_type": "stream",
          "name": "stdout",
          "text": [
            "2025-04-10 20:02:44,856 Sleeping for 10s. Reason: RATELIMIT\n"
          ]
        },
        {
          "output_type": "stream",
          "name": "stderr",
          "text": [
            "SUBMIT:   0%|          | 0/150 [elapsed: 00:56 remaining: ?]"
          ]
        },
        {
          "output_type": "stream",
          "name": "stdout",
          "text": [
            "2025-04-10 20:02:55,538 Sleeping for 8s. Reason: RATELIMIT\n"
          ]
        },
        {
          "output_type": "stream",
          "name": "stderr",
          "text": [
            "PENDING:   0%|          | 0/150 [elapsed: 01:05 remaining: ?]"
          ]
        },
        {
          "output_type": "stream",
          "name": "stdout",
          "text": [
            "2025-04-10 20:03:04,222 Sleeping for 9s. Reason: PENDING\n"
          ]
        },
        {
          "output_type": "stream",
          "name": "stderr",
          "text": [
            "RUNNING:   6%|▌         | 9/150 [elapsed: 01:14 remaining: 19:32]"
          ]
        },
        {
          "output_type": "stream",
          "name": "stdout",
          "text": [
            "2025-04-10 20:03:13,904 Sleeping for 5s. Reason: RUNNING\n"
          ]
        },
        {
          "output_type": "stream",
          "name": "stderr",
          "text": [
            "COMPLETE: 100%|██████████| 150/150 [elapsed: 01:21 remaining: 00:00]\n"
          ]
        },
        {
          "output_type": "stream",
          "name": "stdout",
          "text": [
            "2025-04-10 20:03:22,542 alphafold2_ptm_model_1_seed_000 recycle=0 pLDDT=82.8 pTM=0.0933\n",
            "2025-04-10 20:03:23,083 alphafold2_ptm_model_1_seed_000 recycle=1 pLDDT=82.2 pTM=0.0945 tol=0.303\n",
            "2025-04-10 20:03:23,624 alphafold2_ptm_model_1_seed_000 recycle=2 pLDDT=83.4 pTM=0.0958 tol=0.429\n",
            "2025-04-10 20:03:24,164 alphafold2_ptm_model_1_seed_000 recycle=3 pLDDT=81.9 pTM=0.0952 tol=0.451\n",
            "2025-04-10 20:03:24,165 alphafold2_ptm_model_1_seed_000 took 2.2s (3 recycles)\n",
            "2025-04-10 20:03:24,725 alphafold2_ptm_model_2_seed_000 recycle=0 pLDDT=75.5 pTM=0.0864\n",
            "2025-04-10 20:03:25,266 alphafold2_ptm_model_2_seed_000 recycle=1 pLDDT=74.7 pTM=0.0853 tol=0.172\n",
            "2025-04-10 20:03:25,806 alphafold2_ptm_model_2_seed_000 recycle=2 pLDDT=76.4 pTM=0.0873 tol=0.0784\n",
            "2025-04-10 20:03:26,348 alphafold2_ptm_model_2_seed_000 recycle=3 pLDDT=74 pTM=0.0853 tol=0.112\n",
            "2025-04-10 20:03:26,348 alphafold2_ptm_model_2_seed_000 took 2.2s (3 recycles)\n",
            "2025-04-10 20:03:26,900 alphafold2_ptm_model_3_seed_000 recycle=0 pLDDT=75.9 pTM=0.08\n",
            "2025-04-10 20:03:27,441 alphafold2_ptm_model_3_seed_000 recycle=1 pLDDT=65.8 pTM=0.0636 tol=0.377\n",
            "2025-04-10 20:03:27,981 alphafold2_ptm_model_3_seed_000 recycle=2 pLDDT=72.2 pTM=0.071 tol=0.315\n",
            "2025-04-10 20:03:28,522 alphafold2_ptm_model_3_seed_000 recycle=3 pLDDT=79.3 pTM=0.0828 tol=0.531\n",
            "2025-04-10 20:03:28,523 alphafold2_ptm_model_3_seed_000 took 2.2s (3 recycles)\n",
            "2025-04-10 20:03:29,075 alphafold2_ptm_model_4_seed_000 recycle=0 pLDDT=55.4 pTM=0.0506\n",
            "2025-04-10 20:03:29,616 alphafold2_ptm_model_4_seed_000 recycle=1 pLDDT=59.7 pTM=0.061 tol=1.14\n",
            "2025-04-10 20:03:30,158 alphafold2_ptm_model_4_seed_000 recycle=2 pLDDT=64.2 pTM=0.0702 tol=0.245\n",
            "2025-04-10 20:03:30,700 alphafold2_ptm_model_4_seed_000 recycle=3 pLDDT=65.7 pTM=0.0723 tol=0.286\n",
            "2025-04-10 20:03:30,700 alphafold2_ptm_model_4_seed_000 took 2.2s (3 recycles)\n",
            "2025-04-10 20:03:31,252 alphafold2_ptm_model_5_seed_000 recycle=0 pLDDT=87.7 pTM=0.0981\n",
            "2025-04-10 20:03:31,796 alphafold2_ptm_model_5_seed_000 recycle=1 pLDDT=85.8 pTM=0.0997 tol=0.129\n",
            "2025-04-10 20:03:32,339 alphafold2_ptm_model_5_seed_000 recycle=2 pLDDT=86.6 pTM=0.101 tol=0.0436\n",
            "2025-04-10 20:03:32,881 alphafold2_ptm_model_5_seed_000 recycle=3 pLDDT=85.5 pTM=0.0998 tol=0.082\n",
            "2025-04-10 20:03:32,882 alphafold2_ptm_model_5_seed_000 took 2.2s (3 recycles)\n",
            "2025-04-10 20:03:32,893 reranking models by 'plddt' metric\n",
            "2025-04-10 20:03:32,894 rank_001_alphafold2_ptm_model_5_seed_000 pLDDT=85.5 pTM=0.0998\n",
            "2025-04-10 20:03:32,896 rank_002_alphafold2_ptm_model_1_seed_000 pLDDT=81.9 pTM=0.0952\n",
            "2025-04-10 20:03:32,899 rank_003_alphafold2_ptm_model_3_seed_000 pLDDT=79.3 pTM=0.0828\n",
            "2025-04-10 20:03:32,902 rank_004_alphafold2_ptm_model_2_seed_000 pLDDT=74 pTM=0.0853\n",
            "2025-04-10 20:03:32,904 rank_005_alphafold2_ptm_model_4_seed_000 pLDDT=65.7 pTM=0.0723\n",
            "2025-04-10 20:03:35,782 Query 546/8000: sequence_2546 (length 20)\n"
          ]
        },
        {
          "output_type": "stream",
          "name": "stderr",
          "text": [
            "SUBMIT:   0%|          | 0/150 [elapsed: 00:00 remaining: ?]"
          ]
        },
        {
          "output_type": "stream",
          "name": "stdout",
          "text": [
            "2025-04-10 20:03:36,462 Sleeping for 5s. Reason: RATELIMIT\n"
          ]
        },
        {
          "output_type": "stream",
          "name": "stderr",
          "text": [
            "SUBMIT:   0%|          | 0/150 [elapsed: 00:06 remaining: ?]"
          ]
        },
        {
          "output_type": "stream",
          "name": "stdout",
          "text": [
            "2025-04-10 20:03:42,143 Sleeping for 7s. Reason: RATELIMIT\n"
          ]
        },
        {
          "output_type": "stream",
          "name": "stderr",
          "text": [
            "SUBMIT:   0%|          | 0/150 [elapsed: 00:14 remaining: ?]"
          ]
        },
        {
          "output_type": "stream",
          "name": "stdout",
          "text": [
            "2025-04-10 20:03:49,820 Sleeping for 8s. Reason: RATELIMIT\n"
          ]
        },
        {
          "output_type": "stream",
          "name": "stderr",
          "text": [
            "SUBMIT:   0%|          | 0/150 [elapsed: 00:22 remaining: ?]"
          ]
        },
        {
          "output_type": "stream",
          "name": "stdout",
          "text": [
            "2025-04-10 20:03:58,499 Sleeping for 5s. Reason: RATELIMIT\n"
          ]
        },
        {
          "output_type": "stream",
          "name": "stderr",
          "text": [
            "SUBMIT:   0%|          | 0/150 [elapsed: 00:28 remaining: ?]"
          ]
        },
        {
          "output_type": "stream",
          "name": "stdout",
          "text": [
            "2025-04-10 20:04:04,182 Sleeping for 7s. Reason: RATELIMIT\n"
          ]
        },
        {
          "output_type": "stream",
          "name": "stderr",
          "text": [
            "SUBMIT:   0%|          | 0/150 [elapsed: 00:36 remaining: ?]"
          ]
        },
        {
          "output_type": "stream",
          "name": "stdout",
          "text": [
            "2025-04-10 20:04:11,867 Sleeping for 7s. Reason: RATELIMIT\n"
          ]
        },
        {
          "output_type": "stream",
          "name": "stderr",
          "text": [
            "SUBMIT:   0%|          | 0/150 [elapsed: 00:43 remaining: ?]"
          ]
        },
        {
          "output_type": "stream",
          "name": "stdout",
          "text": [
            "2025-04-10 20:04:19,550 Sleeping for 5s. Reason: RATELIMIT\n"
          ]
        }
      ]
    },
    {
      "cell_type": "markdown",
      "metadata": {
        "id": "UGUBLzB3C6WN"
      },
      "source": [
        "# Instructions <a name=\"Instructions\"></a>\n",
        "**Quick start**\n",
        "1. Upload your single fasta files to a folder in your Google Drive\n",
        "2. Define path to the fold containing the fasta files (`input_dir`) define an outdir (`output_dir`)\n",
        "3. Press \"Runtime\" -> \"Run all\".\n",
        "\n",
        "**Result zip file contents**\n",
        "\n",
        "At the end of the job a all results `jobname.result.zip` will be uploaded to your (`output_dir`) Google Drive. Each zip contains one protein.\n",
        "\n",
        "1. PDB formatted structures sorted by avg. pIDDT. (unrelaxed and relaxed if `use_amber` is enabled).\n",
        "2. Plots of the model quality.\n",
        "3. Plots of the MSA coverage.\n",
        "4. Parameter log file.\n",
        "5. A3M formatted input MSA.\n",
        "6. BibTeX file with citations for all used tools and databases.\n",
        "\n",
        "\n",
        "**Troubleshooting**\n",
        "* Check that the runtime type is set to GPU at \"Runtime\" -> \"Change runtime type\".\n",
        "* Try to restart the session \"Runtime\" -> \"Factory reset runtime\".\n",
        "* Check your input sequence.\n",
        "\n",
        "**Known issues**\n",
        "* Google Colab assigns different types of GPUs with varying amount of memory. Some might not have enough memory to predict the structure for a long sequence.\n",
        "* Google Colab assigns different types of GPUs with varying amount of memory. Some might not have enough memory to predict the structure for a long sequence.\n",
        "* Your browser can block the pop-up for downloading the result file. You can choose the `save_to_google_drive` option to upload to Google Drive instead or manually download the result file: Click on the little folder icon to the left, navigate to file: `jobname.result.zip`, right-click and select \\\"Download\\\" (see [screenshot](https://pbs.twimg.com/media/E6wRW2lWUAEOuoe?format=jpg&name=small)).\n",
        "\n",
        "**Limitations**\n",
        "* Computing resources: Our MMseqs2 API can handle ~20-50k requests per day.\n",
        "* MSAs: MMseqs2 is very precise and sensitive but might find less hits compared to HHblits/HMMer searched against BFD or Mgnify.\n",
        "* We recommend to additionally use the full [AlphaFold2 pipeline](https://github.com/deepmind/alphafold).\n",
        "\n",
        "**Description of the plots**\n",
        "*   **Number of sequences per position** - We want to see at least 30 sequences per position, for best performance, ideally 100 sequences.\n",
        "*   **Predicted lDDT per position** - model confidence (out of 100) at each position. The higher the better.\n",
        "*   **Predicted Alignment Error** - For homooligomers, this could be a useful metric to assess how confident the model is about the interface. The lower the better.\n",
        "\n",
        "**Bugs**\n",
        "- If you encounter any bugs, please report the issue to https://github.com/sokrypton/ColabFold/issues\n",
        "\n",
        "**License**\n",
        "\n",
        "The source code of ColabFold is licensed under [MIT](https://raw.githubusercontent.com/sokrypton/ColabFold/main/LICENSE). Additionally, this notebook uses AlphaFold2 source code and its parameters licensed under [Apache 2.0](https://raw.githubusercontent.com/deepmind/alphafold/main/LICENSE) and  [CC BY 4.0](https://creativecommons.org/licenses/by-sa/4.0/) respectively. Read more about the AlphaFold license [here](https://github.com/deepmind/alphafold).\n",
        "\n",
        "**Acknowledgments**\n",
        "- We thank the AlphaFold team for developing an excellent model and open sourcing the software.\n",
        "\n",
        "- Do-Yoon Kim for creating the ColabFold logo.\n",
        "\n",
        "- A colab by Sergey Ovchinnikov ([@sokrypton](https://twitter.com/sokrypton)), Milot Mirdita ([@milot_mirdita](https://twitter.com/milot_mirdita)) and Martin Steinegger ([@thesteinegger](https://twitter.com/thesteinegger)).\n"
      ]
    }
  ]
}